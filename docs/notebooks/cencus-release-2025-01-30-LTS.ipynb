{
 "cells": [
  {
   "cell_type": "markdown",
   "id": "3e3a6087-4dac-48a6-b0e4-a75ee4378dd9",
   "metadata": {},
   "source": [
    "# Census release 2025-01-30 (LTS)"
   ]
  },
  {
   "cell_type": "code",
   "execution_count": 1,
   "id": "d2831c06",
   "metadata": {},
   "outputs": [
    {
     "name": "stdout",
     "output_type": "stream",
     "text": [
      "\u001b[92m→\u001b[0m initialized lamindb: zethson/run-tests\n",
      "\u001b[0m"
     ]
    }
   ],
   "source": [
    "!lamin init --storage run-tests --modules bionty"
   ]
  },
  {
   "cell_type": "code",
   "execution_count": 2,
   "id": "bfa4b664-dcea-4215-a559-c92b37617b31",
   "metadata": {
    "tags": []
   },
   "outputs": [
    {
     "name": "stdout",
     "output_type": "stream",
     "text": [
      "\u001b[92m→\u001b[0m connected lamindb: zethson/run-tests\n"
     ]
    }
   ],
   "source": [
    "import lamindb as ln\n",
    "import bionty as bt\n",
    "from cellxgene_lamin.dev import get_datasets_from_cxg, get_collections_from_cxg\n",
    "\n",
    "ln.settings.verbosity = \"hint\""
   ]
  },
  {
   "cell_type": "code",
   "execution_count": 3,
   "id": "1c5de4ab-ba6a-4e11-ae16-49826c074bd0",
   "metadata": {
    "tags": []
   },
   "outputs": [],
   "source": [
    "census_version = \"2025-01-30\"\n",
    "previous_release = \"2024-07-01\""
   ]
  },
  {
   "cell_type": "code",
   "execution_count": 4,
   "id": "94744efd-ed8b-464e-ac46-2f14f543fa69",
   "metadata": {
    "tags": []
   },
   "outputs": [
    {
     "data": {
      "text/plain": [
       "S3QueryPath('s3://cellxgene-data-public/cell-census/2025-01-30/h5ads')"
      ]
     },
     "execution_count": 4,
     "metadata": {},
     "output_type": "execute_result"
    }
   ],
   "source": [
    "s3path = f\"s3://cellxgene-data-public/cell-census/{census_version}/h5ads\"\n",
    "ln.UPath(s3path)"
   ]
  },
  {
   "cell_type": "code",
   "execution_count": 5,
   "id": "12447dc1-67ce-4cbe-9e3a-4a15c55287a6",
   "metadata": {
    "scrolled": true
   },
   "outputs": [
    {
     "name": "stdout",
     "output_type": "stream",
     "text": [
      "0 sub-directories & 1573 files with suffixes '.h5ad'\n",
      "s3://cellxgene-data-public/cell-census/2025-01-30/h5ads\n",
      "├── 00099d5e-154f-4a7a-aa8d-fa30c8c0c43c.h5ad\n",
      "├── 001b01fe-5c70-4bda-a3aa-ee09b7899b14.h5ad\n",
      "├── 0041b9c3-6a49-4bf7-8514-9bc7190067a7.h5ad\n",
      "├── 00476f9f-ebc1-4b72-b541-32f912ce36ea.h5ad\n",
      "├── 00593d17-0693-4646-acad-89dbefba11bb.h5ad\n",
      "├── 0087cde2-967d-4f7c-8e6e-40e4c9ad1891.h5ad\n",
      "├── 00ba8341-48ec-4e4e-bb56-be0dd2dd7913.h5ad\n",
      "├── 00e5dedd-b9b7-43be-8c28-b0e5c6414a62.h5ad\n",
      "├── 00ff600e-6e2e-4d76-846f-0eec4f0ae417.h5ad\n",
      "├── 01209dce-3575-4bed-b1df-129f57fbc031.h5ad\n",
      "├── 0129dbd9-a7d3-4f6b-96b9-1da155a93748.h5ad\n",
      "├── 015c230d-650c-4527-870d-8a805849a382.h5ad\n",
      "├── 019c7af2-c827-4454-9970-44d5e39ce068.h5ad\n",
      "├── 01ad3cd7-3929-4654-84c0-6db05bd5fd59.h5ad\n",
      "├── 01c93cf6-b695-4e30-a26e-121ae8b16a9e.h5ad\n",
      "├── 023ce5da-0dbe-4ad0-a290-b6c21824b101.h5ad\n",
      "├── 023d4d04-4671-4433-af8d-158a05c81d8b.h5ad\n",
      "├── 02419ebc-fd75-4629-ba13-9b26e3be851c.h5ad\n",
      "├── 024593dd-d237-4eaa-aff2-9c9d87be595e.h5ad\n",
      "├── 02792605-4760-4023-82ad-40fc4458a5db.h5ad\n",
      "├── 02aa7750-ed05-4eca-8061-766c68a81a22.h5ad\n",
      "├── 02f8bb42-0322-4906-b9ad-b92a5ce73a2d.h5ad\n",
      "├── 02faf712-92d4-4589-bec7-13105059cf86.h5ad\n",
      "├── 03181d87-4769-41e7-8c39-d9a81835f0d2.h5ad\n",
      "├── 0325478a-9b52-45b5-b40a-2e2ab0d72eb1.h5ad\n",
      "├── 0374f03c-62e2-4859-8a14-acb00b0627d5.h5ad\n",
      "├── 0380ddce-c31b-422a-88fe-34a1945bd949.h5ad\n",
      "├── 03ad88c2-2faa-470f-9426-1c793fc5efed.h5ad\n",
      "├── 03b3e7b1-1d38-4b39-b996-28ace9c65492.h5ad\n",
      "├── 03c0e874-f984-4e6c-9d2a-26ef8507dbbc.h5ad\n",
      "├── 03c544fb-a103-4d18-9230-eae9cfee3af2.h5ad\n",
      "├── 03d38670-1444-4001-bc53-9936e61d9b20.h5ad\n",
      "├── 03d5794d-cde9-4769-a1a9-b3899d2b1d87.h5ad\n",
      "├── 0436a180-cb44-47ba-8ffa-807b7a468469.h5ad\n",
      "├── 0456ae85-6f27-4e36-8c62-4c97370baa68.h5ad\n",
      "├── 047d57f2-4d14-45de-aa98-336c6f583750.h5ad\n",
      "├── 0491b0c6-4d09-45bf-b5ca-42088632c15c.h5ad\n",
      "├── 04a0a043-1d65-489a-b203-7908780cc922.h5ad\n",
      "├── 04a23820-ffa8-4be5-9f65-64db15631d1e.h5ad\n",
      "├── 04b0eb97-d816-44bb-93a5-8b2968791aa0.h5ad\n",
      "├── 04c0bdd8-840f-488e-b72d-2a1229bc65db.h5ad\n",
      "├── 04c94a7d-1133-42c9-bb48-c697bd302a8d.h5ad\n",
      "├── 04d87de6-c20a-4186-8884-f47dba20b0a4.h5ad\n",
      "├── 04ea2093-332f-4684-99f1-c353cd62c35b.h5ad\n",
      "├── 055ca631-6ffb-40de-815e-b931e10718c0.h5ad\n",
      "├── 059022cf-885a-4ef8-944b-d9e5381aa1c6.h5ad\n",
      "├── 05a49baa-d326-42ae-86d2-94de3a659901.h5ad\n",
      "├── 05d4a216-5384-4724-bd2a-2ea38f02e7cc.h5ad\n",
      "├── 05e6f6e3-0473-4b85-9f94-bcc5f1b5e04b.h5ad\n",
      "├── 05f813a4-fc9e-4143-bba9-de93bdd8eece.h5ad\n",
      "├── 06379c09-d4cf-4c6f-8299-e0bc8879dbdf.h5ad\n",
      "├── 066943a2-fdac-4b29-b348-40cede398e4e.h5ad\n",
      "├── 0671c0d4-f233-4cd3-a0d6-9a6b747bdd98.h5ad\n",
      "├── 06b91002-4d3d-4d2e-8484-20c3b31e232c.h5ad\n",
      "├── 06ef6b36-6c9b-4e10-8a94-d0baf274276e.h5ad\n",
      "├── 0737011b-45a6-49f6-8b5a-b85c35160bac.h5ad\n",
      "├── 0738f538-ff2f-4346-b2eb-72704c291188.h5ad\n",
      "├── 07428d73-fdea-4bd4-a801-94b00c4d961c.h5ad\n",
      "├── 07760522-707a-4a1c-8891-dbd1226d6b27.h5ad\n",
      "├── 07854d9c-5375-4a9b-ac34-fa919d3c3686.h5ad\n",
      "├── 07a4e406-3a76-47a3-a21c-a28d7ce7984a.h5ad\n",
      "├── 07b1d7c8-5c2e-42f7-9246-26f746cd6013.h5ad\n",
      "├── 07efa1c3-7649-43d8-b798-e26a0145ee65.h5ad\n",
      "├── 07f14e26-ff0d-43c4-bfe3-bf1a94dc73c3.h5ad\n",
      "├── 08073b32-d389-41f4-a4fd-616de76915ab.h5ad\n",
      "├── 0819e386-e7fd-4212-b732-60e468689f89.h5ad\n",
      "├── 0895c838-e550-48a3-a777-dbcd35d30272.h5ad\n",
      "├── 08e94873-c2a6-4f7d-ab72-aeaff3e3f929.h5ad\n",
      "├── 090da8ea-46e8-40df-bffc-1f78e1538d27.h5ad\n",
      "├── 090fede8-fac6-4bea-b6c4-6dedea5cca1c.h5ad\n",
      "├── 0920bcb8-4b3a-4e9d-a353-56f529fd3b32.h5ad\n",
      "├── 09286690-98b5-4095-b0b1-3ded23a9dd3a.h5ad\n",
      "├── 093d3bfe-6f0f-4ac0-a7a1-829f94d0a49f.h5ad\n",
      "├── 095940cb-7422-4510-96e2-cbafd961eb88.h5ad\n",
      "├── 0a1ad9d5-c9e1-4253-8883-9a99593eaa0c.h5ad\n",
      "├── 0a1b0fc9-2167-4cd3-85c6-379f0fdab8be.h5ad\n",
      "├── 0a21f80c-e7a3-465b-8aba-fdda2b4c36bc.h5ad\n",
      "├── 0a2d7e87-c3c0-4ed2-86df-ae18811fcc16.h5ad\n",
      "├── 0ae96eac-ff08-4870-9bc3-cd12418af7e4.h5ad\n",
      "├── 0b4a15a7-4e9e-4555-9733-2423e5c66469.h5ad\n",
      "├── 0b75c598-0893-4216-afe8-5414cab7739d.h5ad\n",
      "├── 0ba16f4b-cb87-4fa3-9363-19fc51eec6e7.h5ad\n",
      "├── 0ba636a1-4754-4786-a8be-7ab3cf760fd6.h5ad\n",
      "├── 0bae7ebf-eb54-46a6-be9a-3461cecefa4c.h5ad\n",
      "├── 0bc7235a-ae5a-479d-a487-510435377e55.h5ad\n",
      "├── 0bcda669-c2ab-484f-a87f-4e21f7a5bcab.h5ad\n",
      "├── 0bce33ed-455c-4e12-93f8-b7b04a2de4a1.h5ad\n",
      "├── 0bd1a1de-3aee-40e0-b2ec-86c7a30c7149.h5ad\n",
      "├── 0bd1ce9e-c423-4721-8ccf-91d9858342c2.h5ad\n",
      "├── 0c3901c3-2ef7-44e4-80cb-b281ea2b0de9.h5ad\n",
      "├── 0c86f0de-ddcb-454c-b00b-37feb69e7da1.h5ad\n",
      "├── 0c9a8cfb-6649-4d52-b418-6d8e56bd7afe.h5ad\n",
      "├── 0caedec7-1c7d-4e79-aba2-50f6916e643f.h5ad\n",
      "├── 0ced5e76-6040-47ff-8a72-93847965afc0.h5ad\n",
      "├── 0d049f5a-19b1-4055-a377-011a9570032c.h5ad\n",
      "├── 0d2ee4ac-05ee-40b2-afb6-ebb584caa867.h5ad\n",
      "├── 0d49001d-cc88-4b70-8f0c-f1ca385d0199.h5ad\n",
      "├── 0d7f4c06-a6bd-47d2-a42b-3a7196704f77.h5ad\n",
      "├── 0de831e0-a525-4ec5-b717-df56f2de2bf0.h5ad\n",
      "...\n"
     ]
    }
   ],
   "source": [
    "ln.UPath(s3path).view_tree()"
   ]
  },
  {
   "cell_type": "code",
   "execution_count": 6,
   "id": "6c903126-b7b6-4af2-8056-e147b1038a4a",
   "metadata": {
    "tags": []
   },
   "outputs": [
    {
     "name": "stderr",
     "output_type": "stream",
     "text": [
      "/tmp/ipykernel_2149837/1520426017.py:1: FutureWarning: Use ln.track() instead of track, track will be removed in the future.\n",
      "  ln.context.track(\"VzV8Ty89eQdK\")\n"
     ]
    },
    {
     "name": "stdout",
     "output_type": "stream",
     "text": [
      "\u001b[94m•\u001b[0m tracked pip freeze > /home/lukas/.cache/lamindb/environments/run_Nj4fnKSdtmxqYdWa/run_env_pip.txt\n",
      "\u001b[92m→\u001b[0m created Transform('VzV8Ty89eQdK0000'), started new Run('Nj4fnKSd...') at 2025-07-22 08:00:35 UTC\n",
      "\u001b[92m→\u001b[0m notebook imports: bionty==1.6.0 cellxgene_lamin==0.3.2 lamindb==1.8.0\n"
     ]
    }
   ],
   "source": [
    "ln.context.track(\"VzV8Ty89eQdK\")"
   ]
  },
  {
   "cell_type": "markdown",
   "id": "af01c5b5-7b77-44af-88ff-d19459be380e",
   "metadata": {},
   "source": [
    "Get all datasets and associated metadata using cellxgene REST API:"
   ]
  },
  {
   "cell_type": "code",
   "execution_count": 7,
   "id": "9f5ec28f-f2fc-4374-8f7d-2194c89149ac",
   "metadata": {
    "tags": []
   },
   "outputs": [
    {
     "data": {
      "text/plain": [
       "1844"
      ]
     },
     "execution_count": 7,
     "metadata": {},
     "output_type": "execute_result"
    }
   ],
   "source": [
    "cxg_datasets = get_datasets_from_cxg()\n",
    "len(cxg_datasets)"
   ]
  },
  {
   "cell_type": "code",
   "execution_count": 8,
   "id": "5963c7ce-52d0-4dc8-8217-b278fd96afa3",
   "metadata": {
    "tags": []
   },
   "outputs": [
    {
     "data": {
      "text/plain": [
       "dict_keys(['assay', 'assets', 'cell_count', 'cell_type', 'citation', 'collection_doi', 'collection_doi_label', 'collection_id', 'collection_name', 'collection_version_id', 'dataset_id', 'dataset_version_id', 'development_stage', 'disease', 'donor_id', 'explorer_url', 'is_primary_data', 'mean_genes_per_cell', 'organism', 'primary_cell_count', 'processing_status', 'published_at', 'revised_at', 'revision_of_collection', 'revision_of_dataset', 'schema_version', 'self_reported_ethnicity', 'sex', 'spatial', 'suspension_type', 'tissue', 'title', 'tombstone', 'visibility', 'x_approximate_distribution'])"
      ]
     },
     "execution_count": 8,
     "metadata": {},
     "output_type": "execute_result"
    }
   ],
   "source": [
    "cxg_datasets[0].keys()"
   ]
  },
  {
   "cell_type": "markdown",
   "id": "dabd3ba1-134d-49fe-a0ae-50a3d2f15195",
   "metadata": {},
   "source": [
    "## Register artifacts"
   ]
  },
  {
   "cell_type": "code",
   "execution_count": 9,
   "id": "84610aaf-191a-46f3-9987-7579eb3f266e",
   "metadata": {
    "tags": []
   },
   "outputs": [
    {
     "name": "stdout",
     "output_type": "stream",
     "text": [
      "\u001b[92m→\u001b[0m due to lack of write access, LaminDB won't manage this storage location: s3://cellxgene-data-public\n",
      "\u001b[92m→\u001b[0m referenced read-only storage location at s3://cellxgene-data-public\n",
      "\u001b[92m✓\u001b[0m created 1573 artifacts from directory using storage s3://cellxgene-data-public and key = cell-census/2025-01-30/h5ads/\n"
     ]
    }
   ],
   "source": [
    "artifacts = ln.Artifact.from_dir(s3path)\n",
    "ln.save(artifacts)"
   ]
  },
  {
   "cell_type": "code",
   "execution_count": 10,
   "id": "af381d5d-7f61-4871-9846-fe32ad9f3be7",
   "metadata": {
    "tags": []
   },
   "outputs": [
    {
     "data": {
      "text/plain": [
       "1573"
      ]
     },
     "execution_count": 10,
     "metadata": {},
     "output_type": "execute_result"
    }
   ],
   "source": [
    "artifacts = ln.Artifact.filter(key__contains=census_version).all()\n",
    "len(artifacts)"
   ]
  },
  {
   "cell_type": "code",
   "execution_count": 11,
   "id": "d46fed53",
   "metadata": {},
   "outputs": [
    {
     "data": {
      "text/plain": [
       "1573"
      ]
     },
     "execution_count": 11,
     "metadata": {},
     "output_type": "execute_result"
    }
   ],
   "source": [
    "artifacts.update(version=census_version)"
   ]
  },
  {
   "cell_type": "code",
   "execution_count": 12,
   "id": "873accaa-6402-4030-88d7-3b4528480dc1",
   "metadata": {
    "tags": []
   },
   "outputs": [],
   "source": [
    "for cxg_dataset in cxg_datasets:\n",
    "    artifact = artifacts.filter(key__contains=cxg_dataset[\"dataset_id\"]).one_or_none()\n",
    "    if artifact is not None:\n",
    "        artifact.n_observations = cxg_dataset[\"cell_count\"]\n",
    "        artifact.description = cxg_dataset[\"title\"]\n",
    "        artifact.save()"
   ]
  },
  {
   "cell_type": "code",
   "execution_count": 13,
   "id": "d78b97fd",
   "metadata": {},
   "outputs": [
    {
     "data": {
      "text/plain": [
       "0"
      ]
     },
     "execution_count": 13,
     "metadata": {},
     "output_type": "execute_result"
    }
   ],
   "source": [
    "artifacts_previous = ln.Artifact.filter(version=previous_release).all()\n",
    "artifacts_previous.count()"
   ]
  },
  {
   "cell_type": "code",
   "execution_count": 14,
   "id": "7dfb385a",
   "metadata": {
    "scrolled": true,
    "tags": [
     "hide-output"
    ]
   },
   "outputs": [],
   "source": [
    "for artifact in artifacts:\n",
    "    dataset_id = artifact.key.split(\"/\")[-1]\n",
    "    artifact_previous = artifacts_previous.filter(\n",
    "        key__endswith=dataset_id\n",
    "    ).one_or_none()\n",
    "    if artifact_previous is not None:\n",
    "        artifact.add_to_version_family(artifact_previous, version=census_version)"
   ]
  },
  {
   "cell_type": "markdown",
   "id": "53cd99ea-6cea-40ec-a7a9-08e2b1ccd2c7",
   "metadata": {
    "tags": []
   },
   "source": [
    "## Register metadata"
   ]
  },
  {
   "cell_type": "markdown",
   "id": "c45998cf-43cc-4181-8fe5-0f2db507c1c7",
   "metadata": {},
   "source": [
    "### Register new features and parent labels"
   ]
  },
  {
   "cell_type": "code",
   "execution_count": 15,
   "id": "6893cfc3-b8f6-435e-be97-3a169647b94e",
   "metadata": {},
   "outputs": [],
   "source": [
    "artifacts = ln.Artifact.filter(key__contains=census_version).all()"
   ]
  },
  {
   "cell_type": "code",
   "execution_count": 16,
   "id": "b3caeb16-444e-4dc9-996c-fdc6ad6280e8",
   "metadata": {},
   "outputs": [],
   "source": [
    "from cellxgene_lamin.dev._features import register_obs_schema"
   ]
  },
  {
   "cell_type": "code",
   "execution_count": 17,
   "id": "1ffec9e8-9143-439c-8c99-7f57a093da3d",
   "metadata": {
    "scrolled": true
   },
   "outputs": [],
   "source": [
    "if not artifacts[0].feature_sets.filter(name=\"obs metadata\").exists():\n",
    "    obs_feature_set = register_obs_schema(artifacts)"
   ]
  },
  {
   "cell_type": "code",
   "execution_count": 18,
   "id": "891b8f8f-d4b5-4417-aa33-efe3718d4268",
   "metadata": {
    "tags": []
   },
   "outputs": [],
   "source": [
    "features = ln.Feature.lookup()"
   ]
  },
  {
   "cell_type": "markdown",
   "id": "1acd350f-c54f-4020-a7e9-d4b4dae1ac71",
   "metadata": {},
   "source": [
    "## organisms"
   ]
  },
  {
   "cell_type": "code",
   "execution_count": 19,
   "id": "e1c83467-4bc9-40f5-832d-d2a54cc0d3db",
   "metadata": {},
   "outputs": [],
   "source": [
    "from cellxgene_lamin.dev._organism import register_organisms, curate_organisms"
   ]
  },
  {
   "cell_type": "code",
   "execution_count": 20,
   "id": "ee44032d-ce23-428b-95ab-2bd02917ba63",
   "metadata": {},
   "outputs": [
    {
     "name": "stdout",
     "output_type": "stream",
     "text": [
      "\u001b[92m✓\u001b[0m created \u001b[1;95m7 Organism records from Bionty\u001b[0m matching \u001b[3montology_id\u001b[0m: \u001b[1;95m'NCBITaxon:9544', 'NCBITaxon:7955', 'NCBITaxon:9483', 'NCBITaxon:10090', 'NCBITaxon:9598', 'NCBITaxon:9825', 'NCBITaxon:9606'\u001b[0m\n"
     ]
    }
   ],
   "source": [
    "register_organisms(cxg_datasets)"
   ]
  },
  {
   "cell_type": "markdown",
   "id": "253a26f5-b2fd-4edb-a72f-a1208e558f6f",
   "metadata": {},
   "source": [
    "Link collections and organisms to artifacts:"
   ]
  },
  {
   "cell_type": "code",
   "execution_count": 21,
   "id": "619930f6-07d2-47b5-965c-f247214ed985",
   "metadata": {},
   "outputs": [],
   "source": [
    "curate_organisms(artifacts, cxg_datasets)"
   ]
  },
  {
   "cell_type": "markdown",
   "id": "ec98e4b9-683a-4eb2-aa35-bf3d15c63d71",
   "metadata": {},
   "source": [
    "## ontologies"
   ]
  },
  {
   "cell_type": "markdown",
   "id": "58ebf172-368e-4b4c-8dbd-73b91472fbd2",
   "metadata": {},
   "source": [
    "Register all ontology ids:"
   ]
  },
  {
   "cell_type": "code",
   "execution_count": 22,
   "id": "fbcc9eb0-4a17-4936-81e2-c0deea6bb27d",
   "metadata": {},
   "outputs": [],
   "source": [
    "from cellxgene_lamin.dev._ontology import register_ontology_ids"
   ]
  },
  {
   "cell_type": "code",
   "execution_count": 23,
   "id": "6ec7357d-e15a-4066-938e-4948805faad0",
   "metadata": {
    "editable": true,
    "scrolled": true,
    "slideshow": {
     "slide_type": ""
    },
    "tags": [
     "hide-output"
    ]
   },
   "outputs": [
    {
     "name": "stdout",
     "output_type": "stream",
     "text": [
      "registering organism\n",
      "registering assay\n",
      "\u001b[92m✓\u001b[0m created \u001b[1;95m43 ExperimentalFactor records from Bionty\u001b[0m matching \u001b[3montology_id\u001b[0m: \u001b[1;95m'EFO:0030007', 'EFO:0700004', 'EFO:0030026', 'EFO:0009919', 'EFO:0030060', 'EFO:0030027', 'EFO:0008877', 'EFO:0008953', 'EFO:0009922', 'EFO:0030074', 'EFO:0030028', 'EFO:0030062', 'EFO:0008913', 'EFO:0022606', 'EFO:0008930', 'EFO:0700011', 'EFO:0022488', 'EFO:0700003', 'EFO:0009900', 'EFO:0008679', ...\u001b[0m\n",
      "\u001b[94m•\u001b[0m \u001b[1;91mdid not create\u001b[0m ExperimentalFactor records for \u001b[1;93m2 non-validated\u001b[0m \u001b[3montology_ids\u001b[0m: \u001b[1;93m'EFO:0022845', 'EFO:0022857'\u001b[0m\n",
      "registered 2 records: [ExperimentalFactor(uid='6pMVJ6Yh', name='modified STRT-seq', ontology_id='EFO:0022845', branch_id=1, space_id=1, created_by_id=1, run_id=1, created_at=<django.db.models.expressions.DatabaseDefault object at 0x7b251421ad20>), ExperimentalFactor(uid='40SRG66e', name='Visium Spatial Gene Expression V1', ontology_id='EFO:0022857', branch_id=1, space_id=1, created_by_id=1, run_id=1, created_at=<django.db.models.expressions.DatabaseDefault object at 0x7b24268e7ad0>)]\n",
      "registering cell_type\n",
      "\u001b[92m✓\u001b[0m created \u001b[1;95m1019 CellType records from Bionty\u001b[0m matching \u001b[3montology_id\u001b[0m: \u001b[1;95m'CL:0002079', 'CL:0000531', 'CL:1000073', 'CL:0002062', 'CL:0009062', 'CL:0000132', 'CL:1000414', 'CL:0002652', 'CL:0000740', 'CL:1000312', 'CL:0002223', 'CL:0000236', 'CL:0002057', 'CL:1001106', 'CL:0002367', 'CL:4023009', 'CL:1000320', 'CL:0005012', 'CL:0000451', 'CL:2000093', ...\u001b[0m\n",
      "\u001b[94m•\u001b[0m \u001b[1;91mdid not create\u001b[0m CellType records for \u001b[1;93m13 non-validated\u001b[0m \u001b[3montology_ids\u001b[0m: \u001b[1;93m'CL:4033085', 'CL:4033095', 'CL:4033096', 'CL:4042021', 'CL:4052001', 'CL:4052010', 'CL:4052024', 'CL:4052025', 'CL:4052026', 'CL:4052030', 'CL:4052048', 'CL:4052049', 'unknown'\u001b[0m\n",
      "registered 13 records: [CellType(uid='3vbjn26v', name='adventitial fibroblast', ontology_id='CL:4052030', branch_id=1, space_id=1, created_by_id=1, run_id=1, created_at=<django.db.models.expressions.DatabaseDefault object at 0x7b241b7c3050>), CellType(uid='5HWRj1OD', name='unknown', ontology_id='unknown', branch_id=1, space_id=1, created_by_id=1, run_id=1, created_at=<django.db.models.expressions.DatabaseDefault object at 0x7b250f861670>), CellType(uid='5Tzidq34', name='myotendinous junction nucleus', ontology_id='CL:4052024', branch_id=1, space_id=1, created_by_id=1, run_id=1, created_at=<django.db.models.expressions.DatabaseDefault object at 0x7b250f6911c0>), CellType(uid='1DwAMipO', name='diffuse bipolar 4a cell', ontology_id='CL:4033095', branch_id=1, space_id=1, created_by_id=1, run_id=1, created_at=<django.db.models.expressions.DatabaseDefault object at 0x7b250f691310>), CellType(uid='1SzWp2DE', name='neuromuscular junction nucleus', ontology_id='CL:4052025', branch_id=1, space_id=1, created_by_id=1, run_id=1, created_at=<django.db.models.expressions.DatabaseDefault object at 0x7b250f693020>), CellType(uid='3sDJllGL', name='striated cell of salivary gland', ontology_id='CL:4052049', branch_id=1, space_id=1, created_by_id=1, run_id=1, created_at=<django.db.models.expressions.DatabaseDefault object at 0x7b250f693ce0>), CellType(uid='19EpXFep', name='diffuse bipolar 4b cell', ontology_id='CL:4033096', branch_id=1, space_id=1, created_by_id=1, run_id=1, created_at=<django.db.models.expressions.DatabaseDefault object at 0x7b250f692720>), CellType(uid='3pjBT8T0', name='diffuse bipolar 5 cell', ontology_id='CL:4033085', branch_id=1, space_id=1, created_by_id=1, run_id=1, created_at=<django.db.models.expressions.DatabaseDefault object at 0x7b250f691670>), CellType(uid='7fgr3Y0o', name='type IIx muscle cell', ontology_id='CL:4052026', branch_id=1, space_id=1, created_by_id=1, run_id=1, created_at=<django.db.models.expressions.DatabaseDefault object at 0x7b250f692330>), CellType(uid='1c2lQgER', name='neuronal-restricted precursor', ontology_id='CL:4042021', branch_id=1, space_id=1, created_by_id=1, run_id=1, created_at=<django.db.models.expressions.DatabaseDefault object at 0x7b250f690bf0>), CellType(uid='6OWLOd3F', name='pre-theca cell', ontology_id='CL:4052010', branch_id=1, space_id=1, created_by_id=1, run_id=1, created_at=<django.db.models.expressions.DatabaseDefault object at 0x7b250f692e10>), CellType(uid='1PhIACXG', name='intercalated cell of salivary gland', ontology_id='CL:4052048', branch_id=1, space_id=1, created_by_id=1, run_id=1, created_at=<django.db.models.expressions.DatabaseDefault object at 0x7b250f6910d0>), CellType(uid='4L12MdXX', name='multiciliated ependymal cell', ontology_id='CL:4052001', branch_id=1, space_id=1, created_by_id=1, run_id=1, created_at=<django.db.models.expressions.DatabaseDefault object at 0x7b250f693b60>)]\n",
      "registering development_stage\n",
      "\u001b[92m✓\u001b[0m created \u001b[1;95m189 DevelopmentalStage records from Bionty\u001b[0m matching \u001b[3montology_id\u001b[0m: \u001b[1;95m'HsapDv:0000246', 'HsapDv:0000114', 'HsapDv:0000176', 'HsapDv:0000160', 'HsapDv:0000141', 'HsapDv:0000219', 'HsapDv:0000158', 'HsapDv:0000023', 'HsapDv:0000173', 'HsapDv:0000156', 'HsapDv:0000112', 'HsapDv:0000119', 'HsapDv:0000063', 'HsapDv:0000180', 'HsapDv:0000163', 'HsapDv:0000123', 'HsapDv:0000138', 'HsapDv:0000243', 'HsapDv:0000030', 'HsapDv:0000101', ...\u001b[0m\n",
      "\u001b[94m•\u001b[0m \u001b[1;91mdid not create\u001b[0m DevelopmentalStage records for \u001b[1;93m88 non-validated\u001b[0m \u001b[3montology_ids\u001b[0m: \u001b[1;93m'HsapDv:0000274', 'MmusDv:0000019', 'MmusDv:0000020', 'MmusDv:0000021', 'MmusDv:0000022', 'MmusDv:0000023', 'MmusDv:0000024', 'MmusDv:0000025', 'MmusDv:0000026', 'MmusDv:0000027', 'MmusDv:0000028', 'MmusDv:0000029', 'MmusDv:0000032', 'MmusDv:0000033', 'MmusDv:0000034', 'MmusDv:0000035', 'MmusDv:0000036', 'MmusDv:0000062', 'MmusDv:0000063', 'MmusDv:0000064', ...\u001b[0m\n",
      "\u001b[92m✓\u001b[0m created \u001b[1;95m71 DevelopmentalStage records from Bionty\u001b[0m matching \u001b[3montology_id\u001b[0m: \u001b[1;95m'MmusDv:0000069', 'MmusDv:0000154', 'MmusDv:0000020', 'MmusDv:0000161', 'MmusDv:0000091', 'MmusDv:0000166', 'MmusDv:0000163', 'MmusDv:0000063', 'MmusDv:0000087', 'MmusDv:0000175', 'MmusDv:0000083', 'MmusDv:0000022', 'MmusDv:0000128', 'MmusDv:0000178', 'MmusDv:0000023', 'MmusDv:0000171', 'MmusDv:0000159', 'MmusDv:0000029', 'MmusDv:0000145', 'MmusDv:0000142', ...\u001b[0m\n",
      "\u001b[94m•\u001b[0m \u001b[1;91mdid not create\u001b[0m DevelopmentalStage records for \u001b[1;93m17 non-validated\u001b[0m \u001b[3montology_ids\u001b[0m: \u001b[1;93m'HsapDv:0000274', 'UBERON:0000113', 'UBERON:0007220', 'UBERON:0007222', 'UBERON:0018241', 'UBERON:0034919', 'ZFS:0000026', 'ZFS:0000027', 'ZFS:0000028', 'ZFS:0000029', 'ZFS:0000030', 'ZFS:0000031', 'ZFS:0000032', 'ZFS:0000033', 'ZFS:0000034', 'ZFS:0000035', 'unknown'\u001b[0m\n",
      "\u001b[92m✓\u001b[0m created \u001b[1;95m1 Tissue record from Bionty\u001b[0m matching \u001b[3montology_id\u001b[0m: \u001b[1;95m'UBERON:0034919'\u001b[0m\n",
      "\u001b[92m✓\u001b[0m created \u001b[1;95m1 Tissue record from Bionty\u001b[0m matching \u001b[3montology_id\u001b[0m: \u001b[1;95m'UBERON:0007220'\u001b[0m\n",
      "\u001b[92m✓\u001b[0m created \u001b[1;95m1 Tissue record from Bionty\u001b[0m matching \u001b[3montology_id\u001b[0m: \u001b[1;95m'UBERON:0000113'\u001b[0m\n",
      "\u001b[92m✓\u001b[0m created \u001b[1;95m1 Tissue record from Bionty\u001b[0m matching \u001b[3montology_id\u001b[0m: \u001b[1;95m'UBERON:0018241'\u001b[0m\n",
      "\u001b[92m✓\u001b[0m created \u001b[1;95m1 Tissue record from Bionty\u001b[0m matching \u001b[3montology_id\u001b[0m: \u001b[1;95m'UBERON:0007222'\u001b[0m\n",
      "registered 72 records: [DevelopmentalStage(uid='5mtgTM7U', name='5-month-old stage', ontology_id='MmusDv:0000069', description='Mouse Stage That Refers To A Mouse Which Is Over 5 And Under 6 Months Old.', branch_id=1, space_id=1, created_by_id=1, run_id=1, source_id=31, created_at=<django.db.models.expressions.DatabaseDefault object at 0x7b250f8ed4f0>), DevelopmentalStage(uid='HpQf6Ku1', name='8-week-old stage', ontology_id='MmusDv:0000154', description='Mouse Stage That Refers To A Mouse Which Is Over 56 Days And Under 63 Days Old.', branch_id=1, space_id=1, created_by_id=1, run_id=1, source_id=31, created_at=<django.db.models.expressions.DatabaseDefault object at 0x7b250f8ef920>), DevelopmentalStage(uid='52jMWCgh', name='Theiler stage 13', ontology_id='MmusDv:0000020', synonyms='TS13|E8-9.25', description='Organogenesis Stage Defined By The Turning Of The Embryo; Initiated In Embryos With 6-8 Pairs Of Somites And Usually Completed In Embryos With 14-16 Pairs Of Somites.', branch_id=1, space_id=1, created_by_id=1, run_id=1, source_id=31, created_at=<django.db.models.expressions.DatabaseDefault object at 0x7b250f8eec00>), DevelopmentalStage(uid='3mTmuF1r', name='15-week-old stage', ontology_id='MmusDv:0000161', description='Mouse Stage That Refers To A Mouse Which Is Over 105 Days And Under 112 Days Old.', branch_id=1, space_id=1, created_by_id=1, run_id=1, source_id=31, created_at=<django.db.models.expressions.DatabaseDefault object at 0x7b250f8edf70>), DevelopmentalStage(uid='2uKiNrC1', name='20-month-old stage and over', ontology_id='MmusDv:0000091', description='Mouse Stage That Refers To A Mouse Which Is Over 20 Months Old.', branch_id=1, space_id=1, created_by_id=1, run_id=1, source_id=31, created_at=<django.db.models.expressions.DatabaseDefault object at 0x7b250f8ec170>), DevelopmentalStage(uid='58qbCvXj', name='20-week-old stage', ontology_id='MmusDv:0000166', description='Mouse Stage That Refers To A Mouse Which Is Over 140 Days And Under 147 Days Old.', branch_id=1, space_id=1, created_by_id=1, run_id=1, source_id=31, created_at=<django.db.models.expressions.DatabaseDefault object at 0x7b250f8ed5e0>), DevelopmentalStage(uid='4bOIfHwZ', name='17-week-old stage', ontology_id='MmusDv:0000163', description='Mouse Stage That Refers To A Mouse Which Is Over 119 Days And Under 126 Days Old.', branch_id=1, space_id=1, created_by_id=1, run_id=1, source_id=31, created_at=<django.db.models.expressions.DatabaseDefault object at 0x7b250f8ed7f0>), DevelopmentalStage(uid='4Ne2xatT', name='3-month-old stage', ontology_id='MmusDv:0000063', description='Early Adult Stage That Refers To A Mouse Which Is Over 3 And Under 4 Months Old.', branch_id=1, space_id=1, created_by_id=1, run_id=1, source_id=31, created_at=<django.db.models.expressions.DatabaseDefault object at 0x7b250f8ed730>), DevelopmentalStage(uid='4qgAXaE8', name='16-month-old stage', ontology_id='MmusDv:0000087', description='Mouse Stage That Refers To A Mouse Which Is Over 16 And Under 17 Months Old.', branch_id=1, space_id=1, created_by_id=1, run_id=1, source_id=31, created_at=<django.db.models.expressions.DatabaseDefault object at 0x7b250fd98c80>), DevelopmentalStage(uid='3L0H6wXj', name='29-week-old stage', ontology_id='MmusDv:0000175', description='Mouse Stage That Refers To A Mouse Which Is Over 203 Days And Under 210 Days Old.', branch_id=1, space_id=1, created_by_id=1, run_id=1, source_id=31, created_at=<django.db.models.expressions.DatabaseDefault object at 0x7b250fd98980>), DevelopmentalStage(uid='3zllIZQN', name='12-month-old stage', ontology_id='MmusDv:0000083', description='Mouse Stage That Refers To A Mouse Which Is Over 12 And Under 13 Months Old.', branch_id=1, space_id=1, created_by_id=1, run_id=1, source_id=31, created_at=<django.db.models.expressions.DatabaseDefault object at 0x7b250fd99040>), DevelopmentalStage(uid='1eYj3JvF', name='Theiler stage 15', ontology_id='MmusDv:0000022', synonyms='TS15|E9-10.25', description='Organogenesis Stage During Which The Posterior Neuropore Forms And The Condensation Of The Forelimb Bud Becomes Apparent Near The 8Th-12Th Somite Pairs.', branch_id=1, space_id=1, created_by_id=1, run_id=1, source_id=31, created_at=<django.db.models.expressions.DatabaseDefault object at 0x7b250fd99f40>), DevelopmentalStage(uid='63CjP7vl', name='24-month-old stage', ontology_id='MmusDv:0000128', description='Mouse Stage That Refers To A Mouse Which Is Over 24 And Under 25 Months Old.', branch_id=1, space_id=1, created_by_id=1, run_id=1, source_id=31, created_at=<django.db.models.expressions.DatabaseDefault object at 0x7b250f7aa8d0>), DevelopmentalStage(uid='29miS5O0', name='juvenile stage', ontology_id='MmusDv:0000178', description='Mouse Stage That Refers To A Weaned Mouse Which Is Over 23 Days Old, While Still Being An Sexually Immature Mouse.', branch_id=1, space_id=1, created_by_id=1, run_id=1, source_id=31, created_at=<django.db.models.expressions.DatabaseDefault object at 0x7b250f7aa960>), DevelopmentalStage(uid='2pJEX16R', name='Theiler stage 16', ontology_id='MmusDv:0000023', synonyms='E9.5-10.75|TS16', description='Organogenesis Stage During Which The Posterior Neuropore Closes And The Hind Limb Bud Becomes Visible At The Level Of The 23Rd-28Th Somites.', branch_id=1, space_id=1, created_by_id=1, run_id=1, source_id=31, created_at=<django.db.models.expressions.DatabaseDefault object at 0x7b250f7a9040>), DevelopmentalStage(uid='3iWIOJxB', name='25-week-old stage', ontology_id='MmusDv:0000171', description='Mouse Stage That Refers To A Mouse Which Is Over 175 Days And Under 182 Days Old.', branch_id=1, space_id=1, created_by_id=1, run_id=1, source_id=31, created_at=<django.db.models.expressions.DatabaseDefault object at 0x7b250f7a99d0>), DevelopmentalStage(uid='5jF1wDfT', name='13-week-old stage', ontology_id='MmusDv:0000159', description='Mouse Stage That Refers To A Mouse Which Is Over 91 Days And Under 98 Days Old.', branch_id=1, space_id=1, created_by_id=1, run_id=1, source_id=31, created_at=<django.db.models.expressions.DatabaseDefault object at 0x7b250f7a9df0>), DevelopmentalStage(uid='isuVqi01', name='Theiler stage 22', ontology_id='MmusDv:0000029', synonyms='TS22|E13.5-15', description='Organogenesis Stage During Which The Fingers Are Clearly Visible And The Long Bones Of The Limbs Are Present.', branch_id=1, space_id=1, created_by_id=1, run_id=1, source_id=31, created_at=<django.db.models.expressions.DatabaseDefault object at 0x7b250f7ab500>), DevelopmentalStage(uid='2GXZp7hY', name='24-day-old stage', ontology_id='MmusDv:0000145', description='Immature Stage That Refers To A Mouse Which Is Over 24 And Under 25 Days Old.', branch_id=1, space_id=1, created_by_id=1, run_id=1, source_id=31, created_at=<django.db.models.expressions.DatabaseDefault object at 0x7b250f7a9910>), DevelopmentalStage(uid='4MDkCaoA', name='21-day-old stage', ontology_id='MmusDv:0000142', description='Immature Stage That Refers To A Mouse Which Is Over 21 And Under 22 Days Old.', branch_id=1, space_id=1, created_by_id=1, run_id=1, source_id=31, created_at=<django.db.models.expressions.DatabaseDefault object at 0x7b250f7aadb0>), DevelopmentalStage(uid='1cuR7uGe', name='14-week-old stage', ontology_id='MmusDv:0000160', description='Mouse Stage That Refers To A Mouse Which Is Over 98 Days And Under 105 Days Old.', branch_id=1, space_id=1, created_by_id=1, run_id=1, source_id=31, created_at=<django.db.models.expressions.DatabaseDefault object at 0x7b250f7abf20>), DevelopmentalStage(uid='49Pg7JZU', name='7-day-old stage', ontology_id='MmusDv:0000117', description='Immature Stage That Refers To A Mouse Which Is Over 7 And Under 8 Days Old.', branch_id=1, space_id=1, created_by_id=1, run_id=1, source_id=31, created_at=<django.db.models.expressions.DatabaseDefault object at 0x7b250f7a9e80>), DevelopmentalStage(uid='579u5n8c', name='11-week-old stage', ontology_id='MmusDv:0000157', description='Mouse Stage That Refers To A Mouse Which Is Over 77 Days And Under 84 Days Old.', branch_id=1, space_id=1, created_by_id=1, run_id=1, source_id=31, created_at=<django.db.models.expressions.DatabaseDefault object at 0x7b250f7aa600>), DevelopmentalStage(uid='7KPBl5fq', name='21-month-old stage', ontology_id='MmusDv:0000125', description='Mouse Stage That Refers To A Mouse Which Is Over 21 And Under 22 Months Old.', branch_id=1, space_id=1, created_by_id=1, run_id=1, source_id=31, created_at=<django.db.models.expressions.DatabaseDefault object at 0x7b250f7abfb0>), DevelopmentalStage(uid='6f8pruzF', name='2-week-old stage', ontology_id='MmusDv:0000141', description='Immature Stage That Refers To A Mouse Which Is Over 14 Days And Under 21 Days Old.', branch_id=1, space_id=1, created_by_id=1, run_id=1, source_id=31, created_at=<django.db.models.expressions.DatabaseDefault object at 0x7b250f7ab080>), DevelopmentalStage(uid='2AnlRnpO', name='4-day-old stage', ontology_id='MmusDv:0000114', description='Immature Stage That Refers To A Mouse Which Is Over 4 And Under 5 Days Old.', branch_id=1, space_id=1, created_by_id=1, run_id=1, source_id=31, created_at=<django.db.models.expressions.DatabaseDefault object at 0x7b250f7a90a0>), DevelopmentalStage(uid='5ARageM1', name='Theiler stage 12', ontology_id='MmusDv:0000019', synonyms='TS12|E7.5-8.75', description='Organogenesis Stage During Which First Somites Become Visible.', branch_id=1, space_id=1, created_by_id=1, run_id=1, source_id=31, created_at=<django.db.models.expressions.DatabaseDefault object at 0x7b250f744500>), DevelopmentalStage(uid='5YSSHEQ8', name='23-week-old stage', ontology_id='MmusDv:0000169', description='Mouse Stage That Refers To A Mouse Which Is Over 161 Days And Under 168 Days Old.', branch_id=1, space_id=1, created_by_id=1, run_id=1, source_id=31, created_at=<django.db.models.expressions.DatabaseDefault object at 0x7b250f745ca0>), DevelopmentalStage(uid='3omNfrfT', name='6-month-old stage', ontology_id='MmusDv:0000077', description='Mouse Stage That Refers To A Mouse Which Is Over 6 And Under 7 Months Old.', branch_id=1, space_id=1, created_by_id=1, run_id=1, source_id=31, created_at=<django.db.models.expressions.DatabaseDefault object at 0x7b250f7466c0>), DevelopmentalStage(uid='6e2puOaf', name='10-week-old stage', ontology_id='MmusDv:0000156', description='Mouse Stage That Refers To A Mouse Which Is Over 70 Days And Under 77 Days Old.', branch_id=1, space_id=1, created_by_id=1, run_id=1, source_id=31, created_at=<django.db.models.expressions.DatabaseDefault object at 0x7b250f746c00>), DevelopmentalStage(uid='1nfBXh51', name='12-week-old stage', ontology_id='MmusDv:0000158', description='Mouse Stage That Refers To A Mouse Which Is Over 84 Days And Under 91 Days Old.', branch_id=1, space_id=1, created_by_id=1, run_id=1, source_id=31, created_at=<django.db.models.expressions.DatabaseDefault object at 0x7b250f744800>), DevelopmentalStage(uid='3zLPAVe1', name='4-month-old stage', ontology_id='MmusDv:0000064', description='Early Adult Stage That Refers To A Mouse Which Is Over 4 And Under 5 Months Old.', branch_id=1, space_id=1, created_by_id=1, run_id=1, source_id=31, created_at=<django.db.models.expressions.DatabaseDefault object at 0x7b250f7474d0>), DevelopmentalStage(uid='7lTEHsRA', name='23-day-old stage', ontology_id='MmusDv:0000144', description='Immature Stage That Refers To A Mouse Which Is Over 23 And Under 24 Days Old.', branch_id=1, space_id=1, created_by_id=1, run_id=1, source_id=31, created_at=<django.db.models.expressions.DatabaseDefault object at 0x7b250f747020>), DevelopmentalStage(uid='51yjBKkm', name='15-month-old stage', ontology_id='MmusDv:0000086', description='Mouse Stage That Refers To A Mouse Which Is Over 15 And Under 16 Months Old.', branch_id=1, space_id=1, created_by_id=1, run_id=1, source_id=31, created_at=<django.db.models.expressions.DatabaseDefault object at 0x7b250f745c10>), DevelopmentalStage(uid='4oDq81f6', name='Theiler stage 17', ontology_id='MmusDv:0000024', synonyms='E10-11.25|TS17', description='Organogenesis Stage Defined By The Deepening Of The Lens Pit And The First Appearance Of The Physiological Umbilical Hernia.', branch_id=1, space_id=1, created_by_id=1, run_id=1, source_id=31, created_at=<django.db.models.expressions.DatabaseDefault object at 0x7b250f745e80>), DevelopmentalStage(uid='1klmcp0M', name='6-week-old stage', ontology_id='MmusDv:0000151', description='Prime Adult Stage That Refers To A Mouse Which Is Over 42 Days And Under 49 Days Old.', branch_id=1, space_id=1, created_by_id=1, run_id=1, source_id=31, created_at=<django.db.models.expressions.DatabaseDefault object at 0x7b250f7473b0>), DevelopmentalStage(uid='1tVg0V84', name='16-week-old stage', ontology_id='MmusDv:0000162', description='Mouse Stage That Refers To A Mouse Which Is Over 112 Days And Under 119 Days Old.', branch_id=1, space_id=1, created_by_id=1, run_id=1, source_id=31, created_at=<django.db.models.expressions.DatabaseDefault object at 0x7b250f745b80>), DevelopmentalStage(uid='6hon5R7L', name='14-month-old stage', ontology_id='MmusDv:0000085', description='Mouse Stage That Refers To A Mouse Which Is Over 14 And Under 15 Months Old.', branch_id=1, space_id=1, created_by_id=1, run_id=1, source_id=31, created_at=<django.db.models.expressions.DatabaseDefault object at 0x7b250f746660>), DevelopmentalStage(uid='2pX53Jc6', name='9-week-old stage', ontology_id='MmusDv:0000155', description='Mouse Stage That Refers To A Mouse Which Is Over 63 Days And Under 70 Days Old.', branch_id=1, space_id=1, created_by_id=1, run_id=1, source_id=31, created_at=<django.db.models.expressions.DatabaseDefault object at 0x7b250f7454f0>), DevelopmentalStage(uid='4vN31Q5K', name='Theiler stage 18', ontology_id='MmusDv:0000025', synonyms='E10.5-11.25|TS18', description='Organogenesis Stage During Which The Lens Vesicle Gradually Closes And The Nasal Pits Start To Form. The Rapid Growth Of The Brain Is Striking.', branch_id=1, space_id=1, created_by_id=1, run_id=1, source_id=31, created_at=<django.db.models.expressions.DatabaseDefault object at 0x7b250f7459d0>), DevelopmentalStage(uid='01DkEhr2', name='prime adult stage', ontology_id='MmusDv:0000136', description='Mature Stage That Refers To A Adult Mouse Which Is Over 6 Weeks And Under 18 Months Old.', branch_id=1, space_id=1, created_by_id=1, run_id=1, source_id=31, created_at=<django.db.models.expressions.DatabaseDefault object at 0x7b250f8ed010>), DevelopmentalStage(uid='2qMr4FYE', name='22-week-old stage', ontology_id='MmusDv:0000168', description='Mouse Stage That Refers To A Mouse Which Is Over 154 Days And Under 161 Days Old.', branch_id=1, space_id=1, created_by_id=1, run_id=1, source_id=31, created_at=<django.db.models.expressions.DatabaseDefault object at 0x7b250f8edf40>), DevelopmentalStage(uid='2KwxDig7', name='7-week-old stage', ontology_id='MmusDv:0000152', description='Prime Adult Stage That Refers To A Mouse Which Is Over 49 Days And Under 56 Days Old.', branch_id=1, space_id=1, created_by_id=1, run_id=1, source_id=31, created_at=<django.db.models.expressions.DatabaseDefault object at 0x7b250f8ec710>), DevelopmentalStage(uid='1G2cYN3E', name='5-day-old stage', ontology_id='MmusDv:0000115', description='Immature Stage That Refers To A Mouse Which Is Over 5 And Under 6 Days Old.', branch_id=1, space_id=1, created_by_id=1, run_id=1, source_id=31, created_at=<django.db.models.expressions.DatabaseDefault object at 0x7b250ae488c0>), DevelopmentalStage(uid='Pqb1f4t4', name='Theiler stage 23', ontology_id='MmusDv:0000032', synonyms='E15|TS23', description='Fetal Stage During Which The Toes Separate And Hair Follicles Are Present In The Cephalic Region But Not At The Periphery Of The Vibrissae.', branch_id=1, space_id=1, created_by_id=1, run_id=1, source_id=31, created_at=<django.db.models.expressions.DatabaseDefault object at 0x7b250ae4bc80>), DevelopmentalStage(uid='6w6AM2mg', name='19-month-old stage', ontology_id='MmusDv:0000090', description='Mouse Stage That Refers To A Mouse Which Is Over 19 And Under 20 Months Old.', branch_id=1, space_id=1, created_by_id=1, run_id=1, source_id=31, created_at=<django.db.models.expressions.DatabaseDefault object at 0x7b250ae48b00>), DevelopmentalStage(uid='2MUm7ISN', name='18-month-old stage', ontology_id='MmusDv:0000089', description='Mouse Stage That Refers To A Mouse Which Is Over 18 And Under 19 Months Old.', branch_id=1, space_id=1, created_by_id=1, run_id=1, source_id=31, created_at=<django.db.models.expressions.DatabaseDefault object at 0x7b250ae49f40>), DevelopmentalStage(uid='7Mpm6lfa', name='mature stage', ontology_id='MmusDv:0000110', synonyms='mature', description='Mouse Developmental Stage That Refers To A Sexually Mature Adult Mouse Which Is Over 6 Weeks Old.', branch_id=1, space_id=1, created_by_id=1, run_id=1, source_id=31, created_at=<django.db.models.expressions.DatabaseDefault object at 0x7b250ae3c320>), DevelopmentalStage(uid='2dIcRMOg', name='2-month-old stage', ontology_id='MmusDv:0000062', description='Early Adult Stage That Refers To A Mouse Which Is Over 2 And Under 3 Months Old.', branch_id=1, space_id=1, created_by_id=1, run_id=1, source_id=31, created_at=<django.db.models.expressions.DatabaseDefault object at 0x7b250ae3e480>), DevelopmentalStage(uid='5z7PeStS', name='9-month-old stage', ontology_id='MmusDv:0000080', description='Mouse Stage That Refers To A Mouse Which Is Over 9 And Under 10 Months Old.', branch_id=1, space_id=1, created_by_id=1, run_id=1, source_id=31, created_at=<django.db.models.expressions.DatabaseDefault object at 0x7b250ae3fb00>), DevelopmentalStage(uid='61YeUQXo', name='22-day-old stage', ontology_id='MmusDv:0000143', description='Immature Stage That Refers To A Mouse Which Is Over 22 And Under 23 Days Old.', branch_id=1, space_id=1, created_by_id=1, run_id=1, source_id=31, created_at=<django.db.models.expressions.DatabaseDefault object at 0x7b250ae3c1d0>), DevelopmentalStage(uid='4sYylzCH', name='Theiler stage 19', ontology_id='MmusDv:0000026', synonyms='E11-12.25|TS19', description='Organogenesis Stage During Which The Lens Vesicle Becomes Completely Closed And Detached From The Ectoderm, And Peripheral Margins Of The Eye Become Well Defined.', branch_id=1, space_id=1, created_by_id=1, run_id=1, source_id=31, created_at=<django.db.models.expressions.DatabaseDefault object at 0x7b250ae30c50>), DevelopmentalStage(uid='6eHaCRoE', name='24-week-old stage', ontology_id='MmusDv:0000170', description='Mouse Stage That Refers To A Mouse Which Is Over 168 Days And Under 175 Days Old.', branch_id=1, space_id=1, created_by_id=1, run_id=1, source_id=31, created_at=<django.db.models.expressions.DatabaseDefault object at 0x7b250ae301d0>), DevelopmentalStage(uid='32DUFVQO', name='Theiler stage 21', ontology_id='MmusDv:0000028', synonyms='TS21|E12.5-14', description='Organogenesis Stage During Which The Digit Widths And Locations Can Be Discerned, And The Pinna Rapidly Develops And Forms A Crest At Right Angles To The Head.', branch_id=1, space_id=1, created_by_id=1, run_id=1, source_id=31, created_at=<django.db.models.expressions.DatabaseDefault object at 0x7b250ae309b0>), DevelopmentalStage(uid='2hKkI9Jd', name='Theiler stage 25', ontology_id='MmusDv:0000034', synonyms='TS25|E17', description='Fetal Stage During Which The Thickened Skin Forms Wrinkles And The Subcutaneous Veins Are Less Visible.', branch_id=1, space_id=1, created_by_id=1, run_id=1, source_id=31, created_at=<django.db.models.expressions.DatabaseDefault object at 0x7b250ae31a60>), DevelopmentalStage(uid='2Jfheea8', name='Theiler stage 24', ontology_id='MmusDv:0000033', synonyms='TS24|E16', description='Fetal Stage During Which The Umbilical Hernia Disappears And There Is A Corresponding Increase In The Size Of The Peritoneal Sac.', branch_id=1, space_id=1, created_by_id=1, run_id=1, source_id=31, created_at=<django.db.models.expressions.DatabaseDefault object at 0x7b250ae30140>), DevelopmentalStage(uid='1r5BWRvz', name='Theiler stage 27', ontology_id='MmusDv:0000036', synonyms='newborn stage', description='Stage That Refers To The Newborn Mouse, Aged E19-20, P0. Description Of Anatomical Structures Related To This Stage Corresponds To The First Days Of The Mouse Life. Used For Postnatal Days 0 Through 3.', branch_id=1, space_id=1, created_by_id=1, run_id=1, source_id=31, created_at=<django.db.models.expressions.DatabaseDefault object at 0x7b250ae1d070>), DevelopmentalStage(uid='738nU1dc', name='21-week-old stage', ontology_id='MmusDv:0000167', description='Mouse Stage That Refers To A Mouse Which Is Over 147 Days And Under 154 Days Old.', branch_id=1, space_id=1, created_by_id=1, run_id=1, source_id=31, created_at=<django.db.models.expressions.DatabaseDefault object at 0x7b250ae1d2b0>), DevelopmentalStage(uid='5ombV1q8', name='Theiler stage 14', ontology_id='MmusDv:0000021', synonyms='TS14|E8.5-9.75', description='Organogenesis Stage During Which The Rostral Extremity Of The Neural Tube Closes In Embryos With Usually About 15-18 Somite Pairs. Late In The Stage The 3Rd Branchial Arch Becomes Visible.', branch_id=1, space_id=1, created_by_id=1, run_id=1, source_id=31, created_at=<django.db.models.expressions.DatabaseDefault object at 0x7b250ae1d160>), DevelopmentalStage(uid='7Yuy1yVn', name='3-6 month-old mature stage', ontology_id='MmusDv:0000137', description='Mature Stage That Refers To A Mouse Which Is Over 3 And Under 7 Months Old.', branch_id=1, space_id=1, created_by_id=1, run_id=1, source_id=31, created_at=<django.db.models.expressions.DatabaseDefault object at 0x7b250ae1f7a0>), DevelopmentalStage(uid='4APBGk8B', name='26-week-old stage', ontology_id='MmusDv:0000172', description='Mouse Stage That Refers To A Mouse Which Is Over 182 Days And Under 189 Days Old.', branch_id=1, space_id=1, created_by_id=1, run_id=1, source_id=31, created_at=<django.db.models.expressions.DatabaseDefault object at 0x7b250ae1c770>), DevelopmentalStage(uid='5U1pWWne', name='18-week-old stage', ontology_id='MmusDv:0000164', description='Mouse Stage That Refers To A Mouse Which Is Over 126 Days And Under 133 Days Old.', branch_id=1, space_id=1, created_by_id=1, run_id=1, source_id=31, created_at=<django.db.models.expressions.DatabaseDefault object at 0x7b250ae10a70>), DevelopmentalStage(uid='7Fww1Vz6', name='4-week-old stage', ontology_id='MmusDv:0000149', description='Immature Stage That Refers To A Mouse Which Is Over 28 Days And Under 35 Days Old.', branch_id=1, space_id=1, created_by_id=1, run_id=1, source_id=31, created_at=<django.db.models.expressions.DatabaseDefault object at 0x7b250ae120f0>), DevelopmentalStage(uid='2dlyP4YN', name='26-day-old stage', ontology_id='MmusDv:0000147', description='Immature Stage That Refers To A Mouse Which Is Over 26 And Under 27 Days Old.', branch_id=1, space_id=1, created_by_id=1, run_id=1, source_id=31, created_at=<django.db.models.expressions.DatabaseDefault object at 0x7b250ae129f0>), DevelopmentalStage(uid='7bknTrNT', name='8-month-old stage', ontology_id='MmusDv:0000079', description='Mouse Stage That Refers To A Mouse Which Is Over 8 And Under 9 Months Old.', branch_id=1, space_id=1, created_by_id=1, run_id=1, source_id=31, created_at=<django.db.models.expressions.DatabaseDefault object at 0x7b250adacc80>), DevelopmentalStage(uid='1MrvbhZk', name='19-week-old stage', ontology_id='MmusDv:0000165', description='Mouse Stage That Refers To A Mouse Which Is Over 133 Days And Under 140 Days Old.', branch_id=1, space_id=1, created_by_id=1, run_id=1, source_id=31, created_at=<django.db.models.expressions.DatabaseDefault object at 0x7b250ae10350>), DevelopmentalStage(uid='3wDLorw8', name='postnatal stage', ontology_id='MmusDv:0000092', description='Mouse Developmental Stage That Covers The Period From Birth Until Late Adulthood.', branch_id=1, space_id=1, created_by_id=1, run_id=1, source_id=31, created_at=<django.db.models.expressions.DatabaseDefault object at 0x7b250ae12f60>), DevelopmentalStage(uid='7hWGfdlB', name='5-week-old stage', ontology_id='MmusDv:0000150', description='Immature Stage That Refers To A Mouse Which Is Over 35 Days And Under 42 Days Old.', branch_id=1, space_id=1, created_by_id=1, run_id=1, source_id=31, created_at=<django.db.models.expressions.DatabaseDefault object at 0x7b250afb0560>), DevelopmentalStage(uid='1BvdbKGo', name='1-week-old stage', ontology_id='MmusDv:0000140', description='Immature Stage That Refers To A Mouse Which Is Over 7 Days And Under 14 Days Old.', branch_id=1, space_id=1, created_by_id=1, run_id=1, source_id=31, created_at=<django.db.models.expressions.DatabaseDefault object at 0x7b250afb1010>), DevelopmentalStage(uid='AvCk12L1', name='Theiler stage 20', ontology_id='MmusDv:0000027', synonyms='TS20|E11.5-13', description='Organogenesis Stage During Which The Handplate Develops Angles Corresponding To The Future Digits, And Tongue And Brain Vesicles Are Clearly Visible.', branch_id=1, space_id=1, created_by_id=1, run_id=1, source_id=31, created_at=<django.db.models.expressions.DatabaseDefault object at 0x7b250afb1a30>), DevelopmentalStage(uid='1LAvrse2', name='Theiler stage 26', ontology_id='MmusDv:0000035', synonyms='E18|TS26', description='Fetal Stage Defined By Long Whiskers And During Which The Eyes Are Barely Visible Through The Closed Eyelids.', branch_id=1, space_id=1, created_by_id=1, run_id=1, source_id=31, created_at=<django.db.models.expressions.DatabaseDefault object at 0x7b250afb0440>), DevelopmentalStage(uid='5HWRj1OD', name='unknown', ontology_id='unknown', branch_id=1, space_id=1, created_by_id=1, run_id=1, created_at=<django.db.models.expressions.DatabaseDefault object at 0x7b24df2dac00>)]\n",
      "registering disease\n",
      "\u001b[92m✓\u001b[0m created \u001b[1;95m168 Disease records from Bionty\u001b[0m matching \u001b[3montology_id\u001b[0m: \u001b[1;95m'MONDO:0004514', 'MONDO:0000709', 'MONDO:0019622', 'MONDO:0013662', 'MONDO:0001943', 'MONDO:0001657', 'MONDO:0005252', 'MONDO:0100542', 'MONDO:0024885', 'MONDO:0006244', 'MONDO:0021116', 'MONDO:0008243', 'MONDO:0004975', 'MONDO:0021115', 'MONDO:0003573', 'MONDO:0007763', 'MONDO:0005267', 'MONDO:0044704', 'MONDO:0005156', 'MONDO:0005418', ...\u001b[0m\n",
      "\u001b[94m•\u001b[0m \u001b[1;91mdid not create\u001b[0m Disease records for \u001b[1;93m4 non-validated\u001b[0m \u001b[3montology_ids\u001b[0m: \u001b[1;93m'MONDO:0004981 || MONDO:1030008', 'MONDO:0005109 || MONDO:0005445', 'MONDO:0005109 || MONDO:0011989', 'PATO:0000461'\u001b[0m\n",
      "\u001b[92m✓\u001b[0m created \u001b[1;95m1 Phenotype record from Bionty\u001b[0m matching \u001b[3montology_id\u001b[0m: \u001b[1;95m'PATO:0000461'\u001b[0m\n",
      "registered 3 records: [Disease(uid='3oV6UwXt', name='atrial fibrillation || mitral valve insufficiency', ontology_id='MONDO:0004981 || MONDO:1030008', branch_id=1, space_id=1, created_by_id=1, run_id=1, created_at=<django.db.models.expressions.DatabaseDefault object at 0x7b250d0a5040>), Disease(uid='6QZ1MMrT', name='HIV infectious disease || leishmaniasis', ontology_id='MONDO:0005109 || MONDO:0011989', branch_id=1, space_id=1, created_by_id=1, run_id=1, created_at=<django.db.models.expressions.DatabaseDefault object at 0x7b24d4648fb0>), Disease(uid='3g4NA6wn', name='HIV infectious disease || visceral leishmaniasis', ontology_id='MONDO:0005109 || MONDO:0005445', branch_id=1, space_id=1, created_by_id=1, run_id=1, created_at=<django.db.models.expressions.DatabaseDefault object at 0x7b24d464a9c0>)]\n",
      "registering self_reported_ethnicity\n",
      "\u001b[92m✓\u001b[0m created \u001b[1;95m35 Ethnicity records from Bionty\u001b[0m matching \u001b[3montology_id\u001b[0m: \u001b[1;95m'HANCESTRO:0598', 'HANCESTRO:0596', 'HANCESTRO:0574', 'HANCESTRO:0462', 'HANCESTRO:0025', 'HANCESTRO:0006', 'HANCESTRO:0439', 'HANCESTRO:0506', 'HANCESTRO:0019', 'HANCESTRO:0352', 'HANCESTRO:0463', 'HANCESTRO:0005', 'HANCESTRO:0013', 'HANCESTRO:0588', 'HANCESTRO:0597', 'HANCESTRO:0595', 'HANCESTRO:0010', 'HANCESTRO:0383', 'HANCESTRO:0485', 'HANCESTRO:0014', ...\u001b[0m\n",
      "\u001b[94m•\u001b[0m \u001b[1;91mdid not create\u001b[0m Ethnicity records for \u001b[1;93m5 non-validated\u001b[0m \u001b[3montology_ids\u001b[0m: \u001b[1;93m'HANCESTRO:0005 || HANCESTRO:0008', 'HANCESTRO:0013 || HANCESTRO:0014', 'HANCESTRO:0014 || HANCESTRO:0590', 'na', 'unknown'\u001b[0m\n",
      "registered 5 records: [Ethnicity(uid='6UZltq3T', name='European || Asian', ontology_id='HANCESTRO:0005 || HANCESTRO:0008', branch_id=1, space_id=1, created_by_id=1, run_id=1, created_at=<django.db.models.expressions.DatabaseDefault object at 0x7b24def4de50>), Ethnicity(uid='27sL2Xlf', name='Hispanic or Latin American || European American', ontology_id='HANCESTRO:0014 || HANCESTRO:0590', branch_id=1, space_id=1, created_by_id=1, run_id=1, created_at=<django.db.models.expressions.DatabaseDefault object at 0x7b241b81ffe0>), Ethnicity(uid='5HWRj1OD', name='unknown', ontology_id='unknown', branch_id=1, space_id=1, created_by_id=1, run_id=1, created_at=<django.db.models.expressions.DatabaseDefault object at 0x7b241b81dbb0>), Ethnicity(uid='3N1q01iC', name='na', ontology_id='na', branch_id=1, space_id=1, created_by_id=1, run_id=1, created_at=<django.db.models.expressions.DatabaseDefault object at 0x7b24f879bb30>), Ethnicity(uid='6W1N178x', name='Native American || Hispanic or Latin American', ontology_id='HANCESTRO:0013 || HANCESTRO:0014', branch_id=1, space_id=1, created_by_id=1, run_id=1, created_at=<django.db.models.expressions.DatabaseDefault object at 0x7b24f879b9b0>)]\n",
      "registering sex\n",
      "\u001b[92m✓\u001b[0m created \u001b[1;95m2 Phenotype records from Bionty\u001b[0m matching \u001b[3montology_id\u001b[0m: \u001b[1;95m'PATO:0000384', 'PATO:0000383'\u001b[0m\n",
      "\u001b[94m•\u001b[0m \u001b[1;91mdid not create\u001b[0m Phenotype record for \u001b[1;93m1 non-validated\u001b[0m \u001b[3montology_id\u001b[0m: \u001b[1;93m'unknown'\u001b[0m\n",
      "registered 1 records: [Phenotype(uid='5HWRj1OD', name='unknown', ontology_id='unknown', branch_id=1, space_id=1, created_by_id=1, run_id=1, created_at=<django.db.models.expressions.DatabaseDefault object at 0x7b24f8ac4590>)]\n",
      "registering tissue\n",
      "\u001b[92m✓\u001b[0m created \u001b[1;95m592 Tissue records from Bionty\u001b[0m matching \u001b[3montology_id\u001b[0m: \u001b[1;95m'UBERON:0001707', 'UBERON:0001828', 'UBERON:0001275', 'UBERON:0000451', 'UBERON:0000970', 'UBERON:0010409', 'UBERON:0002037', 'UBERON:0001777', 'UBERON:0003072', 'UBERON:0016530', 'UBERON:0034892', 'UBERON:0001161', 'UBERON:0036245', 'UBERON:0001675', 'UBERON:0012474', 'UBERON:0000453', 'UBERON:0001885', 'UBERON:0001871', 'UBERON:0002509', 'UBERON:0000411', ...\u001b[0m\n",
      "\u001b[94m•\u001b[0m \u001b[1;91mdid not create\u001b[0m Tissue records for \u001b[1;93m14 non-validated\u001b[0m \u001b[3montology_ids\u001b[0m: \u001b[1;93m'CL:0000010', 'CL:0000082', 'CL:0000084', 'CL:0000115', 'CL:0000307', 'CL:0000322', 'CL:0000351', 'CL:0002322', 'CL:0002327', 'CL:0002328', 'CL:0002334', 'CL:0002335', 'CL:0002633', 'CL:4052001'\u001b[0m\n",
      "registered 14 records: [Tissue(uid='1J6s4gSi', name='endothelial cell', ontology_id='CL:0000115', branch_id=1, space_id=1, created_by_id=1, run_id=1, created_at=<django.db.models.expressions.DatabaseDefault object at 0x7b24ced5b4a0>), Tissue(uid='7MscrSDl', name='trophoblast cell', ontology_id='CL:0000351', branch_id=1, space_id=1, created_by_id=1, run_id=1, created_at=<django.db.models.expressions.DatabaseDefault object at 0x7b24cdb9f3b0>), Tissue(uid='wxc6eyuU', name='pulmonary alveolar epithelial cell', ontology_id='CL:0000322', branch_id=1, space_id=1, created_by_id=1, run_id=1, created_at=<django.db.models.expressions.DatabaseDefault object at 0x7b24d464a5a0>), Tissue(uid='MJYdRbdq', name='bronchial epithelial cell', ontology_id='CL:0002328', branch_id=1, space_id=1, created_by_id=1, run_id=1, created_at=<django.db.models.expressions.DatabaseDefault object at 0x7b24d464a2d0>), Tissue(uid='5F4YNEUS', name='mammary gland epithelial cell', ontology_id='CL:0002327', branch_id=1, space_id=1, created_by_id=1, run_id=1, created_at=<django.db.models.expressions.DatabaseDefault object at 0x7b250f73f9e0>), Tissue(uid='3bgY2Yz8', name='tracheal epithelial cell', ontology_id='CL:0000307', branch_id=1, space_id=1, created_by_id=1, run_id=1, created_at=<django.db.models.expressions.DatabaseDefault object at 0x7b24cf619c40>), Tissue(uid='22LvKd01', name='T cell', ontology_id='CL:0000084', branch_id=1, space_id=1, created_by_id=1, run_id=1, created_at=<django.db.models.expressions.DatabaseDefault object at 0x7b23f9294410>), Tissue(uid='1LzSyCsJ', name='respiratory basal cell', ontology_id='CL:0002633', branch_id=1, space_id=1, created_by_id=1, run_id=1, created_at=<django.db.models.expressions.DatabaseDefault object at 0x7b23f9294140>), Tissue(uid='8dEt6lpw', name='brown preadipocyte', ontology_id='CL:0002335', branch_id=1, space_id=1, created_by_id=1, run_id=1, created_at=<django.db.models.expressions.DatabaseDefault object at 0x7b23f9294ce0>), Tissue(uid='1ERsVqRf', name='embryonic stem cell', ontology_id='CL:0002322', branch_id=1, space_id=1, created_by_id=1, run_id=1, created_at=<django.db.models.expressions.DatabaseDefault object at 0x7b23f9294ef0>), Tissue(uid='XS6m3PvU', name='cultured cell', ontology_id='CL:0000010', branch_id=1, space_id=1, created_by_id=1, run_id=1, created_at=<django.db.models.expressions.DatabaseDefault object at 0x7b23f9295100>), Tissue(uid='4L12MdXX', name='multiciliated ependymal cell', ontology_id='CL:4052001', branch_id=1, space_id=1, created_by_id=1, run_id=1, created_at=<django.db.models.expressions.DatabaseDefault object at 0x7b23f9295310>), Tissue(uid='2mqTx1qQ', name='epithelial cell of lung', ontology_id='CL:0000082', branch_id=1, space_id=1, created_by_id=1, run_id=1, created_at=<django.db.models.expressions.DatabaseDefault object at 0x7b23f9295490>), Tissue(uid='4IRoehoY', name='preadipocyte', ontology_id='CL:0002334', branch_id=1, space_id=1, created_by_id=1, run_id=1, created_at=<django.db.models.expressions.DatabaseDefault object at 0x7b23f9295700>)]\n"
     ]
    }
   ],
   "source": [
    "register_ontology_ids(cxg_datasets)"
   ]
  },
  {
   "cell_type": "code",
   "execution_count": 24,
   "id": "e5762757-ab21-4f9e-9d06-af99a78dd9f6",
   "metadata": {},
   "outputs": [
    {
     "data": {
      "text/plain": [
       "CellType(uid='3bgY2Yz8', name='tracheal epithelial cell', ontology_id='CL:0000307', synonyms='tracheocyte', description='An Epithelial Cell Found In The Trachea.', branch_id=1, space_id=1, created_by_id=1, run_id=1, source_id=16, created_at=2025-07-22 08:02:29 UTC)"
      ]
     },
     "execution_count": 24,
     "metadata": {},
     "output_type": "execute_result"
    }
   ],
   "source": [
    "# clean up the celltype in Tissue\n",
    "\n",
    "bt.Tissue.filter(ontology_id=\"CL:0000307\").delete()\n",
    "bt.CellType.from_source(ontology_id=\"CL:0000307\").save()"
   ]
  },
  {
   "cell_type": "markdown",
   "id": "19776fb7-d87f-4eca-8f7d-c2d88ffbaf1b",
   "metadata": {},
   "source": [
    "## donors and suspension_types"
   ]
  },
  {
   "cell_type": "code",
   "execution_count": 25,
   "id": "74f4d1ca-6e4b-4b77-ba62-0b131e728b96",
   "metadata": {
    "editable": true,
    "slideshow": {
     "slide_type": ""
    },
    "tags": []
   },
   "outputs": [],
   "source": [
    "from cellxgene_lamin.dev._labels import register_ulabels"
   ]
  },
  {
   "cell_type": "code",
   "execution_count": 26,
   "id": "1f4863c1-ee4a-4a1b-b418-e80fc7086dcf",
   "metadata": {
    "editable": true,
    "slideshow": {
     "slide_type": ""
    },
    "tags": []
   },
   "outputs": [
    {
     "name": "stdout",
     "output_type": "stream",
     "text": [
      "\u001b[93m!\u001b[0m Starting bulk_create for 13075 ULabel records in batches of 10000\n",
      "\u001b[94m•\u001b[0m Processing batch 1/2 for ULabel: 10000 records\n",
      "\u001b[94m•\u001b[0m Processing batch 2/2 for ULabel: 3075 records\n",
      "registered 13075 donor_ids\n"
     ]
    }
   ],
   "source": [
    "ln.settings.creation.search_names = False\n",
    "register_ulabels(cxg_datasets, \"donor_id\")\n",
    "ln.settings.creation.search_names = True"
   ]
  },
  {
   "cell_type": "code",
   "execution_count": 27,
   "id": "db2eb57c-d78b-4bbd-9254-59eec3e46352",
   "metadata": {},
   "outputs": [
    {
     "name": "stdout",
     "output_type": "stream",
     "text": [
      "registered 3 suspension_types\n"
     ]
    }
   ],
   "source": [
    "ln.settings.creation.search_names = False\n",
    "register_ulabels(cxg_datasets, \"suspension_type\")\n",
    "ln.settings.creation.search_names = True"
   ]
  },
  {
   "cell_type": "markdown",
   "id": "7a4c9d2b-3331-4901-b986-d2523597d20f",
   "metadata": {},
   "source": [
    "## Annotate artifacts with obs metadata"
   ]
  },
  {
   "cell_type": "code",
   "execution_count": 28,
   "id": "5297b500-0053-4730-a064-2de81ef5319b",
   "metadata": {},
   "outputs": [],
   "source": [
    "from cellxgene_lamin.dev._features import FEATURE_TO_ACCESSOR"
   ]
  },
  {
   "cell_type": "code",
   "execution_count": 29,
   "id": "72a1457c-d4d7-45ae-bf20-87fd405c3a63",
   "metadata": {
    "editable": true,
    "slideshow": {
     "slide_type": ""
    },
    "tags": []
   },
   "outputs": [
    {
     "data": {
      "text/plain": [
       "'\\nimport bionty as bt\\n\\nfeatures = ln.Feature.lookup()\\n\\nfor idx, cxg_dataset in enumerate(cxg_datasets):\\n    if idx % 100 == 0:\\n        print(f\"annotating dataset {idx} of {len(cxg_datasets)}\")\\n    artifact = artifacts.filter(key__contains=cxg_dataset[\"dataset_id\"]).one_or_none()\\n    if artifact is None:\\n        continue\\n    for field, terms in cxg_dataset.items():\\n        if field not in FEATURE_TO_ACCESSOR:\\n            continue\\n        accessor, orm = FEATURE_TO_ACCESSOR.get(field)\\n        if field in [\"donor_id\", \"suspension_type\", \"tissue_type\"]:\\n            records = orm.from_values(terms, field=\"name\")\\n            if len(records) > 0:\\n                # stratify by feature so that link tables records are written\\n                getattr(artifact, accessor).add(*records)\\n        else:\\n            if field == \"tissue\":\\n                records = []\\n                celltypes = [\\n                    term[\"ontology_term_id\"]\\n                    for term in terms\\n                    if term[\"tissue_type\"] == \"cell culture\"\\n                ]\\n                if len(celltypes) > 0:\\n                    # records += bt.CellType.from_values(\\n                    #     [i[\"ontology_term_id\"] for i in terms], field=\"ontology_id\"\\n                    # )\\n                    print(f\"These tissues are not yet linked: {celltypes}\")\\n                tissues = [\\n                    term[\"ontology_term_id\"]\\n                    for term in terms\\n                    if term[\"tissue_type\"] != \"cell culture\"\\n                ]\\n                if len(tissues) > 0:\\n                    records += bt.Tissue.from_values(\\n                        [term[\"ontology_term_id\"] for term in terms],\\n                        field=\"ontology_id\",\\n                    )\\n            else:\\n                records = orm.from_values(\\n                    [term[\"ontology_term_id\"] for term in terms], field=\"ontology_id\"\\n                )\\n            if len(records) > 0:\\n                getattr(artifact, accessor).add(*records)\\n\\n# clean up the 2 \"unknowns\" in DevelopmentalStage\\nbt.DevelopmentalStage.filter(name=\"unknown\").exclude(ontology_id=\"unknown\").delete()\\n'"
      ]
     },
     "execution_count": 29,
     "metadata": {},
     "output_type": "execute_result"
    }
   ],
   "source": [
    "\"\"\"\n",
    "import bionty as bt\n",
    "\n",
    "features = ln.Feature.lookup()\n",
    "\n",
    "for idx, cxg_dataset in enumerate(cxg_datasets):\n",
    "    if idx % 100 == 0:\n",
    "        print(f\"annotating dataset {idx} of {len(cxg_datasets)}\")\n",
    "    artifact = artifacts.filter(key__contains=cxg_dataset[\"dataset_id\"]).one_or_none()\n",
    "    if artifact is None:\n",
    "        continue\n",
    "    for field, terms in cxg_dataset.items():\n",
    "        if field not in FEATURE_TO_ACCESSOR:\n",
    "            continue\n",
    "        accessor, orm = FEATURE_TO_ACCESSOR.get(field)\n",
    "        if field in [\"donor_id\", \"suspension_type\", \"tissue_type\"]:\n",
    "            records = orm.from_values(terms, field=\"name\")\n",
    "            if len(records) > 0:\n",
    "                # stratify by feature so that link tables records are written\n",
    "                getattr(artifact, accessor).add(*records)\n",
    "        else:\n",
    "            if field == \"tissue\":\n",
    "                records = []\n",
    "                celltypes = [\n",
    "                    term[\"ontology_term_id\"]\n",
    "                    for term in terms\n",
    "                    if term[\"tissue_type\"] == \"cell culture\"\n",
    "                ]\n",
    "                if len(celltypes) > 0:\n",
    "                    # records += bt.CellType.from_values(\n",
    "                    #     [i[\"ontology_term_id\"] for i in terms], field=\"ontology_id\"\n",
    "                    # )\n",
    "                    print(f\"These tissues are not yet linked: {celltypes}\")\n",
    "                tissues = [\n",
    "                    term[\"ontology_term_id\"]\n",
    "                    for term in terms\n",
    "                    if term[\"tissue_type\"] != \"cell culture\"\n",
    "                ]\n",
    "                if len(tissues) > 0:\n",
    "                    records += bt.Tissue.from_values(\n",
    "                        [term[\"ontology_term_id\"] for term in terms],\n",
    "                        field=\"ontology_id\",\n",
    "                    )\n",
    "            else:\n",
    "                records = orm.from_values(\n",
    "                    [term[\"ontology_term_id\"] for term in terms], field=\"ontology_id\"\n",
    "                )\n",
    "            if len(records) > 0:\n",
    "                getattr(artifact, accessor).add(*records)\n",
    "\n",
    "# clean up the 2 \"unknowns\" in DevelopmentalStage\n",
    "bt.DevelopmentalStage.filter(name=\"unknown\").exclude(ontology_id=\"unknown\").delete()\n",
    "\"\"\""
   ]
  },
  {
   "cell_type": "markdown",
   "id": "83ec7780-4ab5-42e3-8765-3f4df04f43fc",
   "metadata": {},
   "source": [
    "## Validate and register genes"
   ]
  },
  {
   "cell_type": "code",
   "execution_count": 30,
   "id": "66badfcf-0385-4086-a7c8-642501cf7684",
   "metadata": {},
   "outputs": [],
   "source": [
    "from cellxgene_lamin.dev._gene import register_genes"
   ]
  },
  {
   "cell_type": "markdown",
   "id": "60dbb11e-da6d-495c-a437-79a956136afa",
   "metadata": {
    "editable": true,
    "slideshow": {
     "slide_type": ""
    },
    "tags": []
   },
   "source": [
    "Register all genes for each organism:"
   ]
  },
  {
   "cell_type": "code",
   "execution_count": 31,
   "id": "2ac2f759-8de1-47de-be1f-7e96ab7f8540",
   "metadata": {
    "editable": true,
    "slideshow": {
     "slide_type": ""
    },
    "tags": []
   },
   "outputs": [
    {
     "name": "stdout",
     "output_type": "stream",
     "text": [
      "\u001b[92m✓\u001b[0m created \u001b[1;95m1 Organism record from Bionty\u001b[0m matching \u001b[3mname\u001b[0m: \u001b[1;95m'synthetic construct'\u001b[0m\n",
      "\u001b[92m✓\u001b[0m created \u001b[1;95m1 Organism record from Bionty\u001b[0m matching \u001b[3montology_id\u001b[0m: \u001b[1;95m'NCBITaxon:81077'\u001b[0m\n",
      "\u001b[92m✓\u001b[0m created \u001b[1;95m1 Organism record from Bionty\u001b[0m matching \u001b[3mname\u001b[0m: \u001b[1;95m'sars-2'\u001b[0m\n",
      "\u001b[92m✓\u001b[0m created \u001b[1;95m1 Organism record from Bionty\u001b[0m matching \u001b[3montology_id\u001b[0m: \u001b[1;95m'NCBITaxon:694009'\u001b[0m\n"
     ]
    },
    {
     "data": {
      "text/html": [
       "<pre style=\"white-space:pre;overflow-x:auto;line-height:normal;font-family:Menlo,'DejaVu Sans Mono',consolas,'Courier New',monospace\">registering homo_sapiens genes\n",
       "</pre>\n"
      ],
      "text/plain": [
       "registering homo_sapiens genes\n"
      ]
     },
     "metadata": {},
     "output_type": "display_data"
    },
    {
     "name": "stdout",
     "output_type": "stream",
     "text": [
      "\u001b[92m✓\u001b[0m created \u001b[1;95m62595 Gene records from Bionty\u001b[0m matching \u001b[3mensembl_gene_id\u001b[0m: \u001b[1;95m'ENSG00000290825', 'ENSG00000223972', 'ENSG00000227232', 'ENSG00000278267', 'ENSG00000243485', 'ENSG00000284332', 'ENSG00000237613', 'ENSG00000268020', 'ENSG00000290826', 'ENSG00000240361', 'ENSG00000186092', 'ENSG00000238009', 'ENSG00000239945', 'ENSG00000233750', 'ENSG00000268903', 'ENSG00000269981', 'ENSG00000239906', 'ENSG00000241860', 'ENSG00000222623', 'ENSG00000241599', ...\u001b[0m\n",
      "\u001b[94m•\u001b[0m \u001b[1;91mdid not create\u001b[0m Gene records for \u001b[1;93m159 non-validated\u001b[0m \u001b[3mensembl_gene_ids\u001b[0m: \u001b[1;93m'ENSG00000203441', 'ENSG00000214783', 'ENSG00000214970', 'ENSG00000215067', 'ENSG00000223458', 'ENSG00000223797', 'ENSG00000224167', 'ENSG00000224247', 'ENSG00000225205', 'ENSG00000226032', 'ENSG00000226277', 'ENSG00000226362', 'ENSG00000226747', 'ENSG00000226822', 'ENSG00000226849', 'ENSG00000227925', 'ENSG00000228135', 'ENSG00000228434', 'ENSG00000228890', 'ENSG00000229611', ...\u001b[0m\n",
      "\u001b[93m!\u001b[0m Starting bulk_create for 62595 Gene records in batches of 10000\n",
      "\u001b[94m•\u001b[0m Processing batch 1/7 for Gene: 10000 records\n",
      "\u001b[94m•\u001b[0m Processing batch 2/7 for Gene: 10000 records\n",
      "\u001b[94m•\u001b[0m Processing batch 3/7 for Gene: 10000 records\n",
      "\u001b[94m•\u001b[0m Processing batch 4/7 for Gene: 10000 records\n",
      "\u001b[94m•\u001b[0m Processing batch 5/7 for Gene: 10000 records\n",
      "\u001b[94m•\u001b[0m Processing batch 6/7 for Gene: 10000 records\n",
      "\u001b[94m•\u001b[0m Processing batch 7/7 for Gene: 2595 records\n",
      "\u001b[92m✓\u001b[0m \u001b[1;92m62595 unique terms\u001b[0m (99.70%) are validated for \u001b[3mensembl_gene_id\u001b[0m\n",
      "\u001b[93m!\u001b[0m \u001b[1;93m159 unique terms\u001b[0m (0.30%) are not validated for \u001b[3mensembl_gene_id\u001b[0m: \u001b[1;93m'ENSG00000230699', 'ENSG00000241180', 'ENSG00000226849', 'ENSG00000272482', 'ENSG00000264443', 'ENSG00000281133', 'ENSG00000280836', 'ENSG00000281112', 'ENSG00000281825', 'ENSG00000279049', ...\u001b[0m\n",
      "\u001b[92m→\u001b[0m returning existing Gene record with same symbol: 'NCMAP-DT'\n",
      "\u001b[93m!\u001b[0m updated ensembl_gene_id from ENSG00000286061 to ENSG00000264443\n",
      "\u001b[93m!\u001b[0m ignoring tentative value 5epqKbkXe2L4 for uid, keeping 2GTXQqv2dSpK\n",
      "\u001b[93m!\u001b[0m you are trying to create a record with name='LINC01358' but records with similar symbols exist: 'LINC01342', 'LINC01346', 'LINC01345'. Did you mean to load one of them?\n",
      "\u001b[93m!\u001b[0m you are trying to create a record with name='LINC02797' but records with similar symbols exist: 'LINC02780', 'LINC02781', 'LINC02782'. Did you mean to load one of them?\n",
      "\u001b[93m!\u001b[0m you are trying to create a record with name='LINC02785' but records with similar symbols exist: 'LINC02780', 'LINC02781', 'LINC02782'. Did you mean to load one of them?\n",
      "\u001b[93m!\u001b[0m you are trying to create a record with name='LINC01357' but records with similar symbols exist: 'LINC01342', 'LINC01346', 'LINC01345'. Did you mean to load one of them?\n",
      "\u001b[93m!\u001b[0m you are trying to create a record with name='LINC01731' but records with similar symbols exist: 'LINC01786', 'LINC01770', 'LINC01777'. Did you mean to load one of them?\n",
      "\u001b[93m!\u001b[0m you are trying to create a record with name='LINC01655' but records with similar symbols exist: 'LINC01646', 'LINC01672', 'LINC01647'. Did you mean to load one of them?\n",
      "\u001b[93m!\u001b[0m you are trying to create a record with name='LINC02257' but records with similar symbols exist: 'LINC02238', 'LINC02245', 'LINC02270'. Did you mean to load one of them?\n",
      "\u001b[93m!\u001b[0m you are trying to create a record with name='LINC03081' but records with similar symbols exist: 'LINC03037', 'LINC03063', 'LINC03050'. Did you mean to load one of them?\n",
      "\u001b[93m!\u001b[0m you are trying to create a record with name='LINC01799' but records with similar symbols exist: 'LINC01786', 'LINC01770', 'LINC01777'. Did you mean to load one of them?\n",
      "\u001b[93m!\u001b[0m you are trying to create a record with name='FSIP2-AS2' but a record with similar symbol exists: 'FSIP2-AS1'. Did you mean to load it?\n",
      "\u001b[93m!\u001b[0m you are trying to create a record with name='LINC01494' but records with similar symbols exist: 'LINC01409', 'LINC01460', 'LINC01412'. Did you mean to load one of them?\n",
      "\u001b[92m→\u001b[0m returning existing Gene record with same symbol: 'ECEL1P2'\n",
      "\u001b[93m!\u001b[0m updated ensembl_gene_id from ENSG00000224516 to ENSG00000290681\n",
      "\u001b[93m!\u001b[0m ignoring tentative value 7VsfVOH1g9xD for uid, keeping 4wTKk7wp4nxq\n",
      "\u001b[93m!\u001b[0m you are trying to create a record with name='LINC01238' but records with similar symbols exist: 'LINC01226', 'LINC01222', 'LINC01221'. Did you mean to load one of them?\n",
      "\u001b[93m!\u001b[0m you are trying to create a record with name='LINC00500' but records with similar symbols exist: 'LINC00538', 'LINC00582', 'LINC00570'. Did you mean to load one of them?\n",
      "\u001b[93m!\u001b[0m you are trying to create a record with name='LINC02056' but records with similar symbols exist: 'LINC02022', 'LINC02011', 'LINC02084'. Did you mean to load one of them?\n",
      "\u001b[92m→\u001b[0m returning existing Gene record with same symbol: 'Vault'\n",
      "\u001b[93m!\u001b[0m updated ensembl_gene_id from ENSG00000252485 to ENSG00000278815\n",
      "\u001b[93m!\u001b[0m ignoring tentative value 3z83kZCpnnrC for uid, keeping 5siNfg4N8kRA\n",
      "\u001b[92m→\u001b[0m returning existing Gene record with same symbol: 'POLR2J4'\n",
      "\u001b[93m!\u001b[0m updated ensembl_gene_id from ENSG00000272655 to ENSG00000214783\n",
      "\u001b[93m!\u001b[0m ignoring tentative value 4smSEXwJNay0 for uid, keeping 67ybqpJu47hA\n",
      "\u001b[92m→\u001b[0m returning existing Gene record with same symbol: 'LINC02851'\n",
      "\u001b[93m!\u001b[0m updated ensembl_gene_id from ENSG00000225489 to ENSG00000229611\n",
      "\u001b[93m!\u001b[0m ignoring tentative value 1wkMFOQjySDs for uid, keeping 6mA3nqP54fBI\n",
      "\u001b[92m→\u001b[0m returning existing Gene record with same symbol: 'ALG1L9P'\n",
      "\u001b[93m!\u001b[0m updated ensembl_gene_id from ENSG00000254978 to ENSG00000248671\n",
      "\u001b[93m!\u001b[0m ignoring tentative value 598AjyY8Xd1u for uid, keeping 7Q19sNj7j61t\n",
      "\u001b[92m→\u001b[0m returning existing Gene record with same symbol: 'LINC00941'\n",
      "\u001b[93m!\u001b[0m updated ensembl_gene_id from ENSG00000285517 to ENSG00000235884\n",
      "\u001b[93m!\u001b[0m ignoring tentative value 7E8prJzZ9jMh for uid, keeping 4FfSa8RHuBOC\n",
      "\u001b[93m!\u001b[0m you are trying to create a record with name='USP12-DT' but a record with similar symbol exists: 'USP12-AS1'. Did you mean to load it?\n",
      "\u001b[93m!\u001b[0m you are trying to create a record with name='LINC02340' but records with similar symbols exist: 'LINC02360', 'LINC02357', 'LINC02364'. Did you mean to load one of them?\n",
      "\u001b[93m!\u001b[0m you are trying to create a record with name='LINC00545' but records with similar symbols exist: 'LINC00538', 'LINC00582', 'LINC00570'. Did you mean to load one of them?\n",
      "\u001b[93m!\u001b[0m you are trying to create a record with name='LINC00407' but records with similar symbols exist: 'LINC00466', 'LINC00467', 'LINC00487'. Did you mean to load one of them?\n",
      "\u001b[93m!\u001b[0m you are trying to create a record with name='LINC00560' but records with similar symbols exist: 'LINC00538', 'LINC00582', 'LINC00570'. Did you mean to load one of them?\n",
      "\u001b[93m!\u001b[0m you are trying to create a record with name='LINC00449' but records with similar symbols exist: 'LINC00466', 'LINC00467', 'LINC00487'. Did you mean to load one of them?\n",
      "\u001b[93m!\u001b[0m you are trying to create a record with name='LINC00443' but records with similar symbols exist: 'LINC00466', 'LINC00467', 'LINC00487'. Did you mean to load one of them?\n",
      "\u001b[93m!\u001b[0m you are trying to create a record with name='LINC03061' but records with similar symbols exist: 'LINC03037', 'LINC03063', 'LINC03050'. Did you mean to load one of them?\n",
      "\u001b[93m!\u001b[0m you are trying to create a record with name='HIF1A-AS1' but a record with similar symbol exists: 'HIF1A-AS3'. Did you mean to load it?\n",
      "\u001b[93m!\u001b[0m you are trying to create a record with name='LINC02254' but records with similar symbols exist: 'LINC02238', 'LINC02245', 'LINC02270'. Did you mean to load one of them?\n",
      "\u001b[92m→\u001b[0m returning existing Gene record with same symbol: 'PKD1P6-NPIPP1'\n",
      "\u001b[93m!\u001b[0m updated ensembl_gene_id from ENSG00000290394 to ENSG00000270580\n",
      "\u001b[93m!\u001b[0m ignoring tentative value 30ur2TZPVGv7 for uid, keeping GNA2PKfL1QAa\n",
      "\u001b[93m!\u001b[0m you are trying to create a record with name='LINC02193' but records with similar symbols exist: 'LINC02171', 'LINC02173', 'LINC02172'. Did you mean to load one of them?\n",
      "\u001b[93m!\u001b[0m you are trying to create a record with name='GRAPLDR' but a record with similar symbol exists: 'GRAPL'. Did you mean to load it?\n",
      "\u001b[93m!\u001b[0m you are trying to create a record with name='LINC02595' but records with similar symbols exist: 'LINC02593', 'LINC02596', 'LINC02574'. Did you mean to load one of them?\n",
      "\u001b[93m!\u001b[0m you are trying to create a record with name='TTTY21B' but records with similar symbols exist: 'TTTY2', 'TTTY23B', 'TTTY23B'. Did you mean to load one of them?\n",
      "\u001b[93m!\u001b[0m you are trying to create a record with name='TTTY21' but records with similar symbols exist: 'TTTY23B', 'TTTY23B', 'TTTY1B'. Did you mean to load one of them?\n",
      "\u001b[92m→\u001b[0m returning existing Gene record with same symbol: 'FAM41AY2'\n",
      "\u001b[93m!\u001b[0m updated ensembl_gene_id from ENSG00000290726 to ENSG00000226362\n",
      "\u001b[93m!\u001b[0m ignoring tentative value jSbGkFLgp6LA for uid, keeping 4o5MCnCbldQ8\n"
     ]
    },
    {
     "data": {
      "text/html": [
       "<pre style=\"white-space:pre;overflow-x:auto;line-height:normal;font-family:Menlo,'DejaVu Sans Mono',consolas,'Courier New',monospace\">registering mus_musculus genes\n",
       "</pre>\n"
      ],
      "text/plain": [
       "registering mus_musculus genes\n"
      ]
     },
     "metadata": {},
     "output_type": "display_data"
    },
    {
     "name": "stdout",
     "output_type": "stream",
     "text": [
      "\u001b[92m✓\u001b[0m created \u001b[1;95m56867 Gene records from Bionty\u001b[0m matching \u001b[3mensembl_gene_id\u001b[0m: \u001b[1;95m'ENSMUSG00000102693', 'ENSMUSG00000064842', 'ENSMUSG00000051951', 'ENSMUSG00000102851', 'ENSMUSG00000103377', 'ENSMUSG00000104017', 'ENSMUSG00000103025', 'ENSMUSG00000089699', 'ENSMUSG00000103201', 'ENSMUSG00000103147', 'ENSMUSG00000103161', 'ENSMUSG00000102331', 'ENSMUSG00000102348', 'ENSMUSG00000102592', 'ENSMUSG00000088333', 'ENSMUSG00000102343', 'ENSMUSG00000025900', 'ENSMUSG00000102948', 'ENSMUSG00000104123', 'ENSMUSG00000025902', ...\u001b[0m\n",
      "\u001b[94m•\u001b[0m \u001b[1;91mdid not create\u001b[0m Gene records for \u001b[1;93m74 non-validated\u001b[0m \u001b[3mensembl_gene_ids\u001b[0m: \u001b[1;93m'ENSMUSG00000043623', 'ENSMUSG00000046145', 'ENSMUSG00000046388', 'ENSMUSG00000046747', 'ENSMUSG00000047189', 'ENSMUSG00000048316', 'ENSMUSG00000048406', 'ENSMUSG00000049202', 'ENSMUSG00000052005', 'ENSMUSG00000052241', 'ENSMUSG00000052426', 'ENSMUSG00000052779', 'ENSMUSG00000054304', 'ENSMUSG00000054379', 'ENSMUSG00000054957', 'ENSMUSG00000055216', 'ENSMUSG00000055872', 'ENSMUSG00000055958', 'ENSMUSG00000055968', 'ENSMUSG00000056682', ...\u001b[0m\n",
      "\u001b[93m!\u001b[0m Starting bulk_create for 56867 Gene records in batches of 10000\n",
      "\u001b[94m•\u001b[0m Processing batch 1/6 for Gene: 10000 records\n",
      "\u001b[94m•\u001b[0m Processing batch 2/6 for Gene: 10000 records\n",
      "\u001b[94m•\u001b[0m Processing batch 3/6 for Gene: 10000 records\n",
      "\u001b[94m•\u001b[0m Processing batch 4/6 for Gene: 10000 records\n",
      "\u001b[94m•\u001b[0m Processing batch 5/6 for Gene: 10000 records\n",
      "\u001b[94m•\u001b[0m Processing batch 6/6 for Gene: 6867 records\n",
      "\u001b[92m✓\u001b[0m \u001b[1;92m56867 unique terms\u001b[0m (99.90%) are validated for \u001b[3mensembl_gene_id\u001b[0m\n",
      "\u001b[93m!\u001b[0m \u001b[1;93m74 unique terms\u001b[0m (0.10%) are not validated for \u001b[3mensembl_gene_id\u001b[0m: \u001b[1;93m'ENSMUSG00000067017', 'ENSMUSG00000102817', 'ENSMUSG00000075525', 'ENSMUSG00000069136', 'ENSMUSG00000048316', 'ENSMUSG00000091037', 'ENSMUSG00000075036', 'ENSMUSG00000058281', 'ENSMUSG00000052005', 'ENSMUSG00000074970', ...\u001b[0m\n",
      "\u001b[93m!\u001b[0m you are trying to create a record with name='Gm6185' but records with similar symbols exist: 'Gm6101', 'Gm6119', 'Gm6123'. Did you mean to load one of them?\n",
      "\u001b[93m!\u001b[0m you are trying to create a record with name='Gm10849' but records with similar symbols exist: 'Gm10862', 'Gm10857', 'Gm10855'. Did you mean to load one of them?\n",
      "\u001b[93m!\u001b[0m you are trying to create a record with name='Gm9823' but records with similar symbols exist: 'Gm9826', 'Gm9884', 'Gm9898'. Did you mean to load one of them?\n",
      "\u001b[93m!\u001b[0m you are trying to create a record with name='Gm17661' but records with similar symbols exist: 'Gm17644', 'Gm17634', 'Gm17619'. Did you mean to load one of them?\n",
      "\u001b[93m!\u001b[0m you are trying to create a record with name='Gm10805' but records with similar symbols exist: 'Gm10862', 'Gm10857', 'Gm10855'. Did you mean to load one of them?\n",
      "\u001b[93m!\u001b[0m you are trying to create a record with name='Gm10038' but records with similar symbols exist: 'Gm10075', 'Gm10062', 'Gm10059'. Did you mean to load one of them?\n",
      "\u001b[93m!\u001b[0m you are trying to create a record with name='Gm9864' but records with similar symbols exist: 'Gm9826', 'Gm9884', 'Gm9898'. Did you mean to load one of them?\n",
      "\u001b[93m!\u001b[0m you are trying to create a record with name='Gm10794' but records with similar symbols exist: 'Gm10774', 'Gm10766', 'Gm10762'. Did you mean to load one of them?\n",
      "\u001b[93m!\u001b[0m you are trying to create a record with name='Gm17258' but records with similar symbols exist: 'Gm17234', 'Gm17224', 'Gm17214'. Did you mean to load one of them?\n",
      "\u001b[93m!\u001b[0m you are trying to create a record with name='Gm10040' but records with similar symbols exist: 'Gm10075', 'Gm10062', 'Gm10059'. Did you mean to load one of them?\n",
      "\u001b[93m!\u001b[0m you are trying to create a record with name='Gm10702' but records with similar symbols exist: 'Gm10774', 'Gm10766', 'Gm10762'. Did you mean to load one of them?\n",
      "\u001b[93m!\u001b[0m you are trying to create a record with name='Gm10042' but records with similar symbols exist: 'Gm10075', 'Gm10062', 'Gm10059'. Did you mean to load one of them?\n",
      "\u001b[93m!\u001b[0m you are trying to create a record with name='Gm10583' but records with similar symbols exist: 'Gm10568', 'Gm10566', 'Gm10561'. Did you mean to load one of them?\n",
      "\u001b[93m!\u001b[0m you are trying to create a record with name='Gm10582' but records with similar symbols exist: 'Gm10568', 'Gm10566', 'Gm10561'. Did you mean to load one of them?\n",
      "\u001b[93m!\u001b[0m you are trying to create a record with name='Gm10581' but records with similar symbols exist: 'Gm10568', 'Gm10566', 'Gm10561'. Did you mean to load one of them?\n",
      "\u001b[93m!\u001b[0m you are trying to create a record with name='Gm10580' but records with similar symbols exist: 'Gm10568', 'Gm10566', 'Gm10561'. Did you mean to load one of them?\n",
      "\u001b[93m!\u001b[0m you are trying to create a record with name='Gm17376' but records with similar symbols exist: 'Gm17308', 'Gm17354', 'Gm17300'. Did you mean to load one of them?\n",
      "\u001b[93m!\u001b[0m you are trying to create a record with name='Gm10571' but records with similar symbols exist: 'Gm10568', 'Gm10566', 'Gm10561'. Did you mean to load one of them?\n",
      "\u001b[93m!\u001b[0m you are trying to create a record with name='Gm10205' but records with similar symbols exist: 'Gm10222', 'Gm10259', 'Gm10258'. Did you mean to load one of them?\n",
      "\u001b[93m!\u001b[0m you are trying to create a record with name='Gm10025' but records with similar symbols exist: 'Gm10075', 'Gm10062', 'Gm10059'. Did you mean to load one of them?\n",
      "\u001b[93m!\u001b[0m you are trying to create a record with name='Gm17420' but records with similar symbols exist: 'Gm17415', 'Gm17409', 'Gm17416'. Did you mean to load one of them?\n",
      "\u001b[93m!\u001b[0m you are trying to create a record with name='Gm21839' but records with similar symbols exist: 'Gm21850', 'Gm21847', 'Gm21846'. Did you mean to load one of them?\n",
      "\u001b[93m!\u001b[0m you are trying to create a record with name='Gm17472' but records with similar symbols exist: 'Gm17415', 'Gm17409', 'Gm17416'. Did you mean to load one of them?\n",
      "\u001b[93m!\u001b[0m you are trying to create a record with name='Gm55062' but records with similar symbols exist: 'Gm550', 'Gm55039', 'Gm55090'. Did you mean to load one of them?\n",
      "\u001b[93m!\u001b[0m you are trying to create a record with name='Gm11065' but records with similar symbols exist: 'Gm11007', 'Gm11008', 'Gm11009'. Did you mean to load one of them?\n",
      "\u001b[93m!\u001b[0m you are trying to create a record with name='Gm45783' but records with similar symbols exist: 'Gm45784', 'Gm45790', 'Gm45738'. Did you mean to load one of them?\n",
      "\u001b[93m!\u001b[0m you are trying to create a record with name='Gm10974' but records with similar symbols exist: 'Gm10985', 'Gm10972', 'Gm10961'. Did you mean to load one of them?\n",
      "\u001b[93m!\u001b[0m you are trying to create a record with name='Gm10172' but records with similar symbols exist: 'Gm10193', 'Gm10138', 'Gm10176'. Did you mean to load one of them?\n",
      "\u001b[93m!\u001b[0m you are trying to create a record with name='Gm9988' but records with similar symbols exist: 'Gm9947', 'Gm9915', 'Gm9991'. Did you mean to load one of them?\n",
      "\u001b[93m!\u001b[0m you are trying to create a record with name='Gm10620' but records with similar symbols exist: 'Gm10685', 'Gm10652', 'Gm10650'. Did you mean to load one of them?\n",
      "\u001b[93m!\u001b[0m you are trying to create a record with name='Gm10617' but records with similar symbols exist: 'Gm10685', 'Gm10652', 'Gm10650'. Did you mean to load one of them?\n",
      "\u001b[93m!\u001b[0m you are trying to create a record with name='Gm17571' but records with similar symbols exist: 'Gm17501', 'Gm17590', 'Gm17511'. Did you mean to load one of them?\n",
      "\u001b[93m!\u001b[0m you are trying to create a record with name='Gm17711' but records with similar symbols exist: 'Gm17767', 'Gm17751', 'Gm17764'. Did you mean to load one of them?\n",
      "\u001b[93m!\u001b[0m you are trying to create a record with name='Gm10812' but records with similar symbols exist: 'Gm10862', 'Gm10857', 'Gm10855'. Did you mean to load one of them?\n",
      "\u001b[93m!\u001b[0m you are trying to create a record with name='Gm9987' but records with similar symbols exist: 'Gm9947', 'Gm9915', 'Gm9991'. Did you mean to load one of them?\n",
      "\u001b[93m!\u001b[0m you are trying to create a record with name='Gm9877' but records with similar symbols exist: 'Gm9826', 'Gm9884', 'Gm9898'. Did you mean to load one of them?\n",
      "\u001b[93m!\u001b[0m you are trying to create a record with name='Gm9985' but records with similar symbols exist: 'Gm9947', 'Gm9915', 'Gm9991'. Did you mean to load one of them?\n",
      "\u001b[93m!\u001b[0m you are trying to create a record with name='Gm10434' but records with similar symbols exist: 'Gm10484', 'Gm10482', 'Gm10481'. Did you mean to load one of them?\n",
      "\u001b[93m!\u001b[0m you are trying to create a record with name='Gm10418' but records with similar symbols exist: 'Gm10484', 'Gm10482', 'Gm10481'. Did you mean to load one of them?\n",
      "\u001b[93m!\u001b[0m you are trying to create a record with name='Gm16487' but records with similar symbols exist: 'Gm16418', 'Gm1647', 'Gm16401'. Did you mean to load one of them?\n",
      "\u001b[93m!\u001b[0m you are trying to create a record with name='Gm48693' but records with similar symbols exist: 'Gm48628', 'Gm4860', 'Gm4861'. Did you mean to load one of them?\n",
      "\u001b[93m!\u001b[0m you are trying to create a record with name='Gm10478' but records with similar symbols exist: 'Gm10484', 'Gm10482', 'Gm10481'. Did you mean to load one of them?\n",
      "\u001b[93m!\u001b[0m you are trying to create a record with name='Gm9812' but records with similar symbols exist: 'Gm9826', 'Gm9884', 'Gm9898'. Did you mean to load one of them?\n",
      "\u001b[93m!\u001b[0m you are trying to create a record with name='Gm17528' but records with similar symbols exist: 'Gm17501', 'Gm17590', 'Gm17511'. Did you mean to load one of them?\n",
      "\u001b[93m!\u001b[0m you are trying to create a record with name='Gm49800' but records with similar symbols exist: 'Gm4982', 'Gm49884', 'Gm49890'. Did you mean to load one of them?\n",
      "\u001b[93m!\u001b[0m you are trying to create a record with name='Gm41414' but records with similar symbols exist: 'Gm4149', 'Gm41409', 'Gm41434'. Did you mean to load one of them?\n",
      "\u001b[93m!\u001b[0m you are trying to create a record with name='Gm6467' but records with similar symbols exist: 'Gm6420', 'Gm6462', 'Gm6473'. Did you mean to load one of them?\n",
      "\u001b[93m!\u001b[0m you are trying to create a record with name='Gm37419' but records with similar symbols exist: 'Gm37483', 'Gm37429', 'Gm37489'. Did you mean to load one of them?\n",
      "\u001b[93m!\u001b[0m you are trying to create a record with name='Gm10813' but records with similar symbols exist: 'Gm10862', 'Gm10857', 'Gm10855'. Did you mean to load one of them?\n",
      "\u001b[93m!\u001b[0m you are trying to create a record with name='Gm37825' but records with similar symbols exist: 'Gm378', 'Gm37862', 'Gm37880'. Did you mean to load one of them?\n",
      "\u001b[93m!\u001b[0m you are trying to create a record with name='Gm56610' but records with similar symbols exist: 'Gm56675', 'Gm5660', 'Gm56617'. Did you mean to load one of them?\n",
      "\u001b[93m!\u001b[0m you are trying to create a record with name='Gm1604b' but records with similar symbols exist: 'Gm16041', 'Gm16070', 'Gm16076'. Did you mean to load one of them?\n",
      "\u001b[93m!\u001b[0m you are trying to create a record with name='Gm9818' but records with similar symbols exist: 'Gm9826', 'Gm9884', 'Gm9898'. Did you mean to load one of them?\n",
      "\u001b[93m!\u001b[0m you are trying to create a record with name='Gm9959' but records with similar symbols exist: 'Gm9947', 'Gm9915', 'Gm9991'. Did you mean to load one of them?\n",
      "\u001b[93m!\u001b[0m you are trying to create a record with name='Gm2531' but records with similar symbols exist: 'Gm25253', 'Gm25227', 'Gm25168'. Did you mean to load one of them?\n",
      "\u001b[93m!\u001b[0m you are trying to create a record with name='Gm6960' but records with similar symbols exist: 'Gm6947', 'Gm6900', 'Gm6909'. Did you mean to load one of them?\n",
      "\u001b[93m!\u001b[0m you are trying to create a record with name='Gm9806' but records with similar symbols exist: 'Gm9826', 'Gm9884', 'Gm9898'. Did you mean to load one of them?\n"
     ]
    },
    {
     "data": {
      "text/html": [
       "<pre style=\"white-space:pre;overflow-x:auto;line-height:normal;font-family:Menlo,'DejaVu Sans Mono',consolas,'Courier New',monospace\">registering synthetic_construct genes\n",
       "</pre>\n"
      ],
      "text/plain": [
       "registering synthetic_construct genes\n"
      ]
     },
     "metadata": {},
     "output_type": "display_data"
    },
    {
     "name": "stdout",
     "output_type": "stream",
     "text": [
      "\u001b[92m✓\u001b[0m \u001b[1;92m92 unique terms\u001b[0m (100.00%) are validated for \u001b[3mensembl_gene_id\u001b[0m\n"
     ]
    },
    {
     "data": {
      "text/html": [
       "<pre style=\"white-space:pre;overflow-x:auto;line-height:normal;font-family:Menlo,'DejaVu Sans Mono',consolas,'Courier New',monospace\">registering severe_acute_respiratory_syndrome_coronavirus_2 genes\n",
       "</pre>\n"
      ],
      "text/plain": [
       "registering severe_acute_respiratory_syndrome_coronavirus_2 genes\n"
      ]
     },
     "metadata": {},
     "output_type": "display_data"
    },
    {
     "name": "stdout",
     "output_type": "stream",
     "text": [
      "\u001b[93m!\u001b[0m Your Gene registry is empty, consider populating it first!\n",
      "   → use `.import_source()` to import records from a source, e.g. a public ontology\n"
     ]
    }
   ],
   "source": [
    "register_genes()"
   ]
  },
  {
   "cell_type": "markdown",
   "id": "91941817-2afa-403a-8494-0759b1ef8e16",
   "metadata": {},
   "source": [
    "## Link metadata to individual artifacts"
   ]
  },
  {
   "cell_type": "markdown",
   "id": "d49b511a-0960-488a-95c4-0d09c829e481",
   "metadata": {},
   "source": [
    "annotate with genes measured in each artifact:"
   ]
  },
  {
   "cell_type": "code",
   "execution_count": 32,
   "id": "5cf186a6-fd8e-448d-8dbc-02096c89b6ab",
   "metadata": {
    "tags": []
   },
   "outputs": [],
   "source": [
    "organisms = bt.Organism.lookup(field=bt.Organism.scientific_name)"
   ]
  },
  {
   "cell_type": "code",
   "execution_count": 34,
   "id": "85cc438e-4cb9-4611-a058-861b8979b9f2",
   "metadata": {
    "scrolled": true,
    "tags": [
     "hide-output"
    ]
   },
   "outputs": [
    {
     "name": "stdout",
     "output_type": "stream",
     "text": [
      "annotating dataset 0 of 1573\n",
      "\u001b[92m✓\u001b[0m loaded \u001b[1;92m36402 Gene records\u001b[0m matching \u001b[3mensembl_gene_id\u001b[0m: \u001b[1;92m'ENSG00000243485', 'ENSG00000237613', 'ENSG00000186092', 'ENSG00000238009', 'ENSG00000239945', 'ENSG00000239906', 'ENSG00000241860', 'ENSG00000241599', 'ENSG00000286448', 'ENSG00000236601', 'ENSG00000284733', 'ENSG00000235146', 'ENSG00000284662', 'ENSG00000229905', 'ENSG00000237491', 'ENSG00000177757', 'ENSG00000228794', 'ENSG00000225880', 'ENSG00000230368', 'ENSG00000272438', ...\u001b[0m\n",
      "\u001b[92m✓\u001b[0m created \u001b[1;95m4 Gene records from Bionty\u001b[0m matching \u001b[3mensembl_gene_id\u001b[0m: \u001b[1;95m'ENSG00000224516', 'ENSG00000225489', 'ENSG00000285517', 'ENSG00000286061'\u001b[0m\n",
      "\u001b[92m✓\u001b[0m loaded \u001b[1;92m61752 Gene records\u001b[0m matching \u001b[3mensembl_gene_id\u001b[0m: \u001b[1;92m'ENSG00000000003', 'ENSG00000000005', 'ENSG00000000419', 'ENSG00000000457', 'ENSG00000000460', 'ENSG00000000938', 'ENSG00000000971', 'ENSG00000001036', 'ENSG00000001084', 'ENSG00000001167', 'ENSG00000001460', 'ENSG00000001461', 'ENSG00000001497', 'ENSG00000001561', 'ENSG00000001617', 'ENSG00000001626', 'ENSG00000001629', 'ENSG00000001630', 'ENSG00000001631', 'ENSG00000002016', ...\u001b[0m\n",
      "\u001b[92m✓\u001b[0m created \u001b[1;95m7 Gene records from Bionty\u001b[0m matching \u001b[3mensembl_gene_id\u001b[0m: \u001b[1;95m'ENSG00000224516', 'ENSG00000225489', 'ENSG00000252485', 'ENSG00000254978', 'ENSG00000272655', 'ENSG00000285517', 'ENSG00000286061'\u001b[0m\n",
      "\u001b[92m✓\u001b[0m loaded \u001b[1;92m59230 Gene records\u001b[0m matching \u001b[3mensembl_gene_id\u001b[0m: \u001b[1;92m'ENSG00000110169', 'ENSG00000224458', 'ENSG00000227392', 'ENSG00000287870', 'ENSG00000259895', 'ENSG00000253675', 'ENSG00000259334', 'ENSG00000287878', 'ENSG00000151577', 'ENSG00000235743', 'ENSG00000253608', 'ENSG00000165621', 'ENSG00000170820', 'ENSG00000282890', 'ENSG00000279658', 'ENSG00000263146', 'ENSG00000224750', 'ENSG00000229240', 'ENSG00000276778', 'ENSG00000283453', ...\u001b[0m\n",
      "\u001b[92m✓\u001b[0m created \u001b[1;95m6 Gene records from Bionty\u001b[0m matching \u001b[3mensembl_gene_id\u001b[0m: \u001b[1;95m'ENSG00000224516', 'ENSG00000225489', 'ENSG00000252485', 'ENSG00000254978', 'ENSG00000285517', 'ENSG00000286061'\u001b[0m\n",
      "\u001b[92m✓\u001b[0m loaded \u001b[1;92m36402 Gene records\u001b[0m matching \u001b[3mensembl_gene_id\u001b[0m: \u001b[1;92m'ENSG00000243485', 'ENSG00000237613', 'ENSG00000186092', 'ENSG00000238009', 'ENSG00000239945', 'ENSG00000239906', 'ENSG00000241860', 'ENSG00000241599', 'ENSG00000286448', 'ENSG00000236601', 'ENSG00000284733', 'ENSG00000235146', 'ENSG00000284662', 'ENSG00000229905', 'ENSG00000237491', 'ENSG00000177757', 'ENSG00000228794', 'ENSG00000225880', 'ENSG00000230368', 'ENSG00000272438', ...\u001b[0m\n",
      "\u001b[92m✓\u001b[0m created \u001b[1;95m4 Gene records from Bionty\u001b[0m matching \u001b[3mensembl_gene_id\u001b[0m: \u001b[1;95m'ENSG00000224516', 'ENSG00000225489', 'ENSG00000285517', 'ENSG00000286061'\u001b[0m\n",
      "\u001b[92m✓\u001b[0m loaded \u001b[1;92m18784 Gene records\u001b[0m matching \u001b[3mensembl_gene_id\u001b[0m: \u001b[1;92m'ENSG00000227232', 'ENSG00000177757', 'ENSG00000225880', 'ENSG00000228794', 'ENSG00000230368', 'ENSG00000187634', 'ENSG00000188976', 'ENSG00000187961', 'ENSG00000187583', 'ENSG00000187642', 'ENSG00000188290', 'ENSG00000187608', 'ENSG00000188157', 'ENSG00000131591', 'ENSG00000223823', 'ENSG00000162571', 'ENSG00000186891', 'ENSG00000186827', 'ENSG00000078808', 'ENSG00000176022', ...\u001b[0m\n",
      "\u001b[92m✓\u001b[0m created \u001b[1;95m2 Gene records from Bionty\u001b[0m matching \u001b[3mensembl_gene_id\u001b[0m: \u001b[1;95m'ENSG00000254978', 'ENSG00000286061'\u001b[0m\n",
      "\u001b[92m✓\u001b[0m loaded \u001b[1;92m36402 Gene records\u001b[0m matching \u001b[3mensembl_gene_id\u001b[0m: \u001b[1;92m'ENSG00000243485', 'ENSG00000237613', 'ENSG00000186092', 'ENSG00000238009', 'ENSG00000239945', 'ENSG00000239906', 'ENSG00000241860', 'ENSG00000241599', 'ENSG00000286448', 'ENSG00000236601', 'ENSG00000284733', 'ENSG00000235146', 'ENSG00000284662', 'ENSG00000229905', 'ENSG00000237491', 'ENSG00000177757', 'ENSG00000228794', 'ENSG00000225880', 'ENSG00000230368', 'ENSG00000272438', ...\u001b[0m\n",
      "\u001b[92m✓\u001b[0m created \u001b[1;95m4 Gene records from Bionty\u001b[0m matching \u001b[3mensembl_gene_id\u001b[0m: \u001b[1;95m'ENSG00000224516', 'ENSG00000225489', 'ENSG00000285517', 'ENSG00000286061'\u001b[0m\n",
      "\u001b[92m✓\u001b[0m loaded \u001b[1;92m30865 Gene records\u001b[0m matching \u001b[3mensembl_gene_id\u001b[0m: \u001b[1;92m'ENSG00000243485', 'ENSG00000237613', 'ENSG00000186092', 'ENSG00000238009', 'ENSG00000239945', 'ENSG00000239906', 'ENSG00000241599', 'ENSG00000228463', 'ENSG00000237094', 'ENSG00000236601', 'ENSG00000235146', 'ENSG00000230021', 'ENSG00000229905', 'ENSG00000228327', 'ENSG00000237491', 'ENSG00000177757', 'ENSG00000225880', 'ENSG00000230368', 'ENSG00000272438', 'ENSG00000230699', ...\u001b[0m\n",
      "\u001b[92m✓\u001b[0m created \u001b[1;95m2 Gene records from Bionty\u001b[0m matching \u001b[3mensembl_gene_id\u001b[0m: \u001b[1;95m'ENSG00000224516', 'ENSG00000225489'\u001b[0m\n",
      "\u001b[92m✓\u001b[0m loaded \u001b[1;92m19742 Gene records\u001b[0m matching \u001b[3mensembl_gene_id\u001b[0m: \u001b[1;92m'ENSG00000238009', 'ENSG00000237491', 'ENSG00000225880', 'ENSG00000230368', 'ENSG00000188976', 'ENSG00000187961', 'ENSG00000188290', 'ENSG00000187608', 'ENSG00000188157', 'ENSG00000131591', 'ENSG00000186891', 'ENSG00000186827', 'ENSG00000078808', 'ENSG00000176022', 'ENSG00000184163', 'ENSG00000160087', 'ENSG00000162572', 'ENSG00000131584', 'ENSG00000169972', 'ENSG00000127054', ...\u001b[0m\n",
      "\u001b[92m✓\u001b[0m created \u001b[1;95m2 Gene records from Bionty\u001b[0m matching \u001b[3mensembl_gene_id\u001b[0m: \u001b[1;95m'ENSG00000224516', 'ENSG00000225489'\u001b[0m\n",
      "\u001b[92m✓\u001b[0m loaded \u001b[1;92m54647 Gene records\u001b[0m matching \u001b[3mensembl_gene_id\u001b[0m: \u001b[1;92m'ENSG00000249311', 'ENSG00000168454', 'ENSG00000254720', 'ENSG00000197852', 'ENSG00000256540', 'ENSG00000139180', 'ENSG00000259284', 'ENSG00000201382', 'ENSG00000204564', 'ENSG00000267414', 'ENSG00000250715', 'ENSG00000116717', 'ENSG00000114654', 'ENSG00000198398', 'ENSG00000252487', 'ENSG00000273489', 'ENSG00000256627', 'ENSG00000235996', 'ENSG00000085117', 'ENSG00000092140', ...\u001b[0m\n",
      "\u001b[92m✓\u001b[0m created \u001b[1;95m2 Gene records from Bionty\u001b[0m matching \u001b[3mensembl_gene_id\u001b[0m: \u001b[1;95m'ENSG00000224516', 'ENSG00000225489'\u001b[0m\n",
      "\u001b[92m✓\u001b[0m loaded \u001b[1;92m30865 Gene records\u001b[0m matching \u001b[3mensembl_gene_id\u001b[0m: \u001b[1;92m'ENSG00000243485', 'ENSG00000237613', 'ENSG00000186092', 'ENSG00000238009', 'ENSG00000239945', 'ENSG00000239906', 'ENSG00000241599', 'ENSG00000228463', 'ENSG00000237094', 'ENSG00000236601', 'ENSG00000235146', 'ENSG00000230021', 'ENSG00000229905', 'ENSG00000228327', 'ENSG00000237491', 'ENSG00000177757', 'ENSG00000225880', 'ENSG00000230368', 'ENSG00000272438', 'ENSG00000230699', ...\u001b[0m\n",
      "\u001b[92m✓\u001b[0m created \u001b[1;95m2 Gene records from Bionty\u001b[0m matching \u001b[3mensembl_gene_id\u001b[0m: \u001b[1;95m'ENSG00000224516', 'ENSG00000225489'\u001b[0m\n",
      "\u001b[92m✓\u001b[0m loaded \u001b[1;92m30262 Gene records\u001b[0m matching \u001b[3mensembl_gene_id\u001b[0m: \u001b[1;92m'ENSG00000233576', 'ENSG00000121410', 'ENSG00000268895', 'ENSG00000148584', 'ENSG00000175899', 'ENSG00000245105', 'ENSG00000166535', 'ENSG00000256069', 'ENSG00000184389', 'ENSG00000128274', 'ENSG00000118017', 'ENSG00000265544', 'ENSG00000094914', 'ENSG00000081760', 'ENSG00000250420', 'ENSG00000114771', 'ENSG00000197953', 'ENSG00000242908', 'ENSG00000188984', 'ENSG00000204518', ...\u001b[0m\n",
      "\u001b[92m✓\u001b[0m created \u001b[1;95m1 Gene record from Bionty\u001b[0m matching \u001b[3mensembl_gene_id\u001b[0m: \u001b[1;95m'ENSG00000286061'\u001b[0m\n",
      "\u001b[92m✓\u001b[0m loaded \u001b[1;92m22981 Gene records\u001b[0m matching \u001b[3mensembl_gene_id\u001b[0m: \u001b[1;92m'ENSG00000121410', 'ENSG00000268895', 'ENSG00000148584', 'ENSG00000245105', 'ENSG00000166535', 'ENSG00000128274', 'ENSG00000094914', 'ENSG00000081760', 'ENSG00000114771', 'ENSG00000109576', 'ENSG00000158122', 'ENSG00000103591', 'ENSG00000115977', 'ENSG00000087884', 'ENSG00000127837', 'ENSG00000129673', 'ENSG00000131043', 'ENSG00000205002', 'ENSG00000090861', 'ENSG00000124608', ...\u001b[0m\n",
      "\u001b[92m✓\u001b[0m created \u001b[1;95m3 Gene records from Bionty\u001b[0m matching \u001b[3mensembl_gene_id\u001b[0m: \u001b[1;95m'ENSG00000225489', 'ENSG00000285517', 'ENSG00000286061'\u001b[0m\n",
      "\u001b[92m✓\u001b[0m loaded \u001b[1;92m18174 Gene records\u001b[0m matching \u001b[3mensembl_gene_id\u001b[0m: \u001b[1;92m'ENSG00000100568', 'ENSG00000101440', 'ENSG00000136630', 'ENSG00000061936', 'ENSG00000155330', 'ENSG00000257303', 'ENSG00000119917', 'ENSG00000147421', 'ENSG00000108469', 'ENSG00000104522', 'ENSG00000214367', 'ENSG00000106780', 'ENSG00000129472', 'ENSG00000270096', 'ENSG00000138722', 'ENSG00000154025', 'ENSG00000104960', 'ENSG00000128000', 'ENSG00000249790', 'ENSG00000266208', ...\u001b[0m\n",
      "\u001b[92m✓\u001b[0m created \u001b[1;95m1 Gene record from Bionty\u001b[0m matching \u001b[3mensembl_gene_id\u001b[0m: \u001b[1;95m'ENSG00000225489'\u001b[0m\n",
      "\u001b[92m✓\u001b[0m loaded \u001b[1;92m33143 Gene records\u001b[0m matching \u001b[3mensembl_gene_id\u001b[0m: \u001b[1;92m'ENSG00000000003', 'ENSG00000000005', 'ENSG00000000419', 'ENSG00000000457', 'ENSG00000000460', 'ENSG00000000938', 'ENSG00000000971', 'ENSG00000001036', 'ENSG00000001084', 'ENSG00000001167', 'ENSG00000001460', 'ENSG00000001461', 'ENSG00000001497', 'ENSG00000001561', 'ENSG00000001617', 'ENSG00000001626', 'ENSG00000001629', 'ENSG00000001630', 'ENSG00000001631', 'ENSG00000002016', ...\u001b[0m\n",
      "\u001b[92m✓\u001b[0m created \u001b[1;95m2 Gene records from Bionty\u001b[0m matching \u001b[3mensembl_gene_id\u001b[0m: \u001b[1;95m'ENSG00000224516', 'ENSG00000225489'\u001b[0m\n",
      "\u001b[94m•\u001b[0m \u001b[1;91mdid not create\u001b[0m Gene records for \u001b[1;93m10 non-validated\u001b[0m \u001b[3mensembl_gene_ids\u001b[0m: \u001b[1;93m'ENSSASG00005000004', 'ENSSASG00005000005', 'ENSSASG00005000006', 'ENSSASG00005000007', 'ENSSASG00005000008', 'ENSSASG00005000009', 'ENSSASG00005000010', 'ENSSASG00005000011', 'ENSSASG00005000012', 'ENSSASG00005000013'\u001b[0m\n"
     ]
    },
    {
     "ename": "ValueError",
     "evalue": "No source record found for filter {'entity': 'bionty.Gene', 'organism': 'sars-2'}",
     "output_type": "error",
     "traceback": [
      "\u001b[31m---------------------------------------------------------------------------\u001b[39m",
      "\u001b[31mValueError\u001b[39m                                Traceback (most recent call last)",
      "\u001b[36mCell\u001b[39m\u001b[36m \u001b[39m\u001b[32mIn[34]\u001b[39m\u001b[32m, line 27\u001b[39m\n\u001b[32m     21\u001b[39m     genes += bt.Gene.from_values(\n\u001b[32m     22\u001b[39m         var_names,\n\u001b[32m     23\u001b[39m         field=bt.Gene.ensembl_gene_id,\n\u001b[32m     24\u001b[39m         organism=organisms.synthetic_construct,\n\u001b[32m     25\u001b[39m     )\n\u001b[32m     26\u001b[39m \u001b[38;5;28;01mif\u001b[39;00m \u001b[38;5;28mlen\u001b[39m(var_names[var_names.str.startswith(\u001b[33m\"\u001b[39m\u001b[33mENSSASG\u001b[39m\u001b[33m\"\u001b[39m)]) > \u001b[32m0\u001b[39m:\n\u001b[32m---> \u001b[39m\u001b[32m27\u001b[39m     genes += \u001b[43mbt\u001b[49m\u001b[43m.\u001b[49m\u001b[43mGene\u001b[49m\u001b[43m.\u001b[49m\u001b[43mfrom_values\u001b[49m\u001b[43m(\u001b[49m\n\u001b[32m     28\u001b[39m \u001b[43m        \u001b[49m\u001b[43mvar_names\u001b[49m\u001b[43m,\u001b[49m\n\u001b[32m     29\u001b[39m \u001b[43m        \u001b[49m\u001b[43mfield\u001b[49m\u001b[43m=\u001b[49m\u001b[43mbt\u001b[49m\u001b[43m.\u001b[49m\u001b[43mGene\u001b[49m\u001b[43m.\u001b[49m\u001b[43mensembl_gene_id\u001b[49m\u001b[43m,\u001b[49m\n\u001b[32m     30\u001b[39m \u001b[43m        \u001b[49m\u001b[43morganism\u001b[49m\u001b[43m=\u001b[49m\u001b[43morganisms\u001b[49m\u001b[43m.\u001b[49m\u001b[43msevere_acute_respiratory_syndrome_coronavirus_2\u001b[49m\u001b[43m,\u001b[49m\n\u001b[32m     31\u001b[39m \u001b[43m    \u001b[49m\u001b[43m)\u001b[49m\n",
      "\u001b[36mFile \u001b[39m\u001b[32m~/code/lamindb/lamindb/models/can_curate.py:612\u001b[39m, in \u001b[36mCanCurate.from_values\u001b[39m\u001b[34m(cls, values, field, create, organism, source, mute)\u001b[39m\n\u001b[32m    570\u001b[39m \u001b[38;5;129m@classmethod\u001b[39m\n\u001b[32m    571\u001b[39m \u001b[38;5;28;01mdef\u001b[39;00m\u001b[38;5;250m \u001b[39m\u001b[34mfrom_values\u001b[39m(\n\u001b[32m    572\u001b[39m     \u001b[38;5;28mcls\u001b[39m,\n\u001b[32m   (...)\u001b[39m\u001b[32m    578\u001b[39m     mute: \u001b[38;5;28mbool\u001b[39m = \u001b[38;5;28;01mFalse\u001b[39;00m,\n\u001b[32m    579\u001b[39m ) -> SQLRecordList:\n\u001b[32m    580\u001b[39m \u001b[38;5;250m    \u001b[39m\u001b[33;03m\"\"\"Bulk create validated records by parsing values for an identifier such as a name or an id).\u001b[39;00m\n\u001b[32m    581\u001b[39m \n\u001b[32m    582\u001b[39m \u001b[33;03m    Args:\u001b[39;00m\n\u001b[32m   (...)\u001b[39m\u001b[32m    610\u001b[39m \u001b[33;03m        bt.CellType.from_values([\"T cell\", \"B cell\"]).save()\u001b[39;00m\n\u001b[32m    611\u001b[39m \u001b[33;03m    \"\"\"\u001b[39;00m\n\u001b[32m--> \u001b[39m\u001b[32m612\u001b[39m     \u001b[38;5;28;01mreturn\u001b[39;00m \u001b[43m_from_values\u001b[49m\u001b[43m(\u001b[49m\n\u001b[32m    613\u001b[39m \u001b[43m        \u001b[49m\u001b[43miterable\u001b[49m\u001b[43m=\u001b[49m\u001b[43mvalues\u001b[49m\u001b[43m,\u001b[49m\n\u001b[32m    614\u001b[39m \u001b[43m        \u001b[49m\u001b[43mfield\u001b[49m\u001b[43m=\u001b[49m\u001b[38;5;28;43mgetattr\u001b[39;49m\u001b[43m(\u001b[49m\u001b[38;5;28;43mcls\u001b[39;49m\u001b[43m,\u001b[49m\u001b[43m \u001b[49m\u001b[43mget_name_field\u001b[49m\u001b[43m(\u001b[49m\u001b[38;5;28;43mcls\u001b[39;49m\u001b[43m,\u001b[49m\u001b[43m \u001b[49m\u001b[43mfield\u001b[49m\u001b[43m=\u001b[49m\u001b[43mfield\u001b[49m\u001b[43m)\u001b[49m\u001b[43m)\u001b[49m\u001b[43m,\u001b[49m\n\u001b[32m    615\u001b[39m \u001b[43m        \u001b[49m\u001b[43mcreate\u001b[49m\u001b[43m=\u001b[49m\u001b[43mcreate\u001b[49m\u001b[43m,\u001b[49m\n\u001b[32m    616\u001b[39m \u001b[43m        \u001b[49m\u001b[43morganism\u001b[49m\u001b[43m=\u001b[49m\u001b[43morganism\u001b[49m\u001b[43m,\u001b[49m\n\u001b[32m    617\u001b[39m \u001b[43m        \u001b[49m\u001b[43msource\u001b[49m\u001b[43m=\u001b[49m\u001b[43msource\u001b[49m\u001b[43m,\u001b[49m\n\u001b[32m    618\u001b[39m \u001b[43m        \u001b[49m\u001b[43mmute\u001b[49m\u001b[43m=\u001b[49m\u001b[43mmute\u001b[49m\u001b[43m,\u001b[49m\n\u001b[32m    619\u001b[39m \u001b[43m    \u001b[49m\u001b[43m)\u001b[49m\n",
      "\u001b[36mFile \u001b[39m\u001b[32m~/code/lamindb/lamindb/models/_from_values.py:64\u001b[39m, in \u001b[36m_from_values\u001b[39m\u001b[34m(iterable, field, create, organism, source, mute)\u001b[39m\n\u001b[32m     58\u001b[39m \u001b[38;5;28;01mif\u001b[39;00m (\n\u001b[32m     59\u001b[39m     organism_record \u001b[38;5;129;01mis\u001b[39;00m \u001b[38;5;28;01mNone\u001b[39;00m\n\u001b[32m     60\u001b[39m     \u001b[38;5;129;01mand\u001b[39;00m \u001b[38;5;28mlen\u001b[39m(records) > \u001b[32m0\u001b[39m\n\u001b[32m     61\u001b[39m     \u001b[38;5;129;01mand\u001b[39;00m is_organism_required(registry)\n\u001b[32m     62\u001b[39m ):\n\u001b[32m     63\u001b[39m     organism_record = records[\u001b[32m0\u001b[39m].organism\n\u001b[32m---> \u001b[39m\u001b[32m64\u001b[39m records_public, unmapped_values = \u001b[43mcreate_records_from_source\u001b[49m\u001b[43m(\u001b[49m\n\u001b[32m     65\u001b[39m \u001b[43m    \u001b[49m\u001b[43miterable_idx\u001b[49m\u001b[43m=\u001b[49m\u001b[43mnonexist_values\u001b[49m\u001b[43m,\u001b[49m\n\u001b[32m     66\u001b[39m \u001b[43m    \u001b[49m\u001b[43mfield\u001b[49m\u001b[43m=\u001b[49m\u001b[43mfield\u001b[49m\u001b[43m,\u001b[49m\n\u001b[32m     67\u001b[39m \u001b[43m    \u001b[49m\u001b[43morganism\u001b[49m\u001b[43m=\u001b[49m\u001b[43morganism_record\u001b[49m\u001b[43m,\u001b[49m\n\u001b[32m     68\u001b[39m \u001b[43m    \u001b[49m\u001b[43msource\u001b[49m\u001b[43m=\u001b[49m\u001b[43msource\u001b[49m\u001b[43m,\u001b[49m\n\u001b[32m     69\u001b[39m \u001b[43m    \u001b[49m\u001b[43mmsg\u001b[49m\u001b[43m=\u001b[49m\u001b[43mmsg\u001b[49m\u001b[43m,\u001b[49m\n\u001b[32m     70\u001b[39m \u001b[43m    \u001b[49m\u001b[43mmute\u001b[49m\u001b[43m=\u001b[49m\u001b[43mmute\u001b[49m\u001b[43m,\u001b[49m\n\u001b[32m     71\u001b[39m \u001b[43m\u001b[49m\u001b[43m)\u001b[49m\n\u001b[32m     72\u001b[39m \u001b[38;5;28;01mif\u001b[39;00m \u001b[38;5;28mlen\u001b[39m(records_public) > \u001b[32m0\u001b[39m:\n\u001b[32m     73\u001b[39m     msg = \u001b[33m\"\u001b[39m\u001b[33m\"\u001b[39m\n",
      "\u001b[36mFile \u001b[39m\u001b[32m~/code/lamindb/lamindb/models/_from_values.py:192\u001b[39m, in \u001b[36mcreate_records_from_source\u001b[39m\u001b[34m(iterable_idx, field, organism, source, msg, mute)\u001b[39m\n\u001b[32m    189\u001b[39m \u001b[38;5;28;01mfrom\u001b[39;00m\u001b[38;5;250m \u001b[39m\u001b[34;01mbionty\u001b[39;00m\u001b[34;01m.\u001b[39;00m\u001b[34;01m_source\u001b[39;00m\u001b[38;5;250m \u001b[39m\u001b[38;5;28;01mimport\u001b[39;00m filter_public_df_columns, get_source_record\n\u001b[32m    191\u001b[39m \u001b[38;5;66;03m# get the default source\u001b[39;00m\n\u001b[32m--> \u001b[39m\u001b[32m192\u001b[39m source_record = \u001b[43mget_source_record\u001b[49m\u001b[43m(\u001b[49m\u001b[43mmodel\u001b[49m\u001b[43m,\u001b[49m\u001b[43m \u001b[49m\u001b[43morganism\u001b[49m\u001b[43m,\u001b[49m\u001b[43m \u001b[49m\u001b[43msource\u001b[49m\u001b[43m)\u001b[49m\n\u001b[32m    194\u001b[39m \u001b[38;5;66;03m# create the corresponding PublicOntology object from model\u001b[39;00m\n\u001b[32m    195\u001b[39m \u001b[38;5;28;01mtry\u001b[39;00m:\n",
      "\u001b[36mFile \u001b[39m\u001b[32m~/code/bionty/bionty/_source.py:31\u001b[39m, in \u001b[36mget_source_record\u001b[39m\u001b[34m(registry, organism, source)\u001b[39m\n\u001b[32m     29\u001b[39m sources = Source.filter(**filter_kwargs).all()\n\u001b[32m     30\u001b[39m \u001b[38;5;28;01mif\u001b[39;00m \u001b[38;5;28mlen\u001b[39m(sources) == \u001b[32m0\u001b[39m:\n\u001b[32m---> \u001b[39m\u001b[32m31\u001b[39m     \u001b[38;5;28;01mraise\u001b[39;00m \u001b[38;5;167;01mValueError\u001b[39;00m(\u001b[33mf\u001b[39m\u001b[33m\"\u001b[39m\u001b[33mNo source record found for filter \u001b[39m\u001b[38;5;132;01m{\u001b[39;00mfilter_kwargs\u001b[38;5;132;01m}\u001b[39;00m\u001b[33m\"\u001b[39m)\n\u001b[32m     32\u001b[39m \u001b[38;5;28;01mif\u001b[39;00m \u001b[38;5;28mlen\u001b[39m(sources) == \u001b[32m1\u001b[39m:\n\u001b[32m     33\u001b[39m     \u001b[38;5;28;01mreturn\u001b[39;00m sources.one()\n",
      "\u001b[31mValueError\u001b[39m: No source record found for filter {'entity': 'bionty.Gene', 'organism': 'sars-2'}"
     ]
    }
   ],
   "source": [
    "for idx, artifact in enumerate(artifacts):\n",
    "    if idx % 100 == 0:\n",
    "        print(f\"annotating dataset {idx} of {len(artifacts)}\")\n",
    "\n",
    "    adata = artifact.open()\n",
    "    var_names = adata.var_names\n",
    "    organism_record = artifact.organisms.first()\n",
    "    if organism_record is None:\n",
    "        print(f\"No organism found for artifact: {artifact}\")\n",
    "        continue\n",
    "    genes = bt.Gene.from_values(\n",
    "        var_names, field=bt.Gene.ensembl_gene_id, organism=organism_record\n",
    "    )\n",
    "\n",
    "    if len(genes) == 0 and var_names[0].startswith(\"ENSG\"):\n",
    "        genes += bt.Gene.from_values(\n",
    "            var_names, field=bt.Gene.ensembl_gene_id, organism=\"human\"\n",
    "        )\n",
    "\n",
    "    if len(var_names[var_names.str.startswith(\"ERCC\")]) > 0:\n",
    "        genes += bt.Gene.from_values(\n",
    "            var_names,\n",
    "            field=bt.Gene.ensembl_gene_id,\n",
    "            organism=organisms.synthetic_construct,\n",
    "        )\n",
    "    if len(var_names[var_names.str.startswith(\"ENSSASG\")]) > 0:\n",
    "        genes += bt.Gene.from_values(\n",
    "            var_names,\n",
    "            field=bt.Gene.ensembl_gene_id,\n",
    "            organism=organisms.severe_acute_respiratory_syndrome_coronavirus_2,\n",
    "        )"
   ]
  },
  {
   "cell_type": "code",
   "execution_count": null,
   "id": "778d2386-957d-41c8-b400-0c7ae0819318",
   "metadata": {
    "editable": true,
    "slideshow": {
     "slide_type": ""
    },
    "tags": []
   },
   "outputs": [
    {
     "name": "stdout",
     "output_type": "stream",
     "text": [
      "\u001b[1;92mArtifact\u001b[0m(uid='g0RcSSYe5vQKzSWYkhMc', version='2024-07-01', description='Dissection: Amygdaloid complex (AMY) - basolateral nuclear group (BLN) - basolateral nucleus (basal nucleus) - BL', key='cell-census/2024-07-01/h5ads/fe1a73ab-a203-45fd-84e9-0f7fd19efcbd.h5ad', suffix='.h5ad', type='dataset', accessor='AnnData', size=391552151, hash='1V_lPFFOF51ioRTSVWx9Mg-47', hash_type='md5-n', n_observations=35285, visibility=1, key_is_virtual=False, updated_at='2024-07-12 12:40:48 UTC')\n",
      "  \u001b[3mProvenance\u001b[0m\n",
      "    .created_by = 'sunnyosun'\n",
      "    .storage = 's3://cellxgene-data-public'\n",
      "    .transform = 'Census release 2024-07-01 (LTS)'\n",
      "    .run = '2024-07-12 12:17:31 UTC'\n",
      "  \u001b[3mLabels\u001b[0m\n",
      "    .organisms = 'human'\n",
      "    .tissues = 'cerebral nuclei'\n",
      "    .cell_types = 'astrocyte', 'central nervous system macrophage', 'leukocyte', 'vascular associated smooth muscle cell', 'endothelial cell', 'ependymal cell', 'neuron', 'pericyte', 'fibroblast', 'oligodendrocyte precursor cell', ...\n",
      "    .diseases = 'normal'\n",
      "    .phenotypes = 'male'\n",
      "    .experimental_factors = '10x 3' v3'\n",
      "    .developmental_stages = '29-year-old human stage', '42-year-old human stage', '50-year-old human stage'\n",
      "    .ethnicities = 'European'\n",
      "    .ulabels = 'H18.30.002', 'H19.30.002', 'H19.30.001', 'nucleus'\n",
      "  \u001b[3mFeatures\u001b[0m\n",
      "    'donor_id' = 'H18.30.002', 'H19.30.001', 'H19.30.002'\n",
      "    'suspension_type' = 'nucleus'\n",
      "    'organism' = 'human'\n",
      "  \u001b[3mFeature sets\u001b[0m\n",
      "    'obs' = 'assay', 'cell_type', 'development_stage', 'disease', 'donor_id', 'self_reported_ethnicity', 'sex', 'tissue', 'organism', 'tissue_type', 'suspension_type'\n",
      "    'var' = 'None', 'EBF1', 'LINC02202', 'RNF145', 'LINC01932', 'UBLCP1', 'IL12B', 'RNU4ATAC2P', 'LINC01845', 'LINC01847', 'ADRA1B', 'GAPDHP40', 'Y_RNA', 'TTC1'\n",
      "\n"
     ]
    }
   ],
   "source": [
    "artifact.describe()"
   ]
  },
  {
   "cell_type": "markdown",
   "id": "2774691c-ecca-4114-a3aa-b9e2bfa0bec3",
   "metadata": {},
   "source": [
    "## Annotate tissue_type"
   ]
  },
  {
   "cell_type": "code",
   "execution_count": null,
   "id": "4145a622-e238-408d-9f66-abc5eb585254",
   "metadata": {
    "editable": true,
    "slideshow": {
     "slide_type": ""
    },
    "tags": []
   },
   "outputs": [],
   "source": [
    "register_ulabels(cxg_datasets, \"tissue_type\")"
   ]
  },
  {
   "cell_type": "markdown",
   "id": "b165eacb",
   "metadata": {},
   "source": [
    "## Register collections"
   ]
  },
  {
   "cell_type": "code",
   "execution_count": null,
   "id": "ed7a0e25",
   "metadata": {},
   "outputs": [
    {
     "name": "stdout",
     "output_type": "stream",
     "text": [
      "💡 adding collection ids [456] as inputs for run 27, adding parent transform 19\n",
      "✅ saved 1 feature set for slot: 'var'\n"
     ]
    }
   ],
   "source": [
    "collection = ln.Collection(\n",
    "    artifacts,\n",
    "    name=\"cellxgene-census\",\n",
    "    version=census_version,\n",
    "    is_new_version_of=ln.Collection.filter(\n",
    "        name=\"cellxgene-census\", version=previous_release\n",
    "    ).one(),\n",
    ")\n",
    "collection.save()"
   ]
  },
  {
   "cell_type": "code",
   "execution_count": null,
   "id": "323d7139",
   "metadata": {},
   "outputs": [],
   "source": [
    "cxg_collections = get_collections_from_cxg()"
   ]
  },
  {
   "cell_type": "code",
   "execution_count": null,
   "id": "9286a290-e3d6-4550-b14c-6612b882b2f5",
   "metadata": {},
   "outputs": [
    {
     "data": {
      "text/plain": [
       "'cell-census/2024-07-01/h5ads/98e5ea9f-16d6-47ec-a529-686e76515e39.h5ad'"
      ]
     },
     "execution_count": 27,
     "metadata": {},
     "output_type": "execute_result"
    }
   ],
   "source": [
    "artifacts.first().key"
   ]
  },
  {
   "cell_type": "code",
   "execution_count": null,
   "id": "77f296b9",
   "metadata": {},
   "outputs": [
    {
     "name": "stdout",
     "output_type": "stream",
     "text": [
      "❗ returning existing collection with same hash: Collection(uid='5LEE4fd5yMXsRtR6WUrs', version='2024-07-01', name='Type I interferon responsive microglia shape cortical development and behavior', description='10.1016/j.cell.2024.02.020', hash='UzOU3URUb50M_5lZtThV', reference='4828d33d-fb26-42e7-bf36-18293b0eec85', reference_type='CELLxGENE Collection ID', visibility=1, created_by_id=1, transform_id=22, run_id=27, updated_at='2024-07-16 12:17:38 UTC')\n",
      "❗ returning existing collection with same hash: Collection(uid='fYJ7GBbbLRwmVRHyDYu9', version='2024-07-01', name='Human breast cell atlas', description='10.1038/s41588-024-01688-9', hash='wXMzOvp8a-_nGgkwfjSM', reference='48259aa8-f168-4bf5-b797-af8e88da6637', reference_type='CELLxGENE Collection ID', visibility=1, created_by_id=1, transform_id=22, run_id=27, updated_at='2024-07-16 12:17:38 UTC')\n",
      "❗ returning existing collection with same hash: Collection(uid='6Nu0TAYjj2ePrtyUe6HL', version='2024-07-01', name='SEA-AD: Seattle Alzheimer’s Disease Brain Cell Atlas', description='10.1101/2023.05.08.539485', hash='PDK1s9n30FRoxgRVUV-8', reference='1ca90a2d-2943-483d-b678-b809bf464c30', reference_type='CELLxGENE Collection ID', visibility=1, created_by_id=1, transform_id=22, run_id=27, updated_at='2024-07-16 12:17:40 UTC')\n",
      "❗ returning existing collection with same hash: Collection(uid='iuZQ5FuxUx8djUoy0wBW', version='2024-07-01', name='Molecular and spatial signatures of mouse brain aging at single-cell resolution', description='10.1016/j.cell.2022.12.010', hash='drimjqzQf_jCXILUH6Qb', reference='31937775-0602-4e52-a799-b6acdd2bac2e', reference_type='CELLxGENE Collection ID', visibility=1, created_by_id=1, transform_id=22, run_id=27, updated_at='2024-07-16 12:17:40 UTC')\n",
      "❗ returning existing collection with same hash: Collection(uid='XGeEFfpeKAYMtQlnJAaY', version='2024-07-01', name='Multi-scale spatial mapping of cell populations across anatomical sites in healthy human skin and basal cell carcinoma', description='10.1073/pnas.2313326120', hash='SR4yp3Hfk5B3SrqRoNXN', reference='34f12de7-c5e5-4813-a136-832677f98ac8', reference_type='CELLxGENE Collection ID', visibility=1, created_by_id=1, transform_id=22, run_id=27, updated_at='2024-07-16 12:17:41 UTC')\n",
      "❗ returning existing collection with same hash: Collection(uid='mKfQgOwlCTuLFneySJGV', version='2024-07-01', name='LungMAP — The genomic, epigenomic and biophysical cues controlling the emergence of the gas exchange niche in the lung.', description='10.1126/science.abc3172', hash='51fJjmq_GrC2uLS3Klvm', reference='48d354f5-a5ca-4f35-a3bb-fa3687502252', reference_type='CELLxGENE Collection ID', visibility=1, created_by_id=1, transform_id=22, run_id=27, updated_at='2024-07-16 12:17:41 UTC')\n",
      "❗ returning existing collection with same hash: Collection(uid='cwFRDKcBVLQ1DgA4O6nC', version='2024-07-01', name='Single cell transcriptomic profiling identifies molecular phenotypes of newborn human lung cells', description='10.3390/genes15030298', hash='P4dNll_9XIdx7s4kAugC', reference='28e9d721-6816-48a2-8d0b-43bf0b0c0ebc', reference_type='CELLxGENE Collection ID', visibility=1, created_by_id=1, transform_id=22, run_id=27, updated_at='2024-07-16 12:17:42 UTC')\n",
      "❗ returning existing collection with same hash: Collection(uid='jelUsbHyfZH67CXH4Y9I', version='2024-07-01', name='A single-cell transcriptional roadmap of the mouse and human lymph node lymphatic vasculature', description='10.3389/fcvm.2020.00052', hash='nYmNBfcoJd_QfCqr6xUX', reference='9c8808ce-1138-4dbe-818c-171cff10e650', reference_type='CELLxGENE Collection ID', visibility=1, created_by_id=1, transform_id=22, run_id=27, updated_at='2024-07-16 12:17:47 UTC')\n",
      "❗ returning existing collection with same hash: Collection(uid='Iu3eo1onLtTxVw1jhXA9', version='2024-07-01', name='Type I interferon autoantibodies are associated with systemic immune alterations in patients with COVID-19', description='10.1126/scitranslmed.abh2624', hash='bfClxMqNa1i5FbGt8qjI', reference='7d7cabfd-1d1f-40af-96b7-26a0825a306d', reference_type='CELLxGENE Collection ID', visibility=1, created_by_id=1, transform_id=22, run_id=27, updated_at='2024-07-16 12:17:47 UTC')\n",
      "❗ returning existing collection with same hash: Collection(uid='kZGohNB7hv9Qu2QlfMe3', version='2024-07-01', name='Insulin is expressed by enteroendocrine cells during human fetal development', description='10.1038/s41591-021-01586-1', hash='_1jCWDd-1qoqGzSTpmZ4', reference='7651ac1a-f947-463a-9223-a9e408a41989', reference_type='CELLxGENE Collection ID', visibility=1, created_by_id=1, transform_id=22, run_id=27, updated_at='2024-07-16 12:17:48 UTC')\n",
      "❗ returning existing collection with same hash: Collection(uid='tY63QUQc4y2Iv3pC2v4X', version='2024-07-01', name='Multiomic Profiling of Human Clonal Hematopoiesis Reveals Genotype and Cell-Specific Inflammatory Pathway Activation', description='10.1182/bloodadvances.2023011445', hash='YrsiMzRiXI7IML3mmKPo', reference='0aab20b3-c30c-4606-bd2e-d20dae739c45', reference_type='CELLxGENE Collection ID', visibility=1, created_by_id=1, transform_id=22, run_id=27, updated_at='2024-07-16 12:17:49 UTC')\n",
      "❗ returning existing collection with same hash: Collection(uid='Ioc0kigyLbByHgTGVEdi', version='2024-07-01', name='High-resolution single-cell atlas reveals diversity and plasticity of tumor-associated neutrophils in non-small cell lung cancer', description='10.1016/j.ccell.2022.10.008', hash='sQ2o8xVD_cZ2S9pVIAnU', reference='edb893ee-4066-4128-9aec-5eb2b03f8287', reference_type='CELLxGENE Collection ID', visibility=1, created_by_id=1, transform_id=22, run_id=27, updated_at='2024-07-16 12:17:50 UTC')\n",
      "❗ returning existing collection with same hash: Collection(uid='7D6yIlnySNfVDZozoMuk', version='2024-07-01', name='Comparative transcriptomics reveals human-specific cortical features', description='10.1126/science.ade9516', hash='6aAYLBJvC-dOgnZxg7sd', reference='4dca242c-d302-4dba-a68f-4c61e7bad553', reference_type='CELLxGENE Collection ID', visibility=1, created_by_id=1, transform_id=22, run_id=27, updated_at='2024-07-16 12:17:50 UTC')\n",
      "✅ saved 1 feature set for slot: 'var'\n",
      "✅ saved 1 feature set for slot: 'var'\n",
      "✅ saved 1 feature set for slot: 'var'\n",
      "✅ saved 1 feature set for slot: 'var'\n",
      "✅ saved 1 feature set for slot: 'var'\n",
      "✅ saved 1 feature set for slot: 'var'\n",
      "✅ saved 1 feature set for slot: 'var'\n",
      "✅ saved 1 feature set for slot: 'var'\n",
      "✅ saved 1 feature set for slot: 'var'\n",
      "✅ saved 1 feature set for slot: 'var'\n",
      "✅ saved 1 feature set for slot: 'var'\n",
      "✅ saved 1 feature set for slot: 'var'\n",
      "✅ saved 1 feature set for slot: 'var'\n",
      "✅ saved 1 feature set for slot: 'var'\n",
      "✅ saved 1 feature set for slot: 'var'\n",
      "✅ saved 1 feature set for slot: 'var'\n",
      "✅ saved 1 feature set for slot: 'var'\n",
      "✅ saved 1 feature set for slot: 'var'\n",
      "✅ saved 1 feature set for slot: 'var'\n",
      "✅ saved 1 feature set for slot: 'var'\n",
      "✅ saved 1 feature set for slot: 'var'\n",
      "✅ saved 1 feature set for slot: 'var'\n",
      "✅ saved 1 feature set for slot: 'var'\n",
      "✅ saved 1 feature set for slot: 'var'\n",
      "✅ saved 1 feature set for slot: 'var'\n",
      "✅ saved 1 feature set for slot: 'var'\n",
      "✅ saved 1 feature set for slot: 'var'\n",
      "✅ saved 1 feature set for slot: 'var'\n",
      "✅ saved 1 feature set for slot: 'var'\n",
      "✅ saved 1 feature set for slot: 'var'\n",
      "✅ saved 1 feature set for slot: 'var'\n",
      "✅ saved 1 feature set for slot: 'var'\n"
     ]
    }
   ],
   "source": [
    "ln.settings.creation.search_names = False\n",
    "for collection_meta in cxg_collections:\n",
    "    keys = [\n",
    "        f\"cell-census/{census_version}/h5ads/{dataset['dataset_id']}.h5ad\"\n",
    "        for dataset in collection_meta[\"datasets\"]\n",
    "    ]\n",
    "    collection_artifacts = artifacts.filter(key__in=keys).all()\n",
    "    if collection_artifacts.count() > 0:\n",
    "        kwargs = {\n",
    "            \"name\": collection_meta[\"name\"],\n",
    "            \"description\": collection_meta[\"doi\"],\n",
    "            \"reference\": collection_meta[\"collection_id\"],\n",
    "            \"reference_type\": \"CELLxGENE Collection ID\",\n",
    "            \"version\": census_version,\n",
    "        }\n",
    "        collection_record = ln.Collection(\n",
    "            collection_artifacts,\n",
    "            **kwargs,\n",
    "        )\n",
    "        # if is needed here as .save() errors if collection is already saved\n",
    "        if collection_record._state.adding:\n",
    "            collection_record.save()\n",
    "ln.settings.creation.search_names = True"
   ]
  },
  {
   "cell_type": "markdown",
   "id": "eaf89882",
   "metadata": {},
   "source": [
    "Add existing collections to their corresponding version families:"
   ]
  },
  {
   "cell_type": "code",
   "execution_count": null,
   "id": "9c0cfed3",
   "metadata": {},
   "outputs": [
    {
     "data": {
      "text/plain": [
       "177"
      ]
     },
     "execution_count": 30,
     "metadata": {},
     "output_type": "execute_result"
    }
   ],
   "source": [
    "collections = ln.Collection.filter(version=census_version).all()\n",
    "collections.count()"
   ]
  },
  {
   "cell_type": "code",
   "execution_count": null,
   "id": "a4f54103",
   "metadata": {},
   "outputs": [
    {
     "data": {
      "text/plain": [
       "165"
      ]
     },
     "execution_count": 31,
     "metadata": {},
     "output_type": "execute_result"
    }
   ],
   "source": [
    "collections_previous = ln.Collection.filter(version=previous_release).all()\n",
    "collections_previous.count()"
   ]
  },
  {
   "cell_type": "code",
   "execution_count": null,
   "id": "39f24a6a",
   "metadata": {
    "tags": [
     "hide-output"
    ]
   },
   "outputs": [
    {
     "name": "stdout",
     "output_type": "stream",
     "text": [
      "✅ updated uid from dMyEX3NTfKOEYXyMciWu to dMyEX3NTfKOEYXyMKDD7!\n",
      "✅ updated uid from fYJ7GBbbLRwmVRHyDYu9 to kAcitlx0g6C2lgacOCAS!\n",
      "✅ updated uid from 6Nu0TAYjj2ePrtyUe6HL to Q2lwtI06DtUQbWUMUAs5!\n",
      "✅ updated uid from iuZQ5FuxUx8djUoy0wBW to 1MYLC8DhQK3wsKtZHZgD!\n",
      "✅ updated uid from mKfQgOwlCTuLFneySJGV to jMgmBjDxsNvnkgTHWWoP!\n",
      "✅ updated uid from jelUsbHyfZH67CXH4Y9I to 0H2X3A2FhWOgA7i8EtaM!\n",
      "✅ updated uid from Iu3eo1onLtTxVw1jhXA9 to gwCdNiXJtlYDhd6gPLLP!\n",
      "✅ updated uid from kZGohNB7hv9Qu2QlfMe3 to PUJ2Tv8Ie9lUbxb0ZSfl!\n",
      "✅ updated uid from Ioc0kigyLbByHgTGVEdi to Op2drQc2W4DokUc9PpQ6!\n",
      "✅ updated uid from 7D6yIlnySNfVDZozoMuk to uarP82A6F0cOH8dKjpQL!\n",
      "✅ updated uid from moIxw3JxMtRl9Py5Js6I to nZaV7G3xaFHYYWeJSCvZ!\n",
      "✅ updated uid from hg78nvGj2jsvrdLVkJHa to IwAqdxTSCfEgrnuWWvKP!\n",
      "✅ updated uid from Cnveibz2XUCqju5A6PbU to WJLbdahJcDE8E9mzsjbl!\n",
      "✅ updated uid from Q4327JEqd4gLomTAK1YO to D4mQlKcQOGzGvZrWCXrh!\n",
      "✅ updated uid from J9rYTZb0QfERXA6O8gnm to DI60aiNNLqOpa8t3JJPJ!\n",
      "✅ updated uid from K4fEurXklkZQuNCWCWBC to RWmOmv3bnmWvbYSmFBq8!\n",
      "✅ updated uid from 7S4Pmlzjq00sMsC7vPTr to km2M7msz9NtEBqDVL6n7!\n",
      "✅ updated uid from oVpYrbDghZuTXTs2asev to iTdQLpLfAhvqOsNIpr4A!\n",
      "✅ updated uid from 6JrvWiJt8c7DVrZOOtpM to M84z8Rh7Z2obJbvBlHo1!\n",
      "✅ updated uid from 3b0pMqkpbCGkOKJEOp0v to RoCAhVTi0ao0p5yXmoA6!\n",
      "✅ updated uid from IuAVLIuHvsWds3mI6CqJ to wHFESrWvDls8N3ywjqkN!\n",
      "✅ updated uid from CRqaZxz7P94dVrpJVrcJ to hhzgrH6ZdsP54F29RPP0!\n",
      "✅ updated uid from dZmSd3DQ6EjJFVRv6Kgz to KPB4Hic8RZym5HaAbpyZ!\n",
      "✅ updated uid from AdFZTnmod3UCe00FEfwz to v7RKtneHPCkCVyU1dXoz!\n",
      "✅ updated uid from mfDciDOR7XS1d7NneuuJ to XOl1N7D7hXW6n9EsW7x3!\n",
      "✅ updated uid from xaL1hQb366nEYJHWEGmU to 6tT3kRYI2c6slEpvwfRX!\n",
      "✅ updated uid from dwestwYMl0YDb67PTqAQ to 3eYxM8IjTZVOrbvXPIJ3!\n",
      "✅ updated uid from GGk25Hi2QZDRZw555ZQ5 to SuNR9dTsshWd6MYN2IL8!\n",
      "✅ updated uid from IBd2D7PFaFz8ePVxcdvD to BrNY23NpauL2lyDtiRkn!\n",
      "✅ updated uid from KVV5AsraS8hzxP4YxT0i to iFVFKj9fKdUH7pY1zMro!\n",
      "✅ updated uid from ByhRTjMcDGgCJtRI1fgU to 9yfmjrGcMNMd37ogpxmj!\n",
      "✅ updated uid from 9lJt2hyfKNb13j7p0cHG to qLRcbwF6CgxlklqqTRFr!\n",
      "✅ updated uid from fgRC3e9PBCkE9OPA9DKo to 0dOlh07SLGzVeaRMvSGQ!\n",
      "✅ updated uid from nS6L2cXlV8EAaQFHxkES to 94eNDctVYvr7mrdpMclC!\n",
      "✅ updated uid from ZsMO69tiAzlQIHlttsIt to I5MMFFAGoWtSa43bentd!\n",
      "✅ updated uid from zhVDwLrapwteXdDmRxvF to AK50xC5oXngFz72HVjHR!\n",
      "✅ updated uid from aLxcqV3jSL1xeG1JVY9C to sOamqZMlsMfKH5SWj4nK!\n",
      "✅ updated uid from bPbQoidniedqCIYDSRBz to JAK8eDp8BmHPjKfTZhME!\n",
      "✅ updated uid from HCtKNYT75uP3dbn0SSzA to GvLlD9JDDqWjPkvERqDR!\n",
      "✅ updated uid from 1xHpCX5MktkIjO7GEdRy to hdE4OJYcxWgmKoUcR6SL!\n",
      "✅ updated uid from 1rSJxJHs5J0KgqwEJfQ3 to olY10cghAPIz2oGrIWMq!\n",
      "✅ updated uid from aYxxVzPMs1QZmQCFbqRH to 4EiiJgcIrR3QLRnU7GC2!\n",
      "✅ updated uid from FtLRAy0HoCE47NRaJzzi to YVo6IaHRKZfDxJLMfiP8!\n",
      "✅ updated uid from aTVmsocXMwV5DGaharIr to 5jphRyjMm0wYpMaUnUTx!\n",
      "✅ updated uid from MeiGlQLdi06QFgsNHG4I to vfxWN9BEYFDb5kY8N1Vg!\n",
      "✅ updated uid from 9XB47ouBfu5FowLT5U6h to tZYmzwfh0bIYzKBQVuro!\n",
      "✅ updated uid from 9yNQuuDASOqEgwmq6LTp to Yed6da6CsPXaGmLQDGmn!\n",
      "✅ updated uid from CDojmX5aCcDldiDXhG6Z to EMBNZeigssidDwb4eCs4!\n",
      "✅ updated uid from i2FQEG8pMK9PnQEvcbb3 to vGq7f3WWgBMgCRXmmmR9!\n",
      "✅ updated uid from iZeVehqLA78Fs3FlcWXh to vUL4bLnfnvI2hRpBSfK5!\n",
      "✅ updated uid from eB6pmrbx3OJzqan1k5E1 to y6XaxhXv4BVcOAo9U4cz!\n",
      "✅ updated uid from Vhc1AWUEywCpdGUM5SWo to EMmA6XE0t183Gsba3J5X!\n",
      "✅ updated uid from kkK1dAv4oj6giIa87hrd to VVsweEynenmLLY85PaXn!\n",
      "✅ updated uid from 1F0kNiufsSrYHxOoJOES to RnmHQkzC78TivXFy5ycL!\n",
      "✅ updated uid from m6c0OFUxpwhMNMzsmfOt to VP3ieyEFOixwhsBYECKC!\n",
      "✅ updated uid from W5LDazc1PzFDdw4WFkDw to KKCcdJaQH9D8AK5NCBuH!\n",
      "✅ updated uid from Y2SPuctTfg7jB5W5jn8X to q7dJs4VrNoEGx8rK1OSD!\n",
      "✅ updated uid from 7vISuZIqLCwrmROJoIoE to idf1gv334K5FkrHFNI5h!\n",
      "✅ updated uid from VOJOMDScWgsXU4vStY9Y to lVPsdIh56TVNlEx2WF4d!\n",
      "✅ updated uid from 2aFuVGM2z1KkyFlvH7qz to 1XNsbOgjaUKIh64FJXDs!\n",
      "✅ updated uid from 1LVsLdFsY5ThNtn2om4m to BROXfXCEj7e1V4gw2NKZ!\n",
      "✅ updated uid from qLenHC8lY5CP1imzGu5T to oCCJTIIDT9HQd3LNOOVp!\n",
      "✅ updated uid from qAF5K3bMy9M0q4xlL9Xh to 1ufVK1EvG99Fgq7mYN6r!\n",
      "✅ updated uid from tmo3R1Qml3o4dINw1YQZ to IOkwvXcfL2hyt8R9EQjR!\n",
      "✅ updated uid from RPyFAi5ybA35BENTE7kb to I78OxPCebBfC0xIgbeTX!\n",
      "✅ updated uid from 5GoCoZPDgaEmEAfCQIxB to 1bXqTYYBWc7cqqMgfr0f!\n",
      "✅ updated uid from nVSPgJbJ6tNwDa37cR9U to ZzUntpjOt8v7AwqdkRP0!\n",
      "✅ updated uid from gkq1Sl3WhRD96SBH9kLb to D1iu1zmxG7KgjVx8ZVPV!\n",
      "✅ updated uid from 62P2AbbaPyfse4A4ENdI to HFLbbT3k1JxVUgKpJDHH!\n",
      "✅ updated uid from HGLY9RwvLcp8z4PvGpb9 to d6gWiRY3XXy8qj0VZ6ux!\n",
      "✅ updated uid from sbbX3UXhCKxhoiDMuXVw to HfPCzJuNYrI9QfV5rzZx!\n",
      "✅ updated uid from Gc8I13MrBIMYoWQYpQVl to rbcRjHfXE0LKIvZcjZro!\n",
      "✅ updated uid from 1sySaUsCn0g2LJ8PAGSr to 4CmbJrpoAWg19fjEiI0l!\n",
      "✅ updated uid from mggs0QTtLW13NBJg007H to rajIlBML7BvEzz3yUvhv!\n",
      "✅ updated uid from 3sk4tR2jqpdRzvN7qKhL to zZLyhpo1aDdxdbULFbVT!\n",
      "✅ updated uid from BgYMd7y4VfrDTmZG3Oh1 to 4mzgY3wTBZ9wMhVzlZLT!\n",
      "✅ updated uid from WU2Iumu24KA4apXo8Itd to PWDH0VJMkhsYyHwgIhN9!\n",
      "✅ updated uid from xuLeoFok7WH7p5fu9WcZ to wNOorBV9YnTaI9qQa7Qr!\n",
      "✅ updated uid from zJDCZ4RIepbJsQekTqiQ to veK7yRfThpdptF4vRiGg!\n",
      "✅ updated uid from OI9yPyz0FOq4Kf2w3Nwg to iXkgtvx2L7ZxZDX6wZFH!\n",
      "✅ updated uid from ZLrYeEchDM49i9dtyBPW to 9LsQD4Qbh1dKq5Sj6FrC!\n",
      "✅ updated uid from ul7bdBYoqhvYKvfiZKOg to vjsPjCXG7X9LPU8vWkhP!\n",
      "✅ updated uid from Plvn6tiNOEV0gQ8XdemG to IzQdA3dJgMqv60GapqOC!\n",
      "✅ updated uid from oMZSCnvB3ItQV17wDNzT to kDJ9Xb8d11d93LAHMJpf!\n",
      "✅ updated uid from Jp1XooGrkZqdufGWQz70 to nVY0j9lZNdNL61EdyDq7!\n",
      "✅ updated uid from 2kf7upUHLHmAYTILZuBk to OImDNzgLRxoYfFT8Y76V!\n",
      "✅ updated uid from 3tsT59OPeJi8iUXDfXOh to 2yoIZbpp2mq2oqMNf3VO!\n",
      "✅ updated uid from EjRsiCRs0StjF71Vj8mG to n2lVzwwawVqsJ5u5qBZq!\n",
      "✅ updated uid from QbVpgUll2BMiDosd4rTv to 28dvpXZpoi1qD8LnAlb3!\n",
      "✅ updated uid from 4jSg60cQmqFddeEsPIl0 to 2gBKIwx8AtCHc4nfcQqc!\n",
      "✅ updated uid from 2ZS8rF54RWLGg8lEKapD to kzeNot0sAt848R4qSEKs!\n",
      "✅ updated uid from 6WJpX3Dg8f7xdPveLduz to gHBNw253Sj64W4wBFZkE!\n",
      "✅ updated uid from yx5x6dJEFOFkJ3KAY2cy to 1wS0REe0cAfduc8tWxML!\n",
      "✅ updated uid from IuhSKlDmvbkQl9rDDq2g to Q1wNvCwqAOnrtKTbzbqR!\n",
      "✅ updated uid from rBemmcHX2bh33bJcOKWE to 1IrEYjM56rE7SEltiWNe!\n",
      "✅ updated uid from zkEKDZdk6J0BQS7BaQaE to 4o637zldLBYp12h3gT6Z!\n",
      "✅ updated uid from LZXiD45T2YUfaYDYNOlD to ocJEJ2xS6KZH95ngzvTq!\n",
      "✅ updated uid from tG85g4DZPAtHH1zru6Fz to KB2Fpjcokbm2UBLNFYjW!\n",
      "✅ updated uid from 1tVMkWeDbAnqXy0EdTqd to 60hcu8l3K5HpiZVwYVCf!\n",
      "✅ updated uid from 0WNbjUmxmJSuZRTMT4JQ to xAdBoFC2SWW8a0weqh1N!\n",
      "✅ updated uid from f8Nuvt2x6W4mmSXHskXN to q1YP6rAY7SSrZ1Tkx4Up!\n",
      "✅ updated uid from P2ehV04thYY2dO2nhoo0 to 7xatbabJNWdh0uMwoAZl!\n",
      "✅ updated uid from KkcbpjKTWTkFpGc1c27S to oHwAz0bRdryXX6EhDN1g!\n",
      "✅ updated uid from Z8msUCmKnOQrG9z6XATm to vOt1sh7kQCO5CzRy39Mb!\n",
      "✅ updated uid from mS1Jk5zzeVCYvMINkX5T to 1879QoxBW96febHBb94x!\n",
      "✅ updated uid from l84UtdnAxR5nJFty4zzC to urOgy3d2zakh9vP6WgL5!\n",
      "✅ updated uid from 4k67yPWTPOSDoGzo9ICW to WDwVnJuArH1QWR2QQPBE!\n",
      "✅ updated uid from EhbtDL5CujLBfqHz8hg9 to CrY3Fw6G29qJSenUy1Ox!\n",
      "✅ updated uid from r8tKNYjbSqccW9AfQJF6 to jV7cCEQfgHGNhtVFMpyX!\n",
      "✅ updated uid from qbpbPs3ViBs9dzZbgDL0 to 8Rn5Tl3rykhNieH79Jhx!\n",
      "✅ updated uid from ecZQ9Vu0G2tezhFy1Oqb to TWZevdipvmWsuEiF84mT!\n",
      "✅ updated uid from kCPyvj5CUH7dO8JIxaqY to qtjPc1TBPcgWNCJyoFVs!\n",
      "✅ updated uid from mgqofErhBPosFQcFWLbq to kqiPjpzpK9H9rdtnCt1o!\n",
      "✅ updated uid from 6JFO9QuvIoKWqIP8A5li to ke6FOitDtvoq8XONEyiY!\n",
      "✅ updated uid from FarkrFdYaoXjMfUQRM89 to bOAWmbIN8bdXZh5F8dkx!\n",
      "✅ updated uid from Rg8iSXOAnmCJDKEUEEPW to gEX3na35hQk5ZOGBAACd!\n",
      "✅ updated uid from MKSG0pvHfXgk6c3VPODx to Oukj3dkWzNST4iiVAQe9!\n",
      "✅ updated uid from UBBA9zQC8HLYgmRYRcly to FZ2NjVzMuGVxom1ZSPxp!\n",
      "✅ updated uid from pufGlDRhKu3eBsD3YKe9 to tCaHB7zSD8S6MAhFifKl!\n",
      "✅ updated uid from MQUKS7C6v7rmTqKH8GKl to mDcZsWmaZqRBtJgkhF0o!\n",
      "✅ updated uid from iNf776ZxGeGgRHyarpS1 to sXNKPODk8bbXZdSnqEXf!\n",
      "✅ updated uid from 8OpWtQlec9HvbGH767l9 to quQDnLsMLkP3JRsC8gp4!\n",
      "✅ updated uid from 53Y1VIsfXPDqbOV4pk3g to 1qo3tBI7la7JNT7c8o9i!\n",
      "✅ updated uid from aZFKWnJex3ydKdveVDc9 to sK6CMdZCjNaMJdeuKU0L!\n",
      "✅ updated uid from bHXOYXNDoUvr2oOjhKDn to Yxth0JJgMb2VVOCfSgWj!\n",
      "✅ updated uid from 3SaG35DqczV2BJzQh86a to 9t5Mx1vYSpdrRNg0XXdV!\n",
      "✅ updated uid from zXk2XkZfp2vq4OnU9KL5 to 1bpAt9Hk4djMs3OCiwaS!\n",
      "✅ updated uid from dv6lVJLczlm9VNzKGRIC to FaJmPleTV3HjPBTdezTB!\n",
      "✅ updated uid from M98VUdhFfpMXq7fjpm6j to jS3RYae1gf0fT2B3xrSz!\n",
      "✅ updated uid from utsuNrsRrsh4ydq1sa6u to 2AD1dN2753sXScFNNX2o!\n",
      "✅ updated uid from JV7kCIV6bcKqc31YnS6T to M9ZzRKzzayhdh6ph0IX9!\n",
      "✅ updated uid from OyheAMFiyqRFEs9OQGWn to H6vvljrLTkJ61R4Vy2DV!\n",
      "✅ updated uid from 5GbOXgtnEBQuFu3nU1Ez to W5oiGwA9QAZwjMQKLzWk!\n",
      "✅ updated uid from 0bastS5jEWCcEW27Tdva to w1noEANQfbDv7a0y47pd!\n",
      "✅ updated uid from OHTF76XfoSmgJL6VtpgC to jmk1ayW8PdQaPPHlOkj7!\n",
      "✅ updated uid from QcFTjiftO6TZtOxAnIsH to H5uu4ULRKZVmmTkr3Ml9!\n",
      "✅ updated uid from PIP0Vprz9TDmF0GIKP1o to WpJDkF942c2mHNbJ3En3!\n",
      "✅ updated uid from HS3aaQQ5VpHlM0G8tJrn to 6sOT5dCCyQAAX5bTwzhT!\n",
      "✅ updated uid from ktFRARpMxhfUQ7WgUYzL to yql5LxVFGGa5LiIEOnE9!\n",
      "✅ updated uid from wXAkwBDVpCakaTBOhEfJ to 57MCDAB1w3eK7I5QOFpw!\n",
      "✅ updated uid from S6FiZ6QjnTz8bszp6b3v to f8IWHzCeBxqmQA9opHqq!\n",
      "✅ updated uid from IBMXS5y5PYldz6bBguZQ to xz9kRdjXkrgxSTjOBSbu!\n",
      "✅ updated uid from 0Cic5XIHAILcZfoeXsCy to oyTLFK0Zl0alAmITAKYO!\n",
      "✅ updated uid from HhSnxxJwvvSY7OytLt3g to NoRCcrtIjLnLdEjizoaM!\n",
      "✅ updated uid from YQqBxjrX350MEjzfSZ9L to VnqB6Y76ePP6wuaFzNyR!\n"
     ]
    }
   ],
   "source": [
    "for collection in collections:\n",
    "    collection_previous = collections_previous.filter(\n",
    "        reference=collection.reference\n",
    "    ).one_or_none()\n",
    "    if collection_previous is not None:\n",
    "        collection.add_to_version_family(collection_previous, version=census_version)"
   ]
  },
  {
   "cell_type": "markdown",
   "id": "2b20b41f-aa18-4db6-8a19-7d0c60d43a23",
   "metadata": {},
   "source": [
    "## Link metadata to collection"
   ]
  },
  {
   "cell_type": "code",
   "execution_count": null,
   "id": "7ace2a15-f081-4ba8-8af9-7ba4e1d23933",
   "metadata": {
    "tags": []
   },
   "outputs": [
    {
     "data": {
      "text/plain": [
       "Collection(uid='dMyEX3NTfKOEYXyMKDD7', version='2024-07-01', name='cellxgene-census', hash='nI8Ag-HANeOpZOz-8CSn', visibility=1, created_by_id=1, transform_id=22, run_id=27, updated_at='2024-07-16 12:24:38 UTC')"
      ]
     },
     "execution_count": 34,
     "metadata": {},
     "output_type": "execute_result"
    }
   ],
   "source": [
    "collection = ln.Collection.filter(name=\"cellxgene-census\", version=census_version).one()\n",
    "collection"
   ]
  },
  {
   "cell_type": "markdown",
   "id": "86aacbcd-0136-4790-991a-4f42aa42b0d4",
   "metadata": {},
   "source": [
    "feature sets:"
   ]
  },
  {
   "cell_type": "code",
   "execution_count": null,
   "id": "73598a4d-2a27-4bd8-b903-22258a10a21a",
   "metadata": {
    "tags": []
   },
   "outputs": [
    {
     "name": "stdout",
     "output_type": "stream",
     "text": [
      "\u001b[1;92mCollection\u001b[0m(uid='dMyEX3NTfKOEYXyMKDD7', version='2024-07-01', name='cellxgene-census', hash='nI8Ag-HANeOpZOz-8CSn', visibility=1, updated_at='2024-07-16 12:24:38 UTC')\n",
      "  \u001b[3mProvenance\u001b[0m\n",
      "    .created_by = 'sunnyosun'\n",
      "    .transform = 'Census release 2024-07-01 (LTS)'\n",
      "    .run = '2024-07-12 12:17:31 UTC'\n",
      "  \u001b[3mFeature sets\u001b[0m\n",
      "    'obs' = 'assay', 'cell_type', 'development_stage', 'disease', 'donor_id', 'self_reported_ethnicity', 'sex', 'tissue', 'organism', 'tissue_type', 'suspension_type'\n",
      "    'var' = 'DDX11L1', 'WASH7P', 'MIR6859-1', 'MIR1302-2HG', 'MIR1302-2', 'FAM138A', 'OR4G4P', 'OR4G11P', 'OR4F5', 'None', 'CICP27', 'RNU6-1100P', 'DDX11L17', 'WASH9P'\n",
      "\n"
     ]
    }
   ],
   "source": [
    "collection.describe()"
   ]
  },
  {
   "cell_type": "markdown",
   "id": "add3c7b3",
   "metadata": {},
   "source": [
    "## Register the soma store"
   ]
  },
  {
   "cell_type": "code",
   "execution_count": null,
   "id": "e7345435",
   "metadata": {},
   "outputs": [
    {
     "name": "stdout",
     "output_type": "stream",
     "text": [
      "14 sub-directories & 6 files with suffixes '', '.tdb'\n",
      "s3://cellxgene-data-public/cell-census/2024-07-01/soma\n",
      "├── __tiledb_group.tdb\n",
      "├── __group/\n",
      "│   └── __1716234740654_1716234740654_d973bcf54a2242b78bf352eaed600c4a_2\n",
      "├── __meta/\n",
      "│   ├── __1716234740654_1716234740654_421b60d8e8ca434a9a3685ac90643161\n",
      "│   └── __1716234740654_1716234740654_42cb2a544da846dfbe555399fa25c462\n",
      "├── census_data/\n",
      "│   ├── __tiledb_group.tdb\n",
      "│   ├── __group/\n",
      "│   ├── __meta/\n",
      "│   ├── homo_sapiens/\n",
      "│   └── mus_musculus/\n",
      "└── census_info/\n",
      "    ├── __tiledb_group.tdb\n",
      "    ├── __group/\n",
      "    ├── __meta/\n",
      "    ├── datasets/\n",
      "    ├── organisms/\n",
      "    ├── summary/\n",
      "    └── summary_cell_counts/\n"
     ]
    }
   ],
   "source": [
    "soma_path = f\"s3://cellxgene-data-public/cell-census/{census_version}/soma\"\n",
    "ln.UPath(soma_path).view_tree()"
   ]
  },
  {
   "cell_type": "code",
   "execution_count": null,
   "id": "f944ef6c",
   "metadata": {},
   "outputs": [
    {
     "name": "stdout",
     "output_type": "stream",
     "text": [
      "💡 path in storage 's3://cellxgene-data-public' with key 'cell-census/2024-07-01/soma'\n"
     ]
    },
    {
     "data": {
      "text/plain": [
       "Artifact(uid='TwIR80MO51oM3CCuFail', description='Census 2024-07-01', key='cell-census/2024-07-01/soma', suffix='', type='dataset', size=870700998221, hash='bzrXBPNvitSVKvb3GG38_w', hash_type='md5-d', n_objects=330, visibility=1, key_is_virtual=False, created_by_id=1, storage_id=2, transform_id=22, run_id=27, updated_at='2024-07-16 12:52:01 UTC')"
      ]
     },
     "execution_count": 9,
     "metadata": {},
     "output_type": "execute_result"
    }
   ],
   "source": [
    "soma_artifact = ln.Artifact(soma_path, description=f\"Census {census_version}\").save()\n",
    "soma_artifact"
   ]
  },
  {
   "cell_type": "code",
   "execution_count": null,
   "id": "4d00afd0",
   "metadata": {},
   "outputs": [
    {
     "name": "stdout",
     "output_type": "stream",
     "text": [
      "❗ cells [(13, 8), (14, 12), (13, 16), (17, 19), (20, 23), (23, 28), (28, 9), (11, None), (None, 16), (16, 18), (18, 23), (23, 25), (25, 27), (27, 29), (32, 34), (35, 7), (7, 9)] were not run consecutively\n",
      "💡 go to: https://lamin.ai/laminlabs/cellxgene/transform/MIbO3QeJERcy5zKv\n",
      "💡 if you want to update your notebook without re-running it, use `lamin save notebook.ipynb`\n"
     ]
    }
   ],
   "source": [
    "ln.finish()"
   ]
  }
 ],
 "metadata": {
  "availableInstances": [
   {
    "_defaultOrder": 0,
    "_isFastLaunch": true,
    "category": "General purpose",
    "gpuNum": 0,
    "hideHardwareSpecs": false,
    "memoryGiB": 4,
    "name": "ml.t3.medium",
    "vcpuNum": 2
   },
   {
    "_defaultOrder": 1,
    "_isFastLaunch": false,
    "category": "General purpose",
    "gpuNum": 0,
    "hideHardwareSpecs": false,
    "memoryGiB": 8,
    "name": "ml.t3.large",
    "vcpuNum": 2
   },
   {
    "_defaultOrder": 2,
    "_isFastLaunch": false,
    "category": "General purpose",
    "gpuNum": 0,
    "hideHardwareSpecs": false,
    "memoryGiB": 16,
    "name": "ml.t3.xlarge",
    "vcpuNum": 4
   },
   {
    "_defaultOrder": 3,
    "_isFastLaunch": false,
    "category": "General purpose",
    "gpuNum": 0,
    "hideHardwareSpecs": false,
    "memoryGiB": 32,
    "name": "ml.t3.2xlarge",
    "vcpuNum": 8
   },
   {
    "_defaultOrder": 4,
    "_isFastLaunch": true,
    "category": "General purpose",
    "gpuNum": 0,
    "hideHardwareSpecs": false,
    "memoryGiB": 8,
    "name": "ml.m5.large",
    "vcpuNum": 2
   },
   {
    "_defaultOrder": 5,
    "_isFastLaunch": false,
    "category": "General purpose",
    "gpuNum": 0,
    "hideHardwareSpecs": false,
    "memoryGiB": 16,
    "name": "ml.m5.xlarge",
    "vcpuNum": 4
   },
   {
    "_defaultOrder": 6,
    "_isFastLaunch": false,
    "category": "General purpose",
    "gpuNum": 0,
    "hideHardwareSpecs": false,
    "memoryGiB": 32,
    "name": "ml.m5.2xlarge",
    "vcpuNum": 8
   },
   {
    "_defaultOrder": 7,
    "_isFastLaunch": false,
    "category": "General purpose",
    "gpuNum": 0,
    "hideHardwareSpecs": false,
    "memoryGiB": 64,
    "name": "ml.m5.4xlarge",
    "vcpuNum": 16
   },
   {
    "_defaultOrder": 8,
    "_isFastLaunch": false,
    "category": "General purpose",
    "gpuNum": 0,
    "hideHardwareSpecs": false,
    "memoryGiB": 128,
    "name": "ml.m5.8xlarge",
    "vcpuNum": 32
   },
   {
    "_defaultOrder": 9,
    "_isFastLaunch": false,
    "category": "General purpose",
    "gpuNum": 0,
    "hideHardwareSpecs": false,
    "memoryGiB": 192,
    "name": "ml.m5.12xlarge",
    "vcpuNum": 48
   },
   {
    "_defaultOrder": 10,
    "_isFastLaunch": false,
    "category": "General purpose",
    "gpuNum": 0,
    "hideHardwareSpecs": false,
    "memoryGiB": 256,
    "name": "ml.m5.16xlarge",
    "vcpuNum": 64
   },
   {
    "_defaultOrder": 11,
    "_isFastLaunch": false,
    "category": "General purpose",
    "gpuNum": 0,
    "hideHardwareSpecs": false,
    "memoryGiB": 384,
    "name": "ml.m5.24xlarge",
    "vcpuNum": 96
   },
   {
    "_defaultOrder": 12,
    "_isFastLaunch": false,
    "category": "General purpose",
    "gpuNum": 0,
    "hideHardwareSpecs": false,
    "memoryGiB": 8,
    "name": "ml.m5d.large",
    "vcpuNum": 2
   },
   {
    "_defaultOrder": 13,
    "_isFastLaunch": false,
    "category": "General purpose",
    "gpuNum": 0,
    "hideHardwareSpecs": false,
    "memoryGiB": 16,
    "name": "ml.m5d.xlarge",
    "vcpuNum": 4
   },
   {
    "_defaultOrder": 14,
    "_isFastLaunch": false,
    "category": "General purpose",
    "gpuNum": 0,
    "hideHardwareSpecs": false,
    "memoryGiB": 32,
    "name": "ml.m5d.2xlarge",
    "vcpuNum": 8
   },
   {
    "_defaultOrder": 15,
    "_isFastLaunch": false,
    "category": "General purpose",
    "gpuNum": 0,
    "hideHardwareSpecs": false,
    "memoryGiB": 64,
    "name": "ml.m5d.4xlarge",
    "vcpuNum": 16
   },
   {
    "_defaultOrder": 16,
    "_isFastLaunch": false,
    "category": "General purpose",
    "gpuNum": 0,
    "hideHardwareSpecs": false,
    "memoryGiB": 128,
    "name": "ml.m5d.8xlarge",
    "vcpuNum": 32
   },
   {
    "_defaultOrder": 17,
    "_isFastLaunch": false,
    "category": "General purpose",
    "gpuNum": 0,
    "hideHardwareSpecs": false,
    "memoryGiB": 192,
    "name": "ml.m5d.12xlarge",
    "vcpuNum": 48
   },
   {
    "_defaultOrder": 18,
    "_isFastLaunch": false,
    "category": "General purpose",
    "gpuNum": 0,
    "hideHardwareSpecs": false,
    "memoryGiB": 256,
    "name": "ml.m5d.16xlarge",
    "vcpuNum": 64
   },
   {
    "_defaultOrder": 19,
    "_isFastLaunch": false,
    "category": "General purpose",
    "gpuNum": 0,
    "hideHardwareSpecs": false,
    "memoryGiB": 384,
    "name": "ml.m5d.24xlarge",
    "vcpuNum": 96
   },
   {
    "_defaultOrder": 20,
    "_isFastLaunch": false,
    "category": "General purpose",
    "gpuNum": 0,
    "hideHardwareSpecs": true,
    "memoryGiB": 0,
    "name": "ml.geospatial.interactive",
    "supportedImageNames": [
     "sagemaker-geospatial-v1-0"
    ],
    "vcpuNum": 0
   },
   {
    "_defaultOrder": 21,
    "_isFastLaunch": true,
    "category": "Compute optimized",
    "gpuNum": 0,
    "hideHardwareSpecs": false,
    "memoryGiB": 4,
    "name": "ml.c5.large",
    "vcpuNum": 2
   },
   {
    "_defaultOrder": 22,
    "_isFastLaunch": false,
    "category": "Compute optimized",
    "gpuNum": 0,
    "hideHardwareSpecs": false,
    "memoryGiB": 8,
    "name": "ml.c5.xlarge",
    "vcpuNum": 4
   },
   {
    "_defaultOrder": 23,
    "_isFastLaunch": false,
    "category": "Compute optimized",
    "gpuNum": 0,
    "hideHardwareSpecs": false,
    "memoryGiB": 16,
    "name": "ml.c5.2xlarge",
    "vcpuNum": 8
   },
   {
    "_defaultOrder": 24,
    "_isFastLaunch": false,
    "category": "Compute optimized",
    "gpuNum": 0,
    "hideHardwareSpecs": false,
    "memoryGiB": 32,
    "name": "ml.c5.4xlarge",
    "vcpuNum": 16
   },
   {
    "_defaultOrder": 25,
    "_isFastLaunch": false,
    "category": "Compute optimized",
    "gpuNum": 0,
    "hideHardwareSpecs": false,
    "memoryGiB": 72,
    "name": "ml.c5.9xlarge",
    "vcpuNum": 36
   },
   {
    "_defaultOrder": 26,
    "_isFastLaunch": false,
    "category": "Compute optimized",
    "gpuNum": 0,
    "hideHardwareSpecs": false,
    "memoryGiB": 96,
    "name": "ml.c5.12xlarge",
    "vcpuNum": 48
   },
   {
    "_defaultOrder": 27,
    "_isFastLaunch": false,
    "category": "Compute optimized",
    "gpuNum": 0,
    "hideHardwareSpecs": false,
    "memoryGiB": 144,
    "name": "ml.c5.18xlarge",
    "vcpuNum": 72
   },
   {
    "_defaultOrder": 28,
    "_isFastLaunch": false,
    "category": "Compute optimized",
    "gpuNum": 0,
    "hideHardwareSpecs": false,
    "memoryGiB": 192,
    "name": "ml.c5.24xlarge",
    "vcpuNum": 96
   },
   {
    "_defaultOrder": 29,
    "_isFastLaunch": true,
    "category": "Accelerated computing",
    "gpuNum": 1,
    "hideHardwareSpecs": false,
    "memoryGiB": 16,
    "name": "ml.g4dn.xlarge",
    "vcpuNum": 4
   },
   {
    "_defaultOrder": 30,
    "_isFastLaunch": false,
    "category": "Accelerated computing",
    "gpuNum": 1,
    "hideHardwareSpecs": false,
    "memoryGiB": 32,
    "name": "ml.g4dn.2xlarge",
    "vcpuNum": 8
   },
   {
    "_defaultOrder": 31,
    "_isFastLaunch": false,
    "category": "Accelerated computing",
    "gpuNum": 1,
    "hideHardwareSpecs": false,
    "memoryGiB": 64,
    "name": "ml.g4dn.4xlarge",
    "vcpuNum": 16
   },
   {
    "_defaultOrder": 32,
    "_isFastLaunch": false,
    "category": "Accelerated computing",
    "gpuNum": 1,
    "hideHardwareSpecs": false,
    "memoryGiB": 128,
    "name": "ml.g4dn.8xlarge",
    "vcpuNum": 32
   },
   {
    "_defaultOrder": 33,
    "_isFastLaunch": false,
    "category": "Accelerated computing",
    "gpuNum": 4,
    "hideHardwareSpecs": false,
    "memoryGiB": 192,
    "name": "ml.g4dn.12xlarge",
    "vcpuNum": 48
   },
   {
    "_defaultOrder": 34,
    "_isFastLaunch": false,
    "category": "Accelerated computing",
    "gpuNum": 1,
    "hideHardwareSpecs": false,
    "memoryGiB": 256,
    "name": "ml.g4dn.16xlarge",
    "vcpuNum": 64
   },
   {
    "_defaultOrder": 35,
    "_isFastLaunch": false,
    "category": "Accelerated computing",
    "gpuNum": 1,
    "hideHardwareSpecs": false,
    "memoryGiB": 61,
    "name": "ml.p3.2xlarge",
    "vcpuNum": 8
   },
   {
    "_defaultOrder": 36,
    "_isFastLaunch": false,
    "category": "Accelerated computing",
    "gpuNum": 4,
    "hideHardwareSpecs": false,
    "memoryGiB": 244,
    "name": "ml.p3.8xlarge",
    "vcpuNum": 32
   },
   {
    "_defaultOrder": 37,
    "_isFastLaunch": false,
    "category": "Accelerated computing",
    "gpuNum": 8,
    "hideHardwareSpecs": false,
    "memoryGiB": 488,
    "name": "ml.p3.16xlarge",
    "vcpuNum": 64
   },
   {
    "_defaultOrder": 38,
    "_isFastLaunch": false,
    "category": "Accelerated computing",
    "gpuNum": 8,
    "hideHardwareSpecs": false,
    "memoryGiB": 768,
    "name": "ml.p3dn.24xlarge",
    "vcpuNum": 96
   },
   {
    "_defaultOrder": 39,
    "_isFastLaunch": false,
    "category": "Memory Optimized",
    "gpuNum": 0,
    "hideHardwareSpecs": false,
    "memoryGiB": 16,
    "name": "ml.r5.large",
    "vcpuNum": 2
   },
   {
    "_defaultOrder": 40,
    "_isFastLaunch": false,
    "category": "Memory Optimized",
    "gpuNum": 0,
    "hideHardwareSpecs": false,
    "memoryGiB": 32,
    "name": "ml.r5.xlarge",
    "vcpuNum": 4
   },
   {
    "_defaultOrder": 41,
    "_isFastLaunch": false,
    "category": "Memory Optimized",
    "gpuNum": 0,
    "hideHardwareSpecs": false,
    "memoryGiB": 64,
    "name": "ml.r5.2xlarge",
    "vcpuNum": 8
   },
   {
    "_defaultOrder": 42,
    "_isFastLaunch": false,
    "category": "Memory Optimized",
    "gpuNum": 0,
    "hideHardwareSpecs": false,
    "memoryGiB": 128,
    "name": "ml.r5.4xlarge",
    "vcpuNum": 16
   },
   {
    "_defaultOrder": 43,
    "_isFastLaunch": false,
    "category": "Memory Optimized",
    "gpuNum": 0,
    "hideHardwareSpecs": false,
    "memoryGiB": 256,
    "name": "ml.r5.8xlarge",
    "vcpuNum": 32
   },
   {
    "_defaultOrder": 44,
    "_isFastLaunch": false,
    "category": "Memory Optimized",
    "gpuNum": 0,
    "hideHardwareSpecs": false,
    "memoryGiB": 384,
    "name": "ml.r5.12xlarge",
    "vcpuNum": 48
   },
   {
    "_defaultOrder": 45,
    "_isFastLaunch": false,
    "category": "Memory Optimized",
    "gpuNum": 0,
    "hideHardwareSpecs": false,
    "memoryGiB": 512,
    "name": "ml.r5.16xlarge",
    "vcpuNum": 64
   },
   {
    "_defaultOrder": 46,
    "_isFastLaunch": false,
    "category": "Memory Optimized",
    "gpuNum": 0,
    "hideHardwareSpecs": false,
    "memoryGiB": 768,
    "name": "ml.r5.24xlarge",
    "vcpuNum": 96
   },
   {
    "_defaultOrder": 47,
    "_isFastLaunch": false,
    "category": "Accelerated computing",
    "gpuNum": 1,
    "hideHardwareSpecs": false,
    "memoryGiB": 16,
    "name": "ml.g5.xlarge",
    "vcpuNum": 4
   },
   {
    "_defaultOrder": 48,
    "_isFastLaunch": false,
    "category": "Accelerated computing",
    "gpuNum": 1,
    "hideHardwareSpecs": false,
    "memoryGiB": 32,
    "name": "ml.g5.2xlarge",
    "vcpuNum": 8
   },
   {
    "_defaultOrder": 49,
    "_isFastLaunch": false,
    "category": "Accelerated computing",
    "gpuNum": 1,
    "hideHardwareSpecs": false,
    "memoryGiB": 64,
    "name": "ml.g5.4xlarge",
    "vcpuNum": 16
   },
   {
    "_defaultOrder": 50,
    "_isFastLaunch": false,
    "category": "Accelerated computing",
    "gpuNum": 1,
    "hideHardwareSpecs": false,
    "memoryGiB": 128,
    "name": "ml.g5.8xlarge",
    "vcpuNum": 32
   },
   {
    "_defaultOrder": 51,
    "_isFastLaunch": false,
    "category": "Accelerated computing",
    "gpuNum": 1,
    "hideHardwareSpecs": false,
    "memoryGiB": 256,
    "name": "ml.g5.16xlarge",
    "vcpuNum": 64
   },
   {
    "_defaultOrder": 52,
    "_isFastLaunch": false,
    "category": "Accelerated computing",
    "gpuNum": 4,
    "hideHardwareSpecs": false,
    "memoryGiB": 192,
    "name": "ml.g5.12xlarge",
    "vcpuNum": 48
   },
   {
    "_defaultOrder": 53,
    "_isFastLaunch": false,
    "category": "Accelerated computing",
    "gpuNum": 4,
    "hideHardwareSpecs": false,
    "memoryGiB": 384,
    "name": "ml.g5.24xlarge",
    "vcpuNum": 96
   },
   {
    "_defaultOrder": 54,
    "_isFastLaunch": false,
    "category": "Accelerated computing",
    "gpuNum": 8,
    "hideHardwareSpecs": false,
    "memoryGiB": 768,
    "name": "ml.g5.48xlarge",
    "vcpuNum": 192
   },
   {
    "_defaultOrder": 55,
    "_isFastLaunch": false,
    "category": "Accelerated computing",
    "gpuNum": 8,
    "hideHardwareSpecs": false,
    "memoryGiB": 1152,
    "name": "ml.p4d.24xlarge",
    "vcpuNum": 96
   },
   {
    "_defaultOrder": 56,
    "_isFastLaunch": false,
    "category": "Accelerated computing",
    "gpuNum": 8,
    "hideHardwareSpecs": false,
    "memoryGiB": 1152,
    "name": "ml.p4de.24xlarge",
    "vcpuNum": 96
   },
   {
    "_defaultOrder": 57,
    "_isFastLaunch": false,
    "category": "Accelerated computing",
    "gpuNum": 0,
    "hideHardwareSpecs": false,
    "memoryGiB": 32,
    "name": "ml.trn1.2xlarge",
    "vcpuNum": 8
   },
   {
    "_defaultOrder": 58,
    "_isFastLaunch": false,
    "category": "Accelerated computing",
    "gpuNum": 0,
    "hideHardwareSpecs": false,
    "memoryGiB": 512,
    "name": "ml.trn1.32xlarge",
    "vcpuNum": 128
   },
   {
    "_defaultOrder": 59,
    "_isFastLaunch": false,
    "category": "Accelerated computing",
    "gpuNum": 0,
    "hideHardwareSpecs": false,
    "memoryGiB": 512,
    "name": "ml.trn1n.32xlarge",
    "vcpuNum": 128
   }
  ],
  "instance_type": "ml.t3.medium",
  "kernelspec": {
   "display_name": "lamindb",
   "language": "python",
   "name": "python3"
  },
  "language_info": {
   "codemirror_mode": {
    "name": "ipython",
    "version": 3
   },
   "file_extension": ".py",
   "mimetype": "text/x-python",
   "name": "python",
   "nbconvert_exporter": "python",
   "pygments_lexer": "ipython3",
   "version": "3.12.8"
  },
  "nbproject": {
   "id": "G69jtgzKO0eJ",
   "parent": null,
   "pypackage": null,
   "time_init": "2024-01-11T09:33:10.726436+00:00",
   "user_handle": null,
   "user_id": null,
   "user_name": null,
   "version": "1"
  }
 },
 "nbformat": 4,
 "nbformat_minor": 5
}
