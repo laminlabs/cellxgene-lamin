{
 "cells": [
  {
   "cell_type": "markdown",
   "id": "3e3a6087-4dac-48a6-b0e4-a75ee4378dd9",
   "metadata": {},
   "source": [
    "# Census release 2025-01-30 (LTS)"
   ]
  },
  {
   "cell_type": "code",
   "execution_count": 1,
   "id": "d2831c06",
   "metadata": {},
   "outputs": [
    {
     "name": "stdout",
     "output_type": "stream",
     "text": [
      "\u001b[92m→\u001b[0m initialized lamindb: zethson/run-tests\n",
      "\u001b[0m"
     ]
    }
   ],
   "source": [
    "!lamin init --storage run-tests --modules bionty"
   ]
  },
  {
   "cell_type": "code",
   "execution_count": 2,
   "id": "bfa4b664-dcea-4215-a559-c92b37617b31",
   "metadata": {
    "tags": []
   },
   "outputs": [
    {
     "name": "stdout",
     "output_type": "stream",
     "text": [
      "\u001b[92m→\u001b[0m connected lamindb: zethson/run-tests\n"
     ]
    }
   ],
   "source": [
    "import lamindb as ln\n",
    "import bionty as bt\n",
    "from cellxgene_lamin.dev import get_datasets_from_cxg, get_collections_from_cxg\n",
    "\n",
    "ln.settings.verbosity = \"hint\""
   ]
  },
  {
   "cell_type": "code",
   "execution_count": 3,
   "id": "1c5de4ab-ba6a-4e11-ae16-49826c074bd0",
   "metadata": {
    "tags": []
   },
   "outputs": [],
   "source": [
    "census_version = \"2025-01-30\"\n",
    "previous_release = \"2024-07-01\""
   ]
  },
  {
   "cell_type": "code",
   "execution_count": 4,
   "id": "94744efd-ed8b-464e-ac46-2f14f543fa69",
   "metadata": {
    "tags": []
   },
   "outputs": [
    {
     "data": {
      "text/plain": [
       "S3QueryPath('s3://cellxgene-data-public/cell-census/2025-01-30/h5ads')"
      ]
     },
     "execution_count": 4,
     "metadata": {},
     "output_type": "execute_result"
    }
   ],
   "source": [
    "s3path = f\"s3://cellxgene-data-public/cell-census/{census_version}/h5ads\"\n",
    "ln.UPath(s3path)"
   ]
  },
  {
   "cell_type": "code",
   "execution_count": 5,
   "id": "12447dc1-67ce-4cbe-9e3a-4a15c55287a6",
   "metadata": {
    "scrolled": true
   },
   "outputs": [
    {
     "name": "stdout",
     "output_type": "stream",
     "text": [
      "0 sub-directories & 1573 files with suffixes '.h5ad'\n",
      "s3://cellxgene-data-public/cell-census/2025-01-30/h5ads\n",
      "├── 00099d5e-154f-4a7a-aa8d-fa30c8c0c43c.h5ad\n",
      "├── 001b01fe-5c70-4bda-a3aa-ee09b7899b14.h5ad\n",
      "├── 0041b9c3-6a49-4bf7-8514-9bc7190067a7.h5ad\n",
      "├── 00476f9f-ebc1-4b72-b541-32f912ce36ea.h5ad\n",
      "├── 00593d17-0693-4646-acad-89dbefba11bb.h5ad\n",
      "├── 0087cde2-967d-4f7c-8e6e-40e4c9ad1891.h5ad\n",
      "├── 00ba8341-48ec-4e4e-bb56-be0dd2dd7913.h5ad\n",
      "├── 00e5dedd-b9b7-43be-8c28-b0e5c6414a62.h5ad\n",
      "├── 00ff600e-6e2e-4d76-846f-0eec4f0ae417.h5ad\n",
      "├── 01209dce-3575-4bed-b1df-129f57fbc031.h5ad\n",
      "├── 0129dbd9-a7d3-4f6b-96b9-1da155a93748.h5ad\n",
      "├── 015c230d-650c-4527-870d-8a805849a382.h5ad\n",
      "├── 019c7af2-c827-4454-9970-44d5e39ce068.h5ad\n",
      "├── 01ad3cd7-3929-4654-84c0-6db05bd5fd59.h5ad\n",
      "├── 01c93cf6-b695-4e30-a26e-121ae8b16a9e.h5ad\n",
      "├── 023ce5da-0dbe-4ad0-a290-b6c21824b101.h5ad\n",
      "├── 023d4d04-4671-4433-af8d-158a05c81d8b.h5ad\n",
      "├── 02419ebc-fd75-4629-ba13-9b26e3be851c.h5ad\n",
      "├── 024593dd-d237-4eaa-aff2-9c9d87be595e.h5ad\n",
      "├── 02792605-4760-4023-82ad-40fc4458a5db.h5ad\n",
      "├── 02aa7750-ed05-4eca-8061-766c68a81a22.h5ad\n",
      "├── 02f8bb42-0322-4906-b9ad-b92a5ce73a2d.h5ad\n",
      "├── 02faf712-92d4-4589-bec7-13105059cf86.h5ad\n",
      "├── 03181d87-4769-41e7-8c39-d9a81835f0d2.h5ad\n",
      "├── 0325478a-9b52-45b5-b40a-2e2ab0d72eb1.h5ad\n",
      "├── 0374f03c-62e2-4859-8a14-acb00b0627d5.h5ad\n",
      "├── 0380ddce-c31b-422a-88fe-34a1945bd949.h5ad\n",
      "├── 03ad88c2-2faa-470f-9426-1c793fc5efed.h5ad\n",
      "├── 03b3e7b1-1d38-4b39-b996-28ace9c65492.h5ad\n",
      "├── 03c0e874-f984-4e6c-9d2a-26ef8507dbbc.h5ad\n",
      "├── 03c544fb-a103-4d18-9230-eae9cfee3af2.h5ad\n",
      "├── 03d38670-1444-4001-bc53-9936e61d9b20.h5ad\n",
      "├── 03d5794d-cde9-4769-a1a9-b3899d2b1d87.h5ad\n",
      "├── 0436a180-cb44-47ba-8ffa-807b7a468469.h5ad\n",
      "├── 0456ae85-6f27-4e36-8c62-4c97370baa68.h5ad\n",
      "├── 047d57f2-4d14-45de-aa98-336c6f583750.h5ad\n",
      "├── 0491b0c6-4d09-45bf-b5ca-42088632c15c.h5ad\n",
      "├── 04a0a043-1d65-489a-b203-7908780cc922.h5ad\n",
      "├── 04a23820-ffa8-4be5-9f65-64db15631d1e.h5ad\n",
      "├── 04b0eb97-d816-44bb-93a5-8b2968791aa0.h5ad\n",
      "├── 04c0bdd8-840f-488e-b72d-2a1229bc65db.h5ad\n",
      "├── 04c94a7d-1133-42c9-bb48-c697bd302a8d.h5ad\n",
      "├── 04d87de6-c20a-4186-8884-f47dba20b0a4.h5ad\n",
      "├── 04ea2093-332f-4684-99f1-c353cd62c35b.h5ad\n",
      "├── 055ca631-6ffb-40de-815e-b931e10718c0.h5ad\n",
      "├── 059022cf-885a-4ef8-944b-d9e5381aa1c6.h5ad\n",
      "├── 05a49baa-d326-42ae-86d2-94de3a659901.h5ad\n",
      "├── 05d4a216-5384-4724-bd2a-2ea38f02e7cc.h5ad\n",
      "├── 05e6f6e3-0473-4b85-9f94-bcc5f1b5e04b.h5ad\n",
      "├── 05f813a4-fc9e-4143-bba9-de93bdd8eece.h5ad\n",
      "├── 06379c09-d4cf-4c6f-8299-e0bc8879dbdf.h5ad\n",
      "├── 066943a2-fdac-4b29-b348-40cede398e4e.h5ad\n",
      "├── 0671c0d4-f233-4cd3-a0d6-9a6b747bdd98.h5ad\n",
      "├── 06b91002-4d3d-4d2e-8484-20c3b31e232c.h5ad\n",
      "├── 06ef6b36-6c9b-4e10-8a94-d0baf274276e.h5ad\n",
      "├── 0737011b-45a6-49f6-8b5a-b85c35160bac.h5ad\n",
      "├── 0738f538-ff2f-4346-b2eb-72704c291188.h5ad\n",
      "├── 07428d73-fdea-4bd4-a801-94b00c4d961c.h5ad\n",
      "├── 07760522-707a-4a1c-8891-dbd1226d6b27.h5ad\n",
      "├── 07854d9c-5375-4a9b-ac34-fa919d3c3686.h5ad\n",
      "├── 07a4e406-3a76-47a3-a21c-a28d7ce7984a.h5ad\n",
      "├── 07b1d7c8-5c2e-42f7-9246-26f746cd6013.h5ad\n",
      "├── 07efa1c3-7649-43d8-b798-e26a0145ee65.h5ad\n",
      "├── 07f14e26-ff0d-43c4-bfe3-bf1a94dc73c3.h5ad\n",
      "├── 08073b32-d389-41f4-a4fd-616de76915ab.h5ad\n",
      "├── 0819e386-e7fd-4212-b732-60e468689f89.h5ad\n",
      "├── 0895c838-e550-48a3-a777-dbcd35d30272.h5ad\n",
      "├── 08e94873-c2a6-4f7d-ab72-aeaff3e3f929.h5ad\n",
      "├── 090da8ea-46e8-40df-bffc-1f78e1538d27.h5ad\n",
      "├── 090fede8-fac6-4bea-b6c4-6dedea5cca1c.h5ad\n",
      "├── 0920bcb8-4b3a-4e9d-a353-56f529fd3b32.h5ad\n",
      "├── 09286690-98b5-4095-b0b1-3ded23a9dd3a.h5ad\n",
      "├── 093d3bfe-6f0f-4ac0-a7a1-829f94d0a49f.h5ad\n",
      "├── 095940cb-7422-4510-96e2-cbafd961eb88.h5ad\n",
      "├── 0a1ad9d5-c9e1-4253-8883-9a99593eaa0c.h5ad\n",
      "├── 0a1b0fc9-2167-4cd3-85c6-379f0fdab8be.h5ad\n",
      "├── 0a21f80c-e7a3-465b-8aba-fdda2b4c36bc.h5ad\n",
      "├── 0a2d7e87-c3c0-4ed2-86df-ae18811fcc16.h5ad\n",
      "├── 0ae96eac-ff08-4870-9bc3-cd12418af7e4.h5ad\n",
      "├── 0b4a15a7-4e9e-4555-9733-2423e5c66469.h5ad\n",
      "├── 0b75c598-0893-4216-afe8-5414cab7739d.h5ad\n",
      "├── 0ba16f4b-cb87-4fa3-9363-19fc51eec6e7.h5ad\n",
      "├── 0ba636a1-4754-4786-a8be-7ab3cf760fd6.h5ad\n",
      "├── 0bae7ebf-eb54-46a6-be9a-3461cecefa4c.h5ad\n",
      "├── 0bc7235a-ae5a-479d-a487-510435377e55.h5ad\n",
      "├── 0bcda669-c2ab-484f-a87f-4e21f7a5bcab.h5ad\n",
      "├── 0bce33ed-455c-4e12-93f8-b7b04a2de4a1.h5ad\n",
      "├── 0bd1a1de-3aee-40e0-b2ec-86c7a30c7149.h5ad\n",
      "├── 0bd1ce9e-c423-4721-8ccf-91d9858342c2.h5ad\n",
      "├── 0c3901c3-2ef7-44e4-80cb-b281ea2b0de9.h5ad\n",
      "├── 0c86f0de-ddcb-454c-b00b-37feb69e7da1.h5ad\n",
      "├── 0c9a8cfb-6649-4d52-b418-6d8e56bd7afe.h5ad\n",
      "├── 0caedec7-1c7d-4e79-aba2-50f6916e643f.h5ad\n",
      "├── 0ced5e76-6040-47ff-8a72-93847965afc0.h5ad\n",
      "├── 0d049f5a-19b1-4055-a377-011a9570032c.h5ad\n",
      "├── 0d2ee4ac-05ee-40b2-afb6-ebb584caa867.h5ad\n",
      "├── 0d49001d-cc88-4b70-8f0c-f1ca385d0199.h5ad\n",
      "├── 0d7f4c06-a6bd-47d2-a42b-3a7196704f77.h5ad\n",
      "├── 0de831e0-a525-4ec5-b717-df56f2de2bf0.h5ad\n",
      "...\n"
     ]
    }
   ],
   "source": [
    "ln.UPath(s3path).view_tree()"
   ]
  },
  {
   "cell_type": "code",
   "execution_count": 6,
   "id": "6c903126-b7b6-4af2-8056-e147b1038a4a",
   "metadata": {
    "tags": []
   },
   "outputs": [
    {
     "name": "stderr",
     "output_type": "stream",
     "text": [
      "/tmp/ipykernel_1597782/1520426017.py:1: FutureWarning: Use ln.track() instead of track, track will be removed in the future.\n",
      "  ln.context.track(\"VzV8Ty89eQdK\")\n"
     ]
    },
    {
     "name": "stdout",
     "output_type": "stream",
     "text": [
      "\u001b[94m•\u001b[0m tracked pip freeze > /home/lukas/.cache/lamindb/environments/run_42Re6s8Nmg0tFhFk/run_env_pip.txt\n",
      "\u001b[92m→\u001b[0m created Transform('VzV8Ty89eQdK0000'), started new Run('42Re6s8N...') at 2025-07-18 15:35:38 UTC\n",
      "\u001b[92m→\u001b[0m notebook imports: bionty==1.6.0 cellxgene_lamin==0.3.2 lamindb==1.8.0\n"
     ]
    }
   ],
   "source": [
    "ln.context.track(\"VzV8Ty89eQdK\")"
   ]
  },
  {
   "cell_type": "markdown",
   "id": "af01c5b5-7b77-44af-88ff-d19459be380e",
   "metadata": {},
   "source": [
    "Get all datasets and associated metadata using cellxgene REST API:"
   ]
  },
  {
   "cell_type": "code",
   "execution_count": 7,
   "id": "9f5ec28f-f2fc-4374-8f7d-2194c89149ac",
   "metadata": {
    "tags": []
   },
   "outputs": [
    {
     "data": {
      "text/plain": [
       "1844"
      ]
     },
     "execution_count": 7,
     "metadata": {},
     "output_type": "execute_result"
    }
   ],
   "source": [
    "cxg_datasets = get_datasets_from_cxg()\n",
    "len(cxg_datasets)"
   ]
  },
  {
   "cell_type": "code",
   "execution_count": 8,
   "id": "5963c7ce-52d0-4dc8-8217-b278fd96afa3",
   "metadata": {
    "tags": []
   },
   "outputs": [
    {
     "data": {
      "text/plain": [
       "dict_keys(['assay', 'assets', 'cell_count', 'cell_type', 'citation', 'collection_doi', 'collection_doi_label', 'collection_id', 'collection_name', 'collection_version_id', 'dataset_id', 'dataset_version_id', 'development_stage', 'disease', 'donor_id', 'explorer_url', 'is_primary_data', 'mean_genes_per_cell', 'organism', 'primary_cell_count', 'processing_status', 'published_at', 'revised_at', 'revision_of_collection', 'revision_of_dataset', 'schema_version', 'self_reported_ethnicity', 'sex', 'spatial', 'suspension_type', 'tissue', 'title', 'tombstone', 'visibility', 'x_approximate_distribution'])"
      ]
     },
     "execution_count": 8,
     "metadata": {},
     "output_type": "execute_result"
    }
   ],
   "source": [
    "cxg_datasets[0].keys()"
   ]
  },
  {
   "cell_type": "markdown",
   "id": "dabd3ba1-134d-49fe-a0ae-50a3d2f15195",
   "metadata": {},
   "source": [
    "## Register artifacts"
   ]
  },
  {
   "cell_type": "code",
   "execution_count": 10,
   "id": "84610aaf-191a-46f3-9987-7579eb3f266e",
   "metadata": {
    "tags": []
   },
   "outputs": [
    {
     "name": "stdout",
     "output_type": "stream",
     "text": [
      "\u001b[92m✓\u001b[0m created 1573 artifacts from directory using storage s3://cellxgene-data-public and key = cell-census/2025-01-30/h5ads/\n"
     ]
    }
   ],
   "source": [
    "artifacts = ln.Artifact.from_dir(s3path)\n",
    "ln.save(artifacts)"
   ]
  },
  {
   "cell_type": "code",
   "execution_count": 11,
   "id": "af381d5d-7f61-4871-9846-fe32ad9f3be7",
   "metadata": {
    "tags": []
   },
   "outputs": [
    {
     "data": {
      "text/plain": [
       "1573"
      ]
     },
     "execution_count": 11,
     "metadata": {},
     "output_type": "execute_result"
    }
   ],
   "source": [
    "artifacts = ln.Artifact.filter(key__contains=census_version).all()\n",
    "len(artifacts)"
   ]
  },
  {
   "cell_type": "code",
   "execution_count": 12,
   "id": "d46fed53",
   "metadata": {},
   "outputs": [
    {
     "data": {
      "text/plain": [
       "1573"
      ]
     },
     "execution_count": 12,
     "metadata": {},
     "output_type": "execute_result"
    }
   ],
   "source": [
    "artifacts.update(version=census_version)"
   ]
  },
  {
   "cell_type": "code",
   "execution_count": 13,
   "id": "873accaa-6402-4030-88d7-3b4528480dc1",
   "metadata": {
    "tags": []
   },
   "outputs": [],
   "source": [
    "for cxg_dataset in cxg_datasets:\n",
    "    artifact = artifacts.filter(key__contains=cxg_dataset[\"dataset_id\"]).one_or_none()\n",
    "    if artifact is not None:\n",
    "        artifact.n_observations = cxg_dataset[\"cell_count\"]\n",
    "        artifact.description = cxg_dataset[\"title\"]\n",
    "        artifact.save()"
   ]
  },
  {
   "cell_type": "code",
   "execution_count": 14,
   "id": "d78b97fd",
   "metadata": {},
   "outputs": [
    {
     "data": {
      "text/plain": [
       "0"
      ]
     },
     "execution_count": 14,
     "metadata": {},
     "output_type": "execute_result"
    }
   ],
   "source": [
    "artifacts_previous = ln.Artifact.filter(version=previous_release).all()\n",
    "artifacts_previous.count()"
   ]
  },
  {
   "cell_type": "code",
   "execution_count": 21,
   "id": "7dfb385a",
   "metadata": {
    "scrolled": true,
    "tags": [
     "hide-output"
    ]
   },
   "outputs": [],
   "source": [
    "for artifact in artifacts:\n",
    "    dataset_id = artifact.key.split(\"/\")[-1]\n",
    "    artifact_previous = artifacts_previous.filter(\n",
    "        key__endswith=dataset_id\n",
    "    ).one_or_none()\n",
    "    if artifact_previous is not None:\n",
    "        artifact.add_to_version_family(artifact_previous, version=census_version)"
   ]
  },
  {
   "cell_type": "markdown",
   "id": "53cd99ea-6cea-40ec-a7a9-08e2b1ccd2c7",
   "metadata": {
    "tags": []
   },
   "source": [
    "## Register metadata"
   ]
  },
  {
   "cell_type": "markdown",
   "id": "c45998cf-43cc-4181-8fe5-0f2db507c1c7",
   "metadata": {},
   "source": [
    "### Register new features and parent labels"
   ]
  },
  {
   "cell_type": "code",
   "execution_count": 22,
   "id": "6893cfc3-b8f6-435e-be97-3a169647b94e",
   "metadata": {},
   "outputs": [],
   "source": [
    "artifacts = ln.Artifact.filter(key__contains=census_version).all()"
   ]
  },
  {
   "cell_type": "code",
   "execution_count": 23,
   "id": "b3caeb16-444e-4dc9-996c-fdc6ad6280e8",
   "metadata": {},
   "outputs": [
    {
     "ename": "ModuleNotFoundError",
     "evalue": "No module named 'lamindb.core._feature_manager'",
     "output_type": "error",
     "traceback": [
      "\u001b[31m---------------------------------------------------------------------------\u001b[39m",
      "\u001b[31mModuleNotFoundError\u001b[39m                       Traceback (most recent call last)",
      "\u001b[36mCell\u001b[39m\u001b[36m \u001b[39m\u001b[32mIn[23]\u001b[39m\u001b[32m, line 1\u001b[39m\n\u001b[32m----> \u001b[39m\u001b[32m1\u001b[39m \u001b[38;5;28;01mfrom\u001b[39;00m\u001b[38;5;250m \u001b[39m\u001b[34;01mcellxgene_lamin\u001b[39;00m\u001b[34;01m.\u001b[39;00m\u001b[34;01mdev\u001b[39;00m\u001b[34;01m.\u001b[39;00m\u001b[34;01m_features\u001b[39;00m\u001b[38;5;250m \u001b[39m\u001b[38;5;28;01mimport\u001b[39;00m register_obs_featureset\n",
      "\u001b[36mFile \u001b[39m\u001b[32m~/code/cellxgene-lamin/cellxgene_lamin/dev/_features.py:2\u001b[39m\n\u001b[32m      1\u001b[39m \u001b[38;5;28;01mimport\u001b[39;00m\u001b[38;5;250m \u001b[39m\u001b[34;01mlamindb\u001b[39;00m\u001b[38;5;250m \u001b[39m\u001b[38;5;28;01mas\u001b[39;00m\u001b[38;5;250m \u001b[39m\u001b[34;01mln\u001b[39;00m\n\u001b[32m----> \u001b[39m\u001b[32m2\u001b[39m \u001b[38;5;28;01mfrom\u001b[39;00m\u001b[38;5;250m \u001b[39m\u001b[34;01mlamindb\u001b[39;00m\u001b[34;01m.\u001b[39;00m\u001b[34;01mcore\u001b[39;00m\u001b[34;01m.\u001b[39;00m\u001b[34;01m_feature_manager\u001b[39;00m\u001b[38;5;250m \u001b[39m\u001b[38;5;28;01mimport\u001b[39;00m get_accessor_by_registry_\n\u001b[32m      4\u001b[39m OBS_FEATURES = {\n\u001b[32m      5\u001b[39m     \u001b[33m\"\u001b[39m\u001b[33massay\u001b[39m\u001b[33m\"\u001b[39m: \u001b[33m\"\u001b[39m\u001b[33mbionty.ExperimentalFactor\u001b[39m\u001b[33m\"\u001b[39m,\n\u001b[32m      6\u001b[39m     \u001b[33m\"\u001b[39m\u001b[33mcell_type\u001b[39m\u001b[33m\"\u001b[39m: \u001b[33m\"\u001b[39m\u001b[33mbionty.CellType\u001b[39m\u001b[33m\"\u001b[39m,\n\u001b[32m   (...)\u001b[39m\u001b[32m     15\u001b[39m     \u001b[33m\"\u001b[39m\u001b[33morganism\u001b[39m\u001b[33m\"\u001b[39m: \u001b[33m\"\u001b[39m\u001b[33mbionty.Organism\u001b[39m\u001b[33m\"\u001b[39m,\n\u001b[32m     16\u001b[39m }\n\u001b[32m     18\u001b[39m obs_features_records = ln.FeatureSet.filter(name=\u001b[33m\"\u001b[39m\u001b[33mobs metadata\u001b[39m\u001b[33m\"\u001b[39m).one().members.lookup()\n",
      "\u001b[31mModuleNotFoundError\u001b[39m: No module named 'lamindb.core._feature_manager'"
     ]
    }
   ],
   "source": [
    "from cellxgene_lamin.dev._features import register_obs_featureset"
   ]
  },
  {
   "cell_type": "code",
   "execution_count": null,
   "id": "1ffec9e8-9143-439c-8c99-7f57a093da3d",
   "metadata": {
    "scrolled": true
   },
   "outputs": [],
   "source": [
    "# get CxG Schema\n",
    "\n",
    "if not artifacts[0].feature_sets.filter(name=\"obs metadata\").exists():\n",
    "    obs_feature_set = register_obs_featureset(artifacts)"
   ]
  },
  {
   "cell_type": "code",
   "execution_count": 11,
   "id": "891b8f8f-d4b5-4417-aa33-efe3718d4268",
   "metadata": {
    "tags": []
   },
   "outputs": [],
   "source": [
    "features = ln.Feature.lookup()"
   ]
  },
  {
   "cell_type": "markdown",
   "id": "1acd350f-c54f-4020-a7e9-d4b4dae1ac71",
   "metadata": {},
   "source": [
    "## organisms"
   ]
  },
  {
   "cell_type": "code",
   "execution_count": null,
   "id": "e1c83467-4bc9-40f5-832d-d2a54cc0d3db",
   "metadata": {},
   "outputs": [],
   "source": [
    "from cellxgene_lamin.dev._organism import register_organisms, curate_organisms"
   ]
  },
  {
   "cell_type": "code",
   "execution_count": 13,
   "id": "ee44032d-ce23-428b-95ab-2bd02917ba63",
   "metadata": {},
   "outputs": [],
   "source": [
    "register_organisms(cxg_datasets)"
   ]
  },
  {
   "cell_type": "markdown",
   "id": "253a26f5-b2fd-4edb-a72f-a1208e558f6f",
   "metadata": {},
   "source": [
    "Link collections and organisms to artifacts:"
   ]
  },
  {
   "cell_type": "code",
   "execution_count": null,
   "id": "619930f6-07d2-47b5-965c-f247214ed985",
   "metadata": {},
   "outputs": [],
   "source": [
    "curate_organisms(artifacts, cxg_datasets)"
   ]
  },
  {
   "cell_type": "markdown",
   "id": "ec98e4b9-683a-4eb2-aa35-bf3d15c63d71",
   "metadata": {},
   "source": [
    "## ontologies"
   ]
  },
  {
   "cell_type": "markdown",
   "id": "58ebf172-368e-4b4c-8dbd-73b91472fbd2",
   "metadata": {},
   "source": [
    "Register all ontology ids:"
   ]
  },
  {
   "cell_type": "code",
   "execution_count": null,
   "id": "fbcc9eb0-4a17-4936-81e2-c0deea6bb27d",
   "metadata": {},
   "outputs": [],
   "source": [
    "from cellxgene_lamin.dev._ontology import register_ontology_ids"
   ]
  },
  {
   "cell_type": "code",
   "execution_count": 13,
   "id": "6ec7357d-e15a-4066-938e-4948805faad0",
   "metadata": {
    "editable": true,
    "scrolled": true,
    "slideshow": {
     "slide_type": ""
    },
    "tags": [
     "hide-output"
    ]
   },
   "outputs": [
    {
     "name": "stdout",
     "output_type": "stream",
     "text": [
      "registering assay\n",
      "✅ loaded \u001b[1;92m36 ExperimentalFactor records\u001b[0m matching \u001b[3montology_id\u001b[0m: \u001b[1;92m'EFO:0700016', 'EFO:0008722', 'EFO:0010961', 'EFO:0030003', 'EFO:0008930', 'EFO:0008992', 'EFO:0030019', 'EFO:0030027', 'EFO:0700003', 'EFO:0030002', 'EFO:0008931', 'EFO:0008720', 'EFO:0009899', 'EFO:0009901', 'EFO:0010891', 'EFO:0008796', 'EFO:0008919', 'EFO:0011025', 'EFO:0009919', 'EFO:0700010', ...\u001b[0m\n",
      "✅ created \u001b[1;95m2 ExperimentalFactor records from Bionty\u001b[0m matching \u001b[3montology_id\u001b[0m: \u001b[1;95m'EFO:0022490', 'EFO:0022492'\u001b[0m\n",
      "❗ now recursing through parents: this only happens once, but is much slower than bulk saving\n",
      "💡 you can switch this off via: bt.settings.auto_save_parents = False\n",
      "💡 also saving parents of ExperimentalFactor(uid='NuGX0K6A', name='ScaleBio single cell RNA sequencing', ontology_id='EFO:0022490', description='Scalebio Technology That Utilizes A Plate-Based Approach With Combinatorial Indexing To Generate Single Cell Libraries.', created_by_id=1, run_id=27, public_source_id=68, updated_at='2024-07-12 14:20:41 UTC')\n",
      "💡 also saving parents of ExperimentalFactor(uid='5rfEtsEk', name='snm3C-seq', ontology_id='EFO:0022492', synonyms='sn-m3C-seq', description='A Method To Jointly Profile Chromatin Conformation And Cytosine Dna Methylation From The Same Cell.', molecule='DNA assay', instrument='assay by high throughput sequencer', created_by_id=1, run_id=27, public_source_id=68, updated_at='2024-07-12 14:20:41 UTC')\n",
      "registering cell_type\n",
      "✅ loaded \u001b[1;92m881 CellType records\u001b[0m matching \u001b[3montology_id\u001b[0m: \u001b[1;92m'CL:4023036', 'CL:0003001', 'CL:4023041', 'CL:0000050', 'CL:0011024', 'CL:1001131', 'CL:0000695', 'CL:3000001', 'CL:2000097', 'CL:0000515', 'CL:0002328', 'CL:0000895', 'CL:0009010', 'CL:1001567', 'CL:0000935', 'CL:0000514', 'CL:0008031', 'CL:0000928', 'CL:1000353', 'CL:0000322', ...\u001b[0m\n",
      "✅ created \u001b[1;95m10 CellType records from Bionty\u001b[0m matching \u001b[3montology_id\u001b[0m: \u001b[1;95m'CL:4030059', 'CL:4030061', 'CL:4030062', 'CL:4030063', 'CL:4030065', 'CL:4030066', 'CL:4030067', 'CL:4033056', 'CL:4033057', 'CL:4033058'\u001b[0m\n",
      "❗ now recursing through parents: this only happens once, but is much slower than bulk saving\n",
      "💡 you can switch this off via: bt.settings.auto_save_parents = False\n",
      "💡 also saving parents of CellType(uid='42PLafOv', name='L2/3 intratelencephalic projecting glutamatergic neuron', ontology_id='CL:4030059', description='An Intratelencephalic-Projecting Glutamatergic Neuron With A Soma Found In Cortical Layer 2/3.', created_by_id=1, run_id=27, public_source_id=60, updated_at='2024-07-12 14:20:43 UTC')\n",
      "💡 also saving parents of CellType(uid='aECMKjUW', name='L3 intratelencephalic projecting glutamatergic neuron', ontology_id='CL:4030061', description='An Intratelencephalic-Projecting Glutamatergic Neuron With A Soma Found In Cortical Layer 3.', created_by_id=1, run_id=27, public_source_id=60, updated_at='2024-07-12 14:20:43 UTC')\n",
      "💡 also saving parents of CellType(uid='6IlUXXLR', name='L4/5 intratelencephalic projecting glutamatergic neuron', ontology_id='CL:4030062', description='An Intratelencephalic-Projecting Glutamatergic With A Soma Located In Cortical Layer 4/5.', created_by_id=1, run_id=27, public_source_id=60, updated_at='2024-07-12 14:20:43 UTC')\n",
      "💡 also saving parents of CellType(uid='2HrbvQGK', name='L4 intratelencephalic projecting glutamatergic neuron', ontology_id='CL:4030063', description='An Intratelencephalic-Projecting Glutamatergic Neuron With A Soma Found In Cortical Layer 4.', created_by_id=1, run_id=27, public_source_id=60, updated_at='2024-07-12 14:20:43 UTC')\n",
      "💡 also saving parents of CellType(uid='2ZbG4sPC', name='L6 intratelencephalic projecting glutamatergic neuron', ontology_id='CL:4030065', description='An Intratelencephalic-Projecting Glutamatergic Neuron With A Soma Found In Cortical Layer 6.', created_by_id=1, run_id=27, public_source_id=60, updated_at='2024-07-12 14:20:43 UTC')\n",
      "💡 also saving parents of CellType(uid='hRZYk1yi', name='ureteric bud cell', ontology_id='CL:4030066', description='An Epithelial Cell That Is Part Of A Ureteric Bud. A Ureteric Bud Cell Has The Potential To Induce Metanephric Mesenchymal Cells To Proliferate And Convert To Epithelia That Form Renal Tubules Via: (1) The Secretion Of Multiple Diffusible Growth Factors That Rescue Renal Progenitors From Apoptosis And Stimulate Them To Proliferate And (2) Contact-Dependent Mechanisms That Induce Mesenchymal-Epithelial Conversion.', created_by_id=1, run_id=27, public_source_id=60, updated_at='2024-07-12 14:20:43 UTC')\n",
      "💡 also saving parents of CellType(uid='4wlSFvBI', name='L5/6 near-projecting glutamatergic neuron', ontology_id='CL:4030067', description='A Near-Projecting Glutamatergic Neuron With A Soma Found In Cortical Layer 5/6.', created_by_id=1, run_id=27, public_source_id=60, updated_at='2024-07-12 14:20:43 UTC')\n",
      "💡 also saving parents of CellType(uid='5fugWvKl', name='onychocyte', ontology_id='CL:4033056', description='A Differentiated Flat Keratinocyte That Is Part Of A Nail Plate. An Onychocyte Is Firmly Adherent And Does Not Desquamate.', created_by_id=1, run_id=27, public_source_id=60, updated_at='2024-07-12 14:20:43 UTC')\n",
      "💡 also saving parents of CellType(uid='2wh8CpfX', name='luminal adaptive secretory precursor cell of mammary gland', ontology_id='CL:4033057', synonyms='ER-negative luminal alveolar progenitor', description='A Luminal Epithelial Cell Of The Mammary Gland That Can Proliferate And Has The Potential To Differentiate Into A Lactocyte During Pregnancy. In Humans, A Luminal Adaptive Secretory Precursor Cell Can Be Identified By High Levels Of The Markers Epcam And Cd49F, And In Mice It Can Be Identified By Low Levels Of Cd29 And High Levels Of Cd14, Kit, Cd61, And Tspan8.', created_by_id=1, run_id=27, public_source_id=60, updated_at='2024-07-12 14:20:43 UTC')\n",
      "💡 also saving parents of CellType(uid='1RLBZZWy', name='luminal hormone-sensing cell of mammary gland', ontology_id='CL:4033058', synonyms='ER-positive luminal hormone-sensor cell', description='A Luminal Epithelial Cell Of The Mammary Gland That Transduces Endocrine Cues To Orchestrate Proliferation, Architectural Remodeling, And Differentiation Of Other Cells In The Mammary Gland Via Paracrine Signaling. This Cell Expresses High Levels Of Estrogen Receptors. In Humans, A Luminal Hormone-Sensing Cell Can Be Identified By High Levels Of Epcam And Low Levels Of Cd49F, And In Mice It Can Be Identified By Low Levels Of Cd29 And High Levels Of Foxa1, Cd133, And Sca1 (Ly6A).', created_by_id=1, run_id=27, public_source_id=60, updated_at='2024-07-12 14:20:43 UTC')\n",
      "✅ loaded \u001b[1;92m2 CellType records\u001b[0m matching \u001b[3montology_id\u001b[0m: \u001b[1;92m'CL:0002326', 'CL:0000152'\u001b[0m\n",
      "✅ created \u001b[1;95m1 CellType record from Bionty\u001b[0m matching \u001b[3montology_id\u001b[0m: \u001b[1;95m'CL:0000512'\u001b[0m\n",
      "💡 also saving parents of CellType(uid='6eUNBkGI', name='paracrine cell', ontology_id='CL:0000512', description='A Paracrine Cell Is A Secretory Cell That Secretes An Agonist Into Intercellular Spaces In Which It Diffuses To A Target Cell Other Than That Which Produced It.', created_by_id=1, run_id=27, public_source_id=60, updated_at='2024-07-12 14:20:47 UTC')\n",
      "registering development_stage\n",
      "✅ loaded \u001b[1;92m243 DevelopmentalStage records\u001b[0m matching \u001b[3montology_id\u001b[0m: \u001b[1;92m'HsapDv:0000143', 'HsapDv:0000021', 'HsapDv:0000208', 'HsapDv:0000029', 'HsapDv:0000212', 'UBERON:0000113', 'HsapDv:0000030', 'MmusDv:0000054', 'HsapDv:0000166', 'HsapDv:0000058', 'HsapDv:0000107', 'HsapDv:0000120', 'MmusDv:0000046', 'HsapDv:0000198', 'MmusDv:0000072', 'MmusDv:0000091', 'HsapDv:0000057', 'HsapDv:0000140', 'HsapDv:0000096', 'HsapDv:0000256', ...\u001b[0m\n",
      "❗ \u001b[1;91mdid not create\u001b[0m DevelopmentalStage record for \u001b[1;93m1 non-validated\u001b[0m \u001b[3montology_id\u001b[0m: \u001b[1;93m'MmusDv:0000041'\u001b[0m\n",
      "✅ created \u001b[1;95m1 DevelopmentalStage record from Bionty\u001b[0m matching \u001b[3montology_id\u001b[0m: \u001b[1;95m'MmusDv:0000041'\u001b[0m\n",
      "registered 1 records: [DevelopmentalStage(uid='6jNHUvWd', name='unknown', ontology_id='MmusDv:0000041', created_by_id=1, run_id=27, public_source_id=44)]\n",
      "❗ now recursing through parents: this only happens once, but is much slower than bulk saving\n",
      "💡 you can switch this off via: bt.settings.auto_save_parents = False\n",
      "💡 also saving parents of DevelopmentalStage(uid='6jNHUvWd', name='unknown', ontology_id='MmusDv:0000041', created_by_id=1, run_id=27, public_source_id=44, updated_at='2024-07-12 14:20:50 UTC')\n",
      "registering disease\n",
      "✅ loaded \u001b[1;92m122 Disease records\u001b[0m matching \u001b[3montology_id\u001b[0m: \u001b[1;92m'MONDO:0005147', 'MONDO:0005021', 'MONDO:0004849', 'MONDO:0005252', 'MONDO:0008608', 'MONDO:0005148', 'MONDO:0005016', 'MONDO:0002771', 'MONDO:0021178', 'MONDO:0002052', 'MONDO:0019622', 'MONDO:0001933', 'MONDO:0024660', 'MONDO:0005575', 'MONDO:0004994', 'MONDO:0021116', 'MONDO:0600025', 'MONDO:0002508', 'MONDO:0005061', 'MONDO:0005453', ...\u001b[0m\n",
      "❗ \u001b[1;91mdid not create\u001b[0m Disease record for \u001b[1;93m1 non-validated\u001b[0m \u001b[3montology_id\u001b[0m: \u001b[1;93m'MONDO:0100542'\u001b[0m\n",
      "registered 1 records: [Disease(uid='1sfLCprL', name='clonal hematopoiesis', ontology_id='MONDO:0100542', created_by_id=1, run_id=27)]\n",
      "registering self_reported_ethnicity\n",
      "registering sex\n",
      "registering tissue\n",
      "✅ loaded \u001b[1;92m417 Tissue records\u001b[0m matching \u001b[3montology_id\u001b[0m: \u001b[1;92m'UBERON:0001836', 'UBERON:0000992', 'UBERON:0003532', 'UBERON:0000411', 'UBERON:8480030', 'UBERON:0039167', 'CL:0002328', 'UBERON:0003876', 'UBERON:0002119', 'UBERON:0007628', 'UBERON:0000955', 'UBERON:0000310', 'UBERON:0002382', 'UBERON:0002046', 'UBERON:0000059', 'UBERON:0034891', 'UBERON:0007224', 'UBERON:0000970', 'UBERON:0001049', 'UBERON:0000948', ...\u001b[0m\n",
      "❗ \u001b[1;91mdid not create\u001b[0m Tissue record for \u001b[1;93m1 non-validated\u001b[0m \u001b[3montology_id\u001b[0m: \u001b[1;93m'CL:0000307'\u001b[0m\n",
      "registered 1 records: [Tissue(uid='3bgY2Yz8', name='tracheal epithelial cell', ontology_id='CL:0000307', created_by_id=1, run_id=27)]\n",
      "registering organism\n"
     ]
    }
   ],
   "source": [
    "register_ontology_ids(cxg_datasets)"
   ]
  },
  {
   "cell_type": "code",
   "execution_count": 16,
   "id": "e5762757-ab21-4f9e-9d06-af99a78dd9f6",
   "metadata": {},
   "outputs": [],
   "source": [
    "# clean up the celltype in Tissue\n",
    "\n",
    "bt.Tissue.filter(ontology_id=\"CL:0000307\").delete()\n",
    "bt.CellType.from_public(ontology_id=\"CL:0000307\").save()"
   ]
  },
  {
   "cell_type": "markdown",
   "id": "19776fb7-d87f-4eca-8f7d-c2d88ffbaf1b",
   "metadata": {},
   "source": [
    "## donors and suspension_types"
   ]
  },
  {
   "cell_type": "code",
   "execution_count": null,
   "id": "74f4d1ca-6e4b-4b77-ba62-0b131e728b96",
   "metadata": {
    "editable": true,
    "slideshow": {
     "slide_type": ""
    },
    "tags": []
   },
   "outputs": [],
   "source": [
    "from cellxgene_lamin.dev._labels import register_ulabels"
   ]
  },
  {
   "cell_type": "code",
   "execution_count": 19,
   "id": "1f4863c1-ee4a-4a1b-b418-e80fc7086dcf",
   "metadata": {
    "editable": true,
    "slideshow": {
     "slide_type": ""
    },
    "tags": []
   },
   "outputs": [
    {
     "name": "stdout",
     "output_type": "stream",
     "text": [
      "registered 1207 donor_ids\n"
     ]
    }
   ],
   "source": [
    "ln.settings.creation.search_names = False\n",
    "register_ulabels(cxg_datasets, \"donor_id\")\n",
    "ln.settings.creation.search_names = True"
   ]
  },
  {
   "cell_type": "code",
   "execution_count": 20,
   "id": "db2eb57c-d78b-4bbd-9254-59eec3e46352",
   "metadata": {},
   "outputs": [
    {
     "name": "stdout",
     "output_type": "stream",
     "text": [
      "registered 0 suspension_types\n"
     ]
    }
   ],
   "source": [
    "register_ulabels(cxg_datasets, \"suspension_type\")"
   ]
  },
  {
   "cell_type": "markdown",
   "id": "7a4c9d2b-3331-4901-b986-d2523597d20f",
   "metadata": {},
   "source": [
    "## Annotate artifacts with obs metadata"
   ]
  },
  {
   "cell_type": "code",
   "execution_count": null,
   "id": "5297b500-0053-4730-a064-2de81ef5319b",
   "metadata": {},
   "outputs": [],
   "source": [
    "from cellxgene_lamin.dev._features import FEATURE_TO_ACCESSOR"
   ]
  },
  {
   "cell_type": "code",
   "execution_count": null,
   "id": "72a1457c-d4d7-45ae-bf20-87fd405c3a63",
   "metadata": {
    "editable": true,
    "slideshow": {
     "slide_type": ""
    },
    "tags": []
   },
   "outputs": [
    {
     "name": "stdout",
     "output_type": "stream",
     "text": [
      "annotating dataset 0 of 1844\n"
     ]
    }
   ],
   "source": [
    "import bionty as bt\n",
    "\n",
    "features = ln.Feature.lookup()\n",
    "\n",
    "for idx, cxg_dataset in enumerate(cxg_datasets):\n",
    "    if idx % 100 == 0:\n",
    "        print(f\"annotating dataset {idx} of {len(cxg_datasets)}\")\n",
    "    artifact = artifacts.filter(key__contains=cxg_dataset[\"dataset_id\"]).one_or_none()\n",
    "    if artifact is None:\n",
    "        continue\n",
    "    for field, terms in cxg_dataset.items():\n",
    "        if field not in FEATURE_TO_ACCESSOR:\n",
    "            continue\n",
    "        accessor, orm = FEATURE_TO_ACCESSOR.get(field)\n",
    "        if field in [\"donor_id\", \"suspension_type\", \"tissue_type\"]:\n",
    "            records = orm.from_values(terms, field=\"name\")\n",
    "            if len(records) > 0:\n",
    "                # stratify by feature so that link tables records are written\n",
    "                artifact.labels.add(records, feature=getattr(features, field))\n",
    "        else:\n",
    "            if field == \"tissue\":\n",
    "                records = []\n",
    "                celltypes = [\n",
    "                    term[\"ontology_term_id\"]\n",
    "                    for term in terms\n",
    "                    if term[\"tissue_type\"] == \"cell culture\"\n",
    "                ]\n",
    "                if len(celltypes) > 0:\n",
    "                    # records += bt.CellType.from_values(\n",
    "                    #     [i[\"ontology_term_id\"] for i in terms], field=\"ontology_id\"\n",
    "                    # )\n",
    "                    print(f\"These tissues are not yet linked: {celltypes}\")\n",
    "                tissues = [\n",
    "                    term[\"ontology_term_id\"]\n",
    "                    for term in terms\n",
    "                    if term[\"tissue_type\"] != \"cell culture\"\n",
    "                ]\n",
    "                if len(tissues) > 0:\n",
    "                    records += bt.Tissue.from_values(\n",
    "                        [term[\"ontology_term_id\"] for term in terms],\n",
    "                        field=\"ontology_id\",\n",
    "                    )\n",
    "            else:\n",
    "                records = orm.from_values(\n",
    "                    [term[\"ontology_term_id\"] for term in terms], field=\"ontology_id\"\n",
    "                )\n",
    "            if len(records) > 0:\n",
    "                getattr(artifact, accessor).add(*records)\n",
    "\n",
    "# clean up the 2 \"unknowns\" in DevelopmentalStage\n",
    "bt.DevelopmentalStage.filter(name=\"unknown\").exclude(ontology_id=\"unknown\").delete()"
   ]
  },
  {
   "cell_type": "markdown",
   "id": "83ec7780-4ab5-42e3-8765-3f4df04f43fc",
   "metadata": {},
   "source": [
    "## Validate and register genes"
   ]
  },
  {
   "cell_type": "code",
   "execution_count": null,
   "id": "66badfcf-0385-4086-a7c8-642501cf7684",
   "metadata": {},
   "outputs": [],
   "source": [
    "from cellxgene_lamin.dev._gene import register_genes"
   ]
  },
  {
   "cell_type": "markdown",
   "id": "60dbb11e-da6d-495c-a437-79a956136afa",
   "metadata": {
    "editable": true,
    "slideshow": {
     "slide_type": ""
    },
    "tags": []
   },
   "source": [
    "Register all genes for each organism:"
   ]
  },
  {
   "cell_type": "code",
   "execution_count": 10,
   "id": "2ac2f759-8de1-47de-be1f-7e96ab7f8540",
   "metadata": {
    "editable": true,
    "slideshow": {
     "slide_type": ""
    },
    "tags": []
   },
   "outputs": [
    {
     "name": "stdout",
     "output_type": "stream",
     "text": [
      "registering homo_sapiens genes\n",
      "✅ \u001b[1;92m62754 terms\u001b[0m (100.00%) are validated for \u001b[3mensembl_gene_id\u001b[0m\n",
      "registering mus_musculus genes\n",
      "✅ loaded \u001b[1;92m55281 Gene records\u001b[0m matching \u001b[3mensembl_gene_id\u001b[0m: \u001b[1;92m'ENSMUSG00000102693', 'ENSMUSG00000064842', 'ENSMUSG00000051951', 'ENSMUSG00000102851', 'ENSMUSG00000103377', 'ENSMUSG00000104017', 'ENSMUSG00000103025', 'ENSMUSG00000089699', 'ENSMUSG00000103201', 'ENSMUSG00000103147', 'ENSMUSG00000103161', 'ENSMUSG00000102331', 'ENSMUSG00000102348', 'ENSMUSG00000102592', 'ENSMUSG00000088333', 'ENSMUSG00000102343', 'ENSMUSG00000025900', 'ENSMUSG00000102948', 'ENSMUSG00000104123', 'ENSMUSG00000025902', ...\u001b[0m\n",
      "✅ created \u001b[1;95m1660 Gene records from Bionty\u001b[0m matching \u001b[3mensembl_gene_id\u001b[0m: \u001b[1;95m'ENSMUSG00000119939', 'ENSMUSG00000119940', 'ENSMUSG00000119941', 'ENSMUSG00000119942', 'ENSMUSG00000119943', 'ENSMUSG00000119944', 'ENSMUSG00000119945', 'ENSMUSG00000119946', 'ENSMUSG00000119947', 'ENSMUSG00000119948', 'ENSMUSG00000119949', 'ENSMUSG00000119950', 'ENSMUSG00000119951', 'ENSMUSG00000119952', 'ENSMUSG00000119953', 'ENSMUSG00000119954', 'ENSMUSG00000119955', 'ENSMUSG00000119956', 'ENSMUSG00000119957', 'ENSMUSG00000119958', ...\u001b[0m\n",
      "✅ \u001b[1;92m56941 terms\u001b[0m (100.00%) are validated for \u001b[3mensembl_gene_id\u001b[0m\n",
      "registering synthetic_construct genes\n",
      "✅ \u001b[1;92m92 terms\u001b[0m (100.00%) are validated for \u001b[3mensembl_gene_id\u001b[0m\n",
      "registering severe_acute_respiratory_syndrome_coronavirus_2 genes\n",
      "✅ \u001b[1;92m12 terms\u001b[0m (100.00%) are validated for \u001b[3mensembl_gene_id\u001b[0m\n"
     ]
    }
   ],
   "source": [
    "register_genes()"
   ]
  },
  {
   "cell_type": "markdown",
   "id": "91941817-2afa-403a-8494-0759b1ef8e16",
   "metadata": {},
   "source": [
    "## Link metadata to individual artifacts"
   ]
  },
  {
   "cell_type": "markdown",
   "id": "d49b511a-0960-488a-95c4-0d09c829e481",
   "metadata": {},
   "source": [
    "annotate with genes measured in each artifact:"
   ]
  },
  {
   "cell_type": "code",
   "execution_count": 11,
   "id": "5cf186a6-fd8e-448d-8dbc-02096c89b6ab",
   "metadata": {
    "tags": []
   },
   "outputs": [],
   "source": [
    "organisms = bt.Organism.lookup(field=bt.Organism.scientific_name)"
   ]
  },
  {
   "cell_type": "code",
   "execution_count": null,
   "id": "85cc438e-4cb9-4611-a058-861b8979b9f2",
   "metadata": {
    "scrolled": true,
    "tags": [
     "hide-output"
    ]
   },
   "outputs": [
    {
     "name": "stdout",
     "output_type": "stream",
     "text": [
      "annotating dataset 0 of 812\n",
      "annotating dataset 100 of 812\n",
      "annotating dataset 200 of 812\n",
      "annotating dataset 300 of 812\n",
      "annotating dataset 500 of 812\n",
      "annotating dataset 600 of 812\n",
      "annotating dataset 700 of 812\n",
      "annotating dataset 800 of 812\n"
     ]
    }
   ],
   "source": [
    "for idx, artifact in enumerate(artifacts):\n",
    "    if idx % 100 == 0:\n",
    "        print(f\"annotating dataset {idx} of {len(artifacts)}\")\n",
    "\n",
    "    adata_backed = artifact.backed()\n",
    "    var_names = adata_backed.var_names\n",
    "    organism_record = artifact.organisms.first()\n",
    "    if organism_record is None:\n",
    "        print(f\"No organism found for artifact: {artifact}\")\n",
    "        continue\n",
    "    genes = bt.Gene.from_values(\n",
    "        var_names, field=bt.Gene.ensembl_gene_id, organism=organism_record\n",
    "    )\n",
    "\n",
    "    if len(genes) == 0 and var_names[0].startswith(\"ENSG\"):\n",
    "        genes += bt.Gene.from_values(\n",
    "            var_names, field=bt.Gene.ensembl_gene_id, organism=\"human\"\n",
    "        )\n",
    "\n",
    "    if len(var_names[var_names.str.startswith(\"ERCC\")]) > 0:\n",
    "        genes += bt.Gene.from_values(\n",
    "            var_names,\n",
    "            field=bt.Gene.ensembl_gene_id,\n",
    "            organism=organisms.synthetic_construct,\n",
    "        )\n",
    "    if len(var_names[var_names.str.startswith(\"ENSSASG\")]) > 0:\n",
    "        genes += bt.Gene.from_values(\n",
    "            var_names,\n",
    "            field=bt.Gene.ensembl_gene_id,\n",
    "            organism=organisms.severe_acute_respiratory_syndrome_coronavirus_2,\n",
    "        )\n",
    "\n",
    "    var_feature_set_artifact = ln.FeatureSet(genes, dtype=\"number\")\n",
    "    var_feature_set_artifact.save()\n",
    "    artifact.feature_sets.add(\n",
    "        var_feature_set_artifact, through_defaults={\"slot\": \"var\"}\n",
    "    )"
   ]
  },
  {
   "cell_type": "code",
   "execution_count": 16,
   "id": "778d2386-957d-41c8-b400-0c7ae0819318",
   "metadata": {
    "editable": true,
    "slideshow": {
     "slide_type": ""
    },
    "tags": []
   },
   "outputs": [
    {
     "name": "stdout",
     "output_type": "stream",
     "text": [
      "\u001b[1;92mArtifact\u001b[0m(uid='g0RcSSYe5vQKzSWYkhMc', version='2024-07-01', description='Dissection: Amygdaloid complex (AMY) - basolateral nuclear group (BLN) - basolateral nucleus (basal nucleus) - BL', key='cell-census/2024-07-01/h5ads/fe1a73ab-a203-45fd-84e9-0f7fd19efcbd.h5ad', suffix='.h5ad', type='dataset', accessor='AnnData', size=391552151, hash='1V_lPFFOF51ioRTSVWx9Mg-47', hash_type='md5-n', n_observations=35285, visibility=1, key_is_virtual=False, updated_at='2024-07-12 12:40:48 UTC')\n",
      "  \u001b[3mProvenance\u001b[0m\n",
      "    .created_by = 'sunnyosun'\n",
      "    .storage = 's3://cellxgene-data-public'\n",
      "    .transform = 'Census release 2024-07-01 (LTS)'\n",
      "    .run = '2024-07-12 12:17:31 UTC'\n",
      "  \u001b[3mLabels\u001b[0m\n",
      "    .organisms = 'human'\n",
      "    .tissues = 'cerebral nuclei'\n",
      "    .cell_types = 'astrocyte', 'central nervous system macrophage', 'leukocyte', 'vascular associated smooth muscle cell', 'endothelial cell', 'ependymal cell', 'neuron', 'pericyte', 'fibroblast', 'oligodendrocyte precursor cell', ...\n",
      "    .diseases = 'normal'\n",
      "    .phenotypes = 'male'\n",
      "    .experimental_factors = '10x 3' v3'\n",
      "    .developmental_stages = '29-year-old human stage', '42-year-old human stage', '50-year-old human stage'\n",
      "    .ethnicities = 'European'\n",
      "    .ulabels = 'H18.30.002', 'H19.30.002', 'H19.30.001', 'nucleus'\n",
      "  \u001b[3mFeatures\u001b[0m\n",
      "    'donor_id' = 'H18.30.002', 'H19.30.001', 'H19.30.002'\n",
      "    'suspension_type' = 'nucleus'\n",
      "    'organism' = 'human'\n",
      "  \u001b[3mFeature sets\u001b[0m\n",
      "    'obs' = 'assay', 'cell_type', 'development_stage', 'disease', 'donor_id', 'self_reported_ethnicity', 'sex', 'tissue', 'organism', 'tissue_type', 'suspension_type'\n",
      "    'var' = 'None', 'EBF1', 'LINC02202', 'RNF145', 'LINC01932', 'UBLCP1', 'IL12B', 'RNU4ATAC2P', 'LINC01845', 'LINC01847', 'ADRA1B', 'GAPDHP40', 'Y_RNA', 'TTC1'\n",
      "\n"
     ]
    }
   ],
   "source": [
    "artifact.describe()"
   ]
  },
  {
   "cell_type": "markdown",
   "id": "2774691c-ecca-4114-a3aa-b9e2bfa0bec3",
   "metadata": {},
   "source": [
    "## Annotate tissue_type"
   ]
  },
  {
   "cell_type": "code",
   "execution_count": 18,
   "id": "4145a622-e238-408d-9f66-abc5eb585254",
   "metadata": {
    "editable": true,
    "slideshow": {
     "slide_type": ""
    },
    "tags": []
   },
   "outputs": [],
   "source": [
    "register_ulabels(cxg_datasets, \"tissue_type\")"
   ]
  },
  {
   "cell_type": "markdown",
   "id": "b165eacb",
   "metadata": {},
   "source": [
    "## Register collections"
   ]
  },
  {
   "cell_type": "code",
   "execution_count": 23,
   "id": "ed7a0e25",
   "metadata": {},
   "outputs": [
    {
     "name": "stdout",
     "output_type": "stream",
     "text": [
      "💡 adding collection ids [456] as inputs for run 27, adding parent transform 19\n",
      "✅ saved 1 feature set for slot: 'var'\n"
     ]
    }
   ],
   "source": [
    "collection = ln.Collection(\n",
    "    artifacts,\n",
    "    name=\"cellxgene-census\",\n",
    "    version=census_version,\n",
    "    is_new_version_of=ln.Collection.filter(\n",
    "        name=\"cellxgene-census\", version=previous_release\n",
    "    ).one(),\n",
    ")\n",
    "collection.save()"
   ]
  },
  {
   "cell_type": "code",
   "execution_count": 25,
   "id": "323d7139",
   "metadata": {},
   "outputs": [],
   "source": [
    "cxg_collections = get_collections_from_cxg()"
   ]
  },
  {
   "cell_type": "code",
   "execution_count": 27,
   "id": "9286a290-e3d6-4550-b14c-6612b882b2f5",
   "metadata": {},
   "outputs": [
    {
     "data": {
      "text/plain": [
       "'cell-census/2024-07-01/h5ads/98e5ea9f-16d6-47ec-a529-686e76515e39.h5ad'"
      ]
     },
     "execution_count": 27,
     "metadata": {},
     "output_type": "execute_result"
    }
   ],
   "source": [
    "artifacts.first().key"
   ]
  },
  {
   "cell_type": "code",
   "execution_count": 29,
   "id": "77f296b9",
   "metadata": {},
   "outputs": [
    {
     "name": "stdout",
     "output_type": "stream",
     "text": [
      "❗ returning existing collection with same hash: Collection(uid='5LEE4fd5yMXsRtR6WUrs', version='2024-07-01', name='Type I interferon responsive microglia shape cortical development and behavior', description='10.1016/j.cell.2024.02.020', hash='UzOU3URUb50M_5lZtThV', reference='4828d33d-fb26-42e7-bf36-18293b0eec85', reference_type='CELLxGENE Collection ID', visibility=1, created_by_id=1, transform_id=22, run_id=27, updated_at='2024-07-16 12:17:38 UTC')\n",
      "❗ returning existing collection with same hash: Collection(uid='fYJ7GBbbLRwmVRHyDYu9', version='2024-07-01', name='Human breast cell atlas', description='10.1038/s41588-024-01688-9', hash='wXMzOvp8a-_nGgkwfjSM', reference='48259aa8-f168-4bf5-b797-af8e88da6637', reference_type='CELLxGENE Collection ID', visibility=1, created_by_id=1, transform_id=22, run_id=27, updated_at='2024-07-16 12:17:38 UTC')\n",
      "❗ returning existing collection with same hash: Collection(uid='6Nu0TAYjj2ePrtyUe6HL', version='2024-07-01', name='SEA-AD: Seattle Alzheimer’s Disease Brain Cell Atlas', description='10.1101/2023.05.08.539485', hash='PDK1s9n30FRoxgRVUV-8', reference='1ca90a2d-2943-483d-b678-b809bf464c30', reference_type='CELLxGENE Collection ID', visibility=1, created_by_id=1, transform_id=22, run_id=27, updated_at='2024-07-16 12:17:40 UTC')\n",
      "❗ returning existing collection with same hash: Collection(uid='iuZQ5FuxUx8djUoy0wBW', version='2024-07-01', name='Molecular and spatial signatures of mouse brain aging at single-cell resolution', description='10.1016/j.cell.2022.12.010', hash='drimjqzQf_jCXILUH6Qb', reference='31937775-0602-4e52-a799-b6acdd2bac2e', reference_type='CELLxGENE Collection ID', visibility=1, created_by_id=1, transform_id=22, run_id=27, updated_at='2024-07-16 12:17:40 UTC')\n",
      "❗ returning existing collection with same hash: Collection(uid='XGeEFfpeKAYMtQlnJAaY', version='2024-07-01', name='Multi-scale spatial mapping of cell populations across anatomical sites in healthy human skin and basal cell carcinoma', description='10.1073/pnas.2313326120', hash='SR4yp3Hfk5B3SrqRoNXN', reference='34f12de7-c5e5-4813-a136-832677f98ac8', reference_type='CELLxGENE Collection ID', visibility=1, created_by_id=1, transform_id=22, run_id=27, updated_at='2024-07-16 12:17:41 UTC')\n",
      "❗ returning existing collection with same hash: Collection(uid='mKfQgOwlCTuLFneySJGV', version='2024-07-01', name='LungMAP — The genomic, epigenomic and biophysical cues controlling the emergence of the gas exchange niche in the lung.', description='10.1126/science.abc3172', hash='51fJjmq_GrC2uLS3Klvm', reference='48d354f5-a5ca-4f35-a3bb-fa3687502252', reference_type='CELLxGENE Collection ID', visibility=1, created_by_id=1, transform_id=22, run_id=27, updated_at='2024-07-16 12:17:41 UTC')\n",
      "❗ returning existing collection with same hash: Collection(uid='cwFRDKcBVLQ1DgA4O6nC', version='2024-07-01', name='Single cell transcriptomic profiling identifies molecular phenotypes of newborn human lung cells', description='10.3390/genes15030298', hash='P4dNll_9XIdx7s4kAugC', reference='28e9d721-6816-48a2-8d0b-43bf0b0c0ebc', reference_type='CELLxGENE Collection ID', visibility=1, created_by_id=1, transform_id=22, run_id=27, updated_at='2024-07-16 12:17:42 UTC')\n",
      "❗ returning existing collection with same hash: Collection(uid='jelUsbHyfZH67CXH4Y9I', version='2024-07-01', name='A single-cell transcriptional roadmap of the mouse and human lymph node lymphatic vasculature', description='10.3389/fcvm.2020.00052', hash='nYmNBfcoJd_QfCqr6xUX', reference='9c8808ce-1138-4dbe-818c-171cff10e650', reference_type='CELLxGENE Collection ID', visibility=1, created_by_id=1, transform_id=22, run_id=27, updated_at='2024-07-16 12:17:47 UTC')\n",
      "❗ returning existing collection with same hash: Collection(uid='Iu3eo1onLtTxVw1jhXA9', version='2024-07-01', name='Type I interferon autoantibodies are associated with systemic immune alterations in patients with COVID-19', description='10.1126/scitranslmed.abh2624', hash='bfClxMqNa1i5FbGt8qjI', reference='7d7cabfd-1d1f-40af-96b7-26a0825a306d', reference_type='CELLxGENE Collection ID', visibility=1, created_by_id=1, transform_id=22, run_id=27, updated_at='2024-07-16 12:17:47 UTC')\n",
      "❗ returning existing collection with same hash: Collection(uid='kZGohNB7hv9Qu2QlfMe3', version='2024-07-01', name='Insulin is expressed by enteroendocrine cells during human fetal development', description='10.1038/s41591-021-01586-1', hash='_1jCWDd-1qoqGzSTpmZ4', reference='7651ac1a-f947-463a-9223-a9e408a41989', reference_type='CELLxGENE Collection ID', visibility=1, created_by_id=1, transform_id=22, run_id=27, updated_at='2024-07-16 12:17:48 UTC')\n",
      "❗ returning existing collection with same hash: Collection(uid='tY63QUQc4y2Iv3pC2v4X', version='2024-07-01', name='Multiomic Profiling of Human Clonal Hematopoiesis Reveals Genotype and Cell-Specific Inflammatory Pathway Activation', description='10.1182/bloodadvances.2023011445', hash='YrsiMzRiXI7IML3mmKPo', reference='0aab20b3-c30c-4606-bd2e-d20dae739c45', reference_type='CELLxGENE Collection ID', visibility=1, created_by_id=1, transform_id=22, run_id=27, updated_at='2024-07-16 12:17:49 UTC')\n",
      "❗ returning existing collection with same hash: Collection(uid='Ioc0kigyLbByHgTGVEdi', version='2024-07-01', name='High-resolution single-cell atlas reveals diversity and plasticity of tumor-associated neutrophils in non-small cell lung cancer', description='10.1016/j.ccell.2022.10.008', hash='sQ2o8xVD_cZ2S9pVIAnU', reference='edb893ee-4066-4128-9aec-5eb2b03f8287', reference_type='CELLxGENE Collection ID', visibility=1, created_by_id=1, transform_id=22, run_id=27, updated_at='2024-07-16 12:17:50 UTC')\n",
      "❗ returning existing collection with same hash: Collection(uid='7D6yIlnySNfVDZozoMuk', version='2024-07-01', name='Comparative transcriptomics reveals human-specific cortical features', description='10.1126/science.ade9516', hash='6aAYLBJvC-dOgnZxg7sd', reference='4dca242c-d302-4dba-a68f-4c61e7bad553', reference_type='CELLxGENE Collection ID', visibility=1, created_by_id=1, transform_id=22, run_id=27, updated_at='2024-07-16 12:17:50 UTC')\n",
      "✅ saved 1 feature set for slot: 'var'\n",
      "✅ saved 1 feature set for slot: 'var'\n",
      "✅ saved 1 feature set for slot: 'var'\n",
      "✅ saved 1 feature set for slot: 'var'\n",
      "✅ saved 1 feature set for slot: 'var'\n",
      "✅ saved 1 feature set for slot: 'var'\n",
      "✅ saved 1 feature set for slot: 'var'\n",
      "✅ saved 1 feature set for slot: 'var'\n",
      "✅ saved 1 feature set for slot: 'var'\n",
      "✅ saved 1 feature set for slot: 'var'\n",
      "✅ saved 1 feature set for slot: 'var'\n",
      "✅ saved 1 feature set for slot: 'var'\n",
      "✅ saved 1 feature set for slot: 'var'\n",
      "✅ saved 1 feature set for slot: 'var'\n",
      "✅ saved 1 feature set for slot: 'var'\n",
      "✅ saved 1 feature set for slot: 'var'\n",
      "✅ saved 1 feature set for slot: 'var'\n",
      "✅ saved 1 feature set for slot: 'var'\n",
      "✅ saved 1 feature set for slot: 'var'\n",
      "✅ saved 1 feature set for slot: 'var'\n",
      "✅ saved 1 feature set for slot: 'var'\n",
      "✅ saved 1 feature set for slot: 'var'\n",
      "✅ saved 1 feature set for slot: 'var'\n",
      "✅ saved 1 feature set for slot: 'var'\n",
      "✅ saved 1 feature set for slot: 'var'\n",
      "✅ saved 1 feature set for slot: 'var'\n",
      "✅ saved 1 feature set for slot: 'var'\n",
      "✅ saved 1 feature set for slot: 'var'\n",
      "✅ saved 1 feature set for slot: 'var'\n",
      "✅ saved 1 feature set for slot: 'var'\n",
      "✅ saved 1 feature set for slot: 'var'\n",
      "✅ saved 1 feature set for slot: 'var'\n"
     ]
    }
   ],
   "source": [
    "ln.settings.creation.search_names = False\n",
    "for collection_meta in cxg_collections:\n",
    "    keys = [\n",
    "        f\"cell-census/{census_version}/h5ads/{dataset['dataset_id']}.h5ad\"\n",
    "        for dataset in collection_meta[\"datasets\"]\n",
    "    ]\n",
    "    collection_artifacts = artifacts.filter(key__in=keys).all()\n",
    "    if collection_artifacts.count() > 0:\n",
    "        kwargs = {\n",
    "            \"name\": collection_meta[\"name\"],\n",
    "            \"description\": collection_meta[\"doi\"],\n",
    "            \"reference\": collection_meta[\"collection_id\"],\n",
    "            \"reference_type\": \"CELLxGENE Collection ID\",\n",
    "            \"version\": census_version,\n",
    "        }\n",
    "        collection_record = ln.Collection(\n",
    "            collection_artifacts,\n",
    "            **kwargs,\n",
    "        )\n",
    "        # if is needed here as .save() errors if collection is already saved\n",
    "        if collection_record._state.adding:\n",
    "            collection_record.save()\n",
    "ln.settings.creation.search_names = True"
   ]
  },
  {
   "cell_type": "markdown",
   "id": "eaf89882",
   "metadata": {},
   "source": [
    "Add existing collections to their corresponding version families:"
   ]
  },
  {
   "cell_type": "code",
   "execution_count": 30,
   "id": "9c0cfed3",
   "metadata": {},
   "outputs": [
    {
     "data": {
      "text/plain": [
       "177"
      ]
     },
     "execution_count": 30,
     "metadata": {},
     "output_type": "execute_result"
    }
   ],
   "source": [
    "collections = ln.Collection.filter(version=census_version).all()\n",
    "collections.count()"
   ]
  },
  {
   "cell_type": "code",
   "execution_count": 31,
   "id": "a4f54103",
   "metadata": {},
   "outputs": [
    {
     "data": {
      "text/plain": [
       "165"
      ]
     },
     "execution_count": 31,
     "metadata": {},
     "output_type": "execute_result"
    }
   ],
   "source": [
    "collections_previous = ln.Collection.filter(version=previous_release).all()\n",
    "collections_previous.count()"
   ]
  },
  {
   "cell_type": "code",
   "execution_count": 32,
   "id": "39f24a6a",
   "metadata": {
    "tags": [
     "hide-output"
    ]
   },
   "outputs": [
    {
     "name": "stdout",
     "output_type": "stream",
     "text": [
      "✅ updated uid from dMyEX3NTfKOEYXyMciWu to dMyEX3NTfKOEYXyMKDD7!\n",
      "✅ updated uid from fYJ7GBbbLRwmVRHyDYu9 to kAcitlx0g6C2lgacOCAS!\n",
      "✅ updated uid from 6Nu0TAYjj2ePrtyUe6HL to Q2lwtI06DtUQbWUMUAs5!\n",
      "✅ updated uid from iuZQ5FuxUx8djUoy0wBW to 1MYLC8DhQK3wsKtZHZgD!\n",
      "✅ updated uid from mKfQgOwlCTuLFneySJGV to jMgmBjDxsNvnkgTHWWoP!\n",
      "✅ updated uid from jelUsbHyfZH67CXH4Y9I to 0H2X3A2FhWOgA7i8EtaM!\n",
      "✅ updated uid from Iu3eo1onLtTxVw1jhXA9 to gwCdNiXJtlYDhd6gPLLP!\n",
      "✅ updated uid from kZGohNB7hv9Qu2QlfMe3 to PUJ2Tv8Ie9lUbxb0ZSfl!\n",
      "✅ updated uid from Ioc0kigyLbByHgTGVEdi to Op2drQc2W4DokUc9PpQ6!\n",
      "✅ updated uid from 7D6yIlnySNfVDZozoMuk to uarP82A6F0cOH8dKjpQL!\n",
      "✅ updated uid from moIxw3JxMtRl9Py5Js6I to nZaV7G3xaFHYYWeJSCvZ!\n",
      "✅ updated uid from hg78nvGj2jsvrdLVkJHa to IwAqdxTSCfEgrnuWWvKP!\n",
      "✅ updated uid from Cnveibz2XUCqju5A6PbU to WJLbdahJcDE8E9mzsjbl!\n",
      "✅ updated uid from Q4327JEqd4gLomTAK1YO to D4mQlKcQOGzGvZrWCXrh!\n",
      "✅ updated uid from J9rYTZb0QfERXA6O8gnm to DI60aiNNLqOpa8t3JJPJ!\n",
      "✅ updated uid from K4fEurXklkZQuNCWCWBC to RWmOmv3bnmWvbYSmFBq8!\n",
      "✅ updated uid from 7S4Pmlzjq00sMsC7vPTr to km2M7msz9NtEBqDVL6n7!\n",
      "✅ updated uid from oVpYrbDghZuTXTs2asev to iTdQLpLfAhvqOsNIpr4A!\n",
      "✅ updated uid from 6JrvWiJt8c7DVrZOOtpM to M84z8Rh7Z2obJbvBlHo1!\n",
      "✅ updated uid from 3b0pMqkpbCGkOKJEOp0v to RoCAhVTi0ao0p5yXmoA6!\n",
      "✅ updated uid from IuAVLIuHvsWds3mI6CqJ to wHFESrWvDls8N3ywjqkN!\n",
      "✅ updated uid from CRqaZxz7P94dVrpJVrcJ to hhzgrH6ZdsP54F29RPP0!\n",
      "✅ updated uid from dZmSd3DQ6EjJFVRv6Kgz to KPB4Hic8RZym5HaAbpyZ!\n",
      "✅ updated uid from AdFZTnmod3UCe00FEfwz to v7RKtneHPCkCVyU1dXoz!\n",
      "✅ updated uid from mfDciDOR7XS1d7NneuuJ to XOl1N7D7hXW6n9EsW7x3!\n",
      "✅ updated uid from xaL1hQb366nEYJHWEGmU to 6tT3kRYI2c6slEpvwfRX!\n",
      "✅ updated uid from dwestwYMl0YDb67PTqAQ to 3eYxM8IjTZVOrbvXPIJ3!\n",
      "✅ updated uid from GGk25Hi2QZDRZw555ZQ5 to SuNR9dTsshWd6MYN2IL8!\n",
      "✅ updated uid from IBd2D7PFaFz8ePVxcdvD to BrNY23NpauL2lyDtiRkn!\n",
      "✅ updated uid from KVV5AsraS8hzxP4YxT0i to iFVFKj9fKdUH7pY1zMro!\n",
      "✅ updated uid from ByhRTjMcDGgCJtRI1fgU to 9yfmjrGcMNMd37ogpxmj!\n",
      "✅ updated uid from 9lJt2hyfKNb13j7p0cHG to qLRcbwF6CgxlklqqTRFr!\n",
      "✅ updated uid from fgRC3e9PBCkE9OPA9DKo to 0dOlh07SLGzVeaRMvSGQ!\n",
      "✅ updated uid from nS6L2cXlV8EAaQFHxkES to 94eNDctVYvr7mrdpMclC!\n",
      "✅ updated uid from ZsMO69tiAzlQIHlttsIt to I5MMFFAGoWtSa43bentd!\n",
      "✅ updated uid from zhVDwLrapwteXdDmRxvF to AK50xC5oXngFz72HVjHR!\n",
      "✅ updated uid from aLxcqV3jSL1xeG1JVY9C to sOamqZMlsMfKH5SWj4nK!\n",
      "✅ updated uid from bPbQoidniedqCIYDSRBz to JAK8eDp8BmHPjKfTZhME!\n",
      "✅ updated uid from HCtKNYT75uP3dbn0SSzA to GvLlD9JDDqWjPkvERqDR!\n",
      "✅ updated uid from 1xHpCX5MktkIjO7GEdRy to hdE4OJYcxWgmKoUcR6SL!\n",
      "✅ updated uid from 1rSJxJHs5J0KgqwEJfQ3 to olY10cghAPIz2oGrIWMq!\n",
      "✅ updated uid from aYxxVzPMs1QZmQCFbqRH to 4EiiJgcIrR3QLRnU7GC2!\n",
      "✅ updated uid from FtLRAy0HoCE47NRaJzzi to YVo6IaHRKZfDxJLMfiP8!\n",
      "✅ updated uid from aTVmsocXMwV5DGaharIr to 5jphRyjMm0wYpMaUnUTx!\n",
      "✅ updated uid from MeiGlQLdi06QFgsNHG4I to vfxWN9BEYFDb5kY8N1Vg!\n",
      "✅ updated uid from 9XB47ouBfu5FowLT5U6h to tZYmzwfh0bIYzKBQVuro!\n",
      "✅ updated uid from 9yNQuuDASOqEgwmq6LTp to Yed6da6CsPXaGmLQDGmn!\n",
      "✅ updated uid from CDojmX5aCcDldiDXhG6Z to EMBNZeigssidDwb4eCs4!\n",
      "✅ updated uid from i2FQEG8pMK9PnQEvcbb3 to vGq7f3WWgBMgCRXmmmR9!\n",
      "✅ updated uid from iZeVehqLA78Fs3FlcWXh to vUL4bLnfnvI2hRpBSfK5!\n",
      "✅ updated uid from eB6pmrbx3OJzqan1k5E1 to y6XaxhXv4BVcOAo9U4cz!\n",
      "✅ updated uid from Vhc1AWUEywCpdGUM5SWo to EMmA6XE0t183Gsba3J5X!\n",
      "✅ updated uid from kkK1dAv4oj6giIa87hrd to VVsweEynenmLLY85PaXn!\n",
      "✅ updated uid from 1F0kNiufsSrYHxOoJOES to RnmHQkzC78TivXFy5ycL!\n",
      "✅ updated uid from m6c0OFUxpwhMNMzsmfOt to VP3ieyEFOixwhsBYECKC!\n",
      "✅ updated uid from W5LDazc1PzFDdw4WFkDw to KKCcdJaQH9D8AK5NCBuH!\n",
      "✅ updated uid from Y2SPuctTfg7jB5W5jn8X to q7dJs4VrNoEGx8rK1OSD!\n",
      "✅ updated uid from 7vISuZIqLCwrmROJoIoE to idf1gv334K5FkrHFNI5h!\n",
      "✅ updated uid from VOJOMDScWgsXU4vStY9Y to lVPsdIh56TVNlEx2WF4d!\n",
      "✅ updated uid from 2aFuVGM2z1KkyFlvH7qz to 1XNsbOgjaUKIh64FJXDs!\n",
      "✅ updated uid from 1LVsLdFsY5ThNtn2om4m to BROXfXCEj7e1V4gw2NKZ!\n",
      "✅ updated uid from qLenHC8lY5CP1imzGu5T to oCCJTIIDT9HQd3LNOOVp!\n",
      "✅ updated uid from qAF5K3bMy9M0q4xlL9Xh to 1ufVK1EvG99Fgq7mYN6r!\n",
      "✅ updated uid from tmo3R1Qml3o4dINw1YQZ to IOkwvXcfL2hyt8R9EQjR!\n",
      "✅ updated uid from RPyFAi5ybA35BENTE7kb to I78OxPCebBfC0xIgbeTX!\n",
      "✅ updated uid from 5GoCoZPDgaEmEAfCQIxB to 1bXqTYYBWc7cqqMgfr0f!\n",
      "✅ updated uid from nVSPgJbJ6tNwDa37cR9U to ZzUntpjOt8v7AwqdkRP0!\n",
      "✅ updated uid from gkq1Sl3WhRD96SBH9kLb to D1iu1zmxG7KgjVx8ZVPV!\n",
      "✅ updated uid from 62P2AbbaPyfse4A4ENdI to HFLbbT3k1JxVUgKpJDHH!\n",
      "✅ updated uid from HGLY9RwvLcp8z4PvGpb9 to d6gWiRY3XXy8qj0VZ6ux!\n",
      "✅ updated uid from sbbX3UXhCKxhoiDMuXVw to HfPCzJuNYrI9QfV5rzZx!\n",
      "✅ updated uid from Gc8I13MrBIMYoWQYpQVl to rbcRjHfXE0LKIvZcjZro!\n",
      "✅ updated uid from 1sySaUsCn0g2LJ8PAGSr to 4CmbJrpoAWg19fjEiI0l!\n",
      "✅ updated uid from mggs0QTtLW13NBJg007H to rajIlBML7BvEzz3yUvhv!\n",
      "✅ updated uid from 3sk4tR2jqpdRzvN7qKhL to zZLyhpo1aDdxdbULFbVT!\n",
      "✅ updated uid from BgYMd7y4VfrDTmZG3Oh1 to 4mzgY3wTBZ9wMhVzlZLT!\n",
      "✅ updated uid from WU2Iumu24KA4apXo8Itd to PWDH0VJMkhsYyHwgIhN9!\n",
      "✅ updated uid from xuLeoFok7WH7p5fu9WcZ to wNOorBV9YnTaI9qQa7Qr!\n",
      "✅ updated uid from zJDCZ4RIepbJsQekTqiQ to veK7yRfThpdptF4vRiGg!\n",
      "✅ updated uid from OI9yPyz0FOq4Kf2w3Nwg to iXkgtvx2L7ZxZDX6wZFH!\n",
      "✅ updated uid from ZLrYeEchDM49i9dtyBPW to 9LsQD4Qbh1dKq5Sj6FrC!\n",
      "✅ updated uid from ul7bdBYoqhvYKvfiZKOg to vjsPjCXG7X9LPU8vWkhP!\n",
      "✅ updated uid from Plvn6tiNOEV0gQ8XdemG to IzQdA3dJgMqv60GapqOC!\n",
      "✅ updated uid from oMZSCnvB3ItQV17wDNzT to kDJ9Xb8d11d93LAHMJpf!\n",
      "✅ updated uid from Jp1XooGrkZqdufGWQz70 to nVY0j9lZNdNL61EdyDq7!\n",
      "✅ updated uid from 2kf7upUHLHmAYTILZuBk to OImDNzgLRxoYfFT8Y76V!\n",
      "✅ updated uid from 3tsT59OPeJi8iUXDfXOh to 2yoIZbpp2mq2oqMNf3VO!\n",
      "✅ updated uid from EjRsiCRs0StjF71Vj8mG to n2lVzwwawVqsJ5u5qBZq!\n",
      "✅ updated uid from QbVpgUll2BMiDosd4rTv to 28dvpXZpoi1qD8LnAlb3!\n",
      "✅ updated uid from 4jSg60cQmqFddeEsPIl0 to 2gBKIwx8AtCHc4nfcQqc!\n",
      "✅ updated uid from 2ZS8rF54RWLGg8lEKapD to kzeNot0sAt848R4qSEKs!\n",
      "✅ updated uid from 6WJpX3Dg8f7xdPveLduz to gHBNw253Sj64W4wBFZkE!\n",
      "✅ updated uid from yx5x6dJEFOFkJ3KAY2cy to 1wS0REe0cAfduc8tWxML!\n",
      "✅ updated uid from IuhSKlDmvbkQl9rDDq2g to Q1wNvCwqAOnrtKTbzbqR!\n",
      "✅ updated uid from rBemmcHX2bh33bJcOKWE to 1IrEYjM56rE7SEltiWNe!\n",
      "✅ updated uid from zkEKDZdk6J0BQS7BaQaE to 4o637zldLBYp12h3gT6Z!\n",
      "✅ updated uid from LZXiD45T2YUfaYDYNOlD to ocJEJ2xS6KZH95ngzvTq!\n",
      "✅ updated uid from tG85g4DZPAtHH1zru6Fz to KB2Fpjcokbm2UBLNFYjW!\n",
      "✅ updated uid from 1tVMkWeDbAnqXy0EdTqd to 60hcu8l3K5HpiZVwYVCf!\n",
      "✅ updated uid from 0WNbjUmxmJSuZRTMT4JQ to xAdBoFC2SWW8a0weqh1N!\n",
      "✅ updated uid from f8Nuvt2x6W4mmSXHskXN to q1YP6rAY7SSrZ1Tkx4Up!\n",
      "✅ updated uid from P2ehV04thYY2dO2nhoo0 to 7xatbabJNWdh0uMwoAZl!\n",
      "✅ updated uid from KkcbpjKTWTkFpGc1c27S to oHwAz0bRdryXX6EhDN1g!\n",
      "✅ updated uid from Z8msUCmKnOQrG9z6XATm to vOt1sh7kQCO5CzRy39Mb!\n",
      "✅ updated uid from mS1Jk5zzeVCYvMINkX5T to 1879QoxBW96febHBb94x!\n",
      "✅ updated uid from l84UtdnAxR5nJFty4zzC to urOgy3d2zakh9vP6WgL5!\n",
      "✅ updated uid from 4k67yPWTPOSDoGzo9ICW to WDwVnJuArH1QWR2QQPBE!\n",
      "✅ updated uid from EhbtDL5CujLBfqHz8hg9 to CrY3Fw6G29qJSenUy1Ox!\n",
      "✅ updated uid from r8tKNYjbSqccW9AfQJF6 to jV7cCEQfgHGNhtVFMpyX!\n",
      "✅ updated uid from qbpbPs3ViBs9dzZbgDL0 to 8Rn5Tl3rykhNieH79Jhx!\n",
      "✅ updated uid from ecZQ9Vu0G2tezhFy1Oqb to TWZevdipvmWsuEiF84mT!\n",
      "✅ updated uid from kCPyvj5CUH7dO8JIxaqY to qtjPc1TBPcgWNCJyoFVs!\n",
      "✅ updated uid from mgqofErhBPosFQcFWLbq to kqiPjpzpK9H9rdtnCt1o!\n",
      "✅ updated uid from 6JFO9QuvIoKWqIP8A5li to ke6FOitDtvoq8XONEyiY!\n",
      "✅ updated uid from FarkrFdYaoXjMfUQRM89 to bOAWmbIN8bdXZh5F8dkx!\n",
      "✅ updated uid from Rg8iSXOAnmCJDKEUEEPW to gEX3na35hQk5ZOGBAACd!\n",
      "✅ updated uid from MKSG0pvHfXgk6c3VPODx to Oukj3dkWzNST4iiVAQe9!\n",
      "✅ updated uid from UBBA9zQC8HLYgmRYRcly to FZ2NjVzMuGVxom1ZSPxp!\n",
      "✅ updated uid from pufGlDRhKu3eBsD3YKe9 to tCaHB7zSD8S6MAhFifKl!\n",
      "✅ updated uid from MQUKS7C6v7rmTqKH8GKl to mDcZsWmaZqRBtJgkhF0o!\n",
      "✅ updated uid from iNf776ZxGeGgRHyarpS1 to sXNKPODk8bbXZdSnqEXf!\n",
      "✅ updated uid from 8OpWtQlec9HvbGH767l9 to quQDnLsMLkP3JRsC8gp4!\n",
      "✅ updated uid from 53Y1VIsfXPDqbOV4pk3g to 1qo3tBI7la7JNT7c8o9i!\n",
      "✅ updated uid from aZFKWnJex3ydKdveVDc9 to sK6CMdZCjNaMJdeuKU0L!\n",
      "✅ updated uid from bHXOYXNDoUvr2oOjhKDn to Yxth0JJgMb2VVOCfSgWj!\n",
      "✅ updated uid from 3SaG35DqczV2BJzQh86a to 9t5Mx1vYSpdrRNg0XXdV!\n",
      "✅ updated uid from zXk2XkZfp2vq4OnU9KL5 to 1bpAt9Hk4djMs3OCiwaS!\n",
      "✅ updated uid from dv6lVJLczlm9VNzKGRIC to FaJmPleTV3HjPBTdezTB!\n",
      "✅ updated uid from M98VUdhFfpMXq7fjpm6j to jS3RYae1gf0fT2B3xrSz!\n",
      "✅ updated uid from utsuNrsRrsh4ydq1sa6u to 2AD1dN2753sXScFNNX2o!\n",
      "✅ updated uid from JV7kCIV6bcKqc31YnS6T to M9ZzRKzzayhdh6ph0IX9!\n",
      "✅ updated uid from OyheAMFiyqRFEs9OQGWn to H6vvljrLTkJ61R4Vy2DV!\n",
      "✅ updated uid from 5GbOXgtnEBQuFu3nU1Ez to W5oiGwA9QAZwjMQKLzWk!\n",
      "✅ updated uid from 0bastS5jEWCcEW27Tdva to w1noEANQfbDv7a0y47pd!\n",
      "✅ updated uid from OHTF76XfoSmgJL6VtpgC to jmk1ayW8PdQaPPHlOkj7!\n",
      "✅ updated uid from QcFTjiftO6TZtOxAnIsH to H5uu4ULRKZVmmTkr3Ml9!\n",
      "✅ updated uid from PIP0Vprz9TDmF0GIKP1o to WpJDkF942c2mHNbJ3En3!\n",
      "✅ updated uid from HS3aaQQ5VpHlM0G8tJrn to 6sOT5dCCyQAAX5bTwzhT!\n",
      "✅ updated uid from ktFRARpMxhfUQ7WgUYzL to yql5LxVFGGa5LiIEOnE9!\n",
      "✅ updated uid from wXAkwBDVpCakaTBOhEfJ to 57MCDAB1w3eK7I5QOFpw!\n",
      "✅ updated uid from S6FiZ6QjnTz8bszp6b3v to f8IWHzCeBxqmQA9opHqq!\n",
      "✅ updated uid from IBMXS5y5PYldz6bBguZQ to xz9kRdjXkrgxSTjOBSbu!\n",
      "✅ updated uid from 0Cic5XIHAILcZfoeXsCy to oyTLFK0Zl0alAmITAKYO!\n",
      "✅ updated uid from HhSnxxJwvvSY7OytLt3g to NoRCcrtIjLnLdEjizoaM!\n",
      "✅ updated uid from YQqBxjrX350MEjzfSZ9L to VnqB6Y76ePP6wuaFzNyR!\n"
     ]
    }
   ],
   "source": [
    "for collection in collections:\n",
    "    collection_previous = collections_previous.filter(\n",
    "        reference=collection.reference\n",
    "    ).one_or_none()\n",
    "    if collection_previous is not None:\n",
    "        collection.add_to_version_family(collection_previous, version=census_version)"
   ]
  },
  {
   "cell_type": "markdown",
   "id": "2b20b41f-aa18-4db6-8a19-7d0c60d43a23",
   "metadata": {},
   "source": [
    "## Link metadata to collection"
   ]
  },
  {
   "cell_type": "code",
   "execution_count": 34,
   "id": "7ace2a15-f081-4ba8-8af9-7ba4e1d23933",
   "metadata": {
    "tags": []
   },
   "outputs": [
    {
     "data": {
      "text/plain": [
       "Collection(uid='dMyEX3NTfKOEYXyMKDD7', version='2024-07-01', name='cellxgene-census', hash='nI8Ag-HANeOpZOz-8CSn', visibility=1, created_by_id=1, transform_id=22, run_id=27, updated_at='2024-07-16 12:24:38 UTC')"
      ]
     },
     "execution_count": 34,
     "metadata": {},
     "output_type": "execute_result"
    }
   ],
   "source": [
    "collection = ln.Collection.filter(name=\"cellxgene-census\", version=census_version).one()\n",
    "collection"
   ]
  },
  {
   "cell_type": "markdown",
   "id": "86aacbcd-0136-4790-991a-4f42aa42b0d4",
   "metadata": {},
   "source": [
    "feature sets:"
   ]
  },
  {
   "cell_type": "code",
   "execution_count": 35,
   "id": "73598a4d-2a27-4bd8-b903-22258a10a21a",
   "metadata": {
    "tags": []
   },
   "outputs": [
    {
     "name": "stdout",
     "output_type": "stream",
     "text": [
      "\u001b[1;92mCollection\u001b[0m(uid='dMyEX3NTfKOEYXyMKDD7', version='2024-07-01', name='cellxgene-census', hash='nI8Ag-HANeOpZOz-8CSn', visibility=1, updated_at='2024-07-16 12:24:38 UTC')\n",
      "  \u001b[3mProvenance\u001b[0m\n",
      "    .created_by = 'sunnyosun'\n",
      "    .transform = 'Census release 2024-07-01 (LTS)'\n",
      "    .run = '2024-07-12 12:17:31 UTC'\n",
      "  \u001b[3mFeature sets\u001b[0m\n",
      "    'obs' = 'assay', 'cell_type', 'development_stage', 'disease', 'donor_id', 'self_reported_ethnicity', 'sex', 'tissue', 'organism', 'tissue_type', 'suspension_type'\n",
      "    'var' = 'DDX11L1', 'WASH7P', 'MIR6859-1', 'MIR1302-2HG', 'MIR1302-2', 'FAM138A', 'OR4G4P', 'OR4G11P', 'OR4F5', 'None', 'CICP27', 'RNU6-1100P', 'DDX11L17', 'WASH9P'\n",
      "\n"
     ]
    }
   ],
   "source": [
    "collection.describe()"
   ]
  },
  {
   "cell_type": "markdown",
   "id": "add3c7b3",
   "metadata": {},
   "source": [
    "## Register the soma store"
   ]
  },
  {
   "cell_type": "code",
   "execution_count": 7,
   "id": "e7345435",
   "metadata": {},
   "outputs": [
    {
     "name": "stdout",
     "output_type": "stream",
     "text": [
      "14 sub-directories & 6 files with suffixes '', '.tdb'\n",
      "s3://cellxgene-data-public/cell-census/2024-07-01/soma\n",
      "├── __tiledb_group.tdb\n",
      "├── __group/\n",
      "│   └── __1716234740654_1716234740654_d973bcf54a2242b78bf352eaed600c4a_2\n",
      "├── __meta/\n",
      "│   ├── __1716234740654_1716234740654_421b60d8e8ca434a9a3685ac90643161\n",
      "│   └── __1716234740654_1716234740654_42cb2a544da846dfbe555399fa25c462\n",
      "├── census_data/\n",
      "│   ├── __tiledb_group.tdb\n",
      "│   ├── __group/\n",
      "│   ├── __meta/\n",
      "│   ├── homo_sapiens/\n",
      "│   └── mus_musculus/\n",
      "└── census_info/\n",
      "    ├── __tiledb_group.tdb\n",
      "    ├── __group/\n",
      "    ├── __meta/\n",
      "    ├── datasets/\n",
      "    ├── organisms/\n",
      "    ├── summary/\n",
      "    └── summary_cell_counts/\n"
     ]
    }
   ],
   "source": [
    "soma_path = f\"s3://cellxgene-data-public/cell-census/{census_version}/soma\"\n",
    "ln.UPath(soma_path).view_tree()"
   ]
  },
  {
   "cell_type": "code",
   "execution_count": 9,
   "id": "f944ef6c",
   "metadata": {},
   "outputs": [
    {
     "name": "stdout",
     "output_type": "stream",
     "text": [
      "💡 path in storage 's3://cellxgene-data-public' with key 'cell-census/2024-07-01/soma'\n"
     ]
    },
    {
     "data": {
      "text/plain": [
       "Artifact(uid='TwIR80MO51oM3CCuFail', description='Census 2024-07-01', key='cell-census/2024-07-01/soma', suffix='', type='dataset', size=870700998221, hash='bzrXBPNvitSVKvb3GG38_w', hash_type='md5-d', n_objects=330, visibility=1, key_is_virtual=False, created_by_id=1, storage_id=2, transform_id=22, run_id=27, updated_at='2024-07-16 12:52:01 UTC')"
      ]
     },
     "execution_count": 9,
     "metadata": {},
     "output_type": "execute_result"
    }
   ],
   "source": [
    "soma_artifact = ln.Artifact(soma_path, description=f\"Census {census_version}\").save()\n",
    "soma_artifact"
   ]
  },
  {
   "cell_type": "code",
   "execution_count": 10,
   "id": "4d00afd0",
   "metadata": {},
   "outputs": [
    {
     "name": "stdout",
     "output_type": "stream",
     "text": [
      "❗ cells [(13, 8), (14, 12), (13, 16), (17, 19), (20, 23), (23, 28), (28, 9), (11, None), (None, 16), (16, 18), (18, 23), (23, 25), (25, 27), (27, 29), (32, 34), (35, 7), (7, 9)] were not run consecutively\n",
      "💡 go to: https://lamin.ai/laminlabs/cellxgene/transform/MIbO3QeJERcy5zKv\n",
      "💡 if you want to update your notebook without re-running it, use `lamin save notebook.ipynb`\n"
     ]
    }
   ],
   "source": [
    "ln.finish()"
   ]
  }
 ],
 "metadata": {
  "availableInstances": [
   {
    "_defaultOrder": 0,
    "_isFastLaunch": true,
    "category": "General purpose",
    "gpuNum": 0,
    "hideHardwareSpecs": false,
    "memoryGiB": 4,
    "name": "ml.t3.medium",
    "vcpuNum": 2
   },
   {
    "_defaultOrder": 1,
    "_isFastLaunch": false,
    "category": "General purpose",
    "gpuNum": 0,
    "hideHardwareSpecs": false,
    "memoryGiB": 8,
    "name": "ml.t3.large",
    "vcpuNum": 2
   },
   {
    "_defaultOrder": 2,
    "_isFastLaunch": false,
    "category": "General purpose",
    "gpuNum": 0,
    "hideHardwareSpecs": false,
    "memoryGiB": 16,
    "name": "ml.t3.xlarge",
    "vcpuNum": 4
   },
   {
    "_defaultOrder": 3,
    "_isFastLaunch": false,
    "category": "General purpose",
    "gpuNum": 0,
    "hideHardwareSpecs": false,
    "memoryGiB": 32,
    "name": "ml.t3.2xlarge",
    "vcpuNum": 8
   },
   {
    "_defaultOrder": 4,
    "_isFastLaunch": true,
    "category": "General purpose",
    "gpuNum": 0,
    "hideHardwareSpecs": false,
    "memoryGiB": 8,
    "name": "ml.m5.large",
    "vcpuNum": 2
   },
   {
    "_defaultOrder": 5,
    "_isFastLaunch": false,
    "category": "General purpose",
    "gpuNum": 0,
    "hideHardwareSpecs": false,
    "memoryGiB": 16,
    "name": "ml.m5.xlarge",
    "vcpuNum": 4
   },
   {
    "_defaultOrder": 6,
    "_isFastLaunch": false,
    "category": "General purpose",
    "gpuNum": 0,
    "hideHardwareSpecs": false,
    "memoryGiB": 32,
    "name": "ml.m5.2xlarge",
    "vcpuNum": 8
   },
   {
    "_defaultOrder": 7,
    "_isFastLaunch": false,
    "category": "General purpose",
    "gpuNum": 0,
    "hideHardwareSpecs": false,
    "memoryGiB": 64,
    "name": "ml.m5.4xlarge",
    "vcpuNum": 16
   },
   {
    "_defaultOrder": 8,
    "_isFastLaunch": false,
    "category": "General purpose",
    "gpuNum": 0,
    "hideHardwareSpecs": false,
    "memoryGiB": 128,
    "name": "ml.m5.8xlarge",
    "vcpuNum": 32
   },
   {
    "_defaultOrder": 9,
    "_isFastLaunch": false,
    "category": "General purpose",
    "gpuNum": 0,
    "hideHardwareSpecs": false,
    "memoryGiB": 192,
    "name": "ml.m5.12xlarge",
    "vcpuNum": 48
   },
   {
    "_defaultOrder": 10,
    "_isFastLaunch": false,
    "category": "General purpose",
    "gpuNum": 0,
    "hideHardwareSpecs": false,
    "memoryGiB": 256,
    "name": "ml.m5.16xlarge",
    "vcpuNum": 64
   },
   {
    "_defaultOrder": 11,
    "_isFastLaunch": false,
    "category": "General purpose",
    "gpuNum": 0,
    "hideHardwareSpecs": false,
    "memoryGiB": 384,
    "name": "ml.m5.24xlarge",
    "vcpuNum": 96
   },
   {
    "_defaultOrder": 12,
    "_isFastLaunch": false,
    "category": "General purpose",
    "gpuNum": 0,
    "hideHardwareSpecs": false,
    "memoryGiB": 8,
    "name": "ml.m5d.large",
    "vcpuNum": 2
   },
   {
    "_defaultOrder": 13,
    "_isFastLaunch": false,
    "category": "General purpose",
    "gpuNum": 0,
    "hideHardwareSpecs": false,
    "memoryGiB": 16,
    "name": "ml.m5d.xlarge",
    "vcpuNum": 4
   },
   {
    "_defaultOrder": 14,
    "_isFastLaunch": false,
    "category": "General purpose",
    "gpuNum": 0,
    "hideHardwareSpecs": false,
    "memoryGiB": 32,
    "name": "ml.m5d.2xlarge",
    "vcpuNum": 8
   },
   {
    "_defaultOrder": 15,
    "_isFastLaunch": false,
    "category": "General purpose",
    "gpuNum": 0,
    "hideHardwareSpecs": false,
    "memoryGiB": 64,
    "name": "ml.m5d.4xlarge",
    "vcpuNum": 16
   },
   {
    "_defaultOrder": 16,
    "_isFastLaunch": false,
    "category": "General purpose",
    "gpuNum": 0,
    "hideHardwareSpecs": false,
    "memoryGiB": 128,
    "name": "ml.m5d.8xlarge",
    "vcpuNum": 32
   },
   {
    "_defaultOrder": 17,
    "_isFastLaunch": false,
    "category": "General purpose",
    "gpuNum": 0,
    "hideHardwareSpecs": false,
    "memoryGiB": 192,
    "name": "ml.m5d.12xlarge",
    "vcpuNum": 48
   },
   {
    "_defaultOrder": 18,
    "_isFastLaunch": false,
    "category": "General purpose",
    "gpuNum": 0,
    "hideHardwareSpecs": false,
    "memoryGiB": 256,
    "name": "ml.m5d.16xlarge",
    "vcpuNum": 64
   },
   {
    "_defaultOrder": 19,
    "_isFastLaunch": false,
    "category": "General purpose",
    "gpuNum": 0,
    "hideHardwareSpecs": false,
    "memoryGiB": 384,
    "name": "ml.m5d.24xlarge",
    "vcpuNum": 96
   },
   {
    "_defaultOrder": 20,
    "_isFastLaunch": false,
    "category": "General purpose",
    "gpuNum": 0,
    "hideHardwareSpecs": true,
    "memoryGiB": 0,
    "name": "ml.geospatial.interactive",
    "supportedImageNames": [
     "sagemaker-geospatial-v1-0"
    ],
    "vcpuNum": 0
   },
   {
    "_defaultOrder": 21,
    "_isFastLaunch": true,
    "category": "Compute optimized",
    "gpuNum": 0,
    "hideHardwareSpecs": false,
    "memoryGiB": 4,
    "name": "ml.c5.large",
    "vcpuNum": 2
   },
   {
    "_defaultOrder": 22,
    "_isFastLaunch": false,
    "category": "Compute optimized",
    "gpuNum": 0,
    "hideHardwareSpecs": false,
    "memoryGiB": 8,
    "name": "ml.c5.xlarge",
    "vcpuNum": 4
   },
   {
    "_defaultOrder": 23,
    "_isFastLaunch": false,
    "category": "Compute optimized",
    "gpuNum": 0,
    "hideHardwareSpecs": false,
    "memoryGiB": 16,
    "name": "ml.c5.2xlarge",
    "vcpuNum": 8
   },
   {
    "_defaultOrder": 24,
    "_isFastLaunch": false,
    "category": "Compute optimized",
    "gpuNum": 0,
    "hideHardwareSpecs": false,
    "memoryGiB": 32,
    "name": "ml.c5.4xlarge",
    "vcpuNum": 16
   },
   {
    "_defaultOrder": 25,
    "_isFastLaunch": false,
    "category": "Compute optimized",
    "gpuNum": 0,
    "hideHardwareSpecs": false,
    "memoryGiB": 72,
    "name": "ml.c5.9xlarge",
    "vcpuNum": 36
   },
   {
    "_defaultOrder": 26,
    "_isFastLaunch": false,
    "category": "Compute optimized",
    "gpuNum": 0,
    "hideHardwareSpecs": false,
    "memoryGiB": 96,
    "name": "ml.c5.12xlarge",
    "vcpuNum": 48
   },
   {
    "_defaultOrder": 27,
    "_isFastLaunch": false,
    "category": "Compute optimized",
    "gpuNum": 0,
    "hideHardwareSpecs": false,
    "memoryGiB": 144,
    "name": "ml.c5.18xlarge",
    "vcpuNum": 72
   },
   {
    "_defaultOrder": 28,
    "_isFastLaunch": false,
    "category": "Compute optimized",
    "gpuNum": 0,
    "hideHardwareSpecs": false,
    "memoryGiB": 192,
    "name": "ml.c5.24xlarge",
    "vcpuNum": 96
   },
   {
    "_defaultOrder": 29,
    "_isFastLaunch": true,
    "category": "Accelerated computing",
    "gpuNum": 1,
    "hideHardwareSpecs": false,
    "memoryGiB": 16,
    "name": "ml.g4dn.xlarge",
    "vcpuNum": 4
   },
   {
    "_defaultOrder": 30,
    "_isFastLaunch": false,
    "category": "Accelerated computing",
    "gpuNum": 1,
    "hideHardwareSpecs": false,
    "memoryGiB": 32,
    "name": "ml.g4dn.2xlarge",
    "vcpuNum": 8
   },
   {
    "_defaultOrder": 31,
    "_isFastLaunch": false,
    "category": "Accelerated computing",
    "gpuNum": 1,
    "hideHardwareSpecs": false,
    "memoryGiB": 64,
    "name": "ml.g4dn.4xlarge",
    "vcpuNum": 16
   },
   {
    "_defaultOrder": 32,
    "_isFastLaunch": false,
    "category": "Accelerated computing",
    "gpuNum": 1,
    "hideHardwareSpecs": false,
    "memoryGiB": 128,
    "name": "ml.g4dn.8xlarge",
    "vcpuNum": 32
   },
   {
    "_defaultOrder": 33,
    "_isFastLaunch": false,
    "category": "Accelerated computing",
    "gpuNum": 4,
    "hideHardwareSpecs": false,
    "memoryGiB": 192,
    "name": "ml.g4dn.12xlarge",
    "vcpuNum": 48
   },
   {
    "_defaultOrder": 34,
    "_isFastLaunch": false,
    "category": "Accelerated computing",
    "gpuNum": 1,
    "hideHardwareSpecs": false,
    "memoryGiB": 256,
    "name": "ml.g4dn.16xlarge",
    "vcpuNum": 64
   },
   {
    "_defaultOrder": 35,
    "_isFastLaunch": false,
    "category": "Accelerated computing",
    "gpuNum": 1,
    "hideHardwareSpecs": false,
    "memoryGiB": 61,
    "name": "ml.p3.2xlarge",
    "vcpuNum": 8
   },
   {
    "_defaultOrder": 36,
    "_isFastLaunch": false,
    "category": "Accelerated computing",
    "gpuNum": 4,
    "hideHardwareSpecs": false,
    "memoryGiB": 244,
    "name": "ml.p3.8xlarge",
    "vcpuNum": 32
   },
   {
    "_defaultOrder": 37,
    "_isFastLaunch": false,
    "category": "Accelerated computing",
    "gpuNum": 8,
    "hideHardwareSpecs": false,
    "memoryGiB": 488,
    "name": "ml.p3.16xlarge",
    "vcpuNum": 64
   },
   {
    "_defaultOrder": 38,
    "_isFastLaunch": false,
    "category": "Accelerated computing",
    "gpuNum": 8,
    "hideHardwareSpecs": false,
    "memoryGiB": 768,
    "name": "ml.p3dn.24xlarge",
    "vcpuNum": 96
   },
   {
    "_defaultOrder": 39,
    "_isFastLaunch": false,
    "category": "Memory Optimized",
    "gpuNum": 0,
    "hideHardwareSpecs": false,
    "memoryGiB": 16,
    "name": "ml.r5.large",
    "vcpuNum": 2
   },
   {
    "_defaultOrder": 40,
    "_isFastLaunch": false,
    "category": "Memory Optimized",
    "gpuNum": 0,
    "hideHardwareSpecs": false,
    "memoryGiB": 32,
    "name": "ml.r5.xlarge",
    "vcpuNum": 4
   },
   {
    "_defaultOrder": 41,
    "_isFastLaunch": false,
    "category": "Memory Optimized",
    "gpuNum": 0,
    "hideHardwareSpecs": false,
    "memoryGiB": 64,
    "name": "ml.r5.2xlarge",
    "vcpuNum": 8
   },
   {
    "_defaultOrder": 42,
    "_isFastLaunch": false,
    "category": "Memory Optimized",
    "gpuNum": 0,
    "hideHardwareSpecs": false,
    "memoryGiB": 128,
    "name": "ml.r5.4xlarge",
    "vcpuNum": 16
   },
   {
    "_defaultOrder": 43,
    "_isFastLaunch": false,
    "category": "Memory Optimized",
    "gpuNum": 0,
    "hideHardwareSpecs": false,
    "memoryGiB": 256,
    "name": "ml.r5.8xlarge",
    "vcpuNum": 32
   },
   {
    "_defaultOrder": 44,
    "_isFastLaunch": false,
    "category": "Memory Optimized",
    "gpuNum": 0,
    "hideHardwareSpecs": false,
    "memoryGiB": 384,
    "name": "ml.r5.12xlarge",
    "vcpuNum": 48
   },
   {
    "_defaultOrder": 45,
    "_isFastLaunch": false,
    "category": "Memory Optimized",
    "gpuNum": 0,
    "hideHardwareSpecs": false,
    "memoryGiB": 512,
    "name": "ml.r5.16xlarge",
    "vcpuNum": 64
   },
   {
    "_defaultOrder": 46,
    "_isFastLaunch": false,
    "category": "Memory Optimized",
    "gpuNum": 0,
    "hideHardwareSpecs": false,
    "memoryGiB": 768,
    "name": "ml.r5.24xlarge",
    "vcpuNum": 96
   },
   {
    "_defaultOrder": 47,
    "_isFastLaunch": false,
    "category": "Accelerated computing",
    "gpuNum": 1,
    "hideHardwareSpecs": false,
    "memoryGiB": 16,
    "name": "ml.g5.xlarge",
    "vcpuNum": 4
   },
   {
    "_defaultOrder": 48,
    "_isFastLaunch": false,
    "category": "Accelerated computing",
    "gpuNum": 1,
    "hideHardwareSpecs": false,
    "memoryGiB": 32,
    "name": "ml.g5.2xlarge",
    "vcpuNum": 8
   },
   {
    "_defaultOrder": 49,
    "_isFastLaunch": false,
    "category": "Accelerated computing",
    "gpuNum": 1,
    "hideHardwareSpecs": false,
    "memoryGiB": 64,
    "name": "ml.g5.4xlarge",
    "vcpuNum": 16
   },
   {
    "_defaultOrder": 50,
    "_isFastLaunch": false,
    "category": "Accelerated computing",
    "gpuNum": 1,
    "hideHardwareSpecs": false,
    "memoryGiB": 128,
    "name": "ml.g5.8xlarge",
    "vcpuNum": 32
   },
   {
    "_defaultOrder": 51,
    "_isFastLaunch": false,
    "category": "Accelerated computing",
    "gpuNum": 1,
    "hideHardwareSpecs": false,
    "memoryGiB": 256,
    "name": "ml.g5.16xlarge",
    "vcpuNum": 64
   },
   {
    "_defaultOrder": 52,
    "_isFastLaunch": false,
    "category": "Accelerated computing",
    "gpuNum": 4,
    "hideHardwareSpecs": false,
    "memoryGiB": 192,
    "name": "ml.g5.12xlarge",
    "vcpuNum": 48
   },
   {
    "_defaultOrder": 53,
    "_isFastLaunch": false,
    "category": "Accelerated computing",
    "gpuNum": 4,
    "hideHardwareSpecs": false,
    "memoryGiB": 384,
    "name": "ml.g5.24xlarge",
    "vcpuNum": 96
   },
   {
    "_defaultOrder": 54,
    "_isFastLaunch": false,
    "category": "Accelerated computing",
    "gpuNum": 8,
    "hideHardwareSpecs": false,
    "memoryGiB": 768,
    "name": "ml.g5.48xlarge",
    "vcpuNum": 192
   },
   {
    "_defaultOrder": 55,
    "_isFastLaunch": false,
    "category": "Accelerated computing",
    "gpuNum": 8,
    "hideHardwareSpecs": false,
    "memoryGiB": 1152,
    "name": "ml.p4d.24xlarge",
    "vcpuNum": 96
   },
   {
    "_defaultOrder": 56,
    "_isFastLaunch": false,
    "category": "Accelerated computing",
    "gpuNum": 8,
    "hideHardwareSpecs": false,
    "memoryGiB": 1152,
    "name": "ml.p4de.24xlarge",
    "vcpuNum": 96
   },
   {
    "_defaultOrder": 57,
    "_isFastLaunch": false,
    "category": "Accelerated computing",
    "gpuNum": 0,
    "hideHardwareSpecs": false,
    "memoryGiB": 32,
    "name": "ml.trn1.2xlarge",
    "vcpuNum": 8
   },
   {
    "_defaultOrder": 58,
    "_isFastLaunch": false,
    "category": "Accelerated computing",
    "gpuNum": 0,
    "hideHardwareSpecs": false,
    "memoryGiB": 512,
    "name": "ml.trn1.32xlarge",
    "vcpuNum": 128
   },
   {
    "_defaultOrder": 59,
    "_isFastLaunch": false,
    "category": "Accelerated computing",
    "gpuNum": 0,
    "hideHardwareSpecs": false,
    "memoryGiB": 512,
    "name": "ml.trn1n.32xlarge",
    "vcpuNum": 128
   }
  ],
  "instance_type": "ml.t3.medium",
  "kernelspec": {
   "display_name": "lamindb",
   "language": "python",
   "name": "python3"
  },
  "language_info": {
   "codemirror_mode": {
    "name": "ipython",
    "version": 3
   },
   "file_extension": ".py",
   "mimetype": "text/x-python",
   "name": "python",
   "nbconvert_exporter": "python",
   "pygments_lexer": "ipython3",
   "version": "3.12.8"
  },
  "nbproject": {
   "id": "G69jtgzKO0eJ",
   "parent": null,
   "pypackage": null,
   "time_init": "2024-01-11T09:33:10.726436+00:00",
   "user_handle": null,
   "user_id": null,
   "user_name": null,
   "version": "1"
  }
 },
 "nbformat": 4,
 "nbformat_minor": 5
}
