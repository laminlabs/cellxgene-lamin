{
 "cells": [
  {
   "cell_type": "markdown",
   "metadata": {},
   "source": [
    "# Register files from Census release 2023-12-06"
   ]
  },
  {
   "cell_type": "code",
   "execution_count": 1,
   "metadata": {
    "tags": []
   },
   "outputs": [
    {
     "name": "stderr",
     "output_type": "stream",
     "text": [
      "2023-12-13 12:03:04,521:INFO - NumExpr defaulting to 2 threads.\n"
     ]
    },
    {
     "name": "stdout",
     "output_type": "stream",
     "text": [
      "💡 lamindb instance: laminlabs/cellxgene-latest\n"
     ]
    }
   ],
   "source": [
    "import lamindb as ln\n",
    "import lnschema_bionty as lb\n",
    "import pandas as pd"
   ]
  },
  {
   "cell_type": "code",
   "execution_count": 2,
   "metadata": {
    "tags": []
   },
   "outputs": [],
   "source": [
    "census_version = \"2023-12-06\""
   ]
  },
  {
   "cell_type": "code",
   "execution_count": 3,
   "metadata": {
    "tags": []
   },
   "outputs": [
    {
     "name": "stdout",
     "output_type": "stream",
     "text": [
      "h5ads (0 sub-directories & 1139 files with suffixes '.h5ad'): \n",
      "├── 00099d5e-154f-4a7a-aa8d-fa30c8c0c43c.h5ad\n",
      "├── 0041b9c3-6a49-4bf7-8514-9bc7190067a7.h5ad\n",
      "├── 00476f9f-ebc1-4b72-b541-32f912ce36ea.h5ad\n",
      "├── 00e5dedd-b9b7-43be-8c28-b0e5c6414a62.h5ad\n",
      "├── 00ff600e-6e2e-4d76-846f-0eec4f0ae417.h5ad\n",
      "├── 01209dce-3575-4bed-b1df-129f57fbc031.h5ad\n",
      "...\n"
     ]
    }
   ],
   "source": [
    "s3path = f\"s3://cellxgene-data-public/cell-census/{census_version}/h5ads\"\n",
    "ln.UPath(s3path).view_tree()"
   ]
  },
  {
   "cell_type": "code",
   "execution_count": 4,
   "metadata": {
    "tags": []
   },
   "outputs": [
    {
     "name": "stdout",
     "output_type": "stream",
     "text": [
      "💡 notebook imports: lamindb==0.64.0 lnschema_bionty==0.36.1 pandas==1.4.4 requests==2.31.0\n",
      "💡 loaded: Transform(uid='4hbVFAINneXCz8', name='Register files from Census release 2023-12-06', short_name='census-release-2023-12-06', version='0', type='notebook', updated_at=2023-12-11 15:39:44 UTC, created_by_id=2)\n",
      "💡 loaded: Run(uid='yq2FEOYiiNwTV6HJRReE', run_at=2023-12-13 12:03:11 UTC, transform_id=1, created_by_id=2)\n"
     ]
    }
   ],
   "source": [
    "ln.context.track()"
   ]
  },
  {
   "cell_type": "markdown",
   "metadata": {},
   "source": [
    "## Register artifacts (files)"
   ]
  },
  {
   "cell_type": "code",
   "execution_count": 5,
   "metadata": {},
   "outputs": [],
   "source": [
    "artifacts = ln.Artifact.from_dir(s3path)\n",
    "ln.save(artifacts)"
   ]
  },
  {
   "cell_type": "code",
   "execution_count": 6,
   "metadata": {},
   "outputs": [],
   "source": [
    "dataset = ln.Dataset(artifacts, name=\"cellxgene-census\", version=census_version)\n",
    "dataset.save()"
   ]
  },
  {
   "cell_type": "markdown",
   "metadata": {
    "tags": []
   },
   "source": [
    "## Register metadata"
   ]
  },
  {
   "cell_type": "markdown",
   "metadata": {},
   "source": [
    "Get all datasets and associated metadata using cellxgene REST API:"
   ]
  },
  {
   "cell_type": "code",
   "execution_count": 5,
   "metadata": {
    "tags": []
   },
   "outputs": [],
   "source": [
    "import requests\n",
    "\n",
    "\n",
    "def get_datasets_df_from_cxg():\n",
    "    api_url_base = \"https://api.cellxgene.cziscience.com\"\n",
    "    datasets_path = \"/curation/v1/datasets\"\n",
    "    datasets_url = f\"{api_url_base}{datasets_path}\"\n",
    "    headers = {\"Content-Type\": \"application/json\"}\n",
    "    res = requests.get(url=datasets_url, headers=headers)\n",
    "    res.raise_for_status()\n",
    "    res_content = res.json()\n",
    "    return res_content"
   ]
  },
  {
   "cell_type": "code",
   "execution_count": 6,
   "metadata": {
    "tags": []
   },
   "outputs": [
    {
     "data": {
      "text/plain": [
       "1152"
      ]
     },
     "execution_count": 6,
     "metadata": {},
     "output_type": "execute_result"
    }
   ],
   "source": [
    "cellxgene_meta = get_datasets_df_from_cxg()\n",
    "len(cellxgene_meta)"
   ]
  },
  {
   "cell_type": "code",
   "execution_count": 7,
   "metadata": {},
   "outputs": [
    {
     "data": {
      "text/plain": [
       "dict_keys(['assay', 'assets', 'batch_condition', 'cell_count', 'cell_type', 'citation', 'collection_doi', 'collection_id', 'collection_name', 'collection_version_id', 'dataset_id', 'dataset_version_id', 'development_stage', 'disease', 'donor_id', 'explorer_url', 'is_primary_data', 'mean_genes_per_cell', 'organism', 'primary_cell_count', 'processing_status', 'published_at', 'revised_at', 'schema_version', 'self_reported_ethnicity', 'sex', 'suspension_type', 'tissue', 'title', 'tombstone', 'x_approximate_distribution'])"
      ]
     },
     "execution_count": 7,
     "metadata": {},
     "output_type": "execute_result"
    }
   ],
   "source": [
    "cellxgene_meta[0].keys()"
   ]
  },
  {
   "cell_type": "markdown",
   "metadata": {},
   "source": [
    "### Register new features and parent labels"
   ]
  },
  {
   "cell_type": "code",
   "execution_count": 10,
   "metadata": {},
   "outputs": [],
   "source": [
    "obs_features = {\n",
    "    \"assay\": \"bionty.ExperimentalFactor\",\n",
    "    \"cell_type\": \"bionty.CellType\",\n",
    "    \"development_stage\": \"bionty.DevelopmentalStage\",\n",
    "    \"disease\": \"bionty.Disease\",\n",
    "    \"donor_id\": \"core.ULabel\",\n",
    "    \"self_reported_ethnicity\": \"bionty.Ethnicity\",\n",
    "    \"sex\": \"bionty.Phenotype\",\n",
    "    \"suspension_type\": \"core.ULabel\",\n",
    "    \"tissue\": \"bionty.Tissue\",\n",
    "    \"tissue_type\": \"core.ULabel\",\n",
    "}\n",
    "\n",
    "obs_features_records = []\n",
    "for name, registry in obs_features.items():\n",
    "    record = ln.Feature(name=name, type=\"category\", registries=registry)\n",
    "    obs_features_records.append(record)\n",
    "ln.save(obs_features_records)\n",
    "obs_feature_set = ln.FeatureSet(features=obs_features_records, name=\"obs features\")\n",
    "obs_feature_set.save()\n",
    "obs_feature_set.artifacts.set(artifacts, through_defaults={\"slot\": \"obs\"})"
   ]
  },
  {
   "cell_type": "code",
   "execution_count": 11,
   "metadata": {},
   "outputs": [],
   "source": [
    "ext_features = {\"organism\": \"bionty.Organism\", \"collection\": \"core.ULabel\"}\n",
    "\n",
    "ext_features_records = []\n",
    "for name, registry in ext_features.items():\n",
    "    record = ln.Feature(name=name, type=\"category\", registries=registry)\n",
    "    ext_features_records.append(record)\n",
    "ln.save(ext_features_records)\n",
    "ext_feature_set = ln.FeatureSet(features=ext_features_records, name=\"external features\")\n",
    "ext_feature_set.save()\n",
    "ext_feature_set.artifacts.set(artifacts, through_defaults={\"slot\": \"external\"})"
   ]
  },
  {
   "cell_type": "code",
   "execution_count": 12,
   "metadata": {},
   "outputs": [],
   "source": [
    "ln.ULabel(name=\"is_collection\", description=\"parents of collections\").save()\n",
    "ln.ULabel(name=\"is_donor\", description=\"parents of donors\").save()\n",
    "ln.ULabel(name=\"is_suspension_type\", description=\"parents of suspension types\").save()\n",
    "ln.ULabel(name=\"is_tissue_type\", description=\"parents of tissue types\").save()"
   ]
  },
  {
   "cell_type": "code",
   "execution_count": 8,
   "metadata": {
    "tags": []
   },
   "outputs": [],
   "source": [
    "features = ln.Feature.lookup()\n",
    "artifacts = ln.File.filter(key__contains=census_version).all()"
   ]
  },
  {
   "cell_type": "markdown",
   "metadata": {},
   "source": [
    "## collections, organisms"
   ]
  },
  {
   "cell_type": "code",
   "execution_count": 12,
   "metadata": {},
   "outputs": [],
   "source": [
    "# register all collections\n",
    "is_collection = ln.ULabel.filter(name=\"is_collection\").one()\n",
    "collections_meta = set()\n",
    "for dataset_meta in cellxgene_meta:\n",
    "    collections_meta.add(\n",
    "        (\n",
    "            dataset_meta[\"collection_name\"],\n",
    "            dataset_meta[\"collection_doi\"],\n",
    "            dataset_meta[\"collection_id\"],\n",
    "        )\n",
    "    )\n",
    "\n",
    "collections_records = []\n",
    "for collection_name, collection_doi, collection_id in collections_meta:\n",
    "    collection = ln.ULabel(\n",
    "        name=collection_name,\n",
    "        description=collection_doi,\n",
    "        reference=collection_id,\n",
    "        reference_type=\"collection_id\",\n",
    "    )\n",
    "    collections_records.append(collection)\n",
    "ln.save(collections_records)\n",
    "is_collection.children.add(*collections_records)"
   ]
  },
  {
   "cell_type": "code",
   "execution_count": 9,
   "metadata": {},
   "outputs": [],
   "source": [
    "# register all organisms\n",
    "ncbitaxon_source = lb.BiontySource.filter(source=\"ncbitaxon\").one()\n",
    "\n",
    "organisms_meta = set()\n",
    "for dataset_meta in cellxgene_meta:\n",
    "    organisms_meta.update({i[\"ontology_term_id\"] for i in dataset_meta[\"organism\"]})\n",
    "\n",
    "organisms_records = lb.Organism.from_values(\n",
    "    organisms_meta, field=lb.Organism.ontology_id, bionty_source=ncbitaxon_source\n",
    ")\n",
    "# rename house mouse to mouse\n",
    "for r in organisms_records:\n",
    "    if r.name == \"house mouse\":\n",
    "        r.name = \"mouse\"\n",
    "ln.save(organisms_records, parents=False)"
   ]
  },
  {
   "cell_type": "markdown",
   "metadata": {},
   "source": [
    "Link collections and organisms to artifacts:"
   ]
  },
  {
   "cell_type": "code",
   "execution_count": 15,
   "metadata": {},
   "outputs": [],
   "source": [
    "ext_feature_set = ln.FeatureSet.filter(name=\"external features\").one()\n",
    "ext_features = ext_feature_set.members.lookup()\n",
    "collections = is_collection.children.all()\n",
    "organisms = lb.Organism.filter().all()\n",
    "\n",
    "for dataset_meta in cellxgene_meta:\n",
    "    # get registered file record based on dataset_id\n",
    "    file = artifacts.filter(key__contains=dataset_meta[\"dataset_id\"]).one_or_none()\n",
    "    if file is None:\n",
    "        continue\n",
    "\n",
    "    # register collection\n",
    "    collection = ln.ULabel.filter(reference=dataset_meta[\"collection_id\"]).one()\n",
    "    file.labels.add(collection, feature=ext_features.collection)\n",
    "\n",
    "    # register organism\n",
    "    organism_ontology_ids = [i[\"ontology_term_id\"] for i in dataset_meta[\"organism\"]]\n",
    "    organism_records = lb.Organism.filter(ontology_id__in=organism_ontology_ids).list()\n",
    "    file.labels.add(organism_records, feature=ext_features.organism)"
   ]
  },
  {
   "cell_type": "markdown",
   "metadata": {},
   "source": [
    "## ontologies"
   ]
  },
  {
   "cell_type": "markdown",
   "metadata": {},
   "source": [
    "Register all ontology ids:"
   ]
  },
  {
   "cell_type": "code",
   "execution_count": 20,
   "metadata": {
    "tags": []
   },
   "outputs": [],
   "source": [
    "from typing import Optional\n",
    "from lnschema_bionty.models import Registry\n",
    "from lamindb.dev._feature_manager import get_accessor_by_orm\n",
    "\n",
    "obs_feature_set = ln.FeatureSet.filter(name=\"obs features\").one()\n",
    "obs_features_records = obs_feature_set.members.lookup()\n",
    "ACCESSORS = get_accessor_by_orm(ln.File)\n",
    "FEATURE_TO_ACCESSOR = {}\n",
    "for name in obs_features.keys():\n",
    "    feature = getattr(obs_features_records, name)\n",
    "    accessor = ACCESSORS.get(feature.registries)\n",
    "    orm = getattr(ln.File, accessor).field.model\n",
    "    # TODO: ulabels are defined in the File model, improve this in LaminDB\n",
    "    if orm == ln.File:\n",
    "        orm = getattr(ln.File, accessor).field.related_model\n",
    "    FEATURE_TO_ACCESSOR[name] = (accessor, orm)\n",
    "\n",
    "\n",
    "def create_ontology_record_from_source(\n",
    "    ontology_id: str,\n",
    "    from_orm: Registry,\n",
    "    target_orm: Registry,\n",
    "    bionty_source: lb.BiontySource | None = None,\n",
    "):\n",
    "    from_record = from_orm.from_bionty(\n",
    "        ontology_id=ontology_id, bionty_source=bionty_source\n",
    "    )\n",
    "    try:\n",
    "        target_record = target_orm(\n",
    "            name=from_record.name,\n",
    "            description=from_record.description,\n",
    "            ontology_id=from_record.ontology_id,\n",
    "            bionty_source_id=from_record.bionty_source_id,\n",
    "        )\n",
    "        return target_record\n",
    "    except Exception:\n",
    "        pass"
   ]
  },
  {
   "cell_type": "code",
   "execution_count": 22,
   "metadata": {},
   "outputs": [
    {
     "data": {
      "text/plain": [
       "dict_keys(['assay', 'cell_type', 'development_stage', 'disease', 'donor_id', 'self_reported_ethnicity', 'sex', 'suspension_type', 'tissue', 'tissue_type'])"
      ]
     },
     "execution_count": 22,
     "metadata": {},
     "output_type": "execute_result"
    }
   ],
   "source": [
    "obs_features.keys()"
   ]
  },
  {
   "cell_type": "code",
   "execution_count": 21,
   "metadata": {
    "collapsed": true,
    "editable": true,
    "jupyter": {
     "outputs_hidden": true
    },
    "slideshow": {
     "slide_type": ""
    },
    "tags": [
     "hide-output"
    ]
   },
   "outputs": [
    {
     "name": "stdout",
     "output_type": "stream",
     "text": [
      "registering assay\n",
      "❗ now recursing through parents: this only happens once, but is much slower than bulk saving\n",
      "registering cell_type\n",
      "❗ now recursing through parents: this only happens once, but is much slower than bulk saving\n",
      "registering development_stage\n",
      "❗ \u001b[1;91mdid not create\u001b[0m DevelopmentalStage records for \u001b[1;93m57 non-validated\u001b[0m \u001b[3montology_ids\u001b[0m: \u001b[1;93m'MmusDv:0000021', 'MmusDv:0000024', 'MmusDv:0000025', 'MmusDv:0000026', 'MmusDv:0000027', 'MmusDv:0000028', 'MmusDv:0000029', 'MmusDv:0000032', 'MmusDv:0000033', 'MmusDv:0000034', 'MmusDv:0000035', 'MmusDv:0000036', 'MmusDv:0000037', 'MmusDv:0000041', 'MmusDv:0000046', 'MmusDv:0000048', 'MmusDv:0000049', 'MmusDv:0000050', 'MmusDv:0000051', 'MmusDv:0000052', ...\u001b[0m\n",
      "❗ now recursing through parents: this only happens once, but is much slower than bulk saving\n",
      "❗ \u001b[1;91mdid not create\u001b[0m DevelopmentalStage records for \u001b[1;93m6 non-validated\u001b[0m \u001b[3montology_ids\u001b[0m: \u001b[1;93m'UBERON:0000113', 'UBERON:0007220', 'UBERON:0007222', 'UBERON:0018241', 'UBERON:0034919', 'unknown'\u001b[0m\n",
      "registered 57 records: [DevelopmentalStage(uid='oorzGtyN', name='24 weeks', ontology_id='MmusDv:0000074', description='5 Month-Old Stage That Refers To A Mouse Which Is Over 168 Days And Under 176 Days Old.', bionty_source_id=49, created_by_id=2), DevelopmentalStage(uid='fiRoa3XX', name='22 weeks', ontology_id='MmusDv:0000072', description='5 Month-Old Stage That Refers To A Mouse Which Is Over 154 Days And Under 162 Days Old.', bionty_source_id=49, created_by_id=2), DevelopmentalStage(uid='W2bOwIcG', name='18 month-old stage', ontology_id='MmusDv:0000089', description='Aged Adult Stage That Refers To A Mouse Which Is Over 18 And Under 19 Months Old.', bionty_source_id=49, created_by_id=2), DevelopmentalStage(uid='jOuS6eot', name='Theiler stage 24', ontology_id='MmusDv:0000033', synonyms='E16|TS24', description='Fetal Stage During Which The Umbilical Hernia Disappears And There Is A Corresponding Increase In The Size Of The Peritoneal Sac.', bionty_source_id=49, created_by_id=2), DevelopmentalStage(uid='cGDi3WbC', name='8 weeks', ontology_id='MmusDv:0000052', description='2 Month-Old Stage That Refers To A Mouse Which Is Over 56 Days And Under 64 Days Old.', bionty_source_id=49, created_by_id=2), DevelopmentalStage(uid='0QLIsnxe', name='4 month-old stage', ontology_id='MmusDv:0000064', description='Early Adult Stage That Refers To A Mouse Which Is Over 4 And Under 5 Months Old.', bionty_source_id=49, created_by_id=2), DevelopmentalStage(uid='DgGRffIB', name='3 month-old stage', ontology_id='MmusDv:0000063', description='Early Adult Stage That Refers To A Mouse Which Is Over 3 And Under 4 Months Old.', bionty_source_id=49, created_by_id=2), DevelopmentalStage(uid='BHHRJHHR', name='12 weeks', ontology_id='MmusDv:0000056', description='3 Month-Old Stage That Refers To A Mouse Which Is Over 84 Days And Under 92 Days Old.', bionty_source_id=49, created_by_id=2), DevelopmentalStage(uid='b8YHi0Nc', name='11 weeks', ontology_id='MmusDv:0000055', description='2 Month-Old Stage That Refers To A Mouse Which Is Over 77 Days And Under 85 Days Old.', bionty_source_id=49, created_by_id=2), DevelopmentalStage(uid='o9MDgZ6M', name='Theiler stage 19', ontology_id='MmusDv:0000026', synonyms='TS19|E11-12.25', description='Organogenesis Stage During Which The Lens Vesicle Becomes Completely Closed And Detached From The Ectoderm, And Peripheral Margins Of The Eye Become Well Defined.', bionty_source_id=49, created_by_id=2), DevelopmentalStage(uid='IZx9mYT1', name='Theiler stage 21', ontology_id='MmusDv:0000028', synonyms='E12.5-14|TS21', description='Organogenesis Stage During Which The Digit Widths And Locations Can Be Discerned, And The Pinna Rapidly Develops And Forms A Crest At Right Angles To The Head.', bionty_source_id=49, created_by_id=2), DevelopmentalStage(uid='jl2j0dxn', name='6 weeks', ontology_id='MmusDv:0000050', description='Early Stage That Refers To A Mouse Which Is Over 42 Days And Under 50 Days Old.', bionty_source_id=49, created_by_id=2), DevelopmentalStage(uid='Z0CP8fi0', name='4-7 days', ontology_id='MmusDv:0000113', description='Premature Stage That Refers To The Newborn Mouse Which Is Over 4 Days And Under 8 Days Old.', bionty_source_id=49, created_by_id=2), DevelopmentalStage(uid='H0YqN4ng', name='9 weeks', ontology_id='MmusDv:0000053', description='2 Month-Old Stage That Refers To A Mouse Which Is Over 63 Days And Under 71 Days Old.', bionty_source_id=49, created_by_id=2), DevelopmentalStage(uid='tJ45g0Sb', name='unknown', ontology_id='MmusDv:0000041', bionty_source_id=49, created_by_id=2), DevelopmentalStage(uid='giDZt5Yz', name='19 weeks', ontology_id='MmusDv:0000068', description='4 Month-Old Stage That Refers To A Mouse Which Is Over 133 Days And Under 141 Days Old.', bionty_source_id=49, created_by_id=2), DevelopmentalStage(uid='uDB0Ob7B', name='Theiler stage 28', ontology_id='MmusDv:0000037', description='Postnatal Development That Covers The Period After The Ts27 Stage (P0-P3 First Days Of Life) And Continuing To Adulthood. P4 To Adulthood.', bionty_source_id=49, created_by_id=2), DevelopmentalStage(uid='YF8WBL2Q', name='15 weeks', ontology_id='MmusDv:0000059', description='3 Month-Old Stage That Refers To A Mouse Which Is Over 105 Days And Under 113 Days Old.', bionty_source_id=49, created_by_id=2), DevelopmentalStage(uid='8MuTFQO8', name='13 weeks', ontology_id='MmusDv:0000057', description='3 Month-Old Stage That Refers To A Mouse Which Is Over 91 Days And Under 99 Days Old.', bionty_source_id=49, created_by_id=2), DevelopmentalStage(uid='BzdTRbz2', name='14 weeks', ontology_id='MmusDv:0000058', description='3 Month-Old Stage That Refers To A Mouse Which Is Over 98 Days And Under 106 Days Old.', bionty_source_id=49, created_by_id=2), DevelopmentalStage(uid='Y4EsPXsh', name='10 weeks', ontology_id='MmusDv:0000054', description='2 Month-Old Stage That Refers To A Mouse Which Is Over 70 Days And Under 78 Days Old.', bionty_source_id=49, created_by_id=2), DevelopmentalStage(uid='msz7ilUG', name='26 weeks', ontology_id='MmusDv:0000099', description='6 Month-Old Stage That Refers To A Mouse Which Is Over 182 Days And Under 190 Days Old.', bionty_source_id=49, created_by_id=2), DevelopmentalStage(uid='Ni1mjjFg', name='mature stage', ontology_id='MmusDv:0000110', synonyms='mature', description='Mouse Developmental Stage That Refers To A Sexually Mature Adult Mouse Which Is Over 6 Weeks Old.', bionty_source_id=49, created_by_id=2), DevelopmentalStage(uid='8M0BbvJc', name='23 weeks', ontology_id='MmusDv:0000073', description='5 Month-Old Stage That Refers To A Mouse Which Is Over 161 Days And Under 169 Days Old.', bionty_source_id=49, created_by_id=2), DevelopmentalStage(uid='df9sEkEI', name='early adult stage', ontology_id='MmusDv:0000061', description='Mature Stage That Refers To A Adult Mouse Which Is Over 6 Weeks And Under 7 Months Old.', bionty_source_id=49, created_by_id=2), DevelopmentalStage(uid='qqSg01zz', name='20 weeks', ontology_id='MmusDv:0000070', description='4 Month-Old Stage That Refers To A Mouse Which Is Over 140 Days And Under 148 Days Old.', bionty_source_id=49, created_by_id=2), DevelopmentalStage(uid='ct1TGudU', name='Theiler stage 26', ontology_id='MmusDv:0000035', synonyms='TS26|E18', description='Fetal Stage Defined By Long Whiskers And During Which The Eyes Are Barely Visible Through The Closed Eyelids.', bionty_source_id=49, created_by_id=2), DevelopmentalStage(uid='vjWmEEv6', name='2 weeks', ontology_id='MmusDv:0000046', description='Premature Stage That Refers To A Mouse Which Is Over 14 Days And Under 22 Days Old.', bionty_source_id=49, created_by_id=2), DevelopmentalStage(uid='U7yEA0lB', name='Theiler stage 27', ontology_id='MmusDv:0000036', description='Stage That Refers To The Newborn Mouse, Aged E19-20, P0. Description Of Anatomical Structures Related To This Stage Corresponds To The First Days Of The Mouse Life. Used For Postnatal Days 0 Through 3.', bionty_source_id=49, created_by_id=2), DevelopmentalStage(uid='TkE1VPQ6', name='7 weeks', ontology_id='MmusDv:0000051', description='Early Adult Stage That Refers To A Mouse Which Is Over 49 Days And Under 57 Days Old.', bionty_source_id=49, created_by_id=2), DevelopmentalStage(uid='O7areJVw', name='5 month-old stage', ontology_id='MmusDv:0000069', description='Early Adult Stage That Refers To A Mouse Which Is Over 5 And Under 6 Months Old.', bionty_source_id=49, created_by_id=2), DevelopmentalStage(uid='jym1WIjI', name='2 month-old stage', ontology_id='MmusDv:0000062', description='Early Adult Stage That Refers To A Mouse Which Is Over 2 And Under 3 Months Old.', bionty_source_id=49, created_by_id=2), DevelopmentalStage(uid='PYPUpHe0', name='29 weeks', ontology_id='MmusDv:0000102', description='6 Month-Old Stage That Refers To A Mouse Which Is Over 203 Days And Under 211 Days Old.', bionty_source_id=49, created_by_id=2), DevelopmentalStage(uid='loNJxGq0', name='Theiler stage 14', ontology_id='MmusDv:0000021', synonyms='TS14|E8.5-9.75', description='Organogenesis Stage During Which The Rostral Extremity Of The Neural Tube Closes In Embryos With Usually About 15-18 Somite Pairs. Late In The Stage The 3Rd Branchial Arch Becomes Visible.', bionty_source_id=49, created_by_id=2), DevelopmentalStage(uid='6N4RtxSR', name='Theiler stage 25', ontology_id='MmusDv:0000034', synonyms='TS25|E17', description='Fetal Stage During Which The Thickened Skin Forms Wrinkles And The Subcutaneous Veins Are Less Visible.', bionty_source_id=49, created_by_id=2), DevelopmentalStage(uid='Zlsx8Dmt', name='18 weeks', ontology_id='MmusDv:0000067', description='4 Month-Old Stage That Refers To A Mouse Which Is Over 126 Days And Under 134 Days Old.', bionty_source_id=49, created_by_id=2), DevelopmentalStage(uid='asteE00k', name='20 month-old stage and over', ontology_id='MmusDv:0000091', description='Aged Adult Stage That Refers To A Mouse Which Is Over 20 Months Old.', bionty_source_id=49, created_by_id=2), DevelopmentalStage(uid='IFN01quy', name='21 weeks', ontology_id='MmusDv:0000071', description='5 Month-Old Stage That Refers To A Mouse Which Is Over 147 Days And Under 155 Days Old.', bionty_source_id=49, created_by_id=2), DevelopmentalStage(uid='K7pFaQGM', name='25 weeks', ontology_id='MmusDv:0000098', description='6 Month-Old Stage That Refers To A Mouse Which Is Over 175 Days And Under 183 Days Old.', bionty_source_id=49, created_by_id=2), DevelopmentalStage(uid='yOlwr0TC', name='4 weeks', ontology_id='MmusDv:0000048', description='Premature Stage That Refers To A Mouse Which Is Over 28 Days And Under 36 Days Old.', bionty_source_id=49, created_by_id=2), DevelopmentalStage(uid='37VdjVb3', name='5 weeks', ontology_id='MmusDv:0000049', description='Premature Stage That Refers To A Mouse Which Is Over 35 Days And Under 43 Days Old.', bionty_source_id=49, created_by_id=2), DevelopmentalStage(uid='070cWUIr', name='Theiler stage 22', ontology_id='MmusDv:0000029', synonyms='E13.5-15|TS22', description='Organogenesis Stage During Which The Fingers Are Clearly Visible And The Long Bones Of The Limbs Are Present.', bionty_source_id=49, created_by_id=2), DevelopmentalStage(uid='yWOXIv07', name='Theiler stage 17', ontology_id='MmusDv:0000024', synonyms='TS17|E10-11.25', description='Organogenesis Stage Defined By The Deepening Of The Lens Pit And The First Appearance Of The Physiological Umbilical Hernia.', bionty_source_id=49, created_by_id=2), DevelopmentalStage(uid='Xsadx8yg', name='8 month-old stage', ontology_id='MmusDv:0000079', description='Middle Aged Stage That Refers To A Mouse Which Is Over 8 And Under 9 Months Old.', bionty_source_id=49, created_by_id=2), DevelopmentalStage(uid='wlyIb2NL', name='16 weeks', ontology_id='MmusDv:0000065', description='4 Month-Old Stage That Refers To A Mouse Which Is Over 112 Days And Under 120 Days Old.', bionty_source_id=49, created_by_id=2), DevelopmentalStage(uid='VEhMtYDB', name='Theiler stage 18', ontology_id='MmusDv:0000025', synonyms='E10.5-11.25|TS18', description='Organogenesis Stage During Which The Lens Vesicle Gradually Closes And The Nasal Pits Start To Form. The Rapid Growth Of The Brain Is Striking.', bionty_source_id=49, created_by_id=2), DevelopmentalStage(uid='QWeKuumK', name='Theiler stage 23', ontology_id='MmusDv:0000032', synonyms='E15|TS23', description='Fetal Stage During Which The Toes Separate And Hair Follicles Are Present In The Cephalic Region But Not At The Periphery Of The Vibrissae.', bionty_source_id=49, created_by_id=2), DevelopmentalStage(uid='p538b004', name='Theiler stage 20', ontology_id='MmusDv:0000027', synonyms='E11.5-13|TS20', description='Organogenesis Stage During Which The Handplate Develops Angles Corresponding To The Future Digits, And Tongue And Brain Vesicles Are Clearly Visible.', bionty_source_id=49, created_by_id=2), DevelopmentalStage(uid='HUrILEBs', name='16 month-old stage', ontology_id='MmusDv:0000087', description='Aged Adult Stage That Refers To A Mouse Which Is Over 16 And Under 17 Months Old.', bionty_source_id=49, created_by_id=2), DevelopmentalStage(uid='PzAvRdXi', name='6 month-old stage', ontology_id='MmusDv:0000077', description='Early Adult Stage That Refers To A Mouse Which Is Over 6 And Under 7 Months Old.', bionty_source_id=49, created_by_id=2), DevelopmentalStage(uid='Dx800l8t', name='17 weeks', ontology_id='MmusDv:0000066', description='4 Month-Old Stage That Refers To A Mouse Which Is Over 119 Days And Under 127 Days Old.', bionty_source_id=49, created_by_id=2), DevelopmentalStage(uid='lNh8U4YZ', name='late embryonic stage', ontology_id='UBERON:0007220', description='An Embryo Stage That Covers Late Steps Of The Embryogenesis With A Fully Formed Embryo Still Developing Before Birth Or Egg Hatching.', bionty_source_id=25, created_by_id=2), DevelopmentalStage(uid='wksJWjer', name='prime adult stage', ontology_id='UBERON:0018241', description='A Life Cycle Stage That Starts At Completion Of Development And Growth Of The Sexually Mature Adult Animal, And Ends Before Senescence.', bionty_source_id=25, created_by_id=2), DevelopmentalStage(uid='hqyIKjfF', name='late adult stage', ontology_id='UBERON:0007222', bionty_source_id=25, created_by_id=2), DevelopmentalStage(uid='l00DTC4g', name='juvenile stage', ontology_id='UBERON:0034919', description='The Stage Of Being No More Dependent Of The Nest And/Or From Caregivers For Subsistence While Having Not Reach Sexual Maturity.', bionty_source_id=25, created_by_id=2), DevelopmentalStage(uid='GDaE3j6Z', name='post-juvenile adult stage', ontology_id='UBERON:0000113', description='The Stage Of Being A Sexually Mature Adult Animal.', bionty_source_id=25, created_by_id=2), DevelopmentalStage(uid='xL8yuEN7', name='unknown', ontology_id='unknown', created_by_id=2)]\n",
      "❗ now recursing through parents: this only happens once, but is much slower than bulk saving\n",
      "registering disease\n",
      "❗ \u001b[1;91mdid not create\u001b[0m Disease record for \u001b[1;93m1 non-validated\u001b[0m \u001b[3montology_id\u001b[0m: \u001b[1;93m'PATO:0000461'\u001b[0m\n",
      "❗ now recursing through parents: this only happens once, but is much slower than bulk saving\n",
      "registered 1 records: [Disease(uid='4r2nqggf', name='normal', ontology_id='PATO:0000461', description='A Quality Inhering In A Bearer By Virtue Of The Bearer'S Exhibiting No Deviation From Normal Or Average.', bionty_source_id=43, created_by_id=2)]\n",
      "registering self_reported_ethnicity\n",
      "❗ \u001b[1;91mdid not create\u001b[0m Ethnicity records for \u001b[1;93m3 non-validated\u001b[0m \u001b[3montology_ids\u001b[0m: \u001b[1;93m'multiethnic', 'na', 'unknown'\u001b[0m\n",
      "❗ now recursing through parents: this only happens once, but is much slower than bulk saving\n",
      "registered 3 records: [Ethnicity(uid='xL8yuEN7', name='unknown', ontology_id='unknown', created_by_id=2), Ethnicity(uid='UY1fNAFT', name='na', ontology_id='na', created_by_id=2), Ethnicity(uid='8lAgy5Ej', name='multiethnic', ontology_id='multiethnic', created_by_id=2)]\n",
      "registering sex\n",
      "❗ \u001b[1;91mdid not create\u001b[0m Phenotype records for \u001b[1;93m3 non-validated\u001b[0m \u001b[3montology_ids\u001b[0m: \u001b[1;93m'PATO:0000383', 'unknown', 'PATO:0000384'\u001b[0m\n",
      "registered 3 records: [Phenotype(uid='xL8yuEN7', name='unknown', ontology_id='unknown', created_by_id=2), Phenotype(uid='hSl0sSF0', name='female', ontology_id='PATO:0000383', description='A Biological Sex Quality Inhering In An Individual Or A Population That Only Produces Gametes That Can Be Fertilised By Male Gametes.', bionty_source_id=43, created_by_id=2), Phenotype(uid='Pl1UiuS0', name='male', ontology_id='PATO:0000384', description='A Biological Sex Quality Inhering In An Individual Or A Population Whose Sex Organs Contain Only Male Gametes.', bionty_source_id=43, created_by_id=2)]\n",
      "registering tissue\n",
      "❗ \u001b[1;91mdid not create\u001b[0m Tissue records for \u001b[1;93m17 non-validated\u001b[0m \u001b[3montology_ids\u001b[0m: \u001b[1;93m'CL:0000010 (cell culture)', 'CL:0000082 (cell culture)', 'CL:0000084 (cell culture)', 'CL:0000115 (cell culture)', 'CL:0000351 (cell culture)', 'CL:0002322 (cell culture)', 'CL:0002327 (cell culture)', 'CL:0002328 (cell culture)', 'CL:0002334 (cell culture)', 'CL:0002335 (cell culture)', 'CL:0002633 (cell culture)', 'CL:0010003 (cell culture)', 'UBERON:0000088 (organoid)', 'UBERON:0000966 (organoid)', 'UBERON:0001295 (organoid)', 'UBERON:0002048 (organoid)', 'UBERON:0002370 (organoid)'\u001b[0m\n",
      "❗ now recursing through parents: this only happens once, but is much slower than bulk saving\n",
      "registered 17 records: [Tissue(uid='vg9s890t', name='respiratory basal cell (cell culture)', ontology_id='CL:0002633 (cell culture)', created_by_id=2), Tissue(uid='lfIFQFR5', name='epithelial cell of lung (cell culture)', ontology_id='CL:0000082 (cell culture)', created_by_id=2), Tissue(uid='rIPA0OEl', name='T cell (cell culture)', ontology_id='CL:0000084 (cell culture)', created_by_id=2), Tissue(uid='x3tRcugV', name='trophoblast (organoid)', ontology_id='UBERON:0000088 (organoid)', created_by_id=2), Tissue(uid='uS0Cw8zN', name='retina (organoid)', ontology_id='UBERON:0000966 (organoid)', created_by_id=2), Tissue(uid='kWD0kb5x', name='brown preadipocyte (cell culture)', ontology_id='CL:0002335 (cell culture)', created_by_id=2), Tissue(uid='UoElNxsj', name='endothelial cell (cell culture)', ontology_id='CL:0000115 (cell culture)', created_by_id=2), Tissue(uid='7MzqN14b', name='bronchial epithelial cell (cell culture)', ontology_id='CL:0002328 (cell culture)', created_by_id=2), Tissue(uid='RkE6D8y1', name='endometrium (organoid)', ontology_id='UBERON:0001295 (organoid)', created_by_id=2), Tissue(uid='yPk6E1V8', name='epithelial cell of alveolus of lung (cell culture)', ontology_id='CL:0010003 (cell culture)', created_by_id=2), Tissue(uid='K4RSNRBc', name='thymus (organoid)', ontology_id='UBERON:0002370 (organoid)', created_by_id=2), Tissue(uid='9ICArUMH', name='embryonic stem cell (cell culture)', ontology_id='CL:0002322 (cell culture)', created_by_id=2), Tissue(uid='WSs6UA9e', name='lung (organoid)', ontology_id='UBERON:0002048 (organoid)', created_by_id=2), Tissue(uid='w6gzNa8D', name='mammary gland epithelial cell (cell culture)', ontology_id='CL:0002327 (cell culture)', created_by_id=2), Tissue(uid='Ash8pGf8', name='trophoblast cell (cell culture)', ontology_id='CL:0000351 (cell culture)', created_by_id=2), Tissue(uid='CevFMDqD', name='preadipocyte (cell culture)', ontology_id='CL:0002334 (cell culture)', created_by_id=2), Tissue(uid='9YB5clqY', name='cultured cell (cell culture)', ontology_id='CL:0000010 (cell culture)', created_by_id=2)]\n"
     ]
    }
   ],
   "source": [
    "ln.settings.upon_create_search_names = False\n",
    "\n",
    "ontology_ids = {}\n",
    "for name in obs_features.keys():\n",
    "    if name in [\"donor_id\", \"suspension_type\", \"tissue_type\"]:\n",
    "        continue\n",
    "    allids = set()\n",
    "    for i in cellxgene_meta:\n",
    "        if name in i:\n",
    "            allids.update([(j[\"label\"], j[\"ontology_term_id\"]) for j in i[name]])\n",
    "\n",
    "    ontology_ids[name] = allids\n",
    "\n",
    "bionty_source_ds_mouse = lb.BiontySource.filter(\n",
    "    entity=\"DevelopmentalStage\", organism=\"mouse\"\n",
    ").one()\n",
    "bionty_source_pato = lb.BiontySource.filter(source=\"pato\").one()\n",
    "\n",
    "# register all ontology ids\n",
    "for name, terms in ontology_ids.items():\n",
    "    print(f\"registering {name}\")\n",
    "    accessor, orm = FEATURE_TO_ACCESSOR.get(name)\n",
    "    terms_ids = [i[1] for i in terms]\n",
    "    records = orm.from_values(terms_ids, field=\"ontology_id\")\n",
    "    if len(records) > 0:\n",
    "        ln.save(records)\n",
    "    inspect_result = orm.inspect(terms_ids, field=\"ontology_id\", mute=True)\n",
    "    if len(inspect_result.non_validated) > 0:\n",
    "        if name == \"development_stage\":\n",
    "            records = orm.from_values(\n",
    "                inspect_result.non_validated,\n",
    "                field=\"ontology_id\",\n",
    "                bionty_source=bionty_source_ds_mouse,\n",
    "            )\n",
    "            records += [\n",
    "                create_ontology_record_from_source(\n",
    "                    ontology_id=term_id, from_orm=lb.Tissue, target_orm=orm\n",
    "                )\n",
    "                for term_id in inspect_result.non_validated\n",
    "                if term_id.startswith(\"UBERON:\")\n",
    "            ]\n",
    "            records += [\n",
    "                orm(name=term_id, ontology_id=term_id)\n",
    "                for term_id in inspect_result.non_validated\n",
    "                if term_id == \"unknown\"\n",
    "            ]\n",
    "        else:\n",
    "            records = [\n",
    "                orm(name=term[0], ontology_id=term[1])\n",
    "                for term in terms\n",
    "                if (not term[1].startswith(\"PATO:\"))\n",
    "                and (term[1] in inspect_result.non_validated)\n",
    "            ]\n",
    "            records += [\n",
    "                create_ontology_record_from_source(\n",
    "                    ontology_id=term_id,\n",
    "                    from_orm=lb.Phenotype,\n",
    "                    target_orm=orm,\n",
    "                    bionty_source=bionty_source_pato,\n",
    "                )\n",
    "                for term_id in inspect_result.non_validated\n",
    "                if term_id.startswith(\"PATO:\")\n",
    "            ]\n",
    "\n",
    "        if len(records) > 0:\n",
    "            print(f\"registered {len(records)} records: {records}\")\n",
    "            ln.save(records)"
   ]
  },
  {
   "cell_type": "markdown",
   "metadata": {},
   "source": [
    "## donors and suspension_types"
   ]
  },
  {
   "cell_type": "code",
   "execution_count": 23,
   "metadata": {
    "tags": []
   },
   "outputs": [],
   "source": [
    "donor_ids = set()\n",
    "suspension_types = set()\n",
    "\n",
    "for i in cellxgene_meta:\n",
    "    if \"donor_id\" in i:\n",
    "        donor_ids.update(i[\"donor_id\"])\n",
    "    if \"suspension_type\" in i:\n",
    "        suspension_types.update(i[\"suspension_type\"])"
   ]
  },
  {
   "cell_type": "code",
   "execution_count": 24,
   "metadata": {
    "tags": []
   },
   "outputs": [],
   "source": [
    "is_donor = ln.ULabel.filter(name=\"is_donor\").one()\n",
    "donors = is_donor.children.all()\n",
    "result = donors.inspect(donor_ids, mute=True)\n",
    "new_donors = [ln.ULabel(name=name) for name in result.non_validated]\n",
    "ln.save(new_donors)\n",
    "is_donor.children.add(*new_donors)\n",
    "\n",
    "is_suspension_type = ln.ULabel.filter(name=\"is_suspension_type\").one()\n",
    "stypes = is_suspension_type.children.all()\n",
    "result = stypes.inspect(suspension_types, mute=True)\n",
    "new_stypes = [ln.ULabel(name=name) for name in result.non_validated]\n",
    "ln.save(new_stypes)\n",
    "is_suspension_type.children.add(*new_stypes)"
   ]
  },
  {
   "cell_type": "markdown",
   "metadata": {},
   "source": [
    "## Annotate artifacts with obs metadata"
   ]
  },
  {
   "cell_type": "code",
   "execution_count": 25,
   "metadata": {},
   "outputs": [
    {
     "data": {
      "text/plain": [
       "{'assay': ('experimental_factors', lnschema_bionty.models.ExperimentalFactor),\n",
       " 'cell_type': ('cell_types', lnschema_bionty.models.CellType),\n",
       " 'development_stage': ('developmental_stages',\n",
       "  lnschema_bionty.models.DevelopmentalStage),\n",
       " 'disease': ('diseases', lnschema_bionty.models.Disease),\n",
       " 'donor_id': ('ulabels', lnschema_core.models.ULabel),\n",
       " 'self_reported_ethnicity': ('ethnicities', lnschema_bionty.models.Ethnicity),\n",
       " 'sex': ('phenotypes', lnschema_bionty.models.Phenotype),\n",
       " 'suspension_type': ('ulabels', lnschema_core.models.ULabel),\n",
       " 'tissue': ('tissues', lnschema_bionty.models.Tissue),\n",
       " 'tissue_type': ('ulabels', lnschema_core.models.ULabel)}"
      ]
     },
     "execution_count": 25,
     "metadata": {},
     "output_type": "execute_result"
    }
   ],
   "source": [
    "FEATURE_TO_ACCESSOR"
   ]
  },
  {
   "cell_type": "code",
   "execution_count": 29,
   "metadata": {
    "tags": [
     "hide-output"
    ]
   },
   "outputs": [
    {
     "name": "stdout",
     "output_type": "stream",
     "text": [
      "annotating dataset 0 of 1152\n",
      "annotating dataset 100 of 1152\n",
      "annotating dataset 200 of 1152\n",
      "annotating dataset 300 of 1152\n",
      "annotating dataset 400 of 1152\n",
      "annotating dataset 500 of 1152\n",
      "annotating dataset 600 of 1152\n",
      "annotating dataset 700 of 1152\n",
      "annotating dataset 800 of 1152\n",
      "annotating dataset 900 of 1152\n",
      "annotating dataset 1000 of 1152\n",
      "annotating dataset 1100 of 1152\n"
     ]
    }
   ],
   "source": [
    "features = ln.Feature.lookup()\n",
    "\n",
    "for idx, dataset_meta in enumerate(cellxgene_meta):\n",
    "    if idx % 100 == 0:\n",
    "        print(f\"annotating dataset {idx} of {len(cellxgene_meta)}\")\n",
    "    file = artifacts.filter(key__contains=dataset_meta[\"dataset_id\"]).one_or_none()\n",
    "    if file is None:\n",
    "        continue\n",
    "    for field, terms in dataset_meta.items():\n",
    "        if field not in FEATURE_TO_ACCESSOR:\n",
    "            continue\n",
    "        accessor, orm = FEATURE_TO_ACCESSOR.get(field)\n",
    "        if field in [\"donor_id\", \"suspension_type\", \"tissue_type\"]:\n",
    "            records = orm.from_values(terms, field=\"name\")\n",
    "            if len(records) > 0:\n",
    "                # stratify by feature so that link tables records are written\n",
    "                file.labels.add(records, feature=getattr(features, field))\n",
    "        else:\n",
    "            records = orm.from_values(\n",
    "                [i[\"ontology_term_id\"] for i in terms], field=\"ontology_id\"\n",
    "            )\n",
    "            if len(records) > 0:\n",
    "                getattr(file, accessor).add(*records)"
   ]
  },
  {
   "cell_type": "markdown",
   "metadata": {},
   "source": [
    "Clean up the 2 \"unknowns\" in DevelopmentalStage:"
   ]
  },
  {
   "cell_type": "code",
   "execution_count": null,
   "metadata": {},
   "outputs": [],
   "source": [
    "lb.DevelopmentalStage.filter(name=\"unknown\").exclude(ontology_id=\"unknown\").delete()"
   ]
  },
  {
   "cell_type": "markdown",
   "metadata": {},
   "source": [
    "## Validate and register genes"
   ]
  },
  {
   "cell_type": "code",
   "execution_count": 30,
   "metadata": {
    "tags": []
   },
   "outputs": [],
   "source": [
    "# register synthetic constructs and sars_cov_2 as new organisms\n",
    "new_organisms = lb.Organism.from_values(\n",
    "    [\"NCBITaxon:32630\", \"NCBITaxon:2697049\"],\n",
    "    field=lb.Organism.ontology_id,\n",
    "    bionty_source=ncbitaxon_source,\n",
    ")\n",
    "ln.save(new_organisms, parents=False)\n",
    "\n",
    "# genes files\n",
    "organisms = lb.Organism.lookup(field=lb.Organism.scientific_name)\n",
    "genes_files = {\n",
    "    \"homo_sapiens\": \"https://github.com/chanzuckerberg/single-cell-curation/raw/main/cellxgene_schema_cli/cellxgene_schema/ontology_files/genes_homo_sapiens.csv.gz\",\n",
    "    \"mus_musculus\": \"https://github.com/chanzuckerberg/single-cell-curation/raw/main/cellxgene_schema_cli/cellxgene_schema/ontology_files/genes_mus_musculus.csv.gz\",\n",
    "    \"synthetic_construct\": \"https://github.com/chanzuckerberg/single-cell-curation/raw/main/cellxgene_schema_cli/cellxgene_schema/ontology_files/genes_ercc.csv.gz\",\n",
    "    \"severe_acute_respiratory_syndrome_coronavirus_2\": \"https://github.com/chanzuckerberg/single-cell-curation/raw/main/cellxgene_schema_cli/cellxgene_schema/ontology_files/genes_sars_cov_2.csv.gz\",\n",
    "}"
   ]
  },
  {
   "cell_type": "markdown",
   "metadata": {},
   "source": [
    "Register all genes for each organism:"
   ]
  },
  {
   "cell_type": "code",
   "execution_count": 34,
   "metadata": {
    "tags": [
     "hide-output"
    ]
   },
   "outputs": [
    {
     "name": "stdout",
     "output_type": "stream",
     "text": [
      "registering homo_sapiens genes\n",
      "❗ \u001b[1;91mdid not create\u001b[0m Gene records for \u001b[1;93m147 non-validated\u001b[0m \u001b[3mensembl_gene_ids\u001b[0m: \u001b[1;93m'ENSG00000112096', 'ENSG00000137808', 'ENSG00000161149', 'ENSG00000182230', 'ENSG00000203812', 'ENSG00000204092', 'ENSG00000205485', 'ENSG00000212951', 'ENSG00000215271', 'ENSG00000221995', 'ENSG00000224739', 'ENSG00000224745', 'ENSG00000225178', 'ENSG00000225932', 'ENSG00000226377', 'ENSG00000226380', 'ENSG00000226403', 'ENSG00000227021', 'ENSG00000227220', 'ENSG00000227902', ...\u001b[0m\n",
      "❗ \u001b[1;93m147 terms\u001b[0m (0.20%) are not validated for \u001b[3mensembl_gene_id\u001b[0m: \u001b[1;93mENSG00000269933, ENSG00000261737, ENSG00000259834, ENSG00000256374, ENSG00000263464, ENSG00000203812, ENSG00000272196, ENSG00000272880, ENSG00000284299, ENSG00000270188, ENSG00000287116, ENSG00000237133, ENSG00000224739, ENSG00000227902, ENSG00000239467, ENSG00000272551, ENSG00000280374, ENSG00000284741, ENSG00000236886, ENSG00000229352, ...\u001b[0m\n",
      "registering mus_musculus genes\n",
      "❗ \u001b[1;91mdid not create\u001b[0m Gene records for \u001b[1;93m135 non-validated\u001b[0m \u001b[3mensembl_gene_ids\u001b[0m: \u001b[1;93m'ENSMUSG00000022591', 'ENSMUSG00000045506', 'ENSMUSG00000053706', 'ENSMUSG00000053861', 'ENSMUSG00000066378', 'ENSMUSG00000066810', 'ENSMUSG00000066936', 'ENSMUSG00000067085', 'ENSMUSG00000067122', 'ENSMUSG00000067292', 'ENSMUSG00000067627', 'ENSMUSG00000067929', 'ENSMUSG00000068181', 'ENSMUSG00000069518', 'ENSMUSG00000072693', 'ENSMUSG00000073290', 'ENSMUSG00000073291', 'ENSMUSG00000073682', 'ENSMUSG00000074210', 'ENSMUSG00000074302', ...\u001b[0m\n",
      "❗ \u001b[1;93m135 terms\u001b[0m (0.20%) are not validated for \u001b[3mensembl_gene_id\u001b[0m: \u001b[1;93mENSMUSG00000022591, ENSMUSG00000094127, ENSMUSG00000066936, ENSMUSG00000116275, ENSMUSG00000091312, ENSMUSG00000098794, ENSMUSG00000079353, ENSMUSG00000096240, ENSMUSG00000079286, ENSMUSG00000085431, ENSMUSG00000075015, ENSMUSG00000075014, ENSMUSG00000078091, ENSMUSG00000075006, ENSMUSG00000079175, ENSMUSG00000079171, ENSMUSG00000079170, ENSMUSG00000079169, ENSMUSG00000090353, ENSMUSG00000100963, ...\u001b[0m\n",
      "registering synthetic_construct genes\n",
      "❗ loading non-default source inside a LaminDB instance\n",
      "❗ no Bionty source found, skipping Bionty validation\n",
      "❗ loading non-default source inside a LaminDB instance\n",
      "❗ \u001b[1;91mdid not create\u001b[0m Gene records for \u001b[1;93m92 non-validated\u001b[0m \u001b[3mensembl_gene_ids\u001b[0m: \u001b[1;93m'ERCC-00002', 'ERCC-00003', 'ERCC-00004', 'ERCC-00009', 'ERCC-00012', 'ERCC-00013', 'ERCC-00014', 'ERCC-00016', 'ERCC-00017', 'ERCC-00019', 'ERCC-00022', 'ERCC-00024', 'ERCC-00025', 'ERCC-00028', 'ERCC-00031', 'ERCC-00033', 'ERCC-00034', 'ERCC-00035', 'ERCC-00039', 'ERCC-00040', ...\u001b[0m\n",
      "❗ \u001b[1;93m92 terms\u001b[0m (100.00%) are not validated for \u001b[3mensembl_gene_id\u001b[0m: \u001b[1;93mERCC-00002, ERCC-00003, ERCC-00004, ERCC-00009, ERCC-00012, ERCC-00013, ERCC-00014, ERCC-00016, ERCC-00017, ERCC-00019, ERCC-00022, ERCC-00024, ERCC-00025, ERCC-00028, ERCC-00031, ERCC-00033, ERCC-00034, ERCC-00035, ERCC-00039, ERCC-00040, ...\u001b[0m\n",
      "registering severe_acute_respiratory_syndrome_coronavirus_2 genes\n",
      "❗ loading non-default source inside a LaminDB instance\n",
      "❗ no Bionty source found, skipping Bionty validation\n",
      "❗ loading non-default source inside a LaminDB instance\n",
      "❗ \u001b[1;91mdid not create\u001b[0m Gene records for \u001b[1;93m12 non-validated\u001b[0m \u001b[3mensembl_gene_ids\u001b[0m: \u001b[1;93m'ENSSASG00005000002', 'ENSSASG00005000003', 'ENSSASG00005000004', 'ENSSASG00005000006', 'ENSSASG00005000010', 'ENSSASG00005000007', 'ENSSASG00005000011', 'ENSSASG00005000009', 'ENSSASG00005000012', 'ENSSASG00005000008', 'ENSSASG00005000005', 'ENSSASG00005000013'\u001b[0m\n",
      "❗ \u001b[1;93m12 terms\u001b[0m (100.00%) are not validated for \u001b[3mensembl_gene_id\u001b[0m: \u001b[1;93mENSSASG00005000002, ENSSASG00005000003, ENSSASG00005000004, ENSSASG00005000006, ENSSASG00005000010, ENSSASG00005000007, ENSSASG00005000011, ENSSASG00005000009, ENSSASG00005000012, ENSSASG00005000008, ENSSASG00005000005, ENSSASG00005000013\u001b[0m\n"
     ]
    }
   ],
   "source": [
    "for organism_name, genes_file in genes_files.items():\n",
    "    print(f\"registering {organism_name} genes\")\n",
    "    df = pd.read_csv(genes_file, header=None, index_col=0)\n",
    "    organism_record = getattr(organisms, organism_name)\n",
    "    gene_records = lb.Gene.from_values(\n",
    "        df.index, field=lb.Gene.ensembl_gene_id, organism=organism_record\n",
    "    )\n",
    "    ln.save(gene_records)\n",
    "    validated = lb.Gene.validate(\n",
    "        df.index, field=lb.Gene.ensembl_gene_id, organism=organism_record\n",
    "    )\n",
    "    # register legacy genes manually\n",
    "    new_records = []\n",
    "    for gene_id in df.index[~validated]:\n",
    "        new_records.append(\n",
    "            lb.Gene(\n",
    "                ensembl_gene_id=gene_id,\n",
    "                symbol=df.loc[gene_id][1],\n",
    "                organism=organism_record,\n",
    "            )\n",
    "        )\n",
    "    ln.save(new_records)\n",
    "\n",
    "    genes_feature_set = ln.FeatureSet(\n",
    "        features=gene_records + new_records, name=f\"all {organism_record.name} genes\"\n",
    "    )\n",
    "    genes_feature_set.save()"
   ]
  },
  {
   "cell_type": "markdown",
   "metadata": {},
   "source": [
    "## Link metadata to individual artifacts"
   ]
  },
  {
   "cell_type": "markdown",
   "metadata": {},
   "source": [
    "annotate with genes measured in each file:"
   ]
  },
  {
   "cell_type": "code",
   "execution_count": 26,
   "metadata": {
    "tags": []
   },
   "outputs": [],
   "source": [
    "organisms = lb.Organism.lookup(field=lb.Organism.scientific_name)"
   ]
  },
  {
   "cell_type": "code",
   "execution_count": 27,
   "metadata": {
    "tags": [
     "hide-output"
    ]
   },
   "outputs": [
    {
     "name": "stdout",
     "output_type": "stream",
     "text": [
      "annotating dataset 0 of 12\n"
     ]
    }
   ],
   "source": [
    "for idx, file in enumerate(artifacts):\n",
    "    if idx % 100 == 0:\n",
    "        print(f\"annotating dataset {idx} of {len(artifacts)}\")\n",
    "\n",
    "    adata_backed = file.backed()\n",
    "    var_names = adata_backed.var_names\n",
    "    organism_record = file.organism.first()\n",
    "    if organism_record is None:\n",
    "        print(f\"No organism found for file: {file}\")\n",
    "        continue\n",
    "    genes = lb.Gene.from_values(\n",
    "        var_names, field=lb.Gene.ensembl_gene_id, organism=organism_record\n",
    "    )\n",
    "\n",
    "    if len(genes) == 0 and var_names[0].startswith(\"ENSG\"):\n",
    "        genes += lb.Gene.from_values(\n",
    "            var_names, field=lb.Gene.ensembl_gene_id, organism=\"human\"\n",
    "        )\n",
    "\n",
    "    if len(var_names[var_names.str.startswith(\"ERCC\")]) > 0:\n",
    "        genes += lb.Gene.from_values(\n",
    "            var_names,\n",
    "            field=lb.Gene.ensembl_gene_id,\n",
    "            organism=organisms.synthetic_construct,\n",
    "        )\n",
    "    if len(var_names[var_names.str.startswith(\"ENSSASG\")]) > 0:\n",
    "        genes += lb.Gene.from_values(\n",
    "            var_names,\n",
    "            field=lb.Gene.ensembl_gene_id,\n",
    "            organism=organisms.severe_acute_respiratory_syndrome_coronavirus_2,\n",
    "        )\n",
    "\n",
    "    var_feature_set_file = ln.FeatureSet(genes, type=\"number\")\n",
    "    var_feature_set_file.save()\n",
    "    file.feature_sets.add(var_feature_set_file, through_defaults={\"slot\": \"var\"})"
   ]
  },
  {
   "cell_type": "code",
   "execution_count": 30,
   "metadata": {
    "tags": []
   },
   "outputs": [
    {
     "name": "stdout",
     "output_type": "stream",
     "text": [
      "\u001b[1;92mFile\u001b[0m(uid='8aIkAQpSXAWvebiuOT53', key='cell-census/2023-12-06/h5ads/ff7d15fa-f4b6-4a0e-992e-fd0c9d088ded.h5ad', suffix='.h5ad', accessor='AnnData', size=339098252, hash='wk4aVyHI7iZWNq2n99_s4w-41', hash_type='md5-n', visibility=1, key_is_virtual=False, updated_at=2023-12-11 15:46:45 UTC)\n",
      "\n",
      "\u001b[1;92mProvenance\u001b[0m:\n",
      "  🗃️ storage: Storage(uid='vm6fiuHv', root='s3://cellxgene-data-public', type='s3', region='us-west-2', updated_at=2023-12-11 15:39:59 UTC, created_by_id=2)\n",
      "  📔 transform: Transform(uid='4hbVFAINneXCz8', name='Register files from Census release 2023-12-06', short_name='census-release-2023-12-06', version='0', type='notebook', updated_at=2023-12-11 15:39:44 UTC, created_by_id=2)\n",
      "  👣 run: Run(uid='yq2FEOYiiNwTV6HJRReE', run_at=2023-12-13 10:17:40 UTC, transform_id=1, created_by_id=2)\n",
      "  👤 created_by: User(uid='kmvZDIX9', handle='sunnyosun', name='Sunny Sun', updated_at=2023-12-12 10:05:51 UTC)\n",
      "\u001b[1;92mFeatures\u001b[0m:\n",
      "  \u001b[1mobs\u001b[0m: FeatureSet(uid='VOhmBdxtNgUpMiUUMR56', name='obs features', n=10, registry='core.Feature', hash='vRtez9Dl4oTSutrbWK13', updated_at=2023-12-11 18:45:36 UTC, created_by_id=2)\n",
      "    🔗 assay (1, \u001b[3mbionty.ExperimentalFactor\u001b[0m): '10x 3' v3'\n",
      "    🔗 cell_type (10, \u001b[3mbionty.CellType\u001b[0m): 'vascular associated smooth muscle cell', 'astrocyte', 'central nervous system macrophage', 'oligodendrocyte', 'pericyte', 'neuron', 'oligodendrocyte precursor cell', 'endothelial cell', 'leukocyte', 'fibroblast'\n",
      "    🔗 development_stage (3, \u001b[3mbionty.DevelopmentalStage\u001b[0m): '50-year-old human stage', '42-year-old human stage', '29-year-old human stage'\n",
      "    🔗 disease (1, \u001b[3mbionty.Disease\u001b[0m): 'normal'\n",
      "    🔗 donor_id (3, \u001b[3mcore.ULabel\u001b[0m): 'H19.30.001', 'H19.30.002', 'H18.30.002'\n",
      "    🔗 self_reported_ethnicity (1, \u001b[3mbionty.Ethnicity\u001b[0m): 'European'\n",
      "    🔗 sex (1, \u001b[3mbionty.Phenotype\u001b[0m): 'male'\n",
      "    🔗 suspension_type (1, \u001b[3mcore.ULabel\u001b[0m): 'nucleus'\n",
      "    🔗 tissue (1, \u001b[3mbionty.Tissue\u001b[0m): 'cerebral cortex'\n",
      "    🔗 tissue_type (0, \u001b[3mcore.ULabel\u001b[0m): \n",
      "  \u001b[1mexternal\u001b[0m: FeatureSet(uid='R9sY9Bx6I7Rv4aIY9BPM', name='external features', n=2, registry='core.Feature', hash='yOyigQuaDFnr-gu0w0qy', updated_at=2023-12-11 18:45:51 UTC, created_by_id=2)\n",
      "    🔗 organism (1, \u001b[3mbionty.Organism\u001b[0m): 'human'\n",
      "    🔗 collection (1, \u001b[3mcore.ULabel\u001b[0m): 'Human Brain Cell Atlas v1.0'\n",
      "  \u001b[1mvar\u001b[0m: FeatureSet(uid='GY9YeH2BaFhUz1egijMR', n=59357, type='number', registry='bionty.Gene', hash='pUpMpu0zd84pS0uKAhOq', updated_at=2023-12-13 10:25:21 UTC, created_by_id=2)\n",
      "    'DDX11L1', 'WASH7P', 'MIR6859-1', 'MIR1302-2', 'OR4G4P', 'OR4G11P', 'CICP27', 'None', 'None', 'None', 'RNU6-1100P', 'None', 'DDX11L17', 'WASH9P', 'MIR6859-2', 'None', 'None', 'RPL23AP24', 'None', 'WBP1LP7', ...\n",
      "\u001b[1;92mLabels\u001b[0m:\n",
      "  🏷️ organism (1, \u001b[3mbionty.Organism\u001b[0m): 'human'\n",
      "  🏷️ tissues (1, \u001b[3mbionty.Tissue\u001b[0m): 'cerebral cortex'\n",
      "  🏷️ cell_types (10, \u001b[3mbionty.CellType\u001b[0m): 'vascular associated smooth muscle cell', 'astrocyte', 'central nervous system macrophage', 'oligodendrocyte', 'pericyte', 'neuron', 'oligodendrocyte precursor cell', 'endothelial cell', 'leukocyte', 'fibroblast'\n",
      "  🏷️ diseases (1, \u001b[3mbionty.Disease\u001b[0m): 'normal'\n",
      "  🏷️ phenotypes (1, \u001b[3mbionty.Phenotype\u001b[0m): 'male'\n",
      "  🏷️ experimental_factors (1, \u001b[3mbionty.ExperimentalFactor\u001b[0m): '10x 3' v3'\n",
      "  🏷️ developmental_stages (3, \u001b[3mbionty.DevelopmentalStage\u001b[0m): '50-year-old human stage', '42-year-old human stage', '29-year-old human stage'\n",
      "  🏷️ ethnicities (1, \u001b[3mbionty.Ethnicity\u001b[0m): 'European'\n",
      "  🏷️ ulabels (5, \u001b[3mcore.ULabel\u001b[0m): 'Human Brain Cell Atlas v1.0', 'H19.30.001', 'H19.30.002', 'H18.30.002', 'nucleus'\n",
      "\n"
     ]
    }
   ],
   "source": [
    "file.describe()"
   ]
  },
  {
   "cell_type": "markdown",
   "metadata": {},
   "source": [
    "## Annotate tissue_type\n",
    "\n",
    "Before CxG schema 4.0, tissue_type column was not annotated, instead \"cell culture\" or \"organoid\" was added to the record ontology_id."
   ]
  },
  {
   "cell_type": "code",
   "execution_count": 19,
   "metadata": {
    "tags": []
   },
   "outputs": [],
   "source": [
    "tissue_types = [ln.ULabel(name=i) for i in [\"tissue\", \"organoid\", \"cell culture\"]]\n",
    "ln.save(tissue_types)\n",
    "\n",
    "is_tissue_type = ln.ULabel.filter(name=\"is_tissue_type\").one()\n",
    "is_tissue_type.children.add(*tissue_types)"
   ]
  },
  {
   "cell_type": "code",
   "execution_count": 10,
   "metadata": {
    "tags": []
   },
   "outputs": [],
   "source": [
    "is_tissue_type = ln.ULabel.filter(name=\"is_tissue_type\").one()\n",
    "tissue_types = is_tissue_type.children.lookup()\n",
    "features = ln.Feature.lookup()"
   ]
  },
  {
   "cell_type": "code",
   "execution_count": 6,
   "metadata": {
    "tags": []
   },
   "outputs": [
    {
     "data": {
      "text/html": [
       "<div>\n",
       "<style scoped>\n",
       "    .dataframe tbody tr th:only-of-type {\n",
       "        vertical-align: middle;\n",
       "    }\n",
       "\n",
       "    .dataframe tbody tr th {\n",
       "        vertical-align: top;\n",
       "    }\n",
       "\n",
       "    .dataframe thead th {\n",
       "        text-align: right;\n",
       "    }\n",
       "</style>\n",
       "<table border=\"1\" class=\"dataframe\">\n",
       "  <thead>\n",
       "    <tr style=\"text-align: right;\">\n",
       "      <th></th>\n",
       "      <th>uid</th>\n",
       "      <th>name</th>\n",
       "      <th>ontology_id</th>\n",
       "      <th>abbr</th>\n",
       "      <th>synonyms</th>\n",
       "      <th>description</th>\n",
       "      <th>bionty_source_id</th>\n",
       "      <th>updated_at</th>\n",
       "      <th>created_by_id</th>\n",
       "    </tr>\n",
       "    <tr>\n",
       "      <th>id</th>\n",
       "      <th></th>\n",
       "      <th></th>\n",
       "      <th></th>\n",
       "      <th></th>\n",
       "      <th></th>\n",
       "      <th></th>\n",
       "      <th></th>\n",
       "      <th></th>\n",
       "      <th></th>\n",
       "    </tr>\n",
       "  </thead>\n",
       "  <tbody>\n",
       "    <tr>\n",
       "      <th>692</th>\n",
       "      <td>x3tRcugV</td>\n",
       "      <td>trophoblast (organoid)</td>\n",
       "      <td>UBERON:0000088 (organoid)</td>\n",
       "      <td>None</td>\n",
       "      <td>None</td>\n",
       "      <td>None</td>\n",
       "      <td>None</td>\n",
       "      <td>2023-12-11 19:11:55.832890+00:00</td>\n",
       "      <td>2</td>\n",
       "    </tr>\n",
       "    <tr>\n",
       "      <th>693</th>\n",
       "      <td>uS0Cw8zN</td>\n",
       "      <td>retina (organoid)</td>\n",
       "      <td>UBERON:0000966 (organoid)</td>\n",
       "      <td>None</td>\n",
       "      <td>None</td>\n",
       "      <td>None</td>\n",
       "      <td>None</td>\n",
       "      <td>2023-12-11 19:11:55.832921+00:00</td>\n",
       "      <td>2</td>\n",
       "    </tr>\n",
       "    <tr>\n",
       "      <th>697</th>\n",
       "      <td>RkE6D8y1</td>\n",
       "      <td>endometrium (organoid)</td>\n",
       "      <td>UBERON:0001295 (organoid)</td>\n",
       "      <td>None</td>\n",
       "      <td>None</td>\n",
       "      <td>None</td>\n",
       "      <td>None</td>\n",
       "      <td>2023-12-11 19:11:55.833155+00:00</td>\n",
       "      <td>2</td>\n",
       "    </tr>\n",
       "    <tr>\n",
       "      <th>699</th>\n",
       "      <td>K4RSNRBc</td>\n",
       "      <td>thymus (organoid)</td>\n",
       "      <td>UBERON:0002370 (organoid)</td>\n",
       "      <td>None</td>\n",
       "      <td>None</td>\n",
       "      <td>None</td>\n",
       "      <td>None</td>\n",
       "      <td>2023-12-11 19:11:55.833223+00:00</td>\n",
       "      <td>2</td>\n",
       "    </tr>\n",
       "    <tr>\n",
       "      <th>701</th>\n",
       "      <td>WSs6UA9e</td>\n",
       "      <td>lung (organoid)</td>\n",
       "      <td>UBERON:0002048 (organoid)</td>\n",
       "      <td>None</td>\n",
       "      <td>None</td>\n",
       "      <td>None</td>\n",
       "      <td>None</td>\n",
       "      <td>2023-12-11 19:11:55.833293+00:00</td>\n",
       "      <td>2</td>\n",
       "    </tr>\n",
       "  </tbody>\n",
       "</table>\n",
       "</div>"
      ],
      "text/plain": [
       "          uid                    name                ontology_id  abbr  \\\n",
       "id                                                                       \n",
       "692  x3tRcugV  trophoblast (organoid)  UBERON:0000088 (organoid)  None   \n",
       "693  uS0Cw8zN       retina (organoid)  UBERON:0000966 (organoid)  None   \n",
       "697  RkE6D8y1  endometrium (organoid)  UBERON:0001295 (organoid)  None   \n",
       "699  K4RSNRBc       thymus (organoid)  UBERON:0002370 (organoid)  None   \n",
       "701  WSs6UA9e         lung (organoid)  UBERON:0002048 (organoid)  None   \n",
       "\n",
       "    synonyms description bionty_source_id                       updated_at  \\\n",
       "id                                                                           \n",
       "692     None        None             None 2023-12-11 19:11:55.832890+00:00   \n",
       "693     None        None             None 2023-12-11 19:11:55.832921+00:00   \n",
       "697     None        None             None 2023-12-11 19:11:55.833155+00:00   \n",
       "699     None        None             None 2023-12-11 19:11:55.833223+00:00   \n",
       "701     None        None             None 2023-12-11 19:11:55.833293+00:00   \n",
       "\n",
       "     created_by_id  \n",
       "id                  \n",
       "692              2  \n",
       "693              2  \n",
       "697              2  \n",
       "699              2  \n",
       "701              2  "
      ]
     },
     "execution_count": 6,
     "metadata": {},
     "output_type": "execute_result"
    }
   ],
   "source": [
    "organoids = lb.Tissue.filter(ontology_id__contains=\"organoid\").all()\n",
    "organoids.df()"
   ]
  },
  {
   "cell_type": "code",
   "execution_count": 27,
   "metadata": {
    "tags": []
   },
   "outputs": [
    {
     "name": "stdout",
     "output_type": "stream",
     "text": [
      "trophoblast (organoid)\n",
      "retina (organoid)\n",
      "endometrium (organoid)\n",
      "thymus (organoid)\n",
      "lung (organoid)\n"
     ]
    }
   ],
   "source": [
    "for record in organoids:\n",
    "    print(record.name)\n",
    "    ontology_id = record.ontology_id.split(\" \")[0]\n",
    "    tissue_record = lb.Tissue.from_bionty(ontology_id=ontology_id)\n",
    "    if tissue_record._state.adding:\n",
    "        tissue_record.save()\n",
    "    for f in tissue_record.artifacts.all():\n",
    "        f.labels.add(tissue_types.organoid, features.tissue_type)"
   ]
  },
  {
   "cell_type": "code",
   "execution_count": 29,
   "metadata": {
    "tags": []
   },
   "outputs": [
    {
     "data": {
      "text/plain": [
       "(10, {'lnschema_bionty.Tissue_files': 5, 'lnschema_bionty.Tissue': 5})"
      ]
     },
     "execution_count": 29,
     "metadata": {},
     "output_type": "execute_result"
    }
   ],
   "source": [
    "organoids.delete()"
   ]
  },
  {
   "cell_type": "code",
   "execution_count": 6,
   "metadata": {
    "tags": []
   },
   "outputs": [
    {
     "data": {
      "text/html": [
       "<div>\n",
       "<style scoped>\n",
       "    .dataframe tbody tr th:only-of-type {\n",
       "        vertical-align: middle;\n",
       "    }\n",
       "\n",
       "    .dataframe tbody tr th {\n",
       "        vertical-align: top;\n",
       "    }\n",
       "\n",
       "    .dataframe thead th {\n",
       "        text-align: right;\n",
       "    }\n",
       "</style>\n",
       "<table border=\"1\" class=\"dataframe\">\n",
       "  <thead>\n",
       "    <tr style=\"text-align: right;\">\n",
       "      <th></th>\n",
       "      <th>uid</th>\n",
       "      <th>name</th>\n",
       "      <th>ontology_id</th>\n",
       "      <th>abbr</th>\n",
       "      <th>synonyms</th>\n",
       "      <th>description</th>\n",
       "      <th>bionty_source_id</th>\n",
       "      <th>updated_at</th>\n",
       "      <th>created_by_id</th>\n",
       "    </tr>\n",
       "    <tr>\n",
       "      <th>id</th>\n",
       "      <th></th>\n",
       "      <th></th>\n",
       "      <th></th>\n",
       "      <th></th>\n",
       "      <th></th>\n",
       "      <th></th>\n",
       "      <th></th>\n",
       "      <th></th>\n",
       "      <th></th>\n",
       "    </tr>\n",
       "  </thead>\n",
       "  <tbody>\n",
       "    <tr>\n",
       "      <th>691</th>\n",
       "      <td>rIPA0OEl</td>\n",
       "      <td>T cell (cell culture)</td>\n",
       "      <td>CL:0000084 (cell culture)</td>\n",
       "      <td>None</td>\n",
       "      <td>None</td>\n",
       "      <td>None</td>\n",
       "      <td>None</td>\n",
       "      <td>2023-12-11 19:11:55.832859+00:00</td>\n",
       "      <td>2</td>\n",
       "    </tr>\n",
       "    <tr>\n",
       "      <th>689</th>\n",
       "      <td>vg9s890t</td>\n",
       "      <td>respiratory basal cell (cell culture)</td>\n",
       "      <td>CL:0002633 (cell culture)</td>\n",
       "      <td>None</td>\n",
       "      <td>None</td>\n",
       "      <td>None</td>\n",
       "      <td>None</td>\n",
       "      <td>2023-12-11 19:11:55.832782+00:00</td>\n",
       "      <td>2</td>\n",
       "    </tr>\n",
       "    <tr>\n",
       "      <th>690</th>\n",
       "      <td>lfIFQFR5</td>\n",
       "      <td>epithelial cell of lung (cell culture)</td>\n",
       "      <td>CL:0000082 (cell culture)</td>\n",
       "      <td>None</td>\n",
       "      <td>None</td>\n",
       "      <td>None</td>\n",
       "      <td>None</td>\n",
       "      <td>2023-12-11 19:11:55.832827+00:00</td>\n",
       "      <td>2</td>\n",
       "    </tr>\n",
       "    <tr>\n",
       "      <th>694</th>\n",
       "      <td>kWD0kb5x</td>\n",
       "      <td>brown preadipocyte (cell culture)</td>\n",
       "      <td>CL:0002335 (cell culture)</td>\n",
       "      <td>None</td>\n",
       "      <td>None</td>\n",
       "      <td>None</td>\n",
       "      <td>None</td>\n",
       "      <td>2023-12-11 19:11:55.833031+00:00</td>\n",
       "      <td>2</td>\n",
       "    </tr>\n",
       "    <tr>\n",
       "      <th>695</th>\n",
       "      <td>UoElNxsj</td>\n",
       "      <td>endothelial cell (cell culture)</td>\n",
       "      <td>CL:0000115 (cell culture)</td>\n",
       "      <td>None</td>\n",
       "      <td>None</td>\n",
       "      <td>None</td>\n",
       "      <td>None</td>\n",
       "      <td>2023-12-11 19:11:55.833064+00:00</td>\n",
       "      <td>2</td>\n",
       "    </tr>\n",
       "    <tr>\n",
       "      <th>696</th>\n",
       "      <td>7MzqN14b</td>\n",
       "      <td>bronchial epithelial cell (cell culture)</td>\n",
       "      <td>CL:0002328 (cell culture)</td>\n",
       "      <td>None</td>\n",
       "      <td>None</td>\n",
       "      <td>None</td>\n",
       "      <td>None</td>\n",
       "      <td>2023-12-11 19:11:55.833122+00:00</td>\n",
       "      <td>2</td>\n",
       "    </tr>\n",
       "    <tr>\n",
       "      <th>698</th>\n",
       "      <td>yPk6E1V8</td>\n",
       "      <td>epithelial cell of alveolus of lung (cell cult...</td>\n",
       "      <td>CL:0010003 (cell culture)</td>\n",
       "      <td>None</td>\n",
       "      <td>None</td>\n",
       "      <td>None</td>\n",
       "      <td>None</td>\n",
       "      <td>2023-12-11 19:11:55.833189+00:00</td>\n",
       "      <td>2</td>\n",
       "    </tr>\n",
       "    <tr>\n",
       "      <th>700</th>\n",
       "      <td>9ICArUMH</td>\n",
       "      <td>embryonic stem cell (cell culture)</td>\n",
       "      <td>CL:0002322 (cell culture)</td>\n",
       "      <td>None</td>\n",
       "      <td>None</td>\n",
       "      <td>None</td>\n",
       "      <td>None</td>\n",
       "      <td>2023-12-11 19:11:55.833256+00:00</td>\n",
       "      <td>2</td>\n",
       "    </tr>\n",
       "    <tr>\n",
       "      <th>702</th>\n",
       "      <td>w6gzNa8D</td>\n",
       "      <td>mammary gland epithelial cell (cell culture)</td>\n",
       "      <td>CL:0002327 (cell culture)</td>\n",
       "      <td>None</td>\n",
       "      <td>None</td>\n",
       "      <td>None</td>\n",
       "      <td>None</td>\n",
       "      <td>2023-12-11 19:11:55.833349+00:00</td>\n",
       "      <td>2</td>\n",
       "    </tr>\n",
       "    <tr>\n",
       "      <th>703</th>\n",
       "      <td>Ash8pGf8</td>\n",
       "      <td>trophoblast cell (cell culture)</td>\n",
       "      <td>CL:0000351 (cell culture)</td>\n",
       "      <td>None</td>\n",
       "      <td>None</td>\n",
       "      <td>None</td>\n",
       "      <td>None</td>\n",
       "      <td>2023-12-11 19:11:55.833382+00:00</td>\n",
       "      <td>2</td>\n",
       "    </tr>\n",
       "    <tr>\n",
       "      <th>704</th>\n",
       "      <td>CevFMDqD</td>\n",
       "      <td>preadipocyte (cell culture)</td>\n",
       "      <td>CL:0002334 (cell culture)</td>\n",
       "      <td>None</td>\n",
       "      <td>None</td>\n",
       "      <td>None</td>\n",
       "      <td>None</td>\n",
       "      <td>2023-12-11 19:11:55.833417+00:00</td>\n",
       "      <td>2</td>\n",
       "    </tr>\n",
       "    <tr>\n",
       "      <th>705</th>\n",
       "      <td>9YB5clqY</td>\n",
       "      <td>cultured cell (cell culture)</td>\n",
       "      <td>CL:0000010 (cell culture)</td>\n",
       "      <td>None</td>\n",
       "      <td>None</td>\n",
       "      <td>None</td>\n",
       "      <td>None</td>\n",
       "      <td>2023-12-11 19:11:55.833450+00:00</td>\n",
       "      <td>2</td>\n",
       "    </tr>\n",
       "  </tbody>\n",
       "</table>\n",
       "</div>"
      ],
      "text/plain": [
       "          uid                                               name  \\\n",
       "id                                                                 \n",
       "691  rIPA0OEl                              T cell (cell culture)   \n",
       "689  vg9s890t              respiratory basal cell (cell culture)   \n",
       "690  lfIFQFR5             epithelial cell of lung (cell culture)   \n",
       "694  kWD0kb5x                  brown preadipocyte (cell culture)   \n",
       "695  UoElNxsj                    endothelial cell (cell culture)   \n",
       "696  7MzqN14b           bronchial epithelial cell (cell culture)   \n",
       "698  yPk6E1V8  epithelial cell of alveolus of lung (cell cult...   \n",
       "700  9ICArUMH                 embryonic stem cell (cell culture)   \n",
       "702  w6gzNa8D       mammary gland epithelial cell (cell culture)   \n",
       "703  Ash8pGf8                    trophoblast cell (cell culture)   \n",
       "704  CevFMDqD                        preadipocyte (cell culture)   \n",
       "705  9YB5clqY                       cultured cell (cell culture)   \n",
       "\n",
       "                   ontology_id  abbr synonyms description bionty_source_id  \\\n",
       "id                                                                           \n",
       "691  CL:0000084 (cell culture)  None     None        None             None   \n",
       "689  CL:0002633 (cell culture)  None     None        None             None   \n",
       "690  CL:0000082 (cell culture)  None     None        None             None   \n",
       "694  CL:0002335 (cell culture)  None     None        None             None   \n",
       "695  CL:0000115 (cell culture)  None     None        None             None   \n",
       "696  CL:0002328 (cell culture)  None     None        None             None   \n",
       "698  CL:0010003 (cell culture)  None     None        None             None   \n",
       "700  CL:0002322 (cell culture)  None     None        None             None   \n",
       "702  CL:0002327 (cell culture)  None     None        None             None   \n",
       "703  CL:0000351 (cell culture)  None     None        None             None   \n",
       "704  CL:0002334 (cell culture)  None     None        None             None   \n",
       "705  CL:0000010 (cell culture)  None     None        None             None   \n",
       "\n",
       "                          updated_at  created_by_id  \n",
       "id                                                   \n",
       "691 2023-12-11 19:11:55.832859+00:00              2  \n",
       "689 2023-12-11 19:11:55.832782+00:00              2  \n",
       "690 2023-12-11 19:11:55.832827+00:00              2  \n",
       "694 2023-12-11 19:11:55.833031+00:00              2  \n",
       "695 2023-12-11 19:11:55.833064+00:00              2  \n",
       "696 2023-12-11 19:11:55.833122+00:00              2  \n",
       "698 2023-12-11 19:11:55.833189+00:00              2  \n",
       "700 2023-12-11 19:11:55.833256+00:00              2  \n",
       "702 2023-12-11 19:11:55.833349+00:00              2  \n",
       "703 2023-12-11 19:11:55.833382+00:00              2  \n",
       "704 2023-12-11 19:11:55.833417+00:00              2  \n",
       "705 2023-12-11 19:11:55.833450+00:00              2  "
      ]
     },
     "execution_count": 6,
     "metadata": {},
     "output_type": "execute_result"
    }
   ],
   "source": [
    "cell_cultures = lb.Tissue.filter(ontology_id__contains=\"cell culture\").all()\n",
    "cell_cultures.df()"
   ]
  },
  {
   "cell_type": "code",
   "execution_count": 11,
   "metadata": {
    "tags": []
   },
   "outputs": [
    {
     "name": "stdout",
     "output_type": "stream",
     "text": [
      "T cell (cell culture)\n",
      "respiratory basal cell (cell culture)\n",
      "epithelial cell of lung (cell culture)\n",
      "brown preadipocyte (cell culture)\n",
      "endothelial cell (cell culture)\n",
      "bronchial epithelial cell (cell culture)\n",
      "epithelial cell of alveolus of lung (cell culture)\n",
      "embryonic stem cell (cell culture)\n",
      "mammary gland epithelial cell (cell culture)\n",
      "trophoblast cell (cell culture)\n",
      "preadipocyte (cell culture)\n",
      "cultured cell (cell culture)\n"
     ]
    }
   ],
   "source": [
    "for record in cell_cultures:\n",
    "    print(record.name)\n",
    "    ontology_id = record.ontology_id.split(\" \")[0]\n",
    "    tissue_record = lb.CellType.from_bionty(ontology_id=ontology_id)\n",
    "    if tissue_record._state.adding:\n",
    "        tissue_record.save()\n",
    "    for f in tissue_record.artifacts.all():\n",
    "        f.labels.add(tissue_types.cell_culture, features.tissue_type)"
   ]
  },
  {
   "cell_type": "code",
   "execution_count": 14,
   "metadata": {
    "tags": []
   },
   "outputs": [
    {
     "data": {
      "text/plain": [
       "(0, {})"
      ]
     },
     "execution_count": 14,
     "metadata": {},
     "output_type": "execute_result"
    }
   ],
   "source": [
    "cell_cultures.delete()"
   ]
  },
  {
   "cell_type": "markdown",
   "metadata": {},
   "source": [
    "## Link metadata to collection"
   ]
  },
  {
   "cell_type": "code",
   "execution_count": 15,
   "metadata": {
    "tags": []
   },
   "outputs": [],
   "source": [
    "collection = ln.Collection.filter(name=\"cellxgene-census\", version=census_version).one()"
   ]
  },
  {
   "cell_type": "markdown",
   "metadata": {},
   "source": [
    "feature sets:"
   ]
  },
  {
   "cell_type": "code",
   "execution_count": 16,
   "metadata": {
    "tags": []
   },
   "outputs": [],
   "source": [
    "collection.feature_sets.add(\n",
    "    ln.FeatureSet.filter(name__contains=\"obs\").one(), through_defaults={\"slot\": \"obs\"}\n",
    ")\n",
    "collection.feature_sets.add(\n",
    "    ln.FeatureSet.filter(name__contains=\"ext\").one(),\n",
    "    through_defaults={\"slot\": \"external\"},\n",
    ")\n",
    "collection.feature_sets.add(\n",
    "    ln.FeatureSet.filter(name__contains=\"human\").one(),\n",
    "    through_defaults={\"slot\": \"var-human\"},\n",
    ")\n",
    "collection.feature_sets.add(\n",
    "    ln.FeatureSet.filter(name__contains=\"mouse\").one(),\n",
    "    through_defaults={\"slot\": \"var-mouse\"},\n",
    ")\n",
    "collection.feature_sets.add(\n",
    "    ln.FeatureSet.filter(name__contains=\"sars-2\").one(),\n",
    "    through_defaults={\"slot\": \"var-sars-cov-2\"},\n",
    ")\n",
    "collection.feature_sets.add(\n",
    "    ln.FeatureSet.filter(name__contains=\"synthetic construct\").one(),\n",
    "    through_defaults={\"slot\": \"var-ercc\"},\n",
    ")"
   ]
  },
  {
   "cell_type": "code",
   "execution_count": 17,
   "metadata": {
    "tags": []
   },
   "outputs": [],
   "source": [
    "is_donor = ln.ULabel.filter(name=\"is_donor\").one()\n",
    "donors = is_donor.children.all().filter().exclude(artifacts=None).all()\n",
    "is_collection = ln.ULabel.filter(name=\"is_collection\").one()\n",
    "collections = is_collection.children.all().filter().exclude(artifacts=None).all()\n",
    "is_suspension_type = ln.ULabel.filter(name=\"is_suspension_type\").one()\n",
    "stypes = is_suspension_type.children.all().filter().exclude(artifacts=None).all()\n",
    "is_tissue_type = ln.ULabel.filter(name=\"is_tissue_type\").one()\n",
    "tissue_types = is_tissue_type.children.all().filter().exclude(artifacts=None).all()\n",
    "\n",
    "collection.labels.add(donors, features.donor_id)\n",
    "collection.labels.add(collections, features.collection)\n",
    "collection.labels.add(stypes, features.suspension_type)\n",
    "collection.labels.add(tissue_types, features.tissue_type)\n",
    "\n",
    "collection.labels.add(\n",
    "    lb.ExperimentalFactor.filter().exclude(artifacts=None).all(), features.assay\n",
    ")\n",
    "collection.labels.add(\n",
    "    lb.CellType.filter().exclude(artifacts=None).all(), features.cell_type\n",
    ")\n",
    "collection.labels.add(\n",
    "    lb.DevelopmentalStage.filter().exclude(artifacts=None).all(),\n",
    "    features.development_stage,\n",
    ")\n",
    "collection.labels.add(\n",
    "    lb.Disease.filter().exclude(artifacts=None).all(), features.disease\n",
    ")\n",
    "collection.labels.add(\n",
    "    lb.Ethnicity.filter().exclude(artifacts=None).all(),\n",
    "    features.self_reported_ethnicity,\n",
    ")\n",
    "collection.labels.add(lb.Phenotype.filter().exclude(artifacts=None).all(), features.sex)\n",
    "collection.labels.add(lb.Tissue.filter().exclude(artifacts=None).all(), features.tissue)"
   ]
  },
  {
   "cell_type": "code",
   "execution_count": 18,
   "metadata": {
    "tags": []
   },
   "outputs": [
    {
     "name": "stdout",
     "output_type": "stream",
     "text": [
      "\u001b[1;92mDataset\u001b[0m(uid='vAGS2R54eJGhRV6VWCYb', name='cellxgene-census', version='2023-12-06', hash='ak5599uHQCLwQNFgRusr', visibility=1, updated_at=2023-12-11 18:32:57 UTC)\n",
      "\n",
      "\u001b[1;92mProvenance\u001b[0m:\n",
      "  📔 transform: Transform(uid='4hbVFAINneXCz8', name='Register files from Census release 2023-12-06', short_name='census-release-2023-12-06', version='0', type='notebook', updated_at=2023-12-11 15:39:44 UTC, created_by_id=2)\n",
      "  👣 run: Run(uid='yq2FEOYiiNwTV6HJRReE', run_at=2023-12-13 12:03:11 UTC, transform_id=1, created_by_id=2)\n",
      "  👤 created_by: User(uid='kmvZDIX9', handle='sunnyosun', name='Sunny Sun', updated_at=2023-12-12 10:05:51 UTC)\n",
      "\u001b[1;92mFeatures\u001b[0m:\n",
      "  \u001b[1mobs\u001b[0m: FeatureSet(uid='VOhmBdxtNgUpMiUUMR56', name='obs features', n=10, registry='core.Feature', hash='vRtez9Dl4oTSutrbWK13', updated_at=2023-12-11 18:45:36 UTC, created_by_id=2)\n",
      "    🔗 assay (36, \u001b[3mbionty.ExperimentalFactor\u001b[0m): 'BD Rhapsody Targeted mRNA', 'sci-RNA-seq3', '10x multiome', 'mCT-seq', 'DroNc-seq', 'MARS-seq', '10x 3' v3', 'Patch-seq', '10x 3' v2', 'Smart-seq2', ...\n",
      "    🔗 cell_type (757, \u001b[3mbionty.CellType\u001b[0m): 'amacrine cell', 'caudal ganglionic eminence derived GABAergic cortical interneuron', 'mesothelial cell', 'aortic endothelial cell', 'CD8-positive, alpha-beta cytokine secreting effector T cell', 'OFF-bipolar cell', 'T-helper 22 cell', 'myelocyte', 'bipolar neuron', 'glandular epithelial cell', ...\n",
      "    🔗 development_stage (229, \u001b[3mbionty.DevelopmentalStage\u001b[0m): '20-year-old human stage', '21st week post-fertilization human stage', 'fifth decade human stage', '38-year-old human stage', '69-year-old human stage', '47-year-old human stage', 'fourth LMP month human stage', 'Carnegie stage 19', 'sixth LMP month human stage', '9-month-old human stage', ...\n",
      "    🔗 disease (89, \u001b[3mbionty.Disease\u001b[0m): 'Wilms tumor', 'disease', 'hypersensitivity pneumonitis', 'respiratory failure', 'non-specific interstitial pneumonia', 'dilated cardiomyopathy', 'age related macular degeneration 7', 'adenocarcinoma', 'heart failure', 'breast carcinoma', ...\n",
      "    🔗 donor_id (7344, \u001b[3mcore.ULabel\u001b[0m): '209_210', '403316', 'Hrv43_fetus', 'S00039', 'mouse_SQUNI', 'HGR0000115', 'homosapiens_None_2023_None_sikkemalisa_002_d10_1101_2022_03_10_483747VUILD57', '726_727', 'mouse_SOYWW', 'Wu_Zhou_2021_P2', ...\n",
      "    🔗 self_reported_ethnicity (32, \u001b[3mbionty.Ethnicity\u001b[0m): 'Irish', 'Greater Middle Eastern  (Middle Eastern or North African or Persian)', 'Hispanic or Latin American', 'Jewish Israeli', 'Iraqi', 'American', 'Malaysian', 'European American', 'African', 'Asian', ...\n",
      "    🔗 sex (3, \u001b[3mbionty.Phenotype\u001b[0m): 'unknown', 'female', 'male'\n",
      "    🔗 suspension_type (3, \u001b[3mcore.ULabel\u001b[0m): 'nucleus', 'cell', 'na'\n",
      "    🔗 tissue (349, \u001b[3mbionty.Tissue\u001b[0m): 'rectus abdominis muscle', 'neocortex', 'uterus', 'vein', 'lymph node', 'cerebral cortex', 'lateral septal complex', 'lamina propria', 'renal pelvis', 'anterior cingulate gyrus', ...\n",
      "    🔗 tissue_type (2, \u001b[3mcore.ULabel\u001b[0m): 'organoid', 'cell culture'\n",
      "  \u001b[1mexternal\u001b[0m: FeatureSet(uid='R9sY9Bx6I7Rv4aIY9BPM', name='external features', n=2, registry='core.Feature', hash='yOyigQuaDFnr-gu0w0qy', updated_at=2023-12-11 18:45:51 UTC, created_by_id=2)\n",
      "    🔗 organism (0, \u001b[3mbionty.Organism\u001b[0m): \n",
      "    🔗 collection (172, \u001b[3mcore.ULabel\u001b[0m): 'COVID-19 mRNA vaccine elicits a potent adaptive immune response in the absence of persistent inflammation observed in SARS-CoV-2 infection', 'Cellular development and evolution of the mammalian cerebellum', 'Cells of the adult human heart', 'Single-cell RNA-seq reveals the cell-type-specific molecular and genetic associations to lupus', 'Resolving cellular and molecular diversity along the hippocampal anterior-to-posterior axis in humans', 'Single-cell RNA sequencing unifies developmental programs of Esophageal and Gastric Intestinal Metaplasia', 'Azimuth meta-analysis of human scRNA-seq datasets', 'Distinct microbial and immune niches of the human colon', 'Neuron type-specific effects of human aging and sex on DNA methylation and transcription', 'Integrated analysis of multimodal single-cell data', ...\n",
      "  \u001b[1mvar-human\u001b[0m: FeatureSet(uid='kBjFSvlpphT5JuOaj1P0', name='all human genes', n=60664, type='number', registry='bionty.Gene', hash='DOnOv7runwo4TOR5P_do', updated_at=2023-12-11 20:57:34 UTC, created_by_id=2)\n",
      "    'DDX11L1', 'WASH7P', 'MIR6859-1', 'MIR1302-2HG', 'MIR1302-2', 'FAM138A', 'OR4G4P', 'OR4G11P', 'OR4F5', 'None', 'None', 'CICP27', 'None', 'None', 'None', 'None', 'RNU6-1100P', 'None', 'DDX11L17', 'WASH9P', ...\n",
      "  \u001b[1mvar-mouse\u001b[0m: FeatureSet(uid='WR8zVlQ5Y4BwoisivGKr', name='all mouse genes', n=55416, type='number', registry='bionty.Gene', hash='umPHI2jmFQXA78M69WBD', updated_at=2023-12-11 19:39:46 UTC, created_by_id=2)\n",
      "    '4933401J01Rik', 'Gm26206', 'Xkr4', 'Gm18956', 'Gm37180', 'Gm37363', 'Gm37686', 'Gm1992', 'Gm37329', 'Gm7341', 'Gm38148', 'Gm19938', 'Gm10568', 'Gm38385', 'Gm27396', 'Gm37381', 'Rp1', 'Gm6101', 'Gm37483', 'Sox17', ...\n",
      "  \u001b[1mvar-sars-cov-2\u001b[0m: FeatureSet(uid='ptmoMIBtI0M9UQ8vtbm9', name='all sars-2 genes', n=12, type='number', registry='bionty.Gene', hash='CLCjr_EazVM8KxnA7jhc', updated_at=2023-12-11 19:39:52 UTC, created_by_id=2)\n",
      "    'ORF1ab_ENSSASG00005000002', 'ORF1ab_ENSSASG00005000003', 'S', 'ORF3a', 'E', 'M', 'ORF6', 'ORF7a', 'ORF7b', 'ORF8', 'N', 'ORF10'\n",
      "  \u001b[1mvar-ercc\u001b[0m: FeatureSet(uid='jo8TPYXhhk9FSaDnD8GU', name='all synthetic construct genes', n=92, type='number', registry='bionty.Gene', hash='rMxzn166gRykjOZFnWRy', updated_at=2023-12-11 19:39:52 UTC, created_by_id=2)\n",
      "    'ERCC-00002 (spike-in control)', 'ERCC-00003 (spike-in control)', 'ERCC-00004 (spike-in control)', 'ERCC-00009 (spike-in control)', 'ERCC-00012 (spike-in control)', 'ERCC-00013 (spike-in control)', 'ERCC-00014 (spike-in control)', 'ERCC-00016 (spike-in control)', 'ERCC-00017 (spike-in control)', 'ERCC-00019 (spike-in control)', 'ERCC-00022 (spike-in control)', 'ERCC-00024 (spike-in control)', 'ERCC-00025 (spike-in control)', 'ERCC-00028 (spike-in control)', 'ERCC-00031 (spike-in control)', 'ERCC-00033 (spike-in control)', 'ERCC-00034 (spike-in control)', 'ERCC-00035 (spike-in control)', 'ERCC-00039 (spike-in control)', 'ERCC-00040 (spike-in control)', ...\n",
      "\u001b[1;92mLabels\u001b[0m:\n",
      "  🏷️ tissues (349, \u001b[3mbionty.Tissue\u001b[0m): 'rectus abdominis muscle', 'neocortex', 'uterus', 'vein', 'lymph node', 'cerebral cortex', 'lateral septal complex', 'lamina propria', 'renal pelvis', 'anterior cingulate gyrus', ...\n",
      "  🏷️ cell_types (757, \u001b[3mbionty.CellType\u001b[0m): 'amacrine cell', 'caudal ganglionic eminence derived GABAergic cortical interneuron', 'mesothelial cell', 'aortic endothelial cell', 'CD8-positive, alpha-beta cytokine secreting effector T cell', 'OFF-bipolar cell', 'T-helper 22 cell', 'myelocyte', 'bipolar neuron', 'glandular epithelial cell', ...\n",
      "  🏷️ diseases (89, \u001b[3mbionty.Disease\u001b[0m): 'Wilms tumor', 'disease', 'hypersensitivity pneumonitis', 'respiratory failure', 'non-specific interstitial pneumonia', 'dilated cardiomyopathy', 'age related macular degeneration 7', 'adenocarcinoma', 'heart failure', 'breast carcinoma', ...\n",
      "  🏷️ phenotypes (3, \u001b[3mbionty.Phenotype\u001b[0m): 'unknown', 'female', 'male'\n",
      "  🏷️ experimental_factors (36, \u001b[3mbionty.ExperimentalFactor\u001b[0m): 'BD Rhapsody Targeted mRNA', 'sci-RNA-seq3', '10x multiome', 'mCT-seq', 'DroNc-seq', 'MARS-seq', '10x 3' v3', 'Patch-seq', '10x 3' v2', 'Smart-seq2', ...\n",
      "  🏷️ developmental_stages (229, \u001b[3mbionty.DevelopmentalStage\u001b[0m): '20-year-old human stage', '21st week post-fertilization human stage', 'fifth decade human stage', '38-year-old human stage', '69-year-old human stage', '47-year-old human stage', 'fourth LMP month human stage', 'Carnegie stage 19', 'sixth LMP month human stage', '9-month-old human stage', ...\n",
      "  🏷️ ethnicities (32, \u001b[3mbionty.Ethnicity\u001b[0m): 'Irish', 'Greater Middle Eastern  (Middle Eastern or North African or Persian)', 'Hispanic or Latin American', 'Jewish Israeli', 'Iraqi', 'American', 'Malaysian', 'European American', 'African', 'Asian', ...\n",
      "  🏷️ ulabels (7521, \u001b[3mcore.ULabel\u001b[0m): 'COVID-19 mRNA vaccine elicits a potent adaptive immune response in the absence of persistent inflammation observed in SARS-CoV-2 infection', 'Cellular development and evolution of the mammalian cerebellum', 'Cells of the adult human heart', 'Single-cell RNA-seq reveals the cell-type-specific molecular and genetic associations to lupus', 'Resolving cellular and molecular diversity along the hippocampal anterior-to-posterior axis in humans', 'Single-cell RNA sequencing unifies developmental programs of Esophageal and Gastric Intestinal Metaplasia', 'Azimuth meta-analysis of human scRNA-seq datasets', 'Distinct microbial and immune niches of the human colon', 'Neuron type-specific effects of human aging and sex on DNA methylation and transcription', 'Integrated analysis of multimodal single-cell data', ...\n",
      "  🏷️ artifacts (1139, \u001b[3mcore.Artifact\u001b[0m): 'cell-census/2023-12-06/h5ads/00099d5e-154f-4a7a-aa8d-fa30c8c0c43c.h5ad', 'cell-census/2023-12-06/h5ads/0041b9c3-6a49-4bf7-8514-9bc7190067a7.h5ad', 'cell-census/2023-12-06/h5ads/00476f9f-ebc1-4b72-b541-32f912ce36ea.h5ad', 'cell-census/2023-12-06/h5ads/00e5dedd-b9b7-43be-8c28-b0e5c6414a62.h5ad', 'cell-census/2023-12-06/h5ads/00ff600e-6e2e-4d76-846f-0eec4f0ae417.h5ad', 'cell-census/2023-12-06/h5ads/01209dce-3575-4bed-b1df-129f57fbc031.h5ad', 'cell-census/2023-12-06/h5ads/0129dbd9-a7d3-4f6b-96b9-1da155a93748.h5ad', 'cell-census/2023-12-06/h5ads/015c230d-650c-4527-870d-8a805849a382.h5ad', 'cell-census/2023-12-06/h5ads/019c7af2-c827-4454-9970-44d5e39ce068.h5ad', 'cell-census/2023-12-06/h5ads/01ad3cd7-3929-4654-84c0-6db05bd5fd59.h5ad', ...\n",
      "\n"
     ]
    }
   ],
   "source": [
    "collection.describe()"
   ]
  },
  {
   "cell_type": "markdown",
   "metadata": {},
   "source": [
    "## Register collections"
   ]
  },
  {
   "cell_type": "code",
   "execution_count": null,
   "metadata": {},
   "outputs": [],
   "source": [
    "for i, ulabel in enumerate(is_collection.children.all()):\n",
    "    if i % 20 == 0:\n",
    "        print(i)\n",
    "    artifacts = ulabel.artifacts.all()\n",
    "    if artifacts.count() == 0:\n",
    "        continue\n",
    "    if artifacts.count() == 1:\n",
    "        artifacts = artifacts[0]\n",
    "    collection = ln.Collection(\n",
    "        artifacts,\n",
    "        name=ulabel.name,\n",
    "        description=ulabel.description,\n",
    "        reference=ulabel.reference,\n",
    "        reference_type=\"CELLxGENE Collection ID\",\n",
    "    )\n",
    "    collection.save()"
   ]
  }
 ],
 "metadata": {
  "availableInstances": [
   {
    "_defaultOrder": 0,
    "_isFastLaunch": true,
    "category": "General purpose",
    "gpuNum": 0,
    "hideHardwareSpecs": false,
    "memoryGiB": 4,
    "name": "ml.t3.medium",
    "vcpuNum": 2
   },
   {
    "_defaultOrder": 1,
    "_isFastLaunch": false,
    "category": "General purpose",
    "gpuNum": 0,
    "hideHardwareSpecs": false,
    "memoryGiB": 8,
    "name": "ml.t3.large",
    "vcpuNum": 2
   },
   {
    "_defaultOrder": 2,
    "_isFastLaunch": false,
    "category": "General purpose",
    "gpuNum": 0,
    "hideHardwareSpecs": false,
    "memoryGiB": 16,
    "name": "ml.t3.xlarge",
    "vcpuNum": 4
   },
   {
    "_defaultOrder": 3,
    "_isFastLaunch": false,
    "category": "General purpose",
    "gpuNum": 0,
    "hideHardwareSpecs": false,
    "memoryGiB": 32,
    "name": "ml.t3.2xlarge",
    "vcpuNum": 8
   },
   {
    "_defaultOrder": 4,
    "_isFastLaunch": true,
    "category": "General purpose",
    "gpuNum": 0,
    "hideHardwareSpecs": false,
    "memoryGiB": 8,
    "name": "ml.m5.large",
    "vcpuNum": 2
   },
   {
    "_defaultOrder": 5,
    "_isFastLaunch": false,
    "category": "General purpose",
    "gpuNum": 0,
    "hideHardwareSpecs": false,
    "memoryGiB": 16,
    "name": "ml.m5.xlarge",
    "vcpuNum": 4
   },
   {
    "_defaultOrder": 6,
    "_isFastLaunch": false,
    "category": "General purpose",
    "gpuNum": 0,
    "hideHardwareSpecs": false,
    "memoryGiB": 32,
    "name": "ml.m5.2xlarge",
    "vcpuNum": 8
   },
   {
    "_defaultOrder": 7,
    "_isFastLaunch": false,
    "category": "General purpose",
    "gpuNum": 0,
    "hideHardwareSpecs": false,
    "memoryGiB": 64,
    "name": "ml.m5.4xlarge",
    "vcpuNum": 16
   },
   {
    "_defaultOrder": 8,
    "_isFastLaunch": false,
    "category": "General purpose",
    "gpuNum": 0,
    "hideHardwareSpecs": false,
    "memoryGiB": 128,
    "name": "ml.m5.8xlarge",
    "vcpuNum": 32
   },
   {
    "_defaultOrder": 9,
    "_isFastLaunch": false,
    "category": "General purpose",
    "gpuNum": 0,
    "hideHardwareSpecs": false,
    "memoryGiB": 192,
    "name": "ml.m5.12xlarge",
    "vcpuNum": 48
   },
   {
    "_defaultOrder": 10,
    "_isFastLaunch": false,
    "category": "General purpose",
    "gpuNum": 0,
    "hideHardwareSpecs": false,
    "memoryGiB": 256,
    "name": "ml.m5.16xlarge",
    "vcpuNum": 64
   },
   {
    "_defaultOrder": 11,
    "_isFastLaunch": false,
    "category": "General purpose",
    "gpuNum": 0,
    "hideHardwareSpecs": false,
    "memoryGiB": 384,
    "name": "ml.m5.24xlarge",
    "vcpuNum": 96
   },
   {
    "_defaultOrder": 12,
    "_isFastLaunch": false,
    "category": "General purpose",
    "gpuNum": 0,
    "hideHardwareSpecs": false,
    "memoryGiB": 8,
    "name": "ml.m5d.large",
    "vcpuNum": 2
   },
   {
    "_defaultOrder": 13,
    "_isFastLaunch": false,
    "category": "General purpose",
    "gpuNum": 0,
    "hideHardwareSpecs": false,
    "memoryGiB": 16,
    "name": "ml.m5d.xlarge",
    "vcpuNum": 4
   },
   {
    "_defaultOrder": 14,
    "_isFastLaunch": false,
    "category": "General purpose",
    "gpuNum": 0,
    "hideHardwareSpecs": false,
    "memoryGiB": 32,
    "name": "ml.m5d.2xlarge",
    "vcpuNum": 8
   },
   {
    "_defaultOrder": 15,
    "_isFastLaunch": false,
    "category": "General purpose",
    "gpuNum": 0,
    "hideHardwareSpecs": false,
    "memoryGiB": 64,
    "name": "ml.m5d.4xlarge",
    "vcpuNum": 16
   },
   {
    "_defaultOrder": 16,
    "_isFastLaunch": false,
    "category": "General purpose",
    "gpuNum": 0,
    "hideHardwareSpecs": false,
    "memoryGiB": 128,
    "name": "ml.m5d.8xlarge",
    "vcpuNum": 32
   },
   {
    "_defaultOrder": 17,
    "_isFastLaunch": false,
    "category": "General purpose",
    "gpuNum": 0,
    "hideHardwareSpecs": false,
    "memoryGiB": 192,
    "name": "ml.m5d.12xlarge",
    "vcpuNum": 48
   },
   {
    "_defaultOrder": 18,
    "_isFastLaunch": false,
    "category": "General purpose",
    "gpuNum": 0,
    "hideHardwareSpecs": false,
    "memoryGiB": 256,
    "name": "ml.m5d.16xlarge",
    "vcpuNum": 64
   },
   {
    "_defaultOrder": 19,
    "_isFastLaunch": false,
    "category": "General purpose",
    "gpuNum": 0,
    "hideHardwareSpecs": false,
    "memoryGiB": 384,
    "name": "ml.m5d.24xlarge",
    "vcpuNum": 96
   },
   {
    "_defaultOrder": 20,
    "_isFastLaunch": false,
    "category": "General purpose",
    "gpuNum": 0,
    "hideHardwareSpecs": true,
    "memoryGiB": 0,
    "name": "ml.geospatial.interactive",
    "supportedImageNames": [
     "sagemaker-geospatial-v1-0"
    ],
    "vcpuNum": 0
   },
   {
    "_defaultOrder": 21,
    "_isFastLaunch": true,
    "category": "Compute optimized",
    "gpuNum": 0,
    "hideHardwareSpecs": false,
    "memoryGiB": 4,
    "name": "ml.c5.large",
    "vcpuNum": 2
   },
   {
    "_defaultOrder": 22,
    "_isFastLaunch": false,
    "category": "Compute optimized",
    "gpuNum": 0,
    "hideHardwareSpecs": false,
    "memoryGiB": 8,
    "name": "ml.c5.xlarge",
    "vcpuNum": 4
   },
   {
    "_defaultOrder": 23,
    "_isFastLaunch": false,
    "category": "Compute optimized",
    "gpuNum": 0,
    "hideHardwareSpecs": false,
    "memoryGiB": 16,
    "name": "ml.c5.2xlarge",
    "vcpuNum": 8
   },
   {
    "_defaultOrder": 24,
    "_isFastLaunch": false,
    "category": "Compute optimized",
    "gpuNum": 0,
    "hideHardwareSpecs": false,
    "memoryGiB": 32,
    "name": "ml.c5.4xlarge",
    "vcpuNum": 16
   },
   {
    "_defaultOrder": 25,
    "_isFastLaunch": false,
    "category": "Compute optimized",
    "gpuNum": 0,
    "hideHardwareSpecs": false,
    "memoryGiB": 72,
    "name": "ml.c5.9xlarge",
    "vcpuNum": 36
   },
   {
    "_defaultOrder": 26,
    "_isFastLaunch": false,
    "category": "Compute optimized",
    "gpuNum": 0,
    "hideHardwareSpecs": false,
    "memoryGiB": 96,
    "name": "ml.c5.12xlarge",
    "vcpuNum": 48
   },
   {
    "_defaultOrder": 27,
    "_isFastLaunch": false,
    "category": "Compute optimized",
    "gpuNum": 0,
    "hideHardwareSpecs": false,
    "memoryGiB": 144,
    "name": "ml.c5.18xlarge",
    "vcpuNum": 72
   },
   {
    "_defaultOrder": 28,
    "_isFastLaunch": false,
    "category": "Compute optimized",
    "gpuNum": 0,
    "hideHardwareSpecs": false,
    "memoryGiB": 192,
    "name": "ml.c5.24xlarge",
    "vcpuNum": 96
   },
   {
    "_defaultOrder": 29,
    "_isFastLaunch": true,
    "category": "Accelerated computing",
    "gpuNum": 1,
    "hideHardwareSpecs": false,
    "memoryGiB": 16,
    "name": "ml.g4dn.xlarge",
    "vcpuNum": 4
   },
   {
    "_defaultOrder": 30,
    "_isFastLaunch": false,
    "category": "Accelerated computing",
    "gpuNum": 1,
    "hideHardwareSpecs": false,
    "memoryGiB": 32,
    "name": "ml.g4dn.2xlarge",
    "vcpuNum": 8
   },
   {
    "_defaultOrder": 31,
    "_isFastLaunch": false,
    "category": "Accelerated computing",
    "gpuNum": 1,
    "hideHardwareSpecs": false,
    "memoryGiB": 64,
    "name": "ml.g4dn.4xlarge",
    "vcpuNum": 16
   },
   {
    "_defaultOrder": 32,
    "_isFastLaunch": false,
    "category": "Accelerated computing",
    "gpuNum": 1,
    "hideHardwareSpecs": false,
    "memoryGiB": 128,
    "name": "ml.g4dn.8xlarge",
    "vcpuNum": 32
   },
   {
    "_defaultOrder": 33,
    "_isFastLaunch": false,
    "category": "Accelerated computing",
    "gpuNum": 4,
    "hideHardwareSpecs": false,
    "memoryGiB": 192,
    "name": "ml.g4dn.12xlarge",
    "vcpuNum": 48
   },
   {
    "_defaultOrder": 34,
    "_isFastLaunch": false,
    "category": "Accelerated computing",
    "gpuNum": 1,
    "hideHardwareSpecs": false,
    "memoryGiB": 256,
    "name": "ml.g4dn.16xlarge",
    "vcpuNum": 64
   },
   {
    "_defaultOrder": 35,
    "_isFastLaunch": false,
    "category": "Accelerated computing",
    "gpuNum": 1,
    "hideHardwareSpecs": false,
    "memoryGiB": 61,
    "name": "ml.p3.2xlarge",
    "vcpuNum": 8
   },
   {
    "_defaultOrder": 36,
    "_isFastLaunch": false,
    "category": "Accelerated computing",
    "gpuNum": 4,
    "hideHardwareSpecs": false,
    "memoryGiB": 244,
    "name": "ml.p3.8xlarge",
    "vcpuNum": 32
   },
   {
    "_defaultOrder": 37,
    "_isFastLaunch": false,
    "category": "Accelerated computing",
    "gpuNum": 8,
    "hideHardwareSpecs": false,
    "memoryGiB": 488,
    "name": "ml.p3.16xlarge",
    "vcpuNum": 64
   },
   {
    "_defaultOrder": 38,
    "_isFastLaunch": false,
    "category": "Accelerated computing",
    "gpuNum": 8,
    "hideHardwareSpecs": false,
    "memoryGiB": 768,
    "name": "ml.p3dn.24xlarge",
    "vcpuNum": 96
   },
   {
    "_defaultOrder": 39,
    "_isFastLaunch": false,
    "category": "Memory Optimized",
    "gpuNum": 0,
    "hideHardwareSpecs": false,
    "memoryGiB": 16,
    "name": "ml.r5.large",
    "vcpuNum": 2
   },
   {
    "_defaultOrder": 40,
    "_isFastLaunch": false,
    "category": "Memory Optimized",
    "gpuNum": 0,
    "hideHardwareSpecs": false,
    "memoryGiB": 32,
    "name": "ml.r5.xlarge",
    "vcpuNum": 4
   },
   {
    "_defaultOrder": 41,
    "_isFastLaunch": false,
    "category": "Memory Optimized",
    "gpuNum": 0,
    "hideHardwareSpecs": false,
    "memoryGiB": 64,
    "name": "ml.r5.2xlarge",
    "vcpuNum": 8
   },
   {
    "_defaultOrder": 42,
    "_isFastLaunch": false,
    "category": "Memory Optimized",
    "gpuNum": 0,
    "hideHardwareSpecs": false,
    "memoryGiB": 128,
    "name": "ml.r5.4xlarge",
    "vcpuNum": 16
   },
   {
    "_defaultOrder": 43,
    "_isFastLaunch": false,
    "category": "Memory Optimized",
    "gpuNum": 0,
    "hideHardwareSpecs": false,
    "memoryGiB": 256,
    "name": "ml.r5.8xlarge",
    "vcpuNum": 32
   },
   {
    "_defaultOrder": 44,
    "_isFastLaunch": false,
    "category": "Memory Optimized",
    "gpuNum": 0,
    "hideHardwareSpecs": false,
    "memoryGiB": 384,
    "name": "ml.r5.12xlarge",
    "vcpuNum": 48
   },
   {
    "_defaultOrder": 45,
    "_isFastLaunch": false,
    "category": "Memory Optimized",
    "gpuNum": 0,
    "hideHardwareSpecs": false,
    "memoryGiB": 512,
    "name": "ml.r5.16xlarge",
    "vcpuNum": 64
   },
   {
    "_defaultOrder": 46,
    "_isFastLaunch": false,
    "category": "Memory Optimized",
    "gpuNum": 0,
    "hideHardwareSpecs": false,
    "memoryGiB": 768,
    "name": "ml.r5.24xlarge",
    "vcpuNum": 96
   },
   {
    "_defaultOrder": 47,
    "_isFastLaunch": false,
    "category": "Accelerated computing",
    "gpuNum": 1,
    "hideHardwareSpecs": false,
    "memoryGiB": 16,
    "name": "ml.g5.xlarge",
    "vcpuNum": 4
   },
   {
    "_defaultOrder": 48,
    "_isFastLaunch": false,
    "category": "Accelerated computing",
    "gpuNum": 1,
    "hideHardwareSpecs": false,
    "memoryGiB": 32,
    "name": "ml.g5.2xlarge",
    "vcpuNum": 8
   },
   {
    "_defaultOrder": 49,
    "_isFastLaunch": false,
    "category": "Accelerated computing",
    "gpuNum": 1,
    "hideHardwareSpecs": false,
    "memoryGiB": 64,
    "name": "ml.g5.4xlarge",
    "vcpuNum": 16
   },
   {
    "_defaultOrder": 50,
    "_isFastLaunch": false,
    "category": "Accelerated computing",
    "gpuNum": 1,
    "hideHardwareSpecs": false,
    "memoryGiB": 128,
    "name": "ml.g5.8xlarge",
    "vcpuNum": 32
   },
   {
    "_defaultOrder": 51,
    "_isFastLaunch": false,
    "category": "Accelerated computing",
    "gpuNum": 1,
    "hideHardwareSpecs": false,
    "memoryGiB": 256,
    "name": "ml.g5.16xlarge",
    "vcpuNum": 64
   },
   {
    "_defaultOrder": 52,
    "_isFastLaunch": false,
    "category": "Accelerated computing",
    "gpuNum": 4,
    "hideHardwareSpecs": false,
    "memoryGiB": 192,
    "name": "ml.g5.12xlarge",
    "vcpuNum": 48
   },
   {
    "_defaultOrder": 53,
    "_isFastLaunch": false,
    "category": "Accelerated computing",
    "gpuNum": 4,
    "hideHardwareSpecs": false,
    "memoryGiB": 384,
    "name": "ml.g5.24xlarge",
    "vcpuNum": 96
   },
   {
    "_defaultOrder": 54,
    "_isFastLaunch": false,
    "category": "Accelerated computing",
    "gpuNum": 8,
    "hideHardwareSpecs": false,
    "memoryGiB": 768,
    "name": "ml.g5.48xlarge",
    "vcpuNum": 192
   },
   {
    "_defaultOrder": 55,
    "_isFastLaunch": false,
    "category": "Accelerated computing",
    "gpuNum": 8,
    "hideHardwareSpecs": false,
    "memoryGiB": 1152,
    "name": "ml.p4d.24xlarge",
    "vcpuNum": 96
   },
   {
    "_defaultOrder": 56,
    "_isFastLaunch": false,
    "category": "Accelerated computing",
    "gpuNum": 8,
    "hideHardwareSpecs": false,
    "memoryGiB": 1152,
    "name": "ml.p4de.24xlarge",
    "vcpuNum": 96
   },
   {
    "_defaultOrder": 57,
    "_isFastLaunch": false,
    "category": "Accelerated computing",
    "gpuNum": 0,
    "hideHardwareSpecs": false,
    "memoryGiB": 32,
    "name": "ml.trn1.2xlarge",
    "vcpuNum": 8
   },
   {
    "_defaultOrder": 58,
    "_isFastLaunch": false,
    "category": "Accelerated computing",
    "gpuNum": 0,
    "hideHardwareSpecs": false,
    "memoryGiB": 512,
    "name": "ml.trn1.32xlarge",
    "vcpuNum": 128
   },
   {
    "_defaultOrder": 59,
    "_isFastLaunch": false,
    "category": "Accelerated computing",
    "gpuNum": 0,
    "hideHardwareSpecs": false,
    "memoryGiB": 512,
    "name": "ml.trn1n.32xlarge",
    "vcpuNum": 128
   }
  ],
  "instance_type": "ml.t3.medium",
  "kernelspec": {
   "display_name": "py39",
   "language": "python",
   "name": "python3"
  },
  "language_info": {
   "codemirror_mode": {
    "name": "ipython",
    "version": 3
   },
   "file_extension": ".py",
   "mimetype": "text/x-python",
   "name": "python",
   "nbconvert_exporter": "python",
   "pygments_lexer": "ipython3",
   "version": "3.9.16"
  },
  "nbproject": {
   "id": "4hbVFAINneXC",
   "parent": null,
   "pypackage": null,
   "time_init": "2023-11-20T21:25:14.338427+00:00",
   "user_handle": null,
   "user_id": null,
   "user_name": null,
   "version": "0"
  }
 },
 "nbformat": 4,
 "nbformat_minor": 4
}
