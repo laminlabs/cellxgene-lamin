{
 "cells": [
  {
   "cell_type": "markdown",
   "id": "3e3a6087-4dac-48a6-b0e4-a75ee4378dd9",
   "metadata": {},
   "source": [
    "# Census release 2024-07-01 (LTS)"
   ]
  },
  {
   "cell_type": "code",
   "execution_count": 1,
   "id": "bfa4b664-dcea-4215-a559-c92b37617b31",
   "metadata": {
    "tags": []
   },
   "outputs": [
    {
     "name": "stdout",
     "output_type": "stream",
     "text": [
      "💡 connected lamindb: laminlabs/cellxgene\n"
     ]
    }
   ],
   "source": [
    "import lamindb as ln\n",
    "import bionty as bt\n",
    "from cellxgene_lamin import get_datasets_from_cxg, get_collections_from_cxg\n",
    "\n",
    "ln.settings.verbosity = \"hint\""
   ]
  },
  {
   "cell_type": "code",
   "execution_count": 2,
   "id": "1c5de4ab-ba6a-4e11-ae16-49826c074bd0",
   "metadata": {
    "tags": []
   },
   "outputs": [],
   "source": [
    "census_version = \"2024-07-01\"\n",
    "previous_release = \"2023-12-15\""
   ]
  },
  {
   "cell_type": "code",
   "execution_count": 3,
   "id": "94744efd-ed8b-464e-ac46-2f14f543fa69",
   "metadata": {
    "tags": []
   },
   "outputs": [
    {
     "data": {
      "text/plain": [
       "S3Path('s3://cellxgene-data-public/cell-census/2024-07-01/h5ads')"
      ]
     },
     "execution_count": 3,
     "metadata": {},
     "output_type": "execute_result"
    }
   ],
   "source": [
    "s3path = f\"s3://cellxgene-data-public/cell-census/{census_version}/h5ads\"\n",
    "ln.UPath(s3path)"
   ]
  },
  {
   "cell_type": "code",
   "execution_count": 4,
   "id": "12447dc1-67ce-4cbe-9e3a-4a15c55287a6",
   "metadata": {
    "scrolled": true
   },
   "outputs": [
    {
     "name": "stdout",
     "output_type": "stream",
     "text": [
      "0 sub-directories & 812 files with suffixes '.h5ad'\n",
      "s3://cellxgene-data-public/cell-census/2024-07-01/h5ads\n",
      "├── 0041b9c3-6a49-4bf7-8514-9bc7190067a7.h5ad\n",
      "├── 00476f9f-ebc1-4b72-b541-32f912ce36ea.h5ad\n",
      "├── 00e5dedd-b9b7-43be-8c28-b0e5c6414a62.h5ad\n",
      "├── 00ff600e-6e2e-4d76-846f-0eec4f0ae417.h5ad\n",
      "├── 01209dce-3575-4bed-b1df-129f57fbc031.h5ad\n",
      "├── 0129dbd9-a7d3-4f6b-96b9-1da155a93748.h5ad\n",
      "├── 015c230d-650c-4527-870d-8a805849a382.h5ad\n",
      "├── 019c7af2-c827-4454-9970-44d5e39ce068.h5ad\n",
      "├── 01ad3cd7-3929-4654-84c0-6db05bd5fd59.h5ad\n",
      "├── 01c93cf6-b695-4e30-a26e-121ae8b16a9e.h5ad\n",
      "├── 02792605-4760-4023-82ad-40fc4458a5db.h5ad\n",
      "├── 03181d87-4769-41e7-8c39-d9a81835f0d2.h5ad\n",
      "├── 0325478a-9b52-45b5-b40a-2e2ab0d72eb1.h5ad\n",
      "├── 0374f03c-62e2-4859-8a14-acb00b0627d5.h5ad\n",
      "├── 0380ddce-c31b-422a-88fe-34a1945bd949.h5ad\n",
      "├── 03c0e874-f984-4e6c-9d2a-26ef8507dbbc.h5ad\n",
      "├── 03c544fb-a103-4d18-9230-eae9cfee3af2.h5ad\n",
      "├── 03d38670-1444-4001-bc53-9936e61d9b20.h5ad\n",
      "├── 03d5794d-cde9-4769-a1a9-b3899d2b1d87.h5ad\n",
      "├── 047d57f2-4d14-45de-aa98-336c6f583750.h5ad\n",
      "├── 04a23820-ffa8-4be5-9f65-64db15631d1e.h5ad\n",
      "├── 04b0eb97-d816-44bb-93a5-8b2968791aa0.h5ad\n",
      "├── 04c0bdd8-840f-488e-b72d-2a1229bc65db.h5ad\n",
      "├── 04c94a7d-1133-42c9-bb48-c697bd302a8d.h5ad\n",
      "├── 04d87de6-c20a-4186-8884-f47dba20b0a4.h5ad\n",
      "├── 055ca631-6ffb-40de-815e-b931e10718c0.h5ad\n",
      "├── 05e6f6e3-0473-4b85-9f94-bcc5f1b5e04b.h5ad\n",
      "├── 066943a2-fdac-4b29-b348-40cede398e4e.h5ad\n",
      "├── 06b91002-4d3d-4d2e-8484-20c3b31e232c.h5ad\n",
      "├── 06ef6b36-6c9b-4e10-8a94-d0baf274276e.h5ad\n",
      "├── 07428d73-fdea-4bd4-a801-94b00c4d961c.h5ad\n",
      "├── 07760522-707a-4a1c-8891-dbd1226d6b27.h5ad\n",
      "├── 07854d9c-5375-4a9b-ac34-fa919d3c3686.h5ad\n",
      "├── 07a4e406-3a76-47a3-a21c-a28d7ce7984a.h5ad\n",
      "├── 07b1d7c8-5c2e-42f7-9246-26f746cd6013.h5ad\n",
      "├── 07f14e26-ff0d-43c4-bfe3-bf1a94dc73c3.h5ad\n",
      "├── 08073b32-d389-41f4-a4fd-616de76915ab.h5ad\n",
      "├── 0895c838-e550-48a3-a777-dbcd35d30272.h5ad\n",
      "├── 090da8ea-46e8-40df-bffc-1f78e1538d27.h5ad\n",
      "├── 093d3bfe-6f0f-4ac0-a7a1-829f94d0a49f.h5ad\n",
      "├── 095940cb-7422-4510-96e2-cbafd961eb88.h5ad\n",
      "├── 0a21f80c-e7a3-465b-8aba-fdda2b4c36bc.h5ad\n",
      "├── 0b4a15a7-4e9e-4555-9733-2423e5c66469.h5ad\n",
      "├── 0b75c598-0893-4216-afe8-5414cab7739d.h5ad\n",
      "├── 0ba16f4b-cb87-4fa3-9363-19fc51eec6e7.h5ad\n",
      "├── 0ba636a1-4754-4786-a8be-7ab3cf760fd6.h5ad\n",
      "├── 0bc7235a-ae5a-479d-a487-510435377e55.h5ad\n",
      "├── 0bcda669-c2ab-484f-a87f-4e21f7a5bcab.h5ad\n",
      "├── 0bce33ed-455c-4e12-93f8-b7b04a2de4a1.h5ad\n",
      "├── 0bd1a1de-3aee-40e0-b2ec-86c7a30c7149.h5ad\n",
      "├── 0c86f0de-ddcb-454c-b00b-37feb69e7da1.h5ad\n",
      "├── 0c9a8cfb-6649-4d52-b418-6d8e56bd7afe.h5ad\n",
      "├── 0ced5e76-6040-47ff-8a72-93847965afc0.h5ad\n",
      "├── 0d2ee4ac-05ee-40b2-afb6-ebb584caa867.h5ad\n",
      "├── 0d7f4c06-a6bd-47d2-a42b-3a7196704f77.h5ad\n",
      "├── 0e9d47fb-89b1-42d8-b426-2c7630b5f5fa.h5ad\n",
      "├── 0eccaf0c-19d2-4900-9962-899378adf8be.h5ad\n",
      "├── 0ed60482-a34f-4268-b576-d69cc30210f6.h5ad\n",
      "├── 0ee5ae70-c3f5-473f-bd1c-287f4690ffc5.h5ad\n",
      "├── 0f4865d5-8000-4f68-8ac7-f5efea9e5e70.h5ad\n",
      "├── 0fb7916e-7a68-4a4c-a441-3ab3989f29a7.h5ad\n",
      "├── 0fdb6122-4600-40f0-a703-2da47cc7080d.h5ad\n",
      "├── 1009f384-b12d-448e-ba9f-1b7d2ecfbb4e.h5ad\n",
      "├── 100c6145-7b0e-4ba6-81c1-ffebed0d1ac4.h5ad\n",
      "├── 105c7dad-0468-4628-a5be-2bb42c6a8ae4.h5ad\n",
      "├── 1062c0f2-2a44-4cf9-a7c8-b5ed58b4728d.h5ad\n",
      "├── 1185a7d3-a9c1-4280-9ba5-d61895b15cac.h5ad\n",
      "├── 1196334f-a441-474a-95ee-400780941690.h5ad\n",
      "├── 11a3244a-6b2f-43ca-95a5-d2cd95c482d2.h5ad\n",
      "├── 11ef37ee-2173-458e-aab8-7fe35da8e47b.h5ad\n",
      "├── 11ff73e8-d3e4-4445-9309-477a2c5be6f6.h5ad\n",
      "├── 12194ced-8086-458e-84a8-e2ab935d8db1.h5ad\n",
      "├── 124744b8-4681-474a-9894-683896122708.h5ad\n",
      "├── 1252c5fb-945f-42d6-b1a8-8a3bd864384b.h5ad\n",
      "├── 12967895-3d58-4e93-be2c-4e1bcf4388d5.h5ad\n",
      "├── 1304e107-0f06-4d33-b634-d95ed986d02b.h5ad\n",
      "├── 138423b0-4fde-47d2-acac-c2de8082a152.h5ad\n",
      "├── 1398f3a9-b48b-431a-a5f2-d4a1931c4b45.h5ad\n",
      "├── 13b61a7d-5605-4948-ba48-02c588960143.h5ad\n",
      "├── 14363b6e-3428-45b0-8704-10fd5d6316df.h5ad\n",
      "├── 146216e1-ec30-4fee-a1fb-25defe801e2d.h5ad\n",
      "├── 1492eb6b-7d50-4c4d-94ac-c801a7d5555c.h5ad\n",
      "├── 170ce19f-7a2f-4926-a1cc-adcad99e7474.h5ad\n",
      "├── 182f6a56-7360-4924-a74e-1772e07b3031.h5ad\n",
      "├── 18500fcd-9960-49cb-8a8e-7d868dc14efe.h5ad\n",
      "├── 1873a18a-66fd-4a4d-8277-a872c93f5b59.h5ad\n",
      "├── 18e2a8c5-33f7-455e-a58a-b2ba6921db27.h5ad\n",
      "├── 18eb630b-a754-4111-8cd4-c24ec80aa5ec.h5ad\n",
      "├── 19b21f40-db42-4a71-a0d6-913e83b17784.h5ad\n",
      "├── 19e46756-9100-4e01-8b0e-23b557558a4c.h5ad\n",
      "├── 1a018108-b4b6-457b-ba15-046d5e98c169.h5ad\n",
      "├── 1a0610d8-1339-479b-b261-7fb586c3dab9.h5ad\n",
      "├── 1a2e3350-28a8-4f49-b33c-5b67ceb001f6.h5ad\n",
      "├── 1a38e762-2465-418f-b81c-6a4bce261c34.h5ad\n",
      "├── 1a434263-2aa5-4fd9-a1f3-1c4a2a8fb771.h5ad\n",
      "├── 1a7e99fe-d5b6-44d7-aa50-c6ef6ab29761.h5ad\n",
      "├── 1b767f95-d0a0-4a3d-b394-cc665d86c3dc.h5ad\n",
      "├── 1b9d8702-5af8-4142-85ed-020eb06ec4f6.h5ad\n",
      "├── 1c05b7ae-4dfb-4c1b-a441-4b23c04b169e.h5ad\n",
      "...\n"
     ]
    }
   ],
   "source": [
    "ln.UPath(s3path).view_tree()"
   ]
  },
  {
   "cell_type": "code",
   "execution_count": 5,
   "id": "6c903126-b7b6-4af2-8056-e147b1038a4a",
   "metadata": {
    "tags": []
   },
   "outputs": [
    {
     "name": "stdout",
     "output_type": "stream",
     "text": [
      "💡 notebook imports: bionty==0.43.1 cellxgene_lamin==0.0.1 lamindb==0.74.1\n",
      "💡 loaded: Transform(uid='MIbO3QeJERcy5zKv', version='1', name='Census release 2024-07-01 (LTS)', key='cencus-release-2024-07-01-LTS', type='notebook', created_by_id=1, updated_at='2024-07-16 12:49:15 UTC')\n",
      "💡 loaded: Run(uid='1QV6wwhlHfLi2vMjjfOg', started_at='2024-07-16 12:49:41 UTC', finished_at='2024-07-16 12:26:21 UTC', is_consecutive=False, transform_id=22, created_by_id=1, environment_id=3663)\n",
      "💡 tracked pip freeze > /Users/sunnysun/Library/Caches/lamindb/run_env_pip_1QV6wwhlHfLi2vMjjfOg.txt\n"
     ]
    },
    {
     "data": {
      "text/plain": [
       "Run(uid='1QV6wwhlHfLi2vMjjfOg', started_at='2024-07-16 12:49:41 UTC', finished_at='2024-07-16 12:26:21 UTC', is_consecutive=True, transform_id=22, created_by_id=1, environment_id=3663)"
      ]
     },
     "execution_count": 5,
     "metadata": {},
     "output_type": "execute_result"
    }
   ],
   "source": [
    "ln.context.uid = \"MIbO3QeJERcy0000\"\n",
    "ln.context.track()"
   ]
  },
  {
   "cell_type": "markdown",
   "id": "af01c5b5-7b77-44af-88ff-d19459be380e",
   "metadata": {},
   "source": [
    "Get all datasets and associated metadata using cellxgene REST API:"
   ]
  },
  {
   "cell_type": "code",
   "execution_count": 6,
   "id": "9f5ec28f-f2fc-4374-8f7d-2194c89149ac",
   "metadata": {
    "tags": []
   },
   "outputs": [
    {
     "data": {
      "text/plain": [
       "1387"
      ]
     },
     "execution_count": 6,
     "metadata": {},
     "output_type": "execute_result"
    }
   ],
   "source": [
    "cxg_datasets = get_datasets_from_cxg()\n",
    "len(cxg_datasets)"
   ]
  },
  {
   "cell_type": "code",
   "execution_count": 7,
   "id": "5963c7ce-52d0-4dc8-8217-b278fd96afa3",
   "metadata": {
    "tags": []
   },
   "outputs": [
    {
     "data": {
      "text/plain": [
       "dict_keys(['assay', 'assets', 'cell_count', 'cell_type', 'citation', 'collection_doi', 'collection_doi_label', 'collection_id', 'collection_name', 'collection_version_id', 'dataset_id', 'dataset_version_id', 'development_stage', 'disease', 'donor_id', 'explorer_url', 'is_primary_data', 'mean_genes_per_cell', 'organism', 'primary_cell_count', 'processing_status', 'published_at', 'revised_at', 'revision_of_collection', 'revision_of_dataset', 'schema_version', 'self_reported_ethnicity', 'sex', 'spatial', 'suspension_type', 'tissue', 'title', 'tombstone', 'visibility', 'x_approximate_distribution'])"
      ]
     },
     "execution_count": 7,
     "metadata": {},
     "output_type": "execute_result"
    }
   ],
   "source": [
    "cxg_datasets[0].keys()"
   ]
  },
  {
   "cell_type": "markdown",
   "id": "dabd3ba1-134d-49fe-a0ae-50a3d2f15195",
   "metadata": {},
   "source": [
    "## Register artifacts"
   ]
  },
  {
   "cell_type": "code",
   "execution_count": 8,
   "id": "84610aaf-191a-46f3-9987-7579eb3f266e",
   "metadata": {
    "tags": []
   },
   "outputs": [
    {
     "name": "stdout",
     "output_type": "stream",
     "text": [
      "❗ this creates one artifact per file in the directory - you might simply call ln.Artifact(dir) to get one artifact for the entire directory\n",
      "✅ created 812 artifacts from directory using storage s3://cellxgene-data-public and key = cell-census/2024-07-01/h5ads/\n"
     ]
    }
   ],
   "source": [
    "artifacts = ln.Artifact.from_dir(s3path)\n",
    "ln.save(artifacts)"
   ]
  },
  {
   "cell_type": "code",
   "execution_count": 9,
   "id": "af381d5d-7f61-4871-9846-fe32ad9f3be7",
   "metadata": {
    "tags": []
   },
   "outputs": [
    {
     "data": {
      "text/plain": [
       "812"
      ]
     },
     "execution_count": 9,
     "metadata": {},
     "output_type": "execute_result"
    }
   ],
   "source": [
    "artifacts = ln.Artifact.filter(key__contains=census_version).all()\n",
    "len(artifacts)"
   ]
  },
  {
   "cell_type": "code",
   "execution_count": 10,
   "id": "d46fed53",
   "metadata": {},
   "outputs": [
    {
     "data": {
      "text/plain": [
       "812"
      ]
     },
     "execution_count": 10,
     "metadata": {},
     "output_type": "execute_result"
    }
   ],
   "source": [
    "artifacts.update(version=census_version)"
   ]
  },
  {
   "cell_type": "code",
   "execution_count": 11,
   "id": "873accaa-6402-4030-88d7-3b4528480dc1",
   "metadata": {
    "tags": []
   },
   "outputs": [],
   "source": [
    "for cxg_dataset in cxg_datasets:\n",
    "    artifact = artifacts.filter(key__contains=cxg_dataset[\"dataset_id\"]).one_or_none()\n",
    "    if artifact is not None:\n",
    "        artifact.n_observations = cxg_dataset[\"cell_count\"]\n",
    "        artifact.description = cxg_dataset[\"title\"]\n",
    "        artifact.save()"
   ]
  },
  {
   "cell_type": "code",
   "execution_count": 12,
   "id": "d78b97fd",
   "metadata": {},
   "outputs": [
    {
     "data": {
      "text/plain": [
       "1113"
      ]
     },
     "execution_count": 12,
     "metadata": {},
     "output_type": "execute_result"
    }
   ],
   "source": [
    "artifacts_previous = ln.Artifact.filter(version=previous_release).all()\n",
    "artifacts_previous.count()"
   ]
  },
  {
   "cell_type": "code",
   "execution_count": 13,
   "id": "7dfb385a",
   "metadata": {
    "scrolled": true,
    "tags": [
     "hide-output"
    ]
   },
   "outputs": [
    {
     "name": "stdout",
     "output_type": "stream",
     "text": [
      "✅ updated uid from nn6TnXRLrNxmIJxnTDdI to 1BNWhcCqu1CMSJaHxpbn!\n",
      "✅ updated uid from JUBxgv0Pw736sNmVp9gH to aJTH55LW2CTIWu306YiY!\n",
      "✅ updated uid from x96cOk7U5eADHi8gcVfA to W24OA3PL0R9an0aRh8pO!\n",
      "✅ updated uid from Oev7zCb5t7dUdLdnJoSs to RCzyhZz9tfi6YI4F7mxb!\n",
      "✅ updated uid from FLYal0M4A1luNziYiKmy to pnQX4jvkj3eFWGOzDxbW!\n",
      "✅ updated uid from EvZB0pSIGheW4jOxkREw to xT6KRWIcByIyORlog2cs!\n",
      "✅ updated uid from IQgexx9anx4MPeQ23dCE to 24jpTvAM7ipZe2mvty5W!\n",
      "✅ updated uid from xsEcZ5nZ2JW02zhky4MR to cs5xflc9TR0nrgpHmT4L!\n",
      "✅ updated uid from aD7NwWpeQwiRGTIlCRxz to 1pGy4sJuik81S3TndIbn!\n",
      "✅ updated uid from fW1furkWQaE5c9GiE5PT to yBqxA1OBSSwMps0364FK!\n",
      "✅ updated uid from i3jVb2IrzD4V2wlBhbG6 to TUAbAHaYd7pc87WBfhIp!\n",
      "✅ updated uid from VqkvkTAYHh7UiZijDQ4U to 2bF2gDSwbNbDsFVg2KQf!\n",
      "✅ updated uid from sEYmR0qQr7X2bJ8vr0OQ to YkFIVbopZvYXDbumEP7X!\n",
      "✅ updated uid from 542v8x5p4D4leIVor6Ol to c2gVUmJmbgOyxTcqkMSZ!\n",
      "✅ updated uid from Wv7Ds897C0rOtBuc9WYZ to 7avWWWLuB6eQM93Bf5HX!\n",
      "✅ updated uid from ctbft25xp9KKg1cdmiGr to m28Or4k5VabbwTlE5cIx!\n",
      "✅ updated uid from C1pNC6V0xH8zYzbn2dBC to feQ9jQCfTcPqKdOaOTTg!\n",
      "✅ updated uid from 3Ovtu7j967qdxzCy3m1l to TKwoZqdBthiTwP4ZYjI5!\n",
      "✅ updated uid from kX9KW8y31IeVBDeoJSKw to C7KKerpUwrbqBadAFk6k!\n",
      "✅ updated uid from E79CIYKHv4bLgoYuxCU5 to h7Wca5cPlpeXldBuGqI0!\n",
      "✅ updated uid from C4wpYWi7NwVhsMfV9UYR to n33nFE2kXSNzNhIAa28w!\n",
      "✅ updated uid from N3KABm7eGLXd48z9xiAe to 2e905pEdUqkD4mklyfgB!\n",
      "✅ updated uid from CQpOasIPlRsBDPX6VEVF to LzxrOu6zhuFHwWUD88K8!\n",
      "✅ updated uid from u7Mv6JnPL7Nj7RHuysQs to R6l3kNLRtVnJpx9nnGW7!\n",
      "✅ updated uid from WNcT5yKFSS5tpU8jmk0h to V0tqrgE1z1NY2eUUnH4q!\n",
      "✅ updated uid from yYatQSe4UFzrZLRCqdG1 to 3373uv5BK17LRRw51be0!\n",
      "✅ updated uid from Z6VY2N2NFawJGDTbsXPX to dEP0dZ8UxLgwnkLjr5qo!\n",
      "✅ updated uid from zUIUgsTVEc88g6QWObcP to jS876jSjLQT4GrfWVbQU!\n",
      "✅ updated uid from qUoH18dKtD7icdK7fvXF to PurwAg9jY6bOyYEWIEP8!\n",
      "✅ updated uid from OKTQCIhwwAxFcW8h2MOK to fOwWLm8148joYT59j5lo!\n",
      "✅ updated uid from cacFiE1yWGvZp8d3EOSh to YCryquAx1tGdiU0aX57j!\n",
      "✅ updated uid from qEF4g0WXn1LajVzIgcRc to vgm2tlcvVpFBEWCtq4ag!\n",
      "✅ updated uid from q26x9ZJ7vnZ8kegKmsJN to CABtggF9aAxK3sc7a2EF!\n",
      "✅ updated uid from BpZs0jTtfl42wBvM0Oko to voNLGmLepudw1jkFBIox!\n",
      "✅ updated uid from W36FdJfd4nGy4Yj6i61F to Sxvk2M4zZCarn5PuAwd9!\n",
      "✅ updated uid from JJZnoaNzByXREB7AmDud to THcjhEfgJXoikr35hicd!\n",
      "✅ updated uid from uMqhOCkjyILexKIGYja3 to uNwtPV8FbEiy1L5TI0Im!\n",
      "✅ updated uid from l54wmuC3jVNTijqpMLo4 to HZtxUszJoQ9yBPUwvutx!\n",
      "✅ updated uid from PagEp3fM5oWpzSZzVFj4 to F9rOMRMmMBhxmtbNHyrK!\n",
      "✅ updated uid from TR4IwpaboXiJFsH81GGT to vOsBDoqtMFPl3JcmzUUt!\n",
      "✅ updated uid from gNnin71e7aKCNTXADG2A to 0pPePAhfgf1sp5YYkBP2!\n",
      "✅ updated uid from HmaOvV5UJn5ICXiV1o6H to ZsbQWmQGRWADFdhqGdZP!\n",
      "✅ updated uid from etHuD4HrmU2odtPGODeY to 7xkqYdCxhmLutVd5oZr2!\n",
      "✅ updated uid from dRobBNfmpoJBIvmTWx49 to 1le1JAlTYEAIlvSDUpAu!\n",
      "✅ updated uid from MLoT7H3Sp9iaG5fjQHXF to upR31puIm5bp3AC7mlrt!\n",
      "✅ updated uid from 7urnmYRwlYOHPmz6jFCL to vCaxx7zZMDSk9PGjBhiK!\n",
      "✅ updated uid from 9AGXgcfeCBmxf5fDN18T to WPlYxjg0AJXeBmDabfqX!\n",
      "✅ updated uid from CYc5t0LdhszvpCBelfXJ to FsYqhy1l4qy7cYJSJ3JM!\n",
      "✅ updated uid from wzYLMBJXMKpd0CNRLsFY to rJKXcQ63FFi2SVVC9IKk!\n",
      "✅ updated uid from xdVdDGctpuKcA6TzI2gL to SFmTFMi3DdJhIhZp66bg!\n",
      "✅ updated uid from 0ASDnQpgxiEQAQEEshJr to hXOb0X5pmYGXjpqdDJkk!\n",
      "✅ updated uid from vr5d08h2dGFaxaWgjaUF to on4IoXjPCWcLCoHMnLR3!\n",
      "✅ updated uid from BcFfWmMOPIO9WcKRrhZL to 3A8lrrjfKWmH5AHSG7j9!\n",
      "✅ updated uid from V5XHTW7sKW7CW1QcGYUt to Pt2KR2uvWqr9Ywnwf6lf!\n",
      "✅ updated uid from 0BakldVVtuEukA8NuBrs to 5O8phHYznOGzv6pZpJXe!\n",
      "✅ updated uid from IDZhDj9FVyaybVwm4WDL to upEnDjoOBrNfXf5wVKNL!\n",
      "✅ updated uid from Cg8VJTAjDpMaS8gUPE0R to pET6MI2iNQFwWgRDmvII!\n",
      "✅ updated uid from k7x8Y9Y8y6AM9zGAMhJA to 5dunx6wTeIOGD1itXO8W!\n",
      "✅ updated uid from Yx7px1bRQsTkYiUkxaqr to YCAHUBGcICn4Fwsqg3ss!\n",
      "✅ updated uid from c2YaGNct8RQnETg6iUBj to OCTLjPX0svrJTpCTYPxw!\n",
      "✅ updated uid from bEwwDBHpShWlKih0OQ2v to R4ZHoQegxXdSFNFYMaIP!\n",
      "✅ updated uid from p0jsI2ic9RKW1xcQQk7V to K72BdDYN4qcG1mOlG00s!\n",
      "✅ updated uid from b4Dtb0MFo3BZC0RwGERw to HqQx5PAULfU7V0iRI1D9!\n",
      "✅ updated uid from gpcJ75yB87LQGdoc9EpN to s7nff3V7TPSeFtpMjnHx!\n",
      "✅ updated uid from zznGHRN04kkUh5aZFRHy to qA6JWwBI3uNVjUqXBlGF!\n",
      "✅ updated uid from stYGVXCKTZTBdFag3Jne to 23zN4qyB6ZAvETudO1D5!\n",
      "✅ updated uid from YhAZcYBinyS3geZ08dCe to AifmQJg3o0LppBpNtoSS!\n",
      "✅ updated uid from Mfk08to2MbOTZsSwDORJ to 3nbhZ3GH3pKmT8aPWZYQ!\n",
      "✅ updated uid from Mx8SuhNlXG5AlElDVdN2 to AmnU2DMsVcP9jvWkg0d2!\n",
      "✅ updated uid from 0Psz0QYCEXC3tK4O4ZOF to tXuyRMDbSYy731XRwK9U!\n",
      "✅ updated uid from KGxHwnFNkky024nzYgHi to q1pdkWTstZrhLHwssZcS!\n",
      "✅ updated uid from qowZqko9wN4cMr6POxUN to RqB06HPJWUcoX57OaYcS!\n",
      "✅ updated uid from MwIWQ1JxNABQFEbK1MWb to ebzAixUDLHhz8c2xD64g!\n",
      "✅ updated uid from DtizO4cYXAMSBuMdYzNx to pMszg0eKbyGXF0BoeUjJ!\n",
      "✅ updated uid from 6E6WL2TR9pyTF5jciMYw to T56N3QOzdv0LCDQXdx4s!\n",
      "✅ updated uid from HeN95yrcE4aZr1of2611 to 7j8DEpELneDHzU43B5hw!\n",
      "✅ updated uid from S37d1Sd9ZftFBQJBmaXK to gghCu0RoR5JsgW7CVb0M!\n",
      "✅ updated uid from qDqHbiztDuxZGLhSvfb4 to uf7uKaLtRAa7NfCz6ZJO!\n",
      "✅ updated uid from xgimczw9fDkRLXwmwipI to 9hp8YDdwZTg6x2SDKIke!\n",
      "✅ updated uid from BqOaLD8BdxOQg4gU3dCn to ArlM69uqtaMF30gVLZ2a!\n",
      "✅ updated uid from BxK8pBZG5kI6k1h4R316 to 9iY5bdSjYnWmrFntXEld!\n",
      "✅ updated uid from XKQE2SUOXsWZzTqxedGe to h8wzc2NfxIWyGIAD346V!\n",
      "✅ updated uid from mWDBBNlFwmMcyRCguYeV to 3Y2hJugseERRsoLUU6sR!\n",
      "✅ updated uid from LiV9lCFSgKm6TurzaN4A to paDb2i9vvjnwbyHWBy2W!\n",
      "✅ updated uid from 1MTSzNngghtkXcZwgqEs to vUdR0XLzU945oDGeLWFm!\n",
      "✅ updated uid from 3CFjzdkiMlJTPdG12vXm to Vs3BpES2xk0guildZ7g6!\n",
      "✅ updated uid from tk55JffSKx5LJLUJUsPJ to m4WzzGM8l0fYfJghsGed!\n",
      "✅ updated uid from HujbH61cLyWHTashFQSn to HDQxdRUajBgugrFgVtpZ!\n",
      "✅ updated uid from Xf1e1RJwjqM8I4id00BV to XFMEZTWoIZ5hGxiS8uVU!\n",
      "✅ updated uid from IZ2mCf4Mbn6H3momn94C to usSFyvyTQFKySuScCH2K!\n",
      "✅ updated uid from SvekeYiVAmCR26XIoQq7 to X4OyQqMyC4fXjMGKENdB!\n",
      "✅ updated uid from GjnAaxtKnj4SEp92SSCp to 7wTYH0khROV3KRp8ztEk!\n",
      "✅ updated uid from YXWgyVIAPxMNUd8liReT to urgBvoKtd5Lybv0NSe8C!\n",
      "✅ updated uid from A3cgMTOsyndZDohX4Vdj to wjZn90qJ6ttKp3UBCQnU!\n",
      "✅ updated uid from 7ZFv2w6oFqe4tSPYqYen to QpLAXjwHM6NaIjRuJbOV!\n",
      "✅ updated uid from iUCo5Xc5YL2veXKwmkHB to gIzz0ibIImsZZbb64Vqs!\n",
      "✅ updated uid from nSM6lk48ifPDMYOkcHfi to TKzywJw8vc9r2IpM3CBu!\n",
      "✅ updated uid from 7pWapfcg1TXhCOReftZA to LO6WOiti7jnycOg4clBp!\n",
      "✅ updated uid from VruzdUsj4uVlnyjdzYkY to SUlKWKIEpKMiy3GJpLR3!\n",
      "✅ updated uid from tq8neRA5CltlhxERA8FN to rqnQa5vEpy6cwCH6pk3M!\n",
      "✅ updated uid from lRceMzW57gMEmGkNz8Mv to d2zjqLtgkTFODH8VB2Ms!\n",
      "✅ updated uid from 9ESoj6ktnzf1w2tRSlzq to lFgxsIQyeSBmR3NfkMxt!\n",
      "✅ updated uid from 6SIUk0OJWbq2Xi1uXpoc to MsOKeQl9gpOYy90InUH0!\n",
      "✅ updated uid from esQxlIfTuLDTJxzSusl5 to MKdtJ7wdzfIaEJGyfMLy!\n",
      "✅ updated uid from jry1P3XhFMcEgA92xUbX to 67LLgp5Y4ubtsUPfpK2g!\n",
      "✅ updated uid from ZAKV9QuO5LFK662A81gc to zfc9YcMPpCX8G5vJhQnb!\n",
      "✅ updated uid from IUcqIJalz5sBFBx692rG to WXgxQnuAebAyqObhUOBH!\n",
      "✅ updated uid from l4lhZm7mKEG9C9ttFGyk to NmmzMx9qbjBNGQMyyqGV!\n",
      "✅ updated uid from Ej7fD7ZkcDIdXXVsa6kp to 1d5xD081yyKI65tLuhYr!\n",
      "✅ updated uid from zzBu7Vl0SMWQjK8Ba9W4 to JSGrsBJpAgQNBPk7DPMw!\n",
      "✅ updated uid from AXhvjfvS2kyas1Iod3UC to iAZPSOBKLpaK7lqy3kVe!\n",
      "✅ updated uid from CVJpypj8LCxt9JRqW1dc to fBtvEjIhqfEtGCFuyOVz!\n",
      "✅ updated uid from mI8Vx0xMOUBbn5zwGMpo to 5n7E7muno1fQDXozcyB2!\n",
      "✅ updated uid from Cnx9rks5JJ1EKmbUGMRD to JBjSu79Lhhw8yye8RCsY!\n",
      "✅ updated uid from BH5PAnA58Dl1X7ve2Iip to 3t6pynYLQjTbBDpC3L5o!\n",
      "✅ updated uid from cfMcdxPr1ruyZt9a6rIl to c1Nb4Opl4d0JWEqMldlb!\n",
      "✅ updated uid from qUYJDAfm0Z5YsmWUEJlv to qsa3GuATZjqaQGdDbTS7!\n",
      "✅ updated uid from RsXjRpHyIwQv2zcEJB2z to NP8LNBRrqAyWglohzVm0!\n",
      "✅ updated uid from 06hq9eudiEDxrBYwCxUf to iIEHpul5RhH6VpPieQkW!\n",
      "✅ updated uid from QF4NsnxVtnij6NP64Ilj to olfCW3fJx5o9RpvNYfug!\n",
      "✅ updated uid from zZigQVKMqSAIPkxKsVej to XMY55ElXAS3JzMko5KqY!\n",
      "✅ updated uid from i09UtHNba4PdxTSc4veG to T3kjoG0j8Sfmyx7JZ2df!\n",
      "✅ updated uid from 5EhT0Gb8Ro0hb9ngpYS3 to SHV11AEetZOms4Whac16!\n",
      "✅ updated uid from o2yQmG3WFW1dQAMNQ1EY to 79xgB6ceuX6RfGwYsjz1!\n",
      "✅ updated uid from JMPcXaIGo7X59z93Iwta to Db2slWFdbTWkZKqEtOL4!\n",
      "✅ updated uid from xhvqD8mZ1K5R9kulj4Gw to 0WPZA1PLpOS2aQ4Wny5A!\n",
      "✅ updated uid from 5bxd74bCfzePTm8SG75k to l3uBVNC3SshUUpANvJwH!\n",
      "✅ updated uid from tSShio2aviwlfw43RoEJ to 3Zgd7VK3gwBKdFBh9U3R!\n",
      "✅ updated uid from pYKAiGqGCzOFVl98F37I to iCP76GdiIdv0Yb49PH8O!\n",
      "✅ updated uid from w2DdpjUSVGVl50ZZ2ima to qWct0RterDRXkBXAMp92!\n",
      "✅ updated uid from NG33fe1CB0gSeOdbNtBQ to i2lSvLRNxHW6fKHko5PX!\n",
      "✅ updated uid from PRob7BIX9WjL2vc6HmXo to hi1KW2skkjleuoYXKinP!\n",
      "✅ updated uid from d5rSFabPCYXY33O5h0ED to hn0MbdTz2ZitmN5K6W2s!\n",
      "✅ updated uid from Jngrmj0dkn6lGin6FAOp to GcVBvpW5MYlrsH1izOjN!\n",
      "✅ updated uid from ipxubMBwuYMSg7z8vhG2 to K3hcTKE7wG2ou1yhRFYY!\n",
      "✅ updated uid from 7C5RC0QUBllK1rovMrf2 to mLHsQqAEkPRuYKoFs03c!\n",
      "✅ updated uid from j5uni6Zn5gKQYgUn8U42 to mImhScwKXSOfMkOlAXCN!\n",
      "✅ updated uid from Ly7oxpbBBLoYCd8jEKSx to ZJ7mY9phkW5jgWkWaM2d!\n",
      "✅ updated uid from WcDOXihtS5AHRpdUKP5X to QLRrWNrxIYVnNENvTqiX!\n",
      "✅ updated uid from l44DVXGQmveLEMNdgTBl to qCqzcgqxdHklK2mAtdXJ!\n",
      "✅ updated uid from 1knr3iG6CK9dvnnaJBN0 to 781jxq9bIKwhGtgyPoeZ!\n",
      "✅ updated uid from RwisFblQaiVsiLW3X3EY to ea9WOqFR6K9fT2tK9Pzy!\n",
      "✅ updated uid from 11LD2Ve4VbgmH53M7WDi to OL1RnDNsC4032LPunJ2k!\n",
      "✅ updated uid from LvpUyV0jZE4Xy16C8xhG to ubrY2slK4QErNBLrA9vl!\n",
      "✅ updated uid from KBhvmwHz4GnsjN3rWd05 to AtL7zQWRrR3NZwjNBEg3!\n",
      "✅ updated uid from 2rVhMwObd1eZ8PVjhJ6L to USUgRVwrCMquHiImnB9A!\n",
      "✅ updated uid from g3Jd3IzuZ2udKt2V9Xc3 to WwmBIhBNLTlRcSoBDt76!\n",
      "✅ updated uid from FeQpF8JJhlX4i4aFXajV to RVBzwu3xTxhTteiTzbAu!\n",
      "✅ updated uid from BgTiT25spA8u7VRkLJYU to SBv1h9H3qMK9o46zhYoY!\n",
      "✅ updated uid from m0596gxCEgwhqMofjPVQ to Nl5QNcPU7t2HF9ecyj0i!\n",
      "✅ updated uid from DyTcg81fY56bxIcP5B4E to 39wjVmVnzsqkXmXBHSFW!\n",
      "✅ updated uid from xAi24FbZxazBzeAffKVS to 2RBKRoyJiKdKn903fH75!\n",
      "✅ updated uid from FdWIoQQ1qZEOeg7EUznY to DHyEaFQpiavZ9e3h9DgA!\n",
      "✅ updated uid from RoGlsH46IZb9GPvjFcEu to v1FHCR5YTmuS0iPY1MPj!\n",
      "✅ updated uid from vIVoTgN8QxdQERqFRbpG to EWpZNwV8VVRmqMDsaN0H!\n",
      "✅ updated uid from KdlJQ3xlqwM5VY6KyOsX to pLQxlcWMDusZbAT9bp44!\n",
      "✅ updated uid from 80i7lU759lPfCEhc4J5P to 2F7WO5OcDQIFmDJtLM1i!\n",
      "✅ updated uid from 8F5zlMDwVhoPB1cO9rVp to ADirQbyrGFOcERnz3jSL!\n",
      "✅ updated uid from 6JvLp8VUre0gUVWoUEpg to cuPJVE17Q06v2eoxiYG7!\n",
      "✅ updated uid from prFXExYYIxRbUR7tzkHL to weRKEj2UwQ2R95nDpjPs!\n",
      "✅ updated uid from 358oFiSjMeZJLMad1Yhp to WhZRzFQFCAPgkhLdZD1U!\n",
      "✅ updated uid from 756LrJ7Zd2KhkGnF9ul4 to vY9WYsSWq1e8M41MHhXp!\n",
      "✅ updated uid from W8RQz9SDRVh3A0OfZL4k to TN1F0WcfkLVg24uKe4La!\n",
      "✅ updated uid from 8QWbuUDBB43WNhO5GMzc to EeIovm6enXfWkX0sinNT!\n",
      "✅ updated uid from s7WbI4Y6v0EzRRVrxwy9 to wYiUe9hn4TJijpoX90Mr!\n",
      "✅ updated uid from C6n7bBsi4jEm8jXDPMWN to QpuY5RsGTBBMN61QGY4t!\n",
      "✅ updated uid from ztsvwpW8P0eXC05xgbC9 to h1OfBAUVyqCe47TmODzc!\n",
      "✅ updated uid from ENstaT8Ojlz73Iih3W7h to xQuk1UERwAorqS9dFuBI!\n",
      "✅ updated uid from Ieyn3lpjkNPl4M67SjjZ to d1J6DqfPEev0aBzfRWt9!\n",
      "✅ updated uid from XrsEEAozFuICOC1PjQjn to fiQbndwsVQJdrGcDyoMg!\n",
      "✅ updated uid from rftUYzIn1296nv9lonxL to 8co8I8I2FNl8QewWOPu9!\n",
      "✅ updated uid from oSMnk2XkBuUgPfsbcDLJ to 2cu7yo4RU5yAddIHNNp1!\n",
      "✅ updated uid from UW6NVo27KyhESGtVNsHh to xkWgb5OXRlTnPkbaUG9V!\n",
      "✅ updated uid from X2ugzvWp7Jw93A51tbSd to bi0jzkt8G8r9F7Odp13X!\n",
      "✅ updated uid from se8MBkh3xyoT7raBIkYB to qmlhpDTkT39mloc8YOvx!\n",
      "✅ updated uid from qOVTM7DTNv9KXItPYeRZ to l5P63hnBVpeu38mRKSmF!\n",
      "✅ updated uid from FEUxWVkuVSHFnby539Xc to bjEy8ho5HhFUBQX8JeIm!\n",
      "✅ updated uid from 8J4AEkzj7qFd5XgtjqL8 to 2OjDbS8g7Debu64Sf4yK!\n",
      "✅ updated uid from lVlDvgZgZdJ8wUIqpy5v to ifv72GuRMK20tbSmgNqh!\n",
      "✅ updated uid from C27NoyJZ8CBrg7v7uLWO to dS2EDlKTapIz08QKrjIh!\n",
      "✅ updated uid from lFs8ZgGpa19f2tOtNx23 to PBQOfPPt6DbWjK6449NK!\n",
      "✅ updated uid from PjqFcfbBUrKyT3FBW2h9 to sn1HfdyROtYgkngigUpg!\n",
      "✅ updated uid from ShrURWVGntC1ym6pFOl0 to a2tJIqeD21ZljNamxzex!\n",
      "✅ updated uid from 8ifY2Uo7eL4wRulf1rUA to os6MrlcQJCWVfAQjPJWH!\n",
      "✅ updated uid from pLLhrFxHIAYJsRBMBEBR to YTYeoSEsXTxvFSdfsKwx!\n",
      "✅ updated uid from FQ984oagp6CFSj1goXKL to qbgxNWiLRkvUJqy3Q6kQ!\n",
      "✅ updated uid from CYDZXKR6fbCRpeeaSaAE to 3aschyZWQq1Q46xcS97R!\n",
      "✅ updated uid from B8mLLy0QDVgQtRlEZmVY to HQPT59lX80spJyfKEF70!\n",
      "✅ updated uid from rfOdIUUqeghppYezxkNE to 2h0h56ia9s03B60yR8p9!\n",
      "✅ updated uid from of9dbUZjaft5GJOvCDMZ to hsUNjhiFgq3FYI8q0vSK!\n",
      "✅ updated uid from 5UcNCVPIsr9Rf9ORf8S6 to gyp2h9pp9NFvhnqlQDjR!\n",
      "✅ updated uid from WWsx5I1JAzs33RTyZJvu to LSbEXAVsWYrug9lAh5F5!\n",
      "✅ updated uid from GGr8isFaGNyQgV4F8cBe to KAHDMhL7KC7aHUNAMYHy!\n",
      "✅ updated uid from FG3mfdTu0kt3PyNmtHAF to ileq73vZO0Gjb2C2h6co!\n",
      "✅ updated uid from 1pXovrANnSyygnDAmOtc to 6iSn6EVq5BEVayyhIa6L!\n",
      "✅ updated uid from rTAdy2p4ejSsQnsjV0Mz to a3o2Oyfy17w2mvFB318p!\n",
      "✅ updated uid from UnRth5UdmSqPCRmNf5xd to BtGLeSFvjUjCldgGxsr9!\n",
      "✅ updated uid from HYAcXFosgalwUG0NB4l8 to yeORGtsGyr7m1kNikshN!\n",
      "✅ updated uid from kEY4TDdBwXNCnJpeiFtd to DPHpKfWvz1iPV9YXgYQJ!\n",
      "✅ updated uid from 5cdQ1rjGUxUKdcspRwuD to 1a9BE7LF1RccRIU4J9jp!\n",
      "✅ updated uid from cke8RyI0m0cvefDiG8jF to 8p7XTuhjWwSpzRWWakx1!\n",
      "✅ updated uid from frFW1abEY2vje8sCWraG to ZhURVUtdypLDh93ZeWUZ!\n",
      "✅ updated uid from RMhe9VV4YuTNwtTAfzN8 to hKyQa62JLSaE8UlF1wC9!\n",
      "✅ updated uid from iTMdA8szPDO33O7d2DL3 to Vd2uGOTQOwleGdFRmpJJ!\n",
      "✅ updated uid from 4DlYNV7ipwIqa30ncoxt to BTHskNWGFg0iJwixO0rn!\n",
      "✅ updated uid from ClRUsD5ir2ZnanMeb89b to fyloWFULJFeXyT940fmF!\n",
      "✅ updated uid from a7h8N8Ar2K7GI56MPD0i to ysDMfpFKcbJ5X3oE3BUx!\n",
      "✅ updated uid from sBgBR8E1fxgt7CrMptoz to vdfcBC1KQrOAbxEnwMVo!\n",
      "✅ updated uid from OvwvEeq1k4YuyFaSvA8k to xs8JnOHLfChf3XUXUbxR!\n",
      "✅ updated uid from iCvCnHXRFRCrT61yjtly to gTl4VjNhYGsex3MAigvZ!\n",
      "✅ updated uid from 5K4ymSTr9drlGah4s2MD to nEl31U5JF2fL38z93rVB!\n",
      "✅ updated uid from Ji3vY8yeLc9Ma1IiZTE2 to odCmvHUVWraE6Uyb5Rqw!\n",
      "✅ updated uid from NAUGjyp2EJ2yRL0cVz5l to eAQOstenTKAUTRrwzDoZ!\n",
      "✅ updated uid from KqczbPAt58feoWWzuQX0 to MvewDAN2FsUAMG2bMoDd!\n",
      "✅ updated uid from QRtpYtpcHGYCk88PaUrL to fvU5BAMJrm7vrgDmw6So!\n",
      "✅ updated uid from EuKGA8NINc8htsFwtYLM to d954c2cfANA3HpLzuO4h!\n",
      "✅ updated uid from Z9TmMY6quJX0iMpXDfxZ to Wq5nQaTQaSSSlKdvxKrL!\n",
      "✅ updated uid from D7mpJCIJ6O5faSFoDvqO to 53TLhoe4O3kdfCKuqyKn!\n",
      "✅ updated uid from oENt5ZauXEEUd19Yrahv to 8KCG26fwVdVDkcPBfERq!\n",
      "✅ updated uid from qQXrh1O7bkCHZUwfYuys to P4Oai3OLGAzRwoicHfLM!\n",
      "✅ updated uid from N00j9SWHM8lJ1rYawhxf to 1SX76nDlg1TRYlMGGpS6!\n",
      "✅ updated uid from oM4PyfBVcjtxBzh09TgE to m6hmbKYUyJMtLw18baRV!\n",
      "✅ updated uid from Q65Blo6tJMbu9tfOMXjq to znTBqWgfYgFlLjdQh7RS!\n",
      "✅ updated uid from sPi7jU3XvdvjWRm19dlc to Zg00wCoZ2h8sIwTuVvI2!\n",
      "✅ updated uid from aH8cxBz2cTpT8c38sEKR to rYIU9HVbuJHfyENHYOZg!\n",
      "✅ updated uid from tQo32OtdfoVZAsbiCYdA to HBbTSqLs5UtS859HNZ4Z!\n",
      "✅ updated uid from GiuRfqZMGyDqOCYX0Dk8 to Il21u84B0t0O2aikBOrj!\n",
      "✅ updated uid from 5j5FB6TimFPG8Q8wK7yw to 2pSqPCly1zpnoGcx17eR!\n",
      "✅ updated uid from 8EbiMeKOldPqDpTZ9kzL to Qz7b95dwvsyoc2ALK1Pe!\n",
      "✅ updated uid from awvB9tw4YxtGbtZEnABS to x2Cf6CoPBdBszgzYFulK!\n",
      "✅ updated uid from ONtslHupQ5rjSaNwUMP5 to NdDSSgvqoRZmX9drSxN2!\n",
      "✅ updated uid from HfoJ5zbFSWMW9CyemGz9 to LBJQF13N6cKrHFXT8Nab!\n",
      "✅ updated uid from 2Wqz5eMNEu9qjHj2fD4Y to f1kC34CMs9FYjJyIBscN!\n",
      "✅ updated uid from TR1gfXR55MZNPKVUoUeP to 3MdFlC6kg7AS97pCKqYE!\n",
      "✅ updated uid from hySGbC5ELlOHSVwxrsFD to pWt1pWz0USGpjUYzMsPo!\n",
      "✅ updated uid from kuessAAdOTFP1KB23GBZ to DevPS6lhgCJfq6L4cCbo!\n",
      "✅ updated uid from 2r6WC6Pwmtra8gxKdUNR to C35RXXzuPrWPGo4PX8SY!\n",
      "✅ updated uid from zkHM7HirdGkQlxhI76kt to QsCW3FBUQZneBvPvSTHP!\n",
      "✅ updated uid from FT678VTrNiCBKuBDtcWC to dptYEcjH6o3p9Vy1xnYo!\n",
      "✅ updated uid from z8CRt88yPR6Q9Nk3h7Z4 to eHovM5Ga5DAbaLN2oFQ0!\n",
      "✅ updated uid from dMKAGlnnLqTBt7PZFZxv to kfkYpeeZMautMxSdxGZD!\n",
      "✅ updated uid from pnol7zKtvAmvynAoA9sO to 3nGVClsz5UZCKqApqERL!\n",
      "✅ updated uid from VUx3ResTq7roaEqd1Sow to Oc6ANFJ0FgOW1B70mNIq!\n",
      "✅ updated uid from W1Tt94coVmuj3ZoYlqT8 to adXo4PAGe9Pr1HCp28SR!\n",
      "✅ updated uid from u9oecsAhbRkg12SHbYY4 to BCutg5cxmqLmy2Z5hnEn!\n",
      "✅ updated uid from mJBmLUw1br4s0mxCNLD0 to 5A72UhOXDuE6oqXGPBDF!\n",
      "✅ updated uid from hXJNw5XBglrklut6tuh9 to WGPlaaUotWu5wxAhAy06!\n",
      "✅ updated uid from 2irfOmYhA6TBGZvW7ilW to 5GB7eykNwc6grWQeNV2y!\n",
      "✅ updated uid from Je7wFXR978xDro6xYKWZ to vEw6vGy47Zi0Qj6TG6l7!\n",
      "✅ updated uid from COkrvfOh2KkIlQxGT0u4 to uV9sLXN7EWkdHK9yA6Kd!\n",
      "✅ updated uid from 34a3tWNjrHjIR8vOZdCd to bittNWi0gJTdcJ0prQuV!\n",
      "✅ updated uid from i9cwnzO34zKcjiYIa0ji to fyut6rlVbJHagLf5BfLG!\n",
      "✅ updated uid from dtSLwG31ebQtZHWHkxI0 to etTjuoUniTJkOKmZAu82!\n",
      "✅ updated uid from TUhgwS8Gh9PlMqFWxaZg to V5bXREeWMnpLaxlmpjDH!\n",
      "✅ updated uid from bftQzgrcJupQTuP83pi5 to DurunLZdRNd9qxqbWRYN!\n",
      "✅ updated uid from FJUUuGpfPJyJkKPoLD42 to ItCG6pavB8TCcuQTJJuL!\n",
      "✅ updated uid from Aec9NDXpqxwqlr0nints to XYpo2FcGEhmbGmo9S7GW!\n",
      "✅ updated uid from MfJBDJ2BCuOrWIyjtlpy to vagYxrFN9qzqVv2FeYW8!\n",
      "✅ updated uid from ybHgWMuvfU3PzML916tb to 7uWdx2sU0D0ujw5YXrHs!\n",
      "✅ updated uid from ObV4aHKxKrBZ9chLy3W5 to yzUQhwz2SeK7uyQ1gxSv!\n",
      "✅ updated uid from 0zl5RZ0z17oojGPDqHPU to b2x19Eg28GGSNnXWsrrN!\n",
      "✅ updated uid from n98iUeyWUMhCe4ganvf8 to TxGUZEhMkKhTnGQnUAIJ!\n",
      "✅ updated uid from k2P5m5F74ojEMTJCY7zY to vcwHu1b0bNlF4sCv1Ffb!\n",
      "✅ updated uid from Zl3gG4FYJt0M2gwZZx0M to SO5yBTUDBgkAmz0QSukU!\n",
      "✅ updated uid from IRfo4K2sEWE2CzXJUQBQ to GpuCbqeLbXSsqMyeVtpz!\n",
      "✅ updated uid from HP8eKh1Ys7gJcdhxvTt9 to a8DtPeRYgwDwUsEzrr04!\n",
      "✅ updated uid from Phld5PcAuUAWlobjpp4Q to 9fj3MQIVuQ6QZ8bcM9g0!\n",
      "✅ updated uid from PKvbPY2ZoOmkSswBCbzz to m0ct0FkKkpiEP4nC5KaN!\n",
      "✅ updated uid from M7LBahmIWM8Eu8nRtSlj to 46CaqALOTtUuueBJVgBF!\n",
      "✅ updated uid from RweVaRPqqG5yRnEdoYbJ to zwom62bNy5XaeQRFke2i!\n",
      "✅ updated uid from XFzLWe3qiOlT6LgMq0EQ to UzMc4KyxApajkG5Xrz7l!\n",
      "✅ updated uid from F9ZuThxuATgaa5D8NqVe to znAOtN05qx7pskA3HsnU!\n",
      "✅ updated uid from f2a9RZwJ6uNGsz9eiPN8 to 60TIR8XFosoLt8PrsOnI!\n",
      "✅ updated uid from O61gy0yQqPBA6eCeZmNz to jUkQUsSsKvgp2ziWx0KE!\n",
      "✅ updated uid from DVextnFFuOXj00iycUhY to Hqxc0q36z3qQwsnVs52y!\n",
      "✅ updated uid from Yev0O0z0ovKXxHmwZNPX to CveO4v6tQXbvViYwW1sR!\n",
      "✅ updated uid from IX8tFlreqXGy0IpX73kS to rYZ7gs0E0cqPOLON0oy5!\n",
      "✅ updated uid from wTyYwqAGxjWLvAkzop8n to EKS6f9cqMx0lNFsy1s4X!\n",
      "✅ updated uid from ME4AjoAPGb0ypi5kMgVV to DSpevwaIl5E2jIWHbui4!\n",
      "✅ updated uid from 3sBzPr6IJOZSnQrtrH1G to GA2BXWwoJlcRfzNp3iyQ!\n",
      "✅ updated uid from pNWvL75iCkLb7Idj0Cpb to XEPprsoI6tkT2I670NCk!\n",
      "✅ updated uid from VhEFkTkITNshn65mvLSl to 6HEdNdd2aq5AMQYcrDKt!\n",
      "✅ updated uid from VWeIENDzc4s6vgLYWh71 to f5N93YhrlPYQn3d8jKqf!\n",
      "✅ updated uid from TV5LWwCvVbFu1pWpgWFi to mtoOxeGG0Rg3NPH1wRBQ!\n",
      "✅ updated uid from YoeUKEtxLFEH94vioYjE to sFqNOvhT8VKxEXKrSYFI!\n",
      "✅ updated uid from 8HQLjMa6SLC5phk43pyt to udAbdaYhtkbw2NAAyWhS!\n",
      "✅ updated uid from 5ywx7CDJv3irKKkames9 to sFG24wZ6CVPeDEwzsBqj!\n",
      "✅ updated uid from RTsQWhDojLrBvSGvrtYw to SqvXr3i3PGXM8toXS4gF!\n",
      "✅ updated uid from JrwMTXbwXIeHWl1R1PVH to REIyQZE6OMZm1S3Wovf8!\n",
      "✅ updated uid from 66b6itzEEIHn4V8Jo0HP to 4XeJhfSD3dptyqoSaCzN!\n",
      "✅ updated uid from 1XzZJDBgrw9vj8jxXfgP to jCBjAe0xiLrRqJVllz6F!\n",
      "✅ updated uid from kxSuBkcW6h3YmiqdGDgG to P2M3r3KJTvcMZlG6FP6l!\n",
      "✅ updated uid from qwkJvRmt6Y5kjJah9pM6 to aEdyY5KgAr2UsN8igqD9!\n",
      "✅ updated uid from zOnueRV8jKSyCSHfl0Lg to i7J3Mfd6mWoe8kvaTrOW!\n",
      "✅ updated uid from kwnmvpZdHtstwpaeIfjT to Mp7Qm5wAooJZGUzOnedv!\n",
      "✅ updated uid from Z6rCvvkvZryGcw3Et5Z4 to 3GktMKv7NFZfOtzTKNog!\n",
      "✅ updated uid from pj2m7Q30g7VruzOjwJiK to UayfAFTNPi7fL1mFiEzd!\n",
      "✅ updated uid from donVcq8wVgkR6okJlktM to t2nugwPEwEAArwowlk2z!\n",
      "✅ updated uid from 47PyjWtl3A3OAdfY5B97 to Afq8P0M89AzgmzDiboEU!\n",
      "✅ updated uid from bDdhirY4EH4DCtLuFEdu to sb5NmYQn82LauJ8XeWRr!\n",
      "✅ updated uid from E213ACjPihP3m4uOEU4s to vN8vhbZpLzhgxGOgKi7x!\n",
      "✅ updated uid from ce5xFqNMaVh84Vposh3Z to 0oRLkRq6xkr5EfYehufT!\n",
      "✅ updated uid from tkJyCcNWel6op4uAJ7DB to gHlQ5Muwu3G9pvFCx3x8!\n",
      "✅ updated uid from 2KhOJgSsZbpkrE1qJpM9 to HpnxGOoYonDkD4UIEP9V!\n",
      "✅ updated uid from REJeZssQVmqIW3PmRSp3 to BGxbof2cgBwKJx9vBIhG!\n",
      "✅ updated uid from 6AsQ2bl55azAukodBce9 to GxmLqqoOQC24uqisowvG!\n",
      "✅ updated uid from sWPXaIdFULw5nhsGMY5v to zp0ZikzjRevChBBMR1CP!\n",
      "✅ updated uid from cAk1qtrQCjNWkf9MDcQS to RR5T5Yz2Ea5CUxFJz33b!\n",
      "✅ updated uid from 1aOafkABkU34JngJbOgh to Blpu3GqdoLFzjDIcDJc5!\n",
      "✅ updated uid from OwqcLsb1w33WHXfmE2h9 to xSEA3TpbD0pONmkFESAs!\n",
      "✅ updated uid from Nqio9xbNc7BCbllEqeSG to HlOvVNpsKBwYgOXIih46!\n",
      "✅ updated uid from c4ElZkAbhEA3vpAurqwk to 3OK2MC5NxguntYsIpP1m!\n",
      "✅ updated uid from LgoDI69HGfoueneBdCO1 to lOcKGjF2cfxFdGyortqe!\n",
      "✅ updated uid from glksiPgtSRR4Pkd4YRPJ to N7KX13kNDkfDzFIZ66Se!\n",
      "✅ updated uid from HjVKwKDErswevmEqTJ6M to oX29SOGLbgjn9YK4LLP6!\n",
      "✅ updated uid from uQsUMWUDiBtSM6QVSjko to gJXmxzeiI1eZxiXO0Vfl!\n",
      "✅ updated uid from yvnLMvTZ795k80Bxqlzv to EgqcKWxmRIKFccWVDEcV!\n",
      "✅ updated uid from ql0FCH8CFx24hf6ankmD to wngG0fuSqG9HBxR1EL7g!\n",
      "✅ updated uid from ASODPyA3eBJWVMtEm41x to MWNiSb30WQcnPiMmcVJZ!\n",
      "✅ updated uid from FmKNiHODvC9RdodPS3fo to drwul1WQ492Z34rUBvx5!\n",
      "✅ updated uid from yqHdoncn7OlrSk6mCu6V to nWoJprpwl1MBrTlvdJn6!\n",
      "✅ updated uid from UtatNqgJAgQGakBzI1db to rvqTn2ART0yRtcLWS65u!\n",
      "✅ updated uid from OnVXIZy5BRIwysbA7haP to fJfw0qkSd5S655OCqSEj!\n",
      "✅ updated uid from rXlp4wsz2k1ZJIYL8ZLr to 4enY6C2lUHqLGTXAO468!\n",
      "✅ updated uid from gMZqkt6aBBAotHNpO187 to musQqpujzuko6e4xcrVN!\n",
      "✅ updated uid from 1Eel8i7BkUfFdboFgYa8 to jvy1iNvr9FKQkLvL3iDX!\n",
      "✅ updated uid from 0wD142OpctkM7LWU1pQF to 3xdOASXuAxxJtSchijMA!\n",
      "✅ updated uid from ewbDZv6gw9FNyT8Q55Ti to r3tDxdCN5sEk3EOvzCAv!\n",
      "✅ updated uid from fBIHq4CGd8Z76fFIsxxv to Me6Dn2yBu3WhuODNEmAo!\n",
      "✅ updated uid from JlHH223XnX36ZvyCkkCm to ulclz7BbddYHJGOlQdUH!\n",
      "✅ updated uid from cZikESVXQh9138pEQc6q to khWWiqvvhXO9vqp4VUJO!\n",
      "✅ updated uid from zSfDIT2VsKWcBsfAsY9G to 2Z5NKeDsCtmuHbHk5N0t!\n",
      "✅ updated uid from tBiCBCEI2uc763YnzNEf to VZP9PoED6T7PfPHT21hV!\n",
      "✅ updated uid from OLpuuQpELvLyZKR4L8SA to 6XqztgSGlvbK7UVC6WP3!\n",
      "✅ updated uid from ynX6DuRQQT5hyduzua6U to 8wr0wIVc8bpvbL34WwQm!\n",
      "✅ updated uid from HYm8otB837JG1FxSJSXF to JuwezvL94lLJw9XUkCRH!\n",
      "✅ updated uid from G3kH0sQ8iNxh2BaZwued to HvyRdM4G1xh9KFZoACNJ!\n",
      "✅ updated uid from De4uQR83bJCrutBrJCr9 to qBoT3nzo2rFxDKtBewAC!\n",
      "✅ updated uid from N62dmOBXnTYl5VU1ULNv to 3ql5kfSKtf0rKNOOhHuM!\n",
      "✅ updated uid from D5a6ZkIz5EAPdUkRH2Vb to AVbEsCEKrYmd912VRz0b!\n",
      "✅ updated uid from ng7fRYWDwPw3kTkMcWmv to KfDkQJqeiPxMnrEXPoJY!\n",
      "✅ updated uid from DeJodGbfqx3kOb0qZnFf to pwc3uYt2PB42X8tujsZO!\n",
      "✅ updated uid from FMTJxAsjgmbpCE0JT00i to TFvkEtpfXFj2V9Q1GJkp!\n",
      "✅ updated uid from ZlyoP3lZ0V0XjxJMjssT to l9HeucSsCG63NTKTf5aD!\n",
      "✅ updated uid from qfIIJvfWeQcmF8SOBcVo to KmCx0cGdtpH8V826vjuf!\n",
      "✅ updated uid from 8vtK18MkG2J7UldkUaS3 to wMQB9riiulYOwucDFegD!\n",
      "✅ updated uid from 0pEyQ9ViYvni3zUJWsBj to suXT1uLLVumE6G7gM1b6!\n",
      "✅ updated uid from 6rDLWg8IZcmnnfBsBD5Q to oirni3bB5islMD7OriKy!\n",
      "✅ updated uid from QFsHU4mtxjO2yUFn3UMd to BwCLScmXkty5yBDNd83J!\n",
      "✅ updated uid from a3zRGDuIBc0DbYEmlXgT to zrmNQs9fDGgEmRLi28hB!\n",
      "✅ updated uid from iF1KUrn4k4SQHtOR9oS4 to grkjIG64BjI19hWadhto!\n",
      "✅ updated uid from 2IZstehpfUJacKy2OmqO to tnqgtMh3ULJElOCzUqJn!\n",
      "✅ updated uid from cCYaJyFBrnN5DTOLlqIa to SdsQF4T1LVWNaTivyMtT!\n",
      "✅ updated uid from pfaTzMUNKe9o1eJ3ZqVT to YtUix1NKhvnryfHuIOOO!\n",
      "✅ updated uid from 6m7v0f6eTL2pa3zfP0ZT to gpu2A6vYDjiQuxhnhmdy!\n",
      "✅ updated uid from aXT7wKfXQw8oyrWvgFvq to wNIkT2q9yFhHkntEfKmn!\n",
      "✅ updated uid from 6BHXLCBt7eunWS4VLm1F to o8HrYzOW7wXnThrsf2uA!\n",
      "✅ updated uid from X1blc4GfmMflm2B5swtW to MN0oUp5RCRXZhTeVQJ3w!\n",
      "✅ updated uid from rUkRLb8wKY0E2wYm3RVl to A1TAN6IUC0CTKbIjIW2I!\n",
      "✅ updated uid from uSbOmAZL0cdknLcf1BQH to hP1fk81JEtFAlKyNtEUo!\n",
      "✅ updated uid from 2fpNQsBDTVMJDj1i9VvU to rC7AgZLCPp2EUiGLHmjo!\n",
      "✅ updated uid from bPswgsh1dqZcbMk7lKhF to j2isuojTqCvxmxII3mIu!\n",
      "✅ updated uid from zwlfFUq928CdGQTaTz0q to NGsAPpQNtrssjknEVjG3!\n",
      "✅ updated uid from TdD9lWT5a2jNUCMsoQUt to pigZAtMiYmrFNrRA71cq!\n",
      "✅ updated uid from ifkWAufg5lcHdlb7ldZs to S29z8PZV8Ld2cFmq9rWM!\n",
      "✅ updated uid from 0Eu7ZPmqlnrz9zCcEFe8 to KX2554w0BVOezLoH7QNs!\n",
      "✅ updated uid from kXJIqNfrIEVtyrs3LXOs to VQ8S0Sg75ZBumVo2Mc11!\n",
      "✅ updated uid from l0zQMzdyseHs3EXevSqw to NgCF3CwBGHeX0LuXxwvY!\n",
      "✅ updated uid from e08vhL6X9799UdJBnHxO to 50kjKVc25kPV8h9vkvFO!\n",
      "✅ updated uid from Rj69te5HZYbxQQOcnEX9 to nWk5O43qTK4nqOeWPRRs!\n",
      "✅ updated uid from bWgHXobfrLc5ivqnN54p to zuJXglTH8zUA7aP91FYo!\n",
      "✅ updated uid from UUg68FnTqORUwPxjtraE to JDgehPtJxxhdTOtiuvEu!\n",
      "✅ updated uid from L2R06OCvCAo72Sl2xqtI to bN6Kl8Zsk7KU6XYlwii2!\n",
      "✅ updated uid from ffBImSsqFKBsyqIS2bYa to aO8c6yXUZwPz5ndmdwU3!\n",
      "✅ updated uid from ilSVkXcERCPS0kD3O7IJ to wt7eD72sTzwL3rfYfHge!\n",
      "✅ updated uid from KN1b5OgDSJzjGi5zRZjD to p8g1N0PPXRWN8h9zXUeB!\n",
      "✅ updated uid from Olx1ZmR2dXQO7hv3AlOh to ONkfPTYhFgRsFNhefNDT!\n",
      "✅ updated uid from RPW6cfyeYjr59MJDmDMm to jpMhbjrjRuZWUZXr4kxB!\n",
      "✅ updated uid from JVmSNPaqgBXpJ1WmwWIT to 0EvCxCNIHX5sJ5SuiJc4!\n",
      "✅ updated uid from 0Edbgx8RNe8jMRm6F6mh to 2foNbjCmWjyb1tKlEcdS!\n",
      "✅ updated uid from SeVmby37YVTa6VXV1AEv to 8E5DyJLxZFaIiBGQYhtH!\n",
      "✅ updated uid from 5W9azIgTQtGjOFNgqTO6 to 3J0IkqmxiWoZsOzgD78p!\n",
      "✅ updated uid from RdTqHF10RIPg3J0O7DC5 to NmE5wV6HoaaCIbvNGxCA!\n",
      "✅ updated uid from VnJhki0vXuqRGxEDOx8I to HNom9TanYjbhT7AdZ94i!\n",
      "✅ updated uid from kCyIct3z3pLs9xgDwPFk to Hrrey2kkxBc0KQchrfJN!\n",
      "✅ updated uid from ll6O9S9mZhQukqCbE1EO to ekiORffZYKdSp9uE7Shx!\n",
      "✅ updated uid from qfReYF5DRKUCkBirOt7v to EuvuWGd8NKvfxDdRpiRZ!\n",
      "✅ updated uid from F4IJz61hnGMh4qfkqWzE to NjmCS1pQeNOnH4JQ8l5a!\n",
      "✅ updated uid from 7Bul3xKcbXs25Pw66UcE to Ll7wns5EZVQCOZPNjtwk!\n",
      "✅ updated uid from EAf6qGZLJgvHkTz6EfqV to Gz5G2ETTEuuRDgwmD7jx!\n",
      "✅ updated uid from FBElwku8T9f8rVXmmtLe to vjkZWSZRjpObi2Mol6Lv!\n",
      "✅ updated uid from qOBKhnifvDWN3m2RrUoI to NTa2c4JThVa7kkaJJ48M!\n",
      "✅ updated uid from usyfMAh5WnbiSvPhvTRN to sC6i5fdJMb43iGSHM9oO!\n",
      "✅ updated uid from BY41S690Gxn3CIWKFVUl to D4wGW1MkfehdBMu5t3uR!\n",
      "✅ updated uid from qEXBwLFnuvHf9f8kdQTn to Kdy4bxDlJrb70wHI5Sgz!\n",
      "✅ updated uid from cQAguJTIBU3nUpKEJ068 to KdWQ4KYK4rEgU2ChcWQ4!\n",
      "✅ updated uid from GMZM3rMQF8qI0N7zrTj1 to B2l3AUYp4egcmgRjGi8d!\n",
      "✅ updated uid from SDOykvxZJEnnBgQcjGgg to yBlPj8fH71ZpQzzICcyd!\n",
      "✅ updated uid from tYtNgl5PlOQvm8d5OwcA to lStGQDPtaZxyT0g1JLhC!\n",
      "✅ updated uid from T6ovP34CZnsXyDZArF19 to 6hvYg2EVUO8VzSQnycxi!\n",
      "✅ updated uid from kzXjWKTUhK8oUyzqS2D7 to ojEamIQcv083w6D3asIG!\n",
      "✅ updated uid from xFjNMkwmbyK5T6ysq7jL to aXoSMai1QQlmqCch1uNE!\n",
      "✅ updated uid from DSOj5xvWtK9RQtn7ggcj to s8x0Idi587LQtXCo0Pie!\n",
      "✅ updated uid from jBmfzjvDVL7OwSAvyfye to 9iiE8Epz4zQUikZp7gpm!\n",
      "✅ updated uid from wGwz3S9qagW7iJBESrET to Cch8MMTZLQzCpL13ebtc!\n",
      "✅ updated uid from p7Tr28eyUYaT289eI4SW to gPfsMJxKeK5P3LwRK8IL!\n",
      "✅ updated uid from 4xzGHU3YzxKGNFuvX5fO to 4c28hitblZyeF2Cn884s!\n",
      "✅ updated uid from EDe8UN7LpxmBcwa2n3nu to SDVD1M4X3SFiVEsVU0Gd!\n",
      "✅ updated uid from 3OLvH0444SQomVxHWoir to uYysYJbiHCcpoJgLSbXo!\n",
      "✅ updated uid from TQbsStVgOv78jamNZj8D to fXWpCo654lybqMOcOEKN!\n",
      "✅ updated uid from F2s23WD2uqmCbmAjVJSI to ijgbYnOzeso9kiPImQCV!\n",
      "✅ updated uid from EhGiEfWYgjDIcDe9q8X7 to BruYcDqMhCfPWd3qEVbF!\n",
      "✅ updated uid from XOfBmpk3T7VBtYPcBHpo to Mgilie8RUip2slElAhaw!\n",
      "✅ updated uid from xgUoQjys0dxNBWCTcWuG to PDKtIjVvJxyT3C6qfQIt!\n",
      "✅ updated uid from fOzi2xV5wuH3bimm7jWr to fpYlD95bV7NuX31iLnAB!\n",
      "✅ updated uid from wU2vVnfDans8D8H33Bas to 69BlvSza74SouvB8Nk0H!\n",
      "✅ updated uid from wLzsWwoKaNx3aSUNoWGE to nHndtVCPzuc3pav8Ggjt!\n",
      "✅ updated uid from 0pdzb4xBYzYpyY53QqzE to q8mDVNaLoIVFIIlMysOO!\n",
      "✅ updated uid from 4cL3j0wgR1voSATETAy5 to Yyszx0yIrSEuzWTezlsW!\n",
      "✅ updated uid from ZeGrFPJZligTm43IJkoS to qecDzr0ENq0JQP21uIGl!\n",
      "✅ updated uid from b9awk0AjD9yFvL8HltxQ to vBAoZ3akkvDiaSXlfeM3!\n",
      "✅ updated uid from 25LCpdBzUazpaZ17WYED to 5v0IoJIlnuX4q1y57LDy!\n",
      "✅ updated uid from ItnJlSmvUagSDJy8Yv4s to wsNSkVpy1ytJURNUgUWW!\n",
      "✅ updated uid from n4XPRyiw8KWl07cggEgi to n11KAh0SGhZlecv3CVqV!\n",
      "✅ updated uid from DVVsODB1XaYOp9VxpjHv to ZDBvlk1lmoOSXHFXm4Ot!\n",
      "✅ updated uid from UFuAV5nRByKKTznAMydA to kqghXS81TCI6u17wYfjk!\n",
      "✅ updated uid from pm7A3x0h6uB8xIIegxNI to fbICYv7ARvTk7HC0f9rI!\n",
      "✅ updated uid from maX9yDVzBPurGhsJyLmb to j9taMjlgDLGhkiYtD0Ft!\n",
      "✅ updated uid from lWlTJ30Wt1w0QQqL3Ofx to 1LJUcEAyBcFf9m8jCcP0!\n",
      "✅ updated uid from biPog83rjuexOfekxIR7 to v432ItMAd5yVPDYnbWxS!\n",
      "✅ updated uid from yBXyAtV0bPd5zP5IoDuR to DqQShMxaHzyIMCqcbNG9!\n",
      "✅ updated uid from YDxIf845xQNo44buzhxd to xwg06JZLL89kltqkYBIw!\n",
      "✅ updated uid from xM3Rl5Bhxhpkm1Evmy7G to EfyIwzf9SfhsqJUrgXn9!\n",
      "✅ updated uid from DnRI64SeUIKd1xGB6yee to kYRTpMaBzEiJBUcWWkbR!\n",
      "✅ updated uid from 268hNBPVPfuUZdDDz7LJ to tggrprv4cllqGOrH8RlL!\n",
      "✅ updated uid from IQYN7hkOHhLqOq7DXrYq to cJnz4Xj5CLWKka3sQEwc!\n",
      "✅ updated uid from bN6MGKocGpoC4Thvw1oR to ZDxuonbHn2F8sJXwg33q!\n",
      "✅ updated uid from BlshSnZTwMkV1p7ZVQ4m to tczTlSHFPOcAcBnf73bg!\n",
      "✅ updated uid from xZAVloPMwoQNEmdan9nL to prpy1BuQpzzN8MWdeNMA!\n",
      "✅ updated uid from qgmNvCon7tU1o74stcKv to srVaz6iYjLv8b0AlCvWn!\n",
      "✅ updated uid from odyb9HHHx5w43wVEB3tS to B9i51CZzdbzfw6wYjsRe!\n",
      "✅ updated uid from pUnPwPsjQh3FArlk3xXF to mLNsxg1OtUGShbkGvrJl!\n",
      "✅ updated uid from 4WO5uBVsvjXCaiF6dxaP to 7KpelZCKNcnSWsBbPuQs!\n",
      "✅ updated uid from 8or8wnYyaMblIrmKji9d to EZubvswwxfhvVeLDjlIN!\n",
      "✅ updated uid from AquZBToGe0raLCl3sKK2 to LVUZLGsiRnAsqi1Cvmbc!\n",
      "✅ updated uid from 48wP3IT6g4y30wmg57wD to e7vtt5p8Iq3iyZIYfMyD!\n",
      "✅ updated uid from EttNncXODMQ6wxcOYoga to lCVyrfntSROMxki9Isj2!\n",
      "✅ updated uid from CElECyMny9A5hBboWYsF to 1OyQQLNfu1nzvVADODND!\n",
      "✅ updated uid from ulu2Pd0gNmglTwRdcaq6 to aP6LjumDJsGNpXZO8tEQ!\n",
      "✅ updated uid from Gz0qZk3RwTqGcUfWfyN3 to HVcsneoxlIT4Qk7Ifycq!\n",
      "✅ updated uid from pdb0NNmEztJHhzQmWuL0 to ZcQ2ut4JGwk9zB2LZ7AS!\n",
      "✅ updated uid from y48mpuzSELZlFk49XfST to lMLp2Aj9tTGXaRtjJ2oZ!\n",
      "✅ updated uid from hTDKYtwbYJxESXb9W7X0 to YX7ptFx31rGtB9MpPXbl!\n",
      "✅ updated uid from VwqQOgzlAdSyc7GK9Gdf to JKbtTgqQemTxDdZfo122!\n",
      "✅ updated uid from R4LU1L5JygEgFq7oknwR to Vk6RSIIGLvELtKPmmBOL!\n",
      "✅ updated uid from luZQ4VBR5Z48BNZHx1XG to 9vpGkXblzQIJAlh2e8MZ!\n",
      "✅ updated uid from VVBfqT3OkxiXbpsK5tSJ to bumxwv6BCUSGlpjp1oPg!\n",
      "✅ updated uid from PKmIae6fhL3Sa1GiTb30 to q33XvYIgCwKDDRWmee31!\n",
      "✅ updated uid from xL9d3SnCxjN7LzLVYoNg to mtRyl9W0R7ee9l67l2d3!\n",
      "✅ updated uid from DleIntZBl8lh3M7hHv7b to f9lGZkg8IIhLCmJGHmI1!\n",
      "✅ updated uid from z6g0FBO3JKBghZ8wMFXG to HFk1Nhl1LgUBg6rH6HFP!\n",
      "✅ updated uid from 4zTgW3WpIpglF3zTP4sz to xORZVYp5YztbqqLil7nX!\n",
      "✅ updated uid from QMC5gKOTMqFgmlfQBrKZ to EnNi47dwsMHZgghca0BE!\n",
      "✅ updated uid from t3S6e34gy7gBryhd0wo8 to 56hlmjXrmktNyheUNq4I!\n",
      "✅ updated uid from qgLMCcAAhbgPhHSPMIsS to 1YpDHD0mjLFA7QDbe8n6!\n",
      "✅ updated uid from m4B9m9liYE7GerRhafnX to JcdhMjwI4M5p80p8XFVq!\n",
      "✅ updated uid from YBWvXtmfaKu01VwDc0Rx to EHhxQUdTFjv0T1V9bkUx!\n",
      "✅ updated uid from fCgYnrZ3MrDcn9m8BYXx to vXTpeThGQFYQTY6hJXlc!\n",
      "✅ updated uid from mIq2mAM2EtNp6D51ckF7 to XlL5VozrEz4UU0TNsE2P!\n",
      "✅ updated uid from K8FJ35QhBDHbq2IFnX4I to 3VsUdMB93zPy4phY1qHT!\n",
      "✅ updated uid from kh2Oyba76yR6cliBpPK0 to yyEovILsyx6hMvnz3FvZ!\n",
      "✅ updated uid from N7HOigWme6XiEyZDtCj0 to 3l9xpVRZgVIO9BbRIZ1m!\n",
      "✅ updated uid from MTz9C0B1xCPzRmUxkHQ6 to KCdDXw5sKqn7LmiKh8SK!\n",
      "✅ updated uid from bIRKbtGl5eV5LjAufguf to qajxoNnKJBU0e49jrp2u!\n",
      "✅ updated uid from 7bkumc1vKC51yP0FGZFC to VgweucTjTX7vESC7fVUv!\n",
      "✅ updated uid from KO0gQitavYjsn6rCJ8vJ to ktwL1x8BiMQEQOovZ3CK!\n",
      "✅ updated uid from O0GZswRvmRaeRvKupoOY to 3ACN4x8xJWqmQ4O3cKgB!\n",
      "✅ updated uid from 6DLcG6w4U4qZz4NJxSFR to y34Wtbj0OQb71Pp26rDz!\n",
      "✅ updated uid from tXy1ZzX0f1VXXWtxUAND to mhVgYOIk5YlOALMtEYhO!\n",
      "✅ updated uid from x1NqtehjNNEZZT6PHTWA to sMYTEwfxhn3I6LCkqTcz!\n",
      "✅ updated uid from MlmEjigOtKpv0Y16zgqt to Tk7VvA3WZwZ5b7LZKbkI!\n",
      "✅ updated uid from 5JaMFsOeBGCZ7o7IFki1 to CDlzizK7gB6Wp3QsnGL8!\n",
      "✅ updated uid from 2p2D5epoFwwggpatrlAD to 1W8MgqcO0evL1hcrqHi7!\n",
      "✅ updated uid from UO1alKvjk3OSyeScnpj2 to n6BbWkIZ1YgMge5pmI7l!\n",
      "✅ updated uid from UVIsoNLl9JfoRYAZlTEE to dh4gbM1TXtBswOMHgYjX!\n",
      "✅ updated uid from YuFClXQYwWDgxAHViWx4 to PDsBucA5LyDgcnBm8qPE!\n",
      "✅ updated uid from jY0VLsVH2Z4WYzCMsOlW to AhfSbOToRZvmVaXHPfwk!\n",
      "✅ updated uid from gMj92S7Eu3Uo7JFkUOus to XqjsmDJu9vpxwLPVKMuo!\n",
      "✅ updated uid from zBaYvlITPtoE7jfMdbVB to gJscvcghJjRIf7CKqcWN!\n",
      "✅ updated uid from jM0bO0AMhYiAWP84Skjp to 0R8ghH2SLoAEDRRDY7uY!\n",
      "✅ updated uid from wcQhjJqKzbSquiy1gjW4 to Jis0nXZNtlIedOxerO0c!\n",
      "✅ updated uid from iMiLN2EADjjQuJrUB0FK to u5fvyYiBdvPC4tF3hJTt!\n",
      "✅ updated uid from sFO15Lgl1Dzv5O9tUFZM to NX48aBroUbLfH1GbKwzh!\n",
      "✅ updated uid from JDQoh5MgFZT5vr0LvhUU to 6fkuxqyina8axLiKpMyO!\n",
      "✅ updated uid from 4MRApeDfb3RUD1zIxYuO to NMcmKEqTBqT1HBEIWJgV!\n",
      "✅ updated uid from vFNGyg19cOnNwV1t0KyS to 3wM3DSoToH6Dx3LjsSFg!\n",
      "✅ updated uid from gKplrFrvQip6lAr6cifq to ZzGi8GCf1UIvv5RNk1Sz!\n",
      "✅ updated uid from TtsEWgUomY9emHqdil6T to FLLhne5CQGsTmVTKH2j3!\n",
      "✅ updated uid from pR5RFx1GW0T5OLOTdRNj to i3XEI4gXPwloSmGPkoS5!\n",
      "✅ updated uid from rDjtveyrbtDt1pTmOGWW to GWIiUYjsepRyTi3CDvCx!\n",
      "✅ updated uid from OMcywyJ0pbG3Q91lLSmg to MUSJ94kuSMGp31yAFgPj!\n",
      "✅ updated uid from SxLseo6Sn7drXq1XEJF3 to tC4x3bL2Anr0GrPFYpt9!\n",
      "✅ updated uid from wY2fmY6uf7iInd4LxfeC to h3ceP9ROuuzqxmHyIRBW!\n",
      "✅ updated uid from CVWzlb3rk25dwWGQHGPv to 6pGHX3bAIzwZ2FrxmIAJ!\n",
      "✅ updated uid from RI9fq3EZNZapgFS1KrQI to Ce4Mqe4X2vUhwkwnh5YQ!\n",
      "✅ updated uid from Q1ic4F6Q0WftDS61tt0Q to kl8STjrpbxvPtxA6cn9v!\n",
      "✅ updated uid from IX4qY3lX18yn5eYDPhpx to xcB49st0ePu4urWkbyAn!\n",
      "✅ updated uid from XZ2Gp00BuzRG1ANQpryd to fcaCRu557PUKn5IAMrc6!\n",
      "✅ updated uid from W14jo4QdQawFv58NXO1K to PLmAGL4QyZCmvyCEHbxQ!\n",
      "✅ updated uid from l6zP2DayyjjUHmKJAwyW to mJZN2fZRIPBZf5yDJHVi!\n",
      "✅ updated uid from blgvCbwMqO8wgXLg4nqE to dbNcAhjk3abxBkxE2BRd!\n",
      "✅ updated uid from fj0ROwkqiKYHHWHEKbJy to N849OuhsgqIerohv9CZF!\n",
      "✅ updated uid from LMfxE7x7tDrwyzzfueZ6 to 4xHBtTf6gQXoeZ38BBsQ!\n",
      "✅ updated uid from JV369dGZYUQu8dnigXWk to 0cPExUt19otkTSpsBZ85!\n",
      "✅ updated uid from zUasMbvB3Yk0SfMbsUIG to g3JwG0mEL5EpVa5ekQRL!\n",
      "✅ updated uid from uLvNvqIZags5qMIfrTsy to CoMgrnD2GCTGmBZZB6qf!\n",
      "✅ updated uid from x5vsuOPnp0N6md0w0tD7 to vXLNZkm7qaNHomkJ9F6c!\n",
      "✅ updated uid from fn4Ohhx8oCXXyEO3qdPZ to y54VAzapgdrqHkrV4ULX!\n",
      "✅ updated uid from r05b8KPH7alpnun40RLQ to OMkJkHjUz316hxaKGykI!\n",
      "✅ updated uid from 8LLaDAAU7hwy27PZXJJb to 5KiNZFTmmrbJz4iEcypV!\n",
      "✅ updated uid from 0NTN1kuCCp8MIXlgKp1O to gcT3x0eWG9LlKyHQUZ5w!\n",
      "✅ updated uid from p8C8JfLqAwmJRejU5lSV to ozgLNeKft6J51PJEqUKV!\n",
      "✅ updated uid from eeFRXhwBcb4reDU56DJY to 9ZD042baEAvW8QpoOo0b!\n",
      "✅ updated uid from 13YlDFTH8TJnMIU6uYUo to 3SSFIz287j3aUMHWXxbr!\n",
      "✅ updated uid from 3V9rqZBX4evxsr2d3eJ6 to bpGM2ctxzaOljosnse0U!\n",
      "✅ updated uid from fhgFRW5kenXM823bIKaP to 1LMYfRVyaEthHlP0AeFG!\n",
      "✅ updated uid from JC8LHKU3NCNcLhv5VGZn to 8qIWcHHXu2SNUJntFTGk!\n",
      "✅ updated uid from QyyvLyq7kbnNV80Dg3jP to 606Q69EwbjTav5rRyARY!\n",
      "✅ updated uid from M1TV4rm3ZfDuPNFbWF9l to 9z4YiL0Pk0DBLnIA1zK6!\n",
      "✅ updated uid from dMUt01bd8ni5x99qJARP to 2vY719FXrp8UpgET9qOk!\n",
      "✅ updated uid from kDsb5Y9kIvh6aDmlDxS9 to kC30Bas9AlZmLUT19RE9!\n",
      "✅ updated uid from 9JrO7v8C5EeLQerd2Z9D to Nl6GfwFn5YYSWywZZMxK!\n",
      "✅ updated uid from aeo6Cmi9BvzPx5X7sziF to qDWWmEMCw9AZNqb4RtD5!\n",
      "✅ updated uid from DIYulH11uyMvdlkOCUx7 to c7WS9K7sIDhr4B5Pu3Qz!\n",
      "✅ updated uid from htbDp0iDwhlAbDhQWko3 to fYxfMtiIP6NxyGtcItM1!\n",
      "✅ updated uid from ob2nbrSnYI4JLuwkq891 to vGLMnyZyY1tCZz1BSai8!\n",
      "✅ updated uid from KGezMX4w5VwOXoiATTfJ to 6mnZ3SeQFhffr3wTKcRr!\n",
      "✅ updated uid from SC4Gd4Psq6E9uNazhnMH to vRnWAp9oYTMzn4BYZ8My!\n",
      "✅ updated uid from bN3NiRyfDNUSKWonMOaj to qSKZnTrpbI9qNmnqjP5i!\n",
      "✅ updated uid from VxwGoXreSnmmlQ9BQxjG to 8aoJOsRQ3MqAl6WJIBnt!\n",
      "✅ updated uid from kKDg7HaMvIVjJZj3Icnk to RaAgwD1SB9bRdLOMMTDB!\n",
      "✅ updated uid from wkI1hOUO746wIt33oFM0 to 4nrJsQi3AGMJv1gHv6j3!\n",
      "✅ updated uid from T0gZ5fDxTUEzp8TOddoE to SERtzz2ju6MCnsQPjIyV!\n",
      "✅ updated uid from qPyDFzhUjoNkCISKZ0wG to c1Itlm1mM14cAQ8GYQUa!\n",
      "✅ updated uid from hweZ6cpIiTXm8iZ4Vl9q to uOBoDhyJqTCY4fM0SBoj!\n",
      "✅ updated uid from BeGrJygAhgbMlHPoLw2P to 3xyDgsLdP9DW2GBTtmJK!\n",
      "✅ updated uid from HhjQ8OsK4IUgplsls5FI to FwDN7OxREMzZE9i6pVZi!\n",
      "✅ updated uid from z6RzbGetDgZPXtUgnysT to 4G7QtgJ0oNlJTiqNpkcn!\n",
      "✅ updated uid from NK823ekAS0Sxkox3YrFj to J2WvGiwOE7tQ02OjoM1k!\n",
      "✅ updated uid from N2jgXkMYYWOTmZBtHeOm to nAJSAIcRSAq0wa6dkE6U!\n",
      "✅ updated uid from sQRMZuvdkk9pQsZviLAG to PRKoLikXilVZU9dRkg5j!\n",
      "✅ updated uid from 8IvypVvaZq0lu8Vejg8P to 2whWG1oW3an5dY08HxeO!\n",
      "✅ updated uid from xMzvIi6AY1dadongRKKl to KzsdnozUB43gMFgHKVwh!\n",
      "✅ updated uid from w3tDaFUu3lvYFtffQyXC to TYpQYfvoacDkTzQY5dT5!\n",
      "✅ updated uid from 4CIIGYfm9z8LD6om6lMY to ECCLBSq58bgj8oyVJ36H!\n",
      "✅ updated uid from MBNURrKQlWJzSNrZVtvH to Jjs1ddVhcHUUonLxJydE!\n",
      "✅ updated uid from U1tZIYKBMVdE9ym9nSEM to ywGKT3u2oLn7BDQTqWzY!\n",
      "✅ updated uid from HX9HZxZC2R9sMv4Z85GX to 17vdxerambO3PKmyYTok!\n",
      "✅ updated uid from 3dKM8NieTB7CbasT2UYX to lEzrtwE3PN3MdwxaS2n4!\n",
      "✅ updated uid from hAN1RX9bfCGjLOHLE0DY to TKHFkSRPTbwBIOR324CC!\n",
      "✅ updated uid from QocY5jpLclL1hPE9f3Yw to vvBVHvno5rrp8Rh5e680!\n",
      "✅ updated uid from tRCwYF0ij3TDD4yDvzI5 to uLU7vymLJFr1yOnXUEyd!\n",
      "✅ updated uid from iXtX9ZWmDQLVLuh24hwV to KFxLLDMNU8Q7aElirmEN!\n",
      "✅ updated uid from XISCCzi6gmVT8pH4yLg0 to wSJEAZcBnIplLzuw4Qv3!\n",
      "✅ updated uid from YEYcDZwEOZFTx4psv0vf to 36Kp6meGRm3wNERxTayc!\n",
      "✅ updated uid from 28gLCJJGwSu91jAMOv6h to cTykZt4wUCOobD9lh6cc!\n",
      "✅ updated uid from eKsECkSN7HJ4SEwomo33 to 2HoqnnMXeQtWwrLoLLBo!\n",
      "✅ updated uid from PysSI7tPsGC7RSoG7AfZ to f1dolV6972dklce1QBVH!\n",
      "✅ updated uid from AY8ZtjIqhvUDfs3WJp7i to HfEyRjUMujDc7lWtLOPt!\n",
      "✅ updated uid from OTXgWav4eLt7336LB2LZ to NkaSlYHau71IYVM2cI8L!\n",
      "✅ updated uid from jETSLOL4vioVYEKJJwAo to 43wk9oVNmGy53PC9FkoU!\n",
      "✅ updated uid from EIeZKNr75TrXtx9qZ18d to G12OJ3GwGFmm4lByY9u1!\n",
      "✅ updated uid from zYDCXrxIRncxvnpaHOpQ to tS3TXuffE5Nith5791ML!\n",
      "✅ updated uid from HE4bXlD9Nnf96w2793Bk to HVioHyawLqj44h24yo6H!\n",
      "✅ updated uid from 2Ed1dZP37f3hD7J9OYhG to tUyvzeQn1yaUfgLX0PXA!\n",
      "✅ updated uid from 9FxaskT0e9mKuX0KyUwB to IhGeXQ5lmk2gkeShkj1A!\n",
      "✅ updated uid from 8MbEzntY8k4WB9QaMpxr to bUlXBHcPujazoj3bZcYy!\n",
      "✅ updated uid from Ag5HJEm7TLOYG0r7ZmG2 to w0eKx2MO3At5bEJ5pFXj!\n",
      "✅ updated uid from zq38AoOuHdEOclrO76Ic to MkRm3eUKPwfnAyZMWD9v!\n",
      "✅ updated uid from NnAtnzf1iryFtbxkiHw6 to 11HQaMeIUaOwyHoOkqqM!\n",
      "✅ updated uid from HLWd1zXZ2CKac48xd8O3 to boS3N9G4FT9FFwyYVWWd!\n",
      "✅ updated uid from aQSY2PFqNbqS4AycZliE to 4YOO34dfpLCVOwzbvrL0!\n",
      "✅ updated uid from QVBbPZTjEVo3EexwAhPu to qzbh60hKjCc0rUPN3D19!\n",
      "✅ updated uid from k7yilTJuTlZmPvT8JmrW to 0hrPhYDPB3oG2BRqA4RI!\n",
      "✅ updated uid from pqRBPgFO4yy0BhrZePfX to fPixaPrRFZbdc6vtZ7tA!\n",
      "✅ updated uid from oepD8LOCfWBJYFmHZJnt to srCjBo9UGBfblOz1d618!\n",
      "✅ updated uid from kukHtNYJo90hW6hrolGk to my4iPi9IgSiYIcc0isYk!\n",
      "✅ updated uid from vMj8xGvfuXPOTFfRE2dL to wjLcReBTgOY4y2u9VSbo!\n",
      "✅ updated uid from I77JlYA82CUTXaLV24CE to nReEXA9KUC896jHsVplv!\n",
      "✅ updated uid from xl3MT2ql18yESaK9RjG3 to e63bGRsuxnZkGZt4LELT!\n",
      "✅ updated uid from 9AxPbkuIftFf498DLabh to FqxF1y70fhTZYjJJtDyc!\n",
      "✅ updated uid from El8iKpuBs4BG3gPOf5WA to gwvH4Czm7hrzovBlO0Yw!\n",
      "✅ updated uid from 5MqFLSJy1KtmhJotfWM1 to MZdKXmBGUCNtlHbwngOt!\n",
      "✅ updated uid from YUw2HghTGoNsJUWD8awN to UEE9mPND42ONqZUCu0kM!\n",
      "✅ updated uid from zdvA2upLnL7Sp1EZZZot to dfcB8OkR3GjDc2lB0teD!\n",
      "✅ updated uid from Yfl9iLN0UzuK6PfJAcFv to 2Q57QiG5V58K3fYANFI1!\n",
      "✅ updated uid from 4COo6giWeYmVOsH5vr8P to AxZyNrImoyyllQ17mYBl!\n",
      "✅ updated uid from VavKfaTZDLXmzdeuLbwV to wz0GqTdrEOxbzib75emU!\n",
      "✅ updated uid from 6XMrseVcLvgCXIy1MI2s to j50iKDhkM86ysI9c7Vuj!\n",
      "✅ updated uid from wBLfG53eCGPSYRfJJhwV to 3tBOKwUCzd1d6e8ByFVb!\n",
      "✅ updated uid from XL1XyIpgWEHGDlY9uX3h to 7DkkEwr8heBoaaZj6rEO!\n",
      "✅ updated uid from oKGlfMRgcwfJf7yUQAMo to AWVtlEeUP9CZ3YFGoATF!\n",
      "✅ updated uid from 3C5bQOxWapQ4eQUHHB3M to 2PN6LTuSmJI2TSGlbUMV!\n",
      "✅ updated uid from kdNSRnbhNjxqwAFIFbEl to w23ytD6ugNHpFLWhv2Ob!\n",
      "✅ updated uid from bUkwBb3BUaKIoWOjuhMs to 3hfdSoNDWqS5GUuY2CQu!\n",
      "✅ updated uid from FnWPx5oVnN3dOvXZfgl0 to LZiLuqCzaB8peGzT21IX!\n",
      "✅ updated uid from hL7op9RF0uDXstZIDm8P to 8HqrXTy3ziRbU4UUDea2!\n",
      "✅ updated uid from 7OJIdLJTlui3V0Flj58I to LGai3Qzq7PdlkPrHvQyl!\n",
      "✅ updated uid from K2dUZtTruoXplHI3kki1 to Ov1FG8RPMZpf7fu4uwkE!\n",
      "✅ updated uid from YYaGERnMaFYpU6XG97wx to NwFOBmT6emiJaeyrEc65!\n",
      "✅ updated uid from 8GCjIYH269X8pt8w6S4d to MGpa3gkgR2O9Qml2QyPT!\n",
      "✅ updated uid from drTW88WQmT2JNhwXmqyz to 8Nvv13lKsjEHL8dnaCfW!\n",
      "✅ updated uid from dKB7q3zVKhf7nmMTkNr9 to ciDzKfg6l9BHLU9JyHix!\n",
      "✅ updated uid from ZKY5S55aVmReV17qhG0q to DKUxuKKJ5eXAtFYh2Gm4!\n",
      "✅ updated uid from fpqs1CVomrY3PS5aKOZ8 to d0JqVUfPuonxM3K3USwM!\n",
      "✅ updated uid from u9suVM5ZGcPx984Nm1ZV to hepeOsNPBGb3ibNFPn4C!\n",
      "✅ updated uid from ME2rtl6HiRcFagnKe5ww to r3Il0eSvaXTZk3P2umM4!\n",
      "✅ updated uid from chTwxQRWyS3ZnCPZV5sZ to dSQfhOcDievCEboZ9Mcl!\n",
      "✅ updated uid from s35aPSgtEPLeDmudbrSG to zjcyPjp2fVK0vWe2JlNF!\n",
      "✅ updated uid from kkApYChO8NvT1Igxgg1z to q7rGFy5JQVC4FU4XT13l!\n",
      "✅ updated uid from tvDGaD8rjhb8VSpQyZqW to qcWqelYb5nf5hTSn1fRd!\n",
      "✅ updated uid from DXa2yo4C42kYjDQALxUN to WBNllawD7nrb0LvWAWSC!\n",
      "✅ updated uid from JBcj8KTSaBG0PkXLEHr5 to 1AeEHLQzGyRZL5nwpffu!\n",
      "✅ updated uid from SiIWZXZ46nihN2xPNvsl to xiRAVXfFZgb81hPRvi7i!\n",
      "✅ updated uid from EtorIAXwdxBe1pTmLpON to ZYP3pcNjwdatsYunfi26!\n",
      "✅ updated uid from PW2yLEbrioi6Dfb5dQM1 to JbI2ffXwy6u2N47SbXtG!\n",
      "✅ updated uid from 82AFBXeGUkavkBWORiaR to Zzyxj0NDbRHh6DiXWF0n!\n",
      "✅ updated uid from 9BU6rSr3ROU2IooRElzF to HRnkxNDMCrJv3kVoqANc!\n",
      "✅ updated uid from PdRYpdafbeKa1rZHh6LH to KPdvPezb9hjQ1HcFM7rE!\n",
      "✅ updated uid from lBBtu9rWORmZsNZNY1ko to COsRhWtVHhSTbnlrZTR6!\n",
      "✅ updated uid from ZfGvBcwpEa1cacOLxlaT to yK2DFgccPxjJCl8BSW4D!\n",
      "✅ updated uid from wwuKtto8dr2ejL592KZ0 to OPiDnHTLQTnj252UttQp!\n",
      "✅ updated uid from e364PbVfNZwWLLnIak8s to 9nirNwn3Gf9wT5J4rqw1!\n",
      "✅ updated uid from barRcKh08SU5fvMxKLTH to rgofRIOEBBZBTxZ6yz2t!\n",
      "✅ updated uid from oDWZeNdOCx5Mni5wpFHl to Xu8NsXWhXR2Hrv8GfPLh!\n",
      "✅ updated uid from 6YaCSDCcjTlYseJHKjsY to z3AsAOO39crEioi5VxqA!\n",
      "✅ updated uid from bbxCwpYsw9khCiMk92tW to zOW2EbIMZU08r44EmHXs!\n",
      "✅ updated uid from rRKvZlWE1OaRawSiu1mQ to 6QKCg2OKiI8EOU2a0k7F!\n",
      "✅ updated uid from T0Ef1DzR2ybOFxw2u1j6 to ACKKgFCboJIhYLtAZbOK!\n",
      "✅ updated uid from 2rqiTeXoVvrmaKH04lmz to BsvfKNhvT0k4cv4dcgvv!\n",
      "✅ updated uid from OawNiEZigGfOgQdLSRCM to xXfrauwVrb5LDn6R6YNL!\n",
      "✅ updated uid from IDJnG5ogfjHJTEkU1VvX to xdXNUKucnL4Hfd7lQTvd!\n",
      "✅ updated uid from EcLhsU6p3M3BlUeoLOAj to V6DPJx8rP3wWRQ43zQTI!\n",
      "✅ updated uid from e9TF13TwJA3h7179tK72 to jU7wZmF7oieXlnzwxaD7!\n",
      "✅ updated uid from Nh3ivcD4tj7eRjWGlE8I to mEuIWK9ttyh2JUfOGVkt!\n",
      "✅ updated uid from pNPyDjO05YAQqL4T66m3 to 80xlsVmayPPBCCEZ7aBc!\n",
      "✅ updated uid from bcZUqjaWiMa1px3hlLVX to mnlBjvQsb6dptjfUWON8!\n",
      "✅ updated uid from PPCyRswAte6Bx7UeVBC3 to G0fHmpO5qn0p1h8xGCUz!\n",
      "✅ updated uid from d136SLGae6q0Ksrkeuty to KAMpTRl9uQ2SK0Q2CDv7!\n",
      "✅ updated uid from UQw79KTgFemWmEVnXfc1 to uirvOIb9k0gCD5vqAJ3C!\n",
      "✅ updated uid from 4HyRXc8FFW7d7Xi0FPGC to 7JWPBDDaO3v4bsarZfKf!\n",
      "✅ updated uid from sXKqpgXb5sBdSxAKginO to CmCFFXH6ANF2aegumNpf!\n",
      "✅ updated uid from 5deC7SBVB06nhoPOYUfh to I9Byr2X0Er33TYSu7Gwb!\n",
      "✅ updated uid from LGYhsVVi2IlC3mT9V6Rk to b64sxYNzw50xZSe78SmS!\n",
      "✅ updated uid from Hy19BM0aVAfbiXfy9SeU to K0A0xPNYJ7TPQFR9mUKU!\n",
      "✅ updated uid from gEwzcmR0On6NbwKjb6ZF to f9vZ3oDdtf47coxW0FP3!\n",
      "✅ updated uid from DyPJA0KrhfIMDg8BREjO to OqNaHVoOvO57na0aDOpY!\n",
      "✅ updated uid from oqle4NcqNEHsOSbr82Fq to o3PqSM5mpPpirVwaK13e!\n",
      "✅ updated uid from li0ZXK1BfVkgA4rjW9cK to dMy6xuRTCsxOy1HoZqrz!\n",
      "✅ updated uid from ByckURTQvF0YAY0O9XER to NiaMP8YQMbmkdOgnAa1T!\n",
      "✅ updated uid from XvjooLyqhvru3mzWznfg to 9z7kKh6NoGinAveQSHAP!\n",
      "✅ updated uid from TC3Z8jSUfPHNNkfIsJeN to ijegYnsWNUYemo98fF9f!\n",
      "✅ updated uid from X2MeM8csaebP8ZQdN5FH to vdes15TDCM31PqryGT6E!\n",
      "✅ updated uid from 4nKjYZdaKsqNMSlj4erd to Ntdynj9uX3LGLRCK2xcV!\n",
      "✅ updated uid from VkTYkfW5vZEfDANgETkZ to OX929rXjWdWMP6Syru1D!\n",
      "✅ updated uid from 0TiOhoN2dWsmNhfLNVqs to 1Kb6hekaLHsuewJYE2pG!\n",
      "✅ updated uid from 608nLg8aM9gtkKtZB4x5 to XpnXIfcamsSLAvGsufmV!\n",
      "✅ updated uid from 9s12K2HcUjYYrKJa9XZk to jkeQwS8gamxdOVE5PPmm!\n",
      "✅ updated uid from Btvi2x4cWNByDRcT6lPD to a2bqKf5GqBgEih5GGrpj!\n",
      "✅ updated uid from x0AZlhUqswXVfmbGtyHJ to n37gHogaNTh7slIM23k1!\n",
      "✅ updated uid from 5z54ON70amF65B9L7Rw3 to QYOyTlyIdDwuZRmTYCnL!\n",
      "✅ updated uid from E5gKHof1SdipTqGomSaM to 6TNaDQUOMRx9Zj0s0d2v!\n",
      "✅ updated uid from n63psilvMbrTWITMoPeb to UQrmDlXa3F8oJ1UhOBhj!\n",
      "✅ updated uid from AEmaLUGEYXgpmlrjKijW to RHgzUuMuwOh9jBdisLrm!\n",
      "✅ updated uid from 2LFlm0KqC0gFxNN5H86i to BTqDzIN6ecwSRliblOsi!\n",
      "✅ updated uid from GslP7HY7ODdnTZ4hHcXL to lfZD1fkdaALmNjIggnAu!\n",
      "✅ updated uid from PcQ8Y6QmCXfJRZaGrXAd to KBW89Mf7IGcekja2hADu!\n",
      "✅ updated uid from Qe7ZtbL6pm22jiXwV1td to 8OxkoDF7XECAcIfkD8gZ!\n",
      "✅ updated uid from nSPeUcefCv0qX0MhVCW7 to OoktqBIu8jCoGOJlDlPR!\n",
      "✅ updated uid from fbFXa5QjKv7PANPeyWTs to ds2ArOPrb4AA8WBGkITP!\n",
      "✅ updated uid from A5RnIQksT3VmI62PEUlR to J7Ni7YzRM9R94RhmShk0!\n",
      "✅ updated uid from pMJjahlDenmjM11WgKsg to TJWkpg366cGCnTAR9t8I!\n",
      "✅ updated uid from 2EniebVNEB2AqHusmCYT to g0RcSSYe5vQKzSWYkhMc!\n"
     ]
    }
   ],
   "source": [
    "for artifact in artifacts:\n",
    "    dataset_id = artifact.key.split(\"/\")[-1]\n",
    "    artifact_previous = artifacts_previous.filter(\n",
    "        key__endswith=dataset_id\n",
    "    ).one_or_none()\n",
    "    if artifact_previous is not None:\n",
    "        artifact.add_to_version_family(artifact_previous, version=census_version)"
   ]
  },
  {
   "cell_type": "markdown",
   "id": "53cd99ea-6cea-40ec-a7a9-08e2b1ccd2c7",
   "metadata": {
    "tags": []
   },
   "source": [
    "## Register metadata"
   ]
  },
  {
   "cell_type": "markdown",
   "id": "c45998cf-43cc-4181-8fe5-0f2db507c1c7",
   "metadata": {},
   "source": [
    "### Register new features and parent labels"
   ]
  },
  {
   "cell_type": "code",
   "execution_count": 8,
   "id": "6893cfc3-b8f6-435e-be97-3a169647b94e",
   "metadata": {},
   "outputs": [],
   "source": [
    "artifacts = ln.Artifact.filter(key__contains=census_version).all()"
   ]
  },
  {
   "cell_type": "code",
   "execution_count": 9,
   "id": "b3caeb16-444e-4dc9-996c-fdc6ad6280e8",
   "metadata": {},
   "outputs": [],
   "source": [
    "from cellxgene_lamin._features import OBS_FEATURES, register_obs_featureset"
   ]
  },
  {
   "cell_type": "code",
   "execution_count": 10,
   "id": "1ffec9e8-9143-439c-8c99-7f57a093da3d",
   "metadata": {
    "scrolled": true
   },
   "outputs": [],
   "source": [
    "if not artifacts[0].feature_sets.filter(name=\"obs metadata\").exists():\n",
    "    obs_feature_set = register_obs_featureset(artifacts)"
   ]
  },
  {
   "cell_type": "code",
   "execution_count": 11,
   "id": "891b8f8f-d4b5-4417-aa33-efe3718d4268",
   "metadata": {
    "tags": []
   },
   "outputs": [],
   "source": [
    "features = ln.Feature.lookup()"
   ]
  },
  {
   "cell_type": "markdown",
   "id": "1acd350f-c54f-4020-a7e9-d4b4dae1ac71",
   "metadata": {},
   "source": [
    "## organisms"
   ]
  },
  {
   "cell_type": "code",
   "execution_count": 12,
   "id": "e1c83467-4bc9-40f5-832d-d2a54cc0d3db",
   "metadata": {},
   "outputs": [],
   "source": [
    "from cellxgene_lamin._organism import register_organisms, annotate_organisms"
   ]
  },
  {
   "cell_type": "code",
   "execution_count": 13,
   "id": "ee44032d-ce23-428b-95ab-2bd02917ba63",
   "metadata": {},
   "outputs": [],
   "source": [
    "register_organisms(cxg_datasets)"
   ]
  },
  {
   "cell_type": "markdown",
   "id": "253a26f5-b2fd-4edb-a72f-a1208e558f6f",
   "metadata": {},
   "source": [
    "Link collections and organisms to artifacts:"
   ]
  },
  {
   "cell_type": "code",
   "execution_count": 14,
   "id": "619930f6-07d2-47b5-965c-f247214ed985",
   "metadata": {},
   "outputs": [],
   "source": [
    "annotate_organisms(artifacts, cxg_datasets)"
   ]
  },
  {
   "cell_type": "markdown",
   "id": "ec98e4b9-683a-4eb2-aa35-bf3d15c63d71",
   "metadata": {},
   "source": [
    "## ontologies"
   ]
  },
  {
   "cell_type": "markdown",
   "id": "58ebf172-368e-4b4c-8dbd-73b91472fbd2",
   "metadata": {},
   "source": [
    "Register all ontology ids:"
   ]
  },
  {
   "cell_type": "code",
   "execution_count": 12,
   "id": "fbcc9eb0-4a17-4936-81e2-c0deea6bb27d",
   "metadata": {},
   "outputs": [],
   "source": [
    "from cellxgene_lamin._ontology import register_ontology_ids"
   ]
  },
  {
   "cell_type": "code",
   "execution_count": 13,
   "id": "6ec7357d-e15a-4066-938e-4948805faad0",
   "metadata": {
    "editable": true,
    "scrolled": true,
    "slideshow": {
     "slide_type": ""
    },
    "tags": [
     "hide-output"
    ]
   },
   "outputs": [
    {
     "name": "stdout",
     "output_type": "stream",
     "text": [
      "registering assay\n",
      "✅ loaded \u001b[1;92m36 ExperimentalFactor records\u001b[0m matching \u001b[3montology_id\u001b[0m: \u001b[1;92m'EFO:0700016', 'EFO:0008722', 'EFO:0010961', 'EFO:0030003', 'EFO:0008930', 'EFO:0008992', 'EFO:0030019', 'EFO:0030027', 'EFO:0700003', 'EFO:0030002', 'EFO:0008931', 'EFO:0008720', 'EFO:0009899', 'EFO:0009901', 'EFO:0010891', 'EFO:0008796', 'EFO:0008919', 'EFO:0011025', 'EFO:0009919', 'EFO:0700010', ...\u001b[0m\n",
      "✅ created \u001b[1;95m2 ExperimentalFactor records from Bionty\u001b[0m matching \u001b[3montology_id\u001b[0m: \u001b[1;95m'EFO:0022490', 'EFO:0022492'\u001b[0m\n",
      "❗ now recursing through parents: this only happens once, but is much slower than bulk saving\n",
      "💡 you can switch this off via: bt.settings.auto_save_parents = False\n",
      "💡 also saving parents of ExperimentalFactor(uid='NuGX0K6A', name='ScaleBio single cell RNA sequencing', ontology_id='EFO:0022490', description='Scalebio Technology That Utilizes A Plate-Based Approach With Combinatorial Indexing To Generate Single Cell Libraries.', created_by_id=1, run_id=27, public_source_id=68, updated_at='2024-07-12 14:20:41 UTC')\n",
      "💡 also saving parents of ExperimentalFactor(uid='5rfEtsEk', name='snm3C-seq', ontology_id='EFO:0022492', synonyms='sn-m3C-seq', description='A Method To Jointly Profile Chromatin Conformation And Cytosine Dna Methylation From The Same Cell.', molecule='DNA assay', instrument='assay by high throughput sequencer', created_by_id=1, run_id=27, public_source_id=68, updated_at='2024-07-12 14:20:41 UTC')\n",
      "registering cell_type\n",
      "✅ loaded \u001b[1;92m881 CellType records\u001b[0m matching \u001b[3montology_id\u001b[0m: \u001b[1;92m'CL:4023036', 'CL:0003001', 'CL:4023041', 'CL:0000050', 'CL:0011024', 'CL:1001131', 'CL:0000695', 'CL:3000001', 'CL:2000097', 'CL:0000515', 'CL:0002328', 'CL:0000895', 'CL:0009010', 'CL:1001567', 'CL:0000935', 'CL:0000514', 'CL:0008031', 'CL:0000928', 'CL:1000353', 'CL:0000322', ...\u001b[0m\n",
      "✅ created \u001b[1;95m10 CellType records from Bionty\u001b[0m matching \u001b[3montology_id\u001b[0m: \u001b[1;95m'CL:4030059', 'CL:4030061', 'CL:4030062', 'CL:4030063', 'CL:4030065', 'CL:4030066', 'CL:4030067', 'CL:4033056', 'CL:4033057', 'CL:4033058'\u001b[0m\n",
      "❗ now recursing through parents: this only happens once, but is much slower than bulk saving\n",
      "💡 you can switch this off via: bt.settings.auto_save_parents = False\n",
      "💡 also saving parents of CellType(uid='42PLafOv', name='L2/3 intratelencephalic projecting glutamatergic neuron', ontology_id='CL:4030059', description='An Intratelencephalic-Projecting Glutamatergic Neuron With A Soma Found In Cortical Layer 2/3.', created_by_id=1, run_id=27, public_source_id=60, updated_at='2024-07-12 14:20:43 UTC')\n",
      "💡 also saving parents of CellType(uid='aECMKjUW', name='L3 intratelencephalic projecting glutamatergic neuron', ontology_id='CL:4030061', description='An Intratelencephalic-Projecting Glutamatergic Neuron With A Soma Found In Cortical Layer 3.', created_by_id=1, run_id=27, public_source_id=60, updated_at='2024-07-12 14:20:43 UTC')\n",
      "💡 also saving parents of CellType(uid='6IlUXXLR', name='L4/5 intratelencephalic projecting glutamatergic neuron', ontology_id='CL:4030062', description='An Intratelencephalic-Projecting Glutamatergic With A Soma Located In Cortical Layer 4/5.', created_by_id=1, run_id=27, public_source_id=60, updated_at='2024-07-12 14:20:43 UTC')\n",
      "💡 also saving parents of CellType(uid='2HrbvQGK', name='L4 intratelencephalic projecting glutamatergic neuron', ontology_id='CL:4030063', description='An Intratelencephalic-Projecting Glutamatergic Neuron With A Soma Found In Cortical Layer 4.', created_by_id=1, run_id=27, public_source_id=60, updated_at='2024-07-12 14:20:43 UTC')\n",
      "💡 also saving parents of CellType(uid='2ZbG4sPC', name='L6 intratelencephalic projecting glutamatergic neuron', ontology_id='CL:4030065', description='An Intratelencephalic-Projecting Glutamatergic Neuron With A Soma Found In Cortical Layer 6.', created_by_id=1, run_id=27, public_source_id=60, updated_at='2024-07-12 14:20:43 UTC')\n",
      "💡 also saving parents of CellType(uid='hRZYk1yi', name='ureteric bud cell', ontology_id='CL:4030066', description='An Epithelial Cell That Is Part Of A Ureteric Bud. A Ureteric Bud Cell Has The Potential To Induce Metanephric Mesenchymal Cells To Proliferate And Convert To Epithelia That Form Renal Tubules Via: (1) The Secretion Of Multiple Diffusible Growth Factors That Rescue Renal Progenitors From Apoptosis And Stimulate Them To Proliferate And (2) Contact-Dependent Mechanisms That Induce Mesenchymal-Epithelial Conversion.', created_by_id=1, run_id=27, public_source_id=60, updated_at='2024-07-12 14:20:43 UTC')\n",
      "💡 also saving parents of CellType(uid='4wlSFvBI', name='L5/6 near-projecting glutamatergic neuron', ontology_id='CL:4030067', description='A Near-Projecting Glutamatergic Neuron With A Soma Found In Cortical Layer 5/6.', created_by_id=1, run_id=27, public_source_id=60, updated_at='2024-07-12 14:20:43 UTC')\n",
      "💡 also saving parents of CellType(uid='5fugWvKl', name='onychocyte', ontology_id='CL:4033056', description='A Differentiated Flat Keratinocyte That Is Part Of A Nail Plate. An Onychocyte Is Firmly Adherent And Does Not Desquamate.', created_by_id=1, run_id=27, public_source_id=60, updated_at='2024-07-12 14:20:43 UTC')\n",
      "💡 also saving parents of CellType(uid='2wh8CpfX', name='luminal adaptive secretory precursor cell of mammary gland', ontology_id='CL:4033057', synonyms='ER-negative luminal alveolar progenitor', description='A Luminal Epithelial Cell Of The Mammary Gland That Can Proliferate And Has The Potential To Differentiate Into A Lactocyte During Pregnancy. In Humans, A Luminal Adaptive Secretory Precursor Cell Can Be Identified By High Levels Of The Markers Epcam And Cd49F, And In Mice It Can Be Identified By Low Levels Of Cd29 And High Levels Of Cd14, Kit, Cd61, And Tspan8.', created_by_id=1, run_id=27, public_source_id=60, updated_at='2024-07-12 14:20:43 UTC')\n",
      "💡 also saving parents of CellType(uid='1RLBZZWy', name='luminal hormone-sensing cell of mammary gland', ontology_id='CL:4033058', synonyms='ER-positive luminal hormone-sensor cell', description='A Luminal Epithelial Cell Of The Mammary Gland That Transduces Endocrine Cues To Orchestrate Proliferation, Architectural Remodeling, And Differentiation Of Other Cells In The Mammary Gland Via Paracrine Signaling. This Cell Expresses High Levels Of Estrogen Receptors. In Humans, A Luminal Hormone-Sensing Cell Can Be Identified By High Levels Of Epcam And Low Levels Of Cd49F, And In Mice It Can Be Identified By Low Levels Of Cd29 And High Levels Of Foxa1, Cd133, And Sca1 (Ly6A).', created_by_id=1, run_id=27, public_source_id=60, updated_at='2024-07-12 14:20:43 UTC')\n",
      "✅ loaded \u001b[1;92m2 CellType records\u001b[0m matching \u001b[3montology_id\u001b[0m: \u001b[1;92m'CL:0002326', 'CL:0000152'\u001b[0m\n",
      "✅ created \u001b[1;95m1 CellType record from Bionty\u001b[0m matching \u001b[3montology_id\u001b[0m: \u001b[1;95m'CL:0000512'\u001b[0m\n",
      "💡 also saving parents of CellType(uid='6eUNBkGI', name='paracrine cell', ontology_id='CL:0000512', description='A Paracrine Cell Is A Secretory Cell That Secretes An Agonist Into Intercellular Spaces In Which It Diffuses To A Target Cell Other Than That Which Produced It.', created_by_id=1, run_id=27, public_source_id=60, updated_at='2024-07-12 14:20:47 UTC')\n",
      "registering development_stage\n",
      "✅ loaded \u001b[1;92m243 DevelopmentalStage records\u001b[0m matching \u001b[3montology_id\u001b[0m: \u001b[1;92m'HsapDv:0000143', 'HsapDv:0000021', 'HsapDv:0000208', 'HsapDv:0000029', 'HsapDv:0000212', 'UBERON:0000113', 'HsapDv:0000030', 'MmusDv:0000054', 'HsapDv:0000166', 'HsapDv:0000058', 'HsapDv:0000107', 'HsapDv:0000120', 'MmusDv:0000046', 'HsapDv:0000198', 'MmusDv:0000072', 'MmusDv:0000091', 'HsapDv:0000057', 'HsapDv:0000140', 'HsapDv:0000096', 'HsapDv:0000256', ...\u001b[0m\n",
      "❗ \u001b[1;91mdid not create\u001b[0m DevelopmentalStage record for \u001b[1;93m1 non-validated\u001b[0m \u001b[3montology_id\u001b[0m: \u001b[1;93m'MmusDv:0000041'\u001b[0m\n",
      "✅ created \u001b[1;95m1 DevelopmentalStage record from Bionty\u001b[0m matching \u001b[3montology_id\u001b[0m: \u001b[1;95m'MmusDv:0000041'\u001b[0m\n",
      "registered 1 records: [DevelopmentalStage(uid='6jNHUvWd', name='unknown', ontology_id='MmusDv:0000041', created_by_id=1, run_id=27, public_source_id=44)]\n",
      "❗ now recursing through parents: this only happens once, but is much slower than bulk saving\n",
      "💡 you can switch this off via: bt.settings.auto_save_parents = False\n",
      "💡 also saving parents of DevelopmentalStage(uid='6jNHUvWd', name='unknown', ontology_id='MmusDv:0000041', created_by_id=1, run_id=27, public_source_id=44, updated_at='2024-07-12 14:20:50 UTC')\n",
      "registering disease\n",
      "✅ loaded \u001b[1;92m122 Disease records\u001b[0m matching \u001b[3montology_id\u001b[0m: \u001b[1;92m'MONDO:0005147', 'MONDO:0005021', 'MONDO:0004849', 'MONDO:0005252', 'MONDO:0008608', 'MONDO:0005148', 'MONDO:0005016', 'MONDO:0002771', 'MONDO:0021178', 'MONDO:0002052', 'MONDO:0019622', 'MONDO:0001933', 'MONDO:0024660', 'MONDO:0005575', 'MONDO:0004994', 'MONDO:0021116', 'MONDO:0600025', 'MONDO:0002508', 'MONDO:0005061', 'MONDO:0005453', ...\u001b[0m\n",
      "❗ \u001b[1;91mdid not create\u001b[0m Disease record for \u001b[1;93m1 non-validated\u001b[0m \u001b[3montology_id\u001b[0m: \u001b[1;93m'MONDO:0100542'\u001b[0m\n",
      "registered 1 records: [Disease(uid='1sfLCprL', name='clonal hematopoiesis', ontology_id='MONDO:0100542', created_by_id=1, run_id=27)]\n",
      "registering self_reported_ethnicity\n",
      "registering sex\n",
      "registering tissue\n",
      "✅ loaded \u001b[1;92m417 Tissue records\u001b[0m matching \u001b[3montology_id\u001b[0m: \u001b[1;92m'UBERON:0001836', 'UBERON:0000992', 'UBERON:0003532', 'UBERON:0000411', 'UBERON:8480030', 'UBERON:0039167', 'CL:0002328', 'UBERON:0003876', 'UBERON:0002119', 'UBERON:0007628', 'UBERON:0000955', 'UBERON:0000310', 'UBERON:0002382', 'UBERON:0002046', 'UBERON:0000059', 'UBERON:0034891', 'UBERON:0007224', 'UBERON:0000970', 'UBERON:0001049', 'UBERON:0000948', ...\u001b[0m\n",
      "❗ \u001b[1;91mdid not create\u001b[0m Tissue record for \u001b[1;93m1 non-validated\u001b[0m \u001b[3montology_id\u001b[0m: \u001b[1;93m'CL:0000307'\u001b[0m\n",
      "registered 1 records: [Tissue(uid='3bgY2Yz8', name='tracheal epithelial cell', ontology_id='CL:0000307', created_by_id=1, run_id=27)]\n",
      "registering organism\n"
     ]
    }
   ],
   "source": [
    "register_ontology_ids(cxg_datasets)"
   ]
  },
  {
   "cell_type": "code",
   "execution_count": 16,
   "id": "e5762757-ab21-4f9e-9d06-af99a78dd9f6",
   "metadata": {},
   "outputs": [],
   "source": [
    "# clean up the celltype in Tissue\n",
    "\n",
    "bt.Tissue.filter(ontology_id=\"CL:0000307\").delete()\n",
    "bt.CellType.from_public(ontology_id=\"CL:0000307\").save()"
   ]
  },
  {
   "cell_type": "markdown",
   "id": "19776fb7-d87f-4eca-8f7d-c2d88ffbaf1b",
   "metadata": {},
   "source": [
    "## donors and suspension_types"
   ]
  },
  {
   "cell_type": "code",
   "execution_count": 17,
   "id": "74f4d1ca-6e4b-4b77-ba62-0b131e728b96",
   "metadata": {
    "editable": true,
    "slideshow": {
     "slide_type": ""
    },
    "tags": []
   },
   "outputs": [],
   "source": [
    "from cellxgene_lamin._labels import register_ulabels"
   ]
  },
  {
   "cell_type": "code",
   "execution_count": 19,
   "id": "1f4863c1-ee4a-4a1b-b418-e80fc7086dcf",
   "metadata": {
    "editable": true,
    "slideshow": {
     "slide_type": ""
    },
    "tags": []
   },
   "outputs": [
    {
     "name": "stdout",
     "output_type": "stream",
     "text": [
      "registered 1207 donor_ids\n"
     ]
    }
   ],
   "source": [
    "ln.settings.creation.search_names = False\n",
    "register_ulabels(cxg_datasets, \"donor_id\")\n",
    "ln.settings.creation.search_names = True"
   ]
  },
  {
   "cell_type": "code",
   "execution_count": 20,
   "id": "db2eb57c-d78b-4bbd-9254-59eec3e46352",
   "metadata": {},
   "outputs": [
    {
     "name": "stdout",
     "output_type": "stream",
     "text": [
      "registered 0 suspension_types\n"
     ]
    }
   ],
   "source": [
    "register_ulabels(cxg_datasets, \"suspension_type\")"
   ]
  },
  {
   "cell_type": "markdown",
   "id": "7a4c9d2b-3331-4901-b986-d2523597d20f",
   "metadata": {},
   "source": [
    "## Annotate artifacts with obs metadata"
   ]
  },
  {
   "cell_type": "code",
   "execution_count": 23,
   "id": "5297b500-0053-4730-a064-2de81ef5319b",
   "metadata": {},
   "outputs": [],
   "source": [
    "from cellxgene_lamin._features import FEATURE_TO_ACCESSOR"
   ]
  },
  {
   "cell_type": "code",
   "execution_count": 28,
   "id": "72a1457c-d4d7-45ae-bf20-87fd405c3a63",
   "metadata": {
    "editable": true,
    "slideshow": {
     "slide_type": ""
    },
    "tags": []
   },
   "outputs": [
    {
     "name": "stdout",
     "output_type": "stream",
     "text": [
      "annotating dataset 1370 of 1387\n",
      "annotating dataset 1371 of 1387\n",
      "annotating dataset 1372 of 1387\n",
      "annotating dataset 1373 of 1387\n",
      "annotating dataset 1374 of 1387\n",
      "annotating dataset 1375 of 1387\n",
      "annotating dataset 1376 of 1387\n",
      "annotating dataset 1377 of 1387\n",
      "annotating dataset 1378 of 1387\n",
      "These tissues are not yet linked: ['CL:0002322']\n",
      "annotating dataset 1379 of 1387\n",
      "annotating dataset 1380 of 1387\n",
      "annotating dataset 1381 of 1387\n",
      "annotating dataset 1382 of 1387\n",
      "annotating dataset 1383 of 1387\n",
      "annotating dataset 1384 of 1387\n",
      "annotating dataset 1385 of 1387\n",
      "annotating dataset 1386 of 1387\n"
     ]
    }
   ],
   "source": [
    "import bionty as bt\n",
    "\n",
    "features = ln.Feature.lookup()\n",
    "\n",
    "for idx, cxg_dataset in enumerate(cxg_datasets):\n",
    "    if idx % 100 == 0:\n",
    "        print(f\"annotating dataset {idx} of {len(cxg_datasets)}\")\n",
    "    artifact = artifacts.filter(key__contains=cxg_dataset[\"dataset_id\"]).one_or_none()\n",
    "    if artifact is None:\n",
    "        continue\n",
    "    for field, terms in cxg_dataset.items():\n",
    "        if field not in FEATURE_TO_ACCESSOR:\n",
    "            continue\n",
    "        accessor, orm = FEATURE_TO_ACCESSOR.get(field)\n",
    "        if field in [\"donor_id\", \"suspension_type\", \"tissue_type\"]:\n",
    "            records = orm.from_values(terms, field=\"name\")\n",
    "            if len(records) > 0:\n",
    "                # stratify by feature so that link tables records are written\n",
    "                artifact.labels.add(records, feature=getattr(features, field))\n",
    "        else:\n",
    "            if field == \"tissue\":\n",
    "                records = []\n",
    "                celltypes = [\n",
    "                    i[\"ontology_term_id\"]\n",
    "                    for i in terms\n",
    "                    if i[\"tissue_type\"] == \"cell culture\"\n",
    "                ]\n",
    "                if len(celltypes) > 0:\n",
    "                    # records += bt.CellType.from_values(\n",
    "                    #     [i[\"ontology_term_id\"] for i in terms], field=\"ontology_id\"\n",
    "                    # )\n",
    "                    print(f\"These tissues are not yet linked: {celltypes}\")\n",
    "                tissues = [\n",
    "                    i[\"ontology_term_id\"]\n",
    "                    for i in terms\n",
    "                    if i[\"tissue_type\"] != \"cell culture\"\n",
    "                ]\n",
    "                if len(tissues) > 0:\n",
    "                    records += bt.Tissue.from_values(\n",
    "                        [i[\"ontology_term_id\"] for i in terms], field=\"ontology_id\"\n",
    "                    )\n",
    "            else:\n",
    "                records = orm.from_values(\n",
    "                    [i[\"ontology_term_id\"] for i in terms], field=\"ontology_id\"\n",
    "                )\n",
    "            if len(records) > 0:\n",
    "                getattr(artifact, accessor).add(*records)\n",
    "\n",
    "# clean up the 2 \"unknowns\" in DevelopmentalStage\n",
    "bt.DevelopmentalStage.filter(name=\"unknown\").exclude(ontology_id=\"unknown\").delete()"
   ]
  },
  {
   "cell_type": "markdown",
   "id": "83ec7780-4ab5-42e3-8765-3f4df04f43fc",
   "metadata": {},
   "source": [
    "## Validate and register genes"
   ]
  },
  {
   "cell_type": "code",
   "execution_count": 9,
   "id": "66badfcf-0385-4086-a7c8-642501cf7684",
   "metadata": {},
   "outputs": [],
   "source": [
    "from cellxgene_lamin._gene import register_genes"
   ]
  },
  {
   "cell_type": "markdown",
   "id": "60dbb11e-da6d-495c-a437-79a956136afa",
   "metadata": {
    "editable": true,
    "slideshow": {
     "slide_type": ""
    },
    "tags": []
   },
   "source": [
    "Register all genes for each organism:"
   ]
  },
  {
   "cell_type": "code",
   "execution_count": 10,
   "id": "2ac2f759-8de1-47de-be1f-7e96ab7f8540",
   "metadata": {
    "editable": true,
    "slideshow": {
     "slide_type": ""
    },
    "tags": []
   },
   "outputs": [
    {
     "name": "stdout",
     "output_type": "stream",
     "text": [
      "registering homo_sapiens genes\n",
      "✅ \u001b[1;92m62754 terms\u001b[0m (100.00%) are validated for \u001b[3mensembl_gene_id\u001b[0m\n",
      "registering mus_musculus genes\n",
      "✅ loaded \u001b[1;92m55281 Gene records\u001b[0m matching \u001b[3mensembl_gene_id\u001b[0m: \u001b[1;92m'ENSMUSG00000102693', 'ENSMUSG00000064842', 'ENSMUSG00000051951', 'ENSMUSG00000102851', 'ENSMUSG00000103377', 'ENSMUSG00000104017', 'ENSMUSG00000103025', 'ENSMUSG00000089699', 'ENSMUSG00000103201', 'ENSMUSG00000103147', 'ENSMUSG00000103161', 'ENSMUSG00000102331', 'ENSMUSG00000102348', 'ENSMUSG00000102592', 'ENSMUSG00000088333', 'ENSMUSG00000102343', 'ENSMUSG00000025900', 'ENSMUSG00000102948', 'ENSMUSG00000104123', 'ENSMUSG00000025902', ...\u001b[0m\n",
      "✅ created \u001b[1;95m1660 Gene records from Bionty\u001b[0m matching \u001b[3mensembl_gene_id\u001b[0m: \u001b[1;95m'ENSMUSG00000119939', 'ENSMUSG00000119940', 'ENSMUSG00000119941', 'ENSMUSG00000119942', 'ENSMUSG00000119943', 'ENSMUSG00000119944', 'ENSMUSG00000119945', 'ENSMUSG00000119946', 'ENSMUSG00000119947', 'ENSMUSG00000119948', 'ENSMUSG00000119949', 'ENSMUSG00000119950', 'ENSMUSG00000119951', 'ENSMUSG00000119952', 'ENSMUSG00000119953', 'ENSMUSG00000119954', 'ENSMUSG00000119955', 'ENSMUSG00000119956', 'ENSMUSG00000119957', 'ENSMUSG00000119958', ...\u001b[0m\n",
      "✅ \u001b[1;92m56941 terms\u001b[0m (100.00%) are validated for \u001b[3mensembl_gene_id\u001b[0m\n",
      "registering synthetic_construct genes\n",
      "✅ \u001b[1;92m92 terms\u001b[0m (100.00%) are validated for \u001b[3mensembl_gene_id\u001b[0m\n",
      "registering severe_acute_respiratory_syndrome_coronavirus_2 genes\n",
      "✅ \u001b[1;92m12 terms\u001b[0m (100.00%) are validated for \u001b[3mensembl_gene_id\u001b[0m\n"
     ]
    }
   ],
   "source": [
    "register_genes()"
   ]
  },
  {
   "cell_type": "markdown",
   "id": "91941817-2afa-403a-8494-0759b1ef8e16",
   "metadata": {},
   "source": [
    "## Link metadata to individual artifacts"
   ]
  },
  {
   "cell_type": "markdown",
   "id": "d49b511a-0960-488a-95c4-0d09c829e481",
   "metadata": {},
   "source": [
    "annotate with genes measured in each artifact:"
   ]
  },
  {
   "cell_type": "code",
   "execution_count": 11,
   "id": "5cf186a6-fd8e-448d-8dbc-02096c89b6ab",
   "metadata": {
    "tags": []
   },
   "outputs": [],
   "source": [
    "organisms = bt.Organism.lookup(field=bt.Organism.scientific_name)"
   ]
  },
  {
   "cell_type": "code",
   "execution_count": null,
   "id": "85cc438e-4cb9-4611-a058-861b8979b9f2",
   "metadata": {
    "scrolled": true,
    "tags": [
     "hide-output"
    ]
   },
   "outputs": [
    {
     "name": "stdout",
     "output_type": "stream",
     "text": [
      "annotating dataset 0 of 812\n",
      "annotating dataset 100 of 812\n",
      "annotating dataset 200 of 812\n",
      "annotating dataset 300 of 812\n",
      "annotating dataset 500 of 812\n",
      "annotating dataset 600 of 812\n",
      "annotating dataset 700 of 812\n",
      "annotating dataset 800 of 812\n"
     ]
    }
   ],
   "source": [
    "for idx, artifact in enumerate(artifacts):\n",
    "    if idx % 100 == 0:\n",
    "        print(f\"annotating dataset {idx} of {len(artifacts)}\")\n",
    "\n",
    "    adata_backed = artifact.backed()\n",
    "    var_names = adata_backed.var_names\n",
    "    organism_record = artifact.organisms.first()\n",
    "    if organism_record is None:\n",
    "        print(f\"No organism found for artifact: {artifact}\")\n",
    "        continue\n",
    "    genes = bt.Gene.from_values(\n",
    "        var_names, field=bt.Gene.ensembl_gene_id, organism=organism_record\n",
    "    )\n",
    "\n",
    "    if len(genes) == 0 and var_names[0].startswith(\"ENSG\"):\n",
    "        genes += bt.Gene.from_values(\n",
    "            var_names, field=bt.Gene.ensembl_gene_id, organism=\"human\"\n",
    "        )\n",
    "\n",
    "    if len(var_names[var_names.str.startswith(\"ERCC\")]) > 0:\n",
    "        genes += bt.Gene.from_values(\n",
    "            var_names,\n",
    "            field=bt.Gene.ensembl_gene_id,\n",
    "            organism=organisms.synthetic_construct,\n",
    "        )\n",
    "    if len(var_names[var_names.str.startswith(\"ENSSASG\")]) > 0:\n",
    "        genes += bt.Gene.from_values(\n",
    "            var_names,\n",
    "            field=bt.Gene.ensembl_gene_id,\n",
    "            organism=organisms.severe_acute_respiratory_syndrome_coronavirus_2,\n",
    "        )\n",
    "\n",
    "    var_feature_set_artifact = ln.FeatureSet(genes, dtype=\"number\")\n",
    "    var_feature_set_artifact.save()\n",
    "    artifact.feature_sets.add(\n",
    "        var_feature_set_artifact, through_defaults={\"slot\": \"var\"}\n",
    "    )"
   ]
  },
  {
   "cell_type": "code",
   "execution_count": 16,
   "id": "778d2386-957d-41c8-b400-0c7ae0819318",
   "metadata": {
    "editable": true,
    "slideshow": {
     "slide_type": ""
    },
    "tags": []
   },
   "outputs": [
    {
     "name": "stdout",
     "output_type": "stream",
     "text": [
      "\u001b[1;92mArtifact\u001b[0m(uid='g0RcSSYe5vQKzSWYkhMc', version='2024-07-01', description='Dissection: Amygdaloid complex (AMY) - basolateral nuclear group (BLN) - basolateral nucleus (basal nucleus) - BL', key='cell-census/2024-07-01/h5ads/fe1a73ab-a203-45fd-84e9-0f7fd19efcbd.h5ad', suffix='.h5ad', type='dataset', accessor='AnnData', size=391552151, hash='1V_lPFFOF51ioRTSVWx9Mg-47', hash_type='md5-n', n_observations=35285, visibility=1, key_is_virtual=False, updated_at='2024-07-12 12:40:48 UTC')\n",
      "  \u001b[3mProvenance\u001b[0m\n",
      "    .created_by = 'sunnyosun'\n",
      "    .storage = 's3://cellxgene-data-public'\n",
      "    .transform = 'Census release 2024-07-01 (LTS)'\n",
      "    .run = '2024-07-12 12:17:31 UTC'\n",
      "  \u001b[3mLabels\u001b[0m\n",
      "    .organisms = 'human'\n",
      "    .tissues = 'cerebral nuclei'\n",
      "    .cell_types = 'astrocyte', 'central nervous system macrophage', 'leukocyte', 'vascular associated smooth muscle cell', 'endothelial cell', 'ependymal cell', 'neuron', 'pericyte', 'fibroblast', 'oligodendrocyte precursor cell', ...\n",
      "    .diseases = 'normal'\n",
      "    .phenotypes = 'male'\n",
      "    .experimental_factors = '10x 3' v3'\n",
      "    .developmental_stages = '29-year-old human stage', '42-year-old human stage', '50-year-old human stage'\n",
      "    .ethnicities = 'European'\n",
      "    .ulabels = 'H18.30.002', 'H19.30.002', 'H19.30.001', 'nucleus'\n",
      "  \u001b[3mFeatures\u001b[0m\n",
      "    'donor_id' = 'H18.30.002', 'H19.30.001', 'H19.30.002'\n",
      "    'suspension_type' = 'nucleus'\n",
      "    'organism' = 'human'\n",
      "  \u001b[3mFeature sets\u001b[0m\n",
      "    'obs' = 'assay', 'cell_type', 'development_stage', 'disease', 'donor_id', 'self_reported_ethnicity', 'sex', 'tissue', 'organism', 'tissue_type', 'suspension_type'\n",
      "    'var' = 'None', 'EBF1', 'LINC02202', 'RNF145', 'LINC01932', 'UBLCP1', 'IL12B', 'RNU4ATAC2P', 'LINC01845', 'LINC01847', 'ADRA1B', 'GAPDHP40', 'Y_RNA', 'TTC1'\n",
      "\n"
     ]
    }
   ],
   "source": [
    "artifact.describe()"
   ]
  },
  {
   "cell_type": "markdown",
   "id": "2774691c-ecca-4114-a3aa-b9e2bfa0bec3",
   "metadata": {},
   "source": [
    "## Annotate tissue_type"
   ]
  },
  {
   "cell_type": "code",
   "execution_count": 18,
   "id": "4145a622-e238-408d-9f66-abc5eb585254",
   "metadata": {
    "editable": true,
    "slideshow": {
     "slide_type": ""
    },
    "tags": []
   },
   "outputs": [],
   "source": [
    "register_ulabels(cxg_datasets, \"tissue_type\")"
   ]
  },
  {
   "cell_type": "markdown",
   "id": "b165eacb",
   "metadata": {},
   "source": [
    "## Register collections"
   ]
  },
  {
   "cell_type": "code",
   "execution_count": 23,
   "id": "ed7a0e25",
   "metadata": {},
   "outputs": [
    {
     "name": "stdout",
     "output_type": "stream",
     "text": [
      "💡 adding collection ids [456] as inputs for run 27, adding parent transform 19\n",
      "✅ saved 1 feature set for slot: 'var'\n"
     ]
    }
   ],
   "source": [
    "collection = ln.Collection(\n",
    "    artifacts,\n",
    "    name=\"cellxgene-census\",\n",
    "    version=census_version,\n",
    "    is_new_version_of=ln.Collection.filter(\n",
    "        name=\"cellxgene-census\", version=previous_release\n",
    "    ).one(),\n",
    ")\n",
    "collection.save()"
   ]
  },
  {
   "cell_type": "code",
   "execution_count": 25,
   "id": "323d7139",
   "metadata": {},
   "outputs": [],
   "source": [
    "cxg_collections = get_collections_from_cxg()"
   ]
  },
  {
   "cell_type": "code",
   "execution_count": 27,
   "id": "9286a290-e3d6-4550-b14c-6612b882b2f5",
   "metadata": {},
   "outputs": [
    {
     "data": {
      "text/plain": [
       "'cell-census/2024-07-01/h5ads/98e5ea9f-16d6-47ec-a529-686e76515e39.h5ad'"
      ]
     },
     "execution_count": 27,
     "metadata": {},
     "output_type": "execute_result"
    }
   ],
   "source": [
    "artifacts.first().key"
   ]
  },
  {
   "cell_type": "code",
   "execution_count": 29,
   "id": "77f296b9",
   "metadata": {},
   "outputs": [
    {
     "name": "stdout",
     "output_type": "stream",
     "text": [
      "❗ returning existing collection with same hash: Collection(uid='5LEE4fd5yMXsRtR6WUrs', version='2024-07-01', name='Type I interferon responsive microglia shape cortical development and behavior', description='10.1016/j.cell.2024.02.020', hash='UzOU3URUb50M_5lZtThV', reference='4828d33d-fb26-42e7-bf36-18293b0eec85', reference_type='CELLxGENE Collection ID', visibility=1, created_by_id=1, transform_id=22, run_id=27, updated_at='2024-07-16 12:17:38 UTC')\n",
      "❗ returning existing collection with same hash: Collection(uid='fYJ7GBbbLRwmVRHyDYu9', version='2024-07-01', name='Human breast cell atlas', description='10.1038/s41588-024-01688-9', hash='wXMzOvp8a-_nGgkwfjSM', reference='48259aa8-f168-4bf5-b797-af8e88da6637', reference_type='CELLxGENE Collection ID', visibility=1, created_by_id=1, transform_id=22, run_id=27, updated_at='2024-07-16 12:17:38 UTC')\n",
      "❗ returning existing collection with same hash: Collection(uid='6Nu0TAYjj2ePrtyUe6HL', version='2024-07-01', name='SEA-AD: Seattle Alzheimer’s Disease Brain Cell Atlas', description='10.1101/2023.05.08.539485', hash='PDK1s9n30FRoxgRVUV-8', reference='1ca90a2d-2943-483d-b678-b809bf464c30', reference_type='CELLxGENE Collection ID', visibility=1, created_by_id=1, transform_id=22, run_id=27, updated_at='2024-07-16 12:17:40 UTC')\n",
      "❗ returning existing collection with same hash: Collection(uid='iuZQ5FuxUx8djUoy0wBW', version='2024-07-01', name='Molecular and spatial signatures of mouse brain aging at single-cell resolution', description='10.1016/j.cell.2022.12.010', hash='drimjqzQf_jCXILUH6Qb', reference='31937775-0602-4e52-a799-b6acdd2bac2e', reference_type='CELLxGENE Collection ID', visibility=1, created_by_id=1, transform_id=22, run_id=27, updated_at='2024-07-16 12:17:40 UTC')\n",
      "❗ returning existing collection with same hash: Collection(uid='XGeEFfpeKAYMtQlnJAaY', version='2024-07-01', name='Multi-scale spatial mapping of cell populations across anatomical sites in healthy human skin and basal cell carcinoma', description='10.1073/pnas.2313326120', hash='SR4yp3Hfk5B3SrqRoNXN', reference='34f12de7-c5e5-4813-a136-832677f98ac8', reference_type='CELLxGENE Collection ID', visibility=1, created_by_id=1, transform_id=22, run_id=27, updated_at='2024-07-16 12:17:41 UTC')\n",
      "❗ returning existing collection with same hash: Collection(uid='mKfQgOwlCTuLFneySJGV', version='2024-07-01', name='LungMAP — The genomic, epigenomic and biophysical cues controlling the emergence of the gas exchange niche in the lung.', description='10.1126/science.abc3172', hash='51fJjmq_GrC2uLS3Klvm', reference='48d354f5-a5ca-4f35-a3bb-fa3687502252', reference_type='CELLxGENE Collection ID', visibility=1, created_by_id=1, transform_id=22, run_id=27, updated_at='2024-07-16 12:17:41 UTC')\n",
      "❗ returning existing collection with same hash: Collection(uid='cwFRDKcBVLQ1DgA4O6nC', version='2024-07-01', name='Single cell transcriptomic profiling identifies molecular phenotypes of newborn human lung cells', description='10.3390/genes15030298', hash='P4dNll_9XIdx7s4kAugC', reference='28e9d721-6816-48a2-8d0b-43bf0b0c0ebc', reference_type='CELLxGENE Collection ID', visibility=1, created_by_id=1, transform_id=22, run_id=27, updated_at='2024-07-16 12:17:42 UTC')\n",
      "❗ returning existing collection with same hash: Collection(uid='jelUsbHyfZH67CXH4Y9I', version='2024-07-01', name='A single-cell transcriptional roadmap of the mouse and human lymph node lymphatic vasculature', description='10.3389/fcvm.2020.00052', hash='nYmNBfcoJd_QfCqr6xUX', reference='9c8808ce-1138-4dbe-818c-171cff10e650', reference_type='CELLxGENE Collection ID', visibility=1, created_by_id=1, transform_id=22, run_id=27, updated_at='2024-07-16 12:17:47 UTC')\n",
      "❗ returning existing collection with same hash: Collection(uid='Iu3eo1onLtTxVw1jhXA9', version='2024-07-01', name='Type I interferon autoantibodies are associated with systemic immune alterations in patients with COVID-19', description='10.1126/scitranslmed.abh2624', hash='bfClxMqNa1i5FbGt8qjI', reference='7d7cabfd-1d1f-40af-96b7-26a0825a306d', reference_type='CELLxGENE Collection ID', visibility=1, created_by_id=1, transform_id=22, run_id=27, updated_at='2024-07-16 12:17:47 UTC')\n",
      "❗ returning existing collection with same hash: Collection(uid='kZGohNB7hv9Qu2QlfMe3', version='2024-07-01', name='Insulin is expressed by enteroendocrine cells during human fetal development', description='10.1038/s41591-021-01586-1', hash='_1jCWDd-1qoqGzSTpmZ4', reference='7651ac1a-f947-463a-9223-a9e408a41989', reference_type='CELLxGENE Collection ID', visibility=1, created_by_id=1, transform_id=22, run_id=27, updated_at='2024-07-16 12:17:48 UTC')\n",
      "❗ returning existing collection with same hash: Collection(uid='tY63QUQc4y2Iv3pC2v4X', version='2024-07-01', name='Multiomic Profiling of Human Clonal Hematopoiesis Reveals Genotype and Cell-Specific Inflammatory Pathway Activation', description='10.1182/bloodadvances.2023011445', hash='YrsiMzRiXI7IML3mmKPo', reference='0aab20b3-c30c-4606-bd2e-d20dae739c45', reference_type='CELLxGENE Collection ID', visibility=1, created_by_id=1, transform_id=22, run_id=27, updated_at='2024-07-16 12:17:49 UTC')\n",
      "❗ returning existing collection with same hash: Collection(uid='Ioc0kigyLbByHgTGVEdi', version='2024-07-01', name='High-resolution single-cell atlas reveals diversity and plasticity of tumor-associated neutrophils in non-small cell lung cancer', description='10.1016/j.ccell.2022.10.008', hash='sQ2o8xVD_cZ2S9pVIAnU', reference='edb893ee-4066-4128-9aec-5eb2b03f8287', reference_type='CELLxGENE Collection ID', visibility=1, created_by_id=1, transform_id=22, run_id=27, updated_at='2024-07-16 12:17:50 UTC')\n",
      "❗ returning existing collection with same hash: Collection(uid='7D6yIlnySNfVDZozoMuk', version='2024-07-01', name='Comparative transcriptomics reveals human-specific cortical features', description='10.1126/science.ade9516', hash='6aAYLBJvC-dOgnZxg7sd', reference='4dca242c-d302-4dba-a68f-4c61e7bad553', reference_type='CELLxGENE Collection ID', visibility=1, created_by_id=1, transform_id=22, run_id=27, updated_at='2024-07-16 12:17:50 UTC')\n",
      "✅ saved 1 feature set for slot: 'var'\n",
      "✅ saved 1 feature set for slot: 'var'\n",
      "✅ saved 1 feature set for slot: 'var'\n",
      "✅ saved 1 feature set for slot: 'var'\n",
      "✅ saved 1 feature set for slot: 'var'\n",
      "✅ saved 1 feature set for slot: 'var'\n",
      "✅ saved 1 feature set for slot: 'var'\n",
      "✅ saved 1 feature set for slot: 'var'\n",
      "✅ saved 1 feature set for slot: 'var'\n",
      "✅ saved 1 feature set for slot: 'var'\n",
      "✅ saved 1 feature set for slot: 'var'\n",
      "✅ saved 1 feature set for slot: 'var'\n",
      "✅ saved 1 feature set for slot: 'var'\n",
      "✅ saved 1 feature set for slot: 'var'\n",
      "✅ saved 1 feature set for slot: 'var'\n",
      "✅ saved 1 feature set for slot: 'var'\n",
      "✅ saved 1 feature set for slot: 'var'\n",
      "✅ saved 1 feature set for slot: 'var'\n",
      "✅ saved 1 feature set for slot: 'var'\n",
      "✅ saved 1 feature set for slot: 'var'\n",
      "✅ saved 1 feature set for slot: 'var'\n",
      "✅ saved 1 feature set for slot: 'var'\n",
      "✅ saved 1 feature set for slot: 'var'\n",
      "✅ saved 1 feature set for slot: 'var'\n",
      "✅ saved 1 feature set for slot: 'var'\n",
      "✅ saved 1 feature set for slot: 'var'\n",
      "✅ saved 1 feature set for slot: 'var'\n",
      "✅ saved 1 feature set for slot: 'var'\n",
      "✅ saved 1 feature set for slot: 'var'\n",
      "✅ saved 1 feature set for slot: 'var'\n",
      "✅ saved 1 feature set for slot: 'var'\n",
      "✅ saved 1 feature set for slot: 'var'\n"
     ]
    }
   ],
   "source": [
    "ln.settings.creation.search_names = False\n",
    "for collection_meta in cxg_collections:\n",
    "    keys = [\n",
    "        f\"cell-census/{census_version}/h5ads/{dataset['dataset_id']}.h5ad\"\n",
    "        for dataset in collection_meta[\"datasets\"]\n",
    "    ]\n",
    "    collection_artifacts = artifacts.filter(key__in=keys).all()\n",
    "    if collection_artifacts.count() > 0:\n",
    "        kwargs = {\n",
    "            \"name\": collection_meta[\"name\"],\n",
    "            \"description\": collection_meta[\"doi\"],\n",
    "            \"reference\": collection_meta[\"collection_id\"],\n",
    "            \"reference_type\": \"CELLxGENE Collection ID\",\n",
    "            \"version\": census_version,\n",
    "        }\n",
    "        collection_record = ln.Collection(\n",
    "            collection_artifacts,\n",
    "            **kwargs,\n",
    "        )\n",
    "        # if is needed here as .save() errors if collection is already saved\n",
    "        if collection_record._state.adding:\n",
    "            collection_record.save()\n",
    "ln.settings.creation.search_names = True"
   ]
  },
  {
   "cell_type": "markdown",
   "id": "eaf89882",
   "metadata": {},
   "source": [
    "Add existing collections to their corresponding version families:"
   ]
  },
  {
   "cell_type": "code",
   "execution_count": 30,
   "id": "9c0cfed3",
   "metadata": {},
   "outputs": [
    {
     "data": {
      "text/plain": [
       "177"
      ]
     },
     "execution_count": 30,
     "metadata": {},
     "output_type": "execute_result"
    }
   ],
   "source": [
    "collections = ln.Collection.filter(version=census_version).all()\n",
    "collections.count()"
   ]
  },
  {
   "cell_type": "code",
   "execution_count": 31,
   "id": "a4f54103",
   "metadata": {},
   "outputs": [
    {
     "data": {
      "text/plain": [
       "165"
      ]
     },
     "execution_count": 31,
     "metadata": {},
     "output_type": "execute_result"
    }
   ],
   "source": [
    "collections_previous = ln.Collection.filter(version=previous_release).all()\n",
    "collections_previous.count()"
   ]
  },
  {
   "cell_type": "code",
   "execution_count": 32,
   "id": "39f24a6a",
   "metadata": {
    "tags": [
     "hide-output"
    ]
   },
   "outputs": [
    {
     "name": "stdout",
     "output_type": "stream",
     "text": [
      "✅ updated uid from dMyEX3NTfKOEYXyMciWu to dMyEX3NTfKOEYXyMKDD7!\n",
      "✅ updated uid from fYJ7GBbbLRwmVRHyDYu9 to kAcitlx0g6C2lgacOCAS!\n",
      "✅ updated uid from 6Nu0TAYjj2ePrtyUe6HL to Q2lwtI06DtUQbWUMUAs5!\n",
      "✅ updated uid from iuZQ5FuxUx8djUoy0wBW to 1MYLC8DhQK3wsKtZHZgD!\n",
      "✅ updated uid from mKfQgOwlCTuLFneySJGV to jMgmBjDxsNvnkgTHWWoP!\n",
      "✅ updated uid from jelUsbHyfZH67CXH4Y9I to 0H2X3A2FhWOgA7i8EtaM!\n",
      "✅ updated uid from Iu3eo1onLtTxVw1jhXA9 to gwCdNiXJtlYDhd6gPLLP!\n",
      "✅ updated uid from kZGohNB7hv9Qu2QlfMe3 to PUJ2Tv8Ie9lUbxb0ZSfl!\n",
      "✅ updated uid from Ioc0kigyLbByHgTGVEdi to Op2drQc2W4DokUc9PpQ6!\n",
      "✅ updated uid from 7D6yIlnySNfVDZozoMuk to uarP82A6F0cOH8dKjpQL!\n",
      "✅ updated uid from moIxw3JxMtRl9Py5Js6I to nZaV7G3xaFHYYWeJSCvZ!\n",
      "✅ updated uid from hg78nvGj2jsvrdLVkJHa to IwAqdxTSCfEgrnuWWvKP!\n",
      "✅ updated uid from Cnveibz2XUCqju5A6PbU to WJLbdahJcDE8E9mzsjbl!\n",
      "✅ updated uid from Q4327JEqd4gLomTAK1YO to D4mQlKcQOGzGvZrWCXrh!\n",
      "✅ updated uid from J9rYTZb0QfERXA6O8gnm to DI60aiNNLqOpa8t3JJPJ!\n",
      "✅ updated uid from K4fEurXklkZQuNCWCWBC to RWmOmv3bnmWvbYSmFBq8!\n",
      "✅ updated uid from 7S4Pmlzjq00sMsC7vPTr to km2M7msz9NtEBqDVL6n7!\n",
      "✅ updated uid from oVpYrbDghZuTXTs2asev to iTdQLpLfAhvqOsNIpr4A!\n",
      "✅ updated uid from 6JrvWiJt8c7DVrZOOtpM to M84z8Rh7Z2obJbvBlHo1!\n",
      "✅ updated uid from 3b0pMqkpbCGkOKJEOp0v to RoCAhVTi0ao0p5yXmoA6!\n",
      "✅ updated uid from IuAVLIuHvsWds3mI6CqJ to wHFESrWvDls8N3ywjqkN!\n",
      "✅ updated uid from CRqaZxz7P94dVrpJVrcJ to hhzgrH6ZdsP54F29RPP0!\n",
      "✅ updated uid from dZmSd3DQ6EjJFVRv6Kgz to KPB4Hic8RZym5HaAbpyZ!\n",
      "✅ updated uid from AdFZTnmod3UCe00FEfwz to v7RKtneHPCkCVyU1dXoz!\n",
      "✅ updated uid from mfDciDOR7XS1d7NneuuJ to XOl1N7D7hXW6n9EsW7x3!\n",
      "✅ updated uid from xaL1hQb366nEYJHWEGmU to 6tT3kRYI2c6slEpvwfRX!\n",
      "✅ updated uid from dwestwYMl0YDb67PTqAQ to 3eYxM8IjTZVOrbvXPIJ3!\n",
      "✅ updated uid from GGk25Hi2QZDRZw555ZQ5 to SuNR9dTsshWd6MYN2IL8!\n",
      "✅ updated uid from IBd2D7PFaFz8ePVxcdvD to BrNY23NpauL2lyDtiRkn!\n",
      "✅ updated uid from KVV5AsraS8hzxP4YxT0i to iFVFKj9fKdUH7pY1zMro!\n",
      "✅ updated uid from ByhRTjMcDGgCJtRI1fgU to 9yfmjrGcMNMd37ogpxmj!\n",
      "✅ updated uid from 9lJt2hyfKNb13j7p0cHG to qLRcbwF6CgxlklqqTRFr!\n",
      "✅ updated uid from fgRC3e9PBCkE9OPA9DKo to 0dOlh07SLGzVeaRMvSGQ!\n",
      "✅ updated uid from nS6L2cXlV8EAaQFHxkES to 94eNDctVYvr7mrdpMclC!\n",
      "✅ updated uid from ZsMO69tiAzlQIHlttsIt to I5MMFFAGoWtSa43bentd!\n",
      "✅ updated uid from zhVDwLrapwteXdDmRxvF to AK50xC5oXngFz72HVjHR!\n",
      "✅ updated uid from aLxcqV3jSL1xeG1JVY9C to sOamqZMlsMfKH5SWj4nK!\n",
      "✅ updated uid from bPbQoidniedqCIYDSRBz to JAK8eDp8BmHPjKfTZhME!\n",
      "✅ updated uid from HCtKNYT75uP3dbn0SSzA to GvLlD9JDDqWjPkvERqDR!\n",
      "✅ updated uid from 1xHpCX5MktkIjO7GEdRy to hdE4OJYcxWgmKoUcR6SL!\n",
      "✅ updated uid from 1rSJxJHs5J0KgqwEJfQ3 to olY10cghAPIz2oGrIWMq!\n",
      "✅ updated uid from aYxxVzPMs1QZmQCFbqRH to 4EiiJgcIrR3QLRnU7GC2!\n",
      "✅ updated uid from FtLRAy0HoCE47NRaJzzi to YVo6IaHRKZfDxJLMfiP8!\n",
      "✅ updated uid from aTVmsocXMwV5DGaharIr to 5jphRyjMm0wYpMaUnUTx!\n",
      "✅ updated uid from MeiGlQLdi06QFgsNHG4I to vfxWN9BEYFDb5kY8N1Vg!\n",
      "✅ updated uid from 9XB47ouBfu5FowLT5U6h to tZYmzwfh0bIYzKBQVuro!\n",
      "✅ updated uid from 9yNQuuDASOqEgwmq6LTp to Yed6da6CsPXaGmLQDGmn!\n",
      "✅ updated uid from CDojmX5aCcDldiDXhG6Z to EMBNZeigssidDwb4eCs4!\n",
      "✅ updated uid from i2FQEG8pMK9PnQEvcbb3 to vGq7f3WWgBMgCRXmmmR9!\n",
      "✅ updated uid from iZeVehqLA78Fs3FlcWXh to vUL4bLnfnvI2hRpBSfK5!\n",
      "✅ updated uid from eB6pmrbx3OJzqan1k5E1 to y6XaxhXv4BVcOAo9U4cz!\n",
      "✅ updated uid from Vhc1AWUEywCpdGUM5SWo to EMmA6XE0t183Gsba3J5X!\n",
      "✅ updated uid from kkK1dAv4oj6giIa87hrd to VVsweEynenmLLY85PaXn!\n",
      "✅ updated uid from 1F0kNiufsSrYHxOoJOES to RnmHQkzC78TivXFy5ycL!\n",
      "✅ updated uid from m6c0OFUxpwhMNMzsmfOt to VP3ieyEFOixwhsBYECKC!\n",
      "✅ updated uid from W5LDazc1PzFDdw4WFkDw to KKCcdJaQH9D8AK5NCBuH!\n",
      "✅ updated uid from Y2SPuctTfg7jB5W5jn8X to q7dJs4VrNoEGx8rK1OSD!\n",
      "✅ updated uid from 7vISuZIqLCwrmROJoIoE to idf1gv334K5FkrHFNI5h!\n",
      "✅ updated uid from VOJOMDScWgsXU4vStY9Y to lVPsdIh56TVNlEx2WF4d!\n",
      "✅ updated uid from 2aFuVGM2z1KkyFlvH7qz to 1XNsbOgjaUKIh64FJXDs!\n",
      "✅ updated uid from 1LVsLdFsY5ThNtn2om4m to BROXfXCEj7e1V4gw2NKZ!\n",
      "✅ updated uid from qLenHC8lY5CP1imzGu5T to oCCJTIIDT9HQd3LNOOVp!\n",
      "✅ updated uid from qAF5K3bMy9M0q4xlL9Xh to 1ufVK1EvG99Fgq7mYN6r!\n",
      "✅ updated uid from tmo3R1Qml3o4dINw1YQZ to IOkwvXcfL2hyt8R9EQjR!\n",
      "✅ updated uid from RPyFAi5ybA35BENTE7kb to I78OxPCebBfC0xIgbeTX!\n",
      "✅ updated uid from 5GoCoZPDgaEmEAfCQIxB to 1bXqTYYBWc7cqqMgfr0f!\n",
      "✅ updated uid from nVSPgJbJ6tNwDa37cR9U to ZzUntpjOt8v7AwqdkRP0!\n",
      "✅ updated uid from gkq1Sl3WhRD96SBH9kLb to D1iu1zmxG7KgjVx8ZVPV!\n",
      "✅ updated uid from 62P2AbbaPyfse4A4ENdI to HFLbbT3k1JxVUgKpJDHH!\n",
      "✅ updated uid from HGLY9RwvLcp8z4PvGpb9 to d6gWiRY3XXy8qj0VZ6ux!\n",
      "✅ updated uid from sbbX3UXhCKxhoiDMuXVw to HfPCzJuNYrI9QfV5rzZx!\n",
      "✅ updated uid from Gc8I13MrBIMYoWQYpQVl to rbcRjHfXE0LKIvZcjZro!\n",
      "✅ updated uid from 1sySaUsCn0g2LJ8PAGSr to 4CmbJrpoAWg19fjEiI0l!\n",
      "✅ updated uid from mggs0QTtLW13NBJg007H to rajIlBML7BvEzz3yUvhv!\n",
      "✅ updated uid from 3sk4tR2jqpdRzvN7qKhL to zZLyhpo1aDdxdbULFbVT!\n",
      "✅ updated uid from BgYMd7y4VfrDTmZG3Oh1 to 4mzgY3wTBZ9wMhVzlZLT!\n",
      "✅ updated uid from WU2Iumu24KA4apXo8Itd to PWDH0VJMkhsYyHwgIhN9!\n",
      "✅ updated uid from xuLeoFok7WH7p5fu9WcZ to wNOorBV9YnTaI9qQa7Qr!\n",
      "✅ updated uid from zJDCZ4RIepbJsQekTqiQ to veK7yRfThpdptF4vRiGg!\n",
      "✅ updated uid from OI9yPyz0FOq4Kf2w3Nwg to iXkgtvx2L7ZxZDX6wZFH!\n",
      "✅ updated uid from ZLrYeEchDM49i9dtyBPW to 9LsQD4Qbh1dKq5Sj6FrC!\n",
      "✅ updated uid from ul7bdBYoqhvYKvfiZKOg to vjsPjCXG7X9LPU8vWkhP!\n",
      "✅ updated uid from Plvn6tiNOEV0gQ8XdemG to IzQdA3dJgMqv60GapqOC!\n",
      "✅ updated uid from oMZSCnvB3ItQV17wDNzT to kDJ9Xb8d11d93LAHMJpf!\n",
      "✅ updated uid from Jp1XooGrkZqdufGWQz70 to nVY0j9lZNdNL61EdyDq7!\n",
      "✅ updated uid from 2kf7upUHLHmAYTILZuBk to OImDNzgLRxoYfFT8Y76V!\n",
      "✅ updated uid from 3tsT59OPeJi8iUXDfXOh to 2yoIZbpp2mq2oqMNf3VO!\n",
      "✅ updated uid from EjRsiCRs0StjF71Vj8mG to n2lVzwwawVqsJ5u5qBZq!\n",
      "✅ updated uid from QbVpgUll2BMiDosd4rTv to 28dvpXZpoi1qD8LnAlb3!\n",
      "✅ updated uid from 4jSg60cQmqFddeEsPIl0 to 2gBKIwx8AtCHc4nfcQqc!\n",
      "✅ updated uid from 2ZS8rF54RWLGg8lEKapD to kzeNot0sAt848R4qSEKs!\n",
      "✅ updated uid from 6WJpX3Dg8f7xdPveLduz to gHBNw253Sj64W4wBFZkE!\n",
      "✅ updated uid from yx5x6dJEFOFkJ3KAY2cy to 1wS0REe0cAfduc8tWxML!\n",
      "✅ updated uid from IuhSKlDmvbkQl9rDDq2g to Q1wNvCwqAOnrtKTbzbqR!\n",
      "✅ updated uid from rBemmcHX2bh33bJcOKWE to 1IrEYjM56rE7SEltiWNe!\n",
      "✅ updated uid from zkEKDZdk6J0BQS7BaQaE to 4o637zldLBYp12h3gT6Z!\n",
      "✅ updated uid from LZXiD45T2YUfaYDYNOlD to ocJEJ2xS6KZH95ngzvTq!\n",
      "✅ updated uid from tG85g4DZPAtHH1zru6Fz to KB2Fpjcokbm2UBLNFYjW!\n",
      "✅ updated uid from 1tVMkWeDbAnqXy0EdTqd to 60hcu8l3K5HpiZVwYVCf!\n",
      "✅ updated uid from 0WNbjUmxmJSuZRTMT4JQ to xAdBoFC2SWW8a0weqh1N!\n",
      "✅ updated uid from f8Nuvt2x6W4mmSXHskXN to q1YP6rAY7SSrZ1Tkx4Up!\n",
      "✅ updated uid from P2ehV04thYY2dO2nhoo0 to 7xatbabJNWdh0uMwoAZl!\n",
      "✅ updated uid from KkcbpjKTWTkFpGc1c27S to oHwAz0bRdryXX6EhDN1g!\n",
      "✅ updated uid from Z8msUCmKnOQrG9z6XATm to vOt1sh7kQCO5CzRy39Mb!\n",
      "✅ updated uid from mS1Jk5zzeVCYvMINkX5T to 1879QoxBW96febHBb94x!\n",
      "✅ updated uid from l84UtdnAxR5nJFty4zzC to urOgy3d2zakh9vP6WgL5!\n",
      "✅ updated uid from 4k67yPWTPOSDoGzo9ICW to WDwVnJuArH1QWR2QQPBE!\n",
      "✅ updated uid from EhbtDL5CujLBfqHz8hg9 to CrY3Fw6G29qJSenUy1Ox!\n",
      "✅ updated uid from r8tKNYjbSqccW9AfQJF6 to jV7cCEQfgHGNhtVFMpyX!\n",
      "✅ updated uid from qbpbPs3ViBs9dzZbgDL0 to 8Rn5Tl3rykhNieH79Jhx!\n",
      "✅ updated uid from ecZQ9Vu0G2tezhFy1Oqb to TWZevdipvmWsuEiF84mT!\n",
      "✅ updated uid from kCPyvj5CUH7dO8JIxaqY to qtjPc1TBPcgWNCJyoFVs!\n",
      "✅ updated uid from mgqofErhBPosFQcFWLbq to kqiPjpzpK9H9rdtnCt1o!\n",
      "✅ updated uid from 6JFO9QuvIoKWqIP8A5li to ke6FOitDtvoq8XONEyiY!\n",
      "✅ updated uid from FarkrFdYaoXjMfUQRM89 to bOAWmbIN8bdXZh5F8dkx!\n",
      "✅ updated uid from Rg8iSXOAnmCJDKEUEEPW to gEX3na35hQk5ZOGBAACd!\n",
      "✅ updated uid from MKSG0pvHfXgk6c3VPODx to Oukj3dkWzNST4iiVAQe9!\n",
      "✅ updated uid from UBBA9zQC8HLYgmRYRcly to FZ2NjVzMuGVxom1ZSPxp!\n",
      "✅ updated uid from pufGlDRhKu3eBsD3YKe9 to tCaHB7zSD8S6MAhFifKl!\n",
      "✅ updated uid from MQUKS7C6v7rmTqKH8GKl to mDcZsWmaZqRBtJgkhF0o!\n",
      "✅ updated uid from iNf776ZxGeGgRHyarpS1 to sXNKPODk8bbXZdSnqEXf!\n",
      "✅ updated uid from 8OpWtQlec9HvbGH767l9 to quQDnLsMLkP3JRsC8gp4!\n",
      "✅ updated uid from 53Y1VIsfXPDqbOV4pk3g to 1qo3tBI7la7JNT7c8o9i!\n",
      "✅ updated uid from aZFKWnJex3ydKdveVDc9 to sK6CMdZCjNaMJdeuKU0L!\n",
      "✅ updated uid from bHXOYXNDoUvr2oOjhKDn to Yxth0JJgMb2VVOCfSgWj!\n",
      "✅ updated uid from 3SaG35DqczV2BJzQh86a to 9t5Mx1vYSpdrRNg0XXdV!\n",
      "✅ updated uid from zXk2XkZfp2vq4OnU9KL5 to 1bpAt9Hk4djMs3OCiwaS!\n",
      "✅ updated uid from dv6lVJLczlm9VNzKGRIC to FaJmPleTV3HjPBTdezTB!\n",
      "✅ updated uid from M98VUdhFfpMXq7fjpm6j to jS3RYae1gf0fT2B3xrSz!\n",
      "✅ updated uid from utsuNrsRrsh4ydq1sa6u to 2AD1dN2753sXScFNNX2o!\n",
      "✅ updated uid from JV7kCIV6bcKqc31YnS6T to M9ZzRKzzayhdh6ph0IX9!\n",
      "✅ updated uid from OyheAMFiyqRFEs9OQGWn to H6vvljrLTkJ61R4Vy2DV!\n",
      "✅ updated uid from 5GbOXgtnEBQuFu3nU1Ez to W5oiGwA9QAZwjMQKLzWk!\n",
      "✅ updated uid from 0bastS5jEWCcEW27Tdva to w1noEANQfbDv7a0y47pd!\n",
      "✅ updated uid from OHTF76XfoSmgJL6VtpgC to jmk1ayW8PdQaPPHlOkj7!\n",
      "✅ updated uid from QcFTjiftO6TZtOxAnIsH to H5uu4ULRKZVmmTkr3Ml9!\n",
      "✅ updated uid from PIP0Vprz9TDmF0GIKP1o to WpJDkF942c2mHNbJ3En3!\n",
      "✅ updated uid from HS3aaQQ5VpHlM0G8tJrn to 6sOT5dCCyQAAX5bTwzhT!\n",
      "✅ updated uid from ktFRARpMxhfUQ7WgUYzL to yql5LxVFGGa5LiIEOnE9!\n",
      "✅ updated uid from wXAkwBDVpCakaTBOhEfJ to 57MCDAB1w3eK7I5QOFpw!\n",
      "✅ updated uid from S6FiZ6QjnTz8bszp6b3v to f8IWHzCeBxqmQA9opHqq!\n",
      "✅ updated uid from IBMXS5y5PYldz6bBguZQ to xz9kRdjXkrgxSTjOBSbu!\n",
      "✅ updated uid from 0Cic5XIHAILcZfoeXsCy to oyTLFK0Zl0alAmITAKYO!\n",
      "✅ updated uid from HhSnxxJwvvSY7OytLt3g to NoRCcrtIjLnLdEjizoaM!\n",
      "✅ updated uid from YQqBxjrX350MEjzfSZ9L to VnqB6Y76ePP6wuaFzNyR!\n"
     ]
    }
   ],
   "source": [
    "for collection in collections:\n",
    "    collection_previous = collections_previous.filter(\n",
    "        reference=collection.reference\n",
    "    ).one_or_none()\n",
    "    if collection_previous is not None:\n",
    "        collection.add_to_version_family(collection_previous, version=census_version)"
   ]
  },
  {
   "cell_type": "markdown",
   "id": "2b20b41f-aa18-4db6-8a19-7d0c60d43a23",
   "metadata": {},
   "source": [
    "## Link metadata to collection"
   ]
  },
  {
   "cell_type": "code",
   "execution_count": 34,
   "id": "7ace2a15-f081-4ba8-8af9-7ba4e1d23933",
   "metadata": {
    "tags": []
   },
   "outputs": [
    {
     "data": {
      "text/plain": [
       "Collection(uid='dMyEX3NTfKOEYXyMKDD7', version='2024-07-01', name='cellxgene-census', hash='nI8Ag-HANeOpZOz-8CSn', visibility=1, created_by_id=1, transform_id=22, run_id=27, updated_at='2024-07-16 12:24:38 UTC')"
      ]
     },
     "execution_count": 34,
     "metadata": {},
     "output_type": "execute_result"
    }
   ],
   "source": [
    "collection = ln.Collection.filter(name=\"cellxgene-census\", version=census_version).one()\n",
    "collection"
   ]
  },
  {
   "cell_type": "markdown",
   "id": "86aacbcd-0136-4790-991a-4f42aa42b0d4",
   "metadata": {},
   "source": [
    "feature sets:"
   ]
  },
  {
   "cell_type": "code",
   "execution_count": 35,
   "id": "73598a4d-2a27-4bd8-b903-22258a10a21a",
   "metadata": {
    "tags": []
   },
   "outputs": [
    {
     "name": "stdout",
     "output_type": "stream",
     "text": [
      "\u001b[1;92mCollection\u001b[0m(uid='dMyEX3NTfKOEYXyMKDD7', version='2024-07-01', name='cellxgene-census', hash='nI8Ag-HANeOpZOz-8CSn', visibility=1, updated_at='2024-07-16 12:24:38 UTC')\n",
      "  \u001b[3mProvenance\u001b[0m\n",
      "    .created_by = 'sunnyosun'\n",
      "    .transform = 'Census release 2024-07-01 (LTS)'\n",
      "    .run = '2024-07-12 12:17:31 UTC'\n",
      "  \u001b[3mFeature sets\u001b[0m\n",
      "    'obs' = 'assay', 'cell_type', 'development_stage', 'disease', 'donor_id', 'self_reported_ethnicity', 'sex', 'tissue', 'organism', 'tissue_type', 'suspension_type'\n",
      "    'var' = 'DDX11L1', 'WASH7P', 'MIR6859-1', 'MIR1302-2HG', 'MIR1302-2', 'FAM138A', 'OR4G4P', 'OR4G11P', 'OR4F5', 'None', 'CICP27', 'RNU6-1100P', 'DDX11L17', 'WASH9P'\n",
      "\n"
     ]
    }
   ],
   "source": [
    "collection.describe()"
   ]
  },
  {
   "cell_type": "markdown",
   "id": "add3c7b3",
   "metadata": {},
   "source": [
    "## Register the soma store"
   ]
  },
  {
   "cell_type": "code",
   "execution_count": 7,
   "id": "e7345435",
   "metadata": {},
   "outputs": [
    {
     "name": "stdout",
     "output_type": "stream",
     "text": [
      "14 sub-directories & 6 files with suffixes '', '.tdb'\n",
      "s3://cellxgene-data-public/cell-census/2024-07-01/soma\n",
      "├── __tiledb_group.tdb\n",
      "├── __group/\n",
      "│   └── __1716234740654_1716234740654_d973bcf54a2242b78bf352eaed600c4a_2\n",
      "├── __meta/\n",
      "│   ├── __1716234740654_1716234740654_421b60d8e8ca434a9a3685ac90643161\n",
      "│   └── __1716234740654_1716234740654_42cb2a544da846dfbe555399fa25c462\n",
      "├── census_data/\n",
      "│   ├── __tiledb_group.tdb\n",
      "│   ├── __group/\n",
      "│   ├── __meta/\n",
      "│   ├── homo_sapiens/\n",
      "│   └── mus_musculus/\n",
      "└── census_info/\n",
      "    ├── __tiledb_group.tdb\n",
      "    ├── __group/\n",
      "    ├── __meta/\n",
      "    ├── datasets/\n",
      "    ├── organisms/\n",
      "    ├── summary/\n",
      "    └── summary_cell_counts/\n"
     ]
    }
   ],
   "source": [
    "soma_path = f\"s3://cellxgene-data-public/cell-census/{census_version}/soma\"\n",
    "ln.UPath(soma_path).view_tree()"
   ]
  },
  {
   "cell_type": "code",
   "execution_count": 9,
   "id": "f944ef6c",
   "metadata": {},
   "outputs": [
    {
     "name": "stdout",
     "output_type": "stream",
     "text": [
      "💡 path in storage 's3://cellxgene-data-public' with key 'cell-census/2024-07-01/soma'\n"
     ]
    },
    {
     "data": {
      "text/plain": [
       "Artifact(uid='TwIR80MO51oM3CCuFail', description='Census 2024-07-01', key='cell-census/2024-07-01/soma', suffix='', type='dataset', size=870700998221, hash='bzrXBPNvitSVKvb3GG38_w', hash_type='md5-d', n_objects=330, visibility=1, key_is_virtual=False, created_by_id=1, storage_id=2, transform_id=22, run_id=27, updated_at='2024-07-16 12:52:01 UTC')"
      ]
     },
     "execution_count": 9,
     "metadata": {},
     "output_type": "execute_result"
    }
   ],
   "source": [
    "soma_artifact = ln.Artifact(soma_path, description=f\"Census {census_version}\").save()\n",
    "soma_artifact"
   ]
  },
  {
   "cell_type": "code",
   "execution_count": 10,
   "id": "4d00afd0",
   "metadata": {},
   "outputs": [
    {
     "name": "stdout",
     "output_type": "stream",
     "text": [
      "❗ cells [(13, 8), (14, 12), (13, 16), (17, 19), (20, 23), (23, 28), (28, 9), (11, None), (None, 16), (16, 18), (18, 23), (23, 25), (25, 27), (27, 29), (32, 34), (35, 7), (7, 9)] were not run consecutively\n",
      "💡 go to: https://lamin.ai/laminlabs/cellxgene/transform/MIbO3QeJERcy5zKv\n",
      "💡 if you want to update your notebook without re-running it, use `lamin save notebook.ipynb`\n"
     ]
    }
   ],
   "source": [
    "ln.finish()"
   ]
  }
 ],
 "metadata": {
  "availableInstances": [
   {
    "_defaultOrder": 0,
    "_isFastLaunch": true,
    "category": "General purpose",
    "gpuNum": 0,
    "hideHardwareSpecs": false,
    "memoryGiB": 4,
    "name": "ml.t3.medium",
    "vcpuNum": 2
   },
   {
    "_defaultOrder": 1,
    "_isFastLaunch": false,
    "category": "General purpose",
    "gpuNum": 0,
    "hideHardwareSpecs": false,
    "memoryGiB": 8,
    "name": "ml.t3.large",
    "vcpuNum": 2
   },
   {
    "_defaultOrder": 2,
    "_isFastLaunch": false,
    "category": "General purpose",
    "gpuNum": 0,
    "hideHardwareSpecs": false,
    "memoryGiB": 16,
    "name": "ml.t3.xlarge",
    "vcpuNum": 4
   },
   {
    "_defaultOrder": 3,
    "_isFastLaunch": false,
    "category": "General purpose",
    "gpuNum": 0,
    "hideHardwareSpecs": false,
    "memoryGiB": 32,
    "name": "ml.t3.2xlarge",
    "vcpuNum": 8
   },
   {
    "_defaultOrder": 4,
    "_isFastLaunch": true,
    "category": "General purpose",
    "gpuNum": 0,
    "hideHardwareSpecs": false,
    "memoryGiB": 8,
    "name": "ml.m5.large",
    "vcpuNum": 2
   },
   {
    "_defaultOrder": 5,
    "_isFastLaunch": false,
    "category": "General purpose",
    "gpuNum": 0,
    "hideHardwareSpecs": false,
    "memoryGiB": 16,
    "name": "ml.m5.xlarge",
    "vcpuNum": 4
   },
   {
    "_defaultOrder": 6,
    "_isFastLaunch": false,
    "category": "General purpose",
    "gpuNum": 0,
    "hideHardwareSpecs": false,
    "memoryGiB": 32,
    "name": "ml.m5.2xlarge",
    "vcpuNum": 8
   },
   {
    "_defaultOrder": 7,
    "_isFastLaunch": false,
    "category": "General purpose",
    "gpuNum": 0,
    "hideHardwareSpecs": false,
    "memoryGiB": 64,
    "name": "ml.m5.4xlarge",
    "vcpuNum": 16
   },
   {
    "_defaultOrder": 8,
    "_isFastLaunch": false,
    "category": "General purpose",
    "gpuNum": 0,
    "hideHardwareSpecs": false,
    "memoryGiB": 128,
    "name": "ml.m5.8xlarge",
    "vcpuNum": 32
   },
   {
    "_defaultOrder": 9,
    "_isFastLaunch": false,
    "category": "General purpose",
    "gpuNum": 0,
    "hideHardwareSpecs": false,
    "memoryGiB": 192,
    "name": "ml.m5.12xlarge",
    "vcpuNum": 48
   },
   {
    "_defaultOrder": 10,
    "_isFastLaunch": false,
    "category": "General purpose",
    "gpuNum": 0,
    "hideHardwareSpecs": false,
    "memoryGiB": 256,
    "name": "ml.m5.16xlarge",
    "vcpuNum": 64
   },
   {
    "_defaultOrder": 11,
    "_isFastLaunch": false,
    "category": "General purpose",
    "gpuNum": 0,
    "hideHardwareSpecs": false,
    "memoryGiB": 384,
    "name": "ml.m5.24xlarge",
    "vcpuNum": 96
   },
   {
    "_defaultOrder": 12,
    "_isFastLaunch": false,
    "category": "General purpose",
    "gpuNum": 0,
    "hideHardwareSpecs": false,
    "memoryGiB": 8,
    "name": "ml.m5d.large",
    "vcpuNum": 2
   },
   {
    "_defaultOrder": 13,
    "_isFastLaunch": false,
    "category": "General purpose",
    "gpuNum": 0,
    "hideHardwareSpecs": false,
    "memoryGiB": 16,
    "name": "ml.m5d.xlarge",
    "vcpuNum": 4
   },
   {
    "_defaultOrder": 14,
    "_isFastLaunch": false,
    "category": "General purpose",
    "gpuNum": 0,
    "hideHardwareSpecs": false,
    "memoryGiB": 32,
    "name": "ml.m5d.2xlarge",
    "vcpuNum": 8
   },
   {
    "_defaultOrder": 15,
    "_isFastLaunch": false,
    "category": "General purpose",
    "gpuNum": 0,
    "hideHardwareSpecs": false,
    "memoryGiB": 64,
    "name": "ml.m5d.4xlarge",
    "vcpuNum": 16
   },
   {
    "_defaultOrder": 16,
    "_isFastLaunch": false,
    "category": "General purpose",
    "gpuNum": 0,
    "hideHardwareSpecs": false,
    "memoryGiB": 128,
    "name": "ml.m5d.8xlarge",
    "vcpuNum": 32
   },
   {
    "_defaultOrder": 17,
    "_isFastLaunch": false,
    "category": "General purpose",
    "gpuNum": 0,
    "hideHardwareSpecs": false,
    "memoryGiB": 192,
    "name": "ml.m5d.12xlarge",
    "vcpuNum": 48
   },
   {
    "_defaultOrder": 18,
    "_isFastLaunch": false,
    "category": "General purpose",
    "gpuNum": 0,
    "hideHardwareSpecs": false,
    "memoryGiB": 256,
    "name": "ml.m5d.16xlarge",
    "vcpuNum": 64
   },
   {
    "_defaultOrder": 19,
    "_isFastLaunch": false,
    "category": "General purpose",
    "gpuNum": 0,
    "hideHardwareSpecs": false,
    "memoryGiB": 384,
    "name": "ml.m5d.24xlarge",
    "vcpuNum": 96
   },
   {
    "_defaultOrder": 20,
    "_isFastLaunch": false,
    "category": "General purpose",
    "gpuNum": 0,
    "hideHardwareSpecs": true,
    "memoryGiB": 0,
    "name": "ml.geospatial.interactive",
    "supportedImageNames": [
     "sagemaker-geospatial-v1-0"
    ],
    "vcpuNum": 0
   },
   {
    "_defaultOrder": 21,
    "_isFastLaunch": true,
    "category": "Compute optimized",
    "gpuNum": 0,
    "hideHardwareSpecs": false,
    "memoryGiB": 4,
    "name": "ml.c5.large",
    "vcpuNum": 2
   },
   {
    "_defaultOrder": 22,
    "_isFastLaunch": false,
    "category": "Compute optimized",
    "gpuNum": 0,
    "hideHardwareSpecs": false,
    "memoryGiB": 8,
    "name": "ml.c5.xlarge",
    "vcpuNum": 4
   },
   {
    "_defaultOrder": 23,
    "_isFastLaunch": false,
    "category": "Compute optimized",
    "gpuNum": 0,
    "hideHardwareSpecs": false,
    "memoryGiB": 16,
    "name": "ml.c5.2xlarge",
    "vcpuNum": 8
   },
   {
    "_defaultOrder": 24,
    "_isFastLaunch": false,
    "category": "Compute optimized",
    "gpuNum": 0,
    "hideHardwareSpecs": false,
    "memoryGiB": 32,
    "name": "ml.c5.4xlarge",
    "vcpuNum": 16
   },
   {
    "_defaultOrder": 25,
    "_isFastLaunch": false,
    "category": "Compute optimized",
    "gpuNum": 0,
    "hideHardwareSpecs": false,
    "memoryGiB": 72,
    "name": "ml.c5.9xlarge",
    "vcpuNum": 36
   },
   {
    "_defaultOrder": 26,
    "_isFastLaunch": false,
    "category": "Compute optimized",
    "gpuNum": 0,
    "hideHardwareSpecs": false,
    "memoryGiB": 96,
    "name": "ml.c5.12xlarge",
    "vcpuNum": 48
   },
   {
    "_defaultOrder": 27,
    "_isFastLaunch": false,
    "category": "Compute optimized",
    "gpuNum": 0,
    "hideHardwareSpecs": false,
    "memoryGiB": 144,
    "name": "ml.c5.18xlarge",
    "vcpuNum": 72
   },
   {
    "_defaultOrder": 28,
    "_isFastLaunch": false,
    "category": "Compute optimized",
    "gpuNum": 0,
    "hideHardwareSpecs": false,
    "memoryGiB": 192,
    "name": "ml.c5.24xlarge",
    "vcpuNum": 96
   },
   {
    "_defaultOrder": 29,
    "_isFastLaunch": true,
    "category": "Accelerated computing",
    "gpuNum": 1,
    "hideHardwareSpecs": false,
    "memoryGiB": 16,
    "name": "ml.g4dn.xlarge",
    "vcpuNum": 4
   },
   {
    "_defaultOrder": 30,
    "_isFastLaunch": false,
    "category": "Accelerated computing",
    "gpuNum": 1,
    "hideHardwareSpecs": false,
    "memoryGiB": 32,
    "name": "ml.g4dn.2xlarge",
    "vcpuNum": 8
   },
   {
    "_defaultOrder": 31,
    "_isFastLaunch": false,
    "category": "Accelerated computing",
    "gpuNum": 1,
    "hideHardwareSpecs": false,
    "memoryGiB": 64,
    "name": "ml.g4dn.4xlarge",
    "vcpuNum": 16
   },
   {
    "_defaultOrder": 32,
    "_isFastLaunch": false,
    "category": "Accelerated computing",
    "gpuNum": 1,
    "hideHardwareSpecs": false,
    "memoryGiB": 128,
    "name": "ml.g4dn.8xlarge",
    "vcpuNum": 32
   },
   {
    "_defaultOrder": 33,
    "_isFastLaunch": false,
    "category": "Accelerated computing",
    "gpuNum": 4,
    "hideHardwareSpecs": false,
    "memoryGiB": 192,
    "name": "ml.g4dn.12xlarge",
    "vcpuNum": 48
   },
   {
    "_defaultOrder": 34,
    "_isFastLaunch": false,
    "category": "Accelerated computing",
    "gpuNum": 1,
    "hideHardwareSpecs": false,
    "memoryGiB": 256,
    "name": "ml.g4dn.16xlarge",
    "vcpuNum": 64
   },
   {
    "_defaultOrder": 35,
    "_isFastLaunch": false,
    "category": "Accelerated computing",
    "gpuNum": 1,
    "hideHardwareSpecs": false,
    "memoryGiB": 61,
    "name": "ml.p3.2xlarge",
    "vcpuNum": 8
   },
   {
    "_defaultOrder": 36,
    "_isFastLaunch": false,
    "category": "Accelerated computing",
    "gpuNum": 4,
    "hideHardwareSpecs": false,
    "memoryGiB": 244,
    "name": "ml.p3.8xlarge",
    "vcpuNum": 32
   },
   {
    "_defaultOrder": 37,
    "_isFastLaunch": false,
    "category": "Accelerated computing",
    "gpuNum": 8,
    "hideHardwareSpecs": false,
    "memoryGiB": 488,
    "name": "ml.p3.16xlarge",
    "vcpuNum": 64
   },
   {
    "_defaultOrder": 38,
    "_isFastLaunch": false,
    "category": "Accelerated computing",
    "gpuNum": 8,
    "hideHardwareSpecs": false,
    "memoryGiB": 768,
    "name": "ml.p3dn.24xlarge",
    "vcpuNum": 96
   },
   {
    "_defaultOrder": 39,
    "_isFastLaunch": false,
    "category": "Memory Optimized",
    "gpuNum": 0,
    "hideHardwareSpecs": false,
    "memoryGiB": 16,
    "name": "ml.r5.large",
    "vcpuNum": 2
   },
   {
    "_defaultOrder": 40,
    "_isFastLaunch": false,
    "category": "Memory Optimized",
    "gpuNum": 0,
    "hideHardwareSpecs": false,
    "memoryGiB": 32,
    "name": "ml.r5.xlarge",
    "vcpuNum": 4
   },
   {
    "_defaultOrder": 41,
    "_isFastLaunch": false,
    "category": "Memory Optimized",
    "gpuNum": 0,
    "hideHardwareSpecs": false,
    "memoryGiB": 64,
    "name": "ml.r5.2xlarge",
    "vcpuNum": 8
   },
   {
    "_defaultOrder": 42,
    "_isFastLaunch": false,
    "category": "Memory Optimized",
    "gpuNum": 0,
    "hideHardwareSpecs": false,
    "memoryGiB": 128,
    "name": "ml.r5.4xlarge",
    "vcpuNum": 16
   },
   {
    "_defaultOrder": 43,
    "_isFastLaunch": false,
    "category": "Memory Optimized",
    "gpuNum": 0,
    "hideHardwareSpecs": false,
    "memoryGiB": 256,
    "name": "ml.r5.8xlarge",
    "vcpuNum": 32
   },
   {
    "_defaultOrder": 44,
    "_isFastLaunch": false,
    "category": "Memory Optimized",
    "gpuNum": 0,
    "hideHardwareSpecs": false,
    "memoryGiB": 384,
    "name": "ml.r5.12xlarge",
    "vcpuNum": 48
   },
   {
    "_defaultOrder": 45,
    "_isFastLaunch": false,
    "category": "Memory Optimized",
    "gpuNum": 0,
    "hideHardwareSpecs": false,
    "memoryGiB": 512,
    "name": "ml.r5.16xlarge",
    "vcpuNum": 64
   },
   {
    "_defaultOrder": 46,
    "_isFastLaunch": false,
    "category": "Memory Optimized",
    "gpuNum": 0,
    "hideHardwareSpecs": false,
    "memoryGiB": 768,
    "name": "ml.r5.24xlarge",
    "vcpuNum": 96
   },
   {
    "_defaultOrder": 47,
    "_isFastLaunch": false,
    "category": "Accelerated computing",
    "gpuNum": 1,
    "hideHardwareSpecs": false,
    "memoryGiB": 16,
    "name": "ml.g5.xlarge",
    "vcpuNum": 4
   },
   {
    "_defaultOrder": 48,
    "_isFastLaunch": false,
    "category": "Accelerated computing",
    "gpuNum": 1,
    "hideHardwareSpecs": false,
    "memoryGiB": 32,
    "name": "ml.g5.2xlarge",
    "vcpuNum": 8
   },
   {
    "_defaultOrder": 49,
    "_isFastLaunch": false,
    "category": "Accelerated computing",
    "gpuNum": 1,
    "hideHardwareSpecs": false,
    "memoryGiB": 64,
    "name": "ml.g5.4xlarge",
    "vcpuNum": 16
   },
   {
    "_defaultOrder": 50,
    "_isFastLaunch": false,
    "category": "Accelerated computing",
    "gpuNum": 1,
    "hideHardwareSpecs": false,
    "memoryGiB": 128,
    "name": "ml.g5.8xlarge",
    "vcpuNum": 32
   },
   {
    "_defaultOrder": 51,
    "_isFastLaunch": false,
    "category": "Accelerated computing",
    "gpuNum": 1,
    "hideHardwareSpecs": false,
    "memoryGiB": 256,
    "name": "ml.g5.16xlarge",
    "vcpuNum": 64
   },
   {
    "_defaultOrder": 52,
    "_isFastLaunch": false,
    "category": "Accelerated computing",
    "gpuNum": 4,
    "hideHardwareSpecs": false,
    "memoryGiB": 192,
    "name": "ml.g5.12xlarge",
    "vcpuNum": 48
   },
   {
    "_defaultOrder": 53,
    "_isFastLaunch": false,
    "category": "Accelerated computing",
    "gpuNum": 4,
    "hideHardwareSpecs": false,
    "memoryGiB": 384,
    "name": "ml.g5.24xlarge",
    "vcpuNum": 96
   },
   {
    "_defaultOrder": 54,
    "_isFastLaunch": false,
    "category": "Accelerated computing",
    "gpuNum": 8,
    "hideHardwareSpecs": false,
    "memoryGiB": 768,
    "name": "ml.g5.48xlarge",
    "vcpuNum": 192
   },
   {
    "_defaultOrder": 55,
    "_isFastLaunch": false,
    "category": "Accelerated computing",
    "gpuNum": 8,
    "hideHardwareSpecs": false,
    "memoryGiB": 1152,
    "name": "ml.p4d.24xlarge",
    "vcpuNum": 96
   },
   {
    "_defaultOrder": 56,
    "_isFastLaunch": false,
    "category": "Accelerated computing",
    "gpuNum": 8,
    "hideHardwareSpecs": false,
    "memoryGiB": 1152,
    "name": "ml.p4de.24xlarge",
    "vcpuNum": 96
   },
   {
    "_defaultOrder": 57,
    "_isFastLaunch": false,
    "category": "Accelerated computing",
    "gpuNum": 0,
    "hideHardwareSpecs": false,
    "memoryGiB": 32,
    "name": "ml.trn1.2xlarge",
    "vcpuNum": 8
   },
   {
    "_defaultOrder": 58,
    "_isFastLaunch": false,
    "category": "Accelerated computing",
    "gpuNum": 0,
    "hideHardwareSpecs": false,
    "memoryGiB": 512,
    "name": "ml.trn1.32xlarge",
    "vcpuNum": 128
   },
   {
    "_defaultOrder": 59,
    "_isFastLaunch": false,
    "category": "Accelerated computing",
    "gpuNum": 0,
    "hideHardwareSpecs": false,
    "memoryGiB": 512,
    "name": "ml.trn1n.32xlarge",
    "vcpuNum": 128
   }
  ],
  "instance_type": "ml.t3.medium",
  "kernelspec": {
   "display_name": "Python 3 (ipykernel)",
   "language": "python",
   "name": "python3"
  },
  "language_info": {
   "codemirror_mode": {
    "name": "ipython",
    "version": 3
   },
   "file_extension": ".py",
   "mimetype": "text/x-python",
   "name": "python",
   "nbconvert_exporter": "python",
   "pygments_lexer": "ipython3",
   "version": "3.11.8"
  },
  "nbproject": {
   "id": "G69jtgzKO0eJ",
   "parent": null,
   "pypackage": null,
   "time_init": "2024-01-11T09:33:10.726436+00:00",
   "user_handle": null,
   "user_id": null,
   "user_name": null,
   "version": "1"
  }
 },
 "nbformat": 4,
 "nbformat_minor": 5
}
