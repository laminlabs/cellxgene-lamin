{
 "cells": [
  {
   "cell_type": "markdown",
   "metadata": {},
   "source": [
    "# Register files from Census release 2023-07-25"
   ]
  },
  {
   "cell_type": "code",
   "execution_count": null,
   "metadata": {
    "tags": []
   },
   "outputs": [
    {
     "name": "stdout",
     "output_type": "stream",
     "text": [
      "💡 lamindb instance: laminlabs/cellxgene\n"
     ]
    }
   ],
   "source": [
    "import lamindb as ln\n",
    "import bionty as bt\n",
    "\n",
    "# import cellxgene_census\n",
    "import pandas as pd"
   ]
  },
  {
   "cell_type": "code",
   "execution_count": 2,
   "metadata": {
    "tags": []
   },
   "outputs": [
    {
     "name": "stdout",
     "output_type": "stream",
     "text": [
      "💡 notebook imports: lamindb==0.67.2 lnschema_bionty==0.39.0 pandas==2.1.4 requests==2.31.0\n",
      "💡 loaded: Transform(uid='pNa7RdI26sp45zKv', name='Register files from Census release 2023-07-25', short_name='census-release-2023-07-25', version='1', type='notebook', updated_at=2024-01-27 05:27:26 UTC, created_by_id=1)\n",
      "💡 loaded: Run(uid='dJ9t75LeOeqYWA4B0WbA', run_at=2024-01-30 09:03:47 UTC, transform_id=18, created_by_id=1)\n"
     ]
    }
   ],
   "source": [
    "ln.context.track()"
   ]
  },
  {
   "cell_type": "code",
   "execution_count": 3,
   "metadata": {
    "tags": []
   },
   "outputs": [],
   "source": [
    "census_version = \"2023-07-25\"  # LTS release of Census"
   ]
  },
  {
   "cell_type": "markdown",
   "metadata": {},
   "source": [
    "## Register collections (updated 2024-01-27)"
   ]
  },
  {
   "cell_type": "code",
   "execution_count": 4,
   "metadata": {},
   "outputs": [
    {
     "data": {
      "text/plain": [
       "850"
      ]
     },
     "execution_count": 4,
     "metadata": {},
     "output_type": "execute_result"
    }
   ],
   "source": [
    "artifacts = ln.Artifact.filter(version=census_version).all()\n",
    "artifacts.count()"
   ]
  },
  {
   "cell_type": "code",
   "execution_count": 5,
   "metadata": {},
   "outputs": [],
   "source": [
    "collection = ln.Collection(artifacts, name=\"cellxgene-census\", version=census_version)\n",
    "collection.save()"
   ]
  },
  {
   "cell_type": "code",
   "execution_count": 12,
   "metadata": {},
   "outputs": [
    {
     "data": {
      "text/plain": [
       "80"
      ]
     },
     "execution_count": 12,
     "metadata": {},
     "output_type": "execute_result"
    }
   ],
   "source": [
    "collections = ln.Collection.filter(version=census_version).all()\n",
    "collections.count()"
   ]
  },
  {
   "cell_type": "markdown",
   "metadata": {},
   "source": [
    "## Register datasets"
   ]
  },
  {
   "cell_type": "markdown",
   "metadata": {},
   "source": [
    "Get the h5ad files directory on s3 from Census:"
   ]
  },
  {
   "cell_type": "code",
   "execution_count": 4,
   "metadata": {
    "tags": []
   },
   "outputs": [
    {
     "data": {
      "text/plain": [
       "'s3://cellxgene-data-public/cell-census/2023-07-25/h5ads/'"
      ]
     },
     "execution_count": 4,
     "metadata": {},
     "output_type": "execute_result"
    }
   ],
   "source": [
    "h5ad_dir = (\n",
    "    cellxgene_census.get_census_version_directory()  # noqa:F821\n",
    "    .get(\"stable\")\n",
    "    .get(\"h5ads\")\n",
    "    .get(\"uri\")\n",
    ")\n",
    "h5ad_dir"
   ]
  },
  {
   "cell_type": "code",
   "execution_count": 5,
   "metadata": {
    "tags": []
   },
   "outputs": [
    {
     "name": "stdout",
     "output_type": "stream",
     "text": [
      " (0 sub-directories & 850 files with suffixes '.h5ad'): \n",
      "├── 00099d5e-154f-4a7a-aa8d-fa30c8c0c43c.h5ad\n",
      "├── 0041b9c3-6a49-4bf7-8514-9bc7190067a7.h5ad\n",
      "├── 00476f9f-ebc1-4b72-b541-32f912ce36ea.h5ad\n",
      "├── 00e5dedd-b9b7-43be-8c28-b0e5c6414a62.h5ad\n",
      "├── 00ff600e-6e2e-4d76-846f-0eec4f0ae417.h5ad\n",
      "├── 01209dce-3575-4bed-b1df-129f57fbc031.h5ad\n",
      "...\n"
     ]
    }
   ],
   "source": [
    "ln.UPath(h5ad_dir).view_tree()"
   ]
  },
  {
   "cell_type": "code",
   "execution_count": null,
   "metadata": {},
   "outputs": [],
   "source": [
    "files = ln.File.from_dir(\"s3://cellxgene-data-public/cell-census/2023-07-25/h5ads\")\n",
    "ln.save(files)"
   ]
  },
  {
   "cell_type": "code",
   "execution_count": 8,
   "metadata": {
    "tags": []
   },
   "outputs": [],
   "source": [
    "dataset = ln.Dataset(files, name=\"cellxgene-census\", version=census_version)\n",
    "dataset.save()"
   ]
  },
  {
   "cell_type": "code",
   "execution_count": 4,
   "metadata": {
    "tags": []
   },
   "outputs": [],
   "source": [
    "dataset = ln.Dataset.filter(name=\"cellxgene-census\", version=census_version).one()\n",
    "files = dataset.files.all()"
   ]
  },
  {
   "cell_type": "markdown",
   "metadata": {},
   "source": [
    "## Register metadata"
   ]
  },
  {
   "cell_type": "markdown",
   "metadata": {},
   "source": [
    "Get all datasets and associated metadata using cellxgene REST API:"
   ]
  },
  {
   "cell_type": "code",
   "execution_count": 7,
   "metadata": {
    "tags": []
   },
   "outputs": [],
   "source": [
    "import requests\n",
    "\n",
    "\n",
    "def get_metadata_from_cxg():\n",
    "    api_url_base = \"https://api.cellxgene.cziscience.com\"\n",
    "    datasets_path = \"/curation/v1/datasets\"\n",
    "    datasets_url = f\"{api_url_base}{datasets_path}\"\n",
    "    headers = {\"Content-Type\": \"application/json\"}\n",
    "    res = requests.get(url=datasets_url, headers=headers)\n",
    "    res.raise_for_status()\n",
    "    cellxgene_meta = res.json()\n",
    "    return cellxgene_meta"
   ]
  },
  {
   "cell_type": "code",
   "execution_count": 8,
   "metadata": {
    "tags": []
   },
   "outputs": [
    {
     "data": {
      "text/plain": [
       "1132"
      ]
     },
     "execution_count": 8,
     "metadata": {},
     "output_type": "execute_result"
    }
   ],
   "source": [
    "cellxgene_meta = get_metadata_from_cxg()\n",
    "len(cellxgene_meta)"
   ]
  },
  {
   "cell_type": "code",
   "execution_count": 9,
   "metadata": {
    "tags": []
   },
   "outputs": [
    {
     "data": {
      "text/plain": [
       "dict_keys(['assay', 'assets', 'cell_count', 'cell_type', 'collection_doi', 'collection_id', 'collection_name', 'collection_version_id', 'dataset_id', 'dataset_version_id', 'development_stage', 'disease', 'donor_id', 'explorer_url', 'is_primary_data', 'mean_genes_per_cell', 'organism', 'primary_cell_count', 'processing_status', 'published_at', 'revised_at', 'schema_version', 'self_reported_ethnicity', 'sex', 'suspension_type', 'tissue', 'title', 'tombstone', 'x_approximate_distribution'])"
      ]
     },
     "execution_count": 9,
     "metadata": {},
     "output_type": "execute_result"
    }
   ],
   "source": [
    "cellxgene_meta[0].keys()"
   ]
  },
  {
   "cell_type": "markdown",
   "metadata": {},
   "source": [
    "### features"
   ]
  },
  {
   "cell_type": "code",
   "execution_count": 11,
   "metadata": {
    "tags": []
   },
   "outputs": [],
   "source": [
    "obs_features = {\n",
    "    \"assay\": \"bionty.ExperimentalFactor\",\n",
    "    \"cell_type\": \"bionty.CellType\",\n",
    "    \"development_stage\": \"bionty.DevelopmentalStage\",\n",
    "    \"disease\": \"bionty.Disease\",\n",
    "    \"donor_id\": \"core.ULabel\",\n",
    "    \"self_reported_ethnicity\": \"bionty.Ethnicity\",\n",
    "    \"sex\": \"bionty.Phenotype\",\n",
    "    \"suspension_type\": \"core.ULabel\",\n",
    "    \"tissue\": \"bionty.Tissue\",\n",
    "}\n",
    "\n",
    "obs_features_records = []\n",
    "for name, registry in obs_features.items():\n",
    "    record = ln.Feature(name=name, type=\"category\", registries=registry)\n",
    "    obs_features_records.append(record)\n",
    "ln.save(obs_features_records)\n",
    "obs_feature_set = ln.FeatureSet(features=obs_features_records, name=\"obs features\")\n",
    "obs_feature_set.save()\n",
    "obs_feature_set.files.set(files, through_defaults={\"slot\": \"obs\"})"
   ]
  },
  {
   "cell_type": "code",
   "execution_count": 12,
   "metadata": {
    "tags": []
   },
   "outputs": [],
   "source": [
    "ext_features = {\"organism\": \"bionty.Organism\", \"collection\": \"core.ULabel\"}\n",
    "\n",
    "ext_features_records = []\n",
    "for name, registry in ext_features.items():\n",
    "    record = ln.Feature(name=name, type=\"category\", registries=registry)\n",
    "    ext_features_records.append(record)\n",
    "ln.save(ext_features_records)\n",
    "ext_feature_set = ln.FeatureSet(features=ext_features_records, name=\"external features\")\n",
    "ext_feature_set.save()\n",
    "ext_feature_set.files.set(files, through_defaults={\"slot\": \"external\"})"
   ]
  },
  {
   "cell_type": "markdown",
   "metadata": {},
   "source": [
    "### collections, organisms"
   ]
  },
  {
   "cell_type": "markdown",
   "metadata": {},
   "source": [
    "Register collections:"
   ]
  },
  {
   "cell_type": "code",
   "execution_count": 13,
   "metadata": {
    "tags": []
   },
   "outputs": [],
   "source": [
    "is_collection = ln.ULabel(name=\"is_collection\")\n",
    "is_collection.save()\n",
    "\n",
    "collections_meta = set()\n",
    "for dataset_meta in cellxgene_meta:\n",
    "    collections_meta.add(\n",
    "        (\n",
    "            dataset_meta[\"collection_name\"],\n",
    "            dataset_meta[\"collection_doi\"],\n",
    "            dataset_meta[\"collection_id\"],\n",
    "        )\n",
    "    )\n",
    "\n",
    "collections_records = []\n",
    "for collection_name, collection_doi, collection_id in collections_meta:\n",
    "    collection = ln.ULabel(\n",
    "        name=collection_name,\n",
    "        description=collection_doi,\n",
    "        reference=collection_id,\n",
    "        reference_type=\"collection_id\",\n",
    "    )\n",
    "    collections_records.append(collection)\n",
    "ln.save(collections_records)\n",
    "is_collection.children.add(*collections_records)"
   ]
  },
  {
   "cell_type": "markdown",
   "metadata": {},
   "source": [
    "Register organisms:"
   ]
  },
  {
   "cell_type": "code",
   "execution_count": null,
   "metadata": {
    "tags": []
   },
   "outputs": [],
   "source": [
    "ncbitaxon_source = bt.BiontySource.filter(source=\"ncbitaxon\").one()\n",
    "\n",
    "organisms_meta = set()\n",
    "for dataset_meta in cellxgene_meta:\n",
    "    organisms_meta.update({i[\"ontology_term_id\"] for i in dataset_meta[\"organism\"]})\n",
    "\n",
    "organisms_records = bt.Organism.from_values(\n",
    "    organisms_meta, field=bt.Organism.ontology_id, bionty_source=ncbitaxon_source\n",
    ")\n",
    "# rename house mouse to mouse\n",
    "for r in organisms_records:\n",
    "    if r.name == \"house mouse\":\n",
    "        r.name = \"mouse\"\n",
    "ln.save(organisms_records, parents=False)"
   ]
  },
  {
   "cell_type": "markdown",
   "metadata": {},
   "source": [
    "Annotate files with collections and organisms:"
   ]
  },
  {
   "cell_type": "code",
   "execution_count": null,
   "metadata": {
    "tags": []
   },
   "outputs": [],
   "source": [
    "ext_features = ext_feature_set.members.lookup()\n",
    "files = dataset.files.all()\n",
    "collections = is_collection.children.all()\n",
    "organisms = bt.Organism.filter().all()\n",
    "\n",
    "for dataset_meta in cellxgene_meta:\n",
    "    # get registered file record based on dataset_id\n",
    "    file = files.filter(key__contains=dataset_meta[\"dataset_id\"]).one_or_none()\n",
    "    if file is None:\n",
    "        continue\n",
    "\n",
    "    # register collection\n",
    "    collection = ln.ULabel.filter(reference=dataset_meta[\"collection_id\"]).one()\n",
    "    file.labels.add(collection, feature=ext_features.collection)\n",
    "\n",
    "    # register organism\n",
    "    organism_ontology_ids = [i[\"ontology_term_id\"] for i in dataset_meta[\"organism\"]]\n",
    "    organism_records = bt.Organism.filter(ontology_id__in=organism_ontology_ids).list()\n",
    "    file.labels.add(organism_records, feature=ext_features.organism)"
   ]
  },
  {
   "cell_type": "markdown",
   "metadata": {},
   "source": [
    "### ontologies"
   ]
  },
  {
   "cell_type": "markdown",
   "metadata": {},
   "source": [
    "Register all ontology ids:"
   ]
  },
  {
   "cell_type": "code",
   "execution_count": null,
   "metadata": {
    "tags": []
   },
   "outputs": [],
   "source": [
    "from lnschema_bionty.models import Registry\n",
    "from lamindb.dev._feature_manager import get_accessor_by_orm\n",
    "\n",
    "obs_features_records = obs_feature_set.members.lookup()\n",
    "ACCESSORS = get_accessor_by_orm(ln.File)\n",
    "FEATURE_TO_ACCESSOR = {}\n",
    "for name in obs_features.keys():\n",
    "    feature = getattr(obs_features_records, name)\n",
    "    accessor = ACCESSORS.get(feature.registries)\n",
    "    orm = getattr(ln.File, accessor).field.model\n",
    "    # TODO: ulabels are defined in the File model, improve this in LaminDB\n",
    "    if orm == ln.File:\n",
    "        orm = getattr(ln.File, accessor).field.related_model\n",
    "    FEATURE_TO_ACCESSOR[name] = (accessor, orm)\n",
    "\n",
    "\n",
    "def create_ontology_record_from_source(\n",
    "    ontology_id: str,\n",
    "    from_orm: Registry,\n",
    "    target_orm: Registry,\n",
    "    bionty_source: bt.BiontySource | None = None,\n",
    "):\n",
    "    from_record = from_orm.from_bionty(\n",
    "        ontology_id=ontology_id, bionty_source=bionty_source\n",
    "    )\n",
    "    try:\n",
    "        target_record = target_orm(\n",
    "            name=from_record.name,\n",
    "            description=from_record.description,\n",
    "            ontology_id=from_record.ontology_id,\n",
    "            bionty_source_id=from_record.bionty_source_id,\n",
    "        )\n",
    "        return target_record\n",
    "    except Exception:\n",
    "        pass"
   ]
  },
  {
   "cell_type": "code",
   "execution_count": null,
   "metadata": {
    "tags": [
     "hide-output"
    ]
   },
   "outputs": [
    {
     "name": "stdout",
     "output_type": "stream",
     "text": [
      "registering assay\n",
      "❗ \u001b[1;91mdid not create\u001b[0m ExperimentalFactor record for \u001b[1;93m1 non-validated\u001b[0m \u001b[3montology_id\u001b[0m: \u001b[1;93m'EFO:0700016'\u001b[0m\n",
      "❗ now recursing through parents: this only happens once, but is much slower than bulk saving\n",
      "registered 1 records: [ExperimentalFactor(uid='gWUGSA9l', name='Smart-seq v4', ontology_id='EFO:0700016', created_by_id=1)]\n",
      "registering cell_type\n",
      "❗ now recursing through parents: this only happens once, but is much slower than bulk saving\n",
      "registering development_stage\n",
      "❗ \u001b[1;91mdid not create\u001b[0m DevelopmentalStage records for \u001b[1;93m6 non-validated\u001b[0m \u001b[3montology_ids\u001b[0m: \u001b[1;93m'UBERON:0018241', 'UBERON:0000113', 'UBERON:0034919', 'UBERON:0007220', 'UBERON:0007222', 'unknown'\u001b[0m\n",
      "❗ now recursing through parents: this only happens once, but is much slower than bulk saving\n",
      "registered 6 records: [DevelopmentalStage(uid='wksJWjer', name='prime adult stage', ontology_id='UBERON:0018241', description='A Life Cycle Stage That Starts At Completion Of Development And Growth Of The Sexually Mature Adult Animal, And Ends Before Senescence.', bionty_source_id=47, created_by_id=1), DevelopmentalStage(uid='GDaE3j6Z', name='post-juvenile adult stage', ontology_id='UBERON:0000113', description='The Stage Of Being A Sexually Mature Adult Animal.', bionty_source_id=47, created_by_id=1), DevelopmentalStage(uid='l00DTC4g', name='juvenile stage', ontology_id='UBERON:0034919', description='The Stage Of Being No More Dependent Of The Nest And/Or From Caregivers For Subsistence While Having Not Reach Sexual Maturity.', bionty_source_id=47, created_by_id=1), DevelopmentalStage(uid='lNh8U4YZ', name='late embryonic stage', ontology_id='UBERON:0007220', description='An Embryo Stage That Covers Late Steps Of The Embryogenesis With A Fully Formed Embryo Still Developing Before Birth Or Egg Hatching.', bionty_source_id=47, created_by_id=1), DevelopmentalStage(uid='hqyIKjfF', name='late adult stage', ontology_id='UBERON:0007222', bionty_source_id=47, created_by_id=1), DevelopmentalStage(uid='xL8yuEN7', name='unknown', ontology_id='unknown', created_by_id=1)]\n",
      "registering disease\n",
      "❗ \u001b[1;91mdid not create\u001b[0m Disease record for \u001b[1;93m1 non-validated\u001b[0m \u001b[3montology_id\u001b[0m: \u001b[1;93m'PATO:0000461'\u001b[0m\n",
      "❗ now recursing through parents: this only happens once, but is much slower than bulk saving\n",
      "registered 1 records: [Disease(uid='4r2nqggf', name='normal', ontology_id='PATO:0000461', description='A Quality Inhering In A Bearer By Virtue Of The Bearer'S Exhibiting No Deviation From Normal Or Average.', bionty_source_id=38, created_by_id=1)]\n",
      "registering self_reported_ethnicity\n",
      "❗ \u001b[1;91mdid not create\u001b[0m Ethnicity records for \u001b[1;93m3 non-validated\u001b[0m \u001b[3montology_ids\u001b[0m: \u001b[1;93m'multiethnic', 'na', 'unknown'\u001b[0m\n",
      "❗ now recursing through parents: this only happens once, but is much slower than bulk saving\n",
      "registered 3 records: [Ethnicity(uid='xL8yuEN7', name='unknown', ontology_id='unknown', created_by_id=1), Ethnicity(uid='UY1fNAFT', name='na', ontology_id='na', created_by_id=1), Ethnicity(uid='8lAgy5Ej', name='multiethnic', ontology_id='multiethnic', created_by_id=1)]\n",
      "registering sex\n",
      "❗ \u001b[1;91mdid not create\u001b[0m Phenotype records for \u001b[1;93m3 non-validated\u001b[0m \u001b[3montology_ids\u001b[0m: \u001b[1;93m'PATO:0000384', 'unknown', 'PATO:0000383'\u001b[0m\n",
      "registered 3 records: [Phenotype(uid='xL8yuEN7', name='unknown', ontology_id='unknown', created_by_id=1), Phenotype(uid='Pl1UiuS0', name='male', ontology_id='PATO:0000384', description='A Biological Sex Quality Inhering In An Individual Or A Population Whose Sex Organs Contain Only Male Gametes.', bionty_source_id=38, created_by_id=1), Phenotype(uid='hSl0sSF0', name='female', ontology_id='PATO:0000383', description='A Biological Sex Quality Inhering In An Individual Or A Population That Only Produces Gametes That Can Be Fertilised By Male Gametes.', bionty_source_id=38, created_by_id=1)]\n",
      "registering tissue\n",
      "❗ \u001b[1;91mdid not create\u001b[0m Tissue records for \u001b[1;93m18 non-validated\u001b[0m \u001b[3montology_ids\u001b[0m: \u001b[1;93m'CL:0000010 (cell culture)', 'CL:0000082 (cell culture)', 'CL:0000084 (cell culture)', 'CL:0000115 (cell culture)', 'CL:0000351 (cell culture)', 'CL:0002322 (cell culture)', 'CL:0002327 (cell culture)', 'CL:0002328 (cell culture)', 'CL:0002334 (cell culture)', 'CL:0002335 (cell culture)', 'CL:0002633 (cell culture)', 'CL:0010003 (cell culture)', 'UBERON:0000088 (organoid)', 'UBERON:0000310 (organoid)', 'UBERON:0000966 (organoid)', 'UBERON:0001295 (organoid)', 'UBERON:0002048 (organoid)', 'UBERON:0002370 (organoid)'\u001b[0m\n",
      "❗ now recursing through parents: this only happens once, but is much slower than bulk saving\n",
      "registered 18 records: [Tissue(uid='x3tRcugV', name='trophoblast (organoid)', ontology_id='UBERON:0000088 (organoid)', created_by_id=1), Tissue(uid='UoElNxsj', name='endothelial cell (cell culture)', ontology_id='CL:0000115 (cell culture)', created_by_id=1), Tissue(uid='9YB5clqY', name='cultured cell (cell culture)', ontology_id='CL:0000010 (cell culture)', created_by_id=1), Tissue(uid='WSs6UA9e', name='lung (organoid)', ontology_id='UBERON:0002048 (organoid)', created_by_id=1), Tissue(uid='CevFMDqD', name='preadipocyte (cell culture)', ontology_id='CL:0002334 (cell culture)', created_by_id=1), Tissue(uid='RkE6D8y1', name='endometrium (organoid)', ontology_id='UBERON:0001295 (organoid)', created_by_id=1), Tissue(uid='rIPA0OEl', name='T cell (cell culture)', ontology_id='CL:0000084 (cell culture)', created_by_id=1), Tissue(uid='dwdBlCNp', name='breast (organoid)', ontology_id='UBERON:0000310 (organoid)', created_by_id=1), Tissue(uid='Ash8pGf8', name='trophoblast cell (cell culture)', ontology_id='CL:0000351 (cell culture)', created_by_id=1), Tissue(uid='uS0Cw8zN', name='retina (organoid)', ontology_id='UBERON:0000966 (organoid)', created_by_id=1), Tissue(uid='vg9s890t', name='respiratory basal cell (cell culture)', ontology_id='CL:0002633 (cell culture)', created_by_id=1), Tissue(uid='lfIFQFR5', name='epithelial cell of lung (cell culture)', ontology_id='CL:0000082 (cell culture)', created_by_id=1), Tissue(uid='w6gzNa8D', name='mammary gland epithelial cell (cell culture)', ontology_id='CL:0002327 (cell culture)', created_by_id=1), Tissue(uid='yPk6E1V8', name='epithelial cell of alveolus of lung (cell culture)', ontology_id='CL:0010003 (cell culture)', created_by_id=1), Tissue(uid='K4RSNRBc', name='thymus (organoid)', ontology_id='UBERON:0002370 (organoid)', created_by_id=1), Tissue(uid='9ICArUMH', name='embryonic stem cell (cell culture)', ontology_id='CL:0002322 (cell culture)', created_by_id=1), Tissue(uid='7MzqN14b', name='bronchial epithelial cell (cell culture)', ontology_id='CL:0002328 (cell culture)', created_by_id=1), Tissue(uid='kWD0kb5x', name='brown preadipocyte (cell culture)', ontology_id='CL:0002335 (cell culture)', created_by_id=1)]\n"
     ]
    }
   ],
   "source": [
    "ln.settings.upon_create_search_names = False\n",
    "\n",
    "ontology_ids = {}\n",
    "for name in obs_features.keys():\n",
    "    if name in [\"donor_id\", \"suspension_type\"]:\n",
    "        continue\n",
    "    allids = set()\n",
    "    for i in cellxgene_meta:\n",
    "        if name in i:\n",
    "            allids.update([(j[\"label\"], j[\"ontology_term_id\"]) for j in i[name]])\n",
    "\n",
    "    ontology_ids[name] = allids\n",
    "\n",
    "bionty_source_ds_mouse = bt.BiontySource.filter(\n",
    "    entity=\"DevelopmentalStage\", organism=\"mouse\"\n",
    ").one()\n",
    "bionty_source_pato = bt.BiontySource.filter(source=\"pato\").one()\n",
    "\n",
    "# register all ontology ids\n",
    "for name, terms in ontology_ids.items():\n",
    "    print(f\"registering {name}\")\n",
    "    accessor, orm = FEATURE_TO_ACCESSOR.get(name)\n",
    "    terms_ids = [i[1] for i in terms]\n",
    "    records = orm.from_values(terms_ids, field=\"ontology_id\")\n",
    "    if len(records) > 0:\n",
    "        ln.save(records)\n",
    "    inspect_result = orm.inspect(terms_ids, field=\"ontology_id\", mute=True)\n",
    "    if len(inspect_result.non_validated) > 0:\n",
    "        if name == \"development_stage\":\n",
    "            records = orm.from_values(\n",
    "                inspect_result.non_validated,\n",
    "                field=\"ontology_id\",\n",
    "                bionty_source=bionty_source_ds_mouse,\n",
    "            )\n",
    "            records += [\n",
    "                create_ontology_record_from_source(\n",
    "                    ontology_id=term_id, from_orm=bt.Tissue, target_orm=orm\n",
    "                )\n",
    "                for term_id in inspect_result.non_validated\n",
    "                if term_id.startswith(\"UBERON:\")\n",
    "            ]\n",
    "            records += [\n",
    "                orm(name=term_id, ontology_id=term_id)\n",
    "                for term_id in inspect_result.non_validated\n",
    "                if term_id == \"unknown\"\n",
    "            ]\n",
    "        else:\n",
    "            records = [\n",
    "                orm(name=term[0], ontology_id=term[1])\n",
    "                for term in terms\n",
    "                if (not term[1].startswith(\"PATO:\"))\n",
    "                and (term[1] in inspect_result.non_validated)\n",
    "            ]\n",
    "            records += [\n",
    "                create_ontology_record_from_source(\n",
    "                    ontology_id=term_id,\n",
    "                    from_orm=bt.Phenotype,\n",
    "                    target_orm=orm,\n",
    "                    bionty_source=bionty_source_pato,\n",
    "                )\n",
    "                for term_id in inspect_result.non_validated\n",
    "                if term_id.startswith(\"PATO:\")\n",
    "            ]\n",
    "\n",
    "        if len(records) > 0:\n",
    "            print(f\"registered {len(records)} records: {records}\")\n",
    "            ln.save(records)"
   ]
  },
  {
   "cell_type": "markdown",
   "metadata": {},
   "source": [
    "### donors and suspension_types"
   ]
  },
  {
   "cell_type": "code",
   "execution_count": 19,
   "metadata": {
    "tags": []
   },
   "outputs": [],
   "source": [
    "donor_ids = set()\n",
    "suspension_types = set()\n",
    "\n",
    "for i in cellxgene_meta:\n",
    "    if \"donor_id\" in i:\n",
    "        donor_ids.update(i[\"donor_id\"])\n",
    "    if \"suspension_type\" in i:\n",
    "        suspension_types.update(i[\"suspension_type\"])\n",
    "\n",
    "is_donor = ln.ULabel(name=\"is_donor\", description=\"parent of donor ids\")\n",
    "is_donor.save()\n",
    "\n",
    "is_suspension_type = ln.ULabel(\n",
    "    name=\"is_suspension_type\", description=\"parent of suspension types\"\n",
    ")\n",
    "is_suspension_type.save()"
   ]
  },
  {
   "cell_type": "code",
   "execution_count": 20,
   "metadata": {
    "tags": []
   },
   "outputs": [],
   "source": [
    "is_donor = ln.ULabel.filter(name=\"is_donor\").one()\n",
    "donors = is_donor.children.all()\n",
    "result = donors.inspect(donor_ids, mute=True)\n",
    "new_donors = [ln.ULabel(name=name) for name in result.non_validated]\n",
    "ln.save(new_donors)\n",
    "is_donor.children.add(*new_donors)\n",
    "\n",
    "is_suspension_type = ln.ULabel.filter(name=\"is_suspension_type\").one()\n",
    "stypes = is_suspension_type.children.all()\n",
    "result = stypes.inspect(suspension_types, mute=True)\n",
    "new_stypes = [ln.ULabel(name=name) for name in result.non_validated]\n",
    "ln.save(new_stypes)\n",
    "is_suspension_type.children.add(*new_stypes)"
   ]
  },
  {
   "cell_type": "markdown",
   "metadata": {},
   "source": [
    "## Annotate files with metadata"
   ]
  },
  {
   "cell_type": "code",
   "execution_count": 21,
   "metadata": {
    "tags": [
     "hide-output"
    ]
   },
   "outputs": [
    {
     "name": "stdout",
     "output_type": "stream",
     "text": [
      "annotating dataset 0 of 1132\n",
      "annotating dataset 100 of 1132\n",
      "annotating dataset 200 of 1132\n",
      "annotating dataset 300 of 1132\n",
      "annotating dataset 400 of 1132\n",
      "annotating dataset 500 of 1132\n",
      "annotating dataset 600 of 1132\n",
      "annotating dataset 700 of 1132\n",
      "annotating dataset 800 of 1132\n",
      "annotating dataset 900 of 1132\n",
      "annotating dataset 1000 of 1132\n",
      "annotating dataset 1100 of 1132\n"
     ]
    }
   ],
   "source": [
    "features = ln.Feature.lookup()\n",
    "\n",
    "for idx, dataset_meta in enumerate(cellxgene_meta):\n",
    "    if idx % 100 == 0:\n",
    "        print(f\"annotating dataset {idx} of {len(cellxgene_meta)}\")\n",
    "    file = files.filter(key__contains=dataset_meta[\"dataset_id\"]).one_or_none()\n",
    "    if file is None:\n",
    "        continue\n",
    "    for field, terms in dataset_meta.items():\n",
    "        if field not in FEATURE_TO_ACCESSOR:\n",
    "            continue\n",
    "        accessor, orm = FEATURE_TO_ACCESSOR.get(field)\n",
    "        if field in [\"donor_id\", \"suspension_type\"]:\n",
    "            records = orm.from_values(terms, field=\"name\")\n",
    "            if len(records) > 0:\n",
    "                # stratify by feature so that link tables records are written\n",
    "                file.labels.add(records, feature=getattr(features, field))\n",
    "        else:\n",
    "            records = orm.from_values(\n",
    "                [i[\"ontology_term_id\"] for i in terms], field=\"ontology_id\"\n",
    "            )\n",
    "            if len(records) > 0:\n",
    "                getattr(file, accessor).add(*records)"
   ]
  },
  {
   "cell_type": "markdown",
   "metadata": {},
   "source": [
    "## Validate and register genes"
   ]
  },
  {
   "cell_type": "code",
   "execution_count": null,
   "metadata": {
    "tags": []
   },
   "outputs": [],
   "source": [
    "# register synthetic constructs and sars_cov_2 as new organisms\n",
    "bt.Organism.from_bionty(\n",
    "    ontology_id=\"NCBITaxon:32630\", bionty_source=ncbitaxon_source\n",
    ").save(parents=False)\n",
    "bt.Organism.from_bionty(\n",
    "    ontology_id=\"NCBITaxon:2697049\", bionty_source=ncbitaxon_source\n",
    ").save(parents=False)\n",
    "\n",
    "# genes files\n",
    "organisms = bt.Organism.lookup(field=bt.Organism.scientific_name)\n",
    "genes_files = {\n",
    "    \"homo_sapiens\": \"https://github.com/chanzuckerberg/single-cell-curation/raw/main/cellxgene_schema_cli/cellxgene_schema/ontology_files/genes_homo_sapiens.csv.gz\",\n",
    "    \"mus_musculus\": \"https://github.com/chanzuckerberg/single-cell-curation/raw/main/cellxgene_schema_cli/cellxgene_schema/ontology_files/genes_mus_musculus.csv.gz\",\n",
    "    \"synthetic_construct\": \"https://github.com/chanzuckerberg/single-cell-curation/raw/main/cellxgene_schema_cli/cellxgene_schema/ontology_files/genes_ercc.csv.gz\",\n",
    "    \"severe_acute_respiratory_syndrome_coronavirus_2\": \"https://github.com/chanzuckerberg/single-cell-curation/raw/main/cellxgene_schema_cli/cellxgene_schema/ontology_files/genes_sars_cov_2.csv.gz\",\n",
    "}"
   ]
  },
  {
   "cell_type": "markdown",
   "metadata": {},
   "source": [
    "Register all genes for each organism:"
   ]
  },
  {
   "cell_type": "code",
   "execution_count": null,
   "metadata": {
    "tags": [
     "hide-output"
    ]
   },
   "outputs": [
    {
     "name": "stdout",
     "output_type": "stream",
     "text": [
      "registering homo_sapiens genes\n",
      "❗ \u001b[1;91mdid not create\u001b[0m Gene records for \u001b[1;93m147 non-validated\u001b[0m \u001b[3mensembl_gene_ids\u001b[0m: \u001b[1;93m'ENSG00000112096', 'ENSG00000137808', 'ENSG00000161149', 'ENSG00000182230', 'ENSG00000203812', 'ENSG00000204092', 'ENSG00000205485', 'ENSG00000212951', 'ENSG00000215271', 'ENSG00000221995', 'ENSG00000224739', 'ENSG00000224745', 'ENSG00000225178', 'ENSG00000225932', 'ENSG00000226377', 'ENSG00000226380', 'ENSG00000226403', 'ENSG00000227021', 'ENSG00000227220', 'ENSG00000227902', ...\u001b[0m\n",
      "❗ \u001b[1;93m147 terms\u001b[0m (0.20%) are not validated for \u001b[3mensembl_gene_id\u001b[0m: \u001b[1;93mENSG00000269933, ENSG00000261737, ENSG00000259834, ENSG00000256374, ENSG00000263464, ENSG00000203812, ENSG00000272196, ENSG00000272880, ENSG00000284299, ENSG00000270188, ENSG00000287116, ENSG00000237133, ENSG00000224739, ENSG00000227902, ENSG00000239467, ENSG00000272551, ENSG00000280374, ENSG00000284741, ENSG00000236886, ENSG00000229352, ...\u001b[0m\n",
      "registering mus_musculus genes\n",
      "❗ \u001b[1;91mdid not create\u001b[0m Gene records for \u001b[1;93m135 non-validated\u001b[0m \u001b[3mensembl_gene_ids\u001b[0m: \u001b[1;93m'ENSMUSG00000022591', 'ENSMUSG00000045506', 'ENSMUSG00000053706', 'ENSMUSG00000053861', 'ENSMUSG00000066378', 'ENSMUSG00000066810', 'ENSMUSG00000066936', 'ENSMUSG00000067085', 'ENSMUSG00000067122', 'ENSMUSG00000067292', 'ENSMUSG00000067627', 'ENSMUSG00000067929', 'ENSMUSG00000068181', 'ENSMUSG00000069518', 'ENSMUSG00000072693', 'ENSMUSG00000073290', 'ENSMUSG00000073291', 'ENSMUSG00000073682', 'ENSMUSG00000074210', 'ENSMUSG00000074302', ...\u001b[0m\n",
      "❗ \u001b[1;93m135 terms\u001b[0m (0.20%) are not validated for \u001b[3mensembl_gene_id\u001b[0m: \u001b[1;93mENSMUSG00000022591, ENSMUSG00000094127, ENSMUSG00000066936, ENSMUSG00000116275, ENSMUSG00000091312, ENSMUSG00000098794, ENSMUSG00000079353, ENSMUSG00000096240, ENSMUSG00000079286, ENSMUSG00000085431, ENSMUSG00000075015, ENSMUSG00000075014, ENSMUSG00000078091, ENSMUSG00000075006, ENSMUSG00000079175, ENSMUSG00000079171, ENSMUSG00000079170, ENSMUSG00000079169, ENSMUSG00000090353, ENSMUSG00000100963, ...\u001b[0m\n",
      "registering synthetic_construct genes\n",
      "❗ loading non-default source inside a LaminDB instance\n",
      "❗ no Bionty source found, skipping Bionty validation\n",
      "❗ loading non-default source inside a LaminDB instance\n",
      "❗ \u001b[1;91mdid not create\u001b[0m Gene records for \u001b[1;93m92 non-validated\u001b[0m \u001b[3mensembl_gene_ids\u001b[0m: \u001b[1;93m'ERCC-00002', 'ERCC-00003', 'ERCC-00004', 'ERCC-00009', 'ERCC-00012', 'ERCC-00013', 'ERCC-00014', 'ERCC-00016', 'ERCC-00017', 'ERCC-00019', 'ERCC-00022', 'ERCC-00024', 'ERCC-00025', 'ERCC-00028', 'ERCC-00031', 'ERCC-00033', 'ERCC-00034', 'ERCC-00035', 'ERCC-00039', 'ERCC-00040', ...\u001b[0m\n",
      "❗ \u001b[1;93m92 terms\u001b[0m (100.00%) are not validated for \u001b[3mensembl_gene_id\u001b[0m: \u001b[1;93mERCC-00002, ERCC-00003, ERCC-00004, ERCC-00009, ERCC-00012, ERCC-00013, ERCC-00014, ERCC-00016, ERCC-00017, ERCC-00019, ERCC-00022, ERCC-00024, ERCC-00025, ERCC-00028, ERCC-00031, ERCC-00033, ERCC-00034, ERCC-00035, ERCC-00039, ERCC-00040, ...\u001b[0m\n",
      "registering severe_acute_respiratory_syndrome_coronavirus_2 genes\n",
      "❗ loading non-default source inside a LaminDB instance\n",
      "❗ no Bionty source found, skipping Bionty validation\n",
      "❗ loading non-default source inside a LaminDB instance\n",
      "❗ \u001b[1;91mdid not create\u001b[0m Gene records for \u001b[1;93m12 non-validated\u001b[0m \u001b[3mensembl_gene_ids\u001b[0m: \u001b[1;93m'ENSSASG00005000002', 'ENSSASG00005000003', 'ENSSASG00005000004', 'ENSSASG00005000006', 'ENSSASG00005000010', 'ENSSASG00005000007', 'ENSSASG00005000011', 'ENSSASG00005000009', 'ENSSASG00005000012', 'ENSSASG00005000008', 'ENSSASG00005000005', 'ENSSASG00005000013'\u001b[0m\n",
      "❗ \u001b[1;93m12 terms\u001b[0m (100.00%) are not validated for \u001b[3mensembl_gene_id\u001b[0m: \u001b[1;93mENSSASG00005000002, ENSSASG00005000003, ENSSASG00005000004, ENSSASG00005000006, ENSSASG00005000010, ENSSASG00005000007, ENSSASG00005000011, ENSSASG00005000009, ENSSASG00005000012, ENSSASG00005000008, ENSSASG00005000005, ENSSASG00005000013\u001b[0m\n"
     ]
    }
   ],
   "source": [
    "for organism_name, genes_file in genes_files.items():\n",
    "    print(f\"registering {organism_name} genes\")\n",
    "    df = pd.read_csv(genes_file, header=None, index_col=0)\n",
    "    organism_record = getattr(organisms, organism_name)\n",
    "    gene_records = bt.Gene.from_values(\n",
    "        df.index, field=bt.Gene.ensembl_gene_id, organism=organism_record\n",
    "    )\n",
    "    ln.save(gene_records)\n",
    "    validated = bt.Gene.validate(\n",
    "        df.index, field=bt.Gene.ensembl_gene_id, organism=organism_record\n",
    "    )\n",
    "    # register legacy genes manually\n",
    "    new_records = []\n",
    "    for gene_id in df.index[~validated]:\n",
    "        new_records.append(\n",
    "            bt.Gene(\n",
    "                ensembl_gene_id=gene_id,\n",
    "                symbol=df.loc[gene_id][1],\n",
    "                organism=organism_record,\n",
    "            )\n",
    "        )\n",
    "    ln.save(new_records)\n",
    "\n",
    "    genes_feature_set = ln.FeatureSet(\n",
    "        features=gene_records + new_records, name=f\"all {organism_record.name} genes\"\n",
    "    )\n",
    "    genes_feature_set.save()"
   ]
  },
  {
   "cell_type": "markdown",
   "metadata": {},
   "source": [
    "## Link metadata to individual files"
   ]
  },
  {
   "cell_type": "markdown",
   "metadata": {},
   "source": [
    "annotate with genes measured in each file:"
   ]
  },
  {
   "cell_type": "code",
   "execution_count": null,
   "metadata": {
    "tags": [
     "hide-output"
    ]
   },
   "outputs": [
    {
     "name": "stdout",
     "output_type": "stream",
     "text": [
      "❗ \u001b[1;91mdid not create\u001b[0m Gene records for \u001b[1;93m10 non-validated\u001b[0m \u001b[3mensembl_gene_ids\u001b[0m: \u001b[1;93m'ENSSASG00005000004', 'ENSSASG00005000005', 'ENSSASG00005000006', 'ENSSASG00005000007', 'ENSSASG00005000008', 'ENSSASG00005000009', 'ENSSASG00005000010', 'ENSSASG00005000011', 'ENSSASG00005000012', 'ENSSASG00005000013'\u001b[0m\n",
      "❗ loading non-default source inside a LaminDB instance\n",
      "❗ no Bionty source found, skipping Bionty validation\n",
      "❗ loading non-default source inside a LaminDB instance\n",
      "❗ \u001b[1;91mdid not create\u001b[0m Gene records for \u001b[1;93m33234 non-validated\u001b[0m \u001b[3mensembl_gene_ids\u001b[0m: \u001b[1;93m'ENSG00000000003', 'ENSG00000000005', 'ENSG00000000419', 'ENSG00000000457', 'ENSG00000000460', 'ENSG00000000938', 'ENSG00000000971', 'ENSG00000001036', 'ENSG00000001084', 'ENSG00000001167', 'ENSG00000001460', 'ENSG00000001461', 'ENSG00000001497', 'ENSG00000001561', 'ENSG00000001617', 'ENSG00000001626', 'ENSG00000001629', 'ENSG00000001630', 'ENSG00000001631', 'ENSG00000002016', ...\u001b[0m\n",
      "❗ \u001b[1;91mdid not create\u001b[0m Gene records for \u001b[1;93m10 non-validated\u001b[0m \u001b[3mensembl_gene_ids\u001b[0m: \u001b[1;93m'ENSSASG00005000004', 'ENSSASG00005000005', 'ENSSASG00005000006', 'ENSSASG00005000007', 'ENSSASG00005000008', 'ENSSASG00005000009', 'ENSSASG00005000010', 'ENSSASG00005000011', 'ENSSASG00005000012', 'ENSSASG00005000013'\u001b[0m\n",
      "❗ loading non-default source inside a LaminDB instance\n",
      "❗ no Bionty source found, skipping Bionty validation\n",
      "❗ loading non-default source inside a LaminDB instance\n",
      "❗ \u001b[1;91mdid not create\u001b[0m Gene records for \u001b[1;93m33234 non-validated\u001b[0m \u001b[3mensembl_gene_ids\u001b[0m: \u001b[1;93m'ENSG00000000003', 'ENSG00000000005', 'ENSG00000000419', 'ENSG00000000457', 'ENSG00000000460', 'ENSG00000000938', 'ENSG00000000971', 'ENSG00000001036', 'ENSG00000001084', 'ENSG00000001167', 'ENSG00000001460', 'ENSG00000001461', 'ENSG00000001497', 'ENSG00000001561', 'ENSG00000001617', 'ENSG00000001626', 'ENSG00000001629', 'ENSG00000001630', 'ENSG00000001631', 'ENSG00000002016', ...\u001b[0m\n"
     ]
    }
   ],
   "source": [
    "for idx, file in enumerate(files):\n",
    "    if idx % 100 == 0:\n",
    "        print(f\"annotating dataset {idx} of {len(files)}\")\n",
    "\n",
    "    adata_backed = file.backed()\n",
    "    var_names = adata_backed.var_names\n",
    "    organism_record = file.organism.first()\n",
    "    if organism_record is None:\n",
    "        print(f\"No organism found for file: {file}\")\n",
    "        continue\n",
    "    genes = bt.Gene.from_values(\n",
    "        var_names, field=bt.Gene.ensembl_gene_id, organism=organism_record\n",
    "    )\n",
    "\n",
    "    if len(var_names[var_names.str.startswith(\"ERCC\")]) > 0:\n",
    "        genes += bt.Gene.from_values(\n",
    "            var_names,\n",
    "            field=bt.Gene.ensembl_gene_id,\n",
    "            organism=organisms.synthetic_construct,\n",
    "        )\n",
    "    if len(var_names[var_names.str.startswith(\"ENSSASG\")]) > 0:\n",
    "        genes += bt.Gene.from_values(\n",
    "            var_names,\n",
    "            field=bt.Gene.ensembl_gene_id,\n",
    "            organism=organisms.severe_acute_respiratory_syndrome_coronavirus_2,\n",
    "        )\n",
    "\n",
    "    var_feature_set_file = ln.FeatureSet(genes, type=\"number\")\n",
    "    var_feature_set_file.save()\n",
    "    file.feature_sets.add(var_feature_set_file, through_defaults={\"slot\": \"var\"})"
   ]
  },
  {
   "cell_type": "markdown",
   "metadata": {},
   "source": [
    "These files are annotated as rhesus or pig, but using human genes:"
   ]
  },
  {
   "cell_type": "code",
   "execution_count": null,
   "metadata": {
    "tags": []
   },
   "outputs": [],
   "source": [
    "for uid in [\"Np1PSgWwIIYPWz0USN8z\", \"PuqnmUwzXQ56VPATgy9b\"]:\n",
    "    file = ln.File.filter(uid=uid).one()\n",
    "    adata_backed = file.backed()\n",
    "    var_names = adata_backed.var_names\n",
    "    genes = bt.Gene.from_values(\n",
    "        var_names, field=bt.Gene.ensembl_gene_id, organism=\"human\"\n",
    "    )\n",
    "    var_feature_set_file = ln.FeatureSet(genes, type=\"number\")\n",
    "    var_feature_set_file.save()\n",
    "    file.feature_sets.add(var_feature_set_file, through_defaults={\"slot\": \"var\"})"
   ]
  },
  {
   "cell_type": "code",
   "execution_count": 23,
   "metadata": {
    "tags": []
   },
   "outputs": [
    {
     "name": "stdout",
     "output_type": "stream",
     "text": [
      "\u001b[1;92mFile\u001b[0m(uid='PuqnmUwzXQ56VPATgy9b', key='cell-census/2023-07-25/h5ads/db4a9ed2-e994-40c1-b7ec-4091fdf7b6c1.h5ad', suffix='.h5ad', accessor='AnnData', description='A transcriptional cross species map of pancreatic islet cells', size=286688588, hash='HXRDjbTdQSYFOXtU9q09qQ-35', hash_type='md5-n', visibility=1, key_is_virtual=False, updated_at=2023-11-28 22:52:09 UTC)\n",
      "\n",
      "\u001b[1;92mProvenance\u001b[0m:\n",
      "  🗃️ storage: Storage(uid='oIYGbD74', root='s3://cellxgene-data-public', type='s3', region='us-west-2', updated_at=2023-10-16 15:04:08 UTC, created_by_id=1)\n",
      "  📔 transform: Transform(uid='pNa7RdI26sp4z8', name='Register files from Census release 2023-07-25', short_name='census-release-2023-07-25', version='0', type='notebook', updated_at=2023-11-28 21:30:25 UTC, created_by_id=1)\n",
      "  👣 run: Run(uid='ZYgsnqK5v2hPmFlS0kfG', run_at=2023-11-29 10:04:46 UTC, transform_id=11, created_by_id=1)\n",
      "  👤 created_by: User(uid='kmvZDIX9', handle='sunnyosun', name='Sunny Sun', updated_at=2023-11-28 21:14:48 UTC)\n",
      "\u001b[1;92mFeatures\u001b[0m:\n",
      "  \u001b[1mobs\u001b[0m: FeatureSet(uid='kwKICViF5O3QjHdg0nov', name='obs features', n=9, type='category', registry='core.Feature', hash='Bx10EzvDxdlAVjqVKdKC', updated_at=2023-11-29 09:28:28 UTC, created_by_id=1)\n",
      "    🔗 assay (1, \u001b[3mbionty.ExperimentalFactor\u001b[0m): '10x 3' v2'\n",
      "    🔗 cell_type (4, \u001b[3mbionty.CellType\u001b[0m): 'pancreatic PP cell', 'type B pancreatic cell', 'pancreatic A cell', 'pancreatic D cell'\n",
      "    🔗 development_stage (1, \u001b[3mbionty.DevelopmentalStage\u001b[0m): 'prime adult stage'\n",
      "    🔗 disease (1, \u001b[3mbionty.Disease\u001b[0m): 'normal'\n",
      "    🔗 donor_id (1, \u001b[3mcore.ULabel\u001b[0m): 'pig_donor'\n",
      "    🔗 self_reported_ethnicity (1, \u001b[3mbionty.Ethnicity\u001b[0m): 'na'\n",
      "    🔗 sex (1, \u001b[3mbionty.Phenotype\u001b[0m): 'female'\n",
      "    🔗 suspension_type (1, \u001b[3mcore.ULabel\u001b[0m): 'cell'\n",
      "    🔗 tissue (1, \u001b[3mbionty.Tissue\u001b[0m): 'islet of Langerhans'\n",
      "  \u001b[1mexternal\u001b[0m: FeatureSet(uid='zIgncie4AywRKgLmKHUW', name='external features', n=2, type='category', registry='core.Feature', hash='5E4xD6tOhDB5EOnLx3tv', updated_at=2023-11-29 09:28:20 UTC, created_by_id=1)\n",
      "    🔗 organism (1, \u001b[3mbionty.Organism\u001b[0m): 'domestic pig'\n",
      "    🔗 collection (1, \u001b[3mcore.ULabel\u001b[0m): 'A transcriptional cross species map of pancreatic islet cells'\n",
      "  \u001b[1mvar\u001b[0m: FeatureSet(uid='nxOy4SXpndR819ksIxDx', n=15824, type='number', registry='bionty.Gene', hash='gfxllJBvAvyJBu8S2gIF', updated_at=2023-11-29 13:46:53 UTC, created_by_id=1)\n",
      "    'SAMD11', 'NOC2L', 'KLHL17', 'PLEKHN1', 'PERM1', 'HES4', 'ISG15', 'AGRN', 'TTLL10', 'TNFRSF18', 'TNFRSF4', 'SDF4', 'B3GALT6', 'C1QTNF12', 'UBE2J2', 'SCNN1D', 'ACAP3', 'PUSL1', 'INTS11', 'TAS1R3', ...\n",
      "\u001b[1;92mLabels\u001b[0m:\n",
      "  🏷️ organism (1, \u001b[3mbionty.Organism\u001b[0m): 'domestic pig'\n",
      "  🏷️ tissues (1, \u001b[3mbionty.Tissue\u001b[0m): 'islet of Langerhans'\n",
      "  🏷️ cell_types (4, \u001b[3mbionty.CellType\u001b[0m): 'pancreatic PP cell', 'type B pancreatic cell', 'pancreatic A cell', 'pancreatic D cell'\n",
      "  🏷️ diseases (1, \u001b[3mbionty.Disease\u001b[0m): 'normal'\n",
      "  🏷️ phenotypes (1, \u001b[3mbionty.Phenotype\u001b[0m): 'female'\n",
      "  🏷️ experimental_factors (1, \u001b[3mbionty.ExperimentalFactor\u001b[0m): '10x 3' v2'\n",
      "  🏷️ developmental_stages (1, \u001b[3mbionty.DevelopmentalStage\u001b[0m): 'prime adult stage'\n",
      "  🏷️ ethnicities (1, \u001b[3mbionty.Ethnicity\u001b[0m): 'na'\n",
      "  🏷️ ulabels (3, \u001b[3mcore.ULabel\u001b[0m): 'A transcriptional cross species map of pancreatic islet cells', 'pig_donor', 'cell'\n",
      "\n"
     ]
    }
   ],
   "source": [
    "file.describe()"
   ]
  },
  {
   "cell_type": "markdown",
   "metadata": {},
   "source": [
    "## Link metadata to dataset"
   ]
  },
  {
   "cell_type": "markdown",
   "metadata": {},
   "source": [
    "feature sets:"
   ]
  },
  {
   "cell_type": "code",
   "execution_count": null,
   "metadata": {},
   "outputs": [],
   "source": [
    "dataset.feature_sets.add(\n",
    "    ln.FeatureSet.filter(name__contains=\"obs\").one(), through_defaults={\"slot\": \"obs\"}\n",
    ")\n",
    "dataset.feature_sets.add(\n",
    "    ln.FeatureSet.filter(name__contains=\"ext\").one(),\n",
    "    through_defaults={\"slot\": \"external\"},\n",
    ")\n",
    "dataset.feature_sets.add(\n",
    "    ln.FeatureSet.filter(name__contains=\"human\").one(),\n",
    "    through_defaults={\"slot\": \"var-human\"},\n",
    ")\n",
    "dataset.feature_sets.add(\n",
    "    ln.FeatureSet.filter(name__contains=\"mouse\").one(),\n",
    "    through_defaults={\"slot\": \"var-mouse\"},\n",
    ")\n",
    "dataset.feature_sets.add(\n",
    "    ln.FeatureSet.filter(name__contains=\"sars-2\").one(),\n",
    "    through_defaults={\"slot\": \"var-sars-cov-2\"},\n",
    ")\n",
    "dataset.feature_sets.add(\n",
    "    ln.FeatureSet.filter(name__contains=\"synthetic construct\").one(),\n",
    "    through_defaults={\"slot\": \"var-ercc\"},\n",
    ")"
   ]
  },
  {
   "cell_type": "code",
   "execution_count": null,
   "metadata": {},
   "outputs": [],
   "source": [
    "is_donor = ln.ULabel.filter(name=\"is_donor\").one()\n",
    "donors = is_donor.children.all().filter().exclude(files=None).all()\n",
    "is_collection = ln.ULabel.filter(name=\"is_collection\").one()\n",
    "collections = is_collection.children.all().filter().exclude(files=None).all()\n",
    "is_suspension_type = ln.ULabel.filter(name=\"is_suspension_type\").one()\n",
    "stypes = is_suspension_type.children.all().filter().exclude(files=None).all()\n",
    "\n",
    "dataset.labels.add(donors, features.donor_id)\n",
    "dataset.labels.add(collections, features.collection)\n",
    "dataset.labels.add(stypes, features.suspension_type)\n",
    "\n",
    "dataset.labels.add(\n",
    "    bt.ExperimentalFactor.filter().exclude(files=None).all(), features.assay\n",
    ")\n",
    "dataset.labels.add(bt.CellType.filter().exclude(files=None).all(), features.cell_type)\n",
    "dataset.labels.add(\n",
    "    bt.DevelopmentalStage.filter().exclude(files=None).all(), features.development_stage\n",
    ")\n",
    "dataset.labels.add(bt.Disease.filter().exclude(files=None).all(), features.disease)\n",
    "dataset.labels.add(\n",
    "    bt.Ethnicity.filter().exclude(files=None).all(), features.self_reported_ethnicity\n",
    ")\n",
    "dataset.labels.add(bt.Phenotype.filter().exclude(files=None).all(), features.sex)\n",
    "dataset.labels.add(bt.Tissue.filter().exclude(files=None).all(), features.tissue)"
   ]
  },
  {
   "cell_type": "code",
   "execution_count": 25,
   "metadata": {
    "tags": []
   },
   "outputs": [
    {
     "name": "stdout",
     "output_type": "stream",
     "text": [
      "\u001b[1;92mDataset\u001b[0m(uid='OirHTWDrudY2TYltvIX1', name='cellxgene-census', version='2023-07-25', hash='pEJ9uvIeTLvHkZW2TBT5', visibility=1, updated_at=2023-11-28 21:46:40 UTC)\n",
      "\n",
      "\u001b[1;92mProvenance\u001b[0m:\n",
      "  📔 transform: Transform(uid='pNa7RdI26sp4z8', name='Register files from Census release 2023-07-25', short_name='census-release-2023-07-25', version='0', type='notebook', updated_at=2023-11-28 21:30:25 UTC, created_by_id=1)\n",
      "  👣 run: Run(uid='ZYgsnqK5v2hPmFlS0kfG', run_at=2023-11-29 10:04:46 UTC, transform_id=11, created_by_id=1)\n",
      "  👤 created_by: User(uid='kmvZDIX9', handle='sunnyosun', name='Sunny Sun', updated_at=2023-11-28 21:14:48 UTC)\n",
      "  ⬇️ input_of (\u001b[3mcore.Run\u001b[0m): ['2023-11-29 12:51:05 UTC']\n",
      "\u001b[1;92mFeatures\u001b[0m:\n",
      "  \u001b[1mobs\u001b[0m: FeatureSet(uid='kwKICViF5O3QjHdg0nov', name='obs features', n=9, type='category', registry='core.Feature', hash='Bx10EzvDxdlAVjqVKdKC', updated_at=2023-11-29 09:28:28 UTC, created_by_id=1)\n",
      "    🔗 assay (32, \u001b[3mbionty.ExperimentalFactor\u001b[0m): 'Seq-Well S3', 'GEXSCOPE technology', 'sci-Plex', 'DroNc-seq', 'MERFISH', 'snmC-Seq2', 'CEL-seq2', '10x 5' transcription profiling', 'Drop-seq', 'microwell-seq', ...\n",
      "    🔗 cell_type (699, \u001b[3mbionty.CellType\u001b[0m): 'cell of skeletal muscle', 'T-helper 1 cell', 'mesothelial fibroblast', 'kidney collecting duct epithelial cell', 'microglial cell', 'type G enteroendocrine cell', 'pericyte', 'supporting cell', 'CD14-positive, CD16-positive monocyte', 'retinal ganglion cell', ...\n",
      "    🔗 development_stage (215, \u001b[3mbionty.DevelopmentalStage\u001b[0m): 'Theiler stage 19', '16 weeks', '17 weeks', 'Theiler stage 21', '26 weeks', '7 weeks', '8 month-old stage', '15 weeks', '5 month-old stage', '5 weeks', ...\n",
      "    🔗 disease (76, \u001b[3mbionty.Disease\u001b[0m): 'epilepsy', 'long COVID-19', 'brain neoplasm', 'Alzheimer disease', 'influenza', 'Crohn disease', 'systemic lupus erythematosus', 'acute promyelocytic leukemia', 'squamous cell lung carcinoma', 'B-cell non-Hodgkin lymphoma', ...\n",
      "    🔗 donor_id (6871, \u001b[3mcore.ULabel\u001b[0m): 'D367', 'H20.33.032', '372317', 'SG_HEL_H136', 'SF11644', 'H18.03.318', '252599', 'KR_SGI_H049', 'homosapiens_None_2023_None_sikkemalisa_002_d10_1101_2022_03_10_483747210I', '426003', ...\n",
      "    🔗 self_reported_ethnicity (28, \u001b[3mbionty.Ethnicity\u001b[0m): 'Singaporean Chinese', 'African American', 'Irish', 'South Asian', 'Pacific Islander', 'Bangladeshi', 'Hispanic or Latin American', 'admixed ancestry', 'Oceanian', 'European', ...\n",
      "    🔗 sex (3, \u001b[3mbionty.Phenotype\u001b[0m): 'unknown', 'male', 'female'\n",
      "    🔗 suspension_type (3, \u001b[3mcore.ULabel\u001b[0m): 'cell', 'nucleus', 'na'\n",
      "    🔗 tissue (298, \u001b[3mbionty.Tissue\u001b[0m): 'nose', 'cervical lymph node', 'body of stomach', 'bronchus', 'tongue', 'fimbria of uterine tube', 'renal glomerulus', 'olfactory region', 'mesenteric artery', 'subcutaneous abdominal adipose tissue', ...\n",
      "  \u001b[1mexternal\u001b[0m: FeatureSet(uid='zIgncie4AywRKgLmKHUW', name='external features', n=2, type='category', registry='core.Feature', hash='5E4xD6tOhDB5EOnLx3tv', updated_at=2023-11-29 09:28:20 UTC, created_by_id=1)\n",
      "    🔗 organism (5, \u001b[3mbionty.Organism\u001b[0m): 'domestic pig', 'mouse', 'white-tufted-ear marmoset', 'human', 'rhesus macaque'\n",
      "    🔗 collection (146, \u001b[3mcore.ULabel\u001b[0m): 'Abdominal White Adipose Tissue', 'A molecular single-cell lung atlas of lethal COVID-19', 'Spatial multiomics map of trophoblast development in early pregnancy', 'Blood and immune development in human fetal bone marrow and Down syndrome', 'Mapping the developing human immune system across organs', 'Evolution of cellular diversity in primary motor cortex of human, marmoset monkey, and mouse', 'Construction of a human cell landscape at single-cell level', 'Impaired local intrinsic immunity to SARS-CoV-2 infection in severe COVID-19', 'Single-cell transcriptomes of the human skin reveal age-related loss of fibroblast priming', 'A single-cell transcriptome atlas of the adult human retina', ...\n",
      "  \u001b[1mvar-ercc\u001b[0m: FeatureSet(uid='VDiO6vtqPe58U4HJPHeD', name='all synthetic construct genes', n=92, type='number', registry='bionty.Gene', hash='rMxzn166gRykjOZFnWRy', updated_at=2023-11-29 09:26:16 UTC, created_by_id=1)\n",
      "    'ERCC-00002 (spike-in control)', 'ERCC-00003 (spike-in control)', 'ERCC-00004 (spike-in control)', 'ERCC-00009 (spike-in control)', 'ERCC-00012 (spike-in control)', 'ERCC-00013 (spike-in control)', 'ERCC-00014 (spike-in control)', 'ERCC-00016 (spike-in control)', 'ERCC-00017 (spike-in control)', 'ERCC-00019 (spike-in control)', 'ERCC-00022 (spike-in control)', 'ERCC-00024 (spike-in control)', 'ERCC-00025 (spike-in control)', 'ERCC-00028 (spike-in control)', 'ERCC-00031 (spike-in control)', 'ERCC-00033 (spike-in control)', 'ERCC-00034 (spike-in control)', 'ERCC-00035 (spike-in control)', 'ERCC-00039 (spike-in control)', 'ERCC-00040 (spike-in control)', ...\n",
      "  \u001b[1mvar-mouse\u001b[0m: FeatureSet(uid='h10gJKScXD72BjnxbIHD', name='all mouse genes', n=55416, type='number', registry='bionty.Gene', hash='umPHI2jmFQXA78M69WBD', updated_at=2023-11-29 09:26:09 UTC, created_by_id=1)\n",
      "    '4933401J01Rik', 'Gm26206', 'Xkr4', 'Gm18956', 'Gm37180', 'Gm37363', 'Gm37686', 'Gm1992', 'Gm37329', 'Gm7341', 'Gm38148', 'Gm19938', 'Gm10568', 'Gm38385', 'Gm27396', 'Gm37381', 'Rp1', 'Gm6101', 'Gm37483', 'Sox17', ...\n",
      "  \u001b[1mvar-human\u001b[0m: FeatureSet(uid='CXzMBf4cCDtBq8N5Sg4a', name='all human genes', n=60664, type='number', registry='bionty.Gene', hash='DOnOv7runwo4TOR5P_do', updated_at=2023-11-29 10:29:23 UTC, created_by_id=1)\n",
      "    'DDX11L1', 'WASH7P', 'MIR6859-1', 'MIR1302-2HG', 'MIR1302-2', 'FAM138A', 'OR4G4P', 'OR4G11P', 'OR4F5', 'None', 'None', 'CICP27', 'None', 'None', 'None', 'None', 'RNU6-1100P', 'None', 'DDX11L17', 'WASH9P', ...\n",
      "  \u001b[1mvar-sars-cov-2\u001b[0m: FeatureSet(uid='Q1oqEHSXHAogP5Ralgw2', name='all sars-2 genes', n=12, type='number', registry='bionty.Gene', hash='CLCjr_EazVM8KxnA7jhc', updated_at=2023-11-29 10:09:19 UTC, created_by_id=1)\n",
      "    'ORF1ab_ENSSASG00005000002', 'ORF1ab_ENSSASG00005000003', 'S', 'ORF3a', 'E', 'M', 'ORF6', 'ORF7a', 'ORF7b', 'ORF8', 'N', 'ORF10'\n",
      "\u001b[1;92mLabels\u001b[0m:\n",
      "  🏷️ organism (5, \u001b[3mbionty.Organism\u001b[0m): 'domestic pig', 'mouse', 'white-tufted-ear marmoset', 'human', 'rhesus macaque'\n",
      "  🏷️ tissues (298, \u001b[3mbionty.Tissue\u001b[0m): 'nose', 'cervical lymph node', 'body of stomach', 'bronchus', 'tongue', 'fimbria of uterine tube', 'renal glomerulus', 'olfactory region', 'mesenteric artery', 'subcutaneous abdominal adipose tissue', ...\n",
      "  🏷️ cell_types (699, \u001b[3mbionty.CellType\u001b[0m): 'cell of skeletal muscle', 'T-helper 1 cell', 'mesothelial fibroblast', 'kidney collecting duct epithelial cell', 'microglial cell', 'type G enteroendocrine cell', 'pericyte', 'supporting cell', 'CD14-positive, CD16-positive monocyte', 'retinal ganglion cell', ...\n",
      "  🏷️ diseases (76, \u001b[3mbionty.Disease\u001b[0m): 'epilepsy', 'long COVID-19', 'brain neoplasm', 'Alzheimer disease', 'influenza', 'Crohn disease', 'systemic lupus erythematosus', 'acute promyelocytic leukemia', 'squamous cell lung carcinoma', 'B-cell non-Hodgkin lymphoma', ...\n",
      "  🏷️ phenotypes (3, \u001b[3mbionty.Phenotype\u001b[0m): 'unknown', 'male', 'female'\n",
      "  🏷️ experimental_factors (32, \u001b[3mbionty.ExperimentalFactor\u001b[0m): 'Seq-Well S3', 'GEXSCOPE technology', 'sci-Plex', 'DroNc-seq', 'MERFISH', 'snmC-Seq2', 'CEL-seq2', '10x 5' transcription profiling', 'Drop-seq', 'microwell-seq', ...\n",
      "  🏷️ developmental_stages (215, \u001b[3mbionty.DevelopmentalStage\u001b[0m): 'Theiler stage 19', '16 weeks', '17 weeks', 'Theiler stage 21', '26 weeks', '7 weeks', '8 month-old stage', '15 weeks', '5 month-old stage', '5 weeks', ...\n",
      "  🏷️ ethnicities (28, \u001b[3mbionty.Ethnicity\u001b[0m): 'Singaporean Chinese', 'African American', 'Irish', 'South Asian', 'Pacific Islander', 'Bangladeshi', 'Hispanic or Latin American', 'admixed ancestry', 'Oceanian', 'European', ...\n",
      "  🏷️ ulabels (7020, \u001b[3mcore.ULabel\u001b[0m): 'Abdominal White Adipose Tissue', 'A molecular single-cell lung atlas of lethal COVID-19', 'Spatial multiomics map of trophoblast development in early pregnancy', 'Blood and immune development in human fetal bone marrow and Down syndrome', 'Mapping the developing human immune system across organs', 'Evolution of cellular diversity in primary motor cortex of human, marmoset monkey, and mouse', 'Construction of a human cell landscape at single-cell level', 'Impaired local intrinsic immunity to SARS-CoV-2 infection in severe COVID-19', 'Single-cell transcriptomes of the human skin reveal age-related loss of fibroblast priming', 'A single-cell transcriptome atlas of the adult human retina', ...\n",
      "\n"
     ]
    }
   ],
   "source": [
    "dataset.describe()"
   ]
  }
 ],
 "metadata": {
  "availableInstances": [
   {
    "_defaultOrder": 0,
    "_isFastLaunch": true,
    "category": "General purpose",
    "gpuNum": 0,
    "hideHardwareSpecs": false,
    "memoryGiB": 4,
    "name": "ml.t3.medium",
    "vcpuNum": 2
   },
   {
    "_defaultOrder": 1,
    "_isFastLaunch": false,
    "category": "General purpose",
    "gpuNum": 0,
    "hideHardwareSpecs": false,
    "memoryGiB": 8,
    "name": "ml.t3.large",
    "vcpuNum": 2
   },
   {
    "_defaultOrder": 2,
    "_isFastLaunch": false,
    "category": "General purpose",
    "gpuNum": 0,
    "hideHardwareSpecs": false,
    "memoryGiB": 16,
    "name": "ml.t3.xlarge",
    "vcpuNum": 4
   },
   {
    "_defaultOrder": 3,
    "_isFastLaunch": false,
    "category": "General purpose",
    "gpuNum": 0,
    "hideHardwareSpecs": false,
    "memoryGiB": 32,
    "name": "ml.t3.2xlarge",
    "vcpuNum": 8
   },
   {
    "_defaultOrder": 4,
    "_isFastLaunch": true,
    "category": "General purpose",
    "gpuNum": 0,
    "hideHardwareSpecs": false,
    "memoryGiB": 8,
    "name": "ml.m5.large",
    "vcpuNum": 2
   },
   {
    "_defaultOrder": 5,
    "_isFastLaunch": false,
    "category": "General purpose",
    "gpuNum": 0,
    "hideHardwareSpecs": false,
    "memoryGiB": 16,
    "name": "ml.m5.xlarge",
    "vcpuNum": 4
   },
   {
    "_defaultOrder": 6,
    "_isFastLaunch": false,
    "category": "General purpose",
    "gpuNum": 0,
    "hideHardwareSpecs": false,
    "memoryGiB": 32,
    "name": "ml.m5.2xlarge",
    "vcpuNum": 8
   },
   {
    "_defaultOrder": 7,
    "_isFastLaunch": false,
    "category": "General purpose",
    "gpuNum": 0,
    "hideHardwareSpecs": false,
    "memoryGiB": 64,
    "name": "ml.m5.4xlarge",
    "vcpuNum": 16
   },
   {
    "_defaultOrder": 8,
    "_isFastLaunch": false,
    "category": "General purpose",
    "gpuNum": 0,
    "hideHardwareSpecs": false,
    "memoryGiB": 128,
    "name": "ml.m5.8xlarge",
    "vcpuNum": 32
   },
   {
    "_defaultOrder": 9,
    "_isFastLaunch": false,
    "category": "General purpose",
    "gpuNum": 0,
    "hideHardwareSpecs": false,
    "memoryGiB": 192,
    "name": "ml.m5.12xlarge",
    "vcpuNum": 48
   },
   {
    "_defaultOrder": 10,
    "_isFastLaunch": false,
    "category": "General purpose",
    "gpuNum": 0,
    "hideHardwareSpecs": false,
    "memoryGiB": 256,
    "name": "ml.m5.16xlarge",
    "vcpuNum": 64
   },
   {
    "_defaultOrder": 11,
    "_isFastLaunch": false,
    "category": "General purpose",
    "gpuNum": 0,
    "hideHardwareSpecs": false,
    "memoryGiB": 384,
    "name": "ml.m5.24xlarge",
    "vcpuNum": 96
   },
   {
    "_defaultOrder": 12,
    "_isFastLaunch": false,
    "category": "General purpose",
    "gpuNum": 0,
    "hideHardwareSpecs": false,
    "memoryGiB": 8,
    "name": "ml.m5d.large",
    "vcpuNum": 2
   },
   {
    "_defaultOrder": 13,
    "_isFastLaunch": false,
    "category": "General purpose",
    "gpuNum": 0,
    "hideHardwareSpecs": false,
    "memoryGiB": 16,
    "name": "ml.m5d.xlarge",
    "vcpuNum": 4
   },
   {
    "_defaultOrder": 14,
    "_isFastLaunch": false,
    "category": "General purpose",
    "gpuNum": 0,
    "hideHardwareSpecs": false,
    "memoryGiB": 32,
    "name": "ml.m5d.2xlarge",
    "vcpuNum": 8
   },
   {
    "_defaultOrder": 15,
    "_isFastLaunch": false,
    "category": "General purpose",
    "gpuNum": 0,
    "hideHardwareSpecs": false,
    "memoryGiB": 64,
    "name": "ml.m5d.4xlarge",
    "vcpuNum": 16
   },
   {
    "_defaultOrder": 16,
    "_isFastLaunch": false,
    "category": "General purpose",
    "gpuNum": 0,
    "hideHardwareSpecs": false,
    "memoryGiB": 128,
    "name": "ml.m5d.8xlarge",
    "vcpuNum": 32
   },
   {
    "_defaultOrder": 17,
    "_isFastLaunch": false,
    "category": "General purpose",
    "gpuNum": 0,
    "hideHardwareSpecs": false,
    "memoryGiB": 192,
    "name": "ml.m5d.12xlarge",
    "vcpuNum": 48
   },
   {
    "_defaultOrder": 18,
    "_isFastLaunch": false,
    "category": "General purpose",
    "gpuNum": 0,
    "hideHardwareSpecs": false,
    "memoryGiB": 256,
    "name": "ml.m5d.16xlarge",
    "vcpuNum": 64
   },
   {
    "_defaultOrder": 19,
    "_isFastLaunch": false,
    "category": "General purpose",
    "gpuNum": 0,
    "hideHardwareSpecs": false,
    "memoryGiB": 384,
    "name": "ml.m5d.24xlarge",
    "vcpuNum": 96
   },
   {
    "_defaultOrder": 20,
    "_isFastLaunch": false,
    "category": "General purpose",
    "gpuNum": 0,
    "hideHardwareSpecs": true,
    "memoryGiB": 0,
    "name": "ml.geospatial.interactive",
    "supportedImageNames": [
     "sagemaker-geospatial-v1-0"
    ],
    "vcpuNum": 0
   },
   {
    "_defaultOrder": 21,
    "_isFastLaunch": true,
    "category": "Compute optimized",
    "gpuNum": 0,
    "hideHardwareSpecs": false,
    "memoryGiB": 4,
    "name": "ml.c5.large",
    "vcpuNum": 2
   },
   {
    "_defaultOrder": 22,
    "_isFastLaunch": false,
    "category": "Compute optimized",
    "gpuNum": 0,
    "hideHardwareSpecs": false,
    "memoryGiB": 8,
    "name": "ml.c5.xlarge",
    "vcpuNum": 4
   },
   {
    "_defaultOrder": 23,
    "_isFastLaunch": false,
    "category": "Compute optimized",
    "gpuNum": 0,
    "hideHardwareSpecs": false,
    "memoryGiB": 16,
    "name": "ml.c5.2xlarge",
    "vcpuNum": 8
   },
   {
    "_defaultOrder": 24,
    "_isFastLaunch": false,
    "category": "Compute optimized",
    "gpuNum": 0,
    "hideHardwareSpecs": false,
    "memoryGiB": 32,
    "name": "ml.c5.4xlarge",
    "vcpuNum": 16
   },
   {
    "_defaultOrder": 25,
    "_isFastLaunch": false,
    "category": "Compute optimized",
    "gpuNum": 0,
    "hideHardwareSpecs": false,
    "memoryGiB": 72,
    "name": "ml.c5.9xlarge",
    "vcpuNum": 36
   },
   {
    "_defaultOrder": 26,
    "_isFastLaunch": false,
    "category": "Compute optimized",
    "gpuNum": 0,
    "hideHardwareSpecs": false,
    "memoryGiB": 96,
    "name": "ml.c5.12xlarge",
    "vcpuNum": 48
   },
   {
    "_defaultOrder": 27,
    "_isFastLaunch": false,
    "category": "Compute optimized",
    "gpuNum": 0,
    "hideHardwareSpecs": false,
    "memoryGiB": 144,
    "name": "ml.c5.18xlarge",
    "vcpuNum": 72
   },
   {
    "_defaultOrder": 28,
    "_isFastLaunch": false,
    "category": "Compute optimized",
    "gpuNum": 0,
    "hideHardwareSpecs": false,
    "memoryGiB": 192,
    "name": "ml.c5.24xlarge",
    "vcpuNum": 96
   },
   {
    "_defaultOrder": 29,
    "_isFastLaunch": true,
    "category": "Accelerated computing",
    "gpuNum": 1,
    "hideHardwareSpecs": false,
    "memoryGiB": 16,
    "name": "ml.g4dn.xlarge",
    "vcpuNum": 4
   },
   {
    "_defaultOrder": 30,
    "_isFastLaunch": false,
    "category": "Accelerated computing",
    "gpuNum": 1,
    "hideHardwareSpecs": false,
    "memoryGiB": 32,
    "name": "ml.g4dn.2xlarge",
    "vcpuNum": 8
   },
   {
    "_defaultOrder": 31,
    "_isFastLaunch": false,
    "category": "Accelerated computing",
    "gpuNum": 1,
    "hideHardwareSpecs": false,
    "memoryGiB": 64,
    "name": "ml.g4dn.4xlarge",
    "vcpuNum": 16
   },
   {
    "_defaultOrder": 32,
    "_isFastLaunch": false,
    "category": "Accelerated computing",
    "gpuNum": 1,
    "hideHardwareSpecs": false,
    "memoryGiB": 128,
    "name": "ml.g4dn.8xlarge",
    "vcpuNum": 32
   },
   {
    "_defaultOrder": 33,
    "_isFastLaunch": false,
    "category": "Accelerated computing",
    "gpuNum": 4,
    "hideHardwareSpecs": false,
    "memoryGiB": 192,
    "name": "ml.g4dn.12xlarge",
    "vcpuNum": 48
   },
   {
    "_defaultOrder": 34,
    "_isFastLaunch": false,
    "category": "Accelerated computing",
    "gpuNum": 1,
    "hideHardwareSpecs": false,
    "memoryGiB": 256,
    "name": "ml.g4dn.16xlarge",
    "vcpuNum": 64
   },
   {
    "_defaultOrder": 35,
    "_isFastLaunch": false,
    "category": "Accelerated computing",
    "gpuNum": 1,
    "hideHardwareSpecs": false,
    "memoryGiB": 61,
    "name": "ml.p3.2xlarge",
    "vcpuNum": 8
   },
   {
    "_defaultOrder": 36,
    "_isFastLaunch": false,
    "category": "Accelerated computing",
    "gpuNum": 4,
    "hideHardwareSpecs": false,
    "memoryGiB": 244,
    "name": "ml.p3.8xlarge",
    "vcpuNum": 32
   },
   {
    "_defaultOrder": 37,
    "_isFastLaunch": false,
    "category": "Accelerated computing",
    "gpuNum": 8,
    "hideHardwareSpecs": false,
    "memoryGiB": 488,
    "name": "ml.p3.16xlarge",
    "vcpuNum": 64
   },
   {
    "_defaultOrder": 38,
    "_isFastLaunch": false,
    "category": "Accelerated computing",
    "gpuNum": 8,
    "hideHardwareSpecs": false,
    "memoryGiB": 768,
    "name": "ml.p3dn.24xlarge",
    "vcpuNum": 96
   },
   {
    "_defaultOrder": 39,
    "_isFastLaunch": false,
    "category": "Memory Optimized",
    "gpuNum": 0,
    "hideHardwareSpecs": false,
    "memoryGiB": 16,
    "name": "ml.r5.large",
    "vcpuNum": 2
   },
   {
    "_defaultOrder": 40,
    "_isFastLaunch": false,
    "category": "Memory Optimized",
    "gpuNum": 0,
    "hideHardwareSpecs": false,
    "memoryGiB": 32,
    "name": "ml.r5.xlarge",
    "vcpuNum": 4
   },
   {
    "_defaultOrder": 41,
    "_isFastLaunch": false,
    "category": "Memory Optimized",
    "gpuNum": 0,
    "hideHardwareSpecs": false,
    "memoryGiB": 64,
    "name": "ml.r5.2xlarge",
    "vcpuNum": 8
   },
   {
    "_defaultOrder": 42,
    "_isFastLaunch": false,
    "category": "Memory Optimized",
    "gpuNum": 0,
    "hideHardwareSpecs": false,
    "memoryGiB": 128,
    "name": "ml.r5.4xlarge",
    "vcpuNum": 16
   },
   {
    "_defaultOrder": 43,
    "_isFastLaunch": false,
    "category": "Memory Optimized",
    "gpuNum": 0,
    "hideHardwareSpecs": false,
    "memoryGiB": 256,
    "name": "ml.r5.8xlarge",
    "vcpuNum": 32
   },
   {
    "_defaultOrder": 44,
    "_isFastLaunch": false,
    "category": "Memory Optimized",
    "gpuNum": 0,
    "hideHardwareSpecs": false,
    "memoryGiB": 384,
    "name": "ml.r5.12xlarge",
    "vcpuNum": 48
   },
   {
    "_defaultOrder": 45,
    "_isFastLaunch": false,
    "category": "Memory Optimized",
    "gpuNum": 0,
    "hideHardwareSpecs": false,
    "memoryGiB": 512,
    "name": "ml.r5.16xlarge",
    "vcpuNum": 64
   },
   {
    "_defaultOrder": 46,
    "_isFastLaunch": false,
    "category": "Memory Optimized",
    "gpuNum": 0,
    "hideHardwareSpecs": false,
    "memoryGiB": 768,
    "name": "ml.r5.24xlarge",
    "vcpuNum": 96
   },
   {
    "_defaultOrder": 47,
    "_isFastLaunch": false,
    "category": "Accelerated computing",
    "gpuNum": 1,
    "hideHardwareSpecs": false,
    "memoryGiB": 16,
    "name": "ml.g5.xlarge",
    "vcpuNum": 4
   },
   {
    "_defaultOrder": 48,
    "_isFastLaunch": false,
    "category": "Accelerated computing",
    "gpuNum": 1,
    "hideHardwareSpecs": false,
    "memoryGiB": 32,
    "name": "ml.g5.2xlarge",
    "vcpuNum": 8
   },
   {
    "_defaultOrder": 49,
    "_isFastLaunch": false,
    "category": "Accelerated computing",
    "gpuNum": 1,
    "hideHardwareSpecs": false,
    "memoryGiB": 64,
    "name": "ml.g5.4xlarge",
    "vcpuNum": 16
   },
   {
    "_defaultOrder": 50,
    "_isFastLaunch": false,
    "category": "Accelerated computing",
    "gpuNum": 1,
    "hideHardwareSpecs": false,
    "memoryGiB": 128,
    "name": "ml.g5.8xlarge",
    "vcpuNum": 32
   },
   {
    "_defaultOrder": 51,
    "_isFastLaunch": false,
    "category": "Accelerated computing",
    "gpuNum": 1,
    "hideHardwareSpecs": false,
    "memoryGiB": 256,
    "name": "ml.g5.16xlarge",
    "vcpuNum": 64
   },
   {
    "_defaultOrder": 52,
    "_isFastLaunch": false,
    "category": "Accelerated computing",
    "gpuNum": 4,
    "hideHardwareSpecs": false,
    "memoryGiB": 192,
    "name": "ml.g5.12xlarge",
    "vcpuNum": 48
   },
   {
    "_defaultOrder": 53,
    "_isFastLaunch": false,
    "category": "Accelerated computing",
    "gpuNum": 4,
    "hideHardwareSpecs": false,
    "memoryGiB": 384,
    "name": "ml.g5.24xlarge",
    "vcpuNum": 96
   },
   {
    "_defaultOrder": 54,
    "_isFastLaunch": false,
    "category": "Accelerated computing",
    "gpuNum": 8,
    "hideHardwareSpecs": false,
    "memoryGiB": 768,
    "name": "ml.g5.48xlarge",
    "vcpuNum": 192
   },
   {
    "_defaultOrder": 55,
    "_isFastLaunch": false,
    "category": "Accelerated computing",
    "gpuNum": 8,
    "hideHardwareSpecs": false,
    "memoryGiB": 1152,
    "name": "ml.p4d.24xlarge",
    "vcpuNum": 96
   },
   {
    "_defaultOrder": 56,
    "_isFastLaunch": false,
    "category": "Accelerated computing",
    "gpuNum": 8,
    "hideHardwareSpecs": false,
    "memoryGiB": 1152,
    "name": "ml.p4de.24xlarge",
    "vcpuNum": 96
   },
   {
    "_defaultOrder": 57,
    "_isFastLaunch": false,
    "category": "Accelerated computing",
    "gpuNum": 0,
    "hideHardwareSpecs": false,
    "memoryGiB": 32,
    "name": "ml.trn1.2xlarge",
    "vcpuNum": 8
   },
   {
    "_defaultOrder": 58,
    "_isFastLaunch": false,
    "category": "Accelerated computing",
    "gpuNum": 0,
    "hideHardwareSpecs": false,
    "memoryGiB": 512,
    "name": "ml.trn1.32xlarge",
    "vcpuNum": 128
   },
   {
    "_defaultOrder": 59,
    "_isFastLaunch": false,
    "category": "Accelerated computing",
    "gpuNum": 0,
    "hideHardwareSpecs": false,
    "memoryGiB": 512,
    "name": "ml.trn1n.32xlarge",
    "vcpuNum": 128
   }
  ],
  "instance_type": "ml.t3.medium",
  "kernelspec": {
   "display_name": "py39",
   "language": "python",
   "name": "python3"
  },
  "language_info": {
   "codemirror_mode": {
    "name": "ipython",
    "version": 3
   },
   "file_extension": ".py",
   "mimetype": "text/x-python",
   "name": "python",
   "nbconvert_exporter": "python",
   "pygments_lexer": "ipython3",
   "version": "3.10.13"
  },
  "nbproject": {
   "id": "pNa7RdI26sp4",
   "parent": null,
   "pypackage": null,
   "time_init": "2023-11-28T20:43:54.435596+00:00",
   "user_handle": null,
   "user_id": null,
   "user_name": null,
   "version": "1"
  }
 },
 "nbformat": 4,
 "nbformat_minor": 4
}
