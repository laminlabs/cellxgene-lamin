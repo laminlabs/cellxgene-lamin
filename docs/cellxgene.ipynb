{
 "cells": [
  {
   "cell_type": "markdown",
   "id": "c71502b7",
   "metadata": {},
   "source": [
    "[![hub](https://img.shields.io/badge/Source%20%26%20report%20on%20LaminHub-mediumseagreen)](https://lamin.ai/laminlabs/cellxgene/transform/5FUyJ6RkVk0Dz8)"
   ]
  },
  {
   "cell_type": "markdown",
   "id": "7f26a335-cf1c-4e69-be3b-0c26b154606a",
   "metadata": {},
   "source": [
    "# CELLxGENE: scRNA-seq"
   ]
  },
  {
   "cell_type": "markdown",
   "id": "47b1fa7f",
   "metadata": {},
   "source": [
    "[CZ CELLxGENE](https://cellxgene.cziscience.com/) hosts the globally largest standardized collection of scRNA-seq datasets.\n",
    "\n",
    "LaminDB makes it easy to query the CELLxGENE data and integrate it with in-house data of any kind (omics, phenotypes, pdfs, notebooks, ML models, ...).\n",
    "\n",
    "You can use the CELLxGENE data in two ways:\n",
    "\n",
    "1. Query collections of `AnnData` objects.\n",
    "2. Slice a big array store produced by concatenated `AnnData` objects via `tiledbsoma`.\n",
    "\n",
    "If you are interested in building similar data assets in-house:\n",
    "\n",
    "1. See the [transfer guide](inv:docs#transfer) to zero-copy data to your own LaminDB instance.\n",
    "2. See the [scRNA guide](inv:docs#scrna) to create a growing, standardized & versioned scRNA-seq dataset collection.\n",
    "\n",
    "```{dropdown} Show me a screenshot\n",
    "\n",
    "<img src=\"https://lamin-site-assets.s3.amazonaws.com/.lamindb/YHMYgXCfJTJvKPBmuh1S.png\" width=\"700px\">\n",
    "\n",
    "```\n"
   ]
  },
  {
   "cell_type": "markdown",
   "id": "5a021883",
   "metadata": {},
   "source": [
    "Load the public LaminDB instance that mirrors cellxgene:"
   ]
  },
  {
   "cell_type": "code",
   "execution_count": null,
   "id": "df1d93a7",
   "metadata": {
    "tags": [
     "hide-output"
    ]
   },
   "outputs": [],
   "source": [
    "# !pip install 'lamindb[bionty,ourprojects,jupyter]'\n",
    "!lamin load laminlabs/cellxgene"
   ]
  },
  {
   "cell_type": "code",
   "execution_count": null,
   "id": "d74e133a",
   "metadata": {
    "tags": [
     "hide-output"
    ]
   },
   "outputs": [],
   "source": [
    "import lamindb as ln\n",
    "import bionty as bt"
   ]
  },
  {
   "cell_type": "markdown",
   "id": "ff6ecae2",
   "metadata": {},
   "source": [
    "## Query & understand metadata"
   ]
  },
  {
   "cell_type": "markdown",
   "id": "2bb8060e",
   "metadata": {},
   "source": [
    "### Auto-complete metadata"
   ]
  },
  {
   "cell_type": "markdown",
   "id": "c380296b",
   "metadata": {},
   "source": [
    "You can create look-up objects for any registry in LaminDB, including [basic biological entities](https://lamin.ai/laminlabs/docs/bionty) and things like users or storage locations.\n",
    "\n",
    "Let's use auto-complete to look up cell types:\n",
    "\n",
    ":::{dropdown} Show me a screenshot\n",
    "\n",
    "<img src=\"https://lamin-site-assets.s3.amazonaws.com/.lamindb/lgRNHNtMxjU0y8nIagt7.png\" width=\"400px\">\n",
    "\n",
    ":::"
   ]
  },
  {
   "cell_type": "code",
   "execution_count": null,
   "id": "83069463",
   "metadata": {
    "tags": [
     "hide-output"
    ]
   },
   "outputs": [],
   "source": [
    "cell_types = bt.CellType.lookup()\n",
    "cell_types.effector_t_cell"
   ]
  },
  {
   "cell_type": "markdown",
   "id": "c639e444",
   "metadata": {},
   "source": [
    "You can also arbitrarily chain filters and create lookups from them:"
   ]
  },
  {
   "cell_type": "code",
   "execution_count": null,
   "id": "eb81f096",
   "metadata": {},
   "outputs": [],
   "source": [
    "users = ln.User.lookup()\n",
    "organisms = bt.Organism.lookup()\n",
    "experimental_factors = bt.ExperimentalFactor.lookup()  # labels for experimental factors\n",
    "tissues = bt.Tissue.lookup()  # tissue labels\n",
    "suspension_types = ln.ULabel.filter(type__name=\"SuspensionType\").lookup()\n",
    "# here we choose to return .name directly\n",
    "features = ln.Feature.lookup(return_field=\"name\")\n",
    "assays = bt.ExperimentalFactor.lookup(return_field=\"name\")"
   ]
  },
  {
   "cell_type": "markdown",
   "id": "e75a5614",
   "metadata": {},
   "source": [
    "### Search & filter metadata"
   ]
  },
  {
   "cell_type": "markdown",
   "id": "fc2d105f",
   "metadata": {},
   "source": [
    "We can use search & filters for metadata:"
   ]
  },
  {
   "cell_type": "code",
   "execution_count": null,
   "id": "4424217f",
   "metadata": {
    "tags": [
     "hide-output"
    ]
   },
   "outputs": [],
   "source": [
    "bt.CellType.search(\"effector T cell\").df().head()"
   ]
  },
  {
   "cell_type": "markdown",
   "id": "3c949b27",
   "metadata": {},
   "source": [
    "And use a `uid` to filter exactly one metadata record:"
   ]
  },
  {
   "cell_type": "code",
   "execution_count": null,
   "id": "1de3c95c",
   "metadata": {
    "tags": [
     "hide-output"
    ]
   },
   "outputs": [],
   "source": [
    "effector_t_cell = bt.CellType.get(\"3nfZTVV4\")\n",
    "effector_t_cell"
   ]
  },
  {
   "cell_type": "markdown",
   "id": "b3da2a35",
   "metadata": {},
   "source": [
    "### Understand ontologies"
   ]
  },
  {
   "cell_type": "markdown",
   "id": "0851981a",
   "metadata": {},
   "source": [
    "View the related ontology terms: "
   ]
  },
  {
   "cell_type": "code",
   "execution_count": null,
   "id": "07937c21",
   "metadata": {
    "tags": [
     "hide-output"
    ]
   },
   "outputs": [],
   "source": [
    "effector_t_cell.view_parents(distance=2, with_children=True)"
   ]
  },
  {
   "cell_type": "markdown",
   "id": "d8b3d075",
   "metadata": {},
   "source": [
    "Or access them programmatically:"
   ]
  },
  {
   "cell_type": "code",
   "execution_count": null,
   "id": "1077892b",
   "metadata": {
    "tags": [
     "hide-output"
    ]
   },
   "outputs": [],
   "source": [
    "effector_t_cell.children.df()"
   ]
  },
  {
   "cell_type": "markdown",
   "id": "e81be489",
   "metadata": {},
   "source": [
    "## Query for individual datasets"
   ]
  },
  {
   "cell_type": "markdown",
   "id": "78cd7e54",
   "metadata": {},
   "source": [
    "Every individual dataset in CELLxGENE is an `.h5ad` file that is stored as an artifact in LaminDB. Here is an exemplary query:"
   ]
  },
  {
   "cell_type": "code",
   "execution_count": null,
   "id": "ea561881",
   "metadata": {
    "tags": [
     "hide-output"
    ]
   },
   "outputs": [],
   "source": [
    "ln.Artifact.filter(\n",
    "    suffix=\".h5ad\",  # filename suffix\n",
    "    description__contains=\"immune\",\n",
    "    size__gt=1e9,  # size > 1GB\n",
    "    cell_types__in=[\n",
    "        cell_types.b_cell,\n",
    "        cell_types.t_cell,\n",
    "    ],  # cell types measured in AnnData\n",
    "    created_by=users.sunnyosun,  # creator\n",
    ").order_by(\"created_at\").df(\n",
    "    include=[\"cell_types__name\", \"created_by__handle\"]  # join with additional info\n",
    ").head()"
   ]
  },
  {
   "cell_type": "markdown",
   "id": "e483776d",
   "metadata": {},
   "source": [
    "```{dropdown} What happens under the hood?\n",
    "\n",
    "As you saw from inspecting `ln.Artifact`, `ln.Artifact.cell_types` relates artifacts with `bt.CellType`.\n",
    "\n",
    "The expression `cell_types__name__in` performs the join of the underlying registries and matches `bt.CellType.name` to `[\"B cell\", \"T cell\"]`.\n",
    "\n",
    "Similar for `created_by`, which relates artifacts with `ln.User`.\n",
    "\n",
    "```"
   ]
  },
  {
   "cell_type": "markdown",
   "id": "e67535b3",
   "metadata": {},
   "source": [
    "To see what you can query for, look at the registry representation."
   ]
  },
  {
   "cell_type": "code",
   "execution_count": null,
   "id": "b5082ddc",
   "metadata": {
    "tags": [
     "hide-output"
    ]
   },
   "outputs": [],
   "source": [
    "ln.Artifact"
   ]
  },
  {
   "cell_type": "markdown",
   "id": "d5598f32",
   "metadata": {},
   "source": [
    "### Slice an individual dataset"
   ]
  },
  {
   "cell_type": "markdown",
   "id": "62f49bf9",
   "metadata": {},
   "source": [
    "Let's look at an artifact and show its metadata using `.describe()`."
   ]
  },
  {
   "cell_type": "code",
   "execution_count": null,
   "id": "872405c5",
   "metadata": {
    "tags": [
     "hide-output"
    ]
   },
   "outputs": [],
   "source": [
    "artifact = ln.Artifact.get(description=\"Mature kidney dataset: immune\", is_latest=True)\n",
    "artifact.describe()"
   ]
  },
  {
   "cell_type": "markdown",
   "id": "d297bc1c",
   "metadata": {},
   "source": [
    ":::{dropdown} More ways of accessing metadata\n",
    "\n",
    "Access just features:\n",
    "\n",
    "```\n",
    "artifact.features\n",
    "```\n",
    "\n",
    "Or get labels given a feature:\n",
    "\n",
    "```\n",
    "artifact.labels.get(features.tissue).df()\n",
    "```\n",
    "\n",
    ":::"
   ]
  },
  {
   "cell_type": "markdown",
   "id": "55415cbc",
   "metadata": {},
   "source": [
    "If you want to query a slice of the array data, you have two options:\n",
    "1. Cache the artifact on disk and return the path to the cached data. Doesn't download anything if the artifact is already in the cache.\n",
    "2. Cache & load the entire artifact into memory via `artifact.load() -> AnnData`\n",
    "3. Stream the array using a (cloud-backed) accessor `artifact.open() -> AnnDataAccessor`\n",
    "\n",
    "Both will run much faster in the AWS us-west-2 data center."
   ]
  },
  {
   "cell_type": "markdown",
   "id": "bdd54195",
   "metadata": {},
   "source": [
    "Cache:"
   ]
  },
  {
   "cell_type": "code",
   "execution_count": null,
   "id": "49b679ea",
   "metadata": {
    "tags": [
     "hide-output"
    ]
   },
   "outputs": [],
   "source": [
    "cache_path = artifact.cache()\n",
    "cache_path"
   ]
  },
  {
   "cell_type": "markdown",
   "id": "6c93d2d0",
   "metadata": {},
   "source": [
    "Cache & load:"
   ]
  },
  {
   "cell_type": "code",
   "execution_count": null,
   "id": "eeb1f350",
   "metadata": {
    "tags": [
     "hide-output"
    ]
   },
   "outputs": [],
   "source": [
    "adata = artifact.load()\n",
    "adata"
   ]
  },
  {
   "cell_type": "markdown",
   "id": "00157e85",
   "metadata": {},
   "source": [
    "Now we have an `AnnData` object, which stores observation annotations matching our artifact-level query in the `.obs` slot, and we can re-use almost the same query on the array-level.\n",
    "\n",
    ":::{dropdown} See the array-level query\n",
    "\n",
    "```\n",
    "adata_slice = adata[\n",
    "    adata.obs.cell_type.isin(\n",
    "        [cell_types.dendritic_cell.name, cell_types.neutrophil.name]\n",
    "    )\n",
    "    & (adata.obs.tissue == tissues.kidney.name)\n",
    "    & (adata.obs.suspension_type == suspension_types.cell.name)\n",
    "    & (adata.obs.assay == experimental_factors.ln_10x_3_v2.name)\n",
    "]\n",
    "adata_slice\n",
    "```\n",
    "\n",
    ":::\n",
    "\n",
    "\n",
    ":::{dropdown} See the artifact-level query\n",
    "\n",
    "```\n",
    "collection = ln.Collection.filter(name=\"cellxgene-census\", version=\"2024-07-01\").one()\n",
    "query = collection.artifacts.filter(\n",
    "    organism=organisms.human,\n",
    "    cell_types__in=[cell_types.dendritic_cell, cell_types.neutrophil],\n",
    "    tissues=tissues.kidney,\n",
    "    ulabels=suspension_types.cell,\n",
    "    experimental_factors=experimental_factors.ln_10x_3_v2,\n",
    ")\n",
    "```\n",
    "\n",
    "`AnnData` uses pandas to manage metadata and the syntax differs slightly. However, the same metadata records are used.\n",
    "\n",
    ":::"
   ]
  },
  {
   "cell_type": "markdown",
   "id": "85b2bc78",
   "metadata": {},
   "source": [
    "Stream, slice and load the slice into memory:"
   ]
  },
  {
   "cell_type": "code",
   "execution_count": null,
   "id": "f7b57c07",
   "metadata": {
    "tags": [
     "hide-output"
    ]
   },
   "outputs": [],
   "source": [
    "with artifact.open() as adata_backed:\n",
    "    display(adata_backed)"
   ]
  },
  {
   "cell_type": "markdown",
   "id": "c6b4ac47",
   "metadata": {},
   "source": [
    "We now have an `AnnDataAccessor` object, which behaves much like an `AnnData`, and slicing looks similar to the query above.\n",
    "\n",
    ":::{dropdown} See the slicing operation\n",
    "\n",
    "```\n",
    "adata_backed_slice = adata_backed[\n",
    "    adata_backed.obs.cell_type.isin(\n",
    "        [cell_types.dendritic_cell.name, cell_types.neutrophil.name]\n",
    "    )\n",
    "    & (adata_backed.obs.tissue == tissues.kidney.name)\n",
    "    & (adata_backed.obs.suspension_type == suspension_types.cell.name)\n",
    "    & (adata_backed.obs.assay == experimental_factors.ln_10x_3_v2.name)\n",
    "]\n",
    "\n",
    "adata_backed_slice.to_memory()\n",
    "```\n",
    "\n",
    ":::"
   ]
  },
  {
   "cell_type": "markdown",
   "id": "87f70886",
   "metadata": {},
   "source": [
    "## Query collections of datasets"
   ]
  },
  {
   "cell_type": "markdown",
   "id": "38040a2f",
   "metadata": {},
   "source": [
    "Let's search collections from CELLxGENE within the 2024-07-01 release:"
   ]
  },
  {
   "cell_type": "code",
   "execution_count": null,
   "id": "a07de142",
   "metadata": {
    "tags": [
     "hide-output"
    ]
   },
   "outputs": [],
   "source": [
    "ln.Collection.filter(version=\"2024-07-01\").search(\"human retina\", limit=10)"
   ]
  },
  {
   "cell_type": "markdown",
   "id": "11033ebd",
   "metadata": {},
   "source": [
    "Let's get the record of the top hit collection:"
   ]
  },
  {
   "cell_type": "code",
   "execution_count": null,
   "id": "81a3885d",
   "metadata": {
    "tags": [
     "hide-output"
    ]
   },
   "outputs": [],
   "source": [
    "collection = ln.Collection.get(\"quQDnLsMLkP3JRsC8gp4\")\n",
    "collection"
   ]
  },
  {
   "cell_type": "markdown",
   "id": "6b6e4a13",
   "metadata": {},
   "source": [
    "It's a Science paper and we can find more information on it using the [DOI](https://doi.org/10.1016/j.xgen.2023.100298) or CELLxGENE [collection id](https://cellxgene.cziscience.com/collections/af893e86-8e9f-41f1-a474-ef05359b1fb7). There are multiple versions of this collection."
   ]
  },
  {
   "cell_type": "code",
   "execution_count": null,
   "id": "2b0e57ff",
   "metadata": {
    "tags": [
     "hide-output"
    ]
   },
   "outputs": [],
   "source": [
    "collection.versions.df()"
   ]
  },
  {
   "cell_type": "markdown",
   "id": "5b938c94",
   "metadata": {},
   "source": [
    "The collection groups artifacts."
   ]
  },
  {
   "cell_type": "code",
   "execution_count": null,
   "id": "9dcd1a3b",
   "metadata": {
    "tags": [
     "hide-output"
    ]
   },
   "outputs": [],
   "source": [
    "collection.artifacts.df()"
   ]
  },
  {
   "cell_type": "markdown",
   "id": "919d732b",
   "metadata": {},
   "source": [
    "Let's now look at the collection that corresponds to the `cellxgene-census` release of `.h5ad` artifacts."
   ]
  },
  {
   "cell_type": "code",
   "execution_count": null,
   "id": "0884ba0a",
   "metadata": {
    "tags": [
     "hide-output"
    ]
   },
   "outputs": [],
   "source": [
    "collection = ln.Collection.get(name=\"cellxgene-census\", version=\"2024-07-01\")\n",
    "collection"
   ]
  },
  {
   "cell_type": "markdown",
   "id": "8fa78cce",
   "metadata": {},
   "source": [
    "You can count all contained artifacts or get them as a dataframe."
   ]
  },
  {
   "cell_type": "code",
   "execution_count": null,
   "id": "b60003a3",
   "metadata": {
    "tags": [
     "hide-output"
    ]
   },
   "outputs": [],
   "source": [
    "collection.artifacts.count()"
   ]
  },
  {
   "cell_type": "code",
   "execution_count": null,
   "id": "bd413016",
   "metadata": {
    "tags": [
     "hide-output"
    ]
   },
   "outputs": [],
   "source": [
    "collection.artifacts.df().head()  # not tracking run & transform because read-only instance"
   ]
  },
  {
   "cell_type": "markdown",
   "id": "9ef4133d",
   "metadata": {},
   "source": [
    "You can query across artifacts by arbitrary metadata combinations, for instance:"
   ]
  },
  {
   "cell_type": "code",
   "execution_count": null,
   "id": "fa6437ee",
   "metadata": {
    "tags": [
     "hide-output"
    ]
   },
   "outputs": [],
   "source": [
    "query = collection.artifacts.filter(\n",
    "    organisms=organisms.human,\n",
    "    cell_types__in=[cell_types.dendritic_cell, cell_types.neutrophil],\n",
    "    tissues=tissues.kidney,\n",
    "    ulabels=suspension_types.cell,\n",
    "    experimental_factors=experimental_factors.ln_10x_3_v2,\n",
    ")\n",
    "query = query.order_by(\"size\")  # order by size\n",
    "query.df().head()  # convert to DataFrame"
   ]
  },
  {
   "cell_type": "markdown",
   "id": "e6fade48",
   "metadata": {},
   "source": [
    "### Slice a concatenated array"
   ]
  },
  {
   "cell_type": "markdown",
   "id": "45cad956",
   "metadata": {},
   "source": [
    "Let us now use the concatenated version of the `Census` collection: a `tiledbsoma` array that concatenates all `AnnData` arrays present in the `collection` we just explored. Slicing `tiledbsoma` works similar to slicing `DataFrame` or `AnnData`."
   ]
  },
  {
   "cell_type": "code",
   "execution_count": null,
   "id": "5d5f7713",
   "metadata": {},
   "outputs": [],
   "source": [
    "value_filter = (\n",
    "    f'{features.tissue} == \"{tissues.brain.name}\" and {features.cell_type} in'\n",
    "    f' [\"{cell_types.microglial_cell.name}\", \"{cell_types.neuron.name}\"] and'\n",
    "    f' {features.suspension_type} == \"{suspension_types.cell.name}\" and {features.assay} =='\n",
    "    f' \"{assays.ln_10x_3_v3}\"'\n",
    ")\n",
    "value_filter"
   ]
  },
  {
   "cell_type": "markdown",
   "id": "73a79ef8",
   "metadata": {},
   "source": [
    "Query for the `tiledbsoma` array store that contains all concatenated expression data. It's a new dataset produced by concatenating all `AnnData`-like artifacts in the Census collection."
   ]
  },
  {
   "cell_type": "code",
   "execution_count": null,
   "id": "fd479429",
   "metadata": {},
   "outputs": [],
   "source": [
    "census_artifact = ln.Artifact.get(description=\"Census 2024-07-01\")"
   ]
  },
  {
   "cell_type": "markdown",
   "id": "fbabe437",
   "metadata": {},
   "source": [
    "Run the slicing operation."
   ]
  },
  {
   "cell_type": "code",
   "execution_count": null,
   "id": "ffadf99d",
   "metadata": {
    "tags": [
     "hide-output"
    ]
   },
   "outputs": [],
   "source": [
    "human = \"homo_sapiens\"  # subset to human data\n",
    "\n",
    "# open the array store for queries\n",
    "with census_artifact.open() as store:\n",
    "    # read SOMADataFrame as a slice\n",
    "    cell_metadata = store[\"census_data\"][human].obs.read(value_filter=value_filter)\n",
    "    # concatenate results to pyarrow.Table\n",
    "    cell_metadata = cell_metadata.concat()\n",
    "    # convert to pandas.DataFrame\n",
    "    cell_metadata = cell_metadata.to_pandas()\n",
    "\n",
    "cell_metadata.head()"
   ]
  },
  {
   "cell_type": "markdown",
   "id": "9f715a6e",
   "metadata": {},
   "source": [
    "Create an `AnnData` object."
   ]
  },
  {
   "cell_type": "code",
   "execution_count": null,
   "id": "4fc38b0e",
   "metadata": {},
   "outputs": [],
   "source": [
    "from tiledbsoma import AxisQuery\n",
    "\n",
    "with census_artifact.open() as store:\n",
    "    experiment = store[\"census_data\"][human]\n",
    "    adata = experiment.axis_query(\n",
    "        \"RNA\", obs_query=AxisQuery(value_filter=value_filter)\n",
    "    ).to_anndata(\n",
    "        X_name=\"raw\",\n",
    "        column_names={\n",
    "            \"obs\": [\n",
    "                features.assay,\n",
    "                features.cell_type,\n",
    "                features.tissue,\n",
    "                features.disease,\n",
    "                features.suspension_type,\n",
    "            ]\n",
    "        },\n",
    "    )\n",
    "\n",
    "adata.var = adata.var.set_index(\"feature_id\")\n",
    "adata"
   ]
  },
  {
   "cell_type": "markdown",
   "id": "8ba42847",
   "metadata": {},
   "source": [
    "## Train ML models"
   ]
  },
  {
   "cell_type": "markdown",
   "id": "761dfa44",
   "metadata": {},
   "source": [
    "You can either directly train ML models on very large collections of `AnnData`-like artifacts or on a single concatenated `tiledbsoma`-like artifact. For pros & cons of these approaches, see [this blog post](https://lamin.ai/blog/arrayloader-benchmarks)."
   ]
  },
  {
   "cell_type": "markdown",
   "id": "e742dc5c",
   "metadata": {},
   "source": [
    "### On a collection of arrays"
   ]
  },
  {
   "cell_type": "markdown",
   "id": "c99387fe",
   "metadata": {},
   "source": [
    "{meth}`~lamindb.Collection.mapped` caches `AnnData` objects on disk and creates a map-style dataset that performs a virtual join of the features of the underlying `AnnData` objects."
   ]
  },
  {
   "cell_type": "markdown",
   "id": "05d53feb",
   "metadata": {},
   "source": [
    "```\n",
    "from torch.utils.data import DataLoader\n",
    "\n",
    "census_collection = ln.Collection.get(name=\"cellxgene-census\", version=\"2024-07-01\")\n",
    "\n",
    "dataset = census_collection.mapped(obs_keys=[features.cell_type], join=\"outer\")\n",
    "\n",
    "dataloader = DataLoader(dataset, batch_size=128, shuffle=True)\n",
    "\n",
    "for batch in dataloader:\n",
    "    pass\n",
    "\n",
    "dataset.close()\n",
    "```"
   ]
  },
  {
   "cell_type": "markdown",
   "id": "25d9fc73",
   "metadata": {},
   "source": [
    "For more background, see {doc}`docs:scrna-mappedcollection`."
   ]
  },
  {
   "cell_type": "markdown",
   "id": "0cf26bfb",
   "metadata": {},
   "source": [
    "### On a concatenated array"
   ]
  },
  {
   "cell_type": "markdown",
   "id": "9206d817",
   "metadata": {},
   "source": [
    "You can create streaming `PyTorch` dataloaders from `tiledbsoma` stores using `cellxgene_census` package."
   ]
  },
  {
   "cell_type": "markdown",
   "id": "ba7f1456",
   "metadata": {},
   "source": [
    "```\n",
    "import cellxgene_census.experimental.ml as census_ml\n",
    "\n",
    "store = census_artifact.open()\n",
    "\n",
    "experiment = store[\"census_data\"][human]\n",
    "experiment_datapipe = census_ml.ExperimentDataPipe(\n",
    "    experiment,\n",
    "    measurement_name=\"RNA\",\n",
    "    X_name=\"raw\",\n",
    "    obs_query=AxisQuery(value_filter=value_filter),\n",
    "    obs_column_names=[features.cell_type],\n",
    "    batch_size=128,\n",
    "    shuffle=True,\n",
    "    soma_chunk_size=10000,\n",
    ")\n",
    "experiment_dataloader = census_ml.experiment_dataloader(experiment_datapipe)\n",
    "\n",
    "for batch in experiment_dataloader:\n",
    "    pass\n",
    "\n",
    "store.close()\n",
    "```"
   ]
  },
  {
   "cell_type": "markdown",
   "id": "aa35afe2",
   "metadata": {},
   "source": [
    "For more background see [this guide](https://chanzuckerberg.github.io/cellxgene-census/notebooks/experimental/pytorch.html)."
   ]
  },
  {
   "cell_type": "markdown",
   "id": "6bd94803",
   "metadata": {},
   "source": [
    "```{toctree}\n",
    ":maxdepth: 1\n",
    ":hidden:\n",
    "\n",
    "cellxgene-curate\n",
    "```"
   ]
  }
 ],
 "metadata": {
  "kernelspec": {
   "display_name": "Python 3 (ipykernel)",
   "language": "python",
   "name": "python3"
  },
  "language_info": {
   "codemirror_mode": {
    "name": "ipython",
    "version": 3
   },
   "file_extension": ".py",
   "mimetype": "text/x-python",
   "name": "python",
   "nbconvert_exporter": "python",
   "pygments_lexer": "ipython3",
   "version": "3.9.17"
  },
  "nbproject": {
   "id": "5FUyJ6RkVk0D",
   "parent": null,
   "pypackage": null,
   "time_init": "2023-09-05T14:45:21.919899+00:00",
   "user_handle": "sunnyosun",
   "user_id": "kmvZDIX9",
   "user_name": "Sunny Sun",
   "version": "0"
  }
 },
 "nbformat": 4,
 "nbformat_minor": 5
}
