{
 "cells": [
  {
   "cell_type": "markdown",
   "id": "1d2cd769",
   "metadata": {},
   "source": [
    "# Curate `AnnData` based on the CELLxGENE schema\n",
    "\n",
    "This guide shows how to curate an AnnData object with the help of [`laminlabs/cellxgene`](https://lamin.ai/laminlabs/cellxgene) against the [CELLxGENE schema v5.1.0](https://github.com/chanzuckerberg/single-cell-curation/blob/main/schema/5.1.0/schema.md)."
   ]
  },
  {
   "cell_type": "markdown",
   "id": "cbe9ae41",
   "metadata": {},
   "source": [
    "Load your instance where you want to register the curated AnnData object:"
   ]
  },
  {
   "cell_type": "code",
   "execution_count": null,
   "id": "74008c61",
   "metadata": {
    "tags": [
     "hide-output"
    ]
   },
   "outputs": [],
   "source": [
    "# pip install 'lamindb[bionty,jupyter]' cellxgene-lamin\n",
    "# cellxgene-schema has pinned dependencies. Therefore we recommend installing it into a separate environment using `uv` or `pipx`\n",
    "# uv tool install cellxgene-schema==5.1.0\n",
    "!lamin init --storage ./test-cellxgene-curate --modules bionty"
   ]
  },
  {
   "cell_type": "code",
   "execution_count": null,
   "id": "a691aae0",
   "metadata": {},
   "outputs": [],
   "source": [
    "import lamindb as ln\n",
    "\n",
    "\n",
    "def get_semi_curated_dataset():\n",
    "    adata = ln.core.datasets.anndata_human_immune_cells()\n",
    "    adata.obs[\"sex_ontology_term_id\"] = \"PATO:0000384\"\n",
    "    adata.obs[\"organism\"] = \"human\"\n",
    "    adata.obs[\"sex\"] = \"unknown\"\n",
    "    # create some typos in the metadata\n",
    "    adata.obs[\"tissue\"] = adata.obs[\"tissue\"].cat.rename_categories({\"lung\": \"lungg\"})\n",
    "    # new donor ids\n",
    "    adata.obs[\"donor\"] = adata.obs[\"donor\"].astype(str) + \"-1\"\n",
    "    # drop animal cell\n",
    "    adata = adata[adata.obs[\"cell_type\"] != \"animal cell\", :]\n",
    "    # remove columns that are reserved in the cellxgene schema\n",
    "    adata.var.drop(columns=[\"feature_reference\", \"feature_biotype\"], inplace=True)\n",
    "    adata.raw.var.drop(\n",
    "        columns=[\"feature_name\", \"feature_reference\", \"feature_biotype\"], inplace=True\n",
    "    )\n",
    "    return adata"
   ]
  },
  {
   "cell_type": "markdown",
   "id": "52bbbac2",
   "metadata": {},
   "source": [
    "Let's start with an AnnData object that we'd like to inspect and curate.\n",
    "We are writing it to disk to run [CZI's cellxgene-schema CLI tool](https://github.com/chanzuckerberg/single-cell-curation) which verifies whether an on-disk h5ad dataset adheres to the cellxgene schema."
   ]
  },
  {
   "cell_type": "code",
   "execution_count": null,
   "id": "9cec7bf7",
   "metadata": {
    "tags": [
     "hide-output"
    ]
   },
   "outputs": [],
   "source": [
    "adata = get_semi_curated_dataset()\n",
    "adata.write_h5ad(\"anndata_human_immune_cells.h5ad\")\n",
    "adata"
   ]
  },
  {
   "cell_type": "markdown",
   "id": "c72018c0",
   "metadata": {},
   "source": [
    "Initially, the cellxgene-schema validator of CZI does not pass and we need to curate the dataset."
   ]
  },
  {
   "cell_type": "code",
   "execution_count": null,
   "id": "de5788f8",
   "metadata": {
    "tags": [
     "hide-output"
    ]
   },
   "outputs": [],
   "source": [
    "!MPLBACKEND=agg uvx cellxgene-schema validate anndata_human_immune_cells.h5ad || exit 1"
   ]
  },
  {
   "cell_type": "markdown",
   "id": "946a3371",
   "metadata": {},
   "source": [
    "## Validate and curate metadata"
   ]
  },
  {
   "cell_type": "markdown",
   "id": "acdb45d8",
   "metadata": {},
   "source": [
    "We create a `Curate` object that references the `AnnData` object.\n",
    "During instantiation, any :class:`~lamindb.Feature` records are saved."
   ]
  },
  {
   "cell_type": "code",
   "execution_count": null,
   "id": "9ee9cd17",
   "metadata": {
    "tags": [
     "hide-output"
    ]
   },
   "outputs": [],
   "source": [
    "curator = ln.curators.CellxGeneAnnDataCatCurator(\n",
    "    adata, organism=\"human\", schema_version=\"5.1.0\"\n",
    ")"
   ]
  },
  {
   "cell_type": "markdown",
   "id": "a257d96f",
   "metadata": {},
   "source": [
    "Let's fix the \"donor_id\" column name:"
   ]
  },
  {
   "cell_type": "code",
   "execution_count": null,
   "id": "5ceae892",
   "metadata": {},
   "outputs": [],
   "source": [
    "adata.obs.rename(columns={\"donor\": \"donor_id\"}, inplace=True)"
   ]
  },
  {
   "cell_type": "code",
   "execution_count": null,
   "id": "0eb2bdf2",
   "metadata": {},
   "outputs": [],
   "source": [
    "validated = curator.validate()"
   ]
  },
  {
   "cell_type": "markdown",
   "id": "5119f1a5",
   "metadata": {},
   "source": [
    "For the missing columns, we can pass default values suggested from CELLxGENE which will automatically add them to the AnnData object:"
   ]
  },
  {
   "cell_type": "code",
   "execution_count": null,
   "id": "dc154b39",
   "metadata": {
    "tags": [
     "hide-output"
    ]
   },
   "outputs": [],
   "source": [
    "ln.curators.CellxGeneAnnDataCatCurator._get_categoricals_defaults()"
   ]
  },
  {
   "cell_type": "markdown",
   "id": "c6837005",
   "metadata": {},
   "source": [
    "```{note}\n",
    "CELLxGENE requires columns `tissue`, `organism`, and `assay` to have existing values from the ontologies.\n",
    "Therefore, these columns need to be added and populated manually.\n",
    "```"
   ]
  },
  {
   "cell_type": "code",
   "execution_count": null,
   "id": "15137652",
   "metadata": {
    "tags": [
     "hide-output"
    ]
   },
   "outputs": [],
   "source": [
    "curator = ln.curators.CellxGeneAnnDataCatCurator(\n",
    "    adata,\n",
    "    defaults=ln.curators.CellxGeneAnnDataCatCurator._get_categoricals_defaults(),\n",
    "    organism=\"human\",\n",
    "    schema_version=\"5.1.0\",\n",
    ")"
   ]
  },
  {
   "cell_type": "code",
   "execution_count": null,
   "id": "24e00633",
   "metadata": {
    "tags": [
     "hide-output"
    ]
   },
   "outputs": [],
   "source": [
    "validated = curator.validate()\n",
    "validated"
   ]
  },
  {
   "cell_type": "markdown",
   "id": "19d016a6",
   "metadata": {},
   "source": [
    "## Remove unvalidated values"
   ]
  },
  {
   "cell_type": "markdown",
   "id": "d55bbb62",
   "metadata": {},
   "source": [
    "We remove all unvalidated genes.\n",
    "These genes may exist in a different release of ensembl but are not valid for the ensembl version of cellxgene schema 5.0.0 (ensembl release 110)."
   ]
  },
  {
   "cell_type": "code",
   "execution_count": null,
   "id": "86f663bc",
   "metadata": {},
   "outputs": [],
   "source": [
    "curator.non_validated"
   ]
  },
  {
   "cell_type": "code",
   "execution_count": null,
   "id": "99372d42",
   "metadata": {},
   "outputs": [],
   "source": [
    "# adata = adata[:, ~adata.var.index.isin(curator.non_validated[\"var_index\"])].copy()\n",
    "# if adata.raw is not None:\n",
    "#     raw_data = adata.raw.to_adata()\n",
    "#     raw_data = raw_data[\n",
    "#         :, ~raw_data.var_names.isin(curator.non_validated[\"var_index\"])\n",
    "#     ].copy()\n",
    "#     adata.raw = raw_data"
   ]
  },
  {
   "cell_type": "code",
   "execution_count": null,
   "id": "c56d1fef",
   "metadata": {},
   "outputs": [],
   "source": [
    "curator = ln.curators.CellxGeneAnnDataCatCurator(\n",
    "    adata, organism=\"human\", schema_version=\"5.1.0\"\n",
    ")"
   ]
  },
  {
   "cell_type": "markdown",
   "id": "7c157df6",
   "metadata": {},
   "source": [
    "## Register new metadata labels\n",
    "\n",
    "Following the suggestions above to register genes and labels that aren't present in the current instance:\n",
    "\n",
    "(Note that our instance is rather empty. Once you filled up the registries, registering new labels won't be frequently needed)"
   ]
  },
  {
   "cell_type": "markdown",
   "id": "9d30cf05",
   "metadata": {},
   "source": [
    "For donors, we register the new labels:"
   ]
  },
  {
   "cell_type": "code",
   "execution_count": null,
   "id": "5c1453b0",
   "metadata": {
    "tags": [
     "hide-output"
    ]
   },
   "outputs": [],
   "source": [
    "curator.add_new_from(\"donor_id\")"
   ]
  },
  {
   "cell_type": "markdown",
   "id": "0861e207",
   "metadata": {},
   "source": [
    "An error is shown for the tissue label \"lungg\", which is a typo, should be \"lung\". Let's fix it:"
   ]
  },
  {
   "cell_type": "code",
   "execution_count": null,
   "id": "ba61e42a",
   "metadata": {
    "tags": [
     "hide-output"
    ]
   },
   "outputs": [],
   "source": [
    "tissues = curator.lookup().tissue\n",
    "tissues.lung"
   ]
  },
  {
   "cell_type": "code",
   "execution_count": null,
   "id": "daeb0568",
   "metadata": {
    "tags": [
     "hide-output"
    ]
   },
   "outputs": [],
   "source": [
    "adata.obs[\"tissue\"] = adata.obs[\"tissue\"].cat.rename_categories(\n",
    "    {\"lungg\": tissues.lung.name}\n",
    ")"
   ]
  },
  {
   "cell_type": "markdown",
   "id": "1f3cd3a9",
   "metadata": {},
   "source": [
    "Let's validate the object again:"
   ]
  },
  {
   "cell_type": "code",
   "execution_count": null,
   "id": "1a90599b",
   "metadata": {
    "tags": [
     "hide-output"
    ]
   },
   "outputs": [],
   "source": [
    "validated = curator.validate()\n",
    "validated"
   ]
  },
  {
   "cell_type": "code",
   "execution_count": null,
   "id": "7200420f",
   "metadata": {
    "tags": [
     "hide-output"
    ]
   },
   "outputs": [],
   "source": [
    "adata.obs.head()"
   ]
  },
  {
   "cell_type": "markdown",
   "id": "38a30170",
   "metadata": {},
   "source": [
    "## Save artifact"
   ]
  },
  {
   "cell_type": "code",
   "execution_count": null,
   "id": "7a43d9b8",
   "metadata": {
    "tags": [
     "hide-output"
    ]
   },
   "outputs": [],
   "source": [
    "artifact = curator.save_artifact(\n",
    "    description=f\"dataset curated against cellxgene schema {curator.schema_version}\"\n",
    ")"
   ]
  },
  {
   "cell_type": "code",
   "execution_count": null,
   "id": "f12ec345",
   "metadata": {
    "tags": [
     "hide-output"
    ]
   },
   "outputs": [],
   "source": [
    "artifact.describe()"
   ]
  },
  {
   "cell_type": "markdown",
   "id": "9eea92a2",
   "metadata": {},
   "source": [
    "## Return an input h5ad file for cellxgene-schema"
   ]
  },
  {
   "cell_type": "code",
   "execution_count": null,
   "id": "bced90a1",
   "metadata": {
    "tags": [
     "hide-output"
    ]
   },
   "outputs": [],
   "source": [
    "title = \"Cross-tissue immune cell analysis reveals tissue-specific features in humans (for test demo only)\"\n",
    "adata_cxg = curator.to_cellxgene_anndata(is_primary_data=True, title=title)\n",
    "adata_cxg"
   ]
  },
  {
   "cell_type": "code",
   "execution_count": null,
   "id": "85d32f4c",
   "metadata": {},
   "outputs": [],
   "source": [
    "adata_cxg.write_h5ad(\"anndata_human_immune_cells_cxg.h5ad\")"
   ]
  },
  {
   "cell_type": "code",
   "execution_count": null,
   "id": "c0b222ca",
   "metadata": {
    "tags": [
     "hide-output"
    ]
   },
   "outputs": [],
   "source": [
    "!MPLBACKEND=agg uvx cellxgene-schema validate anndata_human_immune_cells_cxg.h5ad || exit 1"
   ]
  },
  {
   "cell_type": "markdown",
   "id": "a91245ad",
   "metadata": {},
   "source": [
    "```{note}\n",
    "\n",
    "The Curate class is designed to validate all metadata for adherence to ontologies.\n",
    "It does not reimplement all rules of the cellxgene schema and we therefore recommend running the [cellxgene-schema](https://github.com/chanzuckerberg/single-cell-curation) if full adherence beyond metadata is a necessity.\n",
    "```"
   ]
  }
 ],
 "metadata": {
  "kernelspec": {
   "display_name": "py312",
   "language": "python",
   "name": "python3"
  },
  "language_info": {
   "codemirror_mode": {
    "name": "ipython",
    "version": 3
   },
   "file_extension": ".py",
   "mimetype": "text/x-python",
   "name": "python",
   "nbconvert_exporter": "python",
   "pygments_lexer": "ipython3",
   "version": "3.12.8"
  },
  "nbproject": {
   "id": "WOK3vP0bNGLx",
   "parent": null,
   "pypackage": null,
   "time_init": "2023-12-20T04:27:49.536493+00:00",
   "user_handle": null,
   "user_id": null,
   "user_name": null,
   "version": "0"
  }
 },
 "nbformat": 4,
 "nbformat_minor": 5
}
