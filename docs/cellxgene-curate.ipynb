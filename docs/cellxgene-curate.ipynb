{
 "cells": [
  {
   "cell_type": "markdown",
   "id": "1d2cd769",
   "metadata": {},
   "source": [
    "# Curate `AnnData` based on the CELLxGENE schema\n",
    "\n",
    "This guide shows how to curate an AnnData object with the help of [`laminlabs/cellxgene`](https://lamin.ai/laminlabs/cellxgene) against the [CELLxGENE schema v5.1.0](https://github.com/chanzuckerberg/single-cell-curation/blob/main/schema/5.1.0/schema.md)."
   ]
  },
  {
   "cell_type": "markdown",
   "id": "cbe9ae41",
   "metadata": {},
   "source": [
    "Load your instance where you want to register the curated AnnData object:"
   ]
  },
  {
   "cell_type": "code",
   "execution_count": null,
   "id": "74008c61",
   "metadata": {
    "tags": [
     "hide-output"
    ]
   },
   "outputs": [],
   "source": [
    "# pip install 'lamindb[bionty,jupyter]' pronto\n",
    "# cellxgene-schema has pinned dependencies. Therefore we recommend installing it into a separate environment using `uv` or `pipx`\n",
    "# uv tool install cellxgene-schema==5.3.2\n",
    "!lamin init --storage ./test-cellxgene-curate --modules bionty"
   ]
  },
  {
   "cell_type": "code",
   "execution_count": null,
   "id": "a691aae0",
   "metadata": {},
   "outputs": [],
   "source": [
    "import lamindb as ln\n",
    "import bionty as bt\n",
    "\n",
    "ln.settings.verbosity = \"error\""
   ]
  },
  {
   "cell_type": "markdown",
   "id": "52bbbac2",
   "metadata": {},
   "source": [
    "Let's start with an AnnData object that we'd like to inspect and curate.\n",
    "We are writing it to disk to run [CZI's cellxgene-schema CLI tool](https://github.com/chanzuckerberg/single-cell-curation) which verifies whether an on-disk h5ad dataset adheres to the cellxgene schema."
   ]
  },
  {
   "cell_type": "code",
   "execution_count": null,
   "id": "9cec7bf7",
   "metadata": {
    "tags": [
     "hide-output"
    ]
   },
   "outputs": [],
   "source": [
    "adata = ln.core.datasets.small_dataset3_cellxgene(with_obs_defaults=True)\n",
    "adata.write_h5ad(\"small_cxg.h5ad\")\n",
    "adata"
   ]
  },
  {
   "cell_type": "markdown",
   "id": "c72018c0",
   "metadata": {},
   "source": [
    "Initially, the cellxgene-schema validator of CZI does not pass and we need to curate the dataset."
   ]
  },
  {
   "cell_type": "code",
   "execution_count": null,
   "id": "de5788f8",
   "metadata": {
    "tags": [
     "hide-output"
    ]
   },
   "outputs": [],
   "source": [
    "!MPLBACKEND=agg uvx cellxgene-schema validate small_cxg.h5ad"
   ]
  },
  {
   "cell_type": "markdown",
   "id": "5932c83a",
   "metadata": {},
   "source": [
    "## Set up instance"
   ]
  },
  {
   "cell_type": "markdown",
   "id": "b9014024",
   "metadata": {},
   "source": [
    "CELLxGENE supports several default values such as \"normal\" for Mondo Disease that we need to save to our instance:"
   ]
  },
  {
   "cell_type": "code",
   "execution_count": null,
   "id": "0812a2a0",
   "metadata": {},
   "outputs": [],
   "source": [
    "ln.examples.cellxgene.save_cxg_defaults()"
   ]
  },
  {
   "cell_type": "markdown",
   "id": "946a3371",
   "metadata": {},
   "source": [
    "## Validate and curate metadata"
   ]
  },
  {
   "cell_type": "markdown",
   "id": "796f951b",
   "metadata": {},
   "source": [
    "CELLxGENE requires all `obs` metadata to be stored as ontology IDs in `column_ontology_id` columns.\n",
    "Therefore, we first translate the `name` based `obs` columns into the required format:"
   ]
  },
  {
   "cell_type": "code",
   "execution_count": null,
   "id": "fef674c2",
   "metadata": {},
   "outputs": [],
   "source": [
    "adata.obs"
   ]
  },
  {
   "cell_type": "code",
   "execution_count": null,
   "id": "d622979f",
   "metadata": {},
   "outputs": [],
   "source": [
    "standardization_map = {\n",
    "    \"organism\": (bt.Organism, \"organism_ontology_term_id\"),\n",
    "    \"assay\": (bt.ExperimentalFactor, \"assay_ontology_term_id\"),\n",
    "    \"tissue\": (bt.Tissue, \"tissue_ontology_term_id\"),\n",
    "    \"self_reported_ethnicity\": (\n",
    "        bt.Ethnicity,\n",
    "        \"self_reported_ethnicity_ontology_term_id\",\n",
    "    ),\n",
    "    \"cell_type\": (bt.CellType, \"cell_type_ontology_term_id\"),\n",
    "}\n",
    "\n",
    "for col, (bt_class, new_col) in standardization_map.items():\n",
    "    adata.obs[new_col] = bt_class.standardize(\n",
    "        adata.obs[col], field=\"name\", return_field=\"ontology_id\"\n",
    "    )\n",
    "\n",
    "adata.obs = adata.obs.drop(columns=list(standardization_map.keys()))"
   ]
  },
  {
   "cell_type": "code",
   "execution_count": null,
   "id": "1de30b20",
   "metadata": {},
   "outputs": [],
   "source": [
    "schema = ln.examples.cellxgene.get_cxg_schema(\"5.3.0\", field_types=\"ontology_id\")"
   ]
  },
  {
   "cell_type": "code",
   "execution_count": null,
   "id": "01b90450",
   "metadata": {},
   "outputs": [],
   "source": [
    "curator = ln.curators.AnnDataCurator(adata, schema)"
   ]
  },
  {
   "cell_type": "code",
   "execution_count": null,
   "id": "0e9547ce",
   "metadata": {},
   "outputs": [],
   "source": [
    "try:\n",
    "    curator.validate()\n",
    "except ln.errors.ValidationError as e:\n",
    "    print(e)"
   ]
  },
  {
   "cell_type": "code",
   "execution_count": null,
   "id": "a803600a",
   "metadata": {},
   "outputs": [],
   "source": [
    "adata = adata[\n",
    "    :, ~adata.var.index.isin(curator.slots[\"var\"].cat.non_validated[\"index\"])\n",
    "].copy()\n",
    "if adata.raw is not None:\n",
    "    raw_data = adata.raw.to_adata()\n",
    "    raw_data = raw_data[\n",
    "        :, ~raw_data.var.index.isin(curator.slots[\"var\"].cat.non_validated[\"index\"])\n",
    "    ].copy()\n",
    "    adata.raw = raw_data"
   ]
  },
  {
   "cell_type": "code",
   "execution_count": null,
   "id": "b40d9afc",
   "metadata": {},
   "outputs": [],
   "source": [
    "curator = ln.curators.AnnDataCurator(adata, schema)"
   ]
  },
  {
   "cell_type": "code",
   "execution_count": null,
   "id": "835fd6c0",
   "metadata": {},
   "outputs": [],
   "source": [
    "try:\n",
    "    curator.validate()\n",
    "except ln.errors.ValidationError as e:\n",
    "    print(e)"
   ]
  },
  {
   "cell_type": "code",
   "execution_count": null,
   "id": "ba6c3cd7",
   "metadata": {},
   "outputs": [],
   "source": [
    "adata.obs[\"tissue_ontology_term_id\"] = adata.obs[\"tissue_ontology_term_id\"].replace(\n",
    "    {\"lungg\": \"lung\"}\n",
    ")\n",
    "adata.obs[\"tissue_ontology_term_id\"] = bt.Tissue.standardize(\n",
    "    adata.obs.tissue_ontology_term_id, field=\"name\", return_field=\"ontology_id\"\n",
    ")"
   ]
  },
  {
   "cell_type": "code",
   "execution_count": null,
   "id": "ce4a46e4",
   "metadata": {},
   "outputs": [],
   "source": [
    "curator.validate()"
   ]
  },
  {
   "cell_type": "markdown",
   "id": "c0478ef5",
   "metadata": {},
   "source": [
    "## Save artifact"
   ]
  },
  {
   "cell_type": "code",
   "execution_count": null,
   "id": "fe217e5f",
   "metadata": {},
   "outputs": [],
   "source": [
    "artifact = curator.save_artifact(key=\"examples/dataset-curated-against-cxg.h5ad\")"
   ]
  },
  {
   "cell_type": "code",
   "execution_count": null,
   "id": "7bba8165",
   "metadata": {},
   "outputs": [],
   "source": [
    "artifact.describe()"
   ]
  },
  {
   "cell_type": "markdown",
   "id": "ab3b6426",
   "metadata": {},
   "source": [
    "## Validating using cellxgene-schema"
   ]
  },
  {
   "cell_type": "code",
   "execution_count": null,
   "id": "9a3b2df8",
   "metadata": {},
   "outputs": [],
   "source": [
    "adata.write(\"small_cxg_curated.h5ad\")"
   ]
  },
  {
   "cell_type": "code",
   "execution_count": null,
   "id": "bd529a46",
   "metadata": {},
   "outputs": [],
   "source": [
    "%%bash -e\n",
    "MPLBACKEND=agg uvx cellxgene-schema validate small_cxg_curated.h5ad"
   ]
  },
  {
   "cell_type": "markdown",
   "id": "a91245ad",
   "metadata": {},
   "source": [
    "```{note}\n",
    "\n",
    "The Curate class is designed to validate all metadata for adherence to ontologies.\n",
    "It does not reimplement all rules of the cellxgene schema and we therefore recommend running the [cellxgene-schema](https://github.com/chanzuckerberg/single-cell-curation) if full adherence beyond metadata is a necessity.\n",
    "```"
   ]
  }
 ],
 "metadata": {
  "kernelspec": {
   "display_name": "lamindb",
   "language": "python",
   "name": "python3"
  },
  "language_info": {
   "codemirror_mode": {
    "name": "ipython",
    "version": 3
   },
   "file_extension": ".py",
   "mimetype": "text/x-python",
   "name": "python",
   "nbconvert_exporter": "python",
   "pygments_lexer": "ipython3",
   "version": "3.12.8"
  },
  "nbproject": {
   "id": "WOK3vP0bNGLx",
   "parent": null,
   "pypackage": null,
   "time_init": "2023-12-20T04:27:49.536493+00:00",
   "user_handle": null,
   "user_id": null,
   "user_name": null,
   "version": "0"
  }
 },
 "nbformat": 4,
 "nbformat_minor": 5
}
