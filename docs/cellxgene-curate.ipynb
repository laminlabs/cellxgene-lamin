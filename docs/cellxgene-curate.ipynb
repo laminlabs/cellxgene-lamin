{
 "cells": [
  {
   "cell_type": "markdown",
   "id": "1d2cd769",
   "metadata": {},
   "source": [
    "# Curate `AnnData` based on the CELLxGENE schema\n",
    "\n",
    "This guide shows how to curate an AnnData object with the help of [`laminlabs/cellxgene`](https://lamin.ai/laminlabs/cellxgene) against the [CELLxGENE schema v5.1.0](https://github.com/chanzuckerberg/single-cell-curation/blob/main/schema/5.1.0/schema.md)."
   ]
  },
  {
   "cell_type": "markdown",
   "id": "cbe9ae41",
   "metadata": {},
   "source": [
    "Load your instance where you want to register the curated AnnData object:"
   ]
  },
  {
   "cell_type": "code",
   "execution_count": null,
   "id": "74008c61",
   "metadata": {
    "tags": [
     "hide-output"
    ]
   },
   "outputs": [],
   "source": [
    "# pip install 'lamindb[bionty,jupyter]' cellxgene-lamin\n",
    "# cellxgene-schema has pinned dependencies. Therefore we recommend installing it into a separate environment using `uv` or `pipx`\n",
    "# uv tool install cellxgene-schema==5.1.0\n",
    "!lamin init --storage ./test-cellxgene-curate --modules bionty"
   ]
  },
  {
   "cell_type": "code",
   "execution_count": 1,
   "id": "a691aae0",
   "metadata": {},
   "outputs": [
    {
     "name": "stdout",
     "output_type": "stream",
     "text": [
      "\u001b[92m→\u001b[0m connected lamindb: sunnyosun/test-cellxgene-curate\n"
     ]
    }
   ],
   "source": [
    "import lamindb as ln\n",
    "import bionty as bt\n",
    "\n",
    "\n",
    "def get_semi_curated_dataset():\n",
    "    adata = ln.core.datasets.anndata_human_immune_cells()\n",
    "    adata.obs[\"sex_ontology_term_id\"] = \"PATO:0000384\"\n",
    "    adata.obs[\"organism\"] = \"human\"\n",
    "    adata.obs[\"sex\"] = \"unknown\"\n",
    "    # create some typos in the metadata\n",
    "    adata.obs[\"tissue\"] = adata.obs[\"tissue\"].cat.rename_categories({\"lung\": \"lungg\"})\n",
    "    # new donor ids\n",
    "    adata.obs[\"donor\"] = adata.obs[\"donor\"].astype(str) + \"-1\"\n",
    "    # drop animal cell\n",
    "    adata = adata[adata.obs[\"cell_type\"] != \"animal cell\", :]\n",
    "    # remove columns that are reserved in the cellxgene schema\n",
    "    adata.var.drop(columns=[\"feature_reference\", \"feature_biotype\"], inplace=True)\n",
    "    adata.raw.var.drop(\n",
    "        columns=[\"feature_name\", \"feature_reference\", \"feature_biotype\"], inplace=True\n",
    "    )\n",
    "    return adata"
   ]
  },
  {
   "cell_type": "markdown",
   "id": "52bbbac2",
   "metadata": {},
   "source": [
    "Let's start with an AnnData object that we'd like to inspect and curate.\n",
    "We are writing it to disk to run [CZI's cellxgene-schema CLI tool](https://github.com/chanzuckerberg/single-cell-curation) which verifies whether an on-disk h5ad dataset adheres to the cellxgene schema."
   ]
  },
  {
   "cell_type": "code",
   "execution_count": 2,
   "id": "9cec7bf7",
   "metadata": {
    "tags": [
     "hide-output"
    ]
   },
   "outputs": [
    {
     "data": {
      "text/plain": [
       "AnnData object with n_obs × n_vars = 1626 × 36503\n",
       "    obs: 'donor', 'tissue', 'cell_type', 'assay', 'sex_ontology_term_id', 'organism', 'sex'\n",
       "    var: 'feature_is_filtered'\n",
       "    uns: 'default_embedding'\n",
       "    obsm: 'X_umap'"
      ]
     },
     "execution_count": 2,
     "metadata": {},
     "output_type": "execute_result"
    }
   ],
   "source": [
    "adata = get_semi_curated_dataset()\n",
    "adata.write_h5ad(\"anndata_human_immune_cells.h5ad\")\n",
    "adata"
   ]
  },
  {
   "cell_type": "markdown",
   "id": "c72018c0",
   "metadata": {},
   "source": [
    "Initially, the cellxgene-schema validator of CZI does not pass and we need to curate the dataset."
   ]
  },
  {
   "cell_type": "code",
   "execution_count": null,
   "id": "de5788f8",
   "metadata": {
    "tags": [
     "hide-output"
    ]
   },
   "outputs": [],
   "source": [
    "!MPLBACKEND=agg uvx cellxgene-schema validate anndata_human_immune_cells.h5ad || exit 1"
   ]
  },
  {
   "cell_type": "markdown",
   "id": "946a3371",
   "metadata": {},
   "source": [
    "## Validate and curate metadata"
   ]
  },
  {
   "cell_type": "markdown",
   "id": "acdb45d8",
   "metadata": {},
   "source": [
    "We create a `Curate` object that references the `AnnData` object.\n",
    "During instantiation, any :class:`~lamindb.Feature` records are saved."
   ]
  },
  {
   "cell_type": "code",
   "execution_count": 3,
   "id": "9ee9cd17",
   "metadata": {
    "tags": [
     "hide-output"
    ]
   },
   "outputs": [],
   "source": [
    "curator = ln.curators.CellxGeneAnnDataCatManager(\n",
    "    adata, organism=\"human\", schema_version=\"5.1.0\"\n",
    ")"
   ]
  },
  {
   "cell_type": "code",
   "execution_count": 4,
   "id": "0eb2bdf2",
   "metadata": {},
   "outputs": [
    {
     "name": "stdout",
     "output_type": "stream",
     "text": [
      "\u001b[91m✗\u001b[0m missing required obs columns development_stage, disease, donor_id, self_reported_ethnicity, suspension_type, tissue_type\n",
      "\u001b[94m•\u001b[0m consider initializing a Curate object like 'Curate(adata, defaults=cxg.CellxGeneAnnDataCatManager._get_categoricals_defaults())'to automatically add these columns with default values.\n"
     ]
    }
   ],
   "source": [
    "validated = curator.validate()"
   ]
  },
  {
   "cell_type": "markdown",
   "id": "a257d96f",
   "metadata": {},
   "source": [
    "Let's fix the \"donor_id\" column name:"
   ]
  },
  {
   "cell_type": "code",
   "execution_count": 7,
   "id": "5ceae892",
   "metadata": {},
   "outputs": [],
   "source": [
    "adata.obs.rename(columns={\"donor\": \"donor_id\"}, inplace=True)"
   ]
  },
  {
   "cell_type": "markdown",
   "id": "5119f1a5",
   "metadata": {},
   "source": [
    "For the missing columns, we can pass default values suggested from CELLxGENE which will automatically add them to the AnnData object:"
   ]
  },
  {
   "cell_type": "code",
   "execution_count": 8,
   "id": "dc154b39",
   "metadata": {
    "tags": [
     "hide-output"
    ]
   },
   "outputs": [
    {
     "data": {
      "text/plain": [
       "{'cell_type': 'unknown',\n",
       " 'development_stage': 'unknown',\n",
       " 'disease': 'normal',\n",
       " 'donor_id': 'unknown',\n",
       " 'self_reported_ethnicity': 'unknown',\n",
       " 'sex': 'unknown',\n",
       " 'suspension_type': 'cell',\n",
       " 'tissue_type': 'tissue'}"
      ]
     },
     "execution_count": 8,
     "metadata": {},
     "output_type": "execute_result"
    }
   ],
   "source": [
    "ln.curators.CellxGeneAnnDataCatManager._get_categoricals_defaults()"
   ]
  },
  {
   "cell_type": "markdown",
   "id": "c6837005",
   "metadata": {},
   "source": [
    "```{note}\n",
    "CELLxGENE requires columns `tissue`, `organism`, and `assay` to have existing values from the ontologies.\n",
    "Therefore, these columns need to be added and populated manually.\n",
    "```"
   ]
  },
  {
   "cell_type": "code",
   "execution_count": 5,
   "id": "15137652",
   "metadata": {
    "tags": [
     "hide-output"
    ]
   },
   "outputs": [
    {
     "name": "stdout",
     "output_type": "stream",
     "text": [
      "\u001b[92m→\u001b[0m added default value 'unknown' to the adata.obs['development_stage']\n",
      "\u001b[92m→\u001b[0m added default value 'normal' to the adata.obs['disease']\n",
      "\u001b[92m→\u001b[0m added default value 'unknown' to the adata.obs['donor_id']\n",
      "\u001b[92m→\u001b[0m added default value 'unknown' to the adata.obs['self_reported_ethnicity']\n",
      "\u001b[92m→\u001b[0m added default value 'cell' to the adata.obs['suspension_type']\n",
      "\u001b[92m→\u001b[0m added default value 'tissue' to the adata.obs['tissue_type']\n"
     ]
    }
   ],
   "source": [
    "curator = ln.curators.CellxGeneAnnDataCatManager(\n",
    "    adata,\n",
    "    defaults=ln.curators.CellxGeneAnnDataCatManager._get_categoricals_defaults(),\n",
    "    organism=\"human\",\n",
    "    schema_version=\"5.1.0\",\n",
    ")"
   ]
  },
  {
   "cell_type": "code",
   "execution_count": 6,
   "id": "24e00633",
   "metadata": {
    "tags": [
     "hide-output"
    ]
   },
   "outputs": [
    {
     "name": "stdout",
     "output_type": "stream",
     "text": [
      "\u001b[94m•\u001b[0m mapping \"var_index\" on \u001b[3mGene.ensembl_gene_id\u001b[0m\n",
      "\u001b[93m!\u001b[0m   \u001b[1;91m113 terms\u001b[0m are not validated: \u001b[1;91m'ENSG00000269933', 'ENSG00000261737', 'ENSG00000259834', 'ENSG00000256374', 'ENSG00000263464', 'ENSG00000203812', 'ENSG00000272196', 'ENSG00000272880', 'ENSG00000270188', 'ENSG00000287116', 'ENSG00000237133', 'ENSG00000224739', 'ENSG00000227902', 'ENSG00000239467', 'ENSG00000272551', 'ENSG00000280374', 'ENSG00000236886', 'ENSG00000229352', 'ENSG00000286601', 'ENSG00000227021', ...\u001b[0m\n",
      "    → fix typos, remove non-existent values, or save terms via \u001b[1;96m.add_new_from_var_index()\u001b[0m\n",
      "\u001b[92m✓\u001b[0m \"assay\" is validated against \u001b[3mExperimentalFactor.name\u001b[0m\n",
      "\u001b[92m✓\u001b[0m \"cell_type\" is validated against \u001b[3mCellType.name\u001b[0m\n",
      "\u001b[92m✓\u001b[0m \"development_stage\" is validated against \u001b[3mDevelopmentalStage.name\u001b[0m\n",
      "\u001b[92m✓\u001b[0m \"disease\" is validated against \u001b[3mDisease.name\u001b[0m\n",
      "\u001b[92m✓\u001b[0m \"self_reported_ethnicity\" is validated against \u001b[3mEthnicity.name\u001b[0m\n",
      "\u001b[92m✓\u001b[0m \"sex_ontology_term_id\" is validated against \u001b[3mPhenotype.ontology_id\u001b[0m\n",
      "\u001b[92m✓\u001b[0m \"suspension_type\" is validated against \u001b[3mULabel.name\u001b[0m\n",
      "\u001b[94m•\u001b[0m mapping \"tissue\" on \u001b[3mTissue.name\u001b[0m\n",
      "\u001b[93m!\u001b[0m   \u001b[1;91m1 term\u001b[0m is not validated: \u001b[1;91m'lungg'\u001b[0m\n",
      "    → fix typos, remove non-existent values, or save terms via \u001b[1;96m.add_new_from(\"tissue\")\u001b[0m\n",
      "\u001b[92m✓\u001b[0m \"tissue_type\" is validated against \u001b[3mULabel.name\u001b[0m\n",
      "\u001b[92m✓\u001b[0m \"organism\" is validated against \u001b[3mOrganism.name\u001b[0m\n"
     ]
    },
    {
     "data": {
      "text/plain": [
       "False"
      ]
     },
     "execution_count": 6,
     "metadata": {},
     "output_type": "execute_result"
    }
   ],
   "source": [
    "validated = curator.validate()\n",
    "validated"
   ]
  },
  {
   "cell_type": "markdown",
   "id": "19d016a6",
   "metadata": {},
   "source": [
    "## Remove unvalidated values"
   ]
  },
  {
   "cell_type": "markdown",
   "id": "d55bbb62",
   "metadata": {},
   "source": [
    "We remove all unvalidated genes.\n",
    "These genes may exist in a different release of ensembl but are not valid for the ensembl version of cellxgene schema 5.0.0 (ensembl release 110)."
   ]
  },
  {
   "cell_type": "code",
   "execution_count": 7,
   "id": "c9705181",
   "metadata": {
    "tags": [
     "hide-output"
    ]
   },
   "outputs": [
    {
     "data": {
      "text/plain": [
       "{'tissue': ['lungg'],\n",
       " 'var_index': ['ENSG00000269933',\n",
       "  'ENSG00000261737',\n",
       "  'ENSG00000259834',\n",
       "  'ENSG00000256374',\n",
       "  'ENSG00000263464',\n",
       "  'ENSG00000203812',\n",
       "  'ENSG00000272196',\n",
       "  'ENSG00000272880',\n",
       "  'ENSG00000270188',\n",
       "  'ENSG00000287116',\n",
       "  'ENSG00000237133',\n",
       "  'ENSG00000224739',\n",
       "  'ENSG00000227902',\n",
       "  'ENSG00000239467',\n",
       "  'ENSG00000272551',\n",
       "  'ENSG00000280374',\n",
       "  'ENSG00000236886',\n",
       "  'ENSG00000229352',\n",
       "  'ENSG00000286601',\n",
       "  'ENSG00000227021',\n",
       "  'ENSG00000259855',\n",
       "  'ENSG00000273301',\n",
       "  'ENSG00000271870',\n",
       "  'ENSG00000237838',\n",
       "  'ENSG00000286996',\n",
       "  'ENSG00000269028',\n",
       "  'ENSG00000286699',\n",
       "  'ENSG00000273370',\n",
       "  'ENSG00000261490',\n",
       "  'ENSG00000272567',\n",
       "  'ENSG00000270394',\n",
       "  'ENSG00000272370',\n",
       "  'ENSG00000272354',\n",
       "  'ENSG00000251044',\n",
       "  'ENSG00000272040',\n",
       "  'ENSG00000182230',\n",
       "  'ENSG00000204092',\n",
       "  'ENSG00000261068',\n",
       "  'ENSG00000236740',\n",
       "  'ENSG00000236996',\n",
       "  'ENSG00000232295',\n",
       "  'ENSG00000271734',\n",
       "  'ENSG00000236673',\n",
       "  'ENSG00000227220',\n",
       "  'ENSG00000236166',\n",
       "  'ENSG00000112096',\n",
       "  'ENSG00000285162',\n",
       "  'ENSG00000286228',\n",
       "  'ENSG00000237513',\n",
       "  'ENSG00000285106',\n",
       "  'ENSG00000226380',\n",
       "  'ENSG00000270672',\n",
       "  'ENSG00000225932',\n",
       "  'ENSG00000244693',\n",
       "  'ENSG00000268955',\n",
       "  'ENSG00000272267',\n",
       "  'ENSG00000253878',\n",
       "  'ENSG00000259820',\n",
       "  'ENSG00000226403',\n",
       "  'ENSG00000233776',\n",
       "  'ENSG00000269900',\n",
       "  'ENSG00000261534',\n",
       "  'ENSG00000237548',\n",
       "  'ENSG00000239665',\n",
       "  'ENSG00000256892',\n",
       "  'ENSG00000249860',\n",
       "  'ENSG00000271409',\n",
       "  'ENSG00000224745',\n",
       "  'ENSG00000261438',\n",
       "  'ENSG00000231575',\n",
       "  'ENSG00000260461',\n",
       "  'ENSG00000255823',\n",
       "  'ENSG00000254740',\n",
       "  'ENSG00000254561',\n",
       "  'ENSG00000282080',\n",
       "  'ENSG00000256427',\n",
       "  'ENSG00000287388',\n",
       "  'ENSG00000276814',\n",
       "  'ENSG00000280710',\n",
       "  'ENSG00000215271',\n",
       "  'ENSG00000258414',\n",
       "  'ENSG00000258808',\n",
       "  'ENSG00000277050',\n",
       "  'ENSG00000273888',\n",
       "  'ENSG00000258861',\n",
       "  'ENSG00000259444',\n",
       "  'ENSG00000244952',\n",
       "  'ENSG00000273923',\n",
       "  'ENSG00000262668',\n",
       "  'ENSG00000232196',\n",
       "  'ENSG00000256618',\n",
       "  'ENSG00000221995',\n",
       "  'ENSG00000226377',\n",
       "  'ENSG00000273576',\n",
       "  'ENSG00000267637',\n",
       "  'ENSG00000282965',\n",
       "  'ENSG00000273837',\n",
       "  'ENSG00000286949',\n",
       "  'ENSG00000256222',\n",
       "  'ENSG00000280095',\n",
       "  'ENSG00000278927',\n",
       "  'ENSG00000278955',\n",
       "  'ENSG00000277352',\n",
       "  'ENSG00000239446',\n",
       "  'ENSG00000256045',\n",
       "  'ENSG00000228906',\n",
       "  'ENSG00000228139',\n",
       "  'ENSG00000261773',\n",
       "  'ENSG00000278198',\n",
       "  'ENSG00000273496',\n",
       "  'ENSG00000277666',\n",
       "  'ENSG00000278782',\n",
       "  'ENSG00000277761']}"
      ]
     },
     "execution_count": 7,
     "metadata": {},
     "output_type": "execute_result"
    }
   ],
   "source": [
    "curator.non_validated"
   ]
  },
  {
   "cell_type": "code",
   "execution_count": 45,
   "id": "99372d42",
   "metadata": {},
   "outputs": [],
   "source": [
    "adata = adata[:, ~adata.var.index.isin(curator.non_validated[\"var_index\"])].copy()\n",
    "if adata.raw is not None:\n",
    "    raw_data = adata.raw.to_adata()\n",
    "    raw_data = raw_data[\n",
    "        :, ~raw_data.var_names.isin(curator.non_validated[\"var_index\"])\n",
    "    ].copy()\n",
    "    adata.raw = raw_data"
   ]
  },
  {
   "cell_type": "code",
   "execution_count": 46,
   "id": "c56d1fef",
   "metadata": {},
   "outputs": [],
   "source": [
    "curator = ln.curators.CellxGeneAnnDataCatManager(\n",
    "    adata, organism=\"human\", schema_version=\"5.1.0\"\n",
    ")"
   ]
  },
  {
   "cell_type": "markdown",
   "id": "7c157df6",
   "metadata": {},
   "source": [
    "## Register new metadata labels\n",
    "\n",
    "Following the suggestions above to register genes and labels that aren't present in the current instance:\n",
    "\n",
    "(Note that our instance is rather empty. Once you filled up the registries, registering new labels won't be frequently needed)"
   ]
  },
  {
   "cell_type": "markdown",
   "id": "0861e207",
   "metadata": {},
   "source": [
    "An error is shown for the tissue label \"lungg\", which is a typo, should be \"lung\". Let's fix it:"
   ]
  },
  {
   "cell_type": "code",
   "execution_count": 47,
   "id": "ba61e42a",
   "metadata": {
    "tags": [
     "hide-output"
    ]
   },
   "outputs": [
    {
     "data": {
      "text/plain": [
       "Tissue(ontology_id='UBERON:0002048', name='lung', definition='Respiration Organ That Develops As An Outpocketing Of The Esophagus.', synonyms='pulmo', parents=array(['UBERON:0015212', 'UBERON:0005178', 'UBERON:0000171',\n",
       "       'UBERON:0004119'], dtype=object))"
      ]
     },
     "execution_count": 47,
     "metadata": {},
     "output_type": "execute_result"
    }
   ],
   "source": [
    "tissues = curator.lookup(public=True).tissue\n",
    "tissues.lung"
   ]
  },
  {
   "cell_type": "code",
   "execution_count": 48,
   "id": "daeb0568",
   "metadata": {
    "tags": [
     "hide-output"
    ]
   },
   "outputs": [],
   "source": [
    "adata.obs[\"tissue\"] = adata.obs[\"tissue\"].cat.rename_categories(\n",
    "    {\"lungg\": tissues.lung.name}\n",
    ")"
   ]
  },
  {
   "cell_type": "markdown",
   "id": "1f3cd3a9",
   "metadata": {},
   "source": [
    "Let's validate the object again:"
   ]
  },
  {
   "cell_type": "code",
   "execution_count": 49,
   "id": "1a90599b",
   "metadata": {
    "tags": [
     "hide-output"
    ]
   },
   "outputs": [
    {
     "name": "stdout",
     "output_type": "stream",
     "text": [
      "\u001b[92m✓\u001b[0m \"var_index\" is validated against \u001b[3mGene.ensembl_gene_id\u001b[0m\n",
      "\u001b[92m✓\u001b[0m \"assay\" is validated against \u001b[3mExperimentalFactor.name\u001b[0m\n",
      "\u001b[92m✓\u001b[0m \"cell_type\" is validated against \u001b[3mCellType.name\u001b[0m\n",
      "\u001b[92m✓\u001b[0m \"development_stage\" is validated against \u001b[3mDevelopmentalStage.name\u001b[0m\n",
      "\u001b[92m✓\u001b[0m \"disease\" is validated against \u001b[3mDisease.name\u001b[0m\n",
      "\u001b[92m✓\u001b[0m \"self_reported_ethnicity\" is validated against \u001b[3mEthnicity.name\u001b[0m\n",
      "\u001b[92m✓\u001b[0m \"sex_ontology_term_id\" is validated against \u001b[3mPhenotype.ontology_id\u001b[0m\n",
      "\u001b[92m✓\u001b[0m \"suspension_type\" is validated against \u001b[3mULabel.name\u001b[0m\n",
      "\u001b[92m✓\u001b[0m \"tissue\" is validated against \u001b[3mTissue.name\u001b[0m\n",
      "\u001b[92m✓\u001b[0m \"tissue_type\" is validated against \u001b[3mULabel.name\u001b[0m\n",
      "\u001b[92m✓\u001b[0m \"organism\" is validated against \u001b[3mOrganism.name\u001b[0m\n"
     ]
    },
    {
     "data": {
      "text/plain": [
       "True"
      ]
     },
     "execution_count": 49,
     "metadata": {},
     "output_type": "execute_result"
    }
   ],
   "source": [
    "validated = curator.validate()\n",
    "validated"
   ]
  },
  {
   "cell_type": "code",
   "execution_count": 50,
   "id": "7200420f",
   "metadata": {
    "tags": [
     "hide-output"
    ]
   },
   "outputs": [
    {
     "data": {
      "text/html": [
       "<div>\n",
       "<style scoped>\n",
       "    .dataframe tbody tr th:only-of-type {\n",
       "        vertical-align: middle;\n",
       "    }\n",
       "\n",
       "    .dataframe tbody tr th {\n",
       "        vertical-align: top;\n",
       "    }\n",
       "\n",
       "    .dataframe thead th {\n",
       "        text-align: right;\n",
       "    }\n",
       "</style>\n",
       "<table border=\"1\" class=\"dataframe\">\n",
       "  <thead>\n",
       "    <tr style=\"text-align: right;\">\n",
       "      <th></th>\n",
       "      <th>donor_id</th>\n",
       "      <th>tissue</th>\n",
       "      <th>cell_type</th>\n",
       "      <th>assay</th>\n",
       "      <th>sex_ontology_term_id</th>\n",
       "      <th>organism</th>\n",
       "      <th>sex</th>\n",
       "      <th>development_stage</th>\n",
       "      <th>disease</th>\n",
       "      <th>self_reported_ethnicity</th>\n",
       "      <th>suspension_type</th>\n",
       "      <th>tissue_type</th>\n",
       "    </tr>\n",
       "  </thead>\n",
       "  <tbody>\n",
       "    <tr>\n",
       "      <th>CZINY-0109_CTGGTCTAGTCTGTAC</th>\n",
       "      <td>D496-1</td>\n",
       "      <td>blood</td>\n",
       "      <td>classical monocyte</td>\n",
       "      <td>10x 3' v3</td>\n",
       "      <td>PATO:0000384</td>\n",
       "      <td>human</td>\n",
       "      <td>unknown</td>\n",
       "      <td>unknown</td>\n",
       "      <td>normal</td>\n",
       "      <td>unknown</td>\n",
       "      <td>cell</td>\n",
       "      <td>tissue</td>\n",
       "    </tr>\n",
       "    <tr>\n",
       "      <th>CZI-IA10244332+CZI-IA10244434_CCTTCGACATACTCTT</th>\n",
       "      <td>621B-1</td>\n",
       "      <td>thoracic lymph node</td>\n",
       "      <td>T follicular helper cell</td>\n",
       "      <td>10x 5' v2</td>\n",
       "      <td>PATO:0000384</td>\n",
       "      <td>human</td>\n",
       "      <td>unknown</td>\n",
       "      <td>unknown</td>\n",
       "      <td>normal</td>\n",
       "      <td>unknown</td>\n",
       "      <td>cell</td>\n",
       "      <td>tissue</td>\n",
       "    </tr>\n",
       "    <tr>\n",
       "      <th>Pan_T7935491_CTGGTCTGTACATGTC</th>\n",
       "      <td>A29-1</td>\n",
       "      <td>spleen</td>\n",
       "      <td>memory B cell</td>\n",
       "      <td>10x 5' v1</td>\n",
       "      <td>PATO:0000384</td>\n",
       "      <td>human</td>\n",
       "      <td>unknown</td>\n",
       "      <td>unknown</td>\n",
       "      <td>normal</td>\n",
       "      <td>unknown</td>\n",
       "      <td>cell</td>\n",
       "      <td>tissue</td>\n",
       "    </tr>\n",
       "    <tr>\n",
       "      <th>Pan_T7980367_GGGCATCCAGGTGGAT</th>\n",
       "      <td>A36-1</td>\n",
       "      <td>lung</td>\n",
       "      <td>alveolar macrophage</td>\n",
       "      <td>10x 5' v1</td>\n",
       "      <td>PATO:0000384</td>\n",
       "      <td>human</td>\n",
       "      <td>unknown</td>\n",
       "      <td>unknown</td>\n",
       "      <td>normal</td>\n",
       "      <td>unknown</td>\n",
       "      <td>cell</td>\n",
       "      <td>tissue</td>\n",
       "    </tr>\n",
       "    <tr>\n",
       "      <th>Pan_T7935494_ATCATGGTCTACCTGC</th>\n",
       "      <td>A29-1</td>\n",
       "      <td>mesenteric lymph node</td>\n",
       "      <td>naive thymus-derived CD4-positive, alpha-beta ...</td>\n",
       "      <td>10x 5' v1</td>\n",
       "      <td>PATO:0000384</td>\n",
       "      <td>human</td>\n",
       "      <td>unknown</td>\n",
       "      <td>unknown</td>\n",
       "      <td>normal</td>\n",
       "      <td>unknown</td>\n",
       "      <td>cell</td>\n",
       "      <td>tissue</td>\n",
       "    </tr>\n",
       "  </tbody>\n",
       "</table>\n",
       "</div>"
      ],
      "text/plain": [
       "                                               donor_id  \\\n",
       "CZINY-0109_CTGGTCTAGTCTGTAC                      D496-1   \n",
       "CZI-IA10244332+CZI-IA10244434_CCTTCGACATACTCTT   621B-1   \n",
       "Pan_T7935491_CTGGTCTGTACATGTC                     A29-1   \n",
       "Pan_T7980367_GGGCATCCAGGTGGAT                     A36-1   \n",
       "Pan_T7935494_ATCATGGTCTACCTGC                     A29-1   \n",
       "\n",
       "                                                               tissue  \\\n",
       "CZINY-0109_CTGGTCTAGTCTGTAC                                     blood   \n",
       "CZI-IA10244332+CZI-IA10244434_CCTTCGACATACTCTT    thoracic lymph node   \n",
       "Pan_T7935491_CTGGTCTGTACATGTC                                  spleen   \n",
       "Pan_T7980367_GGGCATCCAGGTGGAT                                    lung   \n",
       "Pan_T7935494_ATCATGGTCTACCTGC                   mesenteric lymph node   \n",
       "\n",
       "                                                                                        cell_type  \\\n",
       "CZINY-0109_CTGGTCTAGTCTGTAC                                                    classical monocyte   \n",
       "CZI-IA10244332+CZI-IA10244434_CCTTCGACATACTCTT                           T follicular helper cell   \n",
       "Pan_T7935491_CTGGTCTGTACATGTC                                                       memory B cell   \n",
       "Pan_T7980367_GGGCATCCAGGTGGAT                                                 alveolar macrophage   \n",
       "Pan_T7935494_ATCATGGTCTACCTGC                   naive thymus-derived CD4-positive, alpha-beta ...   \n",
       "\n",
       "                                                    assay  \\\n",
       "CZINY-0109_CTGGTCTAGTCTGTAC                     10x 3' v3   \n",
       "CZI-IA10244332+CZI-IA10244434_CCTTCGACATACTCTT  10x 5' v2   \n",
       "Pan_T7935491_CTGGTCTGTACATGTC                   10x 5' v1   \n",
       "Pan_T7980367_GGGCATCCAGGTGGAT                   10x 5' v1   \n",
       "Pan_T7935494_ATCATGGTCTACCTGC                   10x 5' v1   \n",
       "\n",
       "                                               sex_ontology_term_id organism  \\\n",
       "CZINY-0109_CTGGTCTAGTCTGTAC                            PATO:0000384    human   \n",
       "CZI-IA10244332+CZI-IA10244434_CCTTCGACATACTCTT         PATO:0000384    human   \n",
       "Pan_T7935491_CTGGTCTGTACATGTC                          PATO:0000384    human   \n",
       "Pan_T7980367_GGGCATCCAGGTGGAT                          PATO:0000384    human   \n",
       "Pan_T7935494_ATCATGGTCTACCTGC                          PATO:0000384    human   \n",
       "\n",
       "                                                    sex development_stage  \\\n",
       "CZINY-0109_CTGGTCTAGTCTGTAC                     unknown           unknown   \n",
       "CZI-IA10244332+CZI-IA10244434_CCTTCGACATACTCTT  unknown           unknown   \n",
       "Pan_T7935491_CTGGTCTGTACATGTC                   unknown           unknown   \n",
       "Pan_T7980367_GGGCATCCAGGTGGAT                   unknown           unknown   \n",
       "Pan_T7935494_ATCATGGTCTACCTGC                   unknown           unknown   \n",
       "\n",
       "                                               disease  \\\n",
       "CZINY-0109_CTGGTCTAGTCTGTAC                     normal   \n",
       "CZI-IA10244332+CZI-IA10244434_CCTTCGACATACTCTT  normal   \n",
       "Pan_T7935491_CTGGTCTGTACATGTC                   normal   \n",
       "Pan_T7980367_GGGCATCCAGGTGGAT                   normal   \n",
       "Pan_T7935494_ATCATGGTCTACCTGC                   normal   \n",
       "\n",
       "                                               self_reported_ethnicity  \\\n",
       "CZINY-0109_CTGGTCTAGTCTGTAC                                    unknown   \n",
       "CZI-IA10244332+CZI-IA10244434_CCTTCGACATACTCTT                 unknown   \n",
       "Pan_T7935491_CTGGTCTGTACATGTC                                  unknown   \n",
       "Pan_T7980367_GGGCATCCAGGTGGAT                                  unknown   \n",
       "Pan_T7935494_ATCATGGTCTACCTGC                                  unknown   \n",
       "\n",
       "                                               suspension_type tissue_type  \n",
       "CZINY-0109_CTGGTCTAGTCTGTAC                               cell      tissue  \n",
       "CZI-IA10244332+CZI-IA10244434_CCTTCGACATACTCTT            cell      tissue  \n",
       "Pan_T7935491_CTGGTCTGTACATGTC                             cell      tissue  \n",
       "Pan_T7980367_GGGCATCCAGGTGGAT                             cell      tissue  \n",
       "Pan_T7935494_ATCATGGTCTACCTGC                             cell      tissue  "
      ]
     },
     "execution_count": 50,
     "metadata": {},
     "output_type": "execute_result"
    }
   ],
   "source": [
    "adata.obs.head()"
   ]
  },
  {
   "cell_type": "markdown",
   "id": "38a30170",
   "metadata": {},
   "source": [
    "## Save artifact"
   ]
  },
  {
   "cell_type": "code",
   "execution_count": null,
   "id": "7a43d9b8",
   "metadata": {
    "tags": [
     "hide-output"
    ]
   },
   "outputs": [],
   "source": [
    "artifact = curator.save_artifact(\n",
    "    key=f\"my_datasets/dataset-curated-against-cellxgene-schema-{curator.schema_version}\"\n",
    ")"
   ]
  },
  {
   "cell_type": "code",
   "execution_count": null,
   "id": "f12ec345",
   "metadata": {
    "tags": [
     "hide-output"
    ]
   },
   "outputs": [],
   "source": [
    "artifact.describe()"
   ]
  },
  {
   "cell_type": "markdown",
   "id": "9eea92a2",
   "metadata": {},
   "source": [
    "## Return an input h5ad file for cellxgene-schema"
   ]
  },
  {
   "cell_type": "code",
   "execution_count": null,
   "id": "bced90a1",
   "metadata": {
    "tags": [
     "hide-output"
    ]
   },
   "outputs": [],
   "source": [
    "title = \"Cross-tissue immune cell analysis reveals tissue-specific features in humans (for test demo only)\"\n",
    "adata_cxg = curator.to_cellxgene_anndata(is_primary_data=True, title=title)\n",
    "adata_cxg"
   ]
  },
  {
   "cell_type": "code",
   "execution_count": null,
   "id": "85d32f4c",
   "metadata": {},
   "outputs": [],
   "source": [
    "adata_cxg.write_h5ad(\"anndata_human_immune_cells_cxg.h5ad\")"
   ]
  },
  {
   "cell_type": "code",
   "execution_count": null,
   "id": "c0b222ca",
   "metadata": {
    "tags": [
     "hide-output"
    ]
   },
   "outputs": [],
   "source": [
    "!MPLBACKEND=agg uvx cellxgene-schema validate anndata_human_immune_cells_cxg.h5ad || exit 1"
   ]
  },
  {
   "cell_type": "markdown",
   "id": "a91245ad",
   "metadata": {},
   "source": [
    "```{note}\n",
    "\n",
    "The Curate class is designed to validate all metadata for adherence to ontologies.\n",
    "It does not reimplement all rules of the cellxgene schema and we therefore recommend running the [cellxgene-schema](https://github.com/chanzuckerberg/single-cell-curation) if full adherence beyond metadata is a necessity.\n",
    "```"
   ]
  }
 ],
 "metadata": {
  "kernelspec": {
   "display_name": "py312",
   "language": "python",
   "name": "python3"
  },
  "language_info": {
   "codemirror_mode": {
    "name": "ipython",
    "version": 3
   },
   "file_extension": ".py",
   "mimetype": "text/x-python",
   "name": "python",
   "nbconvert_exporter": "python",
   "pygments_lexer": "ipython3",
   "version": "3.12.8"
  },
  "nbproject": {
   "id": "WOK3vP0bNGLx",
   "parent": null,
   "pypackage": null,
   "time_init": "2023-12-20T04:27:49.536493+00:00",
   "user_handle": null,
   "user_id": null,
   "user_name": null,
   "version": "0"
  }
 },
 "nbformat": 4,
 "nbformat_minor": 5
}
