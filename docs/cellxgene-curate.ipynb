{
 "cells": [
  {
   "cell_type": "markdown",
   "id": "1d2cd769",
   "metadata": {},
   "source": [
    "# Curate `AnnData` based on the CELLxGENE schema\n",
    "\n",
    "This guide shows how to curate an AnnData object with the help of [`laminlabs/cellxgene`](https://lamin.ai/laminlabs/cellxgene) against the [CELLxGENE schema v5.2.0](https://github.com/chanzuckerberg/single-cell-curation/blob/main/schema/5.2.0/schema.md)."
   ]
  },
  {
   "cell_type": "code",
   "execution_count": null,
   "id": "74008c61",
   "metadata": {
    "tags": [
     "hide-output"
    ]
   },
   "outputs": [],
   "source": [
    "# pip install 'lamindb[bionty,jupyter]' pronto\n",
    "# cellxgene-schema has pinned dependencies. Therefore we recommend installing it into a separate environment using `uv` or `pipx`\n",
    "# uv tool install cellxgene-schema==5.2.3\n",
    "\n",
    "!lamin init --storage ./test-cellxgene-curate --modules bionty"
   ]
  },
  {
   "cell_type": "code",
   "execution_count": null,
   "id": "a691aae0",
   "metadata": {
    "tags": [
     "hide-output"
    ]
   },
   "outputs": [],
   "source": [
    "import lamindb as ln\n",
    "import bionty as bt\n",
    "\n",
    "ln.track()"
   ]
  },
  {
   "cell_type": "markdown",
   "id": "9661001f",
   "metadata": {},
   "source": [
    "## The CELLxGENE schema"
   ]
  },
  {
   "cell_type": "markdown",
   "id": "daef19ca",
   "metadata": {},
   "source": [
    "As a first step, we generate the specific CELLxGENE schema which adds missing sources to the instance:"
   ]
  },
  {
   "cell_type": "code",
   "execution_count": null,
   "id": "20d2444f",
   "metadata": {
    "tags": [
     "hide-output"
    ]
   },
   "outputs": [],
   "source": [
    "cxg_schema = ln.examples.cellxgene.get_cxg_schema(\"5.2.0\")"
   ]
  },
  {
   "cell_type": "code",
   "execution_count": null,
   "id": "71f08977",
   "metadata": {
    "tags": [
     "hide-output"
    ]
   },
   "outputs": [],
   "source": [
    "cxg_schema.describe()"
   ]
  },
  {
   "cell_type": "markdown",
   "id": "c838a74f",
   "metadata": {},
   "source": [
    "The schema has two components:"
   ]
  },
  {
   "cell_type": "code",
   "execution_count": null,
   "id": "342cf35c",
   "metadata": {
    "tags": [
     "hide-output"
    ]
   },
   "outputs": [],
   "source": [
    "cxg_schema.slots[\"var\"].describe()"
   ]
  },
  {
   "cell_type": "code",
   "execution_count": null,
   "id": "cc17f002",
   "metadata": {
    "tags": [
     "hide-output"
    ]
   },
   "outputs": [],
   "source": [
    "cxg_schema.slots[\"obs\"].describe()"
   ]
  },
  {
   "cell_type": "markdown",
   "id": "202cd880",
   "metadata": {},
   "source": [
    "In the following, we will validate a dataset the CELLxGENE schema and curate it."
   ]
  },
  {
   "cell_type": "markdown",
   "id": "946a3371",
   "metadata": {},
   "source": [
    "## Validate and curate metadata"
   ]
  },
  {
   "cell_type": "markdown",
   "id": "52bbbac2",
   "metadata": {},
   "source": [
    "Let's start with an AnnData object that we would like to curate.\n",
    "We are writing it to disk to run [CZI's cellxgene-schema CLI tool](https://github.com/chanzuckerberg/single-cell-curation) which verifies whether an on-disk h5ad dataset adheres all requirements of CELLxGENE including the CELLxGENE schema."
   ]
  },
  {
   "cell_type": "code",
   "execution_count": null,
   "id": "9cec7bf7",
   "metadata": {
    "tags": [
     "hide-output"
    ]
   },
   "outputs": [],
   "source": [
    "adata = ln.core.datasets.small_dataset3_cellxgene(with_obs_typo=True)\n",
    "adata.write_h5ad(\"small_cxg.h5ad\")\n",
    "adata"
   ]
  },
  {
   "cell_type": "markdown",
   "id": "c72018c0",
   "metadata": {},
   "source": [
    "Initially, the cellxgene-schema validator of CZI does not pass and we need to curate the dataset."
   ]
  },
  {
   "cell_type": "code",
   "execution_count": null,
   "id": "de5788f8",
   "metadata": {
    "tags": [
     "hide-output"
    ]
   },
   "outputs": [],
   "source": [
    "!MPLBACKEND=agg uvx cellxgene-schema validate small_cxg.h5ad"
   ]
  },
  {
   "cell_type": "markdown",
   "id": "2a78fca4",
   "metadata": {},
   "source": [
    "CELLxGENE requires all observations to be annotated.\n",
    "If information for a specific column like `disease_ontology_term_id` is not available, CELLxGENE requires to fall back to default values like \"normal\" or \"unknown\".\n",
    "Let's save these defaults to the instance using {func}`lamindb.examples.cellxgene.save_cxg_defaults`:"
   ]
  },
  {
   "cell_type": "code",
   "execution_count": null,
   "id": "e2896b83",
   "metadata": {
    "tags": [
     "hide-output"
    ]
   },
   "outputs": [],
   "source": [
    "ln.examples.cellxgene.save_cxg_defaults()"
   ]
  },
  {
   "cell_type": "markdown",
   "id": "beacb17e",
   "metadata": {},
   "source": [
    "Now we can start curating the dataset:"
   ]
  },
  {
   "cell_type": "code",
   "execution_count": null,
   "id": "01b90450",
   "metadata": {
    "tags": [
     "hide-output"
    ]
   },
   "outputs": [],
   "source": [
    "curator = ln.curators.AnnDataCurator(adata, cxg_schema)\n",
    "try:\n",
    "    curator.validate()\n",
    "except ln.errors.ValidationError as e:\n",
    "    print(e)"
   ]
  },
  {
   "cell_type": "markdown",
   "id": "e2300f7a",
   "metadata": {},
   "source": [
    "The error shows invalid genes are present in the dataset.\n",
    "Let's remove them from both the `adata` and `adata.raw` objects:"
   ]
  },
  {
   "cell_type": "code",
   "execution_count": null,
   "id": "a803600a",
   "metadata": {
    "tags": [
     "hide-output"
    ]
   },
   "outputs": [],
   "source": [
    "adata = adata[\n",
    "    :, ~adata.var.index.isin(curator.slots[\"var\"].cat.non_validated[\"index\"])\n",
    "].copy()\n",
    "if adata.raw is not None:\n",
    "    raw_data = adata.raw.to_adata()\n",
    "    raw_data = raw_data[\n",
    "        :, ~raw_data.var.index.isin(curator.slots[\"var\"].cat.non_validated[\"index\"])\n",
    "    ].copy()\n",
    "    adata.raw = raw_data"
   ]
  },
  {
   "cell_type": "markdown",
   "id": "a2a15206",
   "metadata": {},
   "source": [
    "As we've subsetted the AnnData object, we have to recreate the `AnnDataCurator` to validate again:"
   ]
  },
  {
   "cell_type": "code",
   "execution_count": null,
   "id": "9bf2d985",
   "metadata": {},
   "outputs": [],
   "source": [
    "curator = ln.curators.AnnDataCurator(adata, cxg_schema)\n",
    "try:\n",
    "    curator.validate()\n",
    "except ln.errors.ValidationError as e:\n",
    "    print(e)"
   ]
  },
  {
   "cell_type": "markdown",
   "id": "796f951b",
   "metadata": {},
   "source": [
    "The validation error tells us that we're missing several columns.\n",
    "The reason is simple:\n",
    "CELLxGENE requires all `obs` metadata to be stored as ontology IDs in `entity_ontology_term_id` columns.\n",
    "Therefore, we first translate the `name` based `obs` columns into the required format."
   ]
  },
  {
   "cell_type": "code",
   "execution_count": null,
   "id": "fef674c2",
   "metadata": {
    "tags": [
     "hide-output"
    ]
   },
   "outputs": [],
   "source": [
    "adata.obs"
   ]
  },
  {
   "cell_type": "code",
   "execution_count": null,
   "id": "d622979f",
   "metadata": {
    "tags": [
     "hide-output"
    ]
   },
   "outputs": [],
   "source": [
    "# Add missing assay column\n",
    "adata.obs[\"assay_ontology_term_id\"] = \"EFO:0005684\"\n",
    "# Add `entity_ontology_term_id` columns by translating names to ontology IDs\n",
    "standardization_map = {\n",
    "    \"organism\": (bt.Organism, \"organism_ontology_term_id\"),\n",
    "    \"self_reported_ethnicity\": (\n",
    "        bt.Ethnicity,\n",
    "        \"self_reported_ethnicity_ontology_term_id\",\n",
    "    ),\n",
    "    \"cell_type\": (bt.CellType, \"cell_type_ontology_term_id\"),\n",
    "}\n",
    "\n",
    "for col, (bt_class, new_col) in standardization_map.items():\n",
    "    adata.obs[new_col] = bt_class.standardize(\n",
    "        adata.obs[col], field=\"name\", return_field=\"ontology_id\"\n",
    "    )\n",
    "# Drop the name columns because CELLxGENE disallows them\n",
    "adata.obs = adata.obs.drop(columns=list(standardization_map.keys()))"
   ]
  },
  {
   "cell_type": "code",
   "execution_count": null,
   "id": "9703a052",
   "metadata": {},
   "outputs": [],
   "source": [
    "# recreating the object because we dropped `obs` columns\n",
    "curator = ln.curators.AnnDataCurator(adata, cxg_schema)\n",
    "try:\n",
    "    curator.validate()\n",
    "except ln.errors.ValidationError as e:\n",
    "    print(e)"
   ]
  },
  {
   "cell_type": "markdown",
   "id": "532de0e3",
   "metadata": {},
   "source": [
    "An error is shown for the tissue label “UBERON:0002048XXX” because it contains a few extra `X` - a typo.\n",
    "Let’s fix it:"
   ]
  },
  {
   "cell_type": "code",
   "execution_count": null,
   "id": "ba6c3cd7",
   "metadata": {
    "tags": [
     "hide-output"
    ]
   },
   "outputs": [],
   "source": [
    "adata.obs[\"tissue_ontology_term_id\"] = adata.obs[\"tissue_ontology_term_id\"].replace(\n",
    "    {\"UBERON:0002048XXX\": \"UBERON:0002048\"}\n",
    ")"
   ]
  },
  {
   "cell_type": "markdown",
   "id": "bb62ba7d",
   "metadata": {},
   "source": [
    "Now `validate` should pass."
   ]
  },
  {
   "cell_type": "code",
   "execution_count": null,
   "id": "ce4a46e4",
   "metadata": {
    "tags": [
     "hide-output"
    ]
   },
   "outputs": [],
   "source": [
    "curator.validate()"
   ]
  },
  {
   "cell_type": "markdown",
   "id": "c0478ef5",
   "metadata": {},
   "source": [
    "## Save artifact"
   ]
  },
  {
   "cell_type": "markdown",
   "id": "27992971",
   "metadata": {},
   "source": [
    "We can now save the curated artifact:"
   ]
  },
  {
   "cell_type": "code",
   "execution_count": null,
   "id": "fe217e5f",
   "metadata": {
    "tags": [
     "hide-output"
    ]
   },
   "outputs": [],
   "source": [
    "artifact = curator.save_artifact(key=\"examples/dataset-curated-against-cxg.h5ad\")"
   ]
  },
  {
   "cell_type": "code",
   "execution_count": null,
   "id": "7bba8165",
   "metadata": {
    "tags": [
     "hide-output"
    ]
   },
   "outputs": [],
   "source": [
    "artifact.describe()"
   ]
  },
  {
   "cell_type": "markdown",
   "id": "ab3b6426",
   "metadata": {},
   "source": [
    "## Validating using cellxgene-schema"
   ]
  },
  {
   "cell_type": "markdown",
   "id": "6e3996e7",
   "metadata": {},
   "source": [
    "To validate the now curated AnnData object using [CZI's cellxgene-schema CLI tool](https://github.com/chanzuckerberg/single-cell-curation), we need to write the AnnData object to disk."
   ]
  },
  {
   "cell_type": "code",
   "execution_count": null,
   "id": "9a3b2df8",
   "metadata": {
    "tags": [
     "hide-output"
    ]
   },
   "outputs": [],
   "source": [
    "adata.write(\"small_cxg_curated.h5ad\")"
   ]
  },
  {
   "cell_type": "code",
   "execution_count": null,
   "id": "bd529a46",
   "metadata": {
    "tags": [
     "hide-output"
    ]
   },
   "outputs": [],
   "source": [
    "# %%bash -e\n",
    "!MPLBACKEND=agg uvx cellxgene-schema validate small_cxg_curated.h5ad"
   ]
  },
  {
   "cell_type": "markdown",
   "id": "a91245ad",
   "metadata": {},
   "source": [
    "```{note}\n",
    "\n",
    "The Curate class is designed to validate all metadata for adherence to ontologies.\n",
    "It does not reimplement all rules of the cellxgene schema and we therefore recommend running the [cellxgene-schema](https://github.com/chanzuckerberg/single-cell-curation) if full adherence beyond metadata is a necessity.\n",
    "```"
   ]
  }
 ],
 "metadata": {
  "kernelspec": {
   "display_name": "lamindb",
   "language": "python",
   "name": "python3"
  },
  "language_info": {
   "codemirror_mode": {
    "name": "ipython",
    "version": 3
   },
   "file_extension": ".py",
   "mimetype": "text/x-python",
   "name": "python",
   "nbconvert_exporter": "python",
   "pygments_lexer": "ipython3",
   "version": "3.12.8"
  },
  "nbproject": {
   "id": "WOK3vP0bNGLx",
   "parent": null,
   "pypackage": null,
   "time_init": "2023-12-20T04:27:49.536493+00:00",
   "user_handle": null,
   "user_id": null,
   "user_name": null,
   "version": "0"
  }
 },
 "nbformat": 4,
 "nbformat_minor": 5
}
