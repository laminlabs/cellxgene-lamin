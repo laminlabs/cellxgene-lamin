{
 "cells": [
  {
   "cell_type": "markdown",
   "id": "24a4bf51",
   "metadata": {},
   "source": [
    "# bla"
   ]
  },
  {
   "cell_type": "markdown",
   "id": "b7cc45cd",
   "metadata": {},
   "source": [
    "# pip install 'lamindb[bionty,jupyter]' pronto\n",
    "# cellxgene-schema has pinned dependencies. Therefore we recommend installing it into a separate environment using `uv` or `pipx`\n",
    "# uv tool install cellxgene-schema==5.3.2\n",
    "\n",
    "!lamin init --storage ./test-cellxgene-curate --modules bionty"
   ]
  },
  {
   "cell_type": "code",
   "execution_count": null,
   "id": "f76e0e78",
   "metadata": {},
   "outputs": [],
   "source": [
    "import lamindb as ln\n",
    "import bionty as bt\n",
    "\n",
    "ln.settings.verbosity = \"error\""
   ]
  },
  {
   "cell_type": "code",
   "execution_count": null,
   "id": "1769c7e6",
   "metadata": {},
   "outputs": [],
   "source": [
    "adata = ln.core.datasets.small_dataset3_cellxgene(with_obs_defaults=True)\n",
    "adata.write_h5ad(\"small_cxg.h5ad\")\n",
    "adata"
   ]
  },
  {
   "cell_type": "code",
   "execution_count": null,
   "id": "02ff2d24",
   "metadata": {},
   "outputs": [],
   "source": [
    "!MPLBACKEND=agg uvx cellxgene-schema validate small_cxg.h5ad"
   ]
  }
 ],
 "metadata": {
  "language_info": {
   "name": "python"
  }
 },
 "nbformat": 4,
 "nbformat_minor": 5
}
