{
 "cells": [
  {
   "cell_type": "markdown",
   "id": "24a4bf51",
   "metadata": {},
   "source": [
    "# bla"
   ]
  },
  {
   "cell_type": "markdown",
   "id": "b7cc45cd",
   "metadata": {},
   "source": [
    "# pip install 'lamindb[bionty,jupyter]' pronto\n",
    "# cellxgene-schema has pinned dependencies. Therefore we recommend installing it into a separate environment using `uv` or `pipx`\n",
    "# uv tool install cellxgene-schema==5.3.2\n",
    "\n",
    "!lamin init --storage ./test-cellxgene-curate --modules bionty"
   ]
  },
  {
   "cell_type": "code",
   "execution_count": null,
   "id": "f76e0e78",
   "metadata": {},
   "outputs": [],
   "source": [
    "import lamindb as ln\n",
    "import bionty as bt\n",
    "\n",
    "ln.settings.verbosity = \"error\""
   ]
  },
  {
   "cell_type": "code",
   "execution_count": null,
   "id": "1769c7e6",
   "metadata": {},
   "outputs": [],
   "source": [
    "adata = ln.core.datasets.small_dataset3_cellxgene(with_obs_defaults=True)\n",
    "adata.write_h5ad(\"small_cxg.h5ad\")\n",
    "adata"
   ]
  },
  {
   "cell_type": "code",
   "execution_count": null,
   "id": "02ff2d24",
   "metadata": {},
   "outputs": [],
   "source": [
    "!MPLBACKEND=agg uvx cellxgene-schema validate small_cxg.h5ad"
   ]
  },
  {
   "cell_type": "code",
   "execution_count": null,
   "id": "03c87d2e",
   "metadata": {},
   "outputs": [],
   "source": [
    "ln.examples.cellxgene.save_cxg_defaults()"
   ]
  },
  {
   "cell_type": "code",
   "execution_count": null,
   "id": "56381730",
   "metadata": {},
   "outputs": [],
   "source": [
    "adata.obs"
   ]
  },
  {
   "cell_type": "code",
   "execution_count": null,
   "id": "03b45c02",
   "metadata": {},
   "outputs": [],
   "source": [
    "standardization_map = {\n",
    "    \"organism\": (bt.Organism, \"organism_ontology_term_id\"),\n",
    "    \"assay\": (bt.ExperimentalFactor, \"assay_ontology_term_id\"),\n",
    "    \"tissue\": (bt.Tissue, \"tissue_ontology_term_id\"),\n",
    "    \"self_reported_ethnicity\": (\n",
    "        bt.Ethnicity,\n",
    "        \"self_reported_ethnicity_ontology_term_id\",\n",
    "    ),\n",
    "    \"cell_type\": (bt.CellType, \"cell_type_ontology_term_id\"),\n",
    "}\n",
    "\n",
    "for col, (bt_class, new_col) in standardization_map.items():\n",
    "    adata.obs[new_col] = bt_class.standardize(\n",
    "        adata.obs[col], field=\"name\", return_field=\"ontology_id\"\n",
    "    )\n",
    "\n",
    "adata.obs = adata.obs.drop(columns=list(standardization_map.keys()))"
   ]
  },
  {
   "cell_type": "code",
   "execution_count": null,
   "id": "32e56ebe",
   "metadata": {},
   "outputs": [],
   "source": [
    "schema = ln.examples.cellxgene.get_cxg_schema(\"5.3.0\", field_types=\"ontology_id\")"
   ]
  },
  {
   "cell_type": "code",
   "execution_count": null,
   "id": "a463a56f",
   "metadata": {},
   "outputs": [],
   "source": []
  },
  {
   "cell_type": "code",
   "execution_count": null,
   "id": "c28a80f9",
   "metadata": {},
   "outputs": [],
   "source": []
  },
  {
   "cell_type": "code",
   "execution_count": null,
   "id": "300e6502",
   "metadata": {},
   "outputs": [],
   "source": []
  },
  {
   "cell_type": "code",
   "execution_count": null,
   "id": "47c64d76",
   "metadata": {},
   "outputs": [],
   "source": []
  }
 ],
 "metadata": {
  "language_info": {
   "name": "python"
  }
 },
 "nbformat": 4,
 "nbformat_minor": 5
}
